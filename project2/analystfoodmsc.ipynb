{
 "cells": [
  {
   "cell_type": "markdown",
   "id": "e06910dd",
   "metadata": {
    "id": "e06910dd"
   },
   "source": [
    "# Исследование рынка общественного питания в Москве\n",
    "\n",
    "- Автор:Ирина Севостьянова\n",
    "- Дата:26/05/2025"
   ]
  },
  {
   "cell_type": "markdown",
   "id": "4149134c",
   "metadata": {
    "id": "4149134c"
   },
   "source": [
    "### Цели и задачи проекта\n",
    "\n",
    "**Цель:** Провести исследовательский анализ рынка общественного питания в Москве с выявлением наиболее привлекательного сегмента для развития бизнеса.\n",
    "    \n",
    "**Задачи:** \n",
    "1. Загрузить данные и познакомиться с их содержимым.\n",
    "2. Провести предобработку данных.\n",
    "3. Провести исследовательский анализ данных:\n",
    "- изучить данные более детально;\n",
    "- изучить взаимосвязь данных в столбце `district` с другими данными.\n",
    "4. Сформулировать выводы по проведённому анализу."
   ]
  },
  {
   "cell_type": "markdown",
   "id": "728986ea",
   "metadata": {
    "id": "728986ea"
   },
   "source": [
    "### Описание данных\n",
    "\n",
    "Для анализа поступили данные о  заведениях общественного питания Москвы. Данные состоят из двух датасетов:\n",
    "- `datasets/rest_info.csv` - содержит информацию о заведениях общественного питания\n",
    "- `datasets/rest_price.csv` - содержит информацию о среднем чеке в заведениях общественного питания.\n",
    "\n",
    "Описание датасета `datasets/rest_info.csv`\n",
    "- `name` — название заведения;\n",
    "- `address` — адрес заведения;\n",
    "- `district` — административный район, в котором находится заведение;\n",
    "- `category` — категория заведения;\n",
    "- `hours` — информация о днях и часах работы;\n",
    "- `rating` — рейтинг заведения по оценкам пользователей в Яндекс Картах;\n",
    "- `chain` — число, которое показывает, является ли заведение сетевым:\n",
    "- `seats` — количество посадочных мест.\n",
    "\n",
    "Описание датасета `datasets/rest_price.csv`\n",
    "- `price` — категория цен в заведении;\n",
    "- `avg_bill` — средняя стоимость заказа в виде диапазона;\n",
    "- `middle_avg_bill` — число с оценкой среднего чека;\n",
    "- `middle_coffee_cup` — число с оценкой одной чашки капучино."
   ]
  },
  {
   "cell_type": "markdown",
   "id": "4fecaf95",
   "metadata": {
    "id": "4fecaf95"
   },
   "source": [
    "### Содержимое проекта\n",
    "\n",
    "1. Загрузка данных и знакомство с ними.\n",
    "2. Предобработка данных.\n",
    "3. Исследовательский анализ данных.\n",
    "4. Итоговые выводы.\n",
    "---"
   ]
  },
  {
   "cell_type": "markdown",
   "id": "ceecd06c",
   "metadata": {
    "id": "05faf34b"
   },
   "source": [
    "## 1. Загрузка данных и знакомство с ними\n",
    "Загрузим данные о заведениях общественного питания Москвы. Будем использовать pandas и библиотеки визуализации данных matplotlib и seaborn, а также phik для построения матрицы корреляции. Данные датасетов сохраним в двух переменных: `info_df` и `price_df`."
   ]
  },
  {
   "cell_type": "code",
   "execution_count": null,
   "id": "7f79d871",
   "metadata": {},
   "outputs": [
    {
     "name": "stdout",
     "output_type": "stream",
     "text": [
      "Requirement already satisfied: phik in /opt/conda/lib/python3.9/site-packages (0.12.4)\n",
      "Requirement already satisfied: scipy>=1.5.2 in /opt/conda/lib/python3.9/site-packages (from phik) (1.9.1)\n",
      "Requirement already satisfied: matplotlib>=2.2.3 in /opt/conda/lib/python3.9/site-packages (from phik) (3.3.4)\n",
      "Requirement already satisfied: joblib>=0.14.1 in /opt/conda/lib/python3.9/site-packages (from phik) (1.1.0)\n",
      "Requirement already satisfied: pandas>=0.25.1 in /opt/conda/lib/python3.9/site-packages (from phik) (1.2.4)\n",
      "Requirement already satisfied: numpy>=1.18.0 in /opt/conda/lib/python3.9/site-packages (from phik) (1.21.1)\n",
      "Requirement already satisfied: kiwisolver>=1.0.1 in /opt/conda/lib/python3.9/site-packages (from matplotlib>=2.2.3->phik) (1.4.4)\n",
      "Requirement already satisfied: pyparsing!=2.0.4,!=2.1.2,!=2.1.6,>=2.0.3 in /opt/conda/lib/python3.9/site-packages (from matplotlib>=2.2.3->phik) (2.4.7)\n",
      "Requirement already satisfied: pillow>=6.2.0 in /opt/conda/lib/python3.9/site-packages (from matplotlib>=2.2.3->phik) (8.4.0)\n",
      "Requirement already satisfied: python-dateutil>=2.1 in /opt/conda/lib/python3.9/site-packages (from matplotlib>=2.2.3->phik) (2.8.1)\n",
      "Requirement already satisfied: cycler>=0.10 in /opt/conda/lib/python3.9/site-packages (from matplotlib>=2.2.3->phik) (0.11.0)\n",
      "Requirement already satisfied: pytz>=2017.3 in /opt/conda/lib/python3.9/site-packages (from pandas>=0.25.1->phik) (2021.1)\n",
      "Requirement already satisfied: six>=1.5 in /opt/conda/lib/python3.9/site-packages (from python-dateutil>=2.1->matplotlib>=2.2.3->phik) (1.16.0)\n",
      "Collecting jupyter-black\n",
      "  Downloading jupyter_black-0.4.0-py3-none-any.whl (7.6 kB)\n",
      "Collecting black[jupyter]>=21\n",
      "  Downloading black-25.1.0-cp39-cp39-manylinux_2_17_x86_64.manylinux2014_x86_64.manylinux_2_28_x86_64.whl (1.8 MB)\n",
      "\u001b[K     |████████████████████████████████| 1.8 MB 2.5 MB/s eta 0:00:01\n",
      "\u001b[?25hCollecting mypy-extensions>=0.4.3\n",
      "  Downloading mypy_extensions-1.1.0-py3-none-any.whl (5.0 kB)\n",
      "Collecting packaging>=22.0\n",
      "  Downloading packaging-25.0-py3-none-any.whl (66 kB)\n",
      "\u001b[K     |████████████████████████████████| 66 kB 5.3 MB/s  eta 0:00:01\n",
      "\u001b[?25hRequirement already satisfied: typing-extensions>=4.0.1 in /opt/conda/lib/python3.9/site-packages (from black[jupyter]>=21->jupyter-black) (4.3.0)\n",
      "Collecting tomli>=1.1.0\n",
      "  Downloading tomli-2.2.1-py3-none-any.whl (14 kB)\n",
      "Requirement already satisfied: click>=8.0.0 in /opt/conda/lib/python3.9/site-packages (from black[jupyter]>=21->jupyter-black) (8.1.3)\n",
      "Collecting platformdirs>=2\n",
      "  Downloading platformdirs-4.3.8-py3-none-any.whl (18 kB)\n",
      "Collecting pathspec>=0.9.0\n",
      "  Downloading pathspec-0.12.1-py3-none-any.whl (31 kB)\n",
      "Collecting tokenize-rt>=3.2.0\n",
      "  Downloading tokenize_rt-6.2.0-py2.py3-none-any.whl (6.0 kB)\n",
      "Requirement already satisfied: ipython>=7.8.0 in /opt/conda/lib/python3.9/site-packages (from black[jupyter]>=21->jupyter-black) (7.25.0)\n",
      "Requirement already satisfied: pexpect>4.3 in /opt/conda/lib/python3.9/site-packages (from ipython>=7.8.0->black[jupyter]>=21->jupyter-black) (4.8.0)\n",
      "Requirement already satisfied: backcall in /opt/conda/lib/python3.9/site-packages (from ipython>=7.8.0->black[jupyter]>=21->jupyter-black) (0.2.0)\n",
      "Requirement already satisfied: pygments in /opt/conda/lib/python3.9/site-packages (from ipython>=7.8.0->black[jupyter]>=21->jupyter-black) (2.9.0)\n",
      "Requirement already satisfied: jedi>=0.16 in /opt/conda/lib/python3.9/site-packages (from ipython>=7.8.0->black[jupyter]>=21->jupyter-black) (0.18.0)\n",
      "Requirement already satisfied: setuptools>=18.5 in /opt/conda/lib/python3.9/site-packages (from ipython>=7.8.0->black[jupyter]>=21->jupyter-black) (49.6.0.post20210108)\n",
      "Requirement already satisfied: traitlets>=4.2 in /opt/conda/lib/python3.9/site-packages (from ipython>=7.8.0->black[jupyter]>=21->jupyter-black) (5.0.5)\n",
      "Requirement already satisfied: matplotlib-inline in /opt/conda/lib/python3.9/site-packages (from ipython>=7.8.0->black[jupyter]>=21->jupyter-black) (0.1.2)\n",
      "Requirement already satisfied: prompt-toolkit!=3.0.0,!=3.0.1,<3.1.0,>=2.0.0 in /opt/conda/lib/python3.9/site-packages (from ipython>=7.8.0->black[jupyter]>=21->jupyter-black) (3.0.19)\n",
      "Requirement already satisfied: pickleshare in /opt/conda/lib/python3.9/site-packages (from ipython>=7.8.0->black[jupyter]>=21->jupyter-black) (0.7.5)\n",
      "Requirement already satisfied: decorator in /opt/conda/lib/python3.9/site-packages (from ipython>=7.8.0->black[jupyter]>=21->jupyter-black) (5.0.9)\n",
      "Requirement already satisfied: parso<0.9.0,>=0.8.0 in /opt/conda/lib/python3.9/site-packages (from jedi>=0.16->ipython>=7.8.0->black[jupyter]>=21->jupyter-black) (0.8.2)\n",
      "Requirement already satisfied: ptyprocess>=0.5 in /opt/conda/lib/python3.9/site-packages (from pexpect>4.3->ipython>=7.8.0->black[jupyter]>=21->jupyter-black) (0.7.0)\n",
      "Requirement already satisfied: wcwidth in /opt/conda/lib/python3.9/site-packages (from prompt-toolkit!=3.0.0,!=3.0.1,<3.1.0,>=2.0.0->ipython>=7.8.0->black[jupyter]>=21->jupyter-black) (0.2.5)\n",
      "Requirement already satisfied: ipython-genutils in /opt/conda/lib/python3.9/site-packages (from traitlets>=4.2->ipython>=7.8.0->black[jupyter]>=21->jupyter-black) (0.2.0)\n",
      "Installing collected packages: tomli, platformdirs, pathspec, packaging, mypy-extensions, tokenize-rt, black, jupyter-black\n",
      "  Attempting uninstall: packaging\n",
      "    Found existing installation: packaging 21.3\n",
      "    Uninstalling packaging-21.3:\n",
      "      Successfully uninstalled packaging-21.3\n",
      "Successfully installed black-25.1.0 jupyter-black-0.4.0 mypy-extensions-1.1.0 packaging-25.0 pathspec-0.12.1 platformdirs-4.3.8 tokenize-rt-6.2.0 tomli-2.2.1\n"
     ]
    }
   ],
   "source": [
    "# Установим библиотеку phi_k\n",
    "!pip install phik\n",
    "\n",
    "# Установим библиотеку jupyter-black\n",
    "!pip install jupyter-black"
   ]
  },
  {
   "cell_type": "code",
   "execution_count": null,
   "id": "ce87c1db",
   "metadata": {
    "id": "ce87c1db"
   },
   "outputs": [],
   "source": [
    "# Импортируем библиотеки\n",
    "import pandas as pd\n",
    "\n",
    "# Загружаем библиотеки для визуализации данных\n",
    "import matplotlib.pyplot as plt\n",
    "import seaborn as sns\n",
    "\n",
    "# Загружаем библиотеку для расчёта коэффициента корреляции phi_k\n",
    "from phik import phik_matrix\n",
    "\n",
    "# Загружаем библиотеку для дополнительной красоты кода\n",
    "import jupyter_black"
   ]
  },
  {
   "cell_type": "code",
   "execution_count": null,
   "id": "90fee493",
   "metadata": {
    "id": "90fee493"
   },
   "outputs": [],
   "source": [
    "# Выгружаем данные в переменные info_df и price_df\n",
    "info_df = pd.read_csv('https://code.s3.yandex.net/datasets/rest_info.csv')\n",
    "price_df = pd.read_csv('https://code.s3.yandex.net/datasets/rest_price.csv')"
   ]
  },
  {
   "cell_type": "code",
   "execution_count": null,
   "id": "f68a7419",
   "metadata": {
    "id": "f68a7419"
   },
   "outputs": [
    {
     "data": {
      "text/html": [
       "<div>\n",
       "<style scoped>\n",
       "    .dataframe tbody tr th:only-of-type {\n",
       "        vertical-align: middle;\n",
       "    }\n",
       "\n",
       "    .dataframe tbody tr th {\n",
       "        vertical-align: top;\n",
       "    }\n",
       "\n",
       "    .dataframe thead th {\n",
       "        text-align: right;\n",
       "    }\n",
       "</style>\n",
       "<table border=\"1\" class=\"dataframe\">\n",
       "  <thead>\n",
       "    <tr style=\"text-align: right;\">\n",
       "      <th></th>\n",
       "      <th>id</th>\n",
       "      <th>name</th>\n",
       "      <th>category</th>\n",
       "      <th>address</th>\n",
       "      <th>district</th>\n",
       "      <th>hours</th>\n",
       "      <th>rating</th>\n",
       "      <th>chain</th>\n",
       "      <th>seats</th>\n",
       "    </tr>\n",
       "  </thead>\n",
       "  <tbody>\n",
       "    <tr>\n",
       "      <th>0</th>\n",
       "      <td>0c3e3439a8c64ea5bf6ecd6ca6ae19f0</td>\n",
       "      <td>WoWфли</td>\n",
       "      <td>кафе</td>\n",
       "      <td>Москва, улица Дыбенко, 7/1</td>\n",
       "      <td>Северный административный округ</td>\n",
       "      <td>ежедневно, 10:00–22:00</td>\n",
       "      <td>5.0</td>\n",
       "      <td>0</td>\n",
       "      <td>NaN</td>\n",
       "    </tr>\n",
       "    <tr>\n",
       "      <th>1</th>\n",
       "      <td>045780ada3474c57a2112e505d74b633</td>\n",
       "      <td>Четыре комнаты</td>\n",
       "      <td>ресторан</td>\n",
       "      <td>Москва, улица Дыбенко, 36, корп. 1</td>\n",
       "      <td>Северный административный округ</td>\n",
       "      <td>ежедневно, 10:00–22:00</td>\n",
       "      <td>4.5</td>\n",
       "      <td>0</td>\n",
       "      <td>4.0</td>\n",
       "    </tr>\n",
       "    <tr>\n",
       "      <th>2</th>\n",
       "      <td>1070b6b59144425896c65889347fcff6</td>\n",
       "      <td>Хазри</td>\n",
       "      <td>кафе</td>\n",
       "      <td>Москва, Клязьминская улица, 15</td>\n",
       "      <td>Северный административный округ</td>\n",
       "      <td>пн-чт 11:00–02:00; пт,сб 11:00–05:00; вс 11:00...</td>\n",
       "      <td>4.6</td>\n",
       "      <td>0</td>\n",
       "      <td>45.0</td>\n",
       "    </tr>\n",
       "    <tr>\n",
       "      <th>3</th>\n",
       "      <td>03ac7cd772104f65b58b349dc59f03ee</td>\n",
       "      <td>Dormouse Coffee Shop</td>\n",
       "      <td>кофейня</td>\n",
       "      <td>Москва, улица Маршала Федоренко, 12</td>\n",
       "      <td>Северный административный округ</td>\n",
       "      <td>ежедневно, 09:00–22:00</td>\n",
       "      <td>5.0</td>\n",
       "      <td>0</td>\n",
       "      <td>NaN</td>\n",
       "    </tr>\n",
       "    <tr>\n",
       "      <th>4</th>\n",
       "      <td>a163aada139c4c7f87b0b1c0b466a50f</td>\n",
       "      <td>Иль Марко</td>\n",
       "      <td>пиццерия</td>\n",
       "      <td>Москва, Правобережная улица, 1Б</td>\n",
       "      <td>Северный административный округ</td>\n",
       "      <td>ежедневно, 10:00–22:00</td>\n",
       "      <td>5.0</td>\n",
       "      <td>1</td>\n",
       "      <td>148.0</td>\n",
       "    </tr>\n",
       "  </tbody>\n",
       "</table>\n",
       "</div>"
      ],
      "text/plain": [
       "                                 id                  name  category  \\\n",
       "0  0c3e3439a8c64ea5bf6ecd6ca6ae19f0                WoWфли      кафе   \n",
       "1  045780ada3474c57a2112e505d74b633        Четыре комнаты  ресторан   \n",
       "2  1070b6b59144425896c65889347fcff6                 Хазри      кафе   \n",
       "3  03ac7cd772104f65b58b349dc59f03ee  Dormouse Coffee Shop   кофейня   \n",
       "4  a163aada139c4c7f87b0b1c0b466a50f             Иль Марко  пиццерия   \n",
       "\n",
       "                               address                         district  \\\n",
       "0           Москва, улица Дыбенко, 7/1  Северный административный округ   \n",
       "1   Москва, улица Дыбенко, 36, корп. 1  Северный административный округ   \n",
       "2       Москва, Клязьминская улица, 15  Северный административный округ   \n",
       "3  Москва, улица Маршала Федоренко, 12  Северный административный округ   \n",
       "4      Москва, Правобережная улица, 1Б  Северный административный округ   \n",
       "\n",
       "                                               hours  rating  chain  seats  \n",
       "0                             ежедневно, 10:00–22:00     5.0      0    NaN  \n",
       "1                             ежедневно, 10:00–22:00     4.5      0    4.0  \n",
       "2  пн-чт 11:00–02:00; пт,сб 11:00–05:00; вс 11:00...     4.6      0   45.0  \n",
       "3                             ежедневно, 09:00–22:00     5.0      0    NaN  \n",
       "4                             ежедневно, 10:00–22:00     5.0      1  148.0  "
      ]
     },
     "execution_count": 4,
     "metadata": {},
     "output_type": "execute_result"
    }
   ],
   "source": [
    "# Выводим первые строки датафрейма на экран\n",
    "info_df.head()"
   ]
  },
  {
   "cell_type": "code",
   "execution_count": null,
   "id": "dd415c80",
   "metadata": {
    "id": "dd415c80"
   },
   "outputs": [
    {
     "name": "stdout",
     "output_type": "stream",
     "text": [
      "<class 'pandas.core.frame.DataFrame'>\n",
      "RangeIndex: 8406 entries, 0 to 8405\n",
      "Data columns (total 9 columns):\n",
      " #   Column    Non-Null Count  Dtype  \n",
      "---  ------    --------------  -----  \n",
      " 0   id        8406 non-null   object \n",
      " 1   name      8406 non-null   object \n",
      " 2   category  8406 non-null   object \n",
      " 3   address   8406 non-null   object \n",
      " 4   district  8406 non-null   object \n",
      " 5   hours     7870 non-null   object \n",
      " 6   rating    8406 non-null   float64\n",
      " 7   chain     8406 non-null   int64  \n",
      " 8   seats     4795 non-null   float64\n",
      "dtypes: float64(2), int64(1), object(6)\n",
      "memory usage: 591.2+ KB\n"
     ]
    }
   ],
   "source": [
    "# Выводим информацию о датафрейме\n",
    "info_df.info()"
   ]
  },
  {
   "cell_type": "markdown",
   "id": "b203cec9",
   "metadata": {
    "id": "3158ad37"
   },
   "source": [
    "Датасет ` rest_info.csv` содержит 9 столбцов и 8406 строк, в которых представлена информация о заведениях общественного питания, их локации и режиме работы.\n",
    "\n",
    "После первичного анализа данных можно сделать следующие выводы:\n",
    "- Названия столбцов соответсвуют общепринятым правилам по написанию солбцов в формате snake case.\n",
    "- Данные представлены содержат числовые значения, которые хранятся в типах данных `int64` или `float64`. Значения в столбце `chain` представлено целыми числами, а вещественным. Остальные столбцы содержат текстовые данные и представлены в типе данных `object`, что является корректным. Для значений с типом данных `float64` можно снизить разрядность в целях оптимизации памяти.\n",
    "- Пропуски содержатся в двух столбцах: `hours`, `seats`. Следует дополнительно проверить и другие столбцы: в них могут встречаться значения-индикаторы, которые будут говорить об отсутствии данных.\n",
    "- Судя по первому знакомству с данными, значения в столбцах соответствуют своему описанию."
   ]
  },
  {
   "cell_type": "markdown",
   "id": "7d4608e1",
   "metadata": {},
   "source": [
    "Теперь познакомимся с данными датасета `rest_price.csv`."
   ]
  },
  {
   "cell_type": "code",
   "execution_count": null,
   "id": "82cd4905",
   "metadata": {},
   "outputs": [
    {
     "data": {
      "text/html": [
       "<div>\n",
       "<style scoped>\n",
       "    .dataframe tbody tr th:only-of-type {\n",
       "        vertical-align: middle;\n",
       "    }\n",
       "\n",
       "    .dataframe tbody tr th {\n",
       "        vertical-align: top;\n",
       "    }\n",
       "\n",
       "    .dataframe thead th {\n",
       "        text-align: right;\n",
       "    }\n",
       "</style>\n",
       "<table border=\"1\" class=\"dataframe\">\n",
       "  <thead>\n",
       "    <tr style=\"text-align: right;\">\n",
       "      <th></th>\n",
       "      <th>id</th>\n",
       "      <th>price</th>\n",
       "      <th>avg_bill</th>\n",
       "      <th>middle_avg_bill</th>\n",
       "      <th>middle_coffee_cup</th>\n",
       "    </tr>\n",
       "  </thead>\n",
       "  <tbody>\n",
       "    <tr>\n",
       "      <th>0</th>\n",
       "      <td>045780ada3474c57a2112e505d74b633</td>\n",
       "      <td>выше среднего</td>\n",
       "      <td>Средний счёт:1500–1600 ₽</td>\n",
       "      <td>1550.0</td>\n",
       "      <td>NaN</td>\n",
       "    </tr>\n",
       "    <tr>\n",
       "      <th>1</th>\n",
       "      <td>1070b6b59144425896c65889347fcff6</td>\n",
       "      <td>средние</td>\n",
       "      <td>Средний счёт:от 1000 ₽</td>\n",
       "      <td>1000.0</td>\n",
       "      <td>NaN</td>\n",
       "    </tr>\n",
       "    <tr>\n",
       "      <th>2</th>\n",
       "      <td>03ac7cd772104f65b58b349dc59f03ee</td>\n",
       "      <td>NaN</td>\n",
       "      <td>Цена чашки капучино:155–185 ₽</td>\n",
       "      <td>NaN</td>\n",
       "      <td>170.0</td>\n",
       "    </tr>\n",
       "    <tr>\n",
       "      <th>3</th>\n",
       "      <td>a163aada139c4c7f87b0b1c0b466a50f</td>\n",
       "      <td>средние</td>\n",
       "      <td>Средний счёт:400–600 ₽</td>\n",
       "      <td>500.0</td>\n",
       "      <td>NaN</td>\n",
       "    </tr>\n",
       "    <tr>\n",
       "      <th>4</th>\n",
       "      <td>8a343546b24e4a499ad96eb7d0797a8a</td>\n",
       "      <td>средние</td>\n",
       "      <td>NaN</td>\n",
       "      <td>NaN</td>\n",
       "      <td>NaN</td>\n",
       "    </tr>\n",
       "  </tbody>\n",
       "</table>\n",
       "</div>"
      ],
      "text/plain": [
       "                                 id          price  \\\n",
       "0  045780ada3474c57a2112e505d74b633  выше среднего   \n",
       "1  1070b6b59144425896c65889347fcff6        средние   \n",
       "2  03ac7cd772104f65b58b349dc59f03ee            NaN   \n",
       "3  a163aada139c4c7f87b0b1c0b466a50f        средние   \n",
       "4  8a343546b24e4a499ad96eb7d0797a8a        средние   \n",
       "\n",
       "                        avg_bill  middle_avg_bill  middle_coffee_cup  \n",
       "0       Средний счёт:1500–1600 ₽           1550.0                NaN  \n",
       "1         Средний счёт:от 1000 ₽           1000.0                NaN  \n",
       "2  Цена чашки капучино:155–185 ₽              NaN              170.0  \n",
       "3         Средний счёт:400–600 ₽            500.0                NaN  \n",
       "4                            NaN              NaN                NaN  "
      ]
     },
     "execution_count": 6,
     "metadata": {},
     "output_type": "execute_result"
    }
   ],
   "source": [
    "# Выводим первые строки датафрейма на экран\n",
    "price_df.head()"
   ]
  },
  {
   "cell_type": "code",
   "execution_count": null,
   "id": "ac68094c",
   "metadata": {},
   "outputs": [
    {
     "name": "stdout",
     "output_type": "stream",
     "text": [
      "<class 'pandas.core.frame.DataFrame'>\n",
      "RangeIndex: 4058 entries, 0 to 4057\n",
      "Data columns (total 5 columns):\n",
      " #   Column             Non-Null Count  Dtype  \n",
      "---  ------             --------------  -----  \n",
      " 0   id                 4058 non-null   object \n",
      " 1   price              3315 non-null   object \n",
      " 2   avg_bill           3816 non-null   object \n",
      " 3   middle_avg_bill    3149 non-null   float64\n",
      " 4   middle_coffee_cup  535 non-null    float64\n",
      "dtypes: float64(2), object(3)\n",
      "memory usage: 158.6+ KB\n"
     ]
    }
   ],
   "source": [
    "# Выводим информацию о датафрейме\n",
    "price_df.info()"
   ]
  },
  {
   "cell_type": "markdown",
   "id": "5a2f51ea",
   "metadata": {},
   "source": [
    "Датасет `rest_price.csv` содержит 5 столбцов и 4058 строк, в которых представлена информация о среднем чеке и ценовой составляющей. По аналогии с предыдущим датасетом можно отметить, что:\n",
    "\n",
    "- Названия столбцов представлены в оптимальном виде snake case. \n",
    "- Название столбца `price` не совсем соответствует содержщимся значениям и лучше заменить на `category_price`, так как содержит информациюю о категориях цен и представлены в виде типа данных `object`, что корректно.\n",
    "- Типы данных для столбцов `middle_avg_bill`, `middle_coffee_cup` определены корректно, так как данные содержат числовые значений и не верный тип данных может привести к ошибке при расчетах, а также могут возникнуть трудости с корректной визуализацией.\n",
    "- Для столбцов, которые представлены типом данных `object`, такие как `id`, `price`, `avg_bill` также верно определен тип данных.\n",
    "- Пропуски содержатся почти во всех столбцах датасета: `price`, `avg_bill`, `middle_avg_bill`, `middle_coffee_cup`. Некоторые из них можно отнести к типу пропусков MAR — пропуски случайны, но объясняются наблюдаемыми данными обяснить. Например, `middle_avg_bill` содержит число с оценкой среднего чека, которое указано только для значений из столбца avg_bill, начинающихся с подстроки «Средний счёт» или `middle_coffee_cup` - число с оценкой одной чашки капучино, которое указано только для значений из столбца avg_bill, начинающихся с подстроки «Цена одной чашки капучино», соответственно, для других значений столбца avg_bill значения будут отсутствовать."
   ]
  },
  {
   "cell_type": "markdown",
   "id": "2c614a62",
   "metadata": {
    "id": "2c614a62"
   },
   "source": [
    "---\n",
    "\n",
    "### Промежуточный вывод"
   ]
  },
  {
   "cell_type": "markdown",
   "id": "474c5d5d",
   "metadata": {
    "id": "3593b7d5"
   },
   "source": [
    "Первичное знакомство показывает, что типы данных определены корректно, соответствуют описанию, но почти во всех содержатся пропуски, часть из них можно объяснить данными, которые содержатся в датасете. Типы данных во всех столбцах определены корректно."
   ]
  },
  {
   "cell_type": "markdown",
   "id": "8a8d1491",
   "metadata": {
    "id": "8a8d1491"
   },
   "source": [
    "### Подготовка единого датафрейма\n"
   ]
  },
  {
   "cell_type": "markdown",
   "id": "fea9c3c6",
   "metadata": {
    "id": "3408e303"
   },
   "source": [
    "Каждая строка в этих датасетах — это информация о заведении общественного питания, поэтому такие данные удобно соединить в один датафрейм, который можно использовать для поиска закономерностей в данных. Соединять данные будем с помощью метода `merge()` по столбцу `id` . По умолчанию `merge()`принимает тип присоединения `inner`, но во втором датасете много пропусков, поэтому установим в значение параметра `how = 'left'`."
   ]
  },
  {
   "cell_type": "code",
   "execution_count": null,
   "id": "5695950b",
   "metadata": {
    "id": "5695950b"
   },
   "outputs": [],
   "source": [
    "# Соединяем данные в единый датафрейм df\n",
    "df = info_df.merge(price_df, how='left', on='id') "
   ]
  },
  {
   "cell_type": "code",
   "execution_count": null,
   "id": "6577c71c",
   "metadata": {
    "id": "6577c71c"
   },
   "outputs": [
    {
     "name": "stdout",
     "output_type": "stream",
     "text": [
      "<class 'pandas.core.frame.DataFrame'>\n",
      "Int64Index: 8406 entries, 0 to 8405\n",
      "Data columns (total 13 columns):\n",
      " #   Column             Non-Null Count  Dtype  \n",
      "---  ------             --------------  -----  \n",
      " 0   id                 8406 non-null   object \n",
      " 1   name               8406 non-null   object \n",
      " 2   category           8406 non-null   object \n",
      " 3   address            8406 non-null   object \n",
      " 4   district           8406 non-null   object \n",
      " 5   hours              7870 non-null   object \n",
      " 6   rating             8406 non-null   float64\n",
      " 7   chain              8406 non-null   int64  \n",
      " 8   seats              4795 non-null   float64\n",
      " 9   price              3315 non-null   object \n",
      " 10  avg_bill           3816 non-null   object \n",
      " 11  middle_avg_bill    3149 non-null   float64\n",
      " 12  middle_coffee_cup  535 non-null    float64\n",
      "dtypes: float64(4), int64(1), object(8)\n",
      "memory usage: 919.4+ KB\n"
     ]
    }
   ],
   "source": [
    "# Выводим информацию о датафрейме\n",
    "df.info()"
   ]
  },
  {
   "cell_type": "markdown",
   "id": "b189fbec",
   "metadata": {},
   "source": [
    "Данные соединены, и информация обо всех заведениях сохранилась."
   ]
  },
  {
   "cell_type": "markdown",
   "id": "956e82e2",
   "metadata": {
    "id": "956e82e2"
   },
   "source": [
    "## 2. Предобработка данных"
   ]
  },
  {
   "cell_type": "markdown",
   "id": "1c8ae218",
   "metadata": {
    "id": "67956690"
   },
   "source": [
    "Как показало первичное знакомство с данными, в целом тип данных представлен верно. Этот шаг можно было пропустить, так как данных не так много, но cтоит отметить, что в случае, если данные будут увеличиваться в объеме, то для`rating` и `chain` рекомендуем снизить разрядность на `float32` с целью оптимизации использования памяти, упрощения вычислений. Выполним одно преобразование - переведем `chain` в целочисленный тип `int64`, так как данные представлены значениями 1 и 0."
   ]
  },
  {
   "cell_type": "code",
   "execution_count": 10,
   "id": "eb6b6611",
   "metadata": {},
   "outputs": [
    {
     "data": {
      "text/plain": [
       "array([0, 1])"
      ]
     },
     "execution_count": 10,
     "metadata": {},
     "output_type": "execute_result"
    }
   ],
   "source": [
    "# Перед преобразованием проверить уникальные значения в столбце chain\n",
    "df['chain'].unique()"
   ]
  },
  {
   "cell_type": "code",
   "execution_count": 11,
   "id": "64ef029b",
   "metadata": {},
   "outputs": [],
   "source": [
    "# Преобразуем тип данных в целочисленный\n",
    "df['chain'] = pd.to_numeric(df['chain'], downcast='integer')"
   ]
  },
  {
   "cell_type": "code",
   "execution_count": 12,
   "id": "6b57a83d",
   "metadata": {},
   "outputs": [
    {
     "data": {
      "text/plain": [
       "dtype('int8')"
      ]
     },
     "execution_count": 12,
     "metadata": {},
     "output_type": "execute_result"
    }
   ],
   "source": [
    "# Проверим тип данных после преобразования\n",
    "df['chain'].dtypes"
   ]
  },
  {
   "cell_type": "markdown",
   "id": "7e64e3cb",
   "metadata": {},
   "source": [
    "При первичном анализе мы обнаружили пропуски в столбце `hours` датасета с заведениями и почти  во всех столбцaх датасета со средним чеком. Узнаем абсолютное и относительное количество пропусков."
   ]
  },
  {
   "cell_type": "code",
   "execution_count": 13,
   "id": "ba5b8552",
   "metadata": {},
   "outputs": [
    {
     "data": {
      "text/plain": [
       "id                      0\n",
       "name                    0\n",
       "category                0\n",
       "address                 0\n",
       "district                0\n",
       "hours                 536\n",
       "rating                  0\n",
       "chain                   0\n",
       "seats                3611\n",
       "price                5091\n",
       "avg_bill             4590\n",
       "middle_avg_bill      5257\n",
       "middle_coffee_cup    7871\n",
       "dtype: int64"
      ]
     },
     "execution_count": 13,
     "metadata": {},
     "output_type": "execute_result"
    }
   ],
   "source": [
    "# Посчитаем количество пропущенных значений в обеъдиненном датасете df\n",
    "df.isna().sum()"
   ]
  },
  {
   "cell_type": "code",
   "execution_count": 14,
   "id": "3d8840ca",
   "metadata": {
    "id": "3d8840ca"
   },
   "outputs": [
    {
     "data": {
      "text/plain": [
       "id                   0.000000\n",
       "name                 0.000000\n",
       "category             0.000000\n",
       "address              0.000000\n",
       "district             0.000000\n",
       "hours                0.063764\n",
       "rating               0.000000\n",
       "chain                0.000000\n",
       "seats                0.429574\n",
       "price                0.605639\n",
       "avg_bill             0.546039\n",
       "middle_avg_bill      0.625387\n",
       "middle_coffee_cup    0.936355\n",
       "dtype: float64"
      ]
     },
     "execution_count": 14,
     "metadata": {},
     "output_type": "execute_result"
    }
   ],
   "source": [
    "# Посчитаем долю пропущенных значений в датасете\n",
    "df.isna().sum() / df.shape[0]"
   ]
  },
  {
   "cell_type": "markdown",
   "id": "acc28e68",
   "metadata": {
    "id": "2ea145ca"
   },
   "source": [
    "Оставим пропуски как есть, так как часть пропусков не случайны и некоторые из них объясняются данными датасета."
   ]
  },
  {
   "cell_type": "markdown",
   "id": "c73ed1fb",
   "metadata": {
    "id": "d9e7c358"
   },
   "source": [
    "В объединенном датафрейме обнаружено:\n",
    "- 536 пропусков в столбце `hours` — это 6,3% данных. Пропуски могут быть вызваны отсутствием информации о режиме работы заведения, возможно оно недавно открылось или заведения меняли свой режим работы на время праздников и данные не успели обновится. Также пропуски могут быть связаны с технически сбоем. Этот тип пропусков можно отнести к типу MCAR.\n",
    "- более 40% пропусков имеют столбцы `seats`(3611), `price`(5091), `avg_bill`(4590),`middle_avg_bill`(5257). Отсутствие данных: возможно, информация о посадочных местах, категории цен и среднему чеку не была внесена в систему для определённых заведений. Заведения могли изменить количество посадочных мест или обновить ценовую политику и данные не были обновлены. некоторые заведения могут не иметь фиксированного количества посадочных мест (например, заведения с летним террасой или гибким пространством), что затрудняет запись точных данных. Значения в столбце `seats` могли быть пропущены в связи с тем, что некоторые заведения могут не иметь фиксированного количества посадочных мест (например, заведения с летним террасой или гибким пространством), что затрудняет запись точных данных. Пропуски в столбце `middle_avg_bill` согласно описанию данных изначально формируются не для всех значений, а только тех, которые начинаются с подстроки «Средний счёт» в столбце `avg_bill`, в котором 55% пропущенных значений.\n",
    "- самое значительное количество пропущенных значений в столбце `middle_coffee_cup` - 7871, что составлятет 95% пропусков. Данный столбец отражает значения, которые начинаются с подстроки «Цена одной чашки капучино» в столбце `avg_bill`."
   ]
  },
  {
   "cell_type": "markdown",
   "id": "c4d5f04d",
   "metadata": {
    "id": "c4d5f04d"
   },
   "source": [
    "- Проверьте данные на явные и неявные дубликаты, например поля с названием и адресом заведения. Для оптимизации проверки нормализуйте данные в текстовых столбцах, например с названием заведения."
   ]
  },
  {
   "cell_type": "code",
   "execution_count": 15,
   "id": "b0e287b2",
   "metadata": {},
   "outputs": [
    {
     "data": {
      "text/plain": [
       "0"
      ]
     },
     "execution_count": 15,
     "metadata": {},
     "output_type": "execute_result"
    }
   ],
   "source": [
    "# Проверяем полные дубликаты в датасете\n",
    "df.duplicated().sum()"
   ]
  },
  {
   "cell_type": "markdown",
   "id": "453c0bdd",
   "metadata": {},
   "source": [
    "После предобработки данных в датасете нет полных дубликатов строк. Проверим неявные дубликаты — значения по `id` заведения должны быть уникальными, то есть каждая строка в данных — уникальное заведение:"
   ]
  },
  {
   "cell_type": "code",
   "execution_count": 16,
   "id": "5bc313a6",
   "metadata": {},
   "outputs": [
    {
     "data": {
      "text/plain": [
       "0"
      ]
     },
     "execution_count": 16,
     "metadata": {},
     "output_type": "execute_result"
    }
   ],
   "source": [
    "# Проверяем неявные дубликаты\n",
    "df.duplicated(subset='id').sum()"
   ]
  },
  {
   "cell_type": "code",
   "execution_count": 17,
   "id": "2e168bd9",
   "metadata": {},
   "outputs": [
    {
     "data": {
      "text/plain": [
       "'Уникальные значения в столбце name:'"
      ]
     },
     "metadata": {},
     "output_type": "display_data"
    },
    {
     "data": {
      "text/plain": [
       "array(['#КешбэкКафе', '+39 Pizzeria Mozzarella bar', '1 Этаж', ...,\n",
       "       'Ясно', 'Яуза', 'ночной Баку'], dtype=object)"
      ]
     },
     "metadata": {},
     "output_type": "display_data"
    },
    {
     "data": {
      "text/plain": [
       "'Уникальные значения в столбце category:'"
      ]
     },
     "metadata": {},
     "output_type": "display_data"
    },
    {
     "data": {
      "text/plain": [
       "array(['бар,паб', 'булочная', 'быстрое питание', 'кафе', 'кофейня',\n",
       "       'пиццерия', 'ресторан', 'столовая'], dtype=object)"
      ]
     },
     "metadata": {},
     "output_type": "display_data"
    },
    {
     "data": {
      "text/plain": [
       "'Уникальные значения в столбце district:'"
      ]
     },
     "metadata": {},
     "output_type": "display_data"
    },
    {
     "data": {
      "text/plain": [
       "array(['Восточный административный округ',\n",
       "       'Западный административный округ',\n",
       "       'Северный административный округ',\n",
       "       'Северо-Восточный административный округ',\n",
       "       'Северо-Западный административный округ',\n",
       "       'Центральный административный округ',\n",
       "       'Юго-Восточный административный округ',\n",
       "       'Юго-Западный административный округ',\n",
       "       'Южный административный округ'], dtype=object)"
      ]
     },
     "metadata": {},
     "output_type": "display_data"
    }
   ],
   "source": [
    "# Проверяем уникальные значения в столбцах\n",
    "for column in ['name', 'category', 'district']:\n",
    "    display(f'Уникальные значения в столбце {column}:')\n",
    "    display(df[column].sort_values().unique())\n",
    "    display()"
   ]
  },
  {
   "cell_type": "code",
   "execution_count": 18,
   "id": "ca073bf7",
   "metadata": {},
   "outputs": [
    {
     "data": {
      "text/plain": [
       "'Количество уникальных значений в столбце name:'"
      ]
     },
     "metadata": {},
     "output_type": "display_data"
    },
    {
     "data": {
      "text/plain": [
       "5614"
      ]
     },
     "metadata": {},
     "output_type": "display_data"
    },
    {
     "data": {
      "text/plain": [
       "'Количество уникальных значений в столбце category:'"
      ]
     },
     "metadata": {},
     "output_type": "display_data"
    },
    {
     "data": {
      "text/plain": [
       "8"
      ]
     },
     "metadata": {},
     "output_type": "display_data"
    },
    {
     "data": {
      "text/plain": [
       "'Количество уникальных значений в столбце district:'"
      ]
     },
     "metadata": {},
     "output_type": "display_data"
    },
    {
     "data": {
      "text/plain": [
       "9"
      ]
     },
     "metadata": {},
     "output_type": "display_data"
    }
   ],
   "source": [
    "# Проверяем количество значения в столбцах\n",
    "for x in ['name', 'category', 'district']:\n",
    "    display(f'Количество уникальных значений в столбце {x}:')\n",
    "    display(df[x].sort_values().nunique())\n",
    "    display()"
   ]
  },
  {
   "cell_type": "code",
   "execution_count": 19,
   "id": "b52bae9a",
   "metadata": {
    "id": "b52bae9a"
   },
   "outputs": [
    {
     "data": {
      "text/html": [
       "<div>\n",
       "<style scoped>\n",
       "    .dataframe tbody tr th:only-of-type {\n",
       "        vertical-align: middle;\n",
       "    }\n",
       "\n",
       "    .dataframe tbody tr th {\n",
       "        vertical-align: top;\n",
       "    }\n",
       "\n",
       "    .dataframe thead th {\n",
       "        text-align: right;\n",
       "    }\n",
       "</style>\n",
       "<table border=\"1\" class=\"dataframe\">\n",
       "  <thead>\n",
       "    <tr style=\"text-align: right;\">\n",
       "      <th></th>\n",
       "      <th>id</th>\n",
       "      <th>name</th>\n",
       "      <th>category</th>\n",
       "      <th>address</th>\n",
       "      <th>district</th>\n",
       "      <th>hours</th>\n",
       "      <th>rating</th>\n",
       "      <th>chain</th>\n",
       "      <th>seats</th>\n",
       "      <th>price</th>\n",
       "      <th>avg_bill</th>\n",
       "      <th>middle_avg_bill</th>\n",
       "      <th>middle_coffee_cup</th>\n",
       "    </tr>\n",
       "  </thead>\n",
       "  <tbody>\n",
       "    <tr>\n",
       "      <th>6166</th>\n",
       "      <td>24c35080ad1c493d9900c2144199596d</td>\n",
       "      <td>лаки сувлаки</td>\n",
       "      <td>быстрое питание</td>\n",
       "      <td>Москва, Пушкинская набережная</td>\n",
       "      <td>Центральный административный округ</td>\n",
       "      <td>ежедневно, 10:00–22:00</td>\n",
       "      <td>4.2</td>\n",
       "      <td>1</td>\n",
       "      <td>NaN</td>\n",
       "      <td>NaN</td>\n",
       "      <td>NaN</td>\n",
       "      <td>NaN</td>\n",
       "      <td>NaN</td>\n",
       "    </tr>\n",
       "    <tr>\n",
       "      <th>978</th>\n",
       "      <td>392df5692c264457a6fb3650c0d2bd1b</td>\n",
       "      <td>пиццадар</td>\n",
       "      <td>пиццерия</td>\n",
       "      <td>Москва, улица Лётчика Бабушкина, 9, корп. 1</td>\n",
       "      <td>Северо-Восточный административный округ</td>\n",
       "      <td>ежедневно, 11:00–23:00</td>\n",
       "      <td>4.3</td>\n",
       "      <td>0</td>\n",
       "      <td>20.0</td>\n",
       "      <td>NaN</td>\n",
       "      <td>NaN</td>\n",
       "      <td>NaN</td>\n",
       "      <td>NaN</td>\n",
       "    </tr>\n",
       "    <tr>\n",
       "      <th>4190</th>\n",
       "      <td>2e541999885340728a3eeafc19ebb232</td>\n",
       "      <td>хлеб насущный</td>\n",
       "      <td>булочная</td>\n",
       "      <td>Москва, улица Арбат, 30/3с1</td>\n",
       "      <td>Центральный административный округ</td>\n",
       "      <td>пн-пт 07:00–23:00; сб,вс 08:00–23:00</td>\n",
       "      <td>4.3</td>\n",
       "      <td>1</td>\n",
       "      <td>NaN</td>\n",
       "      <td>NaN</td>\n",
       "      <td>NaN</td>\n",
       "      <td>NaN</td>\n",
       "      <td>NaN</td>\n",
       "    </tr>\n",
       "    <tr>\n",
       "      <th>6619</th>\n",
       "      <td>77f4523f03da465fa53a058ebc50e35e</td>\n",
       "      <td>kvartal</td>\n",
       "      <td>ресторан</td>\n",
       "      <td>Москва, проспект Вернадского, 86А</td>\n",
       "      <td>Западный административный округ</td>\n",
       "      <td>пн-сб 11:00–23:00; вс 12:00–23:00</td>\n",
       "      <td>4.2</td>\n",
       "      <td>0</td>\n",
       "      <td>100.0</td>\n",
       "      <td>выше среднего</td>\n",
       "      <td>Средний счёт:1000–2000 ₽</td>\n",
       "      <td>1500.0</td>\n",
       "      <td>NaN</td>\n",
       "    </tr>\n",
       "  </tbody>\n",
       "</table>\n",
       "</div>"
      ],
      "text/plain": [
       "                                    id           name         category  \\\n",
       "6166  24c35080ad1c493d9900c2144199596d   лаки сувлаки  быстрое питание   \n",
       "978   392df5692c264457a6fb3650c0d2bd1b       пиццадар         пиццерия   \n",
       "4190  2e541999885340728a3eeafc19ebb232  хлеб насущный         булочная   \n",
       "6619  77f4523f03da465fa53a058ebc50e35e        kvartal         ресторан   \n",
       "\n",
       "                                          address  \\\n",
       "6166                Москва, Пушкинская набережная   \n",
       "978   Москва, улица Лётчика Бабушкина, 9, корп. 1   \n",
       "4190                  Москва, улица Арбат, 30/3с1   \n",
       "6619            Москва, проспект Вернадского, 86А   \n",
       "\n",
       "                                     district  \\\n",
       "6166       Центральный административный округ   \n",
       "978   Северо-Восточный административный округ   \n",
       "4190       Центральный административный округ   \n",
       "6619          Западный административный округ   \n",
       "\n",
       "                                     hours  rating  chain  seats  \\\n",
       "6166                ежедневно, 10:00–22:00     4.2      1    NaN   \n",
       "978                 ежедневно, 11:00–23:00     4.3      0   20.0   \n",
       "4190  пн-пт 07:00–23:00; сб,вс 08:00–23:00     4.3      1    NaN   \n",
       "6619     пн-сб 11:00–23:00; вс 12:00–23:00     4.2      0  100.0   \n",
       "\n",
       "              price                  avg_bill  middle_avg_bill  \\\n",
       "6166            NaN                       NaN              NaN   \n",
       "978             NaN                       NaN              NaN   \n",
       "4190            NaN                       NaN              NaN   \n",
       "6619  выше среднего  Средний счёт:1000–2000 ₽           1500.0   \n",
       "\n",
       "      middle_coffee_cup  \n",
       "6166                NaN  \n",
       "978                 NaN  \n",
       "4190                NaN  \n",
       "6619                NaN  "
      ]
     },
     "execution_count": 19,
     "metadata": {},
     "output_type": "execute_result"
    }
   ],
   "source": [
    "# Нормализуем данные с названиями заведений в столбце name\n",
    "df['name'] = df['name'].str.lower()\n",
    "\n",
    "# Проверим 4 случайные строки\n",
    "df.sample(4,random_state = 123)"
   ]
  },
  {
   "cell_type": "code",
   "execution_count": 20,
   "id": "0769b681",
   "metadata": {
    "id": "0769b681"
   },
   "outputs": [
    {
     "data": {
      "text/plain": [
       "'Количество строк в датафрейме:8406'"
      ]
     },
     "metadata": {},
     "output_type": "display_data"
    },
    {
     "data": {
      "text/plain": [
       "'Количество дублирующихся строк:0'"
      ]
     },
     "metadata": {},
     "output_type": "display_data"
    }
   ],
   "source": [
    "# Проверяем данные на дубликаты\n",
    "df_count_row = df.shape[0]\n",
    "display(f'Количество строк в датафрейме:{df_count_row}')\n",
    "\n",
    "# Проверим количество дубликатов в данных\n",
    "duplicates_count = df.duplicated().sum() \n",
    "display(f'Количество дублирующихся строк:{duplicates_count}')"
   ]
  },
  {
   "cell_type": "code",
   "execution_count": 21,
   "id": "a2a5a0f5",
   "metadata": {},
   "outputs": [
    {
     "data": {
      "text/plain": [
       "'Количество дублирующихся строк по столбцам name и address:3'"
      ]
     },
     "metadata": {},
     "output_type": "display_data"
    },
    {
     "data": {
      "text/html": [
       "<div>\n",
       "<style scoped>\n",
       "    .dataframe tbody tr th:only-of-type {\n",
       "        vertical-align: middle;\n",
       "    }\n",
       "\n",
       "    .dataframe tbody tr th {\n",
       "        vertical-align: top;\n",
       "    }\n",
       "\n",
       "    .dataframe thead th {\n",
       "        text-align: right;\n",
       "    }\n",
       "</style>\n",
       "<table border=\"1\" class=\"dataframe\">\n",
       "  <thead>\n",
       "    <tr style=\"text-align: right;\">\n",
       "      <th></th>\n",
       "      <th>id</th>\n",
       "      <th>name</th>\n",
       "      <th>category</th>\n",
       "      <th>address</th>\n",
       "      <th>district</th>\n",
       "      <th>hours</th>\n",
       "      <th>rating</th>\n",
       "      <th>chain</th>\n",
       "      <th>seats</th>\n",
       "      <th>price</th>\n",
       "      <th>avg_bill</th>\n",
       "      <th>middle_avg_bill</th>\n",
       "      <th>middle_coffee_cup</th>\n",
       "    </tr>\n",
       "  </thead>\n",
       "  <tbody>\n",
       "    <tr>\n",
       "      <th>1430</th>\n",
       "      <td>62608690e9cc464fbcd980cfd552e334</td>\n",
       "      <td>more poke</td>\n",
       "      <td>ресторан</td>\n",
       "      <td>Москва, Волоколамское шоссе, 11, стр. 2</td>\n",
       "      <td>Северный административный округ</td>\n",
       "      <td>ежедневно, 09:00–21:00</td>\n",
       "      <td>4.2</td>\n",
       "      <td>0</td>\n",
       "      <td>188.0</td>\n",
       "      <td>NaN</td>\n",
       "      <td>NaN</td>\n",
       "      <td>NaN</td>\n",
       "      <td>NaN</td>\n",
       "    </tr>\n",
       "    <tr>\n",
       "      <th>1511</th>\n",
       "      <td>a69f018d5c064873a3b491b0121bc1b4</td>\n",
       "      <td>more poke</td>\n",
       "      <td>ресторан</td>\n",
       "      <td>Москва, Волоколамское шоссе, 11, стр. 2</td>\n",
       "      <td>Северный административный округ</td>\n",
       "      <td>пн-чт 09:00–18:00; пт,сб 09:00–21:00; вс 09:00...</td>\n",
       "      <td>4.2</td>\n",
       "      <td>1</td>\n",
       "      <td>188.0</td>\n",
       "      <td>NaN</td>\n",
       "      <td>NaN</td>\n",
       "      <td>NaN</td>\n",
       "      <td>NaN</td>\n",
       "    </tr>\n",
       "    <tr>\n",
       "      <th>2211</th>\n",
       "      <td>c6ef39ae8a8c483d8f9a6531bc386a2c</td>\n",
       "      <td>раковарня клешни и хвосты</td>\n",
       "      <td>ресторан</td>\n",
       "      <td>Москва, проспект Мира, 118</td>\n",
       "      <td>Северо-Восточный административный округ</td>\n",
       "      <td>ежедневно, 12:00–00:00</td>\n",
       "      <td>4.4</td>\n",
       "      <td>0</td>\n",
       "      <td>150.0</td>\n",
       "      <td>NaN</td>\n",
       "      <td>NaN</td>\n",
       "      <td>NaN</td>\n",
       "      <td>NaN</td>\n",
       "    </tr>\n",
       "    <tr>\n",
       "      <th>2420</th>\n",
       "      <td>aba1de7ad7d64ac0a3f8684bda29d905</td>\n",
       "      <td>раковарня клешни и хвосты</td>\n",
       "      <td>бар,паб</td>\n",
       "      <td>Москва, проспект Мира, 118</td>\n",
       "      <td>Северо-Восточный административный округ</td>\n",
       "      <td>пн-чт 12:00–00:00; пт,сб 12:00–01:00; вс 12:00...</td>\n",
       "      <td>4.4</td>\n",
       "      <td>1</td>\n",
       "      <td>150.0</td>\n",
       "      <td>NaN</td>\n",
       "      <td>NaN</td>\n",
       "      <td>NaN</td>\n",
       "      <td>NaN</td>\n",
       "    </tr>\n",
       "    <tr>\n",
       "      <th>3091</th>\n",
       "      <td>3c2a73ea79a04be48858fab3685f2f37</td>\n",
       "      <td>хлеб да выпечка</td>\n",
       "      <td>булочная</td>\n",
       "      <td>Москва, Ярцевская улица, 19</td>\n",
       "      <td>Западный административный округ</td>\n",
       "      <td>ежедневно, 09:00–22:00</td>\n",
       "      <td>4.1</td>\n",
       "      <td>1</td>\n",
       "      <td>276.0</td>\n",
       "      <td>NaN</td>\n",
       "      <td>NaN</td>\n",
       "      <td>NaN</td>\n",
       "      <td>NaN</td>\n",
       "    </tr>\n",
       "    <tr>\n",
       "      <th>3109</th>\n",
       "      <td>d3116844e4e048f99614eb30be3214e0</td>\n",
       "      <td>хлеб да выпечка</td>\n",
       "      <td>кафе</td>\n",
       "      <td>Москва, Ярцевская улица, 19</td>\n",
       "      <td>Западный административный округ</td>\n",
       "      <td>NaN</td>\n",
       "      <td>4.1</td>\n",
       "      <td>0</td>\n",
       "      <td>276.0</td>\n",
       "      <td>NaN</td>\n",
       "      <td>NaN</td>\n",
       "      <td>NaN</td>\n",
       "      <td>NaN</td>\n",
       "    </tr>\n",
       "  </tbody>\n",
       "</table>\n",
       "</div>"
      ],
      "text/plain": [
       "                                    id                       name  category  \\\n",
       "1430  62608690e9cc464fbcd980cfd552e334                  more poke  ресторан   \n",
       "1511  a69f018d5c064873a3b491b0121bc1b4                  more poke  ресторан   \n",
       "2211  c6ef39ae8a8c483d8f9a6531bc386a2c  раковарня клешни и хвосты  ресторан   \n",
       "2420  aba1de7ad7d64ac0a3f8684bda29d905  раковарня клешни и хвосты   бар,паб   \n",
       "3091  3c2a73ea79a04be48858fab3685f2f37            хлеб да выпечка  булочная   \n",
       "3109  d3116844e4e048f99614eb30be3214e0            хлеб да выпечка      кафе   \n",
       "\n",
       "                                      address  \\\n",
       "1430  Москва, Волоколамское шоссе, 11, стр. 2   \n",
       "1511  Москва, Волоколамское шоссе, 11, стр. 2   \n",
       "2211               Москва, проспект Мира, 118   \n",
       "2420               Москва, проспект Мира, 118   \n",
       "3091              Москва, Ярцевская улица, 19   \n",
       "3109              Москва, Ярцевская улица, 19   \n",
       "\n",
       "                                     district  \\\n",
       "1430          Северный административный округ   \n",
       "1511          Северный административный округ   \n",
       "2211  Северо-Восточный административный округ   \n",
       "2420  Северо-Восточный административный округ   \n",
       "3091          Западный административный округ   \n",
       "3109          Западный административный округ   \n",
       "\n",
       "                                                  hours  rating  chain  seats  \\\n",
       "1430                             ежедневно, 09:00–21:00     4.2      0  188.0   \n",
       "1511  пн-чт 09:00–18:00; пт,сб 09:00–21:00; вс 09:00...     4.2      1  188.0   \n",
       "2211                             ежедневно, 12:00–00:00     4.4      0  150.0   \n",
       "2420  пн-чт 12:00–00:00; пт,сб 12:00–01:00; вс 12:00...     4.4      1  150.0   \n",
       "3091                             ежедневно, 09:00–22:00     4.1      1  276.0   \n",
       "3109                                                NaN     4.1      0  276.0   \n",
       "\n",
       "     price avg_bill  middle_avg_bill  middle_coffee_cup  \n",
       "1430   NaN      NaN              NaN                NaN  \n",
       "1511   NaN      NaN              NaN                NaN  \n",
       "2211   NaN      NaN              NaN                NaN  \n",
       "2420   NaN      NaN              NaN                NaN  \n",
       "3091   NaN      NaN              NaN                NaN  \n",
       "3109   NaN      NaN              NaN                NaN  "
      ]
     },
     "metadata": {},
     "output_type": "display_data"
    }
   ],
   "source": [
    "dup=df.duplicated(subset=['name','address']).sum()\n",
    "duplicates = df[df.duplicated(subset=['name', 'address'], keep=False)]\n",
    "\n",
    "display(f'Количество дублирующихся строк по столбцам name и address:{dup}')\n",
    "display(duplicates)\n"
   ]
  },
  {
   "cell_type": "markdown",
   "id": "61a1e5ba",
   "metadata": {},
   "source": [
    "Обнаружены 3 дублирующие строки, оставим данные как есть, так как на данном этапе нет возможности связаться с заказчиком для уточнения информации. Причина появления неявных дубликатов - изменение режима работы, дублирование информации в столбце hours, которая содержит разный режим работы для одного заведения, а также изменение параметра сетевого и несетевого заведения в виду возможного изменения статуса заведения и организационной структуры управления и категории, например, из булочной переквалифицировались в кафе."
   ]
  },
  {
   "cell_type": "markdown",
   "id": "4c0563f2",
   "metadata": {
    "id": "4c0563f2"
   },
   "source": [
    "- Для дальнейшей работы создайте столбец `is_24_7` с обозначением того, что заведение работает ежедневно и круглосуточно, то есть 24/7:\n",
    "  - логическое значение `True` — если заведение работает ежедневно и круглосуточно;\n",
    "  - логическое значение `False` — в противоположном случае."
   ]
  },
  {
   "cell_type": "code",
   "execution_count": 22,
   "id": "d8a8a963",
   "metadata": {
    "id": "d8a8a963"
   },
   "outputs": [
    {
     "data": {
      "text/plain": [
       "array(['ежедневно, 10:00–22:00',\n",
       "       'пн-чт 11:00–02:00; пт,сб 11:00–05:00; вс 11:00–02:00',\n",
       "       'ежедневно, 09:00–22:00', ...,\n",
       "       'пн-пт 08:30–21:30; сб,вс 09:00–21:30',\n",
       "       'пн-чт 13:00–22:00; пт,сб 13:00–22:30; вс 13:00–22:00',\n",
       "       'пн-сб 10:30–21:30'], dtype=object)"
      ]
     },
     "execution_count": 22,
     "metadata": {},
     "output_type": "execute_result"
    }
   ],
   "source": [
    "# Проверим какие уникальные значения содержит столбец hours\n",
    "df['hours'].unique()"
   ]
  },
  {
   "cell_type": "code",
   "execution_count": 23,
   "id": "48609172",
   "metadata": {
    "id": "42d1e685"
   },
   "outputs": [
    {
     "data": {
      "text/plain": [
       "0       False\n",
       "1       False\n",
       "2       False\n",
       "3       False\n",
       "4       False\n",
       "        ...  \n",
       "8401    False\n",
       "8402    False\n",
       "8403     True\n",
       "8404     True\n",
       "8405     True\n",
       "Name: is_24_7, Length: 8406, dtype: bool"
      ]
     },
     "metadata": {},
     "output_type": "display_data"
    }
   ],
   "source": [
    "# Напишем цикл, который найдет строку \"круглосуточно\" в столбце со временем работы заведения и запишет данное значений в новый столбец со значение True\n",
    "df['is_24_7'] = False # зададим исходное значение для нового столбца с булевым типом данных\n",
    "\n",
    "for index, row in df.iterrows(): # напишем цикл, который будет проходится по индексу и строкам и записывать значения в новый столбец\n",
    "    if 'ежедневно, круглосуточно' in str(row['hours']): # если строка содержит 'ежедневно, круглосуточно'\n",
    "        df.at[index, 'is_24_7'] = True # то определяем значение в столбец как True\n",
    "display(df['is_24_7'])"
   ]
  },
  {
   "cell_type": "code",
   "execution_count": 24,
   "id": "61304e83",
   "metadata": {
    "id": "61304e83"
   },
   "outputs": [
    {
     "data": {
      "text/plain": [
       "8401      ежедневно, 09:00–02:00\n",
       "8402      ежедневно, 08:00–22:00\n",
       "8403    ежедневно, круглосуточно\n",
       "8404    ежедневно, круглосуточно\n",
       "8405    ежедневно, круглосуточно\n",
       "Name: hours, dtype: object"
      ]
     },
     "metadata": {},
     "output_type": "display_data"
    },
    {
     "data": {
      "text/plain": [
       "8401    False\n",
       "8402    False\n",
       "8403     True\n",
       "8404     True\n",
       "8405     True\n",
       "Name: is_24_7, dtype: bool"
      ]
     },
     "metadata": {},
     "output_type": "display_data"
    }
   ],
   "source": [
    "# Проверим работу функции, выведем последние 5 строк столбцов \n",
    "display(df['hours'].tail(5))\n",
    "display(df['is_24_7'].tail(5))"
   ]
  },
  {
   "cell_type": "markdown",
   "id": "562f30ab",
   "metadata": {
    "id": "562f30ab"
   },
   "source": [
    "---\n",
    "\n",
    "### Промежуточный вывод\n",
    "\n",
    "После предобработки данных напишите промежуточный вывод о проведённой работе. Отразите количество или долю отфильтрованных данных, если вы что-то удаляли."
   ]
  },
  {
   "cell_type": "markdown",
   "id": "5fe8d974",
   "metadata": {
    "id": "e3388762"
   },
   "source": [
    "В результате предобработки данных были выполнены следующие действия:\n",
    "\n",
    "- В целях оптимизации преобразован тип данных в столбце `chain` на целочисленный;\n",
    "- Изучены пропуски в данных. Пропуски обнаружились во многих столбцах объдиненного датасета и составляют от 6% до 95% данных столбцов. Учитывая это количество, часть пропусков можно объяснить имеющимися данными, так как были заполнены на основе значений другого столбца и не являются ошибкой в данных. Все пропуски оставили как есть.\n",
    "- Данные проверили на явные и неявные дубликаты — обнаружено 3 неявных дубликата.\n"
   ]
  },
  {
   "cell_type": "markdown",
   "id": "6953e84c",
   "metadata": {
    "id": "6953e84c"
   },
   "source": [
    "## 3. Исследовательский анализ данных\n",
    "Проведем исследовательский анализ исходных данных. Посмотрим на количество объектов общественного питания по каждой категории."
   ]
  },
  {
   "cell_type": "code",
   "execution_count": 25,
   "id": "ef2bffe9",
   "metadata": {
    "id": "ef2bffe9"
   },
   "outputs": [
    {
     "name": "stdout",
     "output_type": "stream",
     "text": [
      "Распределение данных по значениям столбца category:\n"
     ]
    },
    {
     "data": {
      "text/plain": [
       "кафе               2378\n",
       "ресторан           2043\n",
       "кофейня            1413\n",
       "бар,паб             765\n",
       "пиццерия            633\n",
       "быстрое питание     603\n",
       "столовая            315\n",
       "булочная            256\n",
       "Name: category, dtype: int64"
      ]
     },
     "execution_count": 25,
     "metadata": {},
     "output_type": "execute_result"
    }
   ],
   "source": [
    "# Проверяем распределение данных по значениям столбца с категориями общественного питания\n",
    "print('Распределение данных по значениям столбца category:')\n",
    "df['category'].value_counts()"
   ]
  },
  {
   "cell_type": "markdown",
   "id": "3f8c3b71",
   "metadata": {
    "id": "71ab5e91"
   },
   "source": [
    "Для визуального анализа такого распределения используем столбчатые диаграммы. Визуализируем распределение в столбце `category`:"
   ]
  },
  {
   "cell_type": "code",
   "execution_count": 26,
   "id": "63360b97",
   "metadata": {
    "id": "63360b97"
   },
   "outputs": [
    {
     "data": {
      "image/png": "[encoded data removed]",
      "text/plain": [
       "<Figure size 864x432 with 1 Axes>"
      ]
     },
     "metadata": {
      "needs_background": "light"
     },
     "output_type": "display_data"
    }
   ],
   "source": [
    "# Создаём контейнер графика matplotlib и задаём его размер\n",
    "plt.figure(figsize=(12, 6))\n",
    "\n",
    "# Строим столбчатую диаграмму с помощью pandas через plot(kind='bar')\n",
    "df['category'].value_counts().plot(\n",
    "               kind='bar', # Тип графика - столбчатая диаграмма\n",
    "               rot=0, # Градус вращения подписи по оси Х\n",
    "               legend=False, # Выключаем легенду\n",
    "               title=f'Распределение данных по категориям общественного питания'\n",
    ")\n",
    "\n",
    "# Настраиваем оформление графика\n",
    "plt.xlabel('Количество категорий')\n",
    "plt.ylabel('Количество заведений')\n",
    "\n",
    "# Выводим график\n",
    "plt.show()"
   ]
  },
  {
   "cell_type": "markdown",
   "id": "445d8a8f",
   "metadata": {},
   "source": [
    "Из распределения данных по категориям общественного питания Москвы видно, что наибольшее количество заведений - кафе, затем рестораны и кофейня. Булочных и столовых в столице меньше всего."
   ]
  },
  {
   "cell_type": "markdown",
   "id": "6821e1d0",
   "metadata": {
    "id": "6821e1d0"
   },
   "source": [
    "Чтобы ответить на вопрос, какие административные районы Москвы присутствуют в данных, исследуем распределение количества заведений по административным районам Москвы, а также отдельно распределение заведений каждой категории в Центральном административном округе Москвы."
   ]
  },
  {
   "cell_type": "code",
   "execution_count": 27,
   "id": "afefba67",
   "metadata": {},
   "outputs": [
    {
     "data": {
      "text/plain": [
       "Центральный административный округ         2242\n",
       "Северный административный округ             900\n",
       "Южный административный округ                892\n",
       "Северо-Восточный административный округ     891\n",
       "Западный административный округ             851\n",
       "Восточный административный округ            798\n",
       "Юго-Восточный административный округ        714\n",
       "Юго-Западный административный округ         709\n",
       "Северо-Западный административный округ      409\n",
       "Name: district, dtype: int64"
      ]
     },
     "metadata": {},
     "output_type": "display_data"
    }
   ],
   "source": [
    "# Считаем количество заведений по району\n",
    "counts = df['district'].value_counts()\n",
    "\n",
    "display(counts)"
   ]
  },
  {
   "cell_type": "code",
   "execution_count": 28,
   "id": "e62f31be",
   "metadata": {
    "id": "e62f31be"
   },
   "outputs": [
    {
     "data": {
      "image/png": "[encoded data removed]",
      "text/plain": [
       "<Figure size 1008x432 with 1 Axes>"
      ]
     },
     "metadata": {
      "needs_background": "light"
     },
     "output_type": "display_data"
    }
   ],
   "source": [
    "# Создаём контейнер графика matplotlib и задаём его размер\n",
    "plt.figure(figsize=(14, 6))\n",
    "\n",
    "# Сократим наименование административного района\n",
    "df['district'] = df['district'].str.replace('административный округ','АО')\n",
    "\n",
    "# Строим столбчатую диаграмму\n",
    "df['district'].value_counts().plot(\n",
    "    kind='bar',\n",
    "    rot=45,\n",
    "    legend=False,\n",
    "    title='Распределение заведений по административным округам Москвы'\n",
    ")\n",
    "\n",
    "# Настраиваем оформление графика\n",
    "plt.xlabel('Административные округа Москвы')\n",
    "plt.ylabel('Количество заведений')\n",
    "\n",
    "# Выводим график\n",
    "plt.show()\n"
   ]
  },
  {
   "cell_type": "markdown",
   "id": "6c25a367",
   "metadata": {
    "id": "0a290cd1"
   },
   "source": [
    "Из распределения данных по районам общественного питания Москвы видно, что наибольшее количество заведений расположены в Центральном административном округе. По остальным районам распределение почти равномерное, к Северо-Западному АО наблюдается снижение количества заведений."
   ]
  },
  {
   "cell_type": "markdown",
   "id": "60bb28ab",
   "metadata": {
    "id": "41f1654a"
   },
   "source": [
    "Отдельно рассмотрим распределение заведений каждой категории в Центральном административном округе Москвы."
   ]
  },
  {
   "cell_type": "code",
   "execution_count": 29,
   "id": "b1b91211",
   "metadata": {},
   "outputs": [
    {
     "data": {
      "image/png": "[encoded data removed]",
      "text/plain": [
       "<Figure size 864x432 with 1 Axes>"
      ]
     },
     "metadata": {
      "needs_background": "light"
     },
     "output_type": "display_data"
    }
   ],
   "source": [
    "# Создаём контейнер графика matplotlib и задаём его размер\n",
    "plt.figure(figsize=(12, 6))\n",
    "\n",
    "# Фильтруем данные по центральному району\n",
    "filtered_df = df[df['district'] == 'Центральный АО']\n",
    "\n",
    "# Считаем количество заведений в каждой категории\n",
    "counts = filtered_df['category'].value_counts()\n",
    "\n",
    "# Строим столбчатую диаграмму\n",
    "counts.plot(\n",
    "    kind='bar',\n",
    "    rot=0,\n",
    "    legend=False,\n",
    "    title='Распределение заведений в Центральном административном округе'\n",
    ")\n",
    "\n",
    "# Настраиваем оформление графика\n",
    "plt.xlabel('Категории заведений')\n",
    "plt.ylabel('Количество заведений')\n",
    "\n",
    "# Выводим график\n",
    "plt.show()\n"
   ]
  },
  {
   "cell_type": "markdown",
   "id": "f1984af3",
   "metadata": {},
   "source": [
    "Самое распространное заведение общественного питания в Центральном округе Москвы - рестораны, меньше всего столовых и булочных."
   ]
  },
  {
   "cell_type": "markdown",
   "id": "7c824f58",
   "metadata": {
    "id": "7c824f58"
   },
   "source": [
    "---\n",
    "\n",
    "Отдельно изучим соотношение сетевых и несетевых заведений в целом по всем данным и в разрезе категорий заведения. Исследуем данные и ответим на следующие вопросы: каких заведений больше — сетевых или несетевых? Какие категории заведений чаще являются сетевыми?"
   ]
  },
  {
   "cell_type": "code",
   "execution_count": 30,
   "id": "845ec879",
   "metadata": {},
   "outputs": [
    {
     "data": {
      "text/plain": [
       "'Количество сетевых и несетевых заведений:'"
      ]
     },
     "metadata": {},
     "output_type": "display_data"
    },
    {
     "data": {
      "text/plain": [
       "0    5201\n",
       "1    3205\n",
       "Name: chain, dtype: int64"
      ]
     },
     "metadata": {},
     "output_type": "display_data"
    },
    {
     "data": {
      "text/plain": [
       "'Доля сетевых и несетевых заведений:'"
      ]
     },
     "metadata": {},
     "output_type": "display_data"
    },
    {
     "data": {
      "text/plain": [
       "0    61.872472\n",
       "1    38.127528\n",
       "Name: chain, dtype: float64"
      ]
     },
     "metadata": {},
     "output_type": "display_data"
    }
   ],
   "source": [
    "# Посчитаем количество сетевых и несетевых заведений\n",
    "count_chain = df['chain'].value_counts()\n",
    "share_chain = df['chain'].value_counts() / df.shape[0]*100.0\n",
    "\n",
    "display('Количество сетевых и несетевых заведений:')\n",
    "display(count_chain)\n",
    "display('Доля сетевых и несетевых заведений:')\n",
    "display(share_chain)\n",
    "\n"
   ]
  },
  {
   "cell_type": "markdown",
   "id": "6a11f2df",
   "metadata": {
    "id": "ef442d1a"
   },
   "source": [
    "Изучим соотношение сетевых и несетевых заведений в целом по всем данным"
   ]
  },
  {
   "cell_type": "code",
   "execution_count": 31,
   "id": "8ef856b7",
   "metadata": {},
   "outputs": [
    {
     "data": {
      "image/png": "[encoded data removed]",
      "text/plain": [
       "<Figure size 504x216 with 1 Axes>"
      ]
     },
     "metadata": {
      "needs_background": "light"
     },
     "output_type": "display_data"
    }
   ],
   "source": [
    "# Создаём контейнер графика matplotlib и задаём его размер\n",
    "plt.figure(figsize=(7, 3))\n",
    "\n",
    "# Строим гистограмму с помощью pandas через plot(kind='hist')\n",
    "df['chain'].value_counts().plot(\n",
    "                kind='bar', # Тип графика - гистограмма\n",
    "                rot=0,\n",
    "                legend=False,\n",
    "                title='Соотношение сетевых и несетевых заведений')\n",
    "\n",
    "# Настраиваем оформление графика\n",
    "plt.xlabel('Признак заведения (0 - несетевое, 1 - сетевое)')\n",
    "plt.ylabel('Количество заведений')\n",
    "\n",
    "# Выводим график\n",
    "plt.show()"
   ]
  },
  {
   "cell_type": "code",
   "execution_count": 32,
   "id": "1ca274c4",
   "metadata": {},
   "outputs": [
    {
     "data": {
      "image/png": "[encoded data removed]",
      "text/plain": [
       "<Figure size 432x288 with 1 Axes>"
      ]
     },
     "metadata": {},
     "output_type": "display_data"
    }
   ],
   "source": [
    "# Построим круговую диаграмму по долям распределения сетевых и несетевых заведений\n",
    "\n",
    "# Подсчитываем количество сетевых и несетевых заведений\n",
    "counts = df['chain'].value_counts()\n",
    "\n",
    "# Построим круговую диаграмму\n",
    "plt.pie(counts, labels=['Сетевое', 'Несетевое'], autopct='%1.1f%%')\n",
    "\n",
    "plt.show()\n"
   ]
  },
  {
   "cell_type": "markdown",
   "id": "b417476f",
   "metadata": {},
   "source": [
    "В целом по всем категориям общественного питания во всех районах Москвы преобладает количество несетевых заведений. "
   ]
  },
  {
   "cell_type": "markdown",
   "id": "2c0049a4",
   "metadata": {
    "id": "0de29fa2"
   },
   "source": [
    "Посмотрим на данные более детальнона долю сетевых заведений в разрезе категорий заведения. Для анализа используем столбчатые диаграммы с распределением сетевых заведений по категориям общественного питания:"
   ]
  },
  {
   "cell_type": "code",
   "execution_count": 33,
   "id": "a139bd72",
   "metadata": {
    "id": "a139bd72"
   },
   "outputs": [
    {
     "data": {
      "image/png": "[encoded data removed]",
      "text/plain": [
       "<Figure size 720x360 with 1 Axes>"
      ]
     },
     "metadata": {
      "needs_background": "light"
     },
     "output_type": "display_data"
    }
   ],
   "source": [
    "# Группируем по категории и считаем количество сетевых и несетевых заведений\n",
    "grouped = df.groupby('category')['chain'].value_counts(normalize=True).unstack()\n",
    "\n",
    "# Переименовываем столбцы для удобства\n",
    "grouped.columns = ['share_not_chain', 'share_of_chain']\n",
    "\n",
    "# Выбираем долю сетевых заведений\n",
    "result = grouped['share_of_chain'].reset_index()\n",
    "\n",
    "# Сортируем результат по доле сетевых заведений в порядке убывания\n",
    "result = result.sort_values(by='share_of_chain', ascending=False)\n",
    "\n",
    "# Строим столбчатую диаграмму\n",
    "plt.figure(figsize=(10, 5))\n",
    "\n",
    "plt.bar(result['category'], result['share_of_chain'], color='skyblue')\n",
    "\n",
    "plt.title('Доля сетевых заведений по категориям')\n",
    "plt.xlabel('Категория заведения')\n",
    "plt.ylabel('Доля сетевых заведений')\n",
    "\n",
    "plt.grid(axis='y', linestyle='--', alpha=0.7)\n",
    "plt.xticks(rotation=45)\n",
    "\n",
    "plt.show()\n",
    " "
   ]
  },
  {
   "cell_type": "markdown",
   "id": "496c03ee",
   "metadata": {},
   "source": [
    "Изучив распределение сетевых и несетевых заведений в целом по всем категориям и районам Москвы преобладает количество несетевых заведений. Среди сетевых заведений чаще всего встречаются заведения следующих категорий: булочная, кофейня, пиццерия."
   ]
  },
  {
   "cell_type": "markdown",
   "id": "5913c3e3",
   "metadata": {
    "id": "5913c3e3"
   },
   "source": [
    "Исследуем количество посадочных мест в заведениях. Проверим данные на наличие аномальных значений или выбросов. Если есть, предположим, с чем они могут быть связаны. Приведем для каждой категории заведений наиболее типичное для него количество посадочных мест.\n"
   ]
  },
  {
   "cell_type": "code",
   "execution_count": 34,
   "id": "b5fd6cfc",
   "metadata": {},
   "outputs": [
    {
     "data": {
      "text/plain": [
       "'Статистические показатели столбца seats:'"
      ]
     },
     "metadata": {},
     "output_type": "display_data"
    },
    {
     "data": {
      "text/plain": [
       "count    4795.000000\n",
       "mean      108.421689\n",
       "std       122.833396\n",
       "min         0.000000\n",
       "25%        40.000000\n",
       "50%        75.000000\n",
       "75%       140.000000\n",
       "max      1288.000000\n",
       "Name: seats, dtype: float64"
      ]
     },
     "execution_count": 34,
     "metadata": {},
     "output_type": "execute_result"
    }
   ],
   "source": [
    "# Выведем общие статистические показатели для столбца\n",
    "display('Статистические показатели столбца seats:')\n",
    "df['seats'].describe()"
   ]
  },
  {
   "cell_type": "markdown",
   "id": "95751b29",
   "metadata": {
    "id": "6cb238d2"
   },
   "source": [
    "Построим график распределения для исследования значений на возможные аномальные значения или выбросы в столбце `seats` количества посадочных мест."
   ]
  },
  {
   "cell_type": "code",
   "execution_count": 35,
   "id": "062b55d8",
   "metadata": {
    "id": "062b55d8"
   },
   "outputs": [
    {
     "data": {
      "image/png": "[encoded data removed]",
      "text/plain": [
       "<Figure size 432x288 with 1 Axes>"
      ]
     },
     "metadata": {
      "needs_background": "light"
     },
     "output_type": "display_data"
    }
   ],
   "source": [
    "# Построим распределение данных для столбца `seats`\n",
    "sns.histplot(data=df, x='seats')\n",
    "\n",
    "# Подписываем и отображаем график\n",
    "plt.title('Распределение данных в столбце seats')\n",
    "plt.ylabel('Количество посадочных мест')\n",
    "plt.show()"
   ]
  },
  {
   "cell_type": "markdown",
   "id": "dbcf7b68",
   "metadata": {
    "id": "ceadf25b"
   },
   "source": [
    "На графике наблюдается правосторонняя, или положительная, асимметрия — правый хвост распределения сильно вытянут. Это указывает на присутствие высоких значений, которые оттягивают распределение вправо. Среднее значение превышает медиану — это также подтверждает наличие положительных выбросов, которые оказывают влияние на центральные показатели."
   ]
  },
  {
   "cell_type": "markdown",
   "id": "c86cb442",
   "metadata": {},
   "source": [
    "Посмотрим на выбросы с помощью диаграмм размаха."
   ]
  },
  {
   "cell_type": "code",
   "execution_count": 36,
   "id": "9d0cd89e",
   "metadata": {},
   "outputs": [
    {
     "data": {
      "image/png": "[encoded data removed]",
      "text/plain": [
       "<Figure size 504x144 with 1 Axes>"
      ]
     },
     "metadata": {
      "needs_background": "light"
     },
     "output_type": "display_data"
    }
   ],
   "source": [
    "# Создаём контейнер графика matplotlib и задаём его размер\n",
    "plt.figure(figsize=(7, 2))\n",
    "\n",
    "# Строим диаграмму размаха значений в столбце seats\n",
    "df.boxplot(column='seats', vert=False)\n",
    "\n",
    "# Добавляем заголовок и метки оси\n",
    "plt.title('Распределение данных о количестве посадочных мест')\n",
    "plt.xlabel('Количество посадочных мест')\n",
    "\n",
    "# Выводим график\n",
    "plt.show()"
   ]
  },
  {
   "cell_type": "markdown",
   "id": "668c986c",
   "metadata": {},
   "source": [
    "Также проверим распределение посадочных мест в зависимости от категории"
   ]
  },
  {
   "cell_type": "code",
   "execution_count": 37,
   "id": "98460eac",
   "metadata": {},
   "outputs": [
    {
     "data": {
      "image/png": "[encoded data removed]",
      "text/plain": [
       "<Figure size 1080x432 with 1 Axes>"
      ]
     },
     "metadata": {
      "needs_background": "light"
     },
     "output_type": "display_data"
    }
   ],
   "source": [
    "# Группируем данные по категориям и сортируем по медиане\n",
    "grouped=df.groupby('category')['seats'].median().sort_values(ascending=False).index\n",
    "\n",
    "plt.figure(figsize=(15,6))\n",
    "sns.boxplot(x='category',\n",
    "            y='seats',\n",
    "            data=df,\n",
    "            showmeans=True,\n",
    "            order=grouped,\n",
    "            palette='coolwarm').set(title='Распределение посадочных мест по категориям',\n",
    "                                    xlabel='Категория заведение',\n",
    "                                    ylabel='Количество мест',\n",
    "                                    ylim=(0,350)\n",
    "                        )\n",
    "plt.show()\n",
    "           "
   ]
  },
  {
   "cell_type": "markdown",
   "id": "4bc81f61",
   "metadata": {},
   "source": [
    "Наблюдается правое смещение в большую сторону значений, медиана смещена вниз, ближе к нижнему квартилю.\n",
    "Аномальные высокие значения с количеством посадочных мест могут быть связаны с несколькими факторами:\n",
    "- При вводе данных были допущены ошибки и случайно введено слишком большое число.\n",
    "- Некоторые заведения могут иметь большое количество посадочных мест, например, рестораны, которые испльзуют как банкетные залы для проведения свадеб или конференций, концертов.\n",
    "- Возможно, вместо количества посадочных мест было указано размер помещения в квадратных метрах.\n"
   ]
  },
  {
   "cell_type": "markdown",
   "id": "978f598d",
   "metadata": {},
   "source": [
    "Для каждой категории заведений найдем наиболее типичное для него количество посадочных мест."
   ]
  },
  {
   "cell_type": "code",
   "execution_count": 38,
   "id": "af723fb7",
   "metadata": {},
   "outputs": [
    {
     "data": {
      "text/html": [
       "<div>\n",
       "<style scoped>\n",
       "    .dataframe tbody tr th:only-of-type {\n",
       "        vertical-align: middle;\n",
       "    }\n",
       "\n",
       "    .dataframe tbody tr th {\n",
       "        vertical-align: top;\n",
       "    }\n",
       "\n",
       "    .dataframe thead th {\n",
       "        text-align: right;\n",
       "    }\n",
       "</style>\n",
       "<table border=\"1\" class=\"dataframe\">\n",
       "  <thead>\n",
       "    <tr style=\"text-align: right;\">\n",
       "      <th></th>\n",
       "      <th>category</th>\n",
       "      <th>seats</th>\n",
       "    </tr>\n",
       "  </thead>\n",
       "  <tbody>\n",
       "    <tr>\n",
       "      <th>0</th>\n",
       "      <td>бар,паб</td>\n",
       "      <td>82.5</td>\n",
       "    </tr>\n",
       "    <tr>\n",
       "      <th>1</th>\n",
       "      <td>булочная</td>\n",
       "      <td>50.0</td>\n",
       "    </tr>\n",
       "    <tr>\n",
       "      <th>2</th>\n",
       "      <td>быстрое питание</td>\n",
       "      <td>65.0</td>\n",
       "    </tr>\n",
       "    <tr>\n",
       "      <th>3</th>\n",
       "      <td>кафе</td>\n",
       "      <td>60.0</td>\n",
       "    </tr>\n",
       "    <tr>\n",
       "      <th>4</th>\n",
       "      <td>кофейня</td>\n",
       "      <td>80.0</td>\n",
       "    </tr>\n",
       "    <tr>\n",
       "      <th>5</th>\n",
       "      <td>пиццерия</td>\n",
       "      <td>55.0</td>\n",
       "    </tr>\n",
       "    <tr>\n",
       "      <th>6</th>\n",
       "      <td>ресторан</td>\n",
       "      <td>86.0</td>\n",
       "    </tr>\n",
       "    <tr>\n",
       "      <th>7</th>\n",
       "      <td>столовая</td>\n",
       "      <td>75.5</td>\n",
       "    </tr>\n",
       "  </tbody>\n",
       "</table>\n",
       "</div>"
      ],
      "text/plain": [
       "          category  seats\n",
       "0          бар,паб   82.5\n",
       "1         булочная   50.0\n",
       "2  быстрое питание   65.0\n",
       "3             кафе   60.0\n",
       "4          кофейня   80.0\n",
       "5         пиццерия   55.0\n",
       "6         ресторан   86.0\n",
       "7         столовая   75.5"
      ]
     },
     "metadata": {},
     "output_type": "display_data"
    }
   ],
   "source": [
    "# Используем метод groupby() для группировки по категориям и расчета медианы для поиска типичного количества мест\n",
    "\n",
    "typical_seats = df.groupby('category')['seats'].median().reset_index()\n",
    "display(typical_seats)"
   ]
  },
  {
   "cell_type": "markdown",
   "id": "8ed065ea",
   "metadata": {
    "id": "8ed065ea"
   },
   "source": [
    "Исследуем рейтинг заведений. Визуализируем распределение средних рейтингов по категориям заведений, а также проверим сильно ли различаются усреднённые рейтинги для разных типов общепита."
   ]
  },
  {
   "cell_type": "markdown",
   "id": "ab6f6b25",
   "metadata": {},
   "source": [
    "Для изучения рейтинга заведений рассчитаем среднее значение рейтинга и визуализируем при помощи столбчатой диаграммы:"
   ]
  },
  {
   "cell_type": "code",
   "execution_count": 39,
   "id": "cc5206f8",
   "metadata": {
    "id": "cc5206f8"
   },
   "outputs": [
    {
     "data": {
      "image/png": "[encoded data removed]",
      "text/plain": [
       "<Figure size 1008x576 with 1 Axes>"
      ]
     },
     "metadata": {
      "needs_background": "light"
     },
     "output_type": "display_data"
    }
   ],
   "source": [
    "# Группируем данные по категориям и подсчитываем средний рейтинг для них и добавим сортировку\n",
    "df_copy = df.copy()\n",
    "average_rating = df_copy.groupby('category')['rating'].mean().sort_values(ascending=False)\n",
    "\n",
    "# Строим столбчатую диаграмму\n",
    "average_rating.plot(kind='bar',\n",
    "                    title='Распределение средних рейтингов по категориям заведений',\n",
    "                    legend=False,\n",
    "                    ylabel='Средний рейтинг',\n",
    "                    xlabel='Категория',\n",
    "                    rot=0,\n",
    "                    figsize=(14, 8))\n",
    "\n",
    "# Выведем сетку\n",
    "plt.grid()\n",
    "\n",
    "# Выводим график\n",
    "plt.show()"
   ]
  },
  {
   "cell_type": "markdown",
   "id": "7a4b069c",
   "metadata": {},
   "source": [
    "Интересно будет сравнивать значения в каждой категории со средним для всех данных — это поможет понять, где показатель уменьшается, а где увеличивается.\n",
    "Добавим на график линию, которая будет показывать среднее значение рейтинга по всем данным:"
   ]
  },
  {
   "cell_type": "code",
   "execution_count": 40,
   "id": "53f4b27c",
   "metadata": {},
   "outputs": [
    {
     "data": {
      "image/png": "[encoded data removed]",
      "text/plain": [
       "<Figure size 1008x576 with 1 Axes>"
      ]
     },
     "metadata": {
      "needs_background": "light"
     },
     "output_type": "display_data"
    }
   ],
   "source": [
    "# Группируем данные по категориям и подсчитываем средний рейтинг для них и отсортируем\n",
    "aveger_rating = df.groupby('category')['rating'].mean().sort_values(ascending=False)\n",
    "\n",
    "aveger_rating.plot(kind='bar',\n",
    "                   title=f'Распределение средних рейтингов по категориям заведений',\n",
    "                   legend=False,\n",
    "                   ylabel='Средний рейтинг',\n",
    "                   xlabel='Категория',\n",
    "                   rot=0,\n",
    "                   figsize=(14,8)\n",
    ")\n",
    "\n",
    "# Рассчитываем среднее значение рейтинга\n",
    "mean_rating = df['rating'].mean()\n",
    "\n",
    "# Наносим на график линию с средним значением доли нелояльных клиентов\n",
    "plt.axhline(mean_rating, # Данные, по которым строится линия\n",
    "            color='red', # Цвет линии\n",
    "            linestyle='--', # Стиль линии\n",
    "            linewidth=1, # Ширина линии\n",
    "            label=f'Средний рейтинг по категориям {round(mean_rating,2)}')\n",
    "\n",
    "# Выведем сетку и легенду\n",
    "plt.grid()\n",
    "plt.legend()\n",
    "\n",
    "\n",
    "# Выводим график\n",
    "plt.show()"
   ]
  },
  {
   "cell_type": "markdown",
   "id": "3ce60090",
   "metadata": {
    "id": "3e0ec5d7"
   },
   "source": [
    "Теперь на визуализации видны различия среднего рейтинга заведения для каждой категории заведения по отношению к среднему значению в общем.\n",
    "\n",
    "Средний рейтинг по барам и пабам выше среднего по всем заведениям. По булочным, кофейням, пиццериям и ресторанам также немного выше среднего, по заведения быстрого питания - ниже общего среднего. Но все же усредненные рейтинги не сильно отличаются друг от друга и находятся выше рейтинга со значением 4."
   ]
  },
  {
   "cell_type": "markdown",
   "id": "dd9702d9",
   "metadata": {
    "id": "dd9702d9"
   },
   "source": [
    "---\n",
    "Посмотрим также, с какими данными показывают самую сильную корреляцию рейтинги заведений. Построем и визуализируем матрицу корреляции рейтинга заведения с разными данными: его категория, положение (административный район Москвы), статус сетевого заведения, количество мест, ценовая категория и признак, является ли заведения круглосуточным. Выберем самую сильную связь и проверим её."
   ]
  },
  {
   "cell_type": "markdown",
   "id": "b572b3fc",
   "metadata": {},
   "source": [
    "Для анализа корреляции рейтинга заведения построим матрицу корреляции:"
   ]
  },
  {
   "cell_type": "code",
   "execution_count": 41,
   "id": "15400eb9",
   "metadata": {
    "id": "15400eb9"
   },
   "outputs": [
    {
     "name": "stdout",
     "output_type": "stream",
     "text": [
      "interval columns not set, guessing: ['chain', 'seats', 'rating']\n",
      "Корреляционная матрица с коэффициентом phi_k для переменной rating\n"
     ]
    },
    {
     "data": {
      "text/html": [
       "<div>\n",
       "<style scoped>\n",
       "    .dataframe tbody tr th:only-of-type {\n",
       "        vertical-align: middle;\n",
       "    }\n",
       "\n",
       "    .dataframe tbody tr th {\n",
       "        vertical-align: top;\n",
       "    }\n",
       "\n",
       "    .dataframe thead th {\n",
       "        text-align: right;\n",
       "    }\n",
       "</style>\n",
       "<table border=\"1\" class=\"dataframe\">\n",
       "  <thead>\n",
       "    <tr style=\"text-align: right;\">\n",
       "      <th></th>\n",
       "      <th>rating</th>\n",
       "    </tr>\n",
       "  </thead>\n",
       "  <tbody>\n",
       "    <tr>\n",
       "      <th>price</th>\n",
       "      <td>0.220295</td>\n",
       "    </tr>\n",
       "    <tr>\n",
       "      <th>district</th>\n",
       "      <td>0.200691</td>\n",
       "    </tr>\n",
       "    <tr>\n",
       "      <th>category</th>\n",
       "      <td>0.190003</td>\n",
       "    </tr>\n",
       "    <tr>\n",
       "      <th>is_24_7</th>\n",
       "      <td>0.150173</td>\n",
       "    </tr>\n",
       "    <tr>\n",
       "      <th>chain</th>\n",
       "      <td>0.108092</td>\n",
       "    </tr>\n",
       "    <tr>\n",
       "      <th>seats</th>\n",
       "      <td>0.000000</td>\n",
       "    </tr>\n",
       "  </tbody>\n",
       "</table>\n",
       "</div>"
      ],
      "text/plain": [
       "            rating\n",
       "price     0.220295\n",
       "district  0.200691\n",
       "category  0.190003\n",
       "is_24_7   0.150173\n",
       "chain     0.108092\n",
       "seats     0.000000"
      ]
     },
     "execution_count": 41,
     "metadata": {},
     "output_type": "execute_result"
    }
   ],
   "source": [
    "# Вычисляем корреляционную матрицу с использованием phi_k\n",
    "correlation_matrix = df[['category', 'district', 'chain', 'seats', 'price',\n",
    "                         'is_24_7','rating']].phik_matrix()\n",
    "# Выводим результат\n",
    "print('Корреляционная матрица с коэффициентом phi_k для переменной rating')\n",
    "correlation_matrix.loc[correlation_matrix.index != 'rating'][['rating']].sort_values(by='rating', ascending=False)"
   ]
  },
  {
   "cell_type": "markdown",
   "id": "6f9becf9",
   "metadata": {
    "id": "1a65a84d"
   },
   "source": [
    "Ценовая категория показывают большую корреляцию с рейтингом заведения. Это указывает на наличие положительной, но не очень сильной линейной взаимосвязи между этими двумя переменными. Чем выше значение рейтинга, тем выше цена, но эта связь не является очень тесной. Проверим ее, так как phi_k сообщает только о наличии связи между данными."
   ]
  },
  {
   "cell_type": "markdown",
   "id": "76324593",
   "metadata": {},
   "source": [
    "Перед тем как перейти к дальнейшему анализу, визуализируем результат корреляции с помощью тепловой карты и библиотеки seaborn."
   ]
  },
  {
   "cell_type": "code",
   "execution_count": 42,
   "id": "7dbf6010",
   "metadata": {},
   "outputs": [
    {
     "data": {
      "image/png": "[encoded data removed]",
      "text/plain": [
       "<Figure size 144x432 with 1 Axes>"
      ]
     },
     "metadata": {
      "needs_background": "light"
     },
     "output_type": "display_data"
    }
   ],
   "source": [
    "# Строим тепловую карту\n",
    "plt.figure(figsize=(2, 6))\n",
    "\n",
    "# Сохраняем матрицу корреляции rating с другими данными\n",
    "data_heatmap = correlation_matrix.loc[correlation_matrix.index != 'rating'][['rating']].sort_values(by='rating', ascending=False)\n",
    "sns.heatmap(data_heatmap,\n",
    "            annot=True, # Отображаем численные значения в ячейках карты\n",
    "            fmt='.2f', # Форматируем значения корреляции: два знака после точки\n",
    "            cmap='coolwarm', # Устанавливаем цветовую гамму от красного (макс. значение) к синему\n",
    "            linewidths=0.5, # Форматируем линию между ячейками карты\n",
    "            cbar=False # Отключаем цветовую шкалу\n",
    "           )\n",
    "\n",
    "# Добавляем заголовок и подпись по оси Х\n",
    "plt.title('Тепловая карта коэффициента phi_k \\n для данных rating')\n",
    "plt\n",
    "\n",
    "# Выводим график\n",
    "plt.show()"
   ]
  },
  {
   "cell_type": "markdown",
   "id": "0dcef3fb",
   "metadata": {},
   "source": [
    "Проанализируем взаимосвязь ценовой категории и рейтинга при помощи диаграммы рассеяния. Для начала выведем уникальные значения в столбце с ценовой категорией и изучим взаимосвязь при помощи коэффициента корреляции Спирмена."
   ]
  },
  {
   "cell_type": "code",
   "execution_count": 43,
   "id": "4ea4954b",
   "metadata": {},
   "outputs": [
    {
     "data": {
      "text/plain": [
       "array(['высокие', 'выше среднего', 'низкие', 'средние', nan], dtype=object)"
      ]
     },
     "metadata": {},
     "output_type": "display_data"
    }
   ],
   "source": [
    " display(df['price'].sort_values().unique())"
   ]
  },
  {
   "cell_type": "code",
   "execution_count": 44,
   "id": "2a9887db",
   "metadata": {},
   "outputs": [
    {
     "name": "stdout",
     "output_type": "stream",
     "text": [
      "Корреляция между рейтингом и ценовой категорий: 0.27387694216315855\n"
     ]
    }
   ],
   "source": [
    "# Присвоим числовые значения ценовой категории\n",
    "df['price_numeric'] = df['price'].map({'высокие':4,'выше среднего':3,'средние':2,'низкие': 1})\n",
    "\n",
    "# Вычисление корреляции Спирмена\n",
    "corr = df['rating'].corr(df['price_numeric'], method='spearman')\n",
    "print(f\"Корреляция между рейтингом и ценовой категорий: {corr}\")\n"
   ]
  },
  {
   "cell_type": "code",
   "execution_count": 45,
   "id": "096bc205",
   "metadata": {},
   "outputs": [
    {
     "data": {
      "text/plain": [
       "средние          2117\n",
       "выше среднего     564\n",
       "высокие           478\n",
       "низкие            156\n",
       "Name: price, dtype: int64"
      ]
     },
     "execution_count": 45,
     "metadata": {},
     "output_type": "execute_result"
    }
   ],
   "source": [
    "df['price'].value_counts()"
   ]
  },
  {
   "cell_type": "code",
   "execution_count": 46,
   "id": "5574a73a",
   "metadata": {},
   "outputs": [
    {
     "data": {
      "image/png": "[encoded data removed]",
      "text/plain": [
       "<Figure size 720x432 with 1 Axes>"
      ]
     },
     "metadata": {
      "needs_background": "light"
     },
     "output_type": "display_data"
    }
   ],
   "source": [
    "# Группируем данные по категориям и подсчитываем средний рейтинг для них\n",
    "average_rating = df.groupby('price')['rating'].mean()\n",
    "\n",
    "# Сортировка данных по убыванию рейтинга\n",
    "average_rating=average_rating.sort_values(ascending=False)\n",
    "\n",
    "average_rating.plot(kind='bar',\n",
    "                   title=f'Распределение средних рейтингов по ценовой категории',\n",
    "                   legend=False,\n",
    "                   ylabel='Рейтинг',\n",
    "                   xlabel='Ценовая категория',\n",
    "                   rot=0,\n",
    "                   figsize=(10,6)\n",
    ")\n",
    "\n",
    "# Выведем сетку и легенду\n",
    "plt.grid()\n",
    "plt.legend()\n",
    "\n",
    "\n",
    "# Выводим график\n",
    "plt.show()"
   ]
  },
  {
   "cell_type": "markdown",
   "id": "a50dff96",
   "metadata": {},
   "source": [
    "Взаимосвязь между средним рейтингом и ценовой категорией низкая, но наблюдается увеличение среднего рейтинга для ценовой категории \"высокие\" и незначиельное снижение рейтинга для заведений с ценовой категорией \"низкие\"."
   ]
  },
  {
   "cell_type": "markdown",
   "id": "5b54f9c5",
   "metadata": {},
   "source": [
    "Для построения графика рассеяния преобразуем категории в числовые значения, чтобы наглядно отобразить взаимосвязь между ценовой категорией и рейтингом."
   ]
  },
  {
   "cell_type": "code",
   "execution_count": 47,
   "id": "d6395d30",
   "metadata": {},
   "outputs": [
    {
     "data": {
      "image/png": "[encoded data removed]",
      "text/plain": [
       "<Figure size 720x432 with 1 Axes>"
      ]
     },
     "metadata": {
      "needs_background": "light"
     },
     "output_type": "display_data"
    }
   ],
   "source": [
    "# Преобразуем категориальные данные в числовые\n",
    "df['price_numeric'] = df['price'].map({'низкие': 1, 'средние': 2, 'выше среднего': 3, 'высокие': 4})\n",
    "\n",
    "# Строим график рассеяния\n",
    "plt.figure(figsize=(10, 6))\n",
    "plt.scatter(df['price_numeric'], df['rating'], alpha=0.5)\n",
    "\n",
    "\n",
    "plt.title('Взаимосвязь между рейтингом и ценовой категорией')\n",
    "plt.xlabel('Ценовая категория (1=низкие, 2=средние, 3=выше среднего, 4=высокие)')\n",
    "plt.ylabel('Рейтинг')\n",
    "plt.grid(True)\n",
    "plt.show()\n"
   ]
  },
  {
   "cell_type": "markdown",
   "id": "1b178c55",
   "metadata": {},
   "source": [
    "Точки данных образуют горизонтальную линию, можно сделать вывод, что корреляция между переменными низкая - изменения одной переменной не приводят к изменениям другой переменной."
   ]
  },
  {
   "cell_type": "markdown",
   "id": "370de703",
   "metadata": {
    "id": "370de703"
   },
   "source": [
    "Сгруппируем данные по названиям заведений и найдим топ-15 популярных сетей в Москве. Для них посчитаем значения среднего рейтинга, а также найдем к каким категориям данные заведения относятся."
   ]
  },
  {
   "cell_type": "markdown",
   "id": "88fa15c8",
   "metadata": {
    "id": "5d828a9a"
   },
   "source": [
    "Для начала сгруппируем данные по названиям заведений и найдем топ-15 популярных сетей в Москве."
   ]
  },
  {
   "cell_type": "code",
   "execution_count": 48,
   "id": "d013c598",
   "metadata": {
    "id": "d013c598"
   },
   "outputs": [
    {
     "data": {
      "text/plain": [
       "'Топ-15 популярных сетей в Москве:'"
      ]
     },
     "metadata": {},
     "output_type": "display_data"
    },
    {
     "data": {
      "text/plain": [
       "кафе                                   189\n",
       "шоколадница                            120\n",
       "домино'с пицца                          77\n",
       "додо пицца                              74\n",
       "one price coffee                        72\n",
       "яндекс лавка                            69\n",
       "cofix                                   65\n",
       "prime                                   50\n",
       "хинкальная                              44\n",
       "шаурма                                  43\n",
       "кофепорт                                42\n",
       "кулинарная лавка братьев караваевых     39\n",
       "теремок                                 38\n",
       "чайхана                                 37\n",
       "ресторан                                34\n",
       "Name: name, dtype: int64"
      ]
     },
     "metadata": {},
     "output_type": "display_data"
    }
   ],
   "source": [
    "# Сгруппируем данные по названиям заведений и найдем топ-15 популярных сетей в Москве.\n",
    "top=df['name'].value_counts().head(15)\n",
    "\n",
    "# Выведем топ15\n",
    "display(f'Топ-15 популярных сетей в Москве:')\n",
    "display(top)\n"
   ]
  },
  {
   "cell_type": "code",
   "execution_count": 49,
   "id": "c42f4032",
   "metadata": {},
   "outputs": [
    {
     "data": {
      "image/png": "[encoded data removed]",
      "text/plain": [
       "<Figure size 720x432 with 1 Axes>"
      ]
     },
     "metadata": {
      "needs_background": "light"
     },
     "output_type": "display_data"
    }
   ],
   "source": [
    "# Сгруппируем данные по названиям заведений и найдем топ-15 популярных сетей в Москве\n",
    "top_name = df['name'].value_counts().head(15)\n",
    "\n",
    "# Создаем график\n",
    "plt.figure(figsize=(10, 6))\n",
    "sns.barplot(x=top_name.index, y=top_name, palette='coolwarm')\n",
    "\n",
    "# Подписываем и отображаем график\n",
    "plt.title('Топ-15 популярных сетей в Москве')\n",
    "plt.xlabel('Название сети')\n",
    "plt.ylabel('Количество заведений')\n",
    "plt.xticks(rotation=45)  # Поворачиваем метки по оси X для лучшего отображения\n",
    "plt.show()"
   ]
  },
  {
   "cell_type": "code",
   "execution_count": 50,
   "id": "774348d5",
   "metadata": {
    "id": "774348d5"
   },
   "outputs": [
    {
     "data": {
      "image/png": "[encoded data removed]",
      "text/plain": [
       "<Figure size 720x432 with 1 Axes>"
      ]
     },
     "metadata": {
      "needs_background": "light"
     },
     "output_type": "display_data"
    }
   ],
   "source": [
    "# Подсчитаем топ15\n",
    "# Находим топ-15 популярных заведений\n",
    "top_name = df['name'].value_counts().head(15).index\n",
    "\n",
    "# Фильтруем исходный датасет по топ-15 заведениям\n",
    "top_df = df[df['name'].isin(top_name)]\n",
    "\n",
    "# Группируем и находим средний рейтинг для каждого заведения из топ-15\n",
    "average_rating = top_df.groupby('name')['rating'].mean().sort_values(ascending=False)\n",
    "\n",
    "# Сортируем по среднему рейтингу и строим график\n",
    "plt.figure(figsize=(10, 6))\n",
    "plt.bar(average_rating.index, average_rating)\n",
    "\n",
    "plt.xlabel('Заведения')\n",
    "plt.ylabel('Средний рейтинг')\n",
    "plt.title('Топ-15 заведений Москвы по среднему рейтингу')\n",
    "plt.xticks(rotation=90)  # Поворот названий заведений для лучшего отображения\n",
    "\n",
    "plt.show()\n"
   ]
  },
  {
   "cell_type": "markdown",
   "id": "4fbd085f",
   "metadata": {},
   "source": [
    "Среди топ 15 наибольший рейтинг наблюдается у следующих заведений: кулинарная лавка братьев караваемых, хинкальная, ресторан и додо пицца. Но стоит отметить, что значения среднего рейтинга популярных заведений Москвы отличаются незначительно."
   ]
  },
  {
   "cell_type": "code",
   "execution_count": 51,
   "id": "6bb2efb0",
   "metadata": {},
   "outputs": [
    {
     "data": {
      "text/html": [
       "<div>\n",
       "<style scoped>\n",
       "    .dataframe tbody tr th:only-of-type {\n",
       "        vertical-align: middle;\n",
       "    }\n",
       "\n",
       "    .dataframe tbody tr th {\n",
       "        vertical-align: top;\n",
       "    }\n",
       "\n",
       "    .dataframe thead th {\n",
       "        text-align: right;\n",
       "    }\n",
       "</style>\n",
       "<table border=\"1\" class=\"dataframe\">\n",
       "  <thead>\n",
       "    <tr style=\"text-align: right;\">\n",
       "      <th></th>\n",
       "      <th>category</th>\n",
       "      <th>avg_rating</th>\n",
       "      <th>counts</th>\n",
       "    </tr>\n",
       "    <tr>\n",
       "      <th>name</th>\n",
       "      <th></th>\n",
       "      <th></th>\n",
       "      <th></th>\n",
       "    </tr>\n",
       "  </thead>\n",
       "  <tbody>\n",
       "    <tr>\n",
       "      <th>кафе</th>\n",
       "      <td>кафе</td>\n",
       "      <td>3.880952</td>\n",
       "      <td>189</td>\n",
       "    </tr>\n",
       "    <tr>\n",
       "      <th>шоколадница</th>\n",
       "      <td>кофейня</td>\n",
       "      <td>4.177500</td>\n",
       "      <td>120</td>\n",
       "    </tr>\n",
       "    <tr>\n",
       "      <th>домино'с пицца</th>\n",
       "      <td>пиццерия</td>\n",
       "      <td>4.171429</td>\n",
       "      <td>77</td>\n",
       "    </tr>\n",
       "    <tr>\n",
       "      <th>додо пицца</th>\n",
       "      <td>пиццерия</td>\n",
       "      <td>4.286486</td>\n",
       "      <td>74</td>\n",
       "    </tr>\n",
       "    <tr>\n",
       "      <th>one price coffee</th>\n",
       "      <td>кофейня</td>\n",
       "      <td>4.069444</td>\n",
       "      <td>72</td>\n",
       "    </tr>\n",
       "    <tr>\n",
       "      <th>яндекс лавка</th>\n",
       "      <td>ресторан</td>\n",
       "      <td>3.872464</td>\n",
       "      <td>69</td>\n",
       "    </tr>\n",
       "    <tr>\n",
       "      <th>cofix</th>\n",
       "      <td>кофейня</td>\n",
       "      <td>4.075385</td>\n",
       "      <td>65</td>\n",
       "    </tr>\n",
       "    <tr>\n",
       "      <th>prime</th>\n",
       "      <td>ресторан</td>\n",
       "      <td>4.116000</td>\n",
       "      <td>50</td>\n",
       "    </tr>\n",
       "    <tr>\n",
       "      <th>хинкальная</th>\n",
       "      <td>кафе</td>\n",
       "      <td>4.322727</td>\n",
       "      <td>44</td>\n",
       "    </tr>\n",
       "    <tr>\n",
       "      <th>шаурма</th>\n",
       "      <td>быстрое питание</td>\n",
       "      <td>3.909302</td>\n",
       "      <td>43</td>\n",
       "    </tr>\n",
       "    <tr>\n",
       "      <th>кофепорт</th>\n",
       "      <td>кофейня</td>\n",
       "      <td>4.147619</td>\n",
       "      <td>42</td>\n",
       "    </tr>\n",
       "    <tr>\n",
       "      <th>кулинарная лавка братьев караваевых</th>\n",
       "      <td>кафе</td>\n",
       "      <td>4.394872</td>\n",
       "      <td>39</td>\n",
       "    </tr>\n",
       "    <tr>\n",
       "      <th>теремок</th>\n",
       "      <td>ресторан</td>\n",
       "      <td>4.123684</td>\n",
       "      <td>38</td>\n",
       "    </tr>\n",
       "    <tr>\n",
       "      <th>чайхана</th>\n",
       "      <td>кафе</td>\n",
       "      <td>3.924324</td>\n",
       "      <td>37</td>\n",
       "    </tr>\n",
       "    <tr>\n",
       "      <th>ресторан</th>\n",
       "      <td>ресторан</td>\n",
       "      <td>4.314706</td>\n",
       "      <td>34</td>\n",
       "    </tr>\n",
       "  </tbody>\n",
       "</table>\n",
       "</div>"
      ],
      "text/plain": [
       "                                            category  avg_rating  counts\n",
       "name                                                                    \n",
       "кафе                                            кафе    3.880952     189\n",
       "шоколадница                                  кофейня    4.177500     120\n",
       "домино'с пицца                              пиццерия    4.171429      77\n",
       "додо пицца                                  пиццерия    4.286486      74\n",
       "one price coffee                             кофейня    4.069444      72\n",
       "яндекс лавка                                ресторан    3.872464      69\n",
       "cofix                                        кофейня    4.075385      65\n",
       "prime                                       ресторан    4.116000      50\n",
       "хинкальная                                      кафе    4.322727      44\n",
       "шаурма                               быстрое питание    3.909302      43\n",
       "кофепорт                                     кофейня    4.147619      42\n",
       "кулинарная лавка братьев караваевых             кафе    4.394872      39\n",
       "теремок                                     ресторан    4.123684      38\n",
       "чайхана                                         кафе    3.924324      37\n",
       "ресторан                                    ресторан    4.314706      34"
      ]
     },
     "metadata": {},
     "output_type": "display_data"
    }
   ],
   "source": [
    "top_name = df['name'].value_counts().head(15).index\n",
    "filtered_df = df[df['name'].isin(top_name)]\n",
    "\n",
    "# Считаем количество заведений каждой сети\n",
    "counts = df['name'].value_counts().loc[top_name]\n",
    "\n",
    "# Группируем по названию и считаем средний рейтинг и категорию (предполагаю, что категория одинаковая для всей сети)\n",
    "grouped = filtered_df.groupby('name').agg({'category': lambda x: x.mode()[0],'rating': 'mean','name': 'count'})\n",
    "grouped = grouped.rename(columns={'name': 'counts', 'rating': 'avg_rating'})\n",
    "\n",
    "# Сортируем по количеству заведений (популярности)\n",
    "grouped = grouped.sort_values('counts', ascending=False).head(15)\n",
    "\n",
    "display(grouped)\n"
   ]
  },
  {
   "cell_type": "markdown",
   "id": "d4aa165a",
   "metadata": {},
   "source": [
    "Среди топ 15 заведений встречаются такие категории как рестораны, кофейни, пиццерии и кафе."
   ]
  },
  {
   "cell_type": "markdown",
   "id": "85a90a94",
   "metadata": {
    "id": "85a90a94"
   },
   "source": [
    "Изучим вариацию среднего чека заведения (столбец `middle_avg_bill`) в зависимости от района Москвы. Проанализируем цены в Центральном административном округе и других, а также проведем анализ влияния удалённость от центра на цены в заведениях."
   ]
  },
  {
   "cell_type": "code",
   "execution_count": 52,
   "id": "aa999843",
   "metadata": {},
   "outputs": [
    {
     "data": {
      "text/plain": [
       "'Статистические показатели столбца middle_avg_bill:'"
      ]
     },
     "metadata": {},
     "output_type": "display_data"
    },
    {
     "data": {
      "text/plain": [
       "count     3149.000000\n",
       "mean       958.053668\n",
       "std       1009.732845\n",
       "min          0.000000\n",
       "25%        375.000000\n",
       "50%        750.000000\n",
       "75%       1250.000000\n",
       "max      35000.000000\n",
       "Name: middle_avg_bill, dtype: float64"
      ]
     },
     "execution_count": 52,
     "metadata": {},
     "output_type": "execute_result"
    }
   ],
   "source": [
    "# Изучаем статистические показатели столбца score\n",
    "display('Статистические показатели столбца middle_avg_bill:')\n",
    "df['middle_avg_bill'].describe()"
   ]
  },
  {
   "cell_type": "code",
   "execution_count": 53,
   "id": "5fb4ffc6",
   "metadata": {
    "id": "5fb4ffc6"
   },
   "outputs": [
    {
     "data": {
      "image/png": "[encoded data removed]",
      "text/plain": [
       "<Figure size 504x216 with 1 Axes>"
      ]
     },
     "metadata": {
      "needs_background": "light"
     },
     "output_type": "display_data"
    }
   ],
   "source": [
    "# Создаём контейнер графика matplotlib и задаём его размер\n",
    "plt.figure(figsize=(7, 3))\n",
    "\n",
    "# Строим гистограмму с помощью pandas через plot(kind='hist')\n",
    "df['middle_avg_bill'].plot(\n",
    "                kind='hist', # Тип графика - гистограмма\n",
    "                bins=50, # Устанавливаем количество корзин - всего 25\n",
    "                alpha=0.75,\n",
    "                edgecolor='black',\n",
    "                rot=0, # Градус вращения подписи по оси Х\n",
    ")\n",
    "\n",
    "# Настраиваем оформление графика\n",
    "plt.title('Распределение значений среднего чека')\n",
    "plt.xlabel('Средний чек')\n",
    "plt.ylabel('Частота')\n",
    "\n",
    "# Добавляем сетку графика\n",
    "plt.grid()\n",
    "\n",
    "# Выводим график\n",
    "plt.show()"
   ]
  },
  {
   "cell_type": "code",
   "execution_count": 54,
   "id": "b98066c1",
   "metadata": {
    "id": "b98066c1"
   },
   "outputs": [
    {
     "data": {
      "image/png": "[encoded data removed]",
      "text/plain": [
       "<Figure size 720x288 with 1 Axes>"
      ]
     },
     "metadata": {
      "needs_background": "light"
     },
     "output_type": "display_data"
    }
   ],
   "source": [
    "# Создаём контейнер графика matplotlib и задаём его размер\n",
    "plt.figure(figsize=(10, 4))\n",
    "\n",
    "# Строим диаграмму размаха значений в столбце score\n",
    "df.boxplot(column='middle_avg_bill', vert=False)\n",
    "\n",
    "# Добавляем заголовок и метки оси\n",
    "plt.title('Распределение значения среднего чека')\n",
    "plt.xlabel('Средний чек')\n",
    "\n",
    "# Выводим график\n",
    "plt.show()"
   ]
  },
  {
   "cell_type": "markdown",
   "id": "e0704ad0",
   "metadata": {
    "id": "9b5e00a5"
   },
   "source": [
    "Распределение значений в столбце `middle_avg_bill` ассимитрично, скошено вправо, минимальное значение - 0, максимальное - 35.000. Среднее значение соответствует По \"ящику с усами\" видно, что выбросами можно считать значения свыше 2000. Однако высокий средний чек может быть характерен для заведений, который проводят мероприятия на большое количество посадочных мест.\n"
   ]
  },
  {
   "cell_type": "markdown",
   "id": "24cabbdc",
   "metadata": {},
   "source": [
    "Проанализируем цены в Центральном административном округе и других. Как удалённость от центра влияет на цены в заведениях?"
   ]
  },
  {
   "cell_type": "code",
   "execution_count": 55,
   "id": "5ee8b279",
   "metadata": {
    "id": "5ee8b279"
   },
   "outputs": [
    {
     "data": {
      "image/png": "[encoded data removed]",
      "text/plain": [
       "<Figure size 1008x576 with 1 Axes>"
      ]
     },
     "metadata": {
      "needs_background": "light"
     },
     "output_type": "display_data"
    }
   ],
   "source": [
    "# Группируем данные по категориям и подсчитываем средний рейтинг для них и добавим сортировку\n",
    "aveger_rating = df.groupby('district')['middle_avg_bill'].mean().sort_values(ascending=False)\n",
    "\n",
    "aveger_rating.plot(kind='bar',\n",
    "                   title=f'Распределение средних цен в заведениях общественного питания по районам Москвы',\n",
    "                   legend=False,\n",
    "                   ylabel='Средняя цена',\n",
    "                   xlabel='Район',\n",
    "                   rot=45,\n",
    "                   figsize=(14,8)\n",
    ")\n",
    "\n",
    "# Рассчитываем среднее значение рейтинга\n",
    "mean_rating = df['middle_avg_bill'].mean()\n",
    "\n",
    "# Наносим на график линию с средним значением доли нелояльных клиентов\n",
    "plt.axhline(mean_rating, # Данные, по которым строится линия\n",
    "            color='red', # Цвет линии\n",
    "            linestyle='--', # Стиль линии\n",
    "            linewidth=1, # Ширина линии\n",
    "            label=f'Средняя цена чека {round(mean_rating,2)}')\n",
    "\n",
    "# Выведем сетку и легенду\n",
    "plt.grid()\n",
    "plt.legend()\n",
    "\n",
    "\n",
    "# Выводим график\n",
    "plt.show()"
   ]
  },
  {
   "cell_type": "markdown",
   "id": "c5846644",
   "metadata": {
    "id": "c6a666d9"
   },
   "source": [
    "Самый высокий средний чек наблюдается в Центральном районе. Также стоит отметить зависимость категории цен и расположения заведени общественного питания. Чем дальше расположено заведения от центра, тем ниже средняя стоимость цены. Это может быть связано с тем, что в Центральном районе дороже аренда помещения, высокими рейтингам заведений, а также высокой посещаемостью и проходимостью."
   ]
  },
  {
   "cell_type": "markdown",
   "id": "f2c54e9a",
   "metadata": {
    "id": "f2c54e9a"
   },
   "source": [
    "---\n",
    "\n",
    "### Промежуточный вывод\n"
   ]
  },
  {
   "cell_type": "markdown",
   "id": "470acc4d",
   "metadata": {
    "id": "c8869609"
   },
   "source": [
    "Анализ взаимосвязи данных показал, что:\n",
    "\n",
    "- Наибольшее количество заведений имеет средий рейтинг - 2117, выше среднего - 564, высокие - 478, низкие - 156.\n",
    "- Наибольшую корреляцию (22%) с рейтингом заведения показала стоимость, но по результатам более детального анализа выявлено, что рейтинг заведения незначительно влияет на категорию цен. Как показали данные, средний рейтинг для всех ценовых категорий примерно одинаковый, имеют незначительные отклонения для категорий \"низкий\" в меньшую сторону и \"высокий\" в большую.\n",
    "- Процент сетевых заведений около 62%, тогда как процент несетевых заведений составляет 38%, среди которых заведений, попавшие в топ 15 по популярности.\n",
    "- В топ 15 заведений попали такие категории, как рестораны, кофейни, пиццерии и кафе.\n",
    "- Средний чек по всем категориям заведений составляет примерно 958 рублей, с медианой 749, данные асимметричны и имеют положительный скос вправо. В наборе данных есть выбросы и аномальные значения, наприер, такие как средний чек на 35.000.\n",
    "- Распределение средних цен показало зависимости: чем ближе к центральному району, тем выше средний чек."
   ]
  },
  {
   "cell_type": "markdown",
   "id": "53cfcd5a",
   "metadata": {},
   "source": [
    "## Подведём итоги\n",
    "\n",
    "В ходе исследования проанализировали данные 8406 заведений общественного питания в Москве.\n",
    "\n",
    "### Общая информация о заведениях\n",
    "\n",
    "Исследовательский анализ данных позволил сформировать общее представление рынка общественного питания:\n",
    "\n",
    "- Из 8406 проанализированных заведений наибольшее количество расположены в Центральном административном округе (2242).\n",
    "\n",
    "- Самое распространная категория заведения общественного питания в Центральном округе Москвы - ресторан.\n",
    "\n",
    "- Наибольшее количество несетевых заведений - 62% (5201 заведений), присутствие сетевых составляет - 38% (3205).\n",
    "\n",
    "### Факторы, влияющие среднюю стоимость и чек\n",
    "\n",
    "На значение средней стоимости положительно влияют несколько факторов: рейтинг и район. В Центральном районе наблюдается наиболее высокий средний чек и рейтинг заведения.\n",
    "    \n",
    "Средний рейтинг:\n",
    "\n",
    "- чем выше средний чек, тем выше средний рейтинг заведения;\n",
    "- на средний рейтинг незначительно влияет категория заведения: для баров этот показатель немного выше (примерно 4.6);\n",
    "для столовых незначительно ниже среднего (4), остальные категории в пределах среднего значения рейтинга (4.2).\n",
    "\n",
    "В топ-15 по количеству встречаемость присутствуют заведения различных категорий: кафе, кофейня, рестораны, кофейни, пиццерии. Но стоит отметить, что рейтинг для данных категорий не самый высокий.\n",
    "\n",
    "### Рекомендации\n",
    "\n",
    "В качестве рекомендаций стоит обратить внимание на несетевые заведения в Центральном районе.\n",
    "Дополнительно можно провести более детальный анализ заведений с рейтингом выше среднего и высоким, чтобы выделить отдельну категорию заведений.\n"
   ]
  }
 ],
 "metadata": {
  "ExecuteTimeLog": [
   {
    "duration": 5266,
    "start_time": "2025-05-19T20:17:20.936Z"
   },
   {
    "duration": 2635,
    "start_time": "2025-05-19T20:17:42.702Z"
   },
   {
    "duration": 3,
    "start_time": "2025-05-19T20:17:47.206Z"
   },
   {
    "duration": 2493,
    "start_time": "2025-05-19T20:20:15.795Z"
   },
   {
    "duration": 9981,
    "start_time": "2025-05-19T20:22:09.563Z"
   },
   {
    "duration": 90,
    "start_time": "2025-05-19T20:22:19.546Z"
   },
   {
    "duration": 247,
    "start_time": "2025-05-19T20:23:48.726Z"
   },
   {
    "duration": 15,
    "start_time": "2025-05-19T20:25:40.894Z"
   },
   {
    "duration": 17,
    "start_time": "2025-05-19T20:25:41.780Z"
   },
   {
    "duration": 84,
    "start_time": "2025-05-19T20:35:40.803Z"
   },
   {
    "duration": 12,
    "start_time": "2025-05-19T20:37:27.545Z"
   },
   {
    "duration": 9,
    "start_time": "2025-05-19T20:37:29.811Z"
   },
   {
    "duration": 9170,
    "start_time": "2025-05-20T20:18:48.526Z"
   },
   {
    "duration": 1401,
    "start_time": "2025-05-20T20:18:57.698Z"
   },
   {
    "duration": 250,
    "start_time": "2025-05-20T20:18:59.101Z"
   },
   {
    "duration": 15,
    "start_time": "2025-05-20T20:18:59.353Z"
   },
   {
    "duration": 16,
    "start_time": "2025-05-20T20:18:59.370Z"
   },
   {
    "duration": 15,
    "start_time": "2025-05-20T20:18:59.388Z"
   },
   {
    "duration": 16,
    "start_time": "2025-05-20T20:18:59.405Z"
   },
   {
    "duration": 104,
    "start_time": "2025-05-20T20:18:59.422Z"
   },
   {
    "duration": 11,
    "start_time": "2025-05-20T20:23:54.339Z"
   },
   {
    "duration": 12,
    "start_time": "2025-05-20T20:26:38.698Z"
   },
   {
    "duration": 19,
    "start_time": "2025-05-20T20:26:38.956Z"
   },
   {
    "duration": 17,
    "start_time": "2025-05-21T04:44:35.037Z"
   },
   {
    "duration": 5,
    "start_time": "2025-05-21T04:44:52.418Z"
   },
   {
    "duration": 4,
    "start_time": "2025-05-21T04:52:40.984Z"
   },
   {
    "duration": 9,
    "start_time": "2025-05-21T04:53:34.617Z"
   },
   {
    "duration": 5,
    "start_time": "2025-05-21T04:54:03.136Z"
   },
   {
    "duration": 8,
    "start_time": "2025-05-21T04:54:34.286Z"
   },
   {
    "duration": 11,
    "start_time": "2025-05-21T04:54:51.156Z"
   },
   {
    "duration": 5,
    "start_time": "2025-05-21T04:55:08.637Z"
   },
   {
    "duration": 3,
    "start_time": "2025-05-21T04:55:58.386Z"
   },
   {
    "duration": 11,
    "start_time": "2025-05-21T04:56:58.505Z"
   },
   {
    "duration": 15,
    "start_time": "2025-05-21T04:56:59.213Z"
   },
   {
    "duration": 13,
    "start_time": "2025-05-21T04:58:35.859Z"
   },
   {
    "duration": 9,
    "start_time": "2025-05-21T04:58:40.002Z"
   },
   {
    "duration": 50,
    "start_time": "2025-05-22T04:31:14.086Z"
   },
   {
    "duration": 9708,
    "start_time": "2025-05-22T04:31:19.337Z"
   },
   {
    "duration": 1500,
    "start_time": "2025-05-22T04:31:29.048Z"
   },
   {
    "duration": 256,
    "start_time": "2025-05-22T04:31:30.550Z"
   },
   {
    "duration": 17,
    "start_time": "2025-05-22T04:31:30.809Z"
   },
   {
    "duration": 50,
    "start_time": "2025-05-22T04:31:30.827Z"
   },
   {
    "duration": 17,
    "start_time": "2025-05-22T04:31:30.879Z"
   },
   {
    "duration": 35,
    "start_time": "2025-05-22T04:31:30.897Z"
   },
   {
    "duration": 66,
    "start_time": "2025-05-22T04:31:30.933Z"
   },
   {
    "duration": 19,
    "start_time": "2025-05-22T04:31:31.001Z"
   },
   {
    "duration": 21,
    "start_time": "2025-05-22T04:31:31.022Z"
   },
   {
    "duration": 26,
    "start_time": "2025-05-22T04:31:31.045Z"
   },
   {
    "duration": 21,
    "start_time": "2025-05-22T04:31:31.073Z"
   },
   {
    "duration": 39,
    "start_time": "2025-05-22T04:31:31.095Z"
   },
   {
    "duration": 166,
    "start_time": "2025-05-22T04:31:31.135Z"
   },
   {
    "duration": 5,
    "start_time": "2025-05-22T04:36:38.909Z"
   },
   {
    "duration": 8,
    "start_time": "2025-05-22T04:38:49.116Z"
   },
   {
    "duration": 6,
    "start_time": "2025-05-22T04:39:45.013Z"
   },
   {
    "duration": 5,
    "start_time": "2025-05-22T04:46:41.494Z"
   },
   {
    "duration": 81,
    "start_time": "2025-05-22T04:51:20.902Z"
   },
   {
    "duration": 549,
    "start_time": "2025-05-22T04:52:45.870Z"
   },
   {
    "duration": 530,
    "start_time": "2025-05-22T04:52:47.961Z"
   },
   {
    "duration": 520,
    "start_time": "2025-05-22T04:53:07.850Z"
   },
   {
    "duration": 578,
    "start_time": "2025-05-22T04:53:15.503Z"
   },
   {
    "duration": 49,
    "start_time": "2025-05-22T17:59:10.212Z"
   },
   {
    "duration": 9659,
    "start_time": "2025-05-22T17:59:28.043Z"
   },
   {
    "duration": 1464,
    "start_time": "2025-05-22T17:59:37.705Z"
   },
   {
    "duration": 435,
    "start_time": "2025-05-22T17:59:39.171Z"
   },
   {
    "duration": 17,
    "start_time": "2025-05-22T17:59:39.608Z"
   },
   {
    "duration": 13,
    "start_time": "2025-05-22T17:59:39.626Z"
   },
   {
    "duration": 9,
    "start_time": "2025-05-22T17:59:39.641Z"
   },
   {
    "duration": 11,
    "start_time": "2025-05-22T17:59:39.651Z"
   },
   {
    "duration": 10,
    "start_time": "2025-05-22T17:59:39.663Z"
   },
   {
    "duration": 14,
    "start_time": "2025-05-22T17:59:39.674Z"
   },
   {
    "duration": 4,
    "start_time": "2025-05-22T17:59:39.690Z"
   },
   {
    "duration": 5,
    "start_time": "2025-05-22T17:59:39.695Z"
   },
   {
    "duration": 3,
    "start_time": "2025-05-22T17:59:39.736Z"
   },
   {
    "duration": 12,
    "start_time": "2025-05-22T17:59:39.740Z"
   },
   {
    "duration": 14,
    "start_time": "2025-05-22T17:59:39.754Z"
   },
   {
    "duration": 4,
    "start_time": "2025-05-22T17:59:39.770Z"
   },
   {
    "duration": 31,
    "start_time": "2025-05-22T17:59:39.775Z"
   },
   {
    "duration": 492,
    "start_time": "2025-05-22T17:59:39.807Z"
   },
   {
    "duration": 6,
    "start_time": "2025-05-22T17:59:41.211Z"
   },
   {
    "duration": 6,
    "start_time": "2025-05-22T18:00:33.144Z"
   },
   {
    "duration": 7,
    "start_time": "2025-05-22T18:00:48.462Z"
   },
   {
    "duration": 8,
    "start_time": "2025-05-22T18:01:57.761Z"
   },
   {
    "duration": 165,
    "start_time": "2025-05-22T18:02:50.362Z"
   },
   {
    "duration": 7,
    "start_time": "2025-05-22T18:03:10.131Z"
   },
   {
    "duration": 10,
    "start_time": "2025-05-22T19:00:44.805Z"
   },
   {
    "duration": 28,
    "start_time": "2025-05-22T19:04:30.407Z"
   },
   {
    "duration": 26,
    "start_time": "2025-05-22T19:04:42.655Z"
   },
   {
    "duration": 22,
    "start_time": "2025-05-22T19:04:58.054Z"
   },
   {
    "duration": 23,
    "start_time": "2025-05-22T19:05:18.253Z"
   },
   {
    "duration": 20,
    "start_time": "2025-05-22T19:05:24.791Z"
   },
   {
    "duration": 20,
    "start_time": "2025-05-22T19:05:50.186Z"
   },
   {
    "duration": 21,
    "start_time": "2025-05-22T19:06:21.537Z"
   },
   {
    "duration": 19,
    "start_time": "2025-05-22T19:06:39.536Z"
   },
   {
    "duration": 21,
    "start_time": "2025-05-22T19:07:25.626Z"
   },
   {
    "duration": 4787,
    "start_time": "2025-05-22T19:08:06.175Z"
   },
   {
    "duration": 1202,
    "start_time": "2025-05-22T19:08:10.964Z"
   },
   {
    "duration": 246,
    "start_time": "2025-05-22T19:08:12.167Z"
   },
   {
    "duration": 16,
    "start_time": "2025-05-22T19:08:12.415Z"
   },
   {
    "duration": 29,
    "start_time": "2025-05-22T19:08:12.432Z"
   },
   {
    "duration": 10,
    "start_time": "2025-05-22T19:08:12.463Z"
   },
   {
    "duration": 71,
    "start_time": "2025-05-22T19:08:12.475Z"
   },
   {
    "duration": 11,
    "start_time": "2025-05-22T19:08:12.549Z"
   },
   {
    "duration": 15,
    "start_time": "2025-05-22T19:08:12.562Z"
   },
   {
    "duration": 9,
    "start_time": "2025-05-22T19:08:12.580Z"
   },
   {
    "duration": 5,
    "start_time": "2025-05-22T19:08:12.591Z"
   },
   {
    "duration": 5,
    "start_time": "2025-05-22T19:08:12.597Z"
   },
   {
    "duration": 37,
    "start_time": "2025-05-22T19:08:12.604Z"
   },
   {
    "duration": 12,
    "start_time": "2025-05-22T19:08:12.643Z"
   },
   {
    "duration": 18,
    "start_time": "2025-05-22T19:08:12.657Z"
   },
   {
    "duration": 20,
    "start_time": "2025-05-22T19:08:12.677Z"
   },
   {
    "duration": 2,
    "start_time": "2025-05-22T19:08:12.700Z"
   },
   {
    "duration": 22,
    "start_time": "2025-05-22T19:08:32.870Z"
   },
   {
    "duration": 8,
    "start_time": "2025-05-22T19:08:44.235Z"
   },
   {
    "duration": 8,
    "start_time": "2025-05-22T19:09:25.036Z"
   },
   {
    "duration": 8,
    "start_time": "2025-05-22T19:10:30.704Z"
   },
   {
    "duration": 19,
    "start_time": "2025-05-22T19:53:40.780Z"
   },
   {
    "duration": 26,
    "start_time": "2025-05-22T19:57:48.913Z"
   },
   {
    "duration": 26,
    "start_time": "2025-05-22T19:59:24.429Z"
   },
   {
    "duration": 31,
    "start_time": "2025-05-22T19:59:46.285Z"
   },
   {
    "duration": 14,
    "start_time": "2025-05-22T20:00:58.228Z"
   },
   {
    "duration": 7,
    "start_time": "2025-05-22T20:03:29.497Z"
   },
   {
    "duration": 26,
    "start_time": "2025-05-22T20:03:58.246Z"
   },
   {
    "duration": 27,
    "start_time": "2025-05-22T20:03:58.952Z"
   },
   {
    "duration": 19,
    "start_time": "2025-05-22T20:03:59.263Z"
   },
   {
    "duration": 18,
    "start_time": "2025-05-22T20:03:59.829Z"
   },
   {
    "duration": 6,
    "start_time": "2025-05-22T20:04:00.935Z"
   },
   {
    "duration": 515,
    "start_time": "2025-05-22T20:04:01.210Z"
   },
   {
    "duration": 11,
    "start_time": "2025-05-22T20:04:01.727Z"
   },
   {
    "duration": 10,
    "start_time": "2025-05-22T20:11:47.147Z"
   },
   {
    "duration": 162,
    "start_time": "2025-05-22T20:14:53.842Z"
   },
   {
    "duration": 147,
    "start_time": "2025-05-22T20:15:09.361Z"
   },
   {
    "duration": 167,
    "start_time": "2025-05-22T20:15:21.201Z"
   },
   {
    "duration": 159,
    "start_time": "2025-05-22T20:15:39.309Z"
   },
   {
    "duration": 156,
    "start_time": "2025-05-22T20:16:18.049Z"
   },
   {
    "duration": 50,
    "start_time": "2025-05-23T04:31:38.326Z"
   },
   {
    "duration": 9107,
    "start_time": "2025-05-23T04:31:49.686Z"
   },
   {
    "duration": 1554,
    "start_time": "2025-05-23T04:31:58.796Z"
   },
   {
    "duration": 600,
    "start_time": "2025-05-23T04:32:00.352Z"
   },
   {
    "duration": 18,
    "start_time": "2025-05-23T04:32:00.954Z"
   },
   {
    "duration": 16,
    "start_time": "2025-05-23T04:32:00.974Z"
   },
   {
    "duration": 60,
    "start_time": "2025-05-23T04:32:00.993Z"
   },
   {
    "duration": 52,
    "start_time": "2025-05-23T04:32:01.054Z"
   },
   {
    "duration": 12,
    "start_time": "2025-05-23T04:32:01.108Z"
   },
   {
    "duration": 34,
    "start_time": "2025-05-23T04:32:01.121Z"
   },
   {
    "duration": 4,
    "start_time": "2025-05-23T04:32:01.158Z"
   },
   {
    "duration": 9,
    "start_time": "2025-05-23T04:32:01.164Z"
   },
   {
    "duration": 29,
    "start_time": "2025-05-23T04:32:01.174Z"
   },
   {
    "duration": 46,
    "start_time": "2025-05-23T04:32:01.205Z"
   },
   {
    "duration": 12,
    "start_time": "2025-05-23T04:32:01.252Z"
   },
   {
    "duration": 19,
    "start_time": "2025-05-23T04:32:01.266Z"
   },
   {
    "duration": 6,
    "start_time": "2025-05-23T04:32:01.287Z"
   },
   {
    "duration": 29,
    "start_time": "2025-05-23T04:32:01.294Z"
   },
   {
    "duration": 58,
    "start_time": "2025-05-23T04:32:01.325Z"
   },
   {
    "duration": 23,
    "start_time": "2025-05-23T04:32:01.384Z"
   },
   {
    "duration": 18,
    "start_time": "2025-05-23T04:32:01.408Z"
   },
   {
    "duration": 4,
    "start_time": "2025-05-23T04:32:01.428Z"
   },
   {
    "duration": 563,
    "start_time": "2025-05-23T04:32:01.434Z"
   },
   {
    "duration": 6,
    "start_time": "2025-05-23T04:32:01.999Z"
   },
   {
    "duration": 35,
    "start_time": "2025-05-23T04:32:02.007Z"
   },
   {
    "duration": 224,
    "start_time": "2025-05-23T04:32:02.043Z"
   },
   {
    "duration": 1995,
    "start_time": "2025-05-23T04:32:02.270Z"
   },
   {
    "duration": 203,
    "start_time": "2025-05-23T04:32:17.418Z"
   },
   {
    "duration": 100,
    "start_time": "2025-05-23T04:38:35.352Z"
   },
   {
    "duration": 87,
    "start_time": "2025-05-23T04:38:41.755Z"
   },
   {
    "duration": 302,
    "start_time": "2025-05-23T04:39:40.104Z"
   },
   {
    "duration": 230,
    "start_time": "2025-05-23T04:39:48.531Z"
   },
   {
    "duration": 206,
    "start_time": "2025-05-23T04:42:10.449Z"
   },
   {
    "duration": 202,
    "start_time": "2025-05-23T04:42:22.524Z"
   },
   {
    "duration": 207,
    "start_time": "2025-05-23T04:42:40.113Z"
   },
   {
    "duration": 238,
    "start_time": "2025-05-23T04:43:29.763Z"
   },
   {
    "duration": 5498,
    "start_time": "2025-05-23T04:44:16.232Z"
   },
   {
    "duration": 1369,
    "start_time": "2025-05-23T04:44:21.733Z"
   },
   {
    "duration": 499,
    "start_time": "2025-05-23T04:44:23.104Z"
   },
   {
    "duration": 17,
    "start_time": "2025-05-23T04:44:23.606Z"
   },
   {
    "duration": 15,
    "start_time": "2025-05-23T04:44:23.624Z"
   },
   {
    "duration": 10,
    "start_time": "2025-05-23T04:44:23.641Z"
   },
   {
    "duration": 24,
    "start_time": "2025-05-23T04:44:23.652Z"
   },
   {
    "duration": 24,
    "start_time": "2025-05-23T04:44:23.677Z"
   },
   {
    "duration": 16,
    "start_time": "2025-05-23T04:44:23.703Z"
   },
   {
    "duration": 4,
    "start_time": "2025-05-23T04:44:23.722Z"
   },
   {
    "duration": 11,
    "start_time": "2025-05-23T04:44:23.728Z"
   },
   {
    "duration": 6,
    "start_time": "2025-05-23T04:44:23.741Z"
   },
   {
    "duration": 32,
    "start_time": "2025-05-23T04:44:23.748Z"
   },
   {
    "duration": 20,
    "start_time": "2025-05-23T04:44:23.782Z"
   },
   {
    "duration": 27,
    "start_time": "2025-05-23T04:44:23.804Z"
   },
   {
    "duration": 40,
    "start_time": "2025-05-23T04:44:23.833Z"
   },
   {
    "duration": 38,
    "start_time": "2025-05-23T04:44:23.875Z"
   },
   {
    "duration": 70,
    "start_time": "2025-05-23T04:44:23.915Z"
   },
   {
    "duration": 36,
    "start_time": "2025-05-23T04:44:23.987Z"
   },
   {
    "duration": 53,
    "start_time": "2025-05-23T04:44:24.025Z"
   },
   {
    "duration": 9,
    "start_time": "2025-05-23T04:44:24.082Z"
   },
   {
    "duration": 588,
    "start_time": "2025-05-23T04:44:24.093Z"
   },
   {
    "duration": 8,
    "start_time": "2025-05-23T04:44:24.683Z"
   },
   {
    "duration": 8,
    "start_time": "2025-05-23T04:44:27.000Z"
   },
   {
    "duration": 244,
    "start_time": "2025-05-23T04:44:28.521Z"
   },
   {
    "duration": 220,
    "start_time": "2025-05-23T04:44:34.673Z"
   },
   {
    "duration": 9439,
    "start_time": "2025-05-25T18:38:34.352Z"
   },
   {
    "duration": 1517,
    "start_time": "2025-05-25T18:38:43.794Z"
   },
   {
    "duration": 203,
    "start_time": "2025-05-25T18:38:45.313Z"
   },
   {
    "duration": 15,
    "start_time": "2025-05-25T18:38:45.518Z"
   },
   {
    "duration": 79,
    "start_time": "2025-05-25T18:38:45.535Z"
   },
   {
    "duration": 11,
    "start_time": "2025-05-25T18:38:45.616Z"
   },
   {
    "duration": 12,
    "start_time": "2025-05-25T18:38:45.628Z"
   },
   {
    "duration": 11,
    "start_time": "2025-05-25T18:38:45.641Z"
   },
   {
    "duration": 14,
    "start_time": "2025-05-25T18:38:45.653Z"
   },
   {
    "duration": 4,
    "start_time": "2025-05-25T18:38:45.670Z"
   },
   {
    "duration": 33,
    "start_time": "2025-05-25T18:38:45.675Z"
   },
   {
    "duration": 3,
    "start_time": "2025-05-25T18:38:45.710Z"
   },
   {
    "duration": 9,
    "start_time": "2025-05-25T18:38:45.715Z"
   },
   {
    "duration": 10,
    "start_time": "2025-05-25T18:38:45.725Z"
   },
   {
    "duration": 17,
    "start_time": "2025-05-25T18:38:45.736Z"
   },
   {
    "duration": 5,
    "start_time": "2025-05-25T18:38:45.755Z"
   },
   {
    "duration": 55,
    "start_time": "2025-05-25T18:38:45.762Z"
   },
   {
    "duration": 31,
    "start_time": "2025-05-25T18:38:45.819Z"
   },
   {
    "duration": 42,
    "start_time": "2025-05-25T18:38:45.852Z"
   },
   {
    "duration": 21,
    "start_time": "2025-05-25T18:38:45.897Z"
   },
   {
    "duration": 5,
    "start_time": "2025-05-25T18:38:45.920Z"
   },
   {
    "duration": 535,
    "start_time": "2025-05-25T18:38:45.927Z"
   },
   {
    "duration": 18,
    "start_time": "2025-05-25T18:38:46.463Z"
   },
   {
    "duration": 7,
    "start_time": "2025-05-25T18:38:46.482Z"
   },
   {
    "duration": 209,
    "start_time": "2025-05-25T18:38:46.491Z"
   },
   {
    "duration": 218,
    "start_time": "2025-05-25T18:38:46.703Z"
   },
   {
    "duration": 85,
    "start_time": "2025-05-25T18:50:46.944Z"
   },
   {
    "duration": 116,
    "start_time": "2025-05-25T18:50:55.642Z"
   },
   {
    "duration": 2010,
    "start_time": "2025-05-25T18:51:16.399Z"
   },
   {
    "duration": 1820,
    "start_time": "2025-05-25T18:51:32.298Z"
   },
   {
    "duration": 18,
    "start_time": "2025-05-25T18:57:42.550Z"
   },
   {
    "duration": 18,
    "start_time": "2025-05-25T18:58:02.908Z"
   },
   {
    "duration": 142,
    "start_time": "2025-05-25T18:59:51.258Z"
   },
   {
    "duration": 170,
    "start_time": "2025-05-25T19:00:01.908Z"
   },
   {
    "duration": 160,
    "start_time": "2025-05-25T19:00:31.080Z"
   },
   {
    "duration": 155,
    "start_time": "2025-05-25T19:01:32.841Z"
   },
   {
    "duration": 5288,
    "start_time": "2025-05-25T19:01:57.851Z"
   },
   {
    "duration": 1395,
    "start_time": "2025-05-25T19:02:03.142Z"
   },
   {
    "duration": 393,
    "start_time": "2025-05-25T19:02:04.539Z"
   },
   {
    "duration": 16,
    "start_time": "2025-05-25T19:02:04.934Z"
   },
   {
    "duration": 14,
    "start_time": "2025-05-25T19:02:04.951Z"
   },
   {
    "duration": 10,
    "start_time": "2025-05-25T19:02:04.967Z"
   },
   {
    "duration": 17,
    "start_time": "2025-05-25T19:02:04.978Z"
   },
   {
    "duration": 24,
    "start_time": "2025-05-25T19:02:04.997Z"
   },
   {
    "duration": 38,
    "start_time": "2025-05-25T19:02:05.022Z"
   },
   {
    "duration": 4,
    "start_time": "2025-05-25T19:02:05.064Z"
   },
   {
    "duration": 16,
    "start_time": "2025-05-25T19:02:05.070Z"
   },
   {
    "duration": 15,
    "start_time": "2025-05-25T19:02:05.087Z"
   },
   {
    "duration": 17,
    "start_time": "2025-05-25T19:02:05.104Z"
   },
   {
    "duration": 13,
    "start_time": "2025-05-25T19:02:05.122Z"
   },
   {
    "duration": 36,
    "start_time": "2025-05-25T19:02:05.137Z"
   },
   {
    "duration": 100,
    "start_time": "2025-05-25T19:02:05.174Z"
   },
   {
    "duration": 31,
    "start_time": "2025-05-25T19:02:05.276Z"
   },
   {
    "duration": 27,
    "start_time": "2025-05-25T19:02:05.309Z"
   },
   {
    "duration": 56,
    "start_time": "2025-05-25T19:02:05.337Z"
   },
   {
    "duration": 18,
    "start_time": "2025-05-25T19:02:05.395Z"
   },
   {
    "duration": 4,
    "start_time": "2025-05-25T19:02:05.415Z"
   },
   {
    "duration": 575,
    "start_time": "2025-05-25T19:02:05.422Z"
   },
   {
    "duration": 7,
    "start_time": "2025-05-25T19:02:05.999Z"
   },
   {
    "duration": 7,
    "start_time": "2025-05-25T19:02:06.316Z"
   },
   {
    "duration": 197,
    "start_time": "2025-05-25T19:02:06.688Z"
   },
   {
    "duration": 205,
    "start_time": "2025-05-25T19:02:08.771Z"
   },
   {
    "duration": 290,
    "start_time": "2025-05-25T19:02:16.522Z"
   },
   {
    "duration": 153,
    "start_time": "2025-05-25T19:02:54.318Z"
   },
   {
    "duration": 203,
    "start_time": "2025-05-25T19:04:36.454Z"
   },
   {
    "duration": 272,
    "start_time": "2025-05-25T19:06:20.321Z"
   },
   {
    "duration": 13,
    "start_time": "2025-05-25T19:06:54.191Z"
   },
   {
    "duration": 14,
    "start_time": "2025-05-25T19:06:57.027Z"
   },
   {
    "duration": 14,
    "start_time": "2025-05-25T19:07:08.245Z"
   },
   {
    "duration": 1767,
    "start_time": "2025-05-25T19:11:28.087Z"
   },
   {
    "duration": 23,
    "start_time": "2025-05-25T19:11:47.301Z"
   },
   {
    "duration": 20,
    "start_time": "2025-05-25T19:15:17.903Z"
   },
   {
    "duration": 135,
    "start_time": "2025-05-25T19:16:28.952Z"
   },
   {
    "duration": 5114,
    "start_time": "2025-05-25T19:16:42.405Z"
   },
   {
    "duration": 1283,
    "start_time": "2025-05-25T19:16:47.522Z"
   },
   {
    "duration": 238,
    "start_time": "2025-05-25T19:16:48.807Z"
   },
   {
    "duration": 16,
    "start_time": "2025-05-25T19:16:49.047Z"
   },
   {
    "duration": 14,
    "start_time": "2025-05-25T19:16:49.064Z"
   },
   {
    "duration": 9,
    "start_time": "2025-05-25T19:16:49.080Z"
   },
   {
    "duration": 33,
    "start_time": "2025-05-25T19:16:49.091Z"
   },
   {
    "duration": 34,
    "start_time": "2025-05-25T19:16:49.125Z"
   },
   {
    "duration": 21,
    "start_time": "2025-05-25T19:16:49.161Z"
   },
   {
    "duration": 4,
    "start_time": "2025-05-25T19:16:49.185Z"
   },
   {
    "duration": 43,
    "start_time": "2025-05-25T19:16:49.191Z"
   },
   {
    "duration": 66,
    "start_time": "2025-05-25T19:16:49.236Z"
   },
   {
    "duration": 67,
    "start_time": "2025-05-25T19:16:49.303Z"
   },
   {
    "duration": 20,
    "start_time": "2025-05-25T19:16:49.372Z"
   },
   {
    "duration": 24,
    "start_time": "2025-05-25T19:16:49.394Z"
   },
   {
    "duration": 22,
    "start_time": "2025-05-25T19:16:49.420Z"
   },
   {
    "duration": 33,
    "start_time": "2025-05-25T19:16:49.444Z"
   },
   {
    "duration": 29,
    "start_time": "2025-05-25T19:16:49.478Z"
   },
   {
    "duration": 22,
    "start_time": "2025-05-25T19:16:49.508Z"
   },
   {
    "duration": 47,
    "start_time": "2025-05-25T19:16:49.531Z"
   },
   {
    "duration": 5,
    "start_time": "2025-05-25T19:16:49.581Z"
   },
   {
    "duration": 587,
    "start_time": "2025-05-25T19:16:49.587Z"
   },
   {
    "duration": 7,
    "start_time": "2025-05-25T19:16:50.176Z"
   },
   {
    "duration": 8,
    "start_time": "2025-05-25T19:16:51.650Z"
   },
   {
    "duration": 183,
    "start_time": "2025-05-25T19:16:52.749Z"
   },
   {
    "duration": 234,
    "start_time": "2025-05-25T19:16:54.352Z"
   },
   {
    "duration": 160,
    "start_time": "2025-05-25T19:16:57.066Z"
   },
   {
    "duration": 241,
    "start_time": "2025-05-25T19:18:25.879Z"
   },
   {
    "duration": 172,
    "start_time": "2025-05-25T19:18:41.503Z"
   },
   {
    "duration": 264,
    "start_time": "2025-05-25T19:18:51.621Z"
   },
   {
    "duration": 217,
    "start_time": "2025-05-25T19:20:09.418Z"
   },
   {
    "duration": 19,
    "start_time": "2025-05-25T19:31:52.318Z"
   },
   {
    "duration": 16,
    "start_time": "2025-05-25T19:34:40.160Z"
   },
   {
    "duration": 121,
    "start_time": "2025-05-25T19:35:17.140Z"
   },
   {
    "duration": 20,
    "start_time": "2025-05-25T19:36:03.840Z"
   },
   {
    "duration": 41,
    "start_time": "2025-05-25T19:37:17.091Z"
   },
   {
    "duration": 32,
    "start_time": "2025-05-25T19:37:19.467Z"
   },
   {
    "duration": 33,
    "start_time": "2025-05-25T19:37:36.503Z"
   },
   {
    "duration": 18,
    "start_time": "2025-05-25T19:38:26.317Z"
   },
   {
    "duration": 11,
    "start_time": "2025-05-25T19:40:44.035Z"
   },
   {
    "duration": 14,
    "start_time": "2025-05-25T19:40:50.149Z"
   },
   {
    "duration": 308,
    "start_time": "2025-05-25T19:41:00.761Z"
   },
   {
    "duration": 16,
    "start_time": "2025-05-25T19:41:25.599Z"
   },
   {
    "duration": 9,
    "start_time": "2025-05-25T19:41:44.417Z"
   },
   {
    "duration": 13,
    "start_time": "2025-05-25T20:22:23.969Z"
   },
   {
    "duration": 18,
    "start_time": "2025-05-25T20:32:03.277Z"
   },
   {
    "duration": 17,
    "start_time": "2025-05-25T20:32:24.475Z"
   },
   {
    "duration": 16,
    "start_time": "2025-05-25T20:33:49.959Z"
   },
   {
    "duration": 12,
    "start_time": "2025-05-25T20:35:38.568Z"
   },
   {
    "duration": 8,
    "start_time": "2025-05-25T20:36:04.492Z"
   },
   {
    "duration": 14,
    "start_time": "2025-05-25T20:39:55.235Z"
   },
   {
    "duration": 18,
    "start_time": "2025-05-25T20:40:07.423Z"
   },
   {
    "duration": 16,
    "start_time": "2025-05-25T20:42:27.904Z"
   },
   {
    "duration": 13,
    "start_time": "2025-05-25T20:43:02.418Z"
   },
   {
    "duration": 13,
    "start_time": "2025-05-25T20:43:10.700Z"
   },
   {
    "duration": 13,
    "start_time": "2025-05-25T20:43:52.910Z"
   },
   {
    "duration": 14,
    "start_time": "2025-05-25T20:49:35.288Z"
   },
   {
    "duration": 118,
    "start_time": "2025-05-25T20:51:34.610Z"
   },
   {
    "duration": 14,
    "start_time": "2025-05-25T20:52:14.031Z"
   },
   {
    "duration": 14,
    "start_time": "2025-05-25T20:52:45.989Z"
   },
   {
    "duration": 118,
    "start_time": "2025-05-25T20:52:50.423Z"
   },
   {
    "duration": 120,
    "start_time": "2025-05-25T20:53:03.297Z"
   },
   {
    "duration": 17,
    "start_time": "2025-05-25T20:54:25.216Z"
   },
   {
    "duration": 83,
    "start_time": "2025-05-25T20:54:51.173Z"
   },
   {
    "duration": 13,
    "start_time": "2025-05-25T20:54:56.226Z"
   },
   {
    "duration": 115,
    "start_time": "2025-05-25T20:55:00.379Z"
   },
   {
    "duration": 119,
    "start_time": "2025-05-25T20:55:37.074Z"
   },
   {
    "duration": 110,
    "start_time": "2025-05-25T20:55:47.809Z"
   },
   {
    "duration": 203,
    "start_time": "2025-05-25T21:02:02.625Z"
   },
   {
    "duration": 218,
    "start_time": "2025-05-25T21:02:09.975Z"
   },
   {
    "duration": 193,
    "start_time": "2025-05-25T21:02:21.026Z"
   },
   {
    "duration": 309,
    "start_time": "2025-05-25T21:02:37.295Z"
   },
   {
    "duration": 272,
    "start_time": "2025-05-25T21:23:12.106Z"
   },
   {
    "duration": 12,
    "start_time": "2025-05-25T21:29:14.160Z"
   },
   {
    "duration": 7,
    "start_time": "2025-05-25T21:29:54.254Z"
   },
   {
    "duration": 14,
    "start_time": "2025-05-25T21:30:42.004Z"
   },
   {
    "duration": 266,
    "start_time": "2025-05-25T21:31:36.955Z"
   },
   {
    "duration": 9,
    "start_time": "2025-05-25T21:34:13.138Z"
   },
   {
    "duration": 10,
    "start_time": "2025-05-25T21:35:19.203Z"
   },
   {
    "duration": 108,
    "start_time": "2025-05-25T21:38:44.480Z"
   },
   {
    "duration": 114,
    "start_time": "2025-05-25T21:38:56.504Z"
   },
   {
    "duration": 16,
    "start_time": "2025-05-25T21:51:19.267Z"
   },
   {
    "duration": 17,
    "start_time": "2025-05-25T21:52:16.234Z"
   },
   {
    "duration": 75,
    "start_time": "2025-05-25T21:53:48.751Z"
   },
   {
    "duration": 16,
    "start_time": "2025-05-25T21:53:54.816Z"
   },
   {
    "duration": 11,
    "start_time": "2025-05-25T21:56:53.885Z"
   },
   {
    "duration": 55,
    "start_time": "2025-05-26T04:29:08.771Z"
   },
   {
    "duration": 9258,
    "start_time": "2025-05-26T04:29:23.713Z"
   },
   {
    "duration": 1570,
    "start_time": "2025-05-26T04:29:32.973Z"
   },
   {
    "duration": 273,
    "start_time": "2025-05-26T04:29:34.547Z"
   },
   {
    "duration": 16,
    "start_time": "2025-05-26T04:29:34.823Z"
   },
   {
    "duration": 23,
    "start_time": "2025-05-26T04:29:34.841Z"
   },
   {
    "duration": 29,
    "start_time": "2025-05-26T04:29:34.867Z"
   },
   {
    "duration": 13,
    "start_time": "2025-05-26T04:29:34.898Z"
   },
   {
    "duration": 20,
    "start_time": "2025-05-26T04:29:34.913Z"
   },
   {
    "duration": 28,
    "start_time": "2025-05-26T04:29:34.935Z"
   },
   {
    "duration": 9,
    "start_time": "2025-05-26T04:29:34.967Z"
   },
   {
    "duration": 5,
    "start_time": "2025-05-26T04:29:34.978Z"
   },
   {
    "duration": 6,
    "start_time": "2025-05-26T04:29:34.985Z"
   },
   {
    "duration": 12,
    "start_time": "2025-05-26T04:29:34.993Z"
   },
   {
    "duration": 13,
    "start_time": "2025-05-26T04:29:35.007Z"
   },
   {
    "duration": 51,
    "start_time": "2025-05-26T04:29:35.021Z"
   },
   {
    "duration": 8,
    "start_time": "2025-05-26T04:29:35.074Z"
   },
   {
    "duration": 42,
    "start_time": "2025-05-26T04:29:35.084Z"
   },
   {
    "duration": 54,
    "start_time": "2025-05-26T04:29:35.128Z"
   },
   {
    "duration": 24,
    "start_time": "2025-05-26T04:29:35.184Z"
   },
   {
    "duration": 20,
    "start_time": "2025-05-26T04:29:35.209Z"
   },
   {
    "duration": 5,
    "start_time": "2025-05-26T04:29:35.231Z"
   },
   {
    "duration": 585,
    "start_time": "2025-05-26T04:29:35.238Z"
   },
   {
    "duration": 8,
    "start_time": "2025-05-26T04:29:35.825Z"
   },
   {
    "duration": 37,
    "start_time": "2025-05-26T04:29:35.834Z"
   },
   {
    "duration": 192,
    "start_time": "2025-05-26T04:29:35.873Z"
   },
   {
    "duration": 243,
    "start_time": "2025-05-26T04:29:36.071Z"
   },
   {
    "duration": 268,
    "start_time": "2025-05-26T04:29:36.317Z"
   },
   {
    "duration": 0,
    "start_time": "2025-05-26T04:29:36.587Z"
   },
   {
    "duration": 14,
    "start_time": "2025-05-26T04:29:36.613Z"
   },
   {
    "duration": 198,
    "start_time": "2025-05-26T04:29:37.173Z"
   },
   {
    "duration": 216,
    "start_time": "2025-05-26T04:29:37.825Z"
   },
   {
    "duration": 13,
    "start_time": "2025-05-26T04:29:38.633Z"
   },
   {
    "duration": 280,
    "start_time": "2025-05-26T04:29:39.092Z"
   },
   {
    "duration": 114,
    "start_time": "2025-05-26T04:29:40.195Z"
   },
   {
    "duration": 11,
    "start_time": "2025-05-26T04:29:41.865Z"
   },
   {
    "duration": 115,
    "start_time": "2025-05-26T04:29:59.659Z"
   },
   {
    "duration": 92,
    "start_time": "2025-05-26T04:34:22.995Z"
   },
   {
    "duration": 129,
    "start_time": "2025-05-26T04:35:11.874Z"
   },
   {
    "duration": 110,
    "start_time": "2025-05-26T04:39:03.139Z"
   },
   {
    "duration": 15,
    "start_time": "2025-05-26T04:40:02.638Z"
   },
   {
    "duration": 12,
    "start_time": "2025-05-26T04:42:19.518Z"
   },
   {
    "duration": 12,
    "start_time": "2025-05-26T04:43:54.451Z"
   },
   {
    "duration": 168,
    "start_time": "2025-05-26T04:45:27.573Z"
   },
   {
    "duration": 90,
    "start_time": "2025-05-26T04:48:37.382Z"
   },
   {
    "duration": 163,
    "start_time": "2025-05-26T04:48:43.700Z"
   },
   {
    "duration": 166,
    "start_time": "2025-05-26T04:48:56.521Z"
   },
   {
    "duration": 177,
    "start_time": "2025-05-26T04:49:03.719Z"
   },
   {
    "duration": 164,
    "start_time": "2025-05-26T04:49:37.950Z"
   },
   {
    "duration": 277,
    "start_time": "2025-05-26T04:49:53.399Z"
   },
   {
    "duration": 186,
    "start_time": "2025-05-26T04:51:12.263Z"
   },
   {
    "duration": 347,
    "start_time": "2025-05-26T04:53:23.686Z"
   },
   {
    "duration": 323,
    "start_time": "2025-05-26T04:53:50.891Z"
   },
   {
    "duration": 341,
    "start_time": "2025-05-26T04:54:12.579Z"
   },
   {
    "duration": 178,
    "start_time": "2025-05-26T04:55:56.652Z"
   },
   {
    "duration": 338,
    "start_time": "2025-05-26T04:56:05.659Z"
   },
   {
    "duration": 8739,
    "start_time": "2025-05-26T17:22:40.427Z"
   },
   {
    "duration": 1484,
    "start_time": "2025-05-26T17:22:49.168Z"
   },
   {
    "duration": 177,
    "start_time": "2025-05-26T17:22:50.653Z"
   },
   {
    "duration": 17,
    "start_time": "2025-05-26T17:22:50.832Z"
   },
   {
    "duration": 23,
    "start_time": "2025-05-26T17:22:50.851Z"
   },
   {
    "duration": 11,
    "start_time": "2025-05-26T17:22:50.876Z"
   },
   {
    "duration": 22,
    "start_time": "2025-05-26T17:22:50.888Z"
   },
   {
    "duration": 13,
    "start_time": "2025-05-26T17:22:50.911Z"
   },
   {
    "duration": 23,
    "start_time": "2025-05-26T17:22:50.936Z"
   },
   {
    "duration": 8,
    "start_time": "2025-05-26T17:22:50.962Z"
   },
   {
    "duration": 12,
    "start_time": "2025-05-26T17:22:50.972Z"
   },
   {
    "duration": 5,
    "start_time": "2025-05-26T17:22:50.986Z"
   },
   {
    "duration": 12,
    "start_time": "2025-05-26T17:22:50.993Z"
   },
   {
    "duration": 12,
    "start_time": "2025-05-26T17:22:51.007Z"
   },
   {
    "duration": 18,
    "start_time": "2025-05-26T17:22:54.526Z"
   },
   {
    "duration": 7,
    "start_time": "2025-05-26T17:22:54.949Z"
   },
   {
    "duration": 29,
    "start_time": "2025-05-26T17:22:55.140Z"
   },
   {
    "duration": 33,
    "start_time": "2025-05-26T17:22:55.355Z"
   },
   {
    "duration": 23,
    "start_time": "2025-05-26T17:22:55.540Z"
   },
   {
    "duration": 18,
    "start_time": "2025-05-26T17:22:55.722Z"
   },
   {
    "duration": 5,
    "start_time": "2025-05-26T17:22:56.107Z"
   },
   {
    "duration": 554,
    "start_time": "2025-05-26T17:22:56.271Z"
   },
   {
    "duration": 11,
    "start_time": "2025-05-26T17:22:56.828Z"
   },
   {
    "duration": 6,
    "start_time": "2025-05-26T17:22:57.440Z"
   },
   {
    "duration": 180,
    "start_time": "2025-05-26T17:22:57.823Z"
   },
   {
    "duration": 206,
    "start_time": "2025-05-26T17:23:22.057Z"
   },
   {
    "duration": 245,
    "start_time": "2025-05-26T17:23:22.781Z"
   },
   {
    "duration": 15,
    "start_time": "2025-05-26T17:23:24.209Z"
   },
   {
    "duration": 22,
    "start_time": "2025-05-26T17:23:24.373Z"
   },
   {
    "duration": 117,
    "start_time": "2025-05-26T17:23:24.739Z"
   },
   {
    "duration": 279,
    "start_time": "2025-05-26T17:23:25.407Z"
   },
   {
    "duration": 10,
    "start_time": "2025-05-26T17:23:27.526Z"
   },
   {
    "duration": 272,
    "start_time": "2025-05-26T17:23:28.233Z"
   },
   {
    "duration": 122,
    "start_time": "2025-05-26T17:23:28.878Z"
   },
   {
    "duration": 11,
    "start_time": "2025-05-26T17:23:29.975Z"
   },
   {
    "duration": 179,
    "start_time": "2025-05-26T17:23:32.545Z"
   },
   {
    "duration": 391,
    "start_time": "2025-05-26T17:23:33.810Z"
   },
   {
    "duration": 142,
    "start_time": "2025-05-26T17:33:53.979Z"
   },
   {
    "duration": 4926,
    "start_time": "2025-05-26T17:34:39.554Z"
   },
   {
    "duration": 1305,
    "start_time": "2025-05-26T17:34:44.482Z"
   },
   {
    "duration": 251,
    "start_time": "2025-05-26T17:34:45.789Z"
   },
   {
    "duration": 16,
    "start_time": "2025-05-26T17:34:46.043Z"
   },
   {
    "duration": 21,
    "start_time": "2025-05-26T17:34:46.061Z"
   },
   {
    "duration": 12,
    "start_time": "2025-05-26T17:34:46.085Z"
   },
   {
    "duration": 62,
    "start_time": "2025-05-26T17:34:46.099Z"
   },
   {
    "duration": 25,
    "start_time": "2025-05-26T17:34:46.163Z"
   },
   {
    "duration": 23,
    "start_time": "2025-05-26T17:34:46.190Z"
   },
   {
    "duration": 10,
    "start_time": "2025-05-26T17:34:46.215Z"
   },
   {
    "duration": 4,
    "start_time": "2025-05-26T17:34:46.226Z"
   },
   {
    "duration": 8,
    "start_time": "2025-05-26T17:34:46.231Z"
   },
   {
    "duration": 10,
    "start_time": "2025-05-26T17:34:46.241Z"
   },
   {
    "duration": 11,
    "start_time": "2025-05-26T17:34:46.252Z"
   },
   {
    "duration": 31,
    "start_time": "2025-05-26T17:34:46.265Z"
   },
   {
    "duration": 6,
    "start_time": "2025-05-26T17:34:46.297Z"
   },
   {
    "duration": 48,
    "start_time": "2025-05-26T17:34:46.304Z"
   },
   {
    "duration": 28,
    "start_time": "2025-05-26T17:34:46.354Z"
   },
   {
    "duration": 22,
    "start_time": "2025-05-26T17:34:46.540Z"
   },
   {
    "duration": 18,
    "start_time": "2025-05-26T17:34:46.619Z"
   },
   {
    "duration": 5,
    "start_time": "2025-05-26T17:34:47.003Z"
   },
   {
    "duration": 529,
    "start_time": "2025-05-26T17:34:47.222Z"
   },
   {
    "duration": 7,
    "start_time": "2025-05-26T17:34:47.753Z"
   },
   {
    "duration": 7,
    "start_time": "2025-05-26T17:34:48.438Z"
   },
   {
    "duration": 204,
    "start_time": "2025-05-26T17:34:48.871Z"
   },
   {
    "duration": 200,
    "start_time": "2025-05-26T17:34:49.975Z"
   },
   {
    "duration": 239,
    "start_time": "2025-05-26T17:34:53.309Z"
   },
   {
    "duration": 9,
    "start_time": "2025-05-26T17:36:09.476Z"
   },
   {
    "duration": 5,
    "start_time": "2025-05-26T17:36:32.643Z"
   },
   {
    "duration": 6,
    "start_time": "2025-05-26T17:37:11.540Z"
   },
   {
    "duration": 5,
    "start_time": "2025-05-26T17:37:16.474Z"
   },
   {
    "duration": 5,
    "start_time": "2025-05-26T17:37:29.210Z"
   },
   {
    "duration": 198,
    "start_time": "2025-05-26T17:38:04.540Z"
   },
   {
    "duration": 148,
    "start_time": "2025-05-26T17:38:11.476Z"
   },
   {
    "duration": 6,
    "start_time": "2025-05-26T17:38:13.684Z"
   },
   {
    "duration": 5191,
    "start_time": "2025-05-26T17:38:35.072Z"
   },
   {
    "duration": 1446,
    "start_time": "2025-05-26T17:38:40.266Z"
   },
   {
    "duration": 167,
    "start_time": "2025-05-26T17:38:41.714Z"
   },
   {
    "duration": 17,
    "start_time": "2025-05-26T17:38:41.883Z"
   },
   {
    "duration": 18,
    "start_time": "2025-05-26T17:38:41.902Z"
   },
   {
    "duration": 15,
    "start_time": "2025-05-26T17:38:41.922Z"
   },
   {
    "duration": 120,
    "start_time": "2025-05-26T17:38:41.939Z"
   },
   {
    "duration": 12,
    "start_time": "2025-05-26T17:38:42.060Z"
   },
   {
    "duration": 16,
    "start_time": "2025-05-26T17:38:42.074Z"
   },
   {
    "duration": 10,
    "start_time": "2025-05-26T17:38:42.093Z"
   },
   {
    "duration": 4,
    "start_time": "2025-05-26T17:38:42.105Z"
   },
   {
    "duration": 13,
    "start_time": "2025-05-26T17:38:42.110Z"
   },
   {
    "duration": 34,
    "start_time": "2025-05-26T17:38:42.125Z"
   },
   {
    "duration": 66,
    "start_time": "2025-05-26T17:38:42.160Z"
   },
   {
    "duration": 22,
    "start_time": "2025-05-26T17:38:42.228Z"
   },
   {
    "duration": 7,
    "start_time": "2025-05-26T17:38:42.251Z"
   },
   {
    "duration": 30,
    "start_time": "2025-05-26T17:38:42.260Z"
   },
   {
    "duration": 65,
    "start_time": "2025-05-26T17:38:42.292Z"
   },
   {
    "duration": 23,
    "start_time": "2025-05-26T17:38:42.359Z"
   },
   {
    "duration": 19,
    "start_time": "2025-05-26T17:38:42.384Z"
   },
   {
    "duration": 5,
    "start_time": "2025-05-26T17:38:42.710Z"
   },
   {
    "duration": 549,
    "start_time": "2025-05-26T17:38:42.870Z"
   },
   {
    "duration": 15,
    "start_time": "2025-05-26T17:38:43.421Z"
   },
   {
    "duration": 8,
    "start_time": "2025-05-26T17:38:44.072Z"
   },
   {
    "duration": 188,
    "start_time": "2025-05-26T17:38:44.510Z"
   },
   {
    "duration": 5201,
    "start_time": "2025-05-26T17:39:10.356Z"
   },
   {
    "duration": 5,
    "start_time": "2025-05-26T17:39:15.560Z"
   },
   {
    "duration": 546,
    "start_time": "2025-05-26T17:39:15.567Z"
   },
   {
    "duration": 14,
    "start_time": "2025-05-26T17:39:16.115Z"
   },
   {
    "duration": 28,
    "start_time": "2025-05-26T17:39:16.131Z"
   },
   {
    "duration": 10,
    "start_time": "2025-05-26T17:39:16.162Z"
   },
   {
    "duration": 14,
    "start_time": "2025-05-26T17:39:16.174Z"
   },
   {
    "duration": 14,
    "start_time": "2025-05-26T17:39:16.191Z"
   },
   {
    "duration": 29,
    "start_time": "2025-05-26T17:39:16.207Z"
   },
   {
    "duration": 9,
    "start_time": "2025-05-26T17:39:16.239Z"
   },
   {
    "duration": 8,
    "start_time": "2025-05-26T17:39:16.250Z"
   },
   {
    "duration": 5,
    "start_time": "2025-05-26T17:39:16.260Z"
   },
   {
    "duration": 11,
    "start_time": "2025-05-26T17:39:16.267Z"
   },
   {
    "duration": 12,
    "start_time": "2025-05-26T17:39:16.280Z"
   },
   {
    "duration": 17,
    "start_time": "2025-05-26T17:39:16.536Z"
   },
   {
    "duration": 7,
    "start_time": "2025-05-26T17:39:16.986Z"
   },
   {
    "duration": 28,
    "start_time": "2025-05-26T17:39:17.340Z"
   },
   {
    "duration": 32,
    "start_time": "2025-05-26T17:39:17.573Z"
   },
   {
    "duration": 21,
    "start_time": "2025-05-26T17:39:17.786Z"
   },
   {
    "duration": 19,
    "start_time": "2025-05-26T17:39:18.185Z"
   },
   {
    "duration": 5,
    "start_time": "2025-05-26T17:39:18.836Z"
   },
   {
    "duration": 546,
    "start_time": "2025-05-26T17:39:19.054Z"
   },
   {
    "duration": 8,
    "start_time": "2025-05-26T17:39:19.602Z"
   },
   {
    "duration": 8,
    "start_time": "2025-05-26T17:39:20.923Z"
   },
   {
    "duration": 175,
    "start_time": "2025-05-26T17:39:21.885Z"
   },
   {
    "duration": 213,
    "start_time": "2025-05-26T17:39:24.182Z"
   },
   {
    "duration": 179,
    "start_time": "2025-05-26T17:39:29.627Z"
   },
   {
    "duration": 185,
    "start_time": "2025-05-26T17:39:45.287Z"
   },
   {
    "duration": 17,
    "start_time": "2025-05-26T17:39:47.024Z"
   },
   {
    "duration": 15,
    "start_time": "2025-05-26T17:39:47.611Z"
   },
   {
    "duration": 212,
    "start_time": "2025-05-26T17:39:48.445Z"
   },
   {
    "duration": 218,
    "start_time": "2025-05-26T17:39:50.024Z"
   },
   {
    "duration": 10,
    "start_time": "2025-05-26T17:39:51.271Z"
   },
   {
    "duration": 286,
    "start_time": "2025-05-26T17:39:52.491Z"
   },
   {
    "duration": 120,
    "start_time": "2025-05-26T17:39:54.092Z"
   },
   {
    "duration": 13,
    "start_time": "2025-05-26T17:39:56.124Z"
   },
   {
    "duration": 191,
    "start_time": "2025-05-26T17:39:58.224Z"
   },
   {
    "duration": 402,
    "start_time": "2025-05-26T17:39:59.301Z"
   },
   {
    "duration": 17,
    "start_time": "2025-05-26T17:48:37.161Z"
   },
   {
    "duration": 15,
    "start_time": "2025-05-26T17:48:42.190Z"
   },
   {
    "duration": 1399,
    "start_time": "2025-05-26T17:53:35.624Z"
   },
   {
    "duration": 1201,
    "start_time": "2025-05-26T17:53:47.656Z"
   },
   {
    "duration": 17,
    "start_time": "2025-05-26T17:54:08.099Z"
   },
   {
    "duration": 158,
    "start_time": "2025-05-26T17:54:32.140Z"
   },
   {
    "duration": 213,
    "start_time": "2025-05-26T17:55:01.873Z"
   },
   {
    "duration": 128,
    "start_time": "2025-05-26T17:56:40.604Z"
   },
   {
    "duration": 215,
    "start_time": "2025-05-26T17:57:05.425Z"
   },
   {
    "duration": 185,
    "start_time": "2025-05-26T18:16:58.096Z"
   },
   {
    "duration": 230,
    "start_time": "2025-05-26T18:22:31.446Z"
   },
   {
    "duration": 128,
    "start_time": "2025-05-26T18:32:06.074Z"
   },
   {
    "duration": 641,
    "start_time": "2025-05-26T18:44:39.656Z"
   },
   {
    "duration": 445,
    "start_time": "2025-05-26T18:45:24.984Z"
   },
   {
    "duration": 145,
    "start_time": "2025-05-26T18:51:03.802Z"
   },
   {
    "duration": 10,
    "start_time": "2025-05-26T18:53:01.649Z"
   },
   {
    "duration": 6,
    "start_time": "2025-05-26T18:53:16.747Z"
   },
   {
    "duration": 7,
    "start_time": "2025-05-26T18:56:03.034Z"
   },
   {
    "duration": 8,
    "start_time": "2025-05-26T18:57:54.801Z"
   },
   {
    "duration": 165,
    "start_time": "2025-05-26T19:00:44.822Z"
   },
   {
    "duration": 162,
    "start_time": "2025-05-26T19:01:00.982Z"
   },
   {
    "duration": 164,
    "start_time": "2025-05-26T19:02:26.643Z"
   },
   {
    "duration": 186,
    "start_time": "2025-05-26T19:02:48.883Z"
   },
   {
    "duration": 78,
    "start_time": "2025-05-26T19:03:48.317Z"
   },
   {
    "duration": 148,
    "start_time": "2025-05-26T19:03:55.224Z"
   },
   {
    "duration": 233,
    "start_time": "2025-05-26T19:06:58.682Z"
   },
   {
    "duration": 168,
    "start_time": "2025-05-26T19:09:52.987Z"
   },
   {
    "duration": 151,
    "start_time": "2025-05-26T19:10:09.679Z"
   },
   {
    "duration": 1240,
    "start_time": "2025-05-26T19:15:02.616Z"
   },
   {
    "duration": 301,
    "start_time": "2025-05-26T19:15:13.732Z"
   },
   {
    "duration": 325,
    "start_time": "2025-05-26T19:15:32.232Z"
   },
   {
    "duration": 311,
    "start_time": "2025-05-26T19:17:43.110Z"
   },
   {
    "duration": 93,
    "start_time": "2025-05-26T19:18:53.899Z"
   },
   {
    "duration": 83,
    "start_time": "2025-05-26T19:18:59.664Z"
   },
   {
    "duration": 141,
    "start_time": "2025-05-26T19:19:12.287Z"
   },
   {
    "duration": 79,
    "start_time": "2025-05-26T19:19:19.662Z"
   },
   {
    "duration": 81,
    "start_time": "2025-05-26T19:19:39.906Z"
   },
   {
    "duration": 553,
    "start_time": "2025-05-26T19:22:29.034Z"
   },
   {
    "duration": 130,
    "start_time": "2025-05-26T19:23:51.746Z"
   },
   {
    "duration": 1267,
    "start_time": "2025-05-26T19:24:44.064Z"
   },
   {
    "duration": 208,
    "start_time": "2025-05-26T19:27:43.949Z"
   },
   {
    "duration": 1284,
    "start_time": "2025-05-26T19:29:11.880Z"
   },
   {
    "duration": 126,
    "start_time": "2025-05-26T19:29:22.378Z"
   },
   {
    "duration": 120,
    "start_time": "2025-05-26T19:29:32.978Z"
   },
   {
    "duration": 834,
    "start_time": "2025-05-26T19:30:15.562Z"
   },
   {
    "duration": 839,
    "start_time": "2025-05-26T19:30:29.876Z"
   },
   {
    "duration": 941,
    "start_time": "2025-05-26T19:31:11.653Z"
   },
   {
    "duration": 159,
    "start_time": "2025-05-26T19:31:24.631Z"
   },
   {
    "duration": 182,
    "start_time": "2025-05-26T19:41:22.492Z"
   },
   {
    "duration": 204,
    "start_time": "2025-05-26T19:43:14.624Z"
   },
   {
    "duration": 32,
    "start_time": "2025-05-26T19:51:26.781Z"
   },
   {
    "duration": 40,
    "start_time": "2025-05-26T19:51:40.728Z"
   },
   {
    "duration": 11,
    "start_time": "2025-05-26T19:55:12.511Z"
   },
   {
    "duration": 8,
    "start_time": "2025-05-26T20:00:18.994Z"
   },
   {
    "duration": 9,
    "start_time": "2025-05-26T20:00:22.274Z"
   },
   {
    "duration": 10,
    "start_time": "2025-05-26T20:01:58.192Z"
   },
   {
    "duration": 141,
    "start_time": "2025-05-26T20:08:28.265Z"
   },
   {
    "duration": 92801,
    "start_time": "2025-05-26T20:10:31.623Z"
   },
   {
    "duration": 23,
    "start_time": "2025-05-26T20:12:04.443Z"
   },
   {
    "duration": 215,
    "start_time": "2025-05-26T20:16:56.955Z"
   },
   {
    "duration": 10,
    "start_time": "2025-05-26T20:18:25.738Z"
   },
   {
    "duration": 9,
    "start_time": "2025-05-26T20:18:36.437Z"
   },
   {
    "duration": 120,
    "start_time": "2025-05-26T20:19:55.875Z"
   },
   {
    "duration": 308,
    "start_time": "2025-05-26T20:31:38.644Z"
   },
   {
    "duration": 140,
    "start_time": "2025-05-26T20:36:25.872Z"
   },
   {
    "duration": 139,
    "start_time": "2025-05-26T20:36:35.854Z"
   },
   {
    "duration": 77,
    "start_time": "2025-05-26T20:36:45.050Z"
   },
   {
    "duration": 85,
    "start_time": "2025-05-26T20:36:49.821Z"
   },
   {
    "duration": 73,
    "start_time": "2025-05-26T20:36:53.804Z"
   },
   {
    "duration": 130,
    "start_time": "2025-05-26T20:37:07.804Z"
   },
   {
    "duration": 23,
    "start_time": "2025-05-26T20:41:25.705Z"
   },
   {
    "duration": 22,
    "start_time": "2025-05-26T20:41:42.537Z"
   },
   {
    "duration": 21,
    "start_time": "2025-05-26T20:42:05.131Z"
   },
   {
    "duration": 9171,
    "start_time": "2025-05-26T20:42:16.824Z"
   },
   {
    "duration": 227,
    "start_time": "2025-05-26T20:46:05.627Z"
   },
   {
    "duration": 215,
    "start_time": "2025-05-26T20:46:39.388Z"
   },
   {
    "duration": 73,
    "start_time": "2025-05-26T20:47:42.961Z"
   },
   {
    "duration": 11,
    "start_time": "2025-05-26T20:47:50.859Z"
   },
   {
    "duration": 20,
    "start_time": "2025-05-26T20:54:21.938Z"
   },
   {
    "duration": 14,
    "start_time": "2025-05-26T20:55:57.059Z"
   },
   {
    "duration": 19,
    "start_time": "2025-05-26T20:57:03.811Z"
   },
   {
    "duration": 25,
    "start_time": "2025-05-26T20:57:38.704Z"
   },
   {
    "duration": 13,
    "start_time": "2025-05-26T20:58:33.037Z"
   },
   {
    "duration": 14,
    "start_time": "2025-05-26T20:58:49.294Z"
   },
   {
    "duration": 21,
    "start_time": "2025-05-26T21:00:01.669Z"
   },
   {
    "duration": 23,
    "start_time": "2025-05-26T21:01:57.404Z"
   },
   {
    "duration": 18,
    "start_time": "2025-05-26T21:03:18.224Z"
   },
   {
    "duration": 23,
    "start_time": "2025-05-26T21:03:31.470Z"
   },
   {
    "duration": 5067,
    "start_time": "2025-05-26T21:06:13.560Z"
   },
   {
    "duration": 1358,
    "start_time": "2025-05-26T21:06:18.629Z"
   },
   {
    "duration": 294,
    "start_time": "2025-05-26T21:06:19.989Z"
   },
   {
    "duration": 16,
    "start_time": "2025-05-26T21:06:20.286Z"
   },
   {
    "duration": 15,
    "start_time": "2025-05-26T21:06:20.303Z"
   },
   {
    "duration": 11,
    "start_time": "2025-05-26T21:06:20.320Z"
   },
   {
    "duration": 16,
    "start_time": "2025-05-26T21:06:20.332Z"
   },
   {
    "duration": 11,
    "start_time": "2025-05-26T21:06:20.350Z"
   },
   {
    "duration": 15,
    "start_time": "2025-05-26T21:06:20.362Z"
   },
   {
    "duration": 37,
    "start_time": "2025-05-26T21:06:20.379Z"
   },
   {
    "duration": 15,
    "start_time": "2025-05-26T21:06:20.418Z"
   },
   {
    "duration": 11,
    "start_time": "2025-05-26T21:06:20.435Z"
   },
   {
    "duration": 10,
    "start_time": "2025-05-26T21:06:21.140Z"
   },
   {
    "duration": 12,
    "start_time": "2025-05-26T21:06:21.370Z"
   },
   {
    "duration": 19,
    "start_time": "2025-05-26T21:06:22.557Z"
   },
   {
    "duration": 7,
    "start_time": "2025-05-26T21:06:23.203Z"
   },
   {
    "duration": 29,
    "start_time": "2025-05-26T21:06:23.653Z"
   },
   {
    "duration": 29,
    "start_time": "2025-05-26T21:06:23.967Z"
   },
   {
    "duration": 21,
    "start_time": "2025-05-26T21:06:24.149Z"
   },
   {
    "duration": 28,
    "start_time": "2025-05-26T21:06:24.417Z"
   },
   {
    "duration": 5,
    "start_time": "2025-05-26T21:06:25.033Z"
   },
   {
    "duration": 533,
    "start_time": "2025-05-26T21:06:25.379Z"
   },
   {
    "duration": 23,
    "start_time": "2025-05-26T21:06:25.914Z"
   },
   {
    "duration": 7,
    "start_time": "2025-05-26T21:06:27.269Z"
   },
   {
    "duration": 205,
    "start_time": "2025-05-26T21:06:27.807Z"
   },
   {
    "duration": 235,
    "start_time": "2025-05-26T21:06:28.774Z"
   },
   {
    "duration": 189,
    "start_time": "2025-05-26T21:06:29.551Z"
   },
   {
    "duration": 16,
    "start_time": "2025-05-26T21:06:30.849Z"
   },
   {
    "duration": 16,
    "start_time": "2025-05-26T21:06:31.118Z"
   },
   {
    "duration": 132,
    "start_time": "2025-05-26T21:06:31.837Z"
   },
   {
    "duration": 218,
    "start_time": "2025-05-26T21:06:32.801Z"
   },
   {
    "duration": 12,
    "start_time": "2025-05-26T21:06:34.133Z"
   },
   {
    "duration": 361,
    "start_time": "2025-05-26T21:06:34.967Z"
   },
   {
    "duration": 120,
    "start_time": "2025-05-26T21:06:36.085Z"
   },
   {
    "duration": 11,
    "start_time": "2025-05-26T21:06:37.310Z"
   },
   {
    "duration": 181,
    "start_time": "2025-05-26T21:06:38.457Z"
   },
   {
    "duration": 350,
    "start_time": "2025-05-26T21:06:39.707Z"
   },
   {
    "duration": 81,
    "start_time": "2025-05-26T21:06:41.520Z"
   },
   {
    "duration": 203,
    "start_time": "2025-05-26T21:06:41.886Z"
   },
   {
    "duration": 184,
    "start_time": "2025-05-26T21:06:43.304Z"
   },
   {
    "duration": 7,
    "start_time": "2025-05-26T21:06:44.041Z"
   },
   {
    "duration": 8,
    "start_time": "2025-05-26T21:06:44.711Z"
   },
   {
    "duration": 158,
    "start_time": "2025-05-26T21:06:44.994Z"
   },
   {
    "duration": 192,
    "start_time": "2025-05-26T21:06:46.444Z"
   },
   {
    "duration": 11,
    "start_time": "2025-05-26T21:06:48.893Z"
   },
   {
    "duration": 224,
    "start_time": "2025-05-26T21:06:50.119Z"
   },
   {
    "duration": 23,
    "start_time": "2025-05-26T21:06:51.908Z"
   },
   {
    "duration": 22,
    "start_time": "2025-05-26T21:09:12.821Z"
   },
   {
    "duration": 21,
    "start_time": "2025-05-26T21:10:07.421Z"
   },
   {
    "duration": 5031,
    "start_time": "2025-05-26T21:10:22.835Z"
   },
   {
    "duration": 1374,
    "start_time": "2025-05-26T21:10:27.868Z"
   },
   {
    "duration": 173,
    "start_time": "2025-05-26T21:10:29.244Z"
   },
   {
    "duration": 16,
    "start_time": "2025-05-26T21:10:29.419Z"
   },
   {
    "duration": 25,
    "start_time": "2025-05-26T21:10:29.437Z"
   },
   {
    "duration": 11,
    "start_time": "2025-05-26T21:10:29.464Z"
   },
   {
    "duration": 28,
    "start_time": "2025-05-26T21:10:29.477Z"
   },
   {
    "duration": 38,
    "start_time": "2025-05-26T21:10:29.507Z"
   },
   {
    "duration": 21,
    "start_time": "2025-05-26T21:10:29.547Z"
   },
   {
    "duration": 4,
    "start_time": "2025-05-26T21:10:29.570Z"
   },
   {
    "duration": 5,
    "start_time": "2025-05-26T21:10:29.576Z"
   },
   {
    "duration": 14,
    "start_time": "2025-05-26T21:10:29.582Z"
   },
   {
    "duration": 11,
    "start_time": "2025-05-26T21:10:29.617Z"
   },
   {
    "duration": 13,
    "start_time": "2025-05-26T21:10:30.268Z"
   },
   {
    "duration": 18,
    "start_time": "2025-05-26T21:10:31.270Z"
   },
   {
    "duration": 6,
    "start_time": "2025-05-26T21:10:32.152Z"
   },
   {
    "duration": 30,
    "start_time": "2025-05-26T21:10:32.403Z"
   },
   {
    "duration": 29,
    "start_time": "2025-05-26T21:10:32.686Z"
   },
   {
    "duration": 24,
    "start_time": "2025-05-26T21:10:33.228Z"
   },
   {
    "duration": 19,
    "start_time": "2025-05-26T21:10:33.449Z"
   },
   {
    "duration": 5,
    "start_time": "2025-05-26T21:10:33.967Z"
   },
   {
    "duration": 540,
    "start_time": "2025-05-26T21:10:34.237Z"
   },
   {
    "duration": 7,
    "start_time": "2025-05-26T21:10:34.778Z"
   },
   {
    "duration": 7,
    "start_time": "2025-05-26T21:10:36.135Z"
   },
   {
    "duration": 179,
    "start_time": "2025-05-26T21:10:36.743Z"
   },
   {
    "duration": 210,
    "start_time": "2025-05-26T21:10:37.551Z"
   },
   {
    "duration": 174,
    "start_time": "2025-05-26T21:10:38.335Z"
   },
   {
    "duration": 17,
    "start_time": "2025-05-26T21:10:39.427Z"
   },
   {
    "duration": 16,
    "start_time": "2025-05-26T21:10:39.741Z"
   },
   {
    "duration": 110,
    "start_time": "2025-05-26T21:10:40.588Z"
   },
   {
    "duration": 209,
    "start_time": "2025-05-26T21:10:41.844Z"
   },
   {
    "duration": 10,
    "start_time": "2025-05-26T21:10:43.019Z"
   },
   {
    "duration": 347,
    "start_time": "2025-05-26T21:10:43.758Z"
   },
   {
    "duration": 114,
    "start_time": "2025-05-26T21:10:44.702Z"
   },
   {
    "duration": 11,
    "start_time": "2025-05-26T21:10:45.950Z"
   },
   {
    "duration": 175,
    "start_time": "2025-05-26T21:10:50.420Z"
   },
   {
    "duration": 342,
    "start_time": "2025-05-26T21:10:51.002Z"
   },
   {
    "duration": 129,
    "start_time": "2025-05-26T21:10:52.173Z"
   },
   {
    "duration": 204,
    "start_time": "2025-05-26T21:10:52.451Z"
   },
   {
    "duration": 193,
    "start_time": "2025-05-26T21:11:00.021Z"
   },
   {
    "duration": 185,
    "start_time": "2025-05-26T21:11:01.785Z"
   },
   {
    "duration": 7,
    "start_time": "2025-05-26T21:11:02.419Z"
   },
   {
    "duration": 9,
    "start_time": "2025-05-26T21:11:02.850Z"
   },
   {
    "duration": 148,
    "start_time": "2025-05-26T21:11:03.227Z"
   },
   {
    "duration": 205,
    "start_time": "2025-05-26T21:11:04.342Z"
   },
   {
    "duration": 10,
    "start_time": "2025-05-26T21:11:05.586Z"
   },
   {
    "duration": 227,
    "start_time": "2025-05-26T21:11:05.903Z"
   },
   {
    "duration": 21,
    "start_time": "2025-05-26T21:11:06.635Z"
   },
   {
    "duration": 24,
    "start_time": "2025-05-26T21:11:44.059Z"
   },
   {
    "duration": 23,
    "start_time": "2025-05-26T21:14:16.721Z"
   },
   {
    "duration": 26,
    "start_time": "2025-05-26T21:14:41.269Z"
   },
   {
    "duration": 24,
    "start_time": "2025-05-26T21:15:03.136Z"
   },
   {
    "duration": 122,
    "start_time": "2025-05-26T21:18:01.688Z"
   },
   {
    "duration": 28,
    "start_time": "2025-05-26T21:18:15.430Z"
   },
   {
    "duration": 24,
    "start_time": "2025-05-26T21:19:16.357Z"
   },
   {
    "duration": 26,
    "start_time": "2025-05-26T21:20:02.357Z"
   },
   {
    "duration": 84,
    "start_time": "2025-05-26T21:21:11.760Z"
   },
   {
    "duration": 11,
    "start_time": "2025-05-27T04:29:59.995Z"
   },
   {
    "duration": 21,
    "start_time": "2025-05-27T04:30:58.758Z"
   },
   {
    "duration": 16,
    "start_time": "2025-05-27T04:33:16.250Z"
   },
   {
    "duration": 30,
    "start_time": "2025-05-27T04:34:02.579Z"
   },
   {
    "duration": 29,
    "start_time": "2025-05-27T04:34:17.799Z"
   },
   {
    "duration": 26,
    "start_time": "2025-05-27T04:34:29.920Z"
   },
   {
    "duration": 15,
    "start_time": "2025-05-27T04:34:49.816Z"
   },
   {
    "duration": 314,
    "start_time": "2025-05-27T04:36:59.566Z"
   },
   {
    "duration": 362,
    "start_time": "2025-05-27T04:38:05.900Z"
   },
   {
    "duration": 437,
    "start_time": "2025-05-27T04:38:14.155Z"
   },
   {
    "duration": 372,
    "start_time": "2025-05-27T04:39:10.510Z"
   },
   {
    "duration": 326,
    "start_time": "2025-05-27T04:39:22.169Z"
   },
   {
    "duration": 75,
    "start_time": "2025-05-27T04:41:26.183Z"
   },
   {
    "duration": 91,
    "start_time": "2025-05-27T05:00:29.079Z"
   },
   {
    "duration": 58,
    "start_time": "2025-05-27T17:58:22.536Z"
   },
   {
    "duration": 37756,
    "start_time": "2025-05-27T18:09:27.788Z"
   },
   {
    "duration": 1601,
    "start_time": "2025-05-27T18:10:05.547Z"
   },
   {
    "duration": 267,
    "start_time": "2025-05-27T18:10:07.150Z"
   },
   {
    "duration": 17,
    "start_time": "2025-05-27T18:10:07.420Z"
   },
   {
    "duration": 38,
    "start_time": "2025-05-27T18:10:07.439Z"
   },
   {
    "duration": 18,
    "start_time": "2025-05-27T18:10:07.480Z"
   },
   {
    "duration": 51,
    "start_time": "2025-05-27T18:10:07.500Z"
   },
   {
    "duration": 53,
    "start_time": "2025-05-27T18:10:07.553Z"
   },
   {
    "duration": 23,
    "start_time": "2025-05-27T18:10:07.609Z"
   },
   {
    "duration": 117,
    "start_time": "2025-05-27T18:10:07.636Z"
   },
   {
    "duration": 25,
    "start_time": "2025-05-27T18:10:07.755Z"
   },
   {
    "duration": 11,
    "start_time": "2025-05-27T18:10:07.782Z"
   },
   {
    "duration": 115,
    "start_time": "2025-05-27T18:10:07.795Z"
   },
   {
    "duration": 54,
    "start_time": "2025-05-27T18:10:07.912Z"
   },
   {
    "duration": 20,
    "start_time": "2025-05-27T18:10:07.968Z"
   },
   {
    "duration": 7,
    "start_time": "2025-05-27T18:10:07.990Z"
   },
   {
    "duration": 48,
    "start_time": "2025-05-27T18:10:07.999Z"
   },
   {
    "duration": 30,
    "start_time": "2025-05-27T18:10:08.049Z"
   },
   {
    "duration": 44,
    "start_time": "2025-05-27T18:10:08.081Z"
   },
   {
    "duration": 45,
    "start_time": "2025-05-27T18:10:08.126Z"
   },
   {
    "duration": 25,
    "start_time": "2025-05-27T18:10:08.173Z"
   },
   {
    "duration": 561,
    "start_time": "2025-05-27T18:10:08.200Z"
   },
   {
    "duration": 7,
    "start_time": "2025-05-27T18:10:08.762Z"
   },
   {
    "duration": 23,
    "start_time": "2025-05-27T18:10:08.770Z"
   },
   {
    "duration": 207,
    "start_time": "2025-05-27T18:10:08.795Z"
   },
   {
    "duration": 229,
    "start_time": "2025-05-27T18:10:09.004Z"
   },
   {
    "duration": 202,
    "start_time": "2025-05-27T18:10:09.234Z"
   },
   {
    "duration": 7,
    "start_time": "2025-05-27T18:10:09.439Z"
   },
   {
    "duration": 123,
    "start_time": "2025-05-27T18:11:17.243Z"
   },
   {
    "duration": 293,
    "start_time": "2025-05-27T18:11:29.758Z"
   },
   {
    "duration": 11,
    "start_time": "2025-05-27T18:11:34.258Z"
   },
   {
    "duration": 285,
    "start_time": "2025-05-27T18:11:36.774Z"
   },
   {
    "duration": 119,
    "start_time": "2025-05-27T18:11:41.110Z"
   },
   {
    "duration": 120,
    "start_time": "2025-05-27T18:18:32.777Z"
   },
   {
    "duration": 15,
    "start_time": "2025-05-27T18:18:50.642Z"
   },
   {
    "duration": 269,
    "start_time": "2025-05-27T18:20:49.810Z"
   },
   {
    "duration": 310,
    "start_time": "2025-05-27T18:21:14.745Z"
   },
   {
    "duration": 11,
    "start_time": "2025-05-27T18:21:45.983Z"
   },
   {
    "duration": 193,
    "start_time": "2025-05-27T18:21:53.260Z"
   },
   {
    "duration": 450,
    "start_time": "2025-05-27T18:21:57.325Z"
   },
   {
    "duration": 24,
    "start_time": "2025-05-27T18:22:02.593Z"
   },
   {
    "duration": 203,
    "start_time": "2025-05-27T18:22:12.886Z"
   },
   {
    "duration": 243,
    "start_time": "2025-05-27T18:22:22.492Z"
   },
   {
    "duration": 9,
    "start_time": "2025-05-27T18:22:26.123Z"
   },
   {
    "duration": 10,
    "start_time": "2025-05-27T18:22:27.041Z"
   },
   {
    "duration": 159,
    "start_time": "2025-05-27T18:22:28.329Z"
   },
   {
    "duration": 195,
    "start_time": "2025-05-27T18:22:32.841Z"
   },
   {
    "duration": 16,
    "start_time": "2025-05-27T18:22:41.074Z"
   },
   {
    "duration": 227,
    "start_time": "2025-05-27T18:22:45.643Z"
   },
   {
    "duration": 27,
    "start_time": "2025-05-27T18:22:53.758Z"
   },
   {
    "duration": 10,
    "start_time": "2025-05-27T18:22:55.940Z"
   },
   {
    "duration": 223,
    "start_time": "2025-05-27T18:22:58.091Z"
   },
   {
    "duration": 132,
    "start_time": "2025-05-27T18:22:59.170Z"
   },
   {
    "duration": 396,
    "start_time": "2025-05-27T18:23:01.550Z"
   },
   {
    "duration": 8,
    "start_time": "2025-05-27T18:35:03.516Z"
   },
   {
    "duration": 9,
    "start_time": "2025-05-27T18:48:39.347Z"
   },
   {
    "duration": 12,
    "start_time": "2025-05-27T18:51:26.578Z"
   },
   {
    "duration": 12,
    "start_time": "2025-05-27T18:51:45.699Z"
   },
   {
    "duration": 12,
    "start_time": "2025-05-27T18:51:51.992Z"
   },
   {
    "duration": 77,
    "start_time": "2025-05-27T19:05:22.133Z"
   },
   {
    "duration": 9,
    "start_time": "2025-05-27T19:05:31.220Z"
   },
   {
    "duration": 11090,
    "start_time": "2025-05-28T09:48:14.708Z"
   },
   {
    "duration": 1795,
    "start_time": "2025-05-28T09:48:25.801Z"
   },
   {
    "duration": 343,
    "start_time": "2025-05-28T09:48:27.598Z"
   },
   {
    "duration": 17,
    "start_time": "2025-05-28T09:48:27.943Z"
   },
   {
    "duration": 16,
    "start_time": "2025-05-28T09:48:27.963Z"
   },
   {
    "duration": 19,
    "start_time": "2025-05-28T09:48:27.981Z"
   },
   {
    "duration": 130,
    "start_time": "2025-05-28T09:48:28.002Z"
   },
   {
    "duration": 14,
    "start_time": "2025-05-28T09:48:28.134Z"
   },
   {
    "duration": 25,
    "start_time": "2025-05-28T09:48:28.150Z"
   },
   {
    "duration": 9,
    "start_time": "2025-05-28T09:48:28.178Z"
   },
   {
    "duration": 11,
    "start_time": "2025-05-28T09:48:28.189Z"
   },
   {
    "duration": 15,
    "start_time": "2025-05-28T09:48:28.201Z"
   },
   {
    "duration": 19,
    "start_time": "2025-05-28T09:48:28.218Z"
   },
   {
    "duration": 12,
    "start_time": "2025-05-28T09:48:28.240Z"
   },
   {
    "duration": 22,
    "start_time": "2025-05-28T09:48:28.254Z"
   },
   {
    "duration": 7,
    "start_time": "2025-05-28T09:48:28.278Z"
   },
   {
    "duration": 41,
    "start_time": "2025-05-28T09:48:28.286Z"
   },
   {
    "duration": 52,
    "start_time": "2025-05-28T09:48:28.329Z"
   },
   {
    "duration": 24,
    "start_time": "2025-05-28T09:48:28.382Z"
   },
   {
    "duration": 26,
    "start_time": "2025-05-28T09:48:28.407Z"
   },
   {
    "duration": 97,
    "start_time": "2025-05-28T09:48:28.460Z"
   },
   {
    "duration": 592,
    "start_time": "2025-05-28T09:48:28.559Z"
   },
   {
    "duration": 11,
    "start_time": "2025-05-28T09:48:29.153Z"
   },
   {
    "duration": 7,
    "start_time": "2025-05-28T09:48:29.166Z"
   },
   {
    "duration": 212,
    "start_time": "2025-05-28T09:48:29.175Z"
   },
   {
    "duration": 7,
    "start_time": "2025-05-28T09:48:29.389Z"
   },
   {
    "duration": 236,
    "start_time": "2025-05-28T09:48:29.397Z"
   },
   {
    "duration": 216,
    "start_time": "2025-05-28T09:48:29.634Z"
   },
   {
    "duration": 19,
    "start_time": "2025-05-28T09:48:29.852Z"
   },
   {
    "duration": 149,
    "start_time": "2025-05-28T09:48:29.873Z"
   },
   {
    "duration": 322,
    "start_time": "2025-05-28T09:48:30.024Z"
   },
   {
    "duration": 23,
    "start_time": "2025-05-28T09:48:30.347Z"
   },
   {
    "duration": 374,
    "start_time": "2025-05-28T09:48:30.372Z"
   },
   {
    "duration": 174,
    "start_time": "2025-05-28T09:48:30.748Z"
   },
   {
    "duration": 282,
    "start_time": "2025-05-28T09:48:30.925Z"
   },
   {
    "duration": 11,
    "start_time": "2025-05-28T09:48:31.209Z"
   },
   {
    "duration": 205,
    "start_time": "2025-05-28T09:48:31.221Z"
   },
   {
    "duration": 423,
    "start_time": "2025-05-28T09:48:31.428Z"
   },
   {
    "duration": 285,
    "start_time": "2025-05-28T09:48:31.853Z"
   },
   {
    "duration": 262,
    "start_time": "2025-05-28T09:48:32.140Z"
   },
   {
    "duration": 9,
    "start_time": "2025-05-28T09:48:32.406Z"
   },
   {
    "duration": 148,
    "start_time": "2025-05-28T09:48:32.416Z"
   },
   {
    "duration": 62,
    "start_time": "2025-05-28T09:48:32.567Z"
   },
   {
    "duration": 201,
    "start_time": "2025-05-28T09:48:32.631Z"
   },
   {
    "duration": 363,
    "start_time": "2025-05-28T09:48:32.834Z"
   },
   {
    "duration": 10,
    "start_time": "2025-05-28T09:48:33.199Z"
   },
   {
    "duration": 401,
    "start_time": "2025-05-28T09:48:33.211Z"
   },
   {
    "duration": 29,
    "start_time": "2025-05-28T09:48:33.614Z"
   },
   {
    "duration": 80,
    "start_time": "2025-05-28T09:48:33.662Z"
   },
   {
    "duration": 278,
    "start_time": "2025-05-28T09:48:33.744Z"
   },
   {
    "duration": 159,
    "start_time": "2025-05-28T09:48:34.025Z"
   },
   {
    "duration": 440,
    "start_time": "2025-05-28T09:48:34.187Z"
   },
   {
    "duration": 6,
    "start_time": "2025-05-28T10:52:50.869Z"
   },
   {
    "duration": 86,
    "start_time": "2025-05-28T15:16:09.435Z"
   },
   {
    "duration": 52,
    "start_time": "2025-05-28T15:16:19.020Z"
   },
   {
    "duration": 9229,
    "start_time": "2025-05-28T15:18:13.691Z"
   },
   {
    "duration": 1640,
    "start_time": "2025-05-28T15:18:22.922Z"
   },
   {
    "duration": 283,
    "start_time": "2025-05-28T15:18:24.564Z"
   },
   {
    "duration": 17,
    "start_time": "2025-05-28T15:18:24.849Z"
   },
   {
    "duration": 15,
    "start_time": "2025-05-28T15:18:24.869Z"
   },
   {
    "duration": 15,
    "start_time": "2025-05-28T15:18:24.886Z"
   },
   {
    "duration": 47,
    "start_time": "2025-05-28T15:18:24.903Z"
   },
   {
    "duration": 12,
    "start_time": "2025-05-28T15:18:24.953Z"
   },
   {
    "duration": 16,
    "start_time": "2025-05-28T15:18:24.967Z"
   },
   {
    "duration": 5,
    "start_time": "2025-05-28T15:18:24.985Z"
   },
   {
    "duration": 8,
    "start_time": "2025-05-28T15:18:24.991Z"
   },
   {
    "duration": 38,
    "start_time": "2025-05-28T15:18:25.000Z"
   },
   {
    "duration": 15,
    "start_time": "2025-05-28T15:18:25.040Z"
   },
   {
    "duration": 125,
    "start_time": "2025-05-28T15:18:25.057Z"
   },
   {
    "duration": 66,
    "start_time": "2025-05-28T15:18:25.184Z"
   },
   {
    "duration": 7,
    "start_time": "2025-05-28T15:18:25.252Z"
   },
   {
    "duration": 29,
    "start_time": "2025-05-28T15:18:25.261Z"
   },
   {
    "duration": 71,
    "start_time": "2025-05-28T15:18:25.292Z"
   },
   {
    "duration": 22,
    "start_time": "2025-05-28T15:18:25.364Z"
   },
   {
    "duration": 38,
    "start_time": "2025-05-28T15:18:25.388Z"
   },
   {
    "duration": 1106,
    "start_time": "2025-05-28T15:18:25.438Z"
   },
   {
    "duration": 9,
    "start_time": "2025-05-28T15:20:09.738Z"
   },
   {
    "duration": 11,
    "start_time": "2025-05-28T15:20:28.092Z"
   },
   {
    "duration": 20,
    "start_time": "2025-05-28T15:23:13.395Z"
   },
   {
    "duration": 27,
    "start_time": "2025-05-28T15:23:32.942Z"
   },
   {
    "duration": 89,
    "start_time": "2025-05-28T15:31:42.166Z"
   },
   {
    "duration": 79,
    "start_time": "2025-05-28T15:31:58.734Z"
   },
   {
    "duration": 546,
    "start_time": "2025-05-28T15:32:10.151Z"
   },
   {
    "duration": 8,
    "start_time": "2025-05-28T15:32:21.102Z"
   },
   {
    "duration": 15,
    "start_time": "2025-05-28T15:34:07.923Z"
   },
   {
    "duration": 538,
    "start_time": "2025-05-28T15:34:58.077Z"
   },
   {
    "duration": 7,
    "start_time": "2025-05-28T15:36:13.595Z"
   },
   {
    "duration": 188,
    "start_time": "2025-05-28T15:36:17.190Z"
   },
   {
    "duration": 7,
    "start_time": "2025-05-28T15:36:38.050Z"
   },
   {
    "duration": 212,
    "start_time": "2025-05-28T15:36:39.597Z"
   },
   {
    "duration": 192,
    "start_time": "2025-05-28T15:37:01.297Z"
   },
   {
    "duration": 9370,
    "start_time": "2025-05-28T17:40:57.446Z"
   },
   {
    "duration": 1565,
    "start_time": "2025-05-28T17:41:06.819Z"
   },
   {
    "duration": 297,
    "start_time": "2025-05-28T17:41:08.386Z"
   },
   {
    "duration": 17,
    "start_time": "2025-05-28T17:41:08.686Z"
   },
   {
    "duration": 15,
    "start_time": "2025-05-28T17:41:08.705Z"
   },
   {
    "duration": 11,
    "start_time": "2025-05-28T17:41:08.722Z"
   },
   {
    "duration": 35,
    "start_time": "2025-05-28T17:41:08.736Z"
   },
   {
    "duration": 14,
    "start_time": "2025-05-28T17:41:08.773Z"
   },
   {
    "duration": 16,
    "start_time": "2025-05-28T17:41:08.788Z"
   },
   {
    "duration": 5,
    "start_time": "2025-05-28T17:41:08.807Z"
   },
   {
    "duration": 8,
    "start_time": "2025-05-28T17:41:08.814Z"
   },
   {
    "duration": 38,
    "start_time": "2025-05-28T17:41:08.824Z"
   },
   {
    "duration": 11,
    "start_time": "2025-05-28T17:41:08.864Z"
   },
   {
    "duration": 31,
    "start_time": "2025-05-28T17:41:08.876Z"
   },
   {
    "duration": 20,
    "start_time": "2025-05-28T17:41:08.909Z"
   },
   {
    "duration": 6,
    "start_time": "2025-05-28T17:41:08.931Z"
   },
   {
    "duration": 47,
    "start_time": "2025-05-28T17:41:08.938Z"
   },
   {
    "duration": 30,
    "start_time": "2025-05-28T17:41:08.987Z"
   },
   {
    "duration": 55,
    "start_time": "2025-05-28T17:41:09.019Z"
   },
   {
    "duration": 45,
    "start_time": "2025-05-28T17:41:09.076Z"
   },
   {
    "duration": 25,
    "start_time": "2025-05-28T17:41:09.123Z"
   },
   {
    "duration": 5,
    "start_time": "2025-05-28T17:41:09.150Z"
   },
   {
    "duration": 604,
    "start_time": "2025-05-28T17:41:09.161Z"
   },
   {
    "duration": 8,
    "start_time": "2025-05-28T17:41:09.767Z"
   },
   {
    "duration": 9,
    "start_time": "2025-05-28T17:41:09.778Z"
   },
   {
    "duration": 229,
    "start_time": "2025-05-28T17:41:09.788Z"
   },
   {
    "duration": 9,
    "start_time": "2025-05-28T17:41:10.615Z"
   },
   {
    "duration": 210,
    "start_time": "2025-05-28T17:41:11.071Z"
   },
   {
    "duration": 181,
    "start_time": "2025-05-28T17:41:11.808Z"
   },
   {
    "duration": 13,
    "start_time": "2025-05-28T17:41:13.289Z"
   },
   {
    "duration": 123,
    "start_time": "2025-05-28T17:41:14.867Z"
   },
   {
    "duration": 214,
    "start_time": "2025-05-28T17:41:16.004Z"
   },
   {
    "duration": 90,
    "start_time": "2025-05-28T17:42:19.656Z"
   },
   {
    "duration": 288,
    "start_time": "2025-05-28T17:46:39.454Z"
   },
   {
    "duration": 77,
    "start_time": "2025-05-28T17:48:17.774Z"
   },
   {
    "duration": 71,
    "start_time": "2025-05-28T17:49:13.383Z"
   },
   {
    "duration": 68,
    "start_time": "2025-05-28T17:50:24.905Z"
   },
   {
    "duration": 211,
    "start_time": "2025-05-28T17:50:26.781Z"
   },
   {
    "duration": 1548,
    "start_time": "2025-05-28T18:04:34.703Z"
   },
   {
    "duration": 14,
    "start_time": "2025-05-28T18:04:57.171Z"
   },
   {
    "duration": 216,
    "start_time": "2025-05-28T18:05:10.496Z"
   },
   {
    "duration": 89,
    "start_time": "2025-05-28T18:05:51.222Z"
   },
   {
    "duration": 8226,
    "start_time": "2025-05-28T19:43:07.789Z"
   },
   {
    "duration": 1484,
    "start_time": "2025-05-28T19:43:16.018Z"
   },
   {
    "duration": 199,
    "start_time": "2025-05-28T19:43:17.504Z"
   },
   {
    "duration": 15,
    "start_time": "2025-05-28T19:43:17.705Z"
   },
   {
    "duration": 14,
    "start_time": "2025-05-28T19:43:17.722Z"
   },
   {
    "duration": 55,
    "start_time": "2025-05-28T19:43:17.737Z"
   },
   {
    "duration": 131,
    "start_time": "2025-05-28T19:43:17.794Z"
   },
   {
    "duration": 16,
    "start_time": "2025-05-28T19:43:17.927Z"
   },
   {
    "duration": 51,
    "start_time": "2025-05-28T19:43:17.945Z"
   },
   {
    "duration": 4,
    "start_time": "2025-05-28T19:43:18.000Z"
   },
   {
    "duration": 6,
    "start_time": "2025-05-28T19:43:18.005Z"
   },
   {
    "duration": 16,
    "start_time": "2025-05-28T19:43:18.012Z"
   },
   {
    "duration": 24,
    "start_time": "2025-05-28T19:43:18.030Z"
   },
   {
    "duration": 24,
    "start_time": "2025-05-28T19:43:18.056Z"
   },
   {
    "duration": 29,
    "start_time": "2025-05-28T19:43:18.082Z"
   },
   {
    "duration": 13,
    "start_time": "2025-05-28T19:43:18.113Z"
   },
   {
    "duration": 43,
    "start_time": "2025-05-28T19:43:18.128Z"
   },
   {
    "duration": 30,
    "start_time": "2025-05-28T19:43:18.173Z"
   },
   {
    "duration": 44,
    "start_time": "2025-05-28T19:43:18.204Z"
   },
   {
    "duration": 21,
    "start_time": "2025-05-28T19:43:18.250Z"
   },
   {
    "duration": 25,
    "start_time": "2025-05-28T19:43:18.273Z"
   },
   {
    "duration": 5,
    "start_time": "2025-05-28T19:43:18.986Z"
   },
   {
    "duration": 490,
    "start_time": "2025-05-28T19:43:19.224Z"
   },
   {
    "duration": 7,
    "start_time": "2025-05-28T19:43:20.419Z"
   },
   {
    "duration": 7,
    "start_time": "2025-05-28T19:43:26.780Z"
   },
   {
    "duration": 166,
    "start_time": "2025-05-28T19:43:27.274Z"
   },
   {
    "duration": 7,
    "start_time": "2025-05-28T19:43:28.576Z"
   },
   {
    "duration": 184,
    "start_time": "2025-05-28T19:43:29.197Z"
   },
   {
    "duration": 161,
    "start_time": "2025-05-28T19:43:35.291Z"
   },
   {
    "duration": 13,
    "start_time": "2025-05-28T19:43:41.790Z"
   },
   {
    "duration": 114,
    "start_time": "2025-05-28T19:43:43.445Z"
   },
   {
    "duration": 85,
    "start_time": "2025-05-28T19:43:56.497Z"
   },
   {
    "duration": 116,
    "start_time": "2025-05-28T19:45:15.164Z"
   },
   {
    "duration": 265,
    "start_time": "2025-05-28T19:45:28.029Z"
   },
   {
    "duration": 190,
    "start_time": "2025-05-28T19:46:54.597Z"
   },
   {
    "duration": 232,
    "start_time": "2025-05-28T19:47:19.520Z"
   },
   {
    "duration": 205,
    "start_time": "2025-05-28T19:49:03.378Z"
   },
   {
    "duration": 176,
    "start_time": "2025-05-28T19:53:01.712Z"
   },
   {
    "duration": 191,
    "start_time": "2025-05-28T19:53:52.181Z"
   },
   {
    "duration": 23,
    "start_time": "2025-05-28T19:54:15.061Z"
   },
   {
    "duration": 164,
    "start_time": "2025-05-28T19:54:47.496Z"
   },
   {
    "duration": 106,
    "start_time": "2025-05-28T19:58:32.344Z"
   },
   {
    "duration": 171,
    "start_time": "2025-05-28T19:59:38.904Z"
   },
   {
    "duration": 10,
    "start_time": "2025-05-28T20:02:08.927Z"
   },
   {
    "duration": 165,
    "start_time": "2025-05-28T20:03:33.530Z"
   },
   {
    "duration": 11,
    "start_time": "2025-05-28T20:04:41.006Z"
   },
   {
    "duration": 12,
    "start_time": "2025-05-28T20:05:19.621Z"
   },
   {
    "duration": 160,
    "start_time": "2025-05-28T20:06:43.343Z"
   },
   {
    "duration": 10,
    "start_time": "2025-05-28T20:08:15.227Z"
   },
   {
    "duration": 363,
    "start_time": "2025-05-28T20:08:16.734Z"
   },
   {
    "duration": 101,
    "start_time": "2025-05-28T20:08:19.415Z"
   },
   {
    "duration": 250,
    "start_time": "2025-05-28T20:08:30.782Z"
   },
   {
    "duration": 10,
    "start_time": "2025-05-28T20:09:01.511Z"
   },
   {
    "duration": 165,
    "start_time": "2025-05-28T20:09:04.293Z"
   },
   {
    "duration": 83,
    "start_time": "2025-05-28T20:11:01.764Z"
   },
   {
    "duration": 69,
    "start_time": "2025-05-28T20:11:06.524Z"
   },
   {
    "duration": 11,
    "start_time": "2025-05-28T20:12:08.250Z"
   },
   {
    "duration": 14,
    "start_time": "2025-05-28T20:14:56.361Z"
   },
   {
    "duration": 163,
    "start_time": "2025-05-28T20:16:44.676Z"
   },
   {
    "duration": 388,
    "start_time": "2025-05-28T20:17:46.812Z"
   },
   {
    "duration": 165,
    "start_time": "2025-05-28T20:18:36.845Z"
   },
   {
    "duration": 167,
    "start_time": "2025-05-28T20:19:41.509Z"
   },
   {
    "duration": 326,
    "start_time": "2025-05-28T20:20:35.894Z"
   },
   {
    "duration": 71,
    "start_time": "2025-05-28T20:21:00.341Z"
   },
   {
    "duration": 402,
    "start_time": "2025-05-28T20:21:07.952Z"
   },
   {
    "duration": 76,
    "start_time": "2025-05-28T20:25:43.557Z"
   },
   {
    "duration": 10,
    "start_time": "2025-05-28T20:26:05.516Z"
   },
   {
    "duration": 192,
    "start_time": "2025-05-28T20:26:08.358Z"
   },
   {
    "duration": 23,
    "start_time": "2025-05-28T20:26:15.326Z"
   },
   {
    "duration": 16,
    "start_time": "2025-05-28T20:28:26.688Z"
   },
   {
    "duration": 197,
    "start_time": "2025-05-28T20:28:53.897Z"
   },
   {
    "duration": 8841,
    "start_time": "2025-05-29T04:23:03.508Z"
   },
   {
    "duration": 1571,
    "start_time": "2025-05-29T04:23:12.351Z"
   },
   {
    "duration": 241,
    "start_time": "2025-05-29T04:23:13.924Z"
   },
   {
    "duration": 16,
    "start_time": "2025-05-29T04:23:14.168Z"
   },
   {
    "duration": 14,
    "start_time": "2025-05-29T04:23:14.185Z"
   },
   {
    "duration": 13,
    "start_time": "2025-05-29T04:23:14.201Z"
   },
   {
    "duration": 10,
    "start_time": "2025-05-29T04:23:14.216Z"
   },
   {
    "duration": 11,
    "start_time": "2025-05-29T04:23:14.228Z"
   },
   {
    "duration": 45,
    "start_time": "2025-05-29T04:23:14.240Z"
   },
   {
    "duration": 5,
    "start_time": "2025-05-29T04:23:14.288Z"
   },
   {
    "duration": 11,
    "start_time": "2025-05-29T04:23:14.295Z"
   },
   {
    "duration": 4,
    "start_time": "2025-05-29T04:23:14.307Z"
   },
   {
    "duration": 10,
    "start_time": "2025-05-29T04:23:14.312Z"
   },
   {
    "duration": 32,
    "start_time": "2025-05-29T04:23:14.324Z"
   },
   {
    "duration": 27,
    "start_time": "2025-05-29T04:23:14.358Z"
   },
   {
    "duration": 6,
    "start_time": "2025-05-29T04:23:14.387Z"
   },
   {
    "duration": 40,
    "start_time": "2025-05-29T04:23:14.394Z"
   },
   {
    "duration": 44,
    "start_time": "2025-05-29T04:23:14.436Z"
   },
   {
    "duration": 21,
    "start_time": "2025-05-29T04:23:14.482Z"
   },
   {
    "duration": 18,
    "start_time": "2025-05-29T04:23:14.505Z"
   },
   {
    "duration": 55,
    "start_time": "2025-05-29T04:23:14.525Z"
   },
   {
    "duration": 5,
    "start_time": "2025-05-29T04:23:14.581Z"
   },
   {
    "duration": 528,
    "start_time": "2025-05-29T04:23:14.588Z"
   },
   {
    "duration": 6,
    "start_time": "2025-05-29T04:23:15.118Z"
   },
   {
    "duration": 8,
    "start_time": "2025-05-29T04:23:15.127Z"
   },
   {
    "duration": 199,
    "start_time": "2025-05-29T04:23:15.136Z"
   },
   {
    "duration": 9,
    "start_time": "2025-05-29T04:23:15.899Z"
   },
   {
    "duration": 211,
    "start_time": "2025-05-29T04:23:16.178Z"
   },
   {
    "duration": 166,
    "start_time": "2025-05-29T04:23:16.748Z"
   },
   {
    "duration": 10,
    "start_time": "2025-05-29T04:23:17.639Z"
   },
   {
    "duration": 120,
    "start_time": "2025-05-29T04:23:18.038Z"
   },
   {
    "duration": 64,
    "start_time": "2025-05-29T04:23:18.668Z"
   },
   {
    "duration": 249,
    "start_time": "2025-05-29T04:23:19.903Z"
   },
   {
    "duration": 10,
    "start_time": "2025-05-29T04:23:23.637Z"
   },
   {
    "duration": 264,
    "start_time": "2025-05-29T04:23:24.598Z"
   },
   {
    "duration": 114,
    "start_time": "2025-05-29T04:23:26.083Z"
   },
   {
    "duration": 250,
    "start_time": "2025-05-29T04:23:26.568Z"
   },
   {
    "duration": 10,
    "start_time": "2025-05-29T04:23:28.906Z"
   },
   {
    "duration": 174,
    "start_time": "2025-05-29T04:23:29.827Z"
   },
   {
    "duration": 400,
    "start_time": "2025-05-29T04:23:30.647Z"
   },
   {
    "duration": 189,
    "start_time": "2025-05-29T04:23:31.627Z"
   },
   {
    "duration": 186,
    "start_time": "2025-05-29T04:23:32.218Z"
   },
   {
    "duration": 8,
    "start_time": "2025-05-29T04:23:33.089Z"
   },
   {
    "duration": 9,
    "start_time": "2025-05-29T04:23:33.289Z"
   },
   {
    "duration": 7,
    "start_time": "2025-05-29T04:23:33.467Z"
   },
   {
    "duration": 150,
    "start_time": "2025-05-29T04:23:33.658Z"
   },
   {
    "duration": 176,
    "start_time": "2025-05-29T04:23:34.357Z"
   },
   {
    "duration": 10,
    "start_time": "2025-05-29T04:23:35.745Z"
   },
   {
    "duration": 319,
    "start_time": "2025-05-29T04:23:35.896Z"
   },
   {
    "duration": 25,
    "start_time": "2025-05-29T04:23:36.217Z"
   },
   {
    "duration": 212,
    "start_time": "2025-05-29T04:23:36.448Z"
   },
   {
    "duration": 11,
    "start_time": "2025-05-29T04:23:37.470Z"
   },
   {
    "duration": 219,
    "start_time": "2025-05-29T04:23:37.857Z"
   },
   {
    "duration": 127,
    "start_time": "2025-05-29T04:23:38.217Z"
   },
   {
    "duration": 368,
    "start_time": "2025-05-29T04:23:39.367Z"
   },
   {
    "duration": 111,
    "start_time": "2025-05-29T04:25:45.135Z"
   },
   {
    "duration": 327,
    "start_time": "2025-05-29T04:27:10.014Z"
   },
   {
    "duration": 167,
    "start_time": "2025-05-29T04:30:39.333Z"
   },
   {
    "duration": 219,
    "start_time": "2025-05-29T04:32:56.218Z"
   },
   {
    "duration": 234,
    "start_time": "2025-05-29T04:33:42.019Z"
   },
   {
    "duration": 406,
    "start_time": "2025-05-29T04:36:02.641Z"
   },
   {
    "duration": 444,
    "start_time": "2025-05-29T04:36:38.498Z"
   },
   {
    "duration": 11,
    "start_time": "2025-05-29T04:40:12.166Z"
   },
   {
    "duration": 19,
    "start_time": "2025-05-29T04:43:01.928Z"
   },
   {
    "duration": 263,
    "start_time": "2025-05-29T04:44:06.296Z"
   },
   {
    "duration": 233,
    "start_time": "2025-05-29T04:44:45.424Z"
   },
   {
    "duration": 74,
    "start_time": "2025-05-29T04:46:33.403Z"
   },
   {
    "duration": 223,
    "start_time": "2025-05-29T04:47:42.825Z"
   },
   {
    "duration": 221,
    "start_time": "2025-05-29T04:48:29.175Z"
   },
   {
    "duration": 222,
    "start_time": "2025-05-29T04:49:22.447Z"
   },
   {
    "duration": 232,
    "start_time": "2025-05-29T04:52:39.011Z"
   },
   {
    "duration": 208,
    "start_time": "2025-05-29T04:52:53.749Z"
   },
   {
    "duration": 5067,
    "start_time": "2025-05-29T04:55:20.248Z"
   },
   {
    "duration": 1311,
    "start_time": "2025-05-29T04:55:25.318Z"
   },
   {
    "duration": 212,
    "start_time": "2025-05-29T04:55:26.631Z"
   },
   {
    "duration": 17,
    "start_time": "2025-05-29T04:55:26.845Z"
   },
   {
    "duration": 14,
    "start_time": "2025-05-29T04:55:26.863Z"
   },
   {
    "duration": 9,
    "start_time": "2025-05-29T04:55:26.878Z"
   },
   {
    "duration": 19,
    "start_time": "2025-05-29T04:55:26.888Z"
   },
   {
    "duration": 12,
    "start_time": "2025-05-29T04:55:26.909Z"
   },
   {
    "duration": 16,
    "start_time": "2025-05-29T04:55:26.923Z"
   },
   {
    "duration": 4,
    "start_time": "2025-05-29T04:55:26.941Z"
   },
   {
    "duration": 31,
    "start_time": "2025-05-29T04:55:26.947Z"
   },
   {
    "duration": 5,
    "start_time": "2025-05-29T04:55:26.980Z"
   },
   {
    "duration": 15,
    "start_time": "2025-05-29T04:55:26.987Z"
   },
   {
    "duration": 15,
    "start_time": "2025-05-29T04:55:27.004Z"
   },
   {
    "duration": 22,
    "start_time": "2025-05-29T04:55:27.021Z"
   },
   {
    "duration": 32,
    "start_time": "2025-05-29T04:55:27.045Z"
   },
   {
    "duration": 28,
    "start_time": "2025-05-29T04:55:27.280Z"
   },
   {
    "duration": 27,
    "start_time": "2025-05-29T04:55:27.521Z"
   },
   {
    "duration": 21,
    "start_time": "2025-05-29T04:55:27.658Z"
   },
   {
    "duration": 19,
    "start_time": "2025-05-29T04:55:28.012Z"
   },
   {
    "duration": 24,
    "start_time": "2025-05-29T04:55:28.522Z"
   },
   {
    "duration": 5,
    "start_time": "2025-05-29T04:55:29.104Z"
   },
   {
    "duration": 519,
    "start_time": "2025-05-29T04:55:29.277Z"
   },
   {
    "duration": 7,
    "start_time": "2025-05-29T04:55:30.046Z"
   },
   {
    "duration": 7,
    "start_time": "2025-05-29T04:55:31.262Z"
   },
   {
    "duration": 188,
    "start_time": "2025-05-29T04:55:31.784Z"
   },
   {
    "duration": 7,
    "start_time": "2025-05-29T04:55:32.421Z"
   },
   {
    "duration": 203,
    "start_time": "2025-05-29T04:55:32.590Z"
   },
   {
    "duration": 183,
    "start_time": "2025-05-29T04:55:33.330Z"
   },
   {
    "duration": 11,
    "start_time": "2025-05-29T04:55:33.991Z"
   },
   {
    "duration": 117,
    "start_time": "2025-05-29T04:55:34.330Z"
   },
   {
    "duration": 67,
    "start_time": "2025-05-29T04:55:34.867Z"
   },
   {
    "duration": 252,
    "start_time": "2025-05-29T04:55:35.428Z"
   },
   {
    "duration": 11,
    "start_time": "2025-05-29T04:55:36.501Z"
   },
   {
    "duration": 281,
    "start_time": "2025-05-29T04:55:36.831Z"
   },
   {
    "duration": 113,
    "start_time": "2025-05-29T04:55:37.320Z"
   },
   {
    "duration": 246,
    "start_time": "2025-05-29T04:55:37.670Z"
   },
   {
    "duration": 11,
    "start_time": "2025-05-29T04:55:38.261Z"
   },
   {
    "duration": 10,
    "start_time": "2025-05-29T04:55:40.171Z"
   },
   {
    "duration": 181,
    "start_time": "2025-05-29T04:55:40.708Z"
   },
   {
    "duration": 292,
    "start_time": "2025-05-29T04:55:41.710Z"
   },
   {
    "duration": 195,
    "start_time": "2025-05-29T04:55:42.750Z"
   },
   {
    "duration": 256,
    "start_time": "2025-05-29T04:55:43.251Z"
   },
   {
    "duration": 8,
    "start_time": "2025-05-29T04:55:43.750Z"
   },
   {
    "duration": 9,
    "start_time": "2025-05-29T04:55:43.910Z"
   },
   {
    "duration": 6,
    "start_time": "2025-05-29T04:55:44.081Z"
   },
   {
    "duration": 149,
    "start_time": "2025-05-29T04:55:44.260Z"
   },
   {
    "duration": 181,
    "start_time": "2025-05-29T04:55:44.711Z"
   },
   {
    "duration": 11,
    "start_time": "2025-05-29T04:55:45.610Z"
   },
   {
    "duration": 370,
    "start_time": "2025-05-29T04:55:45.781Z"
   },
   {
    "duration": 234,
    "start_time": "2025-05-29T04:55:46.153Z"
   },
   {
    "duration": 26,
    "start_time": "2025-05-29T04:55:46.389Z"
   },
   {
    "duration": 12,
    "start_time": "2025-05-29T04:55:47.400Z"
   },
   {
    "duration": 210,
    "start_time": "2025-05-29T04:55:47.550Z"
   },
   {
    "duration": 142,
    "start_time": "2025-05-29T04:55:47.762Z"
   },
   {
    "duration": 384,
    "start_time": "2025-05-29T04:55:48.461Z"
   },
   {
    "duration": 7934,
    "start_time": "2025-05-29T12:48:44.543Z"
   },
   {
    "duration": 1497,
    "start_time": "2025-05-29T12:48:52.479Z"
   },
   {
    "duration": 227,
    "start_time": "2025-05-29T12:48:53.978Z"
   },
   {
    "duration": 14,
    "start_time": "2025-05-29T12:48:54.207Z"
   },
   {
    "duration": 92,
    "start_time": "2025-05-29T12:48:54.223Z"
   },
   {
    "duration": 10,
    "start_time": "2025-05-29T12:48:54.317Z"
   },
   {
    "duration": 23,
    "start_time": "2025-05-29T12:48:54.329Z"
   },
   {
    "duration": 12,
    "start_time": "2025-05-29T12:48:54.354Z"
   },
   {
    "duration": 20,
    "start_time": "2025-05-29T12:48:54.367Z"
   },
   {
    "duration": 31,
    "start_time": "2025-05-29T12:48:54.389Z"
   },
   {
    "duration": 34,
    "start_time": "2025-05-29T12:48:54.422Z"
   },
   {
    "duration": 5,
    "start_time": "2025-05-29T12:48:54.458Z"
   },
   {
    "duration": 15,
    "start_time": "2025-05-29T12:48:54.465Z"
   },
   {
    "duration": 106,
    "start_time": "2025-05-29T12:48:54.485Z"
   },
   {
    "duration": 30,
    "start_time": "2025-05-29T12:48:54.594Z"
   },
   {
    "duration": 10,
    "start_time": "2025-05-29T12:48:54.625Z"
   },
   {
    "duration": 25,
    "start_time": "2025-05-29T12:48:54.637Z"
   },
   {
    "duration": 25,
    "start_time": "2025-05-29T12:48:54.663Z"
   },
   {
    "duration": 20,
    "start_time": "2025-05-29T12:48:54.689Z"
   },
   {
    "duration": 44,
    "start_time": "2025-05-29T12:48:54.710Z"
   },
   {
    "duration": 219,
    "start_time": "2025-05-29T12:48:54.756Z"
   },
   {
    "duration": 52,
    "start_time": "2025-05-29T12:48:54.976Z"
   },
   {
    "duration": 510,
    "start_time": "2025-05-29T12:48:55.030Z"
   },
   {
    "duration": 7,
    "start_time": "2025-05-29T12:48:55.541Z"
   },
   {
    "duration": 8,
    "start_time": "2025-05-29T12:48:55.549Z"
   },
   {
    "duration": 187,
    "start_time": "2025-05-29T12:48:55.559Z"
   },
   {
    "duration": 6,
    "start_time": "2025-05-29T12:48:55.748Z"
   },
   {
    "duration": 216,
    "start_time": "2025-05-29T12:48:55.756Z"
   },
   {
    "duration": 180,
    "start_time": "2025-05-29T12:48:55.973Z"
   },
   {
    "duration": 10,
    "start_time": "2025-05-29T12:48:56.155Z"
   },
   {
    "duration": 136,
    "start_time": "2025-05-29T12:48:56.166Z"
   },
   {
    "duration": 157,
    "start_time": "2025-05-29T12:48:56.303Z"
   },
   {
    "duration": 180,
    "start_time": "2025-05-29T12:48:56.462Z"
   },
   {
    "duration": 10,
    "start_time": "2025-05-29T12:48:56.643Z"
   },
   {
    "duration": 284,
    "start_time": "2025-05-29T12:48:56.655Z"
   },
   {
    "duration": 120,
    "start_time": "2025-05-29T12:48:56.940Z"
   },
   {
    "duration": 261,
    "start_time": "2025-05-29T12:48:57.061Z"
   },
   {
    "duration": 20,
    "start_time": "2025-05-29T12:48:57.323Z"
   },
   {
    "duration": 192,
    "start_time": "2025-05-29T12:48:57.344Z"
   },
   {
    "duration": 332,
    "start_time": "2025-05-29T12:48:57.538Z"
   },
   {
    "duration": 225,
    "start_time": "2025-05-29T12:48:57.876Z"
   },
   {
    "duration": 258,
    "start_time": "2025-05-29T12:48:58.103Z"
   },
   {
    "duration": 9,
    "start_time": "2025-05-29T12:48:58.363Z"
   },
   {
    "duration": 8,
    "start_time": "2025-05-29T12:48:58.374Z"
   },
   {
    "duration": 7,
    "start_time": "2025-05-29T12:48:58.383Z"
   },
   {
    "duration": 178,
    "start_time": "2025-05-29T12:48:58.391Z"
   },
   {
    "duration": 283,
    "start_time": "2025-05-29T12:48:58.571Z"
   },
   {
    "duration": 12,
    "start_time": "2025-05-29T12:48:58.855Z"
   },
   {
    "duration": 394,
    "start_time": "2025-05-29T12:48:58.868Z"
   },
   {
    "duration": 225,
    "start_time": "2025-05-29T12:48:59.263Z"
   },
   {
    "duration": 26,
    "start_time": "2025-05-29T12:48:59.490Z"
   },
   {
    "duration": 22,
    "start_time": "2025-05-29T12:48:59.518Z"
   },
   {
    "duration": 218,
    "start_time": "2025-05-29T12:48:59.541Z"
   },
   {
    "duration": 130,
    "start_time": "2025-05-29T12:48:59.760Z"
   },
   {
    "duration": 400,
    "start_time": "2025-05-29T12:48:59.892Z"
   }
  ],
  "colab": {
   "provenance": []
  },
  "kernelspec": {
   "display_name": "Python 3 (ipykernel)",
   "language": "python",
   "name": "python3"
  },
  "language_info": {
   "codemirror_mode": {
    "name": "ipython",
    "version": 3
   },
   "file_extension": ".py",
   "mimetype": "text/x-python",
   "name": "python",
   "nbconvert_exporter": "python",
   "pygments_lexer": "ipython3",
   "version": "3.9.5"
  },
  "toc": {
   "base_numbering": 1,
   "nav_menu": {},
   "number_sections": true,
   "sideBar": true,
   "skip_h1_title": true,
   "title_cell": "Table of Contents",
   "title_sidebar": "Contents",
   "toc_cell": false,
   "toc_position": {},
   "toc_section_display": true,
   "toc_window_display": false
  }
 },
 "nbformat": 4,
 "nbformat_minor": 5
}
