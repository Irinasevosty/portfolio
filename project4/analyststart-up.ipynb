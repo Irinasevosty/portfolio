{
 "cells": [
  {
   "cell_type": "markdown",
   "metadata": {
    "id": "4mJbK1knrJgz"
   },
   "source": [
    "# Исследование стартапов\n",
    "\n",
    "- Автор: Ирина Севостьянова\n",
    "- Дата: 09/06/2025"
   ]
  },
  {
   "cell_type": "markdown",
   "metadata": {},
   "source": [
    "### Цели и задачи проекта\n",
    "\n",
    "**Цель:** Провести исследовательский анализ исторических данных с целью разработки модели бизнеса по перепродажи перспективных стартапов\n",
    "    \n",
    "**Задачи:** \n",
    "1. Загрузить данные и познакомиться с их содержимым.\n",
    "2. Провести предобработку данных.\n",
    "3. Провести исследовательский анализ данных:\n",
    "- изучить данные более детально;\n",
    "- изучить взаимосвязи данных с друг другом.\n",
    "4. Сформулировать выводы по проведённому анализу."
   ]
  },
  {
   "cell_type": "markdown",
   "metadata": {
    "colab": {
     "base_uri": "https://localhost:8080/"
    },
    "id": "W_W4jRazrJg0",
    "outputId": "d2409aad-233f-4bb4-ec71-7da96594f9df",
    "vscode": {
     "languageId": "plaintext"
    }
   },
   "source": [
    "### Описание данных\n",
    "\n",
    "Для анализа поступили исторические данные о стратапах. Данные состоят из осоновных 5 датасетов и 2 дополнительных.\n",
    "Основные таблицы:\n",
    "- `datasets/acquisition.csv` - cодержит информацию о покупках одними компаниями других компаний.\n",
    "- `datasets/company_and_rounds.csv` - cодержит информацию о компаниях и раундах финансирования.\n",
    "- `datasets/people.csv` - cодержит информацию о сотрудниках.\n",
    "- `datasets/education.csv` - cодержит информацию об образовании сотрудника.\n",
    "- `datasets/degrees.csv` - cодержит информацию о типе образования сотрудника.\n",
    "\n",
    "Описание датасета `datasets/acquisition.csv`\n",
    "\n",
    "- `id` — идентификатор покупки.\n",
    "- `acquiring_company_id` — идентификатор покупающей компании.\n",
    "- `acquired_company_id` — идентификатор покупаемой компании.\n",
    "- `term_code` — варианты расчёта.\n",
    "- `price_amount` — сумма сделки.\n",
    "- `acquired_at` — дата сделки.\n",
    "\n",
    "\n",
    "Описание датасета `datasets/company_and_rounds.csv`:\n",
    "- `company ID` — идентификатор компании.\n",
    "- `name` — название компании.\n",
    "- `category code` — категория области деятельности компании.\n",
    "- `status` — статус компании.\n",
    "- `founded at` — дата инвестирования.\n",
    "- `closed at` — дата закрытия компании.\n",
    "- `domain` — официальный сайт компании.\n",
    "- `network username` — ник компании в сети.\n",
    "- `country code` — код страны компании.\n",
    "- `investment rounds` — число инвестиционных раундов.\n",
    "- `funding rounds` — число раундов финансирования.\n",
    "- `funding total` — сумма финансирования.\n",
    "- `milestones` — вехи финансирования.\n",
    "- `funding round id` — идентификатор этапа финансирования.\n",
    "- `company id` — идентификатор компании.\n",
    "- `funded at` — дата финансирования.\n",
    "- `funding round type` — тип финансирования.\n",
    "- `raised amount` — сумма финансирования.\n",
    "- `pre money valuation` — предварительная денежная оценка.\n",
    "- `participants` — число участников.\n",
    "- `is first round` — является ли раунд первым.\n",
    "- `is last round` — является раунд последним.\n",
    "\n",
    "Описание датасета `datasets/people.csv`:\n",
    "- `id` — идентификатор сотрудника.\n",
    "- `first_name` — имя сотрудника.\n",
    "- `last_name` — фамилия сотрудника.\n",
    "- `company_id` — идентификатор компании.\n",
    "- `network_username` — ник в социальных сетях.\n",
    "\n",
    "Описание датасета `datasets/education.csv`\n",
    "- `id` — идентификатор записи об образовании.\n",
    "- `person_id` — идентификатор работника.\n",
    "- `instituition` — название учебного заведения.\n",
    "- `graduated_at` — дата получения образования.\n",
    "\n",
    "Описание датасета `datasets/degrees.csv`\n",
    "- `id` — идентификатор записи.\n",
    "- `object_id` — идентификатор сотрудника.\n",
    "- `degree_type` — тип образования.\n",
    "- `subject` — специальность.\n",
    "\n",
    "Дополнительные таблицы:\n",
    "- `datasets/fund.csv` - содержит информацию о фондах.\n",
    "- `datasets/investment.csv` - cодержит информацию о раундах инвестирования.\n",
    "\n",
    "Описание датасета `datasets/fund.csv`:\n",
    "- `id` — идентификатор фонда.\n",
    "- `name` — название фонда.\n",
    "- `category_code` — категория области деятельности компании.\n",
    "- `founded_at` — дата создания фонда.\n",
    "- `domain` — сайт фонда.\n",
    "- `network_username` — ник фонда в сети.\n",
    "- `country_code` — код страны фонда.\n",
    "- `investment_rounds` — число инвестиционных раундов.\n",
    "- `invested_companies` — число профинансированных компаний.\n",
    "- `milestones` — вехи финансирования.\n",
    "\n",
    "Описание датасета `datasets/investment.csv`:\n",
    "- `id` — идентификатор этапа инвестирования.\n",
    "- `funding_round_id` — идентификатор раунда инвестирования.\n",
    "- `company_id` — индентификатор компании.\n",
    "- `funding_round_type` — тип финансирования.\n",
    "- `fund_id` — идентификатор фонда."
   ]
  },
  {
   "cell_type": "markdown",
   "metadata": {
    "id": "2Tm4Pk__Felf"
   },
   "source": [
    "## 1. Загрузка данных и знакомство с ними\n",
    "\n",
    "- Загрузим данные о рынке стартапов. Будем использовать pandas и библиотеки визуализации данных matplotlib и seaborn, а также phik для построения матрицы корреляции. Данные датасетов сохраним в следующих переменных: `acq_df`,`company_and_rounds_df`, `people_df`, `edu_df`, `degr_df`"
   ]
  },
  {
   "cell_type": "code",
   "execution_count": 1,
   "metadata": {
    "id": "oNqJ2qpRFebv"
   },
   "outputs": [
    {
     "name": "stdout",
     "output_type": "stream",
     "text": [
      "Requirement already satisfied: phik in /opt/conda/lib/python3.9/site-packages (0.12.4)\n",
      "Requirement already satisfied: joblib>=0.14.1 in /opt/conda/lib/python3.9/site-packages (from phik) (1.1.0)\n",
      "Requirement already satisfied: scipy>=1.5.2 in /opt/conda/lib/python3.9/site-packages (from phik) (1.9.1)\n",
      "Requirement already satisfied: pandas>=0.25.1 in /opt/conda/lib/python3.9/site-packages (from phik) (1.2.4)\n",
      "Requirement already satisfied: matplotlib>=2.2.3 in /opt/conda/lib/python3.9/site-packages (from phik) (3.3.4)\n",
      "Requirement already satisfied: numpy>=1.18.0 in /opt/conda/lib/python3.9/site-packages (from phik) (1.21.1)\n",
      "Requirement already satisfied: cycler>=0.10 in /opt/conda/lib/python3.9/site-packages (from matplotlib>=2.2.3->phik) (0.11.0)\n",
      "Requirement already satisfied: kiwisolver>=1.0.1 in /opt/conda/lib/python3.9/site-packages (from matplotlib>=2.2.3->phik) (1.4.4)\n",
      "Requirement already satisfied: python-dateutil>=2.1 in /opt/conda/lib/python3.9/site-packages (from matplotlib>=2.2.3->phik) (2.8.1)\n",
      "Requirement already satisfied: pyparsing!=2.0.4,!=2.1.2,!=2.1.6,>=2.0.3 in /opt/conda/lib/python3.9/site-packages (from matplotlib>=2.2.3->phik) (2.4.7)\n",
      "Requirement already satisfied: pillow>=6.2.0 in /opt/conda/lib/python3.9/site-packages (from matplotlib>=2.2.3->phik) (8.4.0)\n",
      "Requirement already satisfied: pytz>=2017.3 in /opt/conda/lib/python3.9/site-packages (from pandas>=0.25.1->phik) (2021.1)\n",
      "Requirement already satisfied: six>=1.5 in /opt/conda/lib/python3.9/site-packages (from python-dateutil>=2.1->matplotlib>=2.2.3->phik) (1.16.0)\n",
      "Requirement already satisfied: jupyter-black in /opt/conda/lib/python3.9/site-packages (0.4.0)\n",
      "Requirement already satisfied: black[jupyter]>=21 in /opt/conda/lib/python3.9/site-packages (from jupyter-black) (25.1.0)\n",
      "Requirement already satisfied: click>=8.0.0 in /opt/conda/lib/python3.9/site-packages (from black[jupyter]>=21->jupyter-black) (8.1.3)\n",
      "Requirement already satisfied: packaging>=22.0 in /opt/conda/lib/python3.9/site-packages (from black[jupyter]>=21->jupyter-black) (25.0)\n",
      "Requirement already satisfied: mypy-extensions>=0.4.3 in /opt/conda/lib/python3.9/site-packages (from black[jupyter]>=21->jupyter-black) (1.1.0)\n",
      "Requirement already satisfied: pathspec>=0.9.0 in /opt/conda/lib/python3.9/site-packages (from black[jupyter]>=21->jupyter-black) (0.12.1)\n",
      "Requirement already satisfied: typing-extensions>=4.0.1 in /opt/conda/lib/python3.9/site-packages (from black[jupyter]>=21->jupyter-black) (4.3.0)\n",
      "Requirement already satisfied: platformdirs>=2 in /opt/conda/lib/python3.9/site-packages (from black[jupyter]>=21->jupyter-black) (4.3.8)\n",
      "Requirement already satisfied: tomli>=1.1.0 in /opt/conda/lib/python3.9/site-packages (from black[jupyter]>=21->jupyter-black) (2.2.1)\n",
      "Requirement already satisfied: ipython>=7.8.0 in /opt/conda/lib/python3.9/site-packages (from black[jupyter]>=21->jupyter-black) (7.25.0)\n",
      "Requirement already satisfied: tokenize-rt>=3.2.0 in /opt/conda/lib/python3.9/site-packages (from black[jupyter]>=21->jupyter-black) (6.2.0)\n",
      "Requirement already satisfied: backcall in /opt/conda/lib/python3.9/site-packages (from ipython>=7.8.0->black[jupyter]>=21->jupyter-black) (0.2.0)\n",
      "Requirement already satisfied: jedi>=0.16 in /opt/conda/lib/python3.9/site-packages (from ipython>=7.8.0->black[jupyter]>=21->jupyter-black) (0.18.0)\n",
      "Requirement already satisfied: traitlets>=4.2 in /opt/conda/lib/python3.9/site-packages (from ipython>=7.8.0->black[jupyter]>=21->jupyter-black) (5.0.5)\n",
      "Requirement already satisfied: matplotlib-inline in /opt/conda/lib/python3.9/site-packages (from ipython>=7.8.0->black[jupyter]>=21->jupyter-black) (0.1.2)\n",
      "Requirement already satisfied: setuptools>=18.5 in /opt/conda/lib/python3.9/site-packages (from ipython>=7.8.0->black[jupyter]>=21->jupyter-black) (49.6.0.post20210108)\n",
      "Requirement already satisfied: decorator in /opt/conda/lib/python3.9/site-packages (from ipython>=7.8.0->black[jupyter]>=21->jupyter-black) (5.0.9)\n",
      "Requirement already satisfied: pickleshare in /opt/conda/lib/python3.9/site-packages (from ipython>=7.8.0->black[jupyter]>=21->jupyter-black) (0.7.5)\n",
      "Requirement already satisfied: pygments in /opt/conda/lib/python3.9/site-packages (from ipython>=7.8.0->black[jupyter]>=21->jupyter-black) (2.9.0)\n",
      "Requirement already satisfied: pexpect>4.3 in /opt/conda/lib/python3.9/site-packages (from ipython>=7.8.0->black[jupyter]>=21->jupyter-black) (4.8.0)\n",
      "Requirement already satisfied: prompt-toolkit!=3.0.0,!=3.0.1,<3.1.0,>=2.0.0 in /opt/conda/lib/python3.9/site-packages (from ipython>=7.8.0->black[jupyter]>=21->jupyter-black) (3.0.19)\n",
      "Requirement already satisfied: parso<0.9.0,>=0.8.0 in /opt/conda/lib/python3.9/site-packages (from jedi>=0.16->ipython>=7.8.0->black[jupyter]>=21->jupyter-black) (0.8.2)\n",
      "Requirement already satisfied: ptyprocess>=0.5 in /opt/conda/lib/python3.9/site-packages (from pexpect>4.3->ipython>=7.8.0->black[jupyter]>=21->jupyter-black) (0.7.0)\n",
      "Requirement already satisfied: wcwidth in /opt/conda/lib/python3.9/site-packages (from prompt-toolkit!=3.0.0,!=3.0.1,<3.1.0,>=2.0.0->ipython>=7.8.0->black[jupyter]>=21->jupyter-black) (0.2.5)\n",
      "Requirement already satisfied: ipython-genutils in /opt/conda/lib/python3.9/site-packages (from traitlets>=4.2->ipython>=7.8.0->black[jupyter]>=21->jupyter-black) (0.2.0)\n"
     ]
    }
   ],
   "source": [
    "# Установим библиотеку phik\n",
    "!pip install phik\n",
    "\n",
    "# Установим библиотеку venn\n",
    "!pip install matplotlib-venn -q\n",
    "from matplotlib_venn import venn2, venn3\n",
    "\n",
    "# Установим библиотеку jupyter-black\n",
    "!pip install jupyter-black"
   ]
  },
  {
   "cell_type": "code",
   "execution_count": 2,
   "metadata": {},
   "outputs": [],
   "source": [
    "# Импортируем библиотеку pandas\n",
    "import pandas as pd\n",
    "import numpy as np\n",
    "\n",
    "# Загружаем библиотеки для визуализации данных\n",
    "import matplotlib.pyplot as plt\n",
    "import seaborn as sns\n",
    "\n",
    "\n",
    "# Загружаем библиотеку для расчёта коэффициента корреляции phi_k\n",
    "from phik import phik_matrix\n",
    "\n",
    "# Загружаем библиотеку для дополнительной красоты кода\n",
    "import jupyter_black\n",
    "\n"
   ]
  },
  {
   "cell_type": "code",
   "execution_count": 3,
   "metadata": {},
   "outputs": [],
   "source": [
    "# Выгружаем данные в переменные\n",
    "acq_df=pd.read_csv('https://code.s3.yandex.net/datasets/acquisition.csv')\n",
    "\n",
    "company_and_rounds_df=pd.read_csv('https://code.s3.yandex.net/datasets/company_and_rounds.csv')\n",
    "\n",
    "people_df=pd.read_csv('https://code.s3.yandex.net/datasets/people.csv')\n",
    "\n",
    "edu_df=pd.read_csv('https://code.s3.yandex.net/datasets/education.csv')\n",
    "\n",
    "degr_df=pd.read_csv('https://code.s3.yandex.net/datasets/degrees.csv')"
   ]
  },
  {
   "cell_type": "markdown",
   "metadata": {},
   "source": [
    "Познакомимся с типами данных и изучим общую информацию о них. Выведем первые строки методом head(), а информацию о датафрейме методом info(). \n",
    "\n",
    "(1) Начнем с датасета `acquisition.csv`."
   ]
  },
  {
   "cell_type": "code",
   "execution_count": 4,
   "metadata": {},
   "outputs": [
    {
     "name": "stdout",
     "output_type": "stream",
     "text": [
      "<class 'pandas.core.frame.DataFrame'>\n",
      "RangeIndex: 9407 entries, 0 to 9406\n",
      "Data columns (total 6 columns):\n",
      " #   Column                Non-Null Count  Dtype \n",
      "---  ------                --------------  ----- \n",
      " 0   id                    9407 non-null   int64 \n",
      " 1   acquiring_company_id  9407 non-null   int64 \n",
      " 2   acquired_company_id   9407 non-null   int64 \n",
      " 3   term_code             1831 non-null   object\n",
      " 4   price_amount          9407 non-null   int64 \n",
      " 5   acquired_at           9378 non-null   object\n",
      "dtypes: int64(4), object(2)\n",
      "memory usage: 441.1+ KB\n"
     ]
    },
    {
     "data": {
      "text/html": [
       "<div>\n",
       "<style scoped>\n",
       "    .dataframe tbody tr th:only-of-type {\n",
       "        vertical-align: middle;\n",
       "    }\n",
       "\n",
       "    .dataframe tbody tr th {\n",
       "        vertical-align: top;\n",
       "    }\n",
       "\n",
       "    .dataframe thead th {\n",
       "        text-align: right;\n",
       "    }\n",
       "</style>\n",
       "<table border=\"1\" class=\"dataframe\">\n",
       "  <thead>\n",
       "    <tr style=\"text-align: right;\">\n",
       "      <th></th>\n",
       "      <th>id</th>\n",
       "      <th>acquiring_company_id</th>\n",
       "      <th>acquired_company_id</th>\n",
       "      <th>term_code</th>\n",
       "      <th>price_amount</th>\n",
       "      <th>acquired_at</th>\n",
       "    </tr>\n",
       "  </thead>\n",
       "  <tbody>\n",
       "    <tr>\n",
       "      <th>0</th>\n",
       "      <td>1</td>\n",
       "      <td>11</td>\n",
       "      <td>10</td>\n",
       "      <td>NaN</td>\n",
       "      <td>20000000</td>\n",
       "      <td>2007-05-30</td>\n",
       "    </tr>\n",
       "    <tr>\n",
       "      <th>1</th>\n",
       "      <td>7</td>\n",
       "      <td>59</td>\n",
       "      <td>72</td>\n",
       "      <td>cash</td>\n",
       "      <td>60000000</td>\n",
       "      <td>2007-07-01</td>\n",
       "    </tr>\n",
       "    <tr>\n",
       "      <th>2</th>\n",
       "      <td>8</td>\n",
       "      <td>24</td>\n",
       "      <td>132</td>\n",
       "      <td>cash</td>\n",
       "      <td>280000000</td>\n",
       "      <td>2007-05-01</td>\n",
       "    </tr>\n",
       "  </tbody>\n",
       "</table>\n",
       "</div>"
      ],
      "text/plain": [
       "   id  acquiring_company_id  acquired_company_id term_code  price_amount  \\\n",
       "0   1                    11                   10       NaN      20000000   \n",
       "1   7                    59                   72      cash      60000000   \n",
       "2   8                    24                  132      cash     280000000   \n",
       "\n",
       "  acquired_at  \n",
       "0  2007-05-30  \n",
       "1  2007-07-01  \n",
       "2  2007-05-01  "
      ]
     },
     "execution_count": 4,
     "metadata": {},
     "output_type": "execute_result"
    }
   ],
   "source": [
    "# Выведем общую информацию\n",
    "acq_df.info()\n",
    "\n",
    "# Выведем первые 3 строки датасета\n",
    "acq_df.head(3)"
   ]
  },
  {
   "cell_type": "markdown",
   "metadata": {},
   "source": [
    "Датасет `acq_df` содержит 6 столбцов и 9407 строк, в которых представлена информация о покупках одними компаниями других компаний.\n",
    "\n",
    "После первичного анализа данных можно сделать следующие выводы:\n",
    "\n",
    "- Названия столбцов соответсвуют общепринятым правилам по написанию солбцов в формате snakecase.\n",
    "\n",
    "**Типы данных**\n",
    "- Данные содержат числовые значения, которые хранятся в типе данных `int64`. Значения в столбцax `id`, `acquiring_company_id`, `acquired_company_id`, `price_amount` представлено целыми числами, что является корректным только для столбца с суммой сделки `price_amount`. Для столбца `term_code` представлен корректно, а для `acquired_at`, которые содержит информацию о дате сделки необходимо преобразовать с `object` в тип данных `datetime64` для корректной работы с датами. \n",
    "\n",
    "- Для значений с `id`, `acquiring_company_id`, `acquired_company_id` наиболее оптимальным будет выполнить преобразование с типа данных `int64` на `object` смцелью оптимизации, так как данные значения не будут применятся для рассчетов или анализа как числа.\n",
    "\n",
    "**Пропущенные значения**\n",
    "- Пропуски содержатся в двух столбцах: `term_code`, `acquired_at`. Можно предположить что пропуски в столбце `acquired_at` не случайны и означают, что сделка еще не закрыта. \n",
    "\n",
    "- Значительное количество пропуском содержится в столбце `term_code`. Это может быть связано с ошибками ввода данных, указание порядка оплаты было необязательным параметром для всех сделок либо связано с конфиденциальностью данных.\n",
    "Следует дополнительно проверить данные предположения.\n",
    "\n",
    "Судя по первому знакомству с данными, значения в столбцах соответствуют своему описанию."
   ]
  },
  {
   "cell_type": "markdown",
   "metadata": {},
   "source": [
    "(2) Выведем информацию о датасете `company_and_rounds.csv`"
   ]
  },
  {
   "cell_type": "code",
   "execution_count": 5,
   "metadata": {},
   "outputs": [
    {
     "name": "stdout",
     "output_type": "stream",
     "text": [
      "<class 'pandas.core.frame.DataFrame'>\n",
      "RangeIndex: 217774 entries, 0 to 217773\n",
      "Data columns (total 22 columns):\n",
      " #   Column                 Non-Null Count   Dtype  \n",
      "---  ------                 --------------   -----  \n",
      " 0   company  ID            217472 non-null  float64\n",
      " 1   name                   217472 non-null  object \n",
      " 2   category  code         143886 non-null  object \n",
      " 3   status                 217472 non-null  object \n",
      " 4   founded  at            109956 non-null  object \n",
      " 5   closed  at             3449 non-null    object \n",
      " 6   domain                 147159 non-null  object \n",
      " 7   network  username      95534 non-null   object \n",
      " 8   country  code          108607 non-null  object \n",
      " 9   investment  rounds     217472 non-null  float64\n",
      " 10  funding  rounds        217472 non-null  float64\n",
      " 11  funding  total         217472 non-null  float64\n",
      " 12  milestones             217472 non-null  float64\n",
      " 13  funding  round  id     52928 non-null   float64\n",
      " 14  company  id            52928 non-null   float64\n",
      " 15  funded  at             52680 non-null   object \n",
      " 16  funding  round  type   52928 non-null   object \n",
      " 17  raised  amount         52928 non-null   float64\n",
      " 18  pre  money  valuation  52928 non-null   float64\n",
      " 19  participants           52928 non-null   float64\n",
      " 20  is  first  round       52928 non-null   float64\n",
      " 21  is  last  round        52928 non-null   float64\n",
      "dtypes: float64(12), object(10)\n",
      "memory usage: 36.6+ MB\n"
     ]
    },
    {
     "data": {
      "text/html": [
       "<div>\n",
       "<style scoped>\n",
       "    .dataframe tbody tr th:only-of-type {\n",
       "        vertical-align: middle;\n",
       "    }\n",
       "\n",
       "    .dataframe tbody tr th {\n",
       "        vertical-align: top;\n",
       "    }\n",
       "\n",
       "    .dataframe thead th {\n",
       "        text-align: right;\n",
       "    }\n",
       "</style>\n",
       "<table border=\"1\" class=\"dataframe\">\n",
       "  <thead>\n",
       "    <tr style=\"text-align: right;\">\n",
       "      <th></th>\n",
       "      <th>company  ID</th>\n",
       "      <th>name</th>\n",
       "      <th>category  code</th>\n",
       "      <th>status</th>\n",
       "      <th>founded  at</th>\n",
       "      <th>closed  at</th>\n",
       "      <th>domain</th>\n",
       "      <th>network  username</th>\n",
       "      <th>country  code</th>\n",
       "      <th>investment  rounds</th>\n",
       "      <th>...</th>\n",
       "      <th>milestones</th>\n",
       "      <th>funding  round  id</th>\n",
       "      <th>company  id</th>\n",
       "      <th>funded  at</th>\n",
       "      <th>funding  round  type</th>\n",
       "      <th>raised  amount</th>\n",
       "      <th>pre  money  valuation</th>\n",
       "      <th>participants</th>\n",
       "      <th>is  first  round</th>\n",
       "      <th>is  last  round</th>\n",
       "    </tr>\n",
       "  </thead>\n",
       "  <tbody>\n",
       "    <tr>\n",
       "      <th>0</th>\n",
       "      <td>1.0</td>\n",
       "      <td>Wetpaint</td>\n",
       "      <td>web</td>\n",
       "      <td>operating</td>\n",
       "      <td>2005-10-17</td>\n",
       "      <td>NaN</td>\n",
       "      <td>wetpaint-inc.com</td>\n",
       "      <td>BachelrWetpaint</td>\n",
       "      <td>USA</td>\n",
       "      <td>0.0</td>\n",
       "      <td>...</td>\n",
       "      <td>5.0</td>\n",
       "      <td>888.0</td>\n",
       "      <td>1.0</td>\n",
       "      <td>2005-10-01</td>\n",
       "      <td>series-a</td>\n",
       "      <td>5250000.0</td>\n",
       "      <td>0.0</td>\n",
       "      <td>2.0</td>\n",
       "      <td>0.0</td>\n",
       "      <td>1.0</td>\n",
       "    </tr>\n",
       "    <tr>\n",
       "      <th>1</th>\n",
       "      <td>1.0</td>\n",
       "      <td>Wetpaint</td>\n",
       "      <td>web</td>\n",
       "      <td>operating</td>\n",
       "      <td>2005-10-17</td>\n",
       "      <td>NaN</td>\n",
       "      <td>wetpaint-inc.com</td>\n",
       "      <td>BachelrWetpaint</td>\n",
       "      <td>USA</td>\n",
       "      <td>0.0</td>\n",
       "      <td>...</td>\n",
       "      <td>5.0</td>\n",
       "      <td>889.0</td>\n",
       "      <td>1.0</td>\n",
       "      <td>2007-01-01</td>\n",
       "      <td>series-b</td>\n",
       "      <td>9500000.0</td>\n",
       "      <td>0.0</td>\n",
       "      <td>3.0</td>\n",
       "      <td>0.0</td>\n",
       "      <td>0.0</td>\n",
       "    </tr>\n",
       "    <tr>\n",
       "      <th>2</th>\n",
       "      <td>1.0</td>\n",
       "      <td>Wetpaint</td>\n",
       "      <td>web</td>\n",
       "      <td>operating</td>\n",
       "      <td>2005-10-17</td>\n",
       "      <td>NaN</td>\n",
       "      <td>wetpaint-inc.com</td>\n",
       "      <td>BachelrWetpaint</td>\n",
       "      <td>USA</td>\n",
       "      <td>0.0</td>\n",
       "      <td>...</td>\n",
       "      <td>5.0</td>\n",
       "      <td>2312.0</td>\n",
       "      <td>1.0</td>\n",
       "      <td>2008-05-19</td>\n",
       "      <td>series-c+</td>\n",
       "      <td>25000000.0</td>\n",
       "      <td>0.0</td>\n",
       "      <td>4.0</td>\n",
       "      <td>1.0</td>\n",
       "      <td>0.0</td>\n",
       "    </tr>\n",
       "  </tbody>\n",
       "</table>\n",
       "<p>3 rows × 22 columns</p>\n",
       "</div>"
      ],
      "text/plain": [
       "   company  ID      name category  code     status founded  at closed  at  \\\n",
       "0          1.0  Wetpaint            web  operating  2005-10-17        NaN   \n",
       "1          1.0  Wetpaint            web  operating  2005-10-17        NaN   \n",
       "2          1.0  Wetpaint            web  operating  2005-10-17        NaN   \n",
       "\n",
       "             domain network  username country  code  investment  rounds  ...  \\\n",
       "0  wetpaint-inc.com   BachelrWetpaint           USA                 0.0  ...   \n",
       "1  wetpaint-inc.com   BachelrWetpaint           USA                 0.0  ...   \n",
       "2  wetpaint-inc.com   BachelrWetpaint           USA                 0.0  ...   \n",
       "\n",
       "   milestones  funding  round  id  company  id  funded  at  \\\n",
       "0         5.0               888.0          1.0  2005-10-01   \n",
       "1         5.0               889.0          1.0  2007-01-01   \n",
       "2         5.0              2312.0          1.0  2008-05-19   \n",
       "\n",
       "   funding  round  type raised  amount pre  money  valuation  participants  \\\n",
       "0              series-a      5250000.0                   0.0           2.0   \n",
       "1              series-b      9500000.0                   0.0           3.0   \n",
       "2             series-c+     25000000.0                   0.0           4.0   \n",
       "\n",
       "   is  first  round  is  last  round  \n",
       "0               0.0              1.0  \n",
       "1               0.0              0.0  \n",
       "2               1.0              0.0  \n",
       "\n",
       "[3 rows x 22 columns]"
      ]
     },
     "execution_count": 5,
     "metadata": {},
     "output_type": "execute_result"
    }
   ],
   "source": [
    "# Выведем общую информацию\n",
    "company_and_rounds_df.info()\n",
    "\n",
    "# Выведем первые 3 строки датасета\n",
    "company_and_rounds_df.head(3)"
   ]
  },
  {
   "cell_type": "markdown",
   "metadata": {},
   "source": [
    "Датасет `company_and_rounds_df` содержит 22 столбца и 217774 строк, в которых представлена информация о компаниях и раундах финансирования.\n",
    "\n",
    "После первичного анализа данных можно сделать следующие выводы:\n",
    "\n",
    "Названия столбцов содержат пробелы между слова, что может создат проблемы при обращении к ним при анализе данных и привести к ошибке. Стандартизируем названия столбцов, приведем к формату snakecase, заменив пробелы на нижнее подчеркиваение и приведем к нижнему регистру. Стоит также отметить столбцы с информацией об идентификатор компании с одинаковыми названиями в различном формате написания, что также может привести к неодноднозначного результату при обращении к ним: `company  ID`, `company  id`. Можно провести дополнительную сверку значений, если данные полностью совпадают, то следует удалить один из столбцов. К тому же `company  id` имеет большое количество пропущенных значений.\n",
    "\n",
    "**Типы данных**\n",
    "\n",
    "Данные представлены двумя типами данных `float64` и `object`. Вещественными типов данных `float64`представлены следующие столбцы: \n",
    "`company  ID`, \n",
    "`investment  rounds`,    \n",
    "`funding  rounds`,       \n",
    "`funding  total`, \n",
    "`milestones`,            \n",
    "`funding  round  id`,    \n",
    "`company  id`.\n",
    "Для столбца, которые содержит информацию о сумме финансирования `funding total`. Для вышепредставленных столбцов таких как `investment  rounds`,`investment  rounds`,`milestones` следует тип данных заменить на int64, так как содержат целочисленное значение, но пока оставим как есть для более детальной проработки данных. Для столбцов со значениями идентификаторов `company  ID`,`funding  round  id`, `company  id`стоит заменить на тип данных `object`, но посмотрим как данные значения представлены в других датасетах. \n",
    "\n",
    "С типом данных `object` представлены следующие столбцы:\n",
    "`name`,                   \n",
    "`category  code`,          \n",
    "`status`,                 \n",
    "`founded  at`,             \n",
    "`closed  at`,            \n",
    "`domain`,                \n",
    "`network  username`,     \n",
    "`country  code`, \n",
    "`funded  at`,      \n",
    "`funding  round  type`.\n",
    "Тип данных столбцов `founded  at`, `funded  at` необходимо заменить на `datetime64` для корректной работы с датами. Остальные столбцы соответствуют представленному типу данных.\n",
    "\n",
    "**Пропущенные значения**\n",
    "\n",
    "Пропуски содержатся во всех столбцах датасета. Так как для анализа собраны исторические данные, можно предположить, что не всем сделка есть информация о компаниях и раундах финансирования.\n",
    "\n",
    "Судя по первому знакомству с данными, значения в столбцах соответствуют своему описанию."
   ]
  },
  {
   "cell_type": "markdown",
   "metadata": {},
   "source": [
    "(3) Выведем информацию о датасете `people.csv`"
   ]
  },
  {
   "cell_type": "code",
   "execution_count": 6,
   "metadata": {},
   "outputs": [
    {
     "name": "stdout",
     "output_type": "stream",
     "text": [
      "<class 'pandas.core.frame.DataFrame'>\n",
      "RangeIndex: 226709 entries, 0 to 226708\n",
      "Data columns (total 5 columns):\n",
      " #   Column            Non-Null Count   Dtype  \n",
      "---  ------            --------------   -----  \n",
      " 0   id                226709 non-null  int64  \n",
      " 1   first_name        226704 non-null  object \n",
      " 2   last_name         226708 non-null  object \n",
      " 3   company_id        34615 non-null   float64\n",
      " 4   network_username  38867 non-null   object \n",
      "dtypes: float64(1), int64(1), object(3)\n",
      "memory usage: 8.6+ MB\n"
     ]
    },
    {
     "data": {
      "text/html": [
       "<div>\n",
       "<style scoped>\n",
       "    .dataframe tbody tr th:only-of-type {\n",
       "        vertical-align: middle;\n",
       "    }\n",
       "\n",
       "    .dataframe tbody tr th {\n",
       "        vertical-align: top;\n",
       "    }\n",
       "\n",
       "    .dataframe thead th {\n",
       "        text-align: right;\n",
       "    }\n",
       "</style>\n",
       "<table border=\"1\" class=\"dataframe\">\n",
       "  <thead>\n",
       "    <tr style=\"text-align: right;\">\n",
       "      <th></th>\n",
       "      <th>id</th>\n",
       "      <th>first_name</th>\n",
       "      <th>last_name</th>\n",
       "      <th>company_id</th>\n",
       "      <th>network_username</th>\n",
       "    </tr>\n",
       "  </thead>\n",
       "  <tbody>\n",
       "    <tr>\n",
       "      <th>0</th>\n",
       "      <td>10</td>\n",
       "      <td>Mark</td>\n",
       "      <td>Zuckerberg</td>\n",
       "      <td>5.0</td>\n",
       "      <td>NaN</td>\n",
       "    </tr>\n",
       "    <tr>\n",
       "      <th>1</th>\n",
       "      <td>100</td>\n",
       "      <td>Peter</td>\n",
       "      <td>Lester</td>\n",
       "      <td>27.0</td>\n",
       "      <td>NaN</td>\n",
       "    </tr>\n",
       "    <tr>\n",
       "      <th>2</th>\n",
       "      <td>1000</td>\n",
       "      <td>Dr. Steven</td>\n",
       "      <td>E. Saunders</td>\n",
       "      <td>292.0</td>\n",
       "      <td>NaN</td>\n",
       "    </tr>\n",
       "  </tbody>\n",
       "</table>\n",
       "</div>"
      ],
      "text/plain": [
       "     id  first_name    last_name  company_id network_username\n",
       "0    10        Mark   Zuckerberg         5.0              NaN\n",
       "1   100       Peter       Lester        27.0              NaN\n",
       "2  1000  Dr. Steven  E. Saunders       292.0              NaN"
      ]
     },
     "execution_count": 6,
     "metadata": {},
     "output_type": "execute_result"
    }
   ],
   "source": [
    "# Выведем общую информацию\n",
    "people_df.info()\n",
    "\n",
    "# Выведем первые 3 строки датасета\n",
    "people_df.head(3)"
   ]
  },
  {
   "cell_type": "markdown",
   "metadata": {},
   "source": [
    "Датасет `people_df` содержит 5 столбцов и 226709 строк, в которых представлена информация о сотрудниках\n",
    "\n",
    "После первичного анализа данных можно сделать следующие выводы:\n",
    "\n",
    "Названия столбцов соответсвуют общепринятым правилам по написанию солбцов в формате snakecase.\n",
    "\n",
    "**Типы данных**\n",
    "\n",
    "Числовым типом данных `float64` представлен столбец `company_id` в типе `float64` и `id` в типе `int64`, наиболее оптимальным будет преобразовать эти столбцы в тип данных `object`.\n",
    "\n",
    "С типом данных `object` представлены следующие столбцы: `first_name` , `last_name`, `network_username`. Для данных стобцов тип определен верно.\n",
    "\n",
    "**Пропущенные значения**\n",
    "\n",
    "Пропуски содержатся во всех столбцах датасета, кроме столбца с идентификатор сотрудника, можно предположить, что это первичный ключ таблицы. В остальных столбцах содержатся пропуски, например, характер пропусков столбца `network_username` может быть связан с тем, что сотрудник не зарегистрирован в социальных сетях, так как значения столбца содержат ник. Пропуски в столбце `company_id`,возможно, связаны с тем, что информация о компании для некоторых сотрудников просто не была внесена в систему либо сотрудники были наняты через сторонние агентства или работают на условиях фриланса или менялась структура данных и старые записи могут оказаться без актуальных `company_id`.\n",
    "\n",
    "Судя по первому знакомству с данными, значения в столбцах соответствуют своему описанию."
   ]
  },
  {
   "cell_type": "markdown",
   "metadata": {},
   "source": [
    "(4) Выведем информацию о датасете `education.csv`"
   ]
  },
  {
   "cell_type": "code",
   "execution_count": 7,
   "metadata": {},
   "outputs": [
    {
     "name": "stdout",
     "output_type": "stream",
     "text": [
      "<class 'pandas.core.frame.DataFrame'>\n",
      "RangeIndex: 109610 entries, 0 to 109609\n",
      "Data columns (total 4 columns):\n",
      " #   Column        Non-Null Count   Dtype \n",
      "---  ------        --------------   ----- \n",
      " 0   id            109610 non-null  int64 \n",
      " 1   person_id     109610 non-null  int64 \n",
      " 2   instituition  109555 non-null  object\n",
      " 3   graduated_at  58054 non-null   object\n",
      "dtypes: int64(2), object(2)\n",
      "memory usage: 3.3+ MB\n"
     ]
    },
    {
     "data": {
      "text/html": [
       "<div>\n",
       "<style scoped>\n",
       "    .dataframe tbody tr th:only-of-type {\n",
       "        vertical-align: middle;\n",
       "    }\n",
       "\n",
       "    .dataframe tbody tr th {\n",
       "        vertical-align: top;\n",
       "    }\n",
       "\n",
       "    .dataframe thead th {\n",
       "        text-align: right;\n",
       "    }\n",
       "</style>\n",
       "<table border=\"1\" class=\"dataframe\">\n",
       "  <thead>\n",
       "    <tr style=\"text-align: right;\">\n",
       "      <th></th>\n",
       "      <th>id</th>\n",
       "      <th>person_id</th>\n",
       "      <th>instituition</th>\n",
       "      <th>graduated_at</th>\n",
       "    </tr>\n",
       "  </thead>\n",
       "  <tbody>\n",
       "    <tr>\n",
       "      <th>0</th>\n",
       "      <td>1</td>\n",
       "      <td>6117</td>\n",
       "      <td>NaN</td>\n",
       "      <td>NaN</td>\n",
       "    </tr>\n",
       "    <tr>\n",
       "      <th>1</th>\n",
       "      <td>2</td>\n",
       "      <td>6136</td>\n",
       "      <td>Washington University, St. Louis</td>\n",
       "      <td>1990-01-01</td>\n",
       "    </tr>\n",
       "    <tr>\n",
       "      <th>2</th>\n",
       "      <td>3</td>\n",
       "      <td>6136</td>\n",
       "      <td>Boston University</td>\n",
       "      <td>1992-01-01</td>\n",
       "    </tr>\n",
       "  </tbody>\n",
       "</table>\n",
       "</div>"
      ],
      "text/plain": [
       "   id  person_id                      instituition graduated_at\n",
       "0   1       6117                               NaN          NaN\n",
       "1   2       6136  Washington University, St. Louis   1990-01-01\n",
       "2   3       6136                 Boston University   1992-01-01"
      ]
     },
     "execution_count": 7,
     "metadata": {},
     "output_type": "execute_result"
    }
   ],
   "source": [
    "# Выведем общую информацию\n",
    "edu_df.info()\n",
    "\n",
    "# Выведем первые 3 строки датасета\n",
    "edu_df.head(3)"
   ]
  },
  {
   "cell_type": "markdown",
   "metadata": {},
   "source": [
    "Датасет `edu_df` содержит 4 столбца и 109610 строк, в которых представлена информация об образовании сотрудника.\n",
    "\n",
    "После первичного анализа данных можно сделать следующие выводы:\n",
    "\n",
    "Названия столбцов соответсвуют общепринятым правилам по написанию солбцов в формате snakecase.\n",
    "\n",
    "**Типы данных**\n",
    "\n",
    "Целочисленныс типом данных `int64` представлены столбцы `id` и `person_id`. Поступим также как и в предыдущих датасетах, преобразуем в тип данных `object`.\n",
    "\n",
    "С типом данных `object` представлены столбцы `instituition` и `graduated_at`, в данном случае проведем замену только для `graduated_at`, так как столбец содержит информацию о дате получения образования, преобразуем в тип данных даты и времени.\n",
    "\n",
    "**Пропущенные значения**\n",
    "\n",
    "Пропуски содержатся во всех столбцах `instituition` и `graduated_at`. Они могут быть связаны с ошибкой ввода данных, данные могли быть введны некорректно, не верно указано число, опечатка или сотрудник еще не завершил процесс обучения в учебном заведении.\n",
    "\n",
    "Судя по первому знакомству с данными, значения в столбцах соответствуют своему описанию."
   ]
  },
  {
   "cell_type": "markdown",
   "metadata": {},
   "source": [
    "(5) Выведем информацию о датасете `degrees.csv`"
   ]
  },
  {
   "cell_type": "code",
   "execution_count": 8,
   "metadata": {},
   "outputs": [
    {
     "name": "stdout",
     "output_type": "stream",
     "text": [
      "<class 'pandas.core.frame.DataFrame'>\n",
      "RangeIndex: 109610 entries, 0 to 109609\n",
      "Data columns (total 4 columns):\n",
      " #   Column       Non-Null Count   Dtype \n",
      "---  ------       --------------   ----- \n",
      " 0   id           109610 non-null  int64 \n",
      " 1   object_id    109610 non-null  object\n",
      " 2   degree_type  98392 non-null   object\n",
      " 3   subject      81298 non-null   object\n",
      "dtypes: int64(1), object(3)\n",
      "memory usage: 3.3+ MB\n"
     ]
    },
    {
     "data": {
      "text/html": [
       "<div>\n",
       "<style scoped>\n",
       "    .dataframe tbody tr th:only-of-type {\n",
       "        vertical-align: middle;\n",
       "    }\n",
       "\n",
       "    .dataframe tbody tr th {\n",
       "        vertical-align: top;\n",
       "    }\n",
       "\n",
       "    .dataframe thead th {\n",
       "        text-align: right;\n",
       "    }\n",
       "</style>\n",
       "<table border=\"1\" class=\"dataframe\">\n",
       "  <thead>\n",
       "    <tr style=\"text-align: right;\">\n",
       "      <th></th>\n",
       "      <th>id</th>\n",
       "      <th>object_id</th>\n",
       "      <th>degree_type</th>\n",
       "      <th>subject</th>\n",
       "    </tr>\n",
       "  </thead>\n",
       "  <tbody>\n",
       "    <tr>\n",
       "      <th>0</th>\n",
       "      <td>1</td>\n",
       "      <td>p:6117</td>\n",
       "      <td>MBA</td>\n",
       "      <td>NaN</td>\n",
       "    </tr>\n",
       "    <tr>\n",
       "      <th>1</th>\n",
       "      <td>2</td>\n",
       "      <td>p:6136</td>\n",
       "      <td>BA</td>\n",
       "      <td>English, French</td>\n",
       "    </tr>\n",
       "    <tr>\n",
       "      <th>2</th>\n",
       "      <td>3</td>\n",
       "      <td>p:6136</td>\n",
       "      <td>MS</td>\n",
       "      <td>Mass Communication</td>\n",
       "    </tr>\n",
       "  </tbody>\n",
       "</table>\n",
       "</div>"
      ],
      "text/plain": [
       "   id object_id degree_type             subject\n",
       "0   1    p:6117         MBA                 NaN\n",
       "1   2    p:6136          BA     English, French\n",
       "2   3    p:6136          MS  Mass Communication"
      ]
     },
     "execution_count": 8,
     "metadata": {},
     "output_type": "execute_result"
    }
   ],
   "source": [
    "# Выведем общую информацию\n",
    "degr_df.info()\n",
    "\n",
    "# Выведем первые 3 строки датасета\n",
    "degr_df.head(3)"
   ]
  },
  {
   "cell_type": "markdown",
   "metadata": {},
   "source": [
    "Датасет `degr_df` содержит 4 столбца и 109610 строк, в которых представлена информация о типе образования сотрудника.\n",
    "\n",
    "После первичного анализа данных можно сделать следующие выводы:\n",
    "\n",
    "Названия столбцов соответсвуют общепринятым правилам по написанию солбцов в формате snakecase.\n",
    "\n",
    "**Типы данных**\n",
    "\n",
    "Большинство столбцов представлены типом данных `object`, что корректно. Для столбца `id` с типом данных `int64` оптимальным будет преобразовать в тип данных `object`, но в рамках данного анализа не будем этого делать, так как при необходимости объединить датасеты воспользуемся столбцом `object_id`, которые содержит информацию об идентификаторе сотрудника. Но стоит обратить внимание, что значения столбца содержат лишний символ `р:` и необходимо провести нормализацию значений перед возможным объдинением. Это может быть свзано с тем, что данные собирались из разных источников в разное время и правила формирвоания индентификаторов также были различны.\n",
    "\n",
    "\n",
    "**Пропущенные значения**\n",
    "\n",
    "Пропуски содержатся в столбцах `degree_type` и `subject`. Возможную причину возникновения можно объяснить тем, что информация о типе образования была не обязательная для заполнения либо с внутренней политикой компании.\n",
    "\n",
    "Судя по первому знакомству с данными, значения в столбцах соответствуют своему описанию."
   ]
  },
  {
   "cell_type": "markdown",
   "metadata": {
    "id": "mg2gEwh0rJg0"
   },
   "source": [
    "### 1.2. Смена типов и анализ пропусков\n",
    "\n",
    "- Обработайте типы данных в столбцах, которые хранят значения даты и времени, если это необходимо.\n",
    "- Оцените полноту данных — сделайте предварительный вывод, достаточно ли данных для решения задач проекта."
   ]
  },
  {
   "cell_type": "markdown",
   "metadata": {
    "id": "FsL0A8RBrJg1",
    "vscode": {
     "languageId": "plaintext"
    }
   },
   "source": [
    "Обработаем тип данных в столбцах, которые хранят значения дат и времени. По предварительному анализу это были следующие датасеты и столбцы:\n"
   ]
  },
  {
   "cell_type": "markdown",
   "metadata": {},
   "source": [
    "- (1) датасет `acq_df`: столбец `acquired_at`\n",
    "- (2) датасет `company_and_rounds_df`: столбец `founded_at`, `funded_at`\n",
    "- (3) датасет `edu_df`: столбец `graduated_at`"
   ]
  },
  {
   "cell_type": "markdown",
   "metadata": {},
   "source": [
    "(1) Перед преобразованием посмотрим на уникальные значения в столбце `acquired_at` и попробуем найти причины некорректных типов."
   ]
  },
  {
   "cell_type": "code",
   "execution_count": 9,
   "metadata": {},
   "outputs": [
    {
     "data": {
      "text/plain": [
       "array(['2007-05-30', '2007-07-01', '2007-05-01', ..., '2013-12-11',\n",
       "       '2013-08-31', '2013-12-12'], dtype=object)"
      ]
     },
     "execution_count": 9,
     "metadata": {},
     "output_type": "execute_result"
    }
   ],
   "source": [
    "acq_df['acquired_at'].nunique()\n",
    "acq_df['acquired_at'].unique()"
   ]
  },
  {
   "cell_type": "code",
   "execution_count": 10,
   "metadata": {
    "id": "DEg1tl8DFeBn"
   },
   "outputs": [
    {
     "data": {
      "text/plain": [
       "0   2007-05-30\n",
       "1   2007-07-01\n",
       "2   2007-05-01\n",
       "3   2007-06-01\n",
       "Name: acquired_at, dtype: datetime64[ns]"
      ]
     },
     "execution_count": 10,
     "metadata": {},
     "output_type": "execute_result"
    }
   ],
   "source": [
    "# Преобразуем тип данных столбца acquired_at датасета acq_df в datetime64, заменив пропуски на значение-индикатор\n",
    "acq_df['acquired_at'] = pd.to_datetime(acq_df['acquired_at'], errors='coerce')\n",
    "\n",
    "# Проверим результат преобразования\n",
    "acq_df['acquired_at'].dtypes\n",
    "acq_df['acquired_at'].head(4)"
   ]
  },
  {
   "cell_type": "code",
   "execution_count": 11,
   "metadata": {},
   "outputs": [
    {
     "data": {
      "text/plain": [
       "'Первый год оформления сделки: 1966-03-24 00:00:00'"
      ]
     },
     "metadata": {},
     "output_type": "display_data"
    },
    {
     "data": {
      "text/plain": [
       "'Последний год оформления сделки: 2013-12-12 00:00:00'"
      ]
     },
     "metadata": {},
     "output_type": "display_data"
    }
   ],
   "source": [
    "# Сделаем дополнительную проверку\n",
    "min_year = acq_df['acquired_at'].min()\n",
    "max_year = acq_df['acquired_at'].max()\n",
    "display(f'Первый год оформления сделки: {min_year}')\n",
    "display(f'Последний год оформления сделки: {max_year}')"
   ]
  },
  {
   "cell_type": "markdown",
   "metadata": {},
   "source": [
    "Исторические данные о покупках одними компаниями других компаний представлены за 47 лет."
   ]
  },
  {
   "cell_type": "markdown",
   "metadata": {},
   "source": [
    "(2) Перед преобразованием посмотрим на уникальные значения датасета `company_and_rounds_df` в столбцax `founded  at`, `funded  at` и попробуем найти причины некорректных типов. Но перед этим выполним нормализацию столбцов. Между словами названия столбцов содержится двойной пробел, уберем его и заменим на '_'"
   ]
  },
  {
   "cell_type": "code",
   "execution_count": 12,
   "metadata": {},
   "outputs": [
    {
     "data": {
      "text/plain": [
       "Index(['company  ID', 'name', 'category  code', 'status', 'founded  at',\n",
       "       'closed  at', 'domain', 'network  username', 'country  code',\n",
       "       'investment  rounds', 'funding  rounds', 'funding  total', 'milestones',\n",
       "       'funding  round  id', 'company  id', 'funded  at',\n",
       "       'funding  round  type', 'raised  amount', 'pre  money  valuation',\n",
       "       'participants', 'is  first  round', 'is  last  round'],\n",
       "      dtype='object')"
      ]
     },
     "execution_count": 12,
     "metadata": {},
     "output_type": "execute_result"
    }
   ],
   "source": [
    "# Выводим названия всех столбцов датасета\n",
    "company_and_rounds_df.columns"
   ]
  },
  {
   "cell_type": "markdown",
   "metadata": {},
   "source": [
    "До нормализации наименования столбцов проверим столбцы со схожими названиями `company  ID` и `company  id` и переменуем один из них."
   ]
  },
  {
   "cell_type": "code",
   "execution_count": 13,
   "metadata": {},
   "outputs": [
    {
     "data": {
      "text/plain": [
       "0           1.0\n",
       "1           1.0\n",
       "2           1.0\n",
       "3          10.0\n",
       "4         100.0\n",
       "          ...  \n",
       "217769      NaN\n",
       "217770      NaN\n",
       "217771      NaN\n",
       "217772      NaN\n",
       "217773      NaN\n",
       "Name: id, Length: 217774, dtype: float64"
      ]
     },
     "execution_count": 13,
     "metadata": {},
     "output_type": "execute_result"
    }
   ],
   "source": [
    "company_and_rounds_df=company_and_rounds_df.rename(columns={'company  ID':'id'})\n",
    "company_and_rounds_df['id']"
   ]
  },
  {
   "cell_type": "code",
   "execution_count": 14,
   "metadata": {},
   "outputs": [
    {
     "data": {
      "text/plain": [
       "Index(['id', 'name', 'category_code', 'status', 'founded_at', 'closed_at',\n",
       "       'domain', 'network_username', 'country_code', 'investment_rounds',\n",
       "       'funding_rounds', 'funding_total', 'milestones', 'funding_round_id',\n",
       "       'company_id', 'funded_at', 'funding_round_type', 'raised_amount',\n",
       "       'pre_money_valuation', 'participants', 'is_first_round',\n",
       "       'is_last_round'],\n",
       "      dtype='object')"
      ]
     },
     "execution_count": 14,
     "metadata": {},
     "output_type": "execute_result"
    }
   ],
   "source": [
    "# Приводим наименование столбцов к snakecase\n",
    "company_and_rounds_df.columns = [x.lower().replace('  ', '_') \n",
    "                      for x in company_and_rounds_df.columns.values]\n",
    "company_and_rounds_df.columns"
   ]
  },
  {
   "cell_type": "code",
   "execution_count": 15,
   "metadata": {},
   "outputs": [
    {
     "data": {
      "text/plain": [
       "\"Уникальные значения столбца founded_at: ['2005-10-17' nan '2008-07-26' ... '1996-02-15' '1962-06-05' '1988-05-13']\""
      ]
     },
     "metadata": {},
     "output_type": "display_data"
    },
    {
     "data": {
      "text/plain": [
       "'Количество уникальных значений: 6156'"
      ]
     },
     "metadata": {},
     "output_type": "display_data"
    },
    {
     "data": {
      "text/plain": [
       "\"Уникальные значения столбца funded_at: ['2005-10-01' '2007-01-01' '2008-05-19' ... '2004-05-06' '2001-09-09'\\n '2003-03-05']\""
      ]
     },
     "metadata": {},
     "output_type": "display_data"
    },
    {
     "data": {
      "text/plain": [
       "'Количество уникальных значений: 3399'"
      ]
     },
     "metadata": {},
     "output_type": "display_data"
    }
   ],
   "source": [
    "# Выведем уникальные значения\n",
    "found_u=company_and_rounds_df['founded_at'].unique()\n",
    "fund_u=company_and_rounds_df['funded_at'].unique()\n",
    "\n",
    "# Посчитаем количество уникальных значений\n",
    "found_nu=company_and_rounds_df['founded_at'].nunique()\n",
    "fund_nu=company_and_rounds_df['funded_at'].nunique()\n",
    "\n",
    "display(f'Уникальные значения столбца founded_at: {found_u}')\n",
    "display(f'Количество уникальных значений: {found_nu}')\n",
    "\n",
    "display(f'Уникальные значения столбца funded_at: {fund_u}')\n",
    "display(f'Количество уникальных значений: {fund_nu}')"
   ]
  },
  {
   "cell_type": "markdown",
   "metadata": {},
   "source": [
    "Возможно ошибка в представлении типа данных возникла из-за того, что в столбце `founded_at` и `funded_at` присутствуют значения, которые интерпретируются как строки."
   ]
  },
  {
   "cell_type": "code",
   "execution_count": 16,
   "metadata": {},
   "outputs": [
    {
     "data": {
      "text/html": [
       "<div>\n",
       "<style scoped>\n",
       "    .dataframe tbody tr th:only-of-type {\n",
       "        vertical-align: middle;\n",
       "    }\n",
       "\n",
       "    .dataframe tbody tr th {\n",
       "        vertical-align: top;\n",
       "    }\n",
       "\n",
       "    .dataframe thead th {\n",
       "        text-align: right;\n",
       "    }\n",
       "</style>\n",
       "<table border=\"1\" class=\"dataframe\">\n",
       "  <thead>\n",
       "    <tr style=\"text-align: right;\">\n",
       "      <th></th>\n",
       "      <th>founded_at</th>\n",
       "      <th>funded_at</th>\n",
       "    </tr>\n",
       "  </thead>\n",
       "  <tbody>\n",
       "    <tr>\n",
       "      <th>0</th>\n",
       "      <td>2005-10-17</td>\n",
       "      <td>2005-10-01</td>\n",
       "    </tr>\n",
       "    <tr>\n",
       "      <th>1</th>\n",
       "      <td>2005-10-17</td>\n",
       "      <td>2007-01-01</td>\n",
       "    </tr>\n",
       "    <tr>\n",
       "      <th>2</th>\n",
       "      <td>2005-10-17</td>\n",
       "      <td>2008-05-19</td>\n",
       "    </tr>\n",
       "  </tbody>\n",
       "</table>\n",
       "</div>"
      ],
      "text/plain": [
       "  founded_at  funded_at\n",
       "0 2005-10-17 2005-10-01\n",
       "1 2005-10-17 2007-01-01\n",
       "2 2005-10-17 2008-05-19"
      ]
     },
     "execution_count": 16,
     "metadata": {},
     "output_type": "execute_result"
    }
   ],
   "source": [
    "# Заменив пропуски на значение-индикатор -1\n",
    "company_and_rounds_df['founded_at'] = company_and_rounds_df['founded_at'].fillna(pd.NaT)\n",
    "company_and_rounds_df['funded_at'] = company_and_rounds_df['funded_at'].fillna(pd.NaT)\n",
    "\n",
    "# Преобразуем тип данных столбцов founded_at и funded_at в datetime64\n",
    "company_and_rounds_df['founded_at'] = pd.to_datetime(company_and_rounds_df['founded_at'], errors='coerce')\n",
    "company_and_rounds_df['funded_at'] = pd.to_datetime(company_and_rounds_df['funded_at'], errors='coerce')\n",
    "\n",
    "\n",
    "# Проверим результат преобразования\n",
    "company_and_rounds_df[['founded_at', 'funded_at']].head(3)\n"
   ]
  },
  {
   "cell_type": "code",
   "execution_count": 17,
   "metadata": {},
   "outputs": [
    {
     "data": {
      "text/plain": [
       "dtype('<M8[ns]')"
      ]
     },
     "execution_count": 17,
     "metadata": {},
     "output_type": "execute_result"
    }
   ],
   "source": [
    "# Проверим тип данных\n",
    "company_and_rounds_df['founded_at'].dtypes\n",
    "company_and_rounds_df['funded_at'].dtypes"
   ]
  },
  {
   "cell_type": "code",
   "execution_count": 18,
   "metadata": {},
   "outputs": [
    {
     "data": {
      "text/plain": [
       "'Первый год инвестирования: 1901-01-01 00:00:00'"
      ]
     },
     "metadata": {},
     "output_type": "display_data"
    },
    {
     "data": {
      "text/plain": [
       "'Последний год инвестирования: 2014-10-01 00:00:00'"
      ]
     },
     "metadata": {},
     "output_type": "display_data"
    },
    {
     "data": {
      "text/plain": [
       "'Первый год финансирования: 1960-01-01 00:00:00'"
      ]
     },
     "metadata": {},
     "output_type": "display_data"
    },
    {
     "data": {
      "text/plain": [
       "'Последний год финансирования: 2013-12-12 00:00:00'"
      ]
     },
     "metadata": {},
     "output_type": "display_data"
    }
   ],
   "source": [
    "# Сделаем дополнительную проверку\n",
    "min_found = company_and_rounds_df['founded_at'].min()\n",
    "max_found = company_and_rounds_df['founded_at'].max()\n",
    "\n",
    "min_fund = company_and_rounds_df['funded_at'].min()\n",
    "max_fund = company_and_rounds_df['funded_at'].max()\n",
    "\n",
    "display(f'Первый год инвестирования: {min_found}')\n",
    "display(f'Последний год инвестирования: {max_found}')\n",
    "\n",
    "display(f'Первый год финансирования: {min_fund}')\n",
    "display(f'Последний год финансирования: {max_fund}')"
   ]
  },
  {
   "cell_type": "markdown",
   "metadata": {},
   "source": [
    "(3) Перед преобразованием посмотрим на уникальные значения `edu_df` в столбец `graduated_at` и попробуем найти причины некорректных типов."
   ]
  },
  {
   "cell_type": "code",
   "execution_count": 19,
   "metadata": {},
   "outputs": [
    {
     "data": {
      "text/plain": [
       "\"Уникальные значения столбца graduated_at: [nan '1990-01-01' '1992-01-01' '2006-01-01' '1988-01-01' '2002-01-01'\\n '1997-01-01' '1989-01-01' '2008-01-01' '1993-01-01' '2007-01-01'\\n '1999-01-01' '2004-01-01' '1996-01-01' '2005-01-01' '1995-01-01'\\n '2000-01-01' '1998-01-01' '2003-01-01' '1994-01-01' '1986-01-01'\\n '1985-01-01' '1975-01-01' '1982-01-01' '1979-01-01' '1980-01-01'\\n '1984-01-01' '2001-01-01' '1976-01-01' '1978-01-01' '1970-01-01'\\n '1983-01-01' '1949-01-01' '1987-01-01' '1991-01-01' '1974-01-01'\\n '1981-01-01' '1977-01-01' '2009-01-01' '1965-01-01' '2011-01-01'\\n '1969-01-01' '1973-01-01' '1924-01-01' '1956-01-01' '1968-01-01'\\n '1967-01-01' '1972-01-01' '2013-01-01' '2010-01-01' '1964-01-01'\\n '1971-01-01' '1966-01-01' '1962-01-01' '1941-01-01' '1921-01-01'\\n '1920-01-01' '1963-01-01' '1961-01-01' '2012-01-01' '1955-01-01'\\n '1960-01-01' '1959-01-01' '1958-01-01' '1957-01-01' '1953-01-01'\\n '1954-01-01' '1929-01-01' '1952-01-01' '2015-01-01' '1933-01-01'\\n '1951-01-01']\""
      ]
     },
     "metadata": {},
     "output_type": "display_data"
    },
    {
     "data": {
      "text/plain": [
       "'Количество уникальных значений: 71'"
      ]
     },
     "metadata": {},
     "output_type": "display_data"
    }
   ],
   "source": [
    "# Выведем уникальные значения\n",
    "grad_u=edu_df['graduated_at'].unique()\n",
    "\n",
    "# Посчитаем количество уникальных значений\n",
    "grad_nu=edu_df['graduated_at'].nunique()\n",
    "\n",
    "display(f'Уникальные значения столбца graduated_at: {grad_u}')\n",
    "display(f'Количество уникальных значений: {grad_nu}')\n"
   ]
  },
  {
   "cell_type": "markdown",
   "metadata": {},
   "source": [
    "Данные могли быть могли быть интерпретированы как строки тип данных `object` при чтении данных или заранее преобразованы для удобства хранения или отображения. Также это может быть связано с тем, что формат дат не соответствует стандартным форматам, которые распознаёт Pandas, библиотека может не суметь автоматически преобразовать данные в тип даты и времени."
   ]
  },
  {
   "cell_type": "code",
   "execution_count": 20,
   "metadata": {},
   "outputs": [
    {
     "data": {
      "text/plain": [
       "0   1969-12-31 23:59:59.999999999\n",
       "1   1990-01-01 00:00:00.000000000\n",
       "2   1992-01-01 00:00:00.000000000\n",
       "3   2006-01-01 00:00:00.000000000\n",
       "4   1969-12-31 23:59:59.999999999\n",
       "Name: graduated_at, dtype: datetime64[ns]"
      ]
     },
     "execution_count": 20,
     "metadata": {},
     "output_type": "execute_result"
    }
   ],
   "source": [
    "# Заменив пропуски на значение-индикатор -1\n",
    "edu_df['graduated_at'] = edu_df['graduated_at'].fillna(-1)\n",
    "\n",
    "# Преобразуем тип данных столбцов founded_at и funded_at в datetime64\n",
    "edu_df['graduated_at'] = pd.to_datetime(edu_df['graduated_at'], errors='coerce')\n",
    "\n",
    "# Проверим результат преобразования\n",
    "edu_df['graduated_at'].head(5)"
   ]
  },
  {
   "cell_type": "markdown",
   "metadata": {},
   "source": [
    "Преобразуем тип данных с числового на тип данных `object` с целью оптимизации памяти и быстрой обработки данных:\n",
    "\n",
    "- (1) датасет `acq_df`: столбцы `id`, `acquiring_company_id`, `acquired_company_id`\n",
    "- (2) датасет `company_and_rounds_df`: столбцы `company_id1`, `funding_round_id`, `company_id`\n",
    "- (3) датасет `people_df`: столбцы `company_id`, `id`\n",
    "- (4) датасет `education`: столбцы `id` и `person_id`"
   ]
  },
  {
   "cell_type": "markdown",
   "metadata": {},
   "source": [
    "(1) Выполним преобразования идентификаторов датасета `acq_df` "
   ]
  },
  {
   "cell_type": "code",
   "execution_count": 21,
   "metadata": {},
   "outputs": [
    {
     "name": "stdout",
     "output_type": "stream",
     "text": [
      "<class 'pandas.core.frame.DataFrame'>\n",
      "RangeIndex: 9407 entries, 0 to 9406\n",
      "Data columns (total 3 columns):\n",
      " #   Column                Non-Null Count  Dtype \n",
      "---  ------                --------------  ----- \n",
      " 0   id                    9407 non-null   object\n",
      " 1   acquiring_company_id  9407 non-null   object\n",
      " 2   acquired_company_id   9407 non-null   object\n",
      "dtypes: object(3)\n",
      "memory usage: 220.6+ KB\n"
     ]
    }
   ],
   "source": [
    "# Преобразуем тип данных в object\n",
    "\n",
    "acq_df['id']=acq_df['id'].astype('object')\n",
    "acq_df['acquiring_company_id']=acq_df['acquiring_company_id'].astype('object')\n",
    "acq_df['acquired_company_id']=acq_df['acquired_company_id'].astype('object')\n",
    "\n",
    "# Преобразуем результат\n",
    "acq_df[['id','acquiring_company_id','acquired_company_id']].info()"
   ]
  },
  {
   "cell_type": "markdown",
   "metadata": {},
   "source": [
    "(2) Выполним преобразования идентификаторов датасета `company_df` "
   ]
  },
  {
   "cell_type": "code",
   "execution_count": 22,
   "metadata": {
    "scrolled": true
   },
   "outputs": [
    {
     "name": "stdout",
     "output_type": "stream",
     "text": [
      "<class 'pandas.core.frame.DataFrame'>\n",
      "RangeIndex: 217774 entries, 0 to 217773\n",
      "Data columns (total 3 columns):\n",
      " #   Column            Non-Null Count   Dtype \n",
      "---  ------            --------------   ----- \n",
      " 0   id                217472 non-null  object\n",
      " 1   funding_round_id  52928 non-null   object\n",
      " 2   company_id        52928 non-null   object\n",
      "dtypes: object(3)\n",
      "memory usage: 5.0+ MB\n"
     ]
    }
   ],
   "source": [
    "# Преобразуем тип данных в object\n",
    "\n",
    "company_and_rounds_df['id']=company_and_rounds_df['id'].astype('object')\n",
    "company_and_rounds_df['funding_round_id']=company_and_rounds_df['funding_round_id'].astype('object')\n",
    "company_and_rounds_df['company_id']=company_and_rounds_df['company_id'].astype('object')\n",
    "\n",
    "# Преобразуем результат\n",
    "company_and_rounds_df[['id','funding_round_id','company_id']].info()"
   ]
  },
  {
   "cell_type": "markdown",
   "metadata": {},
   "source": [
    "(3) Выполним преобразования идентификаторов датасета `people_df` "
   ]
  },
  {
   "cell_type": "code",
   "execution_count": 23,
   "metadata": {},
   "outputs": [
    {
     "name": "stdout",
     "output_type": "stream",
     "text": [
      "<class 'pandas.core.frame.DataFrame'>\n",
      "RangeIndex: 226709 entries, 0 to 226708\n",
      "Data columns (total 2 columns):\n",
      " #   Column      Non-Null Count   Dtype \n",
      "---  ------      --------------   ----- \n",
      " 0   id          226709 non-null  object\n",
      " 1   company_id  34615 non-null   object\n",
      "dtypes: object(2)\n",
      "memory usage: 3.5+ MB\n"
     ]
    }
   ],
   "source": [
    "# Преобразуем тип данных в object\n",
    "\n",
    "people_df['id']=people_df['id'].astype('object')\n",
    "people_df['company_id']=people_df['company_id'].astype('object')\n",
    "\n",
    "\n",
    "# Преобразуем результат\n",
    "people_df[['id','company_id']].info()"
   ]
  },
  {
   "cell_type": "markdown",
   "metadata": {},
   "source": [
    "(4) Выполним преобразования идентификаторов датасета `edu_df` "
   ]
  },
  {
   "cell_type": "code",
   "execution_count": 24,
   "metadata": {},
   "outputs": [
    {
     "name": "stdout",
     "output_type": "stream",
     "text": [
      "<class 'pandas.core.frame.DataFrame'>\n",
      "RangeIndex: 109610 entries, 0 to 109609\n",
      "Data columns (total 2 columns):\n",
      " #   Column     Non-Null Count   Dtype \n",
      "---  ------     --------------   ----- \n",
      " 0   id         109610 non-null  object\n",
      " 1   person_id  109610 non-null  object\n",
      "dtypes: object(2)\n",
      "memory usage: 1.7+ MB\n"
     ]
    }
   ],
   "source": [
    "# Преобразуем тип данных в object\n",
    "\n",
    "edu_df['id']=edu_df['id'].astype('object')\n",
    "edu_df['person_id']=edu_df['person_id'].astype('object')\n",
    "\n",
    "# Преобразуем результат\n",
    "edu_df[['id','person_id']].info()"
   ]
  },
  {
   "cell_type": "markdown",
   "metadata": {},
   "source": [
    "Необходимые преобразования типов данных и нормализация столбцов проведены. Теперь рассмотрим данные на полноту и оценим количество пропусков."
   ]
  },
  {
   "cell_type": "code",
   "execution_count": 25,
   "metadata": {},
   "outputs": [
    {
     "data": {
      "text/plain": [
       "'Количество пропусков в датасете acq_df:'"
      ]
     },
     "metadata": {},
     "output_type": "display_data"
    },
    {
     "data": {
      "text/plain": [
       "id                         0\n",
       "acquiring_company_id       0\n",
       "acquired_company_id        0\n",
       "term_code               7576\n",
       "price_amount               0\n",
       "acquired_at               29\n",
       "dtype: int64"
      ]
     },
     "metadata": {},
     "output_type": "display_data"
    },
    {
     "data": {
      "text/plain": [
       "'Доля пропусков в датасете acq_df:'"
      ]
     },
     "metadata": {},
     "output_type": "display_data"
    },
    {
     "data": {
      "text/plain": [
       "id                       0.000000\n",
       "acquiring_company_id     0.000000\n",
       "acquired_company_id      0.000000\n",
       "term_code               80.535771\n",
       "price_amount             0.000000\n",
       "acquired_at              0.308281\n",
       "dtype: float64"
      ]
     },
     "metadata": {},
     "output_type": "display_data"
    }
   ],
   "source": [
    "display('Количество пропусков в датасете acq_df:')\n",
    "display(acq_df.isna().sum())\n",
    "display('Доля пропусков в датасете acq_df:')\n",
    "display(acq_df.isna().sum() / acq_df.shape[0]*100.0)"
   ]
  },
  {
   "cell_type": "markdown",
   "metadata": {},
   "source": [
    "В датасете обнаружено 7576 пропусков в столбце `term_code` - варианты расчёта, что составляет более 80%. Эти данные не основные для нашего исследования, поэтому оставим пропуски как есть. Также пропущенные значения содержатся в столбце `acquired_at` в количестве 29 (0,3%), что не значительно, их тоже оставим как есть."
   ]
  },
  {
   "cell_type": "code",
   "execution_count": 26,
   "metadata": {},
   "outputs": [
    {
     "data": {
      "text/plain": [
       "'Количество пропусков в датасете company_and_rounds_df:'"
      ]
     },
     "metadata": {},
     "output_type": "display_data"
    },
    {
     "data": {
      "text/plain": [
       "id                        302\n",
       "name                      302\n",
       "category_code           73888\n",
       "status                    302\n",
       "founded_at             107818\n",
       "closed_at              214325\n",
       "domain                  70615\n",
       "network_username       122240\n",
       "country_code           109167\n",
       "investment_rounds         302\n",
       "funding_rounds            302\n",
       "funding_total             302\n",
       "milestones                302\n",
       "funding_round_id       164846\n",
       "company_id             164846\n",
       "funded_at              165094\n",
       "funding_round_type     164846\n",
       "raised_amount          164846\n",
       "pre_money_valuation    164846\n",
       "participants           164846\n",
       "is_first_round         164846\n",
       "is_last_round          164846\n",
       "dtype: int64"
      ]
     },
     "metadata": {},
     "output_type": "display_data"
    },
    {
     "data": {
      "text/plain": [
       "'Доля пропусков в датасете company_and_rounds_df:'"
      ]
     },
     "metadata": {},
     "output_type": "display_data"
    },
    {
     "data": {
      "text/plain": [
       "id                      0.138676\n",
       "name                    0.138676\n",
       "category_code          33.928752\n",
       "status                  0.138676\n",
       "founded_at             49.509124\n",
       "closed_at              98.416248\n",
       "domain                 32.425818\n",
       "network_username       56.131586\n",
       "country_code           50.128574\n",
       "investment_rounds       0.138676\n",
       "funding_rounds          0.138676\n",
       "funding_total           0.138676\n",
       "milestones              0.138676\n",
       "funding_round_id       75.695905\n",
       "company_id             75.695905\n",
       "funded_at              75.809784\n",
       "funding_round_type     75.695905\n",
       "raised_amount          75.695905\n",
       "pre_money_valuation    75.695905\n",
       "participants           75.695905\n",
       "is_first_round         75.695905\n",
       "is_last_round          75.695905\n",
       "dtype: float64"
      ]
     },
     "metadata": {},
     "output_type": "display_data"
    }
   ],
   "source": [
    "display('Количество пропусков в датасете company_and_rounds_df:')\n",
    "display(company_and_rounds_df.isna().sum())\n",
    "display('Доля пропусков в датасете company_and_rounds_df:')\n",
    "display(company_and_rounds_df.isna().sum() / company_and_rounds_df.shape[0]*100.0)"
   ]
  },
  {
   "cell_type": "markdown",
   "metadata": {},
   "source": [
    "Во всех столбцах находятся пропущенные значения.  Разделим их на категории: низкий, средний и высокий процент содержания пропущенных значений. Датасет содержит информацию о компаниях и финансировании. Низкий процент пропусков (до 0.1%) содержат следующие столбцы:\n",
    "- `id`, \n",
    "- `name`, \n",
    "- `status`, \n",
    "- `investment_rounds`, \n",
    "- `funding_rounds`, \n",
    "- `funding_total`, \n",
    "- `milestones`. \n",
    "Эти данные можно считать относительно надёжными для анализа.\n",
    "\n",
    "Средний процент пропусков (от 32% до 56%) в полях `category_code`, `domain`, `country_code`, `network_username`. Здесь может потребоваться дополнительная обработка данных, например, замена пропусков на основании имеющихся данных в датасете или открытых источников.\n",
    "\n",
    "Высокий процент пропусков (более 75%) в полях, связанных с финансированием:\n",
    "- `funding_round_id`,\n",
    "- `company_id`, \n",
    "- `funded_at`, \n",
    "- `funding_round_type`, \n",
    "- `raised_amount`, \n",
    "- `pre_money_valuation`, \n",
    "- `participants`, \n",
    "- `is_first_round`, \n",
    "- `is_last_round`. \n",
    "\n",
    "Анализ данных с таким высоким процентом пропусков может быть затруднительным, так как данные нужны для исследования. С целью заполнения недостающих данных потребуется поиск дополнительной информации.\n",
    "\n",
    "Особое внимание стоит уделить полю `closed_at` с пропуском более 98%, так как это поле может быть критически важным для анализа статуса компаний. Пропуски в данном столбце появились не случайно, а по определенной причине (вероятнее всего относятся к типу MNAR), например, наличие пропусков можно объяснить данными, которых нет в наборе. Если столбец содержит пустую информацию о дате, значит компания действующая. Такие пропуски оставим в датасете как есть.\n",
    "\n",
    "На данном этапе данные оставим как есть, при необходимости при дальнейшем анализе заменим числовые пропущенные значения на среднее либо на основании имеющихся данных датасета."
   ]
  },
  {
   "cell_type": "code",
   "execution_count": 27,
   "metadata": {},
   "outputs": [
    {
     "data": {
      "text/plain": [
       "'Количество пропусков в датасете people_df:'"
      ]
     },
     "metadata": {},
     "output_type": "display_data"
    },
    {
     "data": {
      "text/plain": [
       "id                       0\n",
       "first_name               5\n",
       "last_name                1\n",
       "company_id          192094\n",
       "network_username    187842\n",
       "dtype: int64"
      ]
     },
     "metadata": {},
     "output_type": "display_data"
    },
    {
     "data": {
      "text/plain": [
       "'Доля пропусков в датасете people_df:'"
      ]
     },
     "metadata": {},
     "output_type": "display_data"
    },
    {
     "data": {
      "text/plain": [
       "id                   0.000000\n",
       "first_name           0.002205\n",
       "last_name            0.000441\n",
       "company_id          84.731528\n",
       "network_username    82.855996\n",
       "dtype: float64"
      ]
     },
     "metadata": {},
     "output_type": "display_data"
    }
   ],
   "source": [
    "display('Количество пропусков в датасете people_df:')\n",
    "display(people_df.isna().sum())\n",
    "display('Доля пропусков в датасете people_df:')\n",
    "display(people_df.isna().sum() / people_df.shape[0]*100.0)"
   ]
  },
  {
   "cell_type": "markdown",
   "metadata": {},
   "source": [
    "Проанализировав информацию о пропущенных значениях в датасете people_df, можно сделать следующие выводы:\n",
    "Отсутствуют пропущеные значения в столбце `id`, что делает его надёжным для анализа и использования в качестве идентификатора с уникальными значениями.\n",
    "\n",
    "Очень низкий процент пропусков (0.002% и менее) в полях `first_name` и `last_name`, что говорит о том, что данные в этих столбцах достаточны и могут быть использованы для анализа. Можно предположить, что пропуски связаны с тем, что имя или фамилия о сотруднике была не введена по причине того, например, что одно из полей было необязательно для заполнения или связано с ошибками при вводе данных.\n",
    "\n",
    "Столбцы `company_id` и `network_username` имеют более 82% пропущенных значений. Это может затруднить анализ данных, связанных с компаниями и сетевыми учётными записями. Для дальнейшей работы с ними можно исключить поля из анализа, так как они не являются необходимыми для ислледования."
   ]
  },
  {
   "cell_type": "code",
   "execution_count": 28,
   "metadata": {},
   "outputs": [
    {
     "data": {
      "text/plain": [
       "'Количество пропусков в датасете edu_df:'"
      ]
     },
     "metadata": {},
     "output_type": "display_data"
    },
    {
     "data": {
      "text/plain": [
       "id               0\n",
       "person_id        0\n",
       "instituition    55\n",
       "graduated_at     0\n",
       "dtype: int64"
      ]
     },
     "metadata": {},
     "output_type": "display_data"
    },
    {
     "data": {
      "text/plain": [
       "'Доля пропусков в датасете edu_df:'"
      ]
     },
     "metadata": {},
     "output_type": "display_data"
    },
    {
     "data": {
      "text/plain": [
       "id              0.000000\n",
       "person_id       0.000000\n",
       "instituition    0.050178\n",
       "graduated_at    0.000000\n",
       "dtype: float64"
      ]
     },
     "metadata": {},
     "output_type": "display_data"
    }
   ],
   "source": [
    "display('Количество пропусков в датасете edu_df:')\n",
    "display(edu_df.isna().sum())\n",
    "display('Доля пропусков в датасете edu_df:')\n",
    "display(edu_df.isna().sum() / edu_df.shape[0]*100.0)"
   ]
  },
  {
   "cell_type": "markdown",
   "metadata": {},
   "source": [
    "Отсутсвуют пропуски в столбцах `id` и `person_id`, что позволяет использовать данные столбцы в качестве уникальных идентификаторов для обращения к ним. Также незначительное количество пропусков содержится в столбце `instituition` - менее 5%. Примерно 47% пропущенных значений содержится в столбце `graduated_at`, что может затруднить анализ, связанных с датой окончания учебного заведения. Но в рамках данного исследования такая задача не стоит.\n",
    "\n",
    "Для работы с пропусками в столбце `graduated_at` можно, например, заполнить пропуски наиболее часто встречающимися значениями, но на данном этапе оставим как есть."
   ]
  },
  {
   "cell_type": "markdown",
   "metadata": {},
   "source": [
    "#### Промежуточный вывод"
   ]
  },
  {
   "cell_type": "markdown",
   "metadata": {},
   "source": [
    "Проанализировав информацию о пропущенных значениях можно сделать вывод, что большинство датасетов имеют достаточно высокий процент пропущенных значений, особенно в датасете `company_and_rounds_df`, который содержит информацию о финанисровании, такак одна из задач исследования - изучить какая цена в зависимости от категории стартапов и количества раундов финансирования перед его покупкой."
   ]
  },
  {
   "cell_type": "markdown",
   "metadata": {
    "id": "u60cHsn6rJg1"
   },
   "source": [
    "## 2. Предобработка данных, предварительное исследование"
   ]
  },
  {
   "cell_type": "markdown",
   "metadata": {},
   "source": [
    "Создадим сводную таблицу по годам, в которой на основании столбца `raised_amount` для каждого года указан:\n",
    "\n",
    "- типичный размер средств, выделяемый в рамках одного раунда;\n",
    "- общее количество раундов финансирования за этот год."
   ]
  },
  {
   "cell_type": "code",
   "execution_count": 29,
   "metadata": {},
   "outputs": [
    {
     "data": {
      "text/plain": [
       "0         2005.0\n",
       "1         2007.0\n",
       "2         2008.0\n",
       "3            NaN\n",
       "4            NaN\n",
       "           ...  \n",
       "217769    2011.0\n",
       "217770    2011.0\n",
       "217771    2012.0\n",
       "217772    2013.0\n",
       "217773    2013.0\n",
       "Name: years, Length: 217774, dtype: float64"
      ]
     },
     "metadata": {},
     "output_type": "display_data"
    }
   ],
   "source": [
    "# Преобразуем столбец в формат datetime\n",
    "company_and_rounds_df['funded_at'] = pd.to_datetime(company_and_rounds_df['funded_at'], errors='coerce')\n",
    "\n",
    "# Создадим новый столбец с указанием года на основании данных столбца funded_at\n",
    "company_and_rounds_df['years'] = company_and_rounds_df['funded_at'].dt.year\n",
    "\n",
    "display(company_and_rounds_df['years'])"
   ]
  },
  {
   "cell_type": "code",
   "execution_count": 30,
   "metadata": {
    "id": "Cf5IjfOQrJg1",
    "scrolled": true,
    "vscode": {
     "languageId": "plaintext"
    }
   },
   "outputs": [
    {
     "data": {
      "text/html": [
       "<div>\n",
       "<style scoped>\n",
       "    .dataframe tbody tr th:only-of-type {\n",
       "        vertical-align: middle;\n",
       "    }\n",
       "\n",
       "    .dataframe tbody tr th {\n",
       "        vertical-align: top;\n",
       "    }\n",
       "\n",
       "    .dataframe thead th {\n",
       "        text-align: right;\n",
       "    }\n",
       "</style>\n",
       "<table border=\"1\" class=\"dataframe\">\n",
       "  <thead>\n",
       "    <tr style=\"text-align: right;\">\n",
       "      <th></th>\n",
       "      <th>total_rounds</th>\n",
       "      <th>median_amount</th>\n",
       "    </tr>\n",
       "    <tr>\n",
       "      <th>years</th>\n",
       "      <th></th>\n",
       "      <th></th>\n",
       "    </tr>\n",
       "  </thead>\n",
       "  <tbody>\n",
       "    <tr>\n",
       "      <th>1960.0</th>\n",
       "      <td>9</td>\n",
       "      <td>0.0</td>\n",
       "    </tr>\n",
       "    <tr>\n",
       "      <th>1973.0</th>\n",
       "      <td>1</td>\n",
       "      <td>0.0</td>\n",
       "    </tr>\n",
       "    <tr>\n",
       "      <th>1974.0</th>\n",
       "      <td>2</td>\n",
       "      <td>0.0</td>\n",
       "    </tr>\n",
       "    <tr>\n",
       "      <th>1984.0</th>\n",
       "      <td>3</td>\n",
       "      <td>41000.0</td>\n",
       "    </tr>\n",
       "    <tr>\n",
       "      <th>1985.0</th>\n",
       "      <td>1</td>\n",
       "      <td>0.0</td>\n",
       "    </tr>\n",
       "    <tr>\n",
       "      <th>1987.0</th>\n",
       "      <td>2</td>\n",
       "      <td>1250000.0</td>\n",
       "    </tr>\n",
       "    <tr>\n",
       "      <th>1989.0</th>\n",
       "      <td>1</td>\n",
       "      <td>15000.0</td>\n",
       "    </tr>\n",
       "    <tr>\n",
       "      <th>1990.0</th>\n",
       "      <td>1</td>\n",
       "      <td>1000000.0</td>\n",
       "    </tr>\n",
       "    <tr>\n",
       "      <th>1992.0</th>\n",
       "      <td>1</td>\n",
       "      <td>2000000.0</td>\n",
       "    </tr>\n",
       "    <tr>\n",
       "      <th>1993.0</th>\n",
       "      <td>2</td>\n",
       "      <td>62500.0</td>\n",
       "    </tr>\n",
       "    <tr>\n",
       "      <th>1994.0</th>\n",
       "      <td>2</td>\n",
       "      <td>6700000.0</td>\n",
       "    </tr>\n",
       "    <tr>\n",
       "      <th>1995.0</th>\n",
       "      <td>7</td>\n",
       "      <td>2000000.0</td>\n",
       "    </tr>\n",
       "    <tr>\n",
       "      <th>1996.0</th>\n",
       "      <td>7</td>\n",
       "      <td>12500.0</td>\n",
       "    </tr>\n",
       "    <tr>\n",
       "      <th>1997.0</th>\n",
       "      <td>9</td>\n",
       "      <td>3300000.0</td>\n",
       "    </tr>\n",
       "    <tr>\n",
       "      <th>1998.0</th>\n",
       "      <td>29</td>\n",
       "      <td>100000.0</td>\n",
       "    </tr>\n",
       "    <tr>\n",
       "      <th>1999.0</th>\n",
       "      <td>76</td>\n",
       "      <td>2000000.0</td>\n",
       "    </tr>\n",
       "    <tr>\n",
       "      <th>2000.0</th>\n",
       "      <td>125</td>\n",
       "      <td>4200000.0</td>\n",
       "    </tr>\n",
       "    <tr>\n",
       "      <th>2001.0</th>\n",
       "      <td>96</td>\n",
       "      <td>3000000.0</td>\n",
       "    </tr>\n",
       "    <tr>\n",
       "      <th>2002.0</th>\n",
       "      <td>116</td>\n",
       "      <td>4200000.0</td>\n",
       "    </tr>\n",
       "    <tr>\n",
       "      <th>2003.0</th>\n",
       "      <td>159</td>\n",
       "      <td>3000000.0</td>\n",
       "    </tr>\n",
       "    <tr>\n",
       "      <th>2004.0</th>\n",
       "      <td>291</td>\n",
       "      <td>5000000.0</td>\n",
       "    </tr>\n",
       "    <tr>\n",
       "      <th>2005.0</th>\n",
       "      <td>1633</td>\n",
       "      <td>5500000.0</td>\n",
       "    </tr>\n",
       "    <tr>\n",
       "      <th>2006.0</th>\n",
       "      <td>2436</td>\n",
       "      <td>5000000.0</td>\n",
       "    </tr>\n",
       "    <tr>\n",
       "      <th>2007.0</th>\n",
       "      <td>3279</td>\n",
       "      <td>3973320.0</td>\n",
       "    </tr>\n",
       "    <tr>\n",
       "      <th>2008.0</th>\n",
       "      <td>3774</td>\n",
       "      <td>3110000.0</td>\n",
       "    </tr>\n",
       "    <tr>\n",
       "      <th>2009.0</th>\n",
       "      <td>4151</td>\n",
       "      <td>2000000.0</td>\n",
       "    </tr>\n",
       "    <tr>\n",
       "      <th>2010.0</th>\n",
       "      <td>6221</td>\n",
       "      <td>1602500.0</td>\n",
       "    </tr>\n",
       "    <tr>\n",
       "      <th>2011.0</th>\n",
       "      <td>9204</td>\n",
       "      <td>1200000.0</td>\n",
       "    </tr>\n",
       "    <tr>\n",
       "      <th>2012.0</th>\n",
       "      <td>9970</td>\n",
       "      <td>1000000.0</td>\n",
       "    </tr>\n",
       "    <tr>\n",
       "      <th>2013.0</th>\n",
       "      <td>11072</td>\n",
       "      <td>1200000.0</td>\n",
       "    </tr>\n",
       "  </tbody>\n",
       "</table>\n",
       "</div>"
      ],
      "text/plain": [
       "        total_rounds  median_amount\n",
       "years                              \n",
       "1960.0             9            0.0\n",
       "1973.0             1            0.0\n",
       "1974.0             2            0.0\n",
       "1984.0             3        41000.0\n",
       "1985.0             1            0.0\n",
       "1987.0             2      1250000.0\n",
       "1989.0             1        15000.0\n",
       "1990.0             1      1000000.0\n",
       "1992.0             1      2000000.0\n",
       "1993.0             2        62500.0\n",
       "1994.0             2      6700000.0\n",
       "1995.0             7      2000000.0\n",
       "1996.0             7        12500.0\n",
       "1997.0             9      3300000.0\n",
       "1998.0            29       100000.0\n",
       "1999.0            76      2000000.0\n",
       "2000.0           125      4200000.0\n",
       "2001.0            96      3000000.0\n",
       "2002.0           116      4200000.0\n",
       "2003.0           159      3000000.0\n",
       "2004.0           291      5000000.0\n",
       "2005.0          1633      5500000.0\n",
       "2006.0          2436      5000000.0\n",
       "2007.0          3279      3973320.0\n",
       "2008.0          3774      3110000.0\n",
       "2009.0          4151      2000000.0\n",
       "2010.0          6221      1602500.0\n",
       "2011.0          9204      1200000.0\n",
       "2012.0          9970      1000000.0\n",
       "2013.0         11072      1200000.0"
      ]
     },
     "metadata": {},
     "output_type": "display_data"
    }
   ],
   "source": [
    "# Создаём сводную таблицу\n",
    "pivot_table = pd.pivot_table(company_and_rounds_df, \n",
    "                             values='raised_amount', index='years',\n",
    "                             aggfunc={'raised_amount': [pd.Series.median, 'count']})\n",
    "# Переименнуем столбцы\n",
    "pivot_table = pivot_table.rename(columns={'count': 'total_rounds', 'median': 'median_amount'})\n",
    "\n",
    "display(pivot_table)\n"
   ]
  },
  {
   "cell_type": "code",
   "execution_count": 31,
   "metadata": {
    "id": "8Fbz6KmzFdYP",
    "scrolled": true
   },
   "outputs": [
    {
     "data": {
      "text/html": [
       "<div>\n",
       "<style scoped>\n",
       "    .dataframe tbody tr th:only-of-type {\n",
       "        vertical-align: middle;\n",
       "    }\n",
       "\n",
       "    .dataframe tbody tr th {\n",
       "        vertical-align: top;\n",
       "    }\n",
       "\n",
       "    .dataframe thead th {\n",
       "        text-align: right;\n",
       "    }\n",
       "</style>\n",
       "<table border=\"1\" class=\"dataframe\">\n",
       "  <thead>\n",
       "    <tr style=\"text-align: right;\">\n",
       "      <th></th>\n",
       "      <th>total_rounds</th>\n",
       "      <th>median_amount</th>\n",
       "    </tr>\n",
       "    <tr>\n",
       "      <th>years</th>\n",
       "      <th></th>\n",
       "      <th></th>\n",
       "    </tr>\n",
       "  </thead>\n",
       "  <tbody>\n",
       "    <tr>\n",
       "      <th>1960.0</th>\n",
       "      <td>9</td>\n",
       "      <td>0.0</td>\n",
       "    </tr>\n",
       "    <tr>\n",
       "      <th>1973.0</th>\n",
       "      <td>1</td>\n",
       "      <td>0.0</td>\n",
       "    </tr>\n",
       "    <tr>\n",
       "      <th>1974.0</th>\n",
       "      <td>2</td>\n",
       "      <td>0.0</td>\n",
       "    </tr>\n",
       "    <tr>\n",
       "      <th>1984.0</th>\n",
       "      <td>3</td>\n",
       "      <td>41000.0</td>\n",
       "    </tr>\n",
       "    <tr>\n",
       "      <th>1985.0</th>\n",
       "      <td>1</td>\n",
       "      <td>0.0</td>\n",
       "    </tr>\n",
       "    <tr>\n",
       "      <th>1987.0</th>\n",
       "      <td>2</td>\n",
       "      <td>1250000.0</td>\n",
       "    </tr>\n",
       "    <tr>\n",
       "      <th>1989.0</th>\n",
       "      <td>1</td>\n",
       "      <td>15000.0</td>\n",
       "    </tr>\n",
       "    <tr>\n",
       "      <th>1990.0</th>\n",
       "      <td>1</td>\n",
       "      <td>1000000.0</td>\n",
       "    </tr>\n",
       "    <tr>\n",
       "      <th>1992.0</th>\n",
       "      <td>1</td>\n",
       "      <td>2000000.0</td>\n",
       "    </tr>\n",
       "    <tr>\n",
       "      <th>1993.0</th>\n",
       "      <td>2</td>\n",
       "      <td>62500.0</td>\n",
       "    </tr>\n",
       "    <tr>\n",
       "      <th>1994.0</th>\n",
       "      <td>2</td>\n",
       "      <td>6700000.0</td>\n",
       "    </tr>\n",
       "    <tr>\n",
       "      <th>1995.0</th>\n",
       "      <td>7</td>\n",
       "      <td>2000000.0</td>\n",
       "    </tr>\n",
       "    <tr>\n",
       "      <th>1996.0</th>\n",
       "      <td>7</td>\n",
       "      <td>12500.0</td>\n",
       "    </tr>\n",
       "    <tr>\n",
       "      <th>1997.0</th>\n",
       "      <td>9</td>\n",
       "      <td>3300000.0</td>\n",
       "    </tr>\n",
       "    <tr>\n",
       "      <th>1998.0</th>\n",
       "      <td>29</td>\n",
       "      <td>100000.0</td>\n",
       "    </tr>\n",
       "    <tr>\n",
       "      <th>1999.0</th>\n",
       "      <td>76</td>\n",
       "      <td>2000000.0</td>\n",
       "    </tr>\n",
       "    <tr>\n",
       "      <th>2000.0</th>\n",
       "      <td>125</td>\n",
       "      <td>4200000.0</td>\n",
       "    </tr>\n",
       "    <tr>\n",
       "      <th>2001.0</th>\n",
       "      <td>96</td>\n",
       "      <td>3000000.0</td>\n",
       "    </tr>\n",
       "    <tr>\n",
       "      <th>2002.0</th>\n",
       "      <td>116</td>\n",
       "      <td>4200000.0</td>\n",
       "    </tr>\n",
       "    <tr>\n",
       "      <th>2003.0</th>\n",
       "      <td>159</td>\n",
       "      <td>3000000.0</td>\n",
       "    </tr>\n",
       "    <tr>\n",
       "      <th>2004.0</th>\n",
       "      <td>291</td>\n",
       "      <td>5000000.0</td>\n",
       "    </tr>\n",
       "    <tr>\n",
       "      <th>2005.0</th>\n",
       "      <td>1633</td>\n",
       "      <td>5500000.0</td>\n",
       "    </tr>\n",
       "    <tr>\n",
       "      <th>2006.0</th>\n",
       "      <td>2436</td>\n",
       "      <td>5000000.0</td>\n",
       "    </tr>\n",
       "    <tr>\n",
       "      <th>2007.0</th>\n",
       "      <td>3279</td>\n",
       "      <td>3973320.0</td>\n",
       "    </tr>\n",
       "    <tr>\n",
       "      <th>2008.0</th>\n",
       "      <td>3774</td>\n",
       "      <td>3110000.0</td>\n",
       "    </tr>\n",
       "    <tr>\n",
       "      <th>2009.0</th>\n",
       "      <td>4151</td>\n",
       "      <td>2000000.0</td>\n",
       "    </tr>\n",
       "    <tr>\n",
       "      <th>2010.0</th>\n",
       "      <td>6221</td>\n",
       "      <td>1602500.0</td>\n",
       "    </tr>\n",
       "    <tr>\n",
       "      <th>2011.0</th>\n",
       "      <td>9204</td>\n",
       "      <td>1200000.0</td>\n",
       "    </tr>\n",
       "    <tr>\n",
       "      <th>2012.0</th>\n",
       "      <td>9970</td>\n",
       "      <td>1000000.0</td>\n",
       "    </tr>\n",
       "    <tr>\n",
       "      <th>2013.0</th>\n",
       "      <td>11072</td>\n",
       "      <td>1200000.0</td>\n",
       "    </tr>\n",
       "  </tbody>\n",
       "</table>\n",
       "</div>"
      ],
      "text/plain": [
       "        total_rounds  median_amount\n",
       "years                              \n",
       "1960.0             9            0.0\n",
       "1973.0             1            0.0\n",
       "1974.0             2            0.0\n",
       "1984.0             3        41000.0\n",
       "1985.0             1            0.0\n",
       "1987.0             2      1250000.0\n",
       "1989.0             1        15000.0\n",
       "1990.0             1      1000000.0\n",
       "1992.0             1      2000000.0\n",
       "1993.0             2        62500.0\n",
       "1994.0             2      6700000.0\n",
       "1995.0             7      2000000.0\n",
       "1996.0             7        12500.0\n",
       "1997.0             9      3300000.0\n",
       "1998.0            29       100000.0\n",
       "1999.0            76      2000000.0\n",
       "2000.0           125      4200000.0\n",
       "2001.0            96      3000000.0\n",
       "2002.0           116      4200000.0\n",
       "2003.0           159      3000000.0\n",
       "2004.0           291      5000000.0\n",
       "2005.0          1633      5500000.0\n",
       "2006.0          2436      5000000.0\n",
       "2007.0          3279      3973320.0\n",
       "2008.0          3774      3110000.0\n",
       "2009.0          4151      2000000.0\n",
       "2010.0          6221      1602500.0\n",
       "2011.0          9204      1200000.0\n",
       "2012.0          9970      1000000.0\n",
       "2013.0         11072      1200000.0"
      ]
     },
     "metadata": {},
     "output_type": "display_data"
    }
   ],
   "source": [
    "# Оставляем информацию только для тех лет, где количество раундов больше 50\n",
    "pivot_table_actual_years = pivot_table[pivot_table['total_rounds'] > 50]\n",
    "\n",
    "display(pivot_table)"
   ]
  },
  {
   "cell_type": "markdown",
   "metadata": {},
   "source": [
    "Построим график, который будет отражать динамику типичного размера средств, которые стартапы получали в рамках одного раунда финансирования."
   ]
  },
  {
   "cell_type": "code",
   "execution_count": 32,
   "metadata": {},
   "outputs": [
    {
     "data": {
      "image/png": "[encoded data removed]",
      "text/plain": [
       "<Figure size 1152x576 with 2 Axes>"
      ]
     },
     "metadata": {
      "needs_background": "light"
     },
     "output_type": "display_data"
    }
   ],
   "source": [
    "# Строим линейный график\n",
    "pivot_table_actual_years.plot(kind='line',\n",
    "                 y='median_amount', \n",
    "                 figsize=(16, 8),\n",
    "                color='#5CB8D1',\n",
    "                marker='o')\n",
    "\n",
    "# Подписываем и отображаем график   \n",
    "plt.title('Динамика финансирования и количество раундов по годам')\n",
    "plt.xlabel('Годы')\n",
    "plt.ylabel('Сумма и количество')\n",
    "plt.grid(True)\n",
    "\n",
    "ax2 = plt.twinx()\n",
    "ax2.plot(\n",
    "    pivot_table_actual_years.index,\n",
    "    pivot_table_actual_years['total_rounds'],\n",
    "    marker='x',\n",
    "    color='#005F73'\n",
    ")\n",
    "ax2.set_ylabel('Количество раундов')\n",
    "\n",
    "plt.show()"
   ]
  },
  {
   "cell_type": "markdown",
   "metadata": {},
   "source": [
    "Как показывает график, максимальное значение типичного размера собранных средств в рамка одного раунда был выявлен в 2005 году, далее это значения ниспадает и только в 2013 году заметно тенденция на увеличение."
   ]
  },
  {
   "cell_type": "markdown",
   "metadata": {},
   "source": [
    "В 2013 году количество раундов и размер средств финансирования увеличивалось, наблюдается динамика на рост интереса к инвестициям."
   ]
  },
  {
   "cell_type": "markdown",
   "metadata": {
    "id": "45if1en1rJg2"
   },
   "source": [
    "\n",
    "### 2.2. Люди и их образование\n",
    "\n",
    "Заказчик хочет понять, зависит ли полнота сведений о сотрудниках (например, об их образовании) от размера компаний. Оценим, насколько информация об образовании сотрудников полна. Используя датасеты `people.csv` и `education.csv`, разделите все компании на несколько групп по количеству сотрудников и оценим среднюю долю сотрудников без информации об образовании в каждой из групп."
   ]
  },
  {
   "cell_type": "code",
   "execution_count": 33,
   "metadata": {
    "id": "psPO7C4MrJg2",
    "vscode": {
     "languageId": "plaintext"
    }
   },
   "outputs": [
    {
     "data": {
      "text/html": [
       "<div>\n",
       "<style scoped>\n",
       "    .dataframe tbody tr th:only-of-type {\n",
       "        vertical-align: middle;\n",
       "    }\n",
       "\n",
       "    .dataframe tbody tr th {\n",
       "        vertical-align: top;\n",
       "    }\n",
       "\n",
       "    .dataframe thead th {\n",
       "        text-align: right;\n",
       "    }\n",
       "</style>\n",
       "<table border=\"1\" class=\"dataframe\">\n",
       "  <thead>\n",
       "    <tr style=\"text-align: right;\">\n",
       "      <th></th>\n",
       "      <th>id</th>\n",
       "      <th>first_name</th>\n",
       "      <th>last_name</th>\n",
       "      <th>company_id</th>\n",
       "      <th>network_username</th>\n",
       "    </tr>\n",
       "  </thead>\n",
       "  <tbody>\n",
       "    <tr>\n",
       "      <th>0</th>\n",
       "      <td>10</td>\n",
       "      <td>Mark</td>\n",
       "      <td>Zuckerberg</td>\n",
       "      <td>5.0</td>\n",
       "      <td>NaN</td>\n",
       "    </tr>\n",
       "    <tr>\n",
       "      <th>1</th>\n",
       "      <td>100</td>\n",
       "      <td>Peter</td>\n",
       "      <td>Lester</td>\n",
       "      <td>27.0</td>\n",
       "      <td>NaN</td>\n",
       "    </tr>\n",
       "    <tr>\n",
       "      <th>2</th>\n",
       "      <td>1000</td>\n",
       "      <td>Dr. Steven</td>\n",
       "      <td>E. Saunders</td>\n",
       "      <td>292.0</td>\n",
       "      <td>NaN</td>\n",
       "    </tr>\n",
       "    <tr>\n",
       "      <th>3</th>\n",
       "      <td>10000</td>\n",
       "      <td>Neil</td>\n",
       "      <td>Capel</td>\n",
       "      <td>2526.0</td>\n",
       "      <td>NaN</td>\n",
       "    </tr>\n",
       "    <tr>\n",
       "      <th>4</th>\n",
       "      <td>100000</td>\n",
       "      <td>Sue</td>\n",
       "      <td>Pilsch</td>\n",
       "      <td>NaN</td>\n",
       "      <td>NaN</td>\n",
       "    </tr>\n",
       "  </tbody>\n",
       "</table>\n",
       "</div>"
      ],
      "text/plain": [
       "       id  first_name    last_name company_id network_username\n",
       "0      10        Mark   Zuckerberg        5.0              NaN\n",
       "1     100       Peter       Lester       27.0              NaN\n",
       "2    1000  Dr. Steven  E. Saunders      292.0              NaN\n",
       "3   10000        Neil        Capel     2526.0              NaN\n",
       "4  100000         Sue       Pilsch        NaN              NaN"
      ]
     },
     "execution_count": 33,
     "metadata": {},
     "output_type": "execute_result"
    }
   ],
   "source": [
    "# Посмотрим на данные (количество сторок 226709)\n",
    "people_df.head()"
   ]
  },
  {
   "cell_type": "code",
   "execution_count": 34,
   "metadata": {
    "id": "BThTjpLqFcsm"
   },
   "outputs": [
    {
     "data": {
      "text/html": [
       "<div>\n",
       "<style scoped>\n",
       "    .dataframe tbody tr th:only-of-type {\n",
       "        vertical-align: middle;\n",
       "    }\n",
       "\n",
       "    .dataframe tbody tr th {\n",
       "        vertical-align: top;\n",
       "    }\n",
       "\n",
       "    .dataframe thead th {\n",
       "        text-align: right;\n",
       "    }\n",
       "</style>\n",
       "<table border=\"1\" class=\"dataframe\">\n",
       "  <thead>\n",
       "    <tr style=\"text-align: right;\">\n",
       "      <th></th>\n",
       "      <th>id</th>\n",
       "      <th>person_id</th>\n",
       "      <th>instituition</th>\n",
       "      <th>graduated_at</th>\n",
       "    </tr>\n",
       "  </thead>\n",
       "  <tbody>\n",
       "    <tr>\n",
       "      <th>0</th>\n",
       "      <td>1</td>\n",
       "      <td>6117</td>\n",
       "      <td>NaN</td>\n",
       "      <td>1969-12-31 23:59:59.999999999</td>\n",
       "    </tr>\n",
       "    <tr>\n",
       "      <th>1</th>\n",
       "      <td>2</td>\n",
       "      <td>6136</td>\n",
       "      <td>Washington University, St. Louis</td>\n",
       "      <td>1990-01-01 00:00:00.000000000</td>\n",
       "    </tr>\n",
       "    <tr>\n",
       "      <th>2</th>\n",
       "      <td>3</td>\n",
       "      <td>6136</td>\n",
       "      <td>Boston University</td>\n",
       "      <td>1992-01-01 00:00:00.000000000</td>\n",
       "    </tr>\n",
       "    <tr>\n",
       "      <th>3</th>\n",
       "      <td>4</td>\n",
       "      <td>6005</td>\n",
       "      <td>University of Greenwich</td>\n",
       "      <td>2006-01-01 00:00:00.000000000</td>\n",
       "    </tr>\n",
       "    <tr>\n",
       "      <th>4</th>\n",
       "      <td>5</td>\n",
       "      <td>5832</td>\n",
       "      <td>Rice University</td>\n",
       "      <td>1969-12-31 23:59:59.999999999</td>\n",
       "    </tr>\n",
       "  </tbody>\n",
       "</table>\n",
       "</div>"
      ],
      "text/plain": [
       "  id person_id                      instituition                  graduated_at\n",
       "0  1      6117                               NaN 1969-12-31 23:59:59.999999999\n",
       "1  2      6136  Washington University, St. Louis 1990-01-01 00:00:00.000000000\n",
       "2  3      6136                 Boston University 1992-01-01 00:00:00.000000000\n",
       "3  4      6005           University of Greenwich 2006-01-01 00:00:00.000000000\n",
       "4  5      5832                   Rice University 1969-12-31 23:59:59.999999999"
      ]
     },
     "execution_count": 34,
     "metadata": {},
     "output_type": "execute_result"
    }
   ],
   "source": [
    "# Посмотрим на данные (количество сторок 109610)\n",
    "edu_df.head()"
   ]
  },
  {
   "cell_type": "markdown",
   "metadata": {
    "id": "4FC98Pd-FcmG"
   },
   "source": [
    "(1)Разделим все компании на несколько групп по количеству сотрудников."
   ]
  },
  {
   "cell_type": "code",
   "execution_count": 35,
   "metadata": {},
   "outputs": [],
   "source": [
    "# Посчитаем общее количество сотрудников для каждой компании\n",
    "people_df['company_size'] = people_df['company_id'].value_counts()"
   ]
  },
  {
   "cell_type": "code",
   "execution_count": 36,
   "metadata": {},
   "outputs": [
    {
     "data": {
      "text/plain": [
       "'Статистические показатели столбца company_size:'"
      ]
     },
     "metadata": {},
     "output_type": "display_data"
    },
    {
     "data": {
      "text/plain": [
       "count    20405.000000\n",
       "mean         1.548689\n",
       "std          2.870693\n",
       "min          1.000000\n",
       "25%          1.000000\n",
       "50%          1.000000\n",
       "75%          1.000000\n",
       "max        244.000000\n",
       "Name: company_size, dtype: float64"
      ]
     },
     "execution_count": 36,
     "metadata": {},
     "output_type": "execute_result"
    }
   ],
   "source": [
    "# Посмотри на распределение данных\n",
    "display('Статистические показатели столбца company_size:')\n",
    "people_df['company_size'].describe()"
   ]
  },
  {
   "cell_type": "markdown",
   "metadata": {},
   "source": [
    "Исходя из среднего и максимального значения по количеству сотрудников, можно сделать вывод, что данные распределены неравномрено, наиболее количество значений содержится ближе к минимальному значению."
   ]
  },
  {
   "cell_type": "code",
   "execution_count": 37,
   "metadata": {},
   "outputs": [
    {
     "data": {
      "text/plain": [
       "0              NaN\n",
       "1    small bisness\n",
       "2    micro bisness\n",
       "3    small bisness\n",
       "4    large bisness\n",
       "Name: company_group, dtype: category\n",
       "Categories (4, object): ['micro bisness' < 'small bisness' < 'medium bisness' < 'large bisness']"
      ]
     },
     "metadata": {},
     "output_type": "display_data"
    }
   ],
   "source": [
    "# Разбиваем на категории с помощью pd.cut\n",
    "people_df['company_group'] = pd.cut(people_df['company_size'], bins=[0, 1, 4, 8, float('inf')], labels=['micro bisness', 'small bisness','medium bisness', 'large bisness'])\n",
    "\n",
    "display(people_df['company_group'].head())"
   ]
  },
  {
   "cell_type": "markdown",
   "metadata": {},
   "source": [
    "Посмотрим распределение значений на диаграмме."
   ]
  },
  {
   "cell_type": "code",
   "execution_count": 38,
   "metadata": {},
   "outputs": [
    {
     "data": {
      "image/png": "[encoded data removed]",
      "text/plain": [
       "<Figure size 720x360 with 1 Axes>"
      ]
     },
     "metadata": {
      "needs_background": "light"
     },
     "output_type": "display_data"
    }
   ],
   "source": [
    "# Задаем размер графика\n",
    "plt.figure(figsize=(10,5))\n",
    "\n",
    "# Построим столбчатую диаграмму\n",
    "people_df['company_group'].value_counts().plot(kind='bar',\n",
    "                                               rot=0, \n",
    "                                               legend=False,\n",
    "                                               color='#87D0E6',\n",
    "                                               title=f'Количество сотрудников в компании с разделением на категории'\n",
    ")\n",
    "\n",
    "# Настраиваем оформление графика\n",
    "plt.xlabel('Размер компании')\n",
    "plt.ylabel('Количество сотрудников')\n",
    "\n",
    "# Выводим график\n",
    "plt.show()"
   ]
  },
  {
   "cell_type": "markdown",
   "metadata": {},
   "source": [
    "Такое разделение позволяет: \n",
    "\n",
    "- Выделить группы с небольшим количеством сотрудников, где различия в размере компаний могут быть значимыми. \n",
    "- Учесть наличие значительного числа компаний с очень малым количеством сотрудников (что подтверждается средним значением). \n",
    "- Обеспечить достаточно широкие группы для средних и больших компаний, чтобы учесть разнообразие их размеров."
   ]
  },
  {
   "cell_type": "markdown",
   "metadata": {},
   "source": [
    "Оценим среднюю долю сотрудников без информации об образовании в каждой из групп."
   ]
  },
  {
   "cell_type": "code",
   "execution_count": 39,
   "metadata": {},
   "outputs": [
    {
     "data": {
      "text/html": [
       "<div>\n",
       "<style scoped>\n",
       "    .dataframe tbody tr th:only-of-type {\n",
       "        vertical-align: middle;\n",
       "    }\n",
       "\n",
       "    .dataframe tbody tr th {\n",
       "        vertical-align: top;\n",
       "    }\n",
       "\n",
       "    .dataframe thead th {\n",
       "        text-align: right;\n",
       "    }\n",
       "</style>\n",
       "<table border=\"1\" class=\"dataframe\">\n",
       "  <thead>\n",
       "    <tr style=\"text-align: right;\">\n",
       "      <th></th>\n",
       "      <th>id_x</th>\n",
       "      <th>first_name</th>\n",
       "      <th>last_name</th>\n",
       "      <th>company_id</th>\n",
       "      <th>network_username</th>\n",
       "      <th>company_size</th>\n",
       "      <th>company_group</th>\n",
       "      <th>id_y</th>\n",
       "      <th>person_id</th>\n",
       "      <th>instituition</th>\n",
       "      <th>graduated_at</th>\n",
       "    </tr>\n",
       "  </thead>\n",
       "  <tbody>\n",
       "    <tr>\n",
       "      <th>0</th>\n",
       "      <td>10</td>\n",
       "      <td>Mark</td>\n",
       "      <td>Zuckerberg</td>\n",
       "      <td>5.0</td>\n",
       "      <td>NaN</td>\n",
       "      <td>NaN</td>\n",
       "      <td>NaN</td>\n",
       "      <td>2415</td>\n",
       "      <td>10</td>\n",
       "      <td>Harvard University</td>\n",
       "      <td>1969-12-31 23:59:59.999999999</td>\n",
       "    </tr>\n",
       "    <tr>\n",
       "      <th>1</th>\n",
       "      <td>100</td>\n",
       "      <td>Peter</td>\n",
       "      <td>Lester</td>\n",
       "      <td>27.0</td>\n",
       "      <td>NaN</td>\n",
       "      <td>2.0</td>\n",
       "      <td>small bisness</td>\n",
       "      <td>NaN</td>\n",
       "      <td>NaN</td>\n",
       "      <td>NaN</td>\n",
       "      <td>NaT</td>\n",
       "    </tr>\n",
       "    <tr>\n",
       "      <th>2</th>\n",
       "      <td>1000</td>\n",
       "      <td>Dr. Steven</td>\n",
       "      <td>E. Saunders</td>\n",
       "      <td>292.0</td>\n",
       "      <td>NaN</td>\n",
       "      <td>1.0</td>\n",
       "      <td>micro bisness</td>\n",
       "      <td>NaN</td>\n",
       "      <td>NaN</td>\n",
       "      <td>NaN</td>\n",
       "      <td>NaT</td>\n",
       "    </tr>\n",
       "    <tr>\n",
       "      <th>3</th>\n",
       "      <td>10000</td>\n",
       "      <td>Neil</td>\n",
       "      <td>Capel</td>\n",
       "      <td>2526.0</td>\n",
       "      <td>NaN</td>\n",
       "      <td>3.0</td>\n",
       "      <td>small bisness</td>\n",
       "      <td>NaN</td>\n",
       "      <td>NaN</td>\n",
       "      <td>NaN</td>\n",
       "      <td>NaT</td>\n",
       "    </tr>\n",
       "    <tr>\n",
       "      <th>4</th>\n",
       "      <td>100000</td>\n",
       "      <td>Sue</td>\n",
       "      <td>Pilsch</td>\n",
       "      <td>NaN</td>\n",
       "      <td>NaN</td>\n",
       "      <td>13.0</td>\n",
       "      <td>large bisness</td>\n",
       "      <td>NaN</td>\n",
       "      <td>NaN</td>\n",
       "      <td>NaN</td>\n",
       "      <td>NaT</td>\n",
       "    </tr>\n",
       "  </tbody>\n",
       "</table>\n",
       "</div>"
      ],
      "text/plain": [
       "     id_x  first_name    last_name company_id network_username  company_size  \\\n",
       "0      10        Mark   Zuckerberg        5.0              NaN           NaN   \n",
       "1     100       Peter       Lester       27.0              NaN           2.0   \n",
       "2    1000  Dr. Steven  E. Saunders      292.0              NaN           1.0   \n",
       "3   10000        Neil        Capel     2526.0              NaN           3.0   \n",
       "4  100000         Sue       Pilsch        NaN              NaN          13.0   \n",
       "\n",
       "   company_group  id_y person_id        instituition  \\\n",
       "0            NaN  2415        10  Harvard University   \n",
       "1  small bisness   NaN       NaN                 NaN   \n",
       "2  micro bisness   NaN       NaN                 NaN   \n",
       "3  small bisness   NaN       NaN                 NaN   \n",
       "4  large bisness   NaN       NaN                 NaN   \n",
       "\n",
       "                   graduated_at  \n",
       "0 1969-12-31 23:59:59.999999999  \n",
       "1                           NaT  \n",
       "2                           NaT  \n",
       "3                           NaT  \n",
       "4                           NaT  "
      ]
     },
     "metadata": {},
     "output_type": "display_data"
    }
   ],
   "source": [
    "# Объединим датасеты peolpe_df и edu_df\n",
    "employee_df = people_df.merge(edu_df, left_on='id', right_on='person_id', how='left')\n",
    "\n",
    "display(employee_df.head())\n"
   ]
  },
  {
   "cell_type": "markdown",
   "metadata": {},
   "source": [
    "Для начала с помощью датасета `edu_df` создадим столбец, на основании данных столбца `instituition`, который будет содержать информацию с значениями 0 и 1, где 0 - нет информации об образовании, 1 - информация об образовании имеется."
   ]
  },
  {
   "cell_type": "code",
   "execution_count": 40,
   "metadata": {
    "scrolled": true
   },
   "outputs": [
    {
     "data": {
      "text/plain": [
       "0         1\n",
       "1         0\n",
       "2         0\n",
       "3         0\n",
       "4         0\n",
       "         ..\n",
       "267689    0\n",
       "267690    1\n",
       "267691    1\n",
       "267692    0\n",
       "267693    0\n",
       "Name: info_education, Length: 267694, dtype: int64"
      ]
     },
     "metadata": {},
     "output_type": "display_data"
    }
   ],
   "source": [
    "# Cоздадим новый столбец, который будет содержать информацию с значениями 0 и 1\n",
    "employee_df['info_education'] = employee_df['instituition'].notnull().astype(int)\n",
    "\n",
    "display(employee_df['info_education'])"
   ]
  },
  {
   "cell_type": "code",
   "execution_count": 41,
   "metadata": {},
   "outputs": [
    {
     "data": {
      "text/plain": [
       "company_group   info_education\n",
       "micro bisness   0                 11506\n",
       "                1                  6818\n",
       "small bisness   0                  2875\n",
       "                1                  1533\n",
       "medium bisness  0                   379\n",
       "                1                   214\n",
       "large bisness   0                   133\n",
       "                1                    75\n",
       "Name: info_education, dtype: int64"
      ]
     },
     "execution_count": 41,
     "metadata": {},
     "output_type": "execute_result"
    }
   ],
   "source": [
    "# Посмотрим на распределение значений\n",
    "employee_df.groupby('company_group')['info_education'].value_counts()"
   ]
  },
  {
   "cell_type": "code",
   "execution_count": 42,
   "metadata": {},
   "outputs": [
    {
     "data": {
      "text/plain": [
       "company_group\n",
       "micro bisness     0.372080\n",
       "small bisness     0.347777\n",
       "medium bisness    0.360877\n",
       "large bisness     0.360577\n",
       "Name: info_education, dtype: float64"
      ]
     },
     "metadata": {},
     "output_type": "display_data"
    }
   ],
   "source": [
    "# Оставляем информацию только о тех сотрудниках, где отсутствует информация об образовании\n",
    "edu_share = employee_df.groupby('company_group')['info_education'].mean()\n",
    "display(edu_share)"
   ]
  },
  {
   "cell_type": "code",
   "execution_count": 43,
   "metadata": {},
   "outputs": [
    {
     "data": {
      "image/png": "[encoded data removed]",
      "text/plain": [
       "<Figure size 864x432 with 1 Axes>"
      ]
     },
     "metadata": {
      "needs_background": "light"
     },
     "output_type": "display_data"
    }
   ],
   "source": [
    "# Задаем размер графика\n",
    "plt.figure(figsize=(12,6))\n",
    "\n",
    "# Построим столбчатую диаграмму\n",
    "edu_share.plot(kind='bar',\n",
    "                                               rot=0, \n",
    "                                               legend=False, # Выключаем легенду\n",
    "                                               title=f'Доля сотрудников без инф. об образования в зависимости от размера компании',\n",
    "                                               color=['#E0F7FF','#87D0E6','#5CB8D1', '#005F73'] \n",
    ")\n",
    "\n",
    "# Настраиваем оформление графика\n",
    "plt.xlabel('Размер компании')\n",
    "plt.ylabel('Доля сотрудников без инф.об образовании')\n",
    "\n",
    "# Выводим график\n",
    "plt.show()"
   ]
  },
  {
   "cell_type": "markdown",
   "metadata": {},
   "source": [
    "На основании этих данных можно сделать вывод, что доля сотрудников без информации об образовании в разных группах компаний по размеру довольно близка и колеблется примерно в пределах от 34% до 37%. Это говорит о том, что вероятность отсутствия информации об образовании у сотрудников не сильно зависит от размера компании."
   ]
  },
  {
   "cell_type": "markdown",
   "metadata": {},
   "source": [
    "Присоединение таблицы `degrees.csv`: проверим, есть ли общие ключи для присоединения датасета `degrees.csv` к другим таблицам."
   ]
  },
  {
   "cell_type": "code",
   "execution_count": 44,
   "metadata": {},
   "outputs": [
    {
     "data": {
      "text/html": [
       "<div>\n",
       "<style scoped>\n",
       "    .dataframe tbody tr th:only-of-type {\n",
       "        vertical-align: middle;\n",
       "    }\n",
       "\n",
       "    .dataframe tbody tr th {\n",
       "        vertical-align: top;\n",
       "    }\n",
       "\n",
       "    .dataframe thead th {\n",
       "        text-align: right;\n",
       "    }\n",
       "</style>\n",
       "<table border=\"1\" class=\"dataframe\">\n",
       "  <thead>\n",
       "    <tr style=\"text-align: right;\">\n",
       "      <th></th>\n",
       "      <th>id</th>\n",
       "      <th>object_id</th>\n",
       "      <th>degree_type</th>\n",
       "      <th>subject</th>\n",
       "    </tr>\n",
       "  </thead>\n",
       "  <tbody>\n",
       "    <tr>\n",
       "      <th>0</th>\n",
       "      <td>1</td>\n",
       "      <td>p:6117</td>\n",
       "      <td>MBA</td>\n",
       "      <td>NaN</td>\n",
       "    </tr>\n",
       "    <tr>\n",
       "      <th>1</th>\n",
       "      <td>2</td>\n",
       "      <td>p:6136</td>\n",
       "      <td>BA</td>\n",
       "      <td>English, French</td>\n",
       "    </tr>\n",
       "    <tr>\n",
       "      <th>2</th>\n",
       "      <td>3</td>\n",
       "      <td>p:6136</td>\n",
       "      <td>MS</td>\n",
       "      <td>Mass Communication</td>\n",
       "    </tr>\n",
       "  </tbody>\n",
       "</table>\n",
       "</div>"
      ],
      "text/plain": [
       "   id object_id degree_type             subject\n",
       "0   1    p:6117         MBA                 NaN\n",
       "1   2    p:6136          BA     English, French\n",
       "2   3    p:6136          MS  Mass Communication"
      ]
     },
     "execution_count": 44,
     "metadata": {},
     "output_type": "execute_result"
    }
   ],
   "source": [
    "degr_df.head(3)"
   ]
  },
  {
   "cell_type": "code",
   "execution_count": 45,
   "metadata": {},
   "outputs": [
    {
     "data": {
      "text/plain": [
       "0           p:6117\n",
       "1           p:6136\n",
       "2           p:6136\n",
       "3           p:6005\n",
       "4           p:5832\n",
       "            ...   \n",
       "109605    p:268589\n",
       "109606    p:268527\n",
       "109607    p:268527\n",
       "109608    p:268528\n",
       "109609    p:268528\n",
       "Name: object_id, Length: 109610, dtype: object"
      ]
     },
     "execution_count": 45,
     "metadata": {},
     "output_type": "execute_result"
    }
   ],
   "source": [
    "degr_df['object_id']"
   ]
  },
  {
   "cell_type": "markdown",
   "metadata": {},
   "source": [
    "Объдинение возможно, имеется общий ключ с датасетом - `id` датасета `people_df`, который содержит информацию об идентификатор сотрудника. Но перед присоединением необходимо обработать значения столбца `object_id`, исключив символы `p:`, так как он отсутствуют в других датасетах."
   ]
  },
  {
   "cell_type": "code",
   "execution_count": 46,
   "metadata": {},
   "outputs": [
    {
     "data": {
      "image/png": "[encoded data removed]",
      "text/plain": [
       "<Figure size 1080x432 with 1 Axes>"
      ]
     },
     "metadata": {
      "needs_background": "light"
     },
     "output_type": "display_data"
    }
   ],
   "source": [
    "# Зададим размер фигуры\n",
    "plt.figure(figsize=(15, 6))\n",
    "\n",
    "# Построим countplot и посмотрим на распределение количества сотрудников\n",
    "sns.countplot(x='company_size', data=people_df)\n",
    "\n",
    "plt.title('Распределение количества сотрудников в компаниях')\n",
    "plt.ylabel('Количество сотрудников')\n",
    "plt.xlabel('Размер компании')\n",
    "\n",
    "# Изменение угла поворота подписей на оси X\n",
    "plt.xticks(rotation=45)\n",
    "\n",
    "plt.show()\n",
    " "
   ]
  },
  {
   "cell_type": "markdown",
   "metadata": {},
   "source": [
    "Видим, что наибольшее количество компаний представилены одним сотрудником."
   ]
  },
  {
   "cell_type": "code",
   "execution_count": 47,
   "metadata": {},
   "outputs": [
    {
     "data": {
      "text/plain": [
       "0      NaN\n",
       "1        2\n",
       "2        1\n",
       "3        3\n",
       "4    11-25\n",
       "Name: company_group, dtype: category\n",
       "Categories (7, object): ['1' < '2' < '3' < '4-5' < '6-10' < '11-25' < '26+']"
      ]
     },
     "metadata": {},
     "output_type": "display_data"
    }
   ],
   "source": [
    "# (v2)Разбиваем на категории с помощью pd.cut\n",
    "\n",
    "bins = [0, 1, 2, 3, 5, 10, 25, float('inf')]\n",
    "labels = ['1', '2', '3', '4-5', '6-10', '11-25', '26+']\n",
    "\n",
    "people_df['company_group'] = pd.cut(people_df['company_size'], bins=bins, labels=labels)\n",
    "\n",
    "display(people_df['company_group'].head())\n",
    " "
   ]
  },
  {
   "cell_type": "code",
   "execution_count": 48,
   "metadata": {},
   "outputs": [
    {
     "data": {
      "image/png": "[encoded data removed]",
      "text/plain": [
       "<Figure size 720x360 with 1 Axes>"
      ]
     },
     "metadata": {
      "needs_background": "light"
     },
     "output_type": "display_data"
    }
   ],
   "source": [
    "# Задаем размер графика\n",
    "plt.figure(figsize=(10,5))\n",
    "\n",
    "# Построим столбчатую диаграмму\n",
    "people_df['company_group'].value_counts().plot(kind='bar',\n",
    "                                               rot=0, \n",
    "                                               legend=False,\n",
    "                                               color='#87D0E6',\n",
    "                                               title=f'Количество сотрудников в компании с разделением на категории'\n",
    ")\n",
    "\n",
    "# Настраиваем оформление графика\n",
    "plt.xlabel('Размер компании')\n",
    "plt.ylabel('Количество сотрудников')\n",
    "\n",
    "# Выводим график\n",
    "plt.show()"
   ]
  },
  {
   "cell_type": "markdown",
   "metadata": {},
   "source": [
    "### 2.3. Возможность объединения датасетов"
   ]
  },
  {
   "cell_type": "markdown",
   "metadata": {},
   "source": [
    "1. Проверим уникальность значений: убедимся, что значения в столбце `network_username` уникальны для каждого сотрудника и не повторяются между разными датасетами. Если значения дублируются, это может указывать на то, что столбец не подходит для объединения данных без дополнительной обработки.\n",
    "2. Сравним данные в столбце в разных датасетах: убедимся, что данные в столбце `network_username` означают одно и то же в разных датасетах и корректно идентифицируют пользователей.\n",
    "3. Оценим количество дубликатов: если дубликаты присутствуют, оценим их количество и частоту. Это поможет понять, насколько серьёзно это повлияет на объединение данных."
   ]
  },
  {
   "cell_type": "markdown",
   "metadata": {},
   "source": [
    "Cтолбец `network_username`в встречается в следующих датасетах:\n",
    "- датасет `company_and_rounds_df` - указанный столбец содержит информацию о нике компании в сети.\n",
    "- датасет `people_df` — указанный столбец содержит информацию о нике в социальных сетях.\n",
    "- дополнительная таблица `fund.csv` - указанный столбец содержит информацию о нике фонда в сети."
   ]
  },
  {
   "cell_type": "markdown",
   "metadata": {},
   "source": [
    "Посмотрим на уникальные значения столбца в разных датасетах. Начнем с датасета `company_df`."
   ]
  },
  {
   "cell_type": "code",
   "execution_count": 49,
   "metadata": {},
   "outputs": [
    {
     "data": {
      "text/plain": [
       "\"Уникальные значения: ['BachelrWetpaint' nan 'Hostnine' ... 'networkzend' 'pPhotonet' 'Photonet']\""
      ]
     },
     "metadata": {},
     "output_type": "display_data"
    },
    {
     "data": {
      "text/plain": [
       "'Количество уникальных значений: 79571'"
      ]
     },
     "metadata": {},
     "output_type": "display_data"
    }
   ],
   "source": [
    "a=company_and_rounds_df['network_username'].unique()\n",
    "b=company_and_rounds_df['network_username'].nunique()\n",
    "\n",
    "display(f'Уникальные значения: {a}')\n",
    "display(f'Количество уникальных значений: {b}')"
   ]
  },
  {
   "cell_type": "markdown",
   "metadata": {},
   "source": [
    "**Вывод:** уникальные значения столбцов требуют предварительной обработки, так как некоторые значения содержат опечатки, например 'pPhotonet' и 'Photonet', скорей всего это один и тотже ник."
   ]
  },
  {
   "cell_type": "markdown",
   "metadata": {},
   "source": [
    "Посмотрим на уникальные значения столбца в датасете `people_df`."
   ]
  },
  {
   "cell_type": "code",
   "execution_count": 50,
   "metadata": {},
   "outputs": [
    {
     "data": {
      "text/plain": [
       "\"Уникальные значения: [nan 'jobsbostontech' 'fbroulette' ... 'itechsocialnet' 'socialnethubs'\\n 'esocialnetlike']\""
      ]
     },
     "metadata": {},
     "output_type": "display_data"
    },
    {
     "data": {
      "text/plain": [
       "'Количество уникальных значений: 38421'"
      ]
     },
     "metadata": {},
     "output_type": "display_data"
    }
   ],
   "source": [
    "a=people_df['network_username'].unique()\n",
    "b=people_df['network_username'].nunique()\n",
    "\n",
    "display(f'Уникальные значения: {a}')\n",
    "display(f'Количество уникальных значений: {b}')"
   ]
  },
  {
   "cell_type": "markdown",
   "metadata": {},
   "source": [
    "**Вывод:** стоит обратить на разный контекст уникальных значений между столбцом `network_username` в датасетах `people_df` и `company_df`. Уникальных значений меньшее количество, чем в датасете `company_df`."
   ]
  },
  {
   "cell_type": "markdown",
   "metadata": {},
   "source": [
    "Посмотрим на уникальные значения столбца в дополнительном таблице fund.csv."
   ]
  },
  {
   "cell_type": "code",
   "execution_count": 51,
   "metadata": {},
   "outputs": [
    {
     "data": {
      "text/plain": [
       "\"Уникальные значения: [nan 'greylockvc' 'imi_vc' ... 'CalSTRS' 'haystack_fund' 'fbFund']\""
      ]
     },
     "metadata": {},
     "output_type": "display_data"
    },
    {
     "data": {
      "text/plain": [
       "'Количество уникальных значений: 2098'"
      ]
     },
     "metadata": {},
     "output_type": "display_data"
    }
   ],
   "source": [
    "# Выгрузим данные \n",
    "fund_df=pd.read_csv('https://code.s3.yandex.net/datasets/fund.csv')\n",
    "\n",
    "# Выведем уникальные значения и их количество\n",
    "a=fund_df['network_username'].unique()\n",
    "b=fund_df['network_username'].nunique()\n",
    "\n",
    "display(f'Уникальные значения: {a}')\n",
    "display(f'Количество уникальных значений: {b}')\n"
   ]
  },
  {
   "cell_type": "markdown",
   "metadata": {},
   "source": [
    "**Вывод:** также отметим разный контекст уникальных значений между столбцом `network_username` и меньшее количество таких значений по сравнени с датасетами `company_and_rounds_df` и `people_df`."
   ]
  },
  {
   "cell_type": "code",
   "execution_count": 52,
   "metadata": {},
   "outputs": [
    {
     "data": {
      "text/plain": [
       "'Количество пропусков в датасете company_and_rounds_df:'"
      ]
     },
     "metadata": {},
     "output_type": "display_data"
    },
    {
     "data": {
      "text/plain": [
       "122240"
      ]
     },
     "metadata": {},
     "output_type": "display_data"
    },
    {
     "data": {
      "text/plain": [
       "'Доля пропусков в датасете company_and_rounds_df:'"
      ]
     },
     "metadata": {},
     "output_type": "display_data"
    },
    {
     "data": {
      "text/plain": [
       "56.13158595608291"
      ]
     },
     "metadata": {},
     "output_type": "display_data"
    }
   ],
   "source": [
    "# Посмотрим на количество пропусков в столбце `network_username` датасета `company_df`\n",
    "\n",
    "display('Количество пропусков в датасете company_and_rounds_df:')\n",
    "display(company_and_rounds_df['network_username'].isna().sum())\n",
    "display('Доля пропусков в датасете company_and_rounds_df:')\n",
    "display(company_and_rounds_df['network_username'].isna().sum() / company_and_rounds_df['network_username'].shape[0]*100.0)"
   ]
  },
  {
   "cell_type": "markdown",
   "metadata": {},
   "source": [
    "Столбец содержит достаточно высокое количество пропущенных значений - более 56%, что может сделать данный столбце менее надеждый при объединении датасетов."
   ]
  },
  {
   "cell_type": "code",
   "execution_count": 53,
   "metadata": {},
   "outputs": [
    {
     "data": {
      "text/plain": [
       "'Количество пропусков в датасете people_df:'"
      ]
     },
     "metadata": {},
     "output_type": "display_data"
    },
    {
     "data": {
      "text/plain": [
       "187842"
      ]
     },
     "metadata": {},
     "output_type": "display_data"
    },
    {
     "data": {
      "text/plain": [
       "'Доля пропусков в датасете people_df:'"
      ]
     },
     "metadata": {},
     "output_type": "display_data"
    },
    {
     "data": {
      "text/plain": [
       "82.85599601250942"
      ]
     },
     "metadata": {},
     "output_type": "display_data"
    }
   ],
   "source": [
    "# Посмотрим на количество пропусков в столбце `network_username` датасета `people_df`\n",
    "\n",
    "display('Количество пропусков в датасете people_df:')\n",
    "display(people_df['network_username'].isna().sum())\n",
    "display('Доля пропусков в датасете people_df:')\n",
    "display(people_df['network_username'].isna().sum() / people_df['network_username'].shape[0]*100.0)"
   ]
  },
  {
   "cell_type": "markdown",
   "metadata": {},
   "source": [
    "Столбец содержит очень высокое количество пропущенных значений - более 82%, что делает данный столбец не подходящих для объдинения."
   ]
  },
  {
   "cell_type": "code",
   "execution_count": 54,
   "metadata": {},
   "outputs": [
    {
     "data": {
      "text/plain": [
       "'Количество пропусков в датасете fund_df:'"
      ]
     },
     "metadata": {},
     "output_type": "display_data"
    },
    {
     "data": {
      "text/plain": [
       "9503"
      ]
     },
     "metadata": {},
     "output_type": "display_data"
    },
    {
     "data": {
      "text/plain": [
       "'Доля пропусков в датасете fund_df:'"
      ]
     },
     "metadata": {},
     "output_type": "display_data"
    },
    {
     "data": {
      "text/plain": [
       "81.55681428081016"
      ]
     },
     "metadata": {},
     "output_type": "display_data"
    }
   ],
   "source": [
    "# Посмотрим на количество пропусков в столбце `network_username` датасета `fund_df`\n",
    "\n",
    "display('Количество пропусков в датасете fund_df:')\n",
    "display(fund_df['network_username'].isna().sum())\n",
    "display('Доля пропусков в датасете fund_df:')\n",
    "display(fund_df['network_username'].isna().sum() / fund_df['network_username'].shape[0]*100.0)"
   ]
  },
  {
   "cell_type": "markdown",
   "metadata": {},
   "source": [
    "Столбец содержит очень высокое количество пропущенных значений - более 81%, что делает данный столбец не подходящих для объдинения."
   ]
  },
  {
   "cell_type": "markdown",
   "metadata": {},
   "source": [
    "Посмотрим, повторяются ли названия ником для разных сотрудников. Оценим дубликаты в датасете `people_df` по двум столбцам `network_username` и `id`."
   ]
  },
  {
   "cell_type": "code",
   "execution_count": 55,
   "metadata": {},
   "outputs": [
    {
     "data": {
      "text/plain": [
       "'Количество дубликатов: 1'"
      ]
     },
     "metadata": {},
     "output_type": "display_data"
    }
   ],
   "source": [
    "duplicates = people_df.duplicated(['id', 'network_username'])\n",
    "a = duplicates.sum()\n",
    "\n",
    "display(f'Количество дубликатов: {a}')"
   ]
  },
  {
   "cell_type": "markdown",
   "metadata": {},
   "source": [
    "Посмотрим, повторяются ли названия ником для разных сотрудников. Оценим дубликаты в датасете `company_and_rounds_df` по двум столбцам `network_username` и `company_id`."
   ]
  },
  {
   "cell_type": "code",
   "execution_count": 56,
   "metadata": {},
   "outputs": [
    {
     "data": {
      "text/plain": [
       "'Количество дубликатов: 124965'"
      ]
     },
     "metadata": {},
     "output_type": "display_data"
    }
   ],
   "source": [
    "duplicates = company_and_rounds_df.duplicated(['company_id', 'network_username'])\n",
    "a = duplicates.sum()\n",
    "\n",
    "display(f'Количество дубликатов: {a}')"
   ]
  },
  {
   "cell_type": "markdown",
   "metadata": {},
   "source": [
    "Посмотрим, повторяются ли названия ником для разных сотрудников. Оценим дубликаты в датасете `company_df` по двум столбцам `network_username` и `id`."
   ]
  },
  {
   "cell_type": "code",
   "execution_count": 57,
   "metadata": {},
   "outputs": [
    {
     "data": {
      "text/plain": [
       "'Количество дубликатов: 0'"
      ]
     },
     "metadata": {},
     "output_type": "display_data"
    }
   ],
   "source": [
    "duplicates = fund_df.duplicated(['id', 'network_username'])\n",
    "a = duplicates.sum()\n",
    "\n",
    "display(f'Количество дубликатов: {a}')"
   ]
  },
  {
   "cell_type": "markdown",
   "metadata": {},
   "source": [
    "Для визуализации построим диаграмму Венна, которая показывает какие уникальные значения есть в каждом из датасетов, а также какие элементы являются общими, что поможет в оценке возможности объединения данных из разных источников, поскольку позволяет увидеть, насколько сильно они пересекаются или различаются по содержанию."
   ]
  },
  {
   "cell_type": "code",
   "execution_count": 58,
   "metadata": {
    "id": "zyI3rt0rxg1O"
   },
   "outputs": [
    {
     "data": {
      "image/png": "[encoded data removed]",
      "text/plain": [
       "<Figure size 1008x1008 with 1 Axes>"
      ]
     },
     "metadata": {},
     "output_type": "display_data"
    }
   ],
   "source": [
    "# Подготовим данные для диаграммы Венна\n",
    "set_people = set(people_df['network_username'])\n",
    "set_company = set(company_and_rounds_df['network_username'])\n",
    "set_fund = set(fund_df['network_username'])\n",
    "\n",
    "# Задаем цвета для каждого множества\n",
    "set_colors = ['#87D0E6','#005F73','#5CB8D1']\n",
    "\n",
    "# Создаем фигуру с указанным размером\n",
    "plt.figure(figsize=(14, 14)) \n",
    "\n",
    "# Построим диаграмму Венна\n",
    "venn3([set_people, set_company, set_fund], set_labels=('people_df', 'company_df', 'fund_df'), set_colors=set_colors)\n",
    "plt.title('Диаграмма Венна')\n",
    "\n",
    "plt.show()"
   ]
  },
  {
   "cell_type": "markdown",
   "metadata": {},
   "source": [
    "**Общий вывод по анализу столбца `network_username`**:\n",
    "1. Проверили уникальность значений: убедились, что значения в столбце `network_username` уникальны для каждого сотрудника и не повторяются между разными датасетами. Если значения дублируются, это может указывать на то, что столбец не подходит для объединения данных без дополнительной обработки.\n",
    "Также выявили высокую долю пропущенных значений от 56% до 82%. Высокая доля пропущенных значений может привести к тому, что большое количество строк не будет объединено, или же объединение будет неполным и неточным.\n",
    "\n",
    "2. Сравнили данные в столбце в разных датасетах: данные в столбце`network_username` с разным контектом:\n",
    "- для датасета `company_and_rounds_df` - указанный столбец содержит информацию о нике компании в сети.\n",
    "- для датасета `people_df` — указанный столбец содержит информацию о нике в социальных сетях.\n",
    "- для датасета `fund_df` - указанный столбец содержит информацию о нике фонда в сети.\n",
    "Эту информацию подтрвеждают уникальные значения, они содержат разной написание имен.\n",
    "\n",
    "3. Оценили количество дубликатов: наибольшее количество дубликатов обнаружено в датасете `company_and_rounds_df` - 124965. В датасете `people_df` обнаружен 1 дубликат, в `fund_df` - они отсутствуют.\n",
    "\n",
    "4. Диаграмма Венна показала:\n",
    "- есть пересечениями между `people_df` и `company_and_rounds_df`, одновременно присутствуют 2192 значений, `company_and_rounds_df` и `fund_df` - 63, `fund_df`и `people_df` - 72.\n",
    "- общее пересечение всех трёх множеств - 8.\n",
    "\n",
    "Пересечений мало, следует рассмотреть альтернативные ключи для объединения, так как столбец `network_username` не подходит для прямого объединения данных из-за большой доли пропущенных значений, дубликатов и разного контекста.\n",
    "    "
   ]
  },
  {
   "cell_type": "markdown",
   "metadata": {
    "id": "EHcODomVrJg1"
   },
   "source": [
    "\n",
    "### 2.4. Проблемный датасет и причина возникновения пропусков\n",
    "\n",
    "Во время собственного анализа данных у заказчика больше всего вопросов возникло к датасету `company_and_rounds.csv`. В нём много пропусков как раз в информации о раундах, которая заказчику важна.\n",
    "\n",
    "- Любым удобным способом приведите данные в вид, который позволит в дальнейшем проводить анализ в разрезе отдельных компаний. Обратите внимание на структуру датасета, порядок и названия столбцов, проанализируйте значения.\n",
    "\n",
    "По гипотезе заказчика данные по компаниям из этой таблицы раньше хранились иначе, более удобным для исследования образом.\n",
    "\n",
    "- Максимальным образом сохраняя данные, сохранив их связность и исключив возможные возникающие при этом ошибки, подготовьте данные так, чтобы удобно было отобрать компании по параметрам и рассчитать показатели из расчёта на одну компанию без промежуточных агрегаций."
   ]
  },
  {
   "cell_type": "code",
   "execution_count": 59,
   "metadata": {
    "id": "oSk7xqu_FbaN"
   },
   "outputs": [
    {
     "name": "stdout",
     "output_type": "stream",
     "text": [
      "<class 'pandas.core.frame.DataFrame'>\n",
      "RangeIndex: 217774 entries, 0 to 217773\n",
      "Data columns (total 23 columns):\n",
      " #   Column               Non-Null Count   Dtype         \n",
      "---  ------               --------------   -----         \n",
      " 0   id                   217472 non-null  object        \n",
      " 1   name                 217472 non-null  object        \n",
      " 2   category_code        143886 non-null  object        \n",
      " 3   status               217472 non-null  object        \n",
      " 4   founded_at           109956 non-null  datetime64[ns]\n",
      " 5   closed_at            3449 non-null    object        \n",
      " 6   domain               147159 non-null  object        \n",
      " 7   network_username     95534 non-null   object        \n",
      " 8   country_code         108607 non-null  object        \n",
      " 9   investment_rounds    217472 non-null  float64       \n",
      " 10  funding_rounds       217472 non-null  float64       \n",
      " 11  funding_total        217472 non-null  float64       \n",
      " 12  milestones           217472 non-null  float64       \n",
      " 13  funding_round_id     52928 non-null   object        \n",
      " 14  company_id           52928 non-null   object        \n",
      " 15  funded_at            52680 non-null   datetime64[ns]\n",
      " 16  funding_round_type   52928 non-null   object        \n",
      " 17  raised_amount        52928 non-null   float64       \n",
      " 18  pre_money_valuation  52928 non-null   float64       \n",
      " 19  participants         52928 non-null   float64       \n",
      " 20  is_first_round       52928 non-null   float64       \n",
      " 21  is_last_round        52928 non-null   float64       \n",
      " 22  years                52680 non-null   float64       \n",
      "dtypes: datetime64[ns](2), float64(10), object(11)\n",
      "memory usage: 38.2+ MB\n"
     ]
    }
   ],
   "source": [
    "# Выведем общую информацию о датасете\n",
    "company_and_rounds_df.info()"
   ]
  },
  {
   "cell_type": "code",
   "execution_count": 60,
   "metadata": {},
   "outputs": [
    {
     "data": {
      "text/html": [
       "<div>\n",
       "<style scoped>\n",
       "    .dataframe tbody tr th:only-of-type {\n",
       "        vertical-align: middle;\n",
       "    }\n",
       "\n",
       "    .dataframe tbody tr th {\n",
       "        vertical-align: top;\n",
       "    }\n",
       "\n",
       "    .dataframe thead th {\n",
       "        text-align: right;\n",
       "    }\n",
       "</style>\n",
       "<table border=\"1\" class=\"dataframe\">\n",
       "  <thead>\n",
       "    <tr style=\"text-align: right;\">\n",
       "      <th></th>\n",
       "      <th>id</th>\n",
       "      <th>name</th>\n",
       "      <th>category_code</th>\n",
       "      <th>status</th>\n",
       "      <th>founded_at</th>\n",
       "      <th>closed_at</th>\n",
       "      <th>domain</th>\n",
       "      <th>network_username</th>\n",
       "      <th>country_code</th>\n",
       "      <th>investment_rounds</th>\n",
       "      <th>...</th>\n",
       "      <th>funding_round_id</th>\n",
       "      <th>company_id</th>\n",
       "      <th>funded_at</th>\n",
       "      <th>funding_round_type</th>\n",
       "      <th>raised_amount</th>\n",
       "      <th>pre_money_valuation</th>\n",
       "      <th>participants</th>\n",
       "      <th>is_first_round</th>\n",
       "      <th>is_last_round</th>\n",
       "      <th>years</th>\n",
       "    </tr>\n",
       "  </thead>\n",
       "  <tbody>\n",
       "    <tr>\n",
       "      <th>0</th>\n",
       "      <td>1.0</td>\n",
       "      <td>Wetpaint</td>\n",
       "      <td>web</td>\n",
       "      <td>operating</td>\n",
       "      <td>2005-10-17</td>\n",
       "      <td>NaN</td>\n",
       "      <td>wetpaint-inc.com</td>\n",
       "      <td>BachelrWetpaint</td>\n",
       "      <td>USA</td>\n",
       "      <td>0.0</td>\n",
       "      <td>...</td>\n",
       "      <td>888.0</td>\n",
       "      <td>1.0</td>\n",
       "      <td>2005-10-01</td>\n",
       "      <td>series-a</td>\n",
       "      <td>5250000.0</td>\n",
       "      <td>0.0</td>\n",
       "      <td>2.0</td>\n",
       "      <td>0.0</td>\n",
       "      <td>1.0</td>\n",
       "      <td>2005.0</td>\n",
       "    </tr>\n",
       "    <tr>\n",
       "      <th>1</th>\n",
       "      <td>1.0</td>\n",
       "      <td>Wetpaint</td>\n",
       "      <td>web</td>\n",
       "      <td>operating</td>\n",
       "      <td>2005-10-17</td>\n",
       "      <td>NaN</td>\n",
       "      <td>wetpaint-inc.com</td>\n",
       "      <td>BachelrWetpaint</td>\n",
       "      <td>USA</td>\n",
       "      <td>0.0</td>\n",
       "      <td>...</td>\n",
       "      <td>889.0</td>\n",
       "      <td>1.0</td>\n",
       "      <td>2007-01-01</td>\n",
       "      <td>series-b</td>\n",
       "      <td>9500000.0</td>\n",
       "      <td>0.0</td>\n",
       "      <td>3.0</td>\n",
       "      <td>0.0</td>\n",
       "      <td>0.0</td>\n",
       "      <td>2007.0</td>\n",
       "    </tr>\n",
       "    <tr>\n",
       "      <th>2</th>\n",
       "      <td>1.0</td>\n",
       "      <td>Wetpaint</td>\n",
       "      <td>web</td>\n",
       "      <td>operating</td>\n",
       "      <td>2005-10-17</td>\n",
       "      <td>NaN</td>\n",
       "      <td>wetpaint-inc.com</td>\n",
       "      <td>BachelrWetpaint</td>\n",
       "      <td>USA</td>\n",
       "      <td>0.0</td>\n",
       "      <td>...</td>\n",
       "      <td>2312.0</td>\n",
       "      <td>1.0</td>\n",
       "      <td>2008-05-19</td>\n",
       "      <td>series-c+</td>\n",
       "      <td>25000000.0</td>\n",
       "      <td>0.0</td>\n",
       "      <td>4.0</td>\n",
       "      <td>1.0</td>\n",
       "      <td>0.0</td>\n",
       "      <td>2008.0</td>\n",
       "    </tr>\n",
       "    <tr>\n",
       "      <th>3</th>\n",
       "      <td>10.0</td>\n",
       "      <td>Flektor</td>\n",
       "      <td>games_video</td>\n",
       "      <td>acquired</td>\n",
       "      <td>NaT</td>\n",
       "      <td>NaN</td>\n",
       "      <td>flektor.com</td>\n",
       "      <td>NaN</td>\n",
       "      <td>USA</td>\n",
       "      <td>0.0</td>\n",
       "      <td>...</td>\n",
       "      <td>NaN</td>\n",
       "      <td>NaN</td>\n",
       "      <td>NaT</td>\n",
       "      <td>NaN</td>\n",
       "      <td>NaN</td>\n",
       "      <td>NaN</td>\n",
       "      <td>NaN</td>\n",
       "      <td>NaN</td>\n",
       "      <td>NaN</td>\n",
       "      <td>NaN</td>\n",
       "    </tr>\n",
       "    <tr>\n",
       "      <th>4</th>\n",
       "      <td>100.0</td>\n",
       "      <td>There</td>\n",
       "      <td>games_video</td>\n",
       "      <td>acquired</td>\n",
       "      <td>NaT</td>\n",
       "      <td>NaN</td>\n",
       "      <td>there.com</td>\n",
       "      <td>NaN</td>\n",
       "      <td>USA</td>\n",
       "      <td>0.0</td>\n",
       "      <td>...</td>\n",
       "      <td>NaN</td>\n",
       "      <td>NaN</td>\n",
       "      <td>NaT</td>\n",
       "      <td>NaN</td>\n",
       "      <td>NaN</td>\n",
       "      <td>NaN</td>\n",
       "      <td>NaN</td>\n",
       "      <td>NaN</td>\n",
       "      <td>NaN</td>\n",
       "      <td>NaN</td>\n",
       "    </tr>\n",
       "  </tbody>\n",
       "</table>\n",
       "<p>5 rows × 23 columns</p>\n",
       "</div>"
      ],
      "text/plain": [
       "      id      name category_code     status founded_at closed_at  \\\n",
       "0    1.0  Wetpaint           web  operating 2005-10-17       NaN   \n",
       "1    1.0  Wetpaint           web  operating 2005-10-17       NaN   \n",
       "2    1.0  Wetpaint           web  operating 2005-10-17       NaN   \n",
       "3   10.0   Flektor   games_video   acquired        NaT       NaN   \n",
       "4  100.0     There   games_video   acquired        NaT       NaN   \n",
       "\n",
       "             domain network_username country_code  investment_rounds  ...  \\\n",
       "0  wetpaint-inc.com  BachelrWetpaint          USA                0.0  ...   \n",
       "1  wetpaint-inc.com  BachelrWetpaint          USA                0.0  ...   \n",
       "2  wetpaint-inc.com  BachelrWetpaint          USA                0.0  ...   \n",
       "3       flektor.com              NaN          USA                0.0  ...   \n",
       "4         there.com              NaN          USA                0.0  ...   \n",
       "\n",
       "   funding_round_id  company_id  funded_at funding_round_type raised_amount  \\\n",
       "0             888.0         1.0 2005-10-01           series-a     5250000.0   \n",
       "1             889.0         1.0 2007-01-01           series-b     9500000.0   \n",
       "2            2312.0         1.0 2008-05-19          series-c+    25000000.0   \n",
       "3               NaN         NaN        NaT                NaN           NaN   \n",
       "4               NaN         NaN        NaT                NaN           NaN   \n",
       "\n",
       "  pre_money_valuation participants  is_first_round  is_last_round   years  \n",
       "0                 0.0          2.0             0.0            1.0  2005.0  \n",
       "1                 0.0          3.0             0.0            0.0  2007.0  \n",
       "2                 0.0          4.0             1.0            0.0  2008.0  \n",
       "3                 NaN          NaN             NaN            NaN     NaN  \n",
       "4                 NaN          NaN             NaN            NaN     NaN  \n",
       "\n",
       "[5 rows x 23 columns]"
      ]
     },
     "execution_count": 60,
     "metadata": {},
     "output_type": "execute_result"
    }
   ],
   "source": [
    "# Изучим структуру\n",
    "company_and_rounds_df.head()"
   ]
  },
  {
   "cell_type": "code",
   "execution_count": 61,
   "metadata": {
    "id": "9BY9lTUcFbJ-"
   },
   "outputs": [
    {
     "data": {
      "text/plain": [
       "Index(['id', 'name', 'category_code', 'status', 'founded_at', 'closed_at',\n",
       "       'domain', 'network_username', 'country_code', 'investment_rounds',\n",
       "       'funding_rounds', 'funding_total', 'milestones', 'funding_round_id',\n",
       "       'company_id', 'funded_at', 'funding_round_type', 'raised_amount',\n",
       "       'pre_money_valuation', 'participants', 'is_first_round',\n",
       "       'is_last_round', 'years'],\n",
       "      dtype='object')"
      ]
     },
     "execution_count": 61,
     "metadata": {},
     "output_type": "execute_result"
    }
   ],
   "source": [
    "# Выведем общую информацию о датасете\n",
    "company_and_rounds_df.columns"
   ]
  },
  {
   "cell_type": "markdown",
   "metadata": {
    "id": "tJ6Sl6MKrJg1",
    "vscode": {
     "languageId": "plaintext"
    }
   },
   "source": [
    "На этапе знакомства с данным был переименован столбец из `company ID` в `id`. Также столбцы приведены к snakecase и заменены пробелы на `_` в названиях столбцов."
   ]
  },
  {
   "cell_type": "code",
   "execution_count": 62,
   "metadata": {},
   "outputs": [
    {
     "data": {
      "text/plain": [
       "'Уникальные значения: [1.0 10.0 100.0 ... 174536.0 43233.0 nan]'"
      ]
     },
     "metadata": {},
     "output_type": "display_data"
    },
    {
     "data": {
      "text/plain": [
       "'Количество уникальных значений: 196553'"
      ]
     },
     "metadata": {},
     "output_type": "display_data"
    }
   ],
   "source": [
    "# Посмотрим на уникальные значения\n",
    "\n",
    "a=company_and_rounds_df['id'].unique()\n",
    "b=company_and_rounds_df['id'].nunique()\n",
    "\n",
    "display(f'Уникальные значения: {a}')\n",
    "display(f'Количество уникальных значений: {b}')"
   ]
  },
  {
   "cell_type": "markdown",
   "metadata": {},
   "source": [
    "Подготовим данные так, чтобы удобно было отобрать компании по параметрам и рассчитать показатели из расчёта на одну компанию без промежуточных агрегаций. Для этого создадим новый датасет с уникальными записями компаний."
   ]
  },
  {
   "cell_type": "code",
   "execution_count": 63,
   "metadata": {},
   "outputs": [],
   "source": [
    "#Делаем отдельную таблицу по компаниям\n",
    "df_company = company_and_rounds_df[['id', 'name', 'category_code', 'status', \n",
    "                                    'founded_at', 'closed_at', 'domain', \n",
    "                                    'network_username', 'country_code', \n",
    "                                    'investment_rounds', 'funding_rounds', \n",
    "                                    'funding_total', 'milestones']]\n",
    "\n",
    "\n",
    "#Убираем дубли записей\n",
    "df_company = df_company.drop_duplicates(subset=['id', 'name', 'category_code', 'status', \n",
    "                             'founded_at', 'closed_at', 'domain', \n",
    "                             'network_username', 'country_code', 'investment_rounds', 'funding_rounds', \n",
    "                            'funding_total', 'milestones'], keep='first')"
   ]
  },
  {
   "cell_type": "code",
   "execution_count": 64,
   "metadata": {},
   "outputs": [
    {
     "data": {
      "text/plain": [
       "Index(['id', 'name', 'category_code', 'status', 'founded_at', 'closed_at',\n",
       "       'domain', 'network_username', 'country_code', 'investment_rounds',\n",
       "       'funding_rounds', 'funding_total', 'milestones'],\n",
       "      dtype='object')"
      ]
     },
     "execution_count": 64,
     "metadata": {},
     "output_type": "execute_result"
    }
   ],
   "source": [
    "df_company.columns"
   ]
  },
  {
   "cell_type": "code",
   "execution_count": 65,
   "metadata": {},
   "outputs": [
    {
     "name": "stdout",
     "output_type": "stream",
     "text": [
      "<class 'pandas.core.frame.DataFrame'>\n",
      "Int64Index: 196554 entries, 0 to 217472\n",
      "Data columns (total 13 columns):\n",
      " #   Column             Non-Null Count   Dtype         \n",
      "---  ------             --------------   -----         \n",
      " 0   id                 196553 non-null  object        \n",
      " 1   name               196553 non-null  object        \n",
      " 2   category_code      123186 non-null  object        \n",
      " 3   status             196553 non-null  object        \n",
      " 4   founded_at         91227 non-null   datetime64[ns]\n",
      " 5   closed_at          2620 non-null    object        \n",
      " 6   domain             126545 non-null  object        \n",
      " 7   network_username   80591 non-null   object        \n",
      " 8   country_code       87990 non-null   object        \n",
      " 9   investment_rounds  196553 non-null  float64       \n",
      " 10  funding_rounds     196553 non-null  float64       \n",
      " 11  funding_total      196553 non-null  float64       \n",
      " 12  milestones         196553 non-null  float64       \n",
      "dtypes: datetime64[ns](1), float64(4), object(8)\n",
      "memory usage: 21.0+ MB\n"
     ]
    }
   ],
   "source": [
    "df_company.info()"
   ]
  },
  {
   "cell_type": "markdown",
   "metadata": {},
   "source": [
    "Проверим датасет `df_company` на наличие полных явных дубликатов."
   ]
  },
  {
   "cell_type": "code",
   "execution_count": 66,
   "metadata": {},
   "outputs": [
    {
     "data": {
      "text/plain": [
       "0"
      ]
     },
     "execution_count": 66,
     "metadata": {},
     "output_type": "execute_result"
    }
   ],
   "source": [
    "# Проверяем полные дубликаты в датасете\n",
    "df_company.duplicated().sum()"
   ]
  },
  {
   "cell_type": "markdown",
   "metadata": {},
   "source": [
    "После предобработки данных в датасете нет полных дубликатов строк"
   ]
  },
  {
   "cell_type": "code",
   "execution_count": 67,
   "metadata": {},
   "outputs": [
    {
     "data": {
      "text/plain": [
       "0"
      ]
     },
     "execution_count": 67,
     "metadata": {},
     "output_type": "execute_result"
    }
   ],
   "source": [
    "# Проверяем наличие дубликаты по столбцу с индификатором\n",
    "df_company.duplicated(subset='id').sum()"
   ]
  },
  {
   "cell_type": "code",
   "execution_count": 68,
   "metadata": {},
   "outputs": [
    {
     "data": {
      "text/html": [
       "<div>\n",
       "<style scoped>\n",
       "    .dataframe tbody tr th:only-of-type {\n",
       "        vertical-align: middle;\n",
       "    }\n",
       "\n",
       "    .dataframe tbody tr th {\n",
       "        vertical-align: top;\n",
       "    }\n",
       "\n",
       "    .dataframe thead th {\n",
       "        text-align: right;\n",
       "    }\n",
       "</style>\n",
       "<table border=\"1\" class=\"dataframe\">\n",
       "  <thead>\n",
       "    <tr style=\"text-align: right;\">\n",
       "      <th></th>\n",
       "      <th>company_id</th>\n",
       "      <th>raised_amount</th>\n",
       "      <th>funding_round_id</th>\n",
       "      <th>funded_at</th>\n",
       "      <th>funding_round_type</th>\n",
       "      <th>pre_money_valuation</th>\n",
       "      <th>participants</th>\n",
       "      <th>is_first_round</th>\n",
       "      <th>is_last_round</th>\n",
       "      <th>years</th>\n",
       "    </tr>\n",
       "  </thead>\n",
       "  <tbody>\n",
       "    <tr>\n",
       "      <th>3</th>\n",
       "      <td>NaN</td>\n",
       "      <td>NaN</td>\n",
       "      <td>NaN</td>\n",
       "      <td>NaT</td>\n",
       "      <td>NaN</td>\n",
       "      <td>NaN</td>\n",
       "      <td>NaN</td>\n",
       "      <td>NaN</td>\n",
       "      <td>NaN</td>\n",
       "      <td>NaN</td>\n",
       "    </tr>\n",
       "    <tr>\n",
       "      <th>4</th>\n",
       "      <td>NaN</td>\n",
       "      <td>NaN</td>\n",
       "      <td>NaN</td>\n",
       "      <td>NaT</td>\n",
       "      <td>NaN</td>\n",
       "      <td>NaN</td>\n",
       "      <td>NaN</td>\n",
       "      <td>NaN</td>\n",
       "      <td>NaN</td>\n",
       "      <td>NaN</td>\n",
       "    </tr>\n",
       "    <tr>\n",
       "      <th>5</th>\n",
       "      <td>NaN</td>\n",
       "      <td>NaN</td>\n",
       "      <td>NaN</td>\n",
       "      <td>NaT</td>\n",
       "      <td>NaN</td>\n",
       "      <td>NaN</td>\n",
       "      <td>NaN</td>\n",
       "      <td>NaN</td>\n",
       "      <td>NaN</td>\n",
       "      <td>NaN</td>\n",
       "    </tr>\n",
       "    <tr>\n",
       "      <th>6</th>\n",
       "      <td>NaN</td>\n",
       "      <td>NaN</td>\n",
       "      <td>NaN</td>\n",
       "      <td>NaT</td>\n",
       "      <td>NaN</td>\n",
       "      <td>NaN</td>\n",
       "      <td>NaN</td>\n",
       "      <td>NaN</td>\n",
       "      <td>NaN</td>\n",
       "      <td>NaN</td>\n",
       "    </tr>\n",
       "    <tr>\n",
       "      <th>7</th>\n",
       "      <td>NaN</td>\n",
       "      <td>NaN</td>\n",
       "      <td>NaN</td>\n",
       "      <td>NaT</td>\n",
       "      <td>NaN</td>\n",
       "      <td>NaN</td>\n",
       "      <td>NaN</td>\n",
       "      <td>NaN</td>\n",
       "      <td>NaN</td>\n",
       "      <td>NaN</td>\n",
       "    </tr>\n",
       "  </tbody>\n",
       "</table>\n",
       "</div>"
      ],
      "text/plain": [
       "  company_id  raised_amount funding_round_id funded_at funding_round_type  \\\n",
       "3        NaN            NaN              NaN       NaT                NaN   \n",
       "4        NaN            NaN              NaN       NaT                NaN   \n",
       "5        NaN            NaN              NaN       NaT                NaN   \n",
       "6        NaN            NaN              NaN       NaT                NaN   \n",
       "7        NaN            NaN              NaN       NaT                NaN   \n",
       "\n",
       "   pre_money_valuation  participants  is_first_round  is_last_round  years  \n",
       "3                  NaN           NaN             NaN            NaN    NaN  \n",
       "4                  NaN           NaN             NaN            NaN    NaN  \n",
       "5                  NaN           NaN             NaN            NaN    NaN  \n",
       "6                  NaN           NaN             NaN            NaN    NaN  \n",
       "7                  NaN           NaN             NaN            NaN    NaN  "
      ]
     },
     "metadata": {},
     "output_type": "display_data"
    }
   ],
   "source": [
    "# Делаем отдельную таблицу по раундам инвестирования\n",
    "df_rounds = company_and_rounds_df[['company_id', 'raised_amount', 'funding_round_id', \n",
    "                            'funded_at', 'funding_round_type', 'pre_money_valuation', \n",
    "                            'participants', 'is_first_round', \n",
    "                            'is_last_round', 'years']]\n",
    "# Cмотрим пропуски\n",
    "display(df_rounds[df_rounds['funding_round_type'].isna()].head()) \n",
    "\n",
    "# Удаляем полные пропуски\n",
    "df_rounds=df_rounds.dropna(subset=['funding_round_type'])"
   ]
  },
  {
   "cell_type": "code",
   "execution_count": 69,
   "metadata": {},
   "outputs": [
    {
     "name": "stdout",
     "output_type": "stream",
     "text": [
      "<class 'pandas.core.frame.DataFrame'>\n",
      "Int64Index: 52928 entries, 0 to 217773\n",
      "Data columns (total 10 columns):\n",
      " #   Column               Non-Null Count  Dtype         \n",
      "---  ------               --------------  -----         \n",
      " 0   company_id           52928 non-null  object        \n",
      " 1   raised_amount        52928 non-null  float64       \n",
      " 2   funding_round_id     52928 non-null  object        \n",
      " 3   funded_at            52680 non-null  datetime64[ns]\n",
      " 4   funding_round_type   52928 non-null  object        \n",
      " 5   pre_money_valuation  52928 non-null  float64       \n",
      " 6   participants         52928 non-null  float64       \n",
      " 7   is_first_round       52928 non-null  float64       \n",
      " 8   is_last_round        52928 non-null  float64       \n",
      " 9   years                52680 non-null  float64       \n",
      "dtypes: datetime64[ns](1), float64(6), object(3)\n",
      "memory usage: 4.4+ MB\n"
     ]
    }
   ],
   "source": [
    "df_rounds.info()"
   ]
  },
  {
   "cell_type": "code",
   "execution_count": 70,
   "metadata": {},
   "outputs": [
    {
     "data": {
      "text/plain": [
       "dtype('<M8[ns]')"
      ]
     },
     "execution_count": 70,
     "metadata": {},
     "output_type": "execute_result"
    }
   ],
   "source": [
    "# Преобразуем тип данных в столбце `years` в тип данных `datetime64`\n",
    "df_rounds['years']=pd.to_datetime(df_rounds['years'], errors='coerce')\n",
    "\n",
    "# Проверим преобразования\n",
    "df_rounds['years'].dtype"
   ]
  },
  {
   "cell_type": "markdown",
   "metadata": {},
   "source": [
    "Проверим датасет `df_rounds` на наличие полных явных дубликатов."
   ]
  },
  {
   "cell_type": "code",
   "execution_count": 71,
   "metadata": {},
   "outputs": [
    {
     "data": {
      "text/plain": [
       "0"
      ]
     },
     "execution_count": 71,
     "metadata": {},
     "output_type": "execute_result"
    }
   ],
   "source": [
    "# Проверяем полные дубликаты в датасете\n",
    "df_rounds.duplicated().sum()"
   ]
  },
  {
   "cell_type": "code",
   "execution_count": 72,
   "metadata": {},
   "outputs": [
    {
     "data": {
      "text/plain": [
       "0"
      ]
     },
     "execution_count": 72,
     "metadata": {},
     "output_type": "execute_result"
    }
   ],
   "source": [
    "# Проверяем наличие дубликаты по столбцу с индификатором\n",
    "df_rounds.duplicated(subset='funding_round_id').sum()"
   ]
  },
  {
   "cell_type": "markdown",
   "metadata": {},
   "source": [
    "После предобработки данных в датасете нет полных дубликатов строк."
   ]
  },
  {
   "cell_type": "markdown",
   "metadata": {
    "id": "bmVYhphNrJg2"
   },
   "source": [
    "\n",
    "## 3. Исследовательский анализ объединённых таблиц"
   ]
  },
  {
   "cell_type": "markdown",
   "metadata": {
    "id": "3Di6tCT3rJg2"
   },
   "source": [
    "\n",
    "### 3.1. Объединение данных\n",
    "\n",
    "Заказчика прежде всего интересуют те компании, которые меняли или готовы менять владельцев.\n",
    "\n",
    "В качестве основы для объединённой таблицы возьмем данные из обработанного датасета `company_and_rounds.csv` — выберем только те компании, у которых указаны значения `funding_rounds` или `investment_rounds` больше нуля, или те, у которых в колонке `status` указано `acquired`."
   ]
  },
  {
   "cell_type": "code",
   "execution_count": null,
   "metadata": {},
   "outputs": [
    {
     "data": {
      "text/plain": [
       "Index(['id', 'name', 'category_code', 'status', 'founded_at', 'closed_at',\n",
       "       'domain', 'network_username', 'country_code', 'investment_rounds',\n",
       "       'funding_rounds', 'funding_total', 'milestones'],\n",
       "      dtype='object')"
      ]
     },
     "execution_count": 73,
     "metadata": {},
     "output_type": "execute_result"
    }
   ],
   "source": [
    "df_company.columns"
   ]
  },
  {
   "cell_type": "code",
   "execution_count": null,
   "metadata": {
    "id": "kuV1b5MXFg3_"
   },
   "outputs": [
    {
     "name": "stdout",
     "output_type": "stream",
     "text": [
      "<class 'pandas.core.frame.DataFrame'>\n",
      "Int64Index: 40747 entries, 0 to 217469\n",
      "Data columns (total 13 columns):\n",
      " #   Column             Non-Null Count  Dtype         \n",
      "---  ------             --------------  -----         \n",
      " 0   id                 40747 non-null  object        \n",
      " 1   name               40747 non-null  object        \n",
      " 2   category_code      35315 non-null  object        \n",
      " 3   status             40747 non-null  object        \n",
      " 4   founded_at         27807 non-null  datetime64[ns]\n",
      " 5   closed_at          2128 non-null   object        \n",
      " 6   domain             35754 non-null  object        \n",
      " 7   network_username   20850 non-null  object        \n",
      " 8   country_code       34742 non-null  object        \n",
      " 9   investment_rounds  40747 non-null  float64       \n",
      " 10  funding_rounds     40747 non-null  float64       \n",
      " 11  funding_total      40747 non-null  float64       \n",
      " 12  milestones         40747 non-null  float64       \n",
      "dtypes: datetime64[ns](1), float64(4), object(8)\n",
      "memory usage: 4.4+ MB\n"
     ]
    }
   ],
   "source": [
    "# Отфильтруем датасет по заданным условиям\n",
    "df_company = df_company.loc[(df_company['funding_rounds'] > 0) \n",
    "                            | (df_company['investment_rounds'] > 0) \n",
    "                            | (df_company['status'] == 'acquired')]\n",
    "\n",
    "# Выведем общую информацию\n",
    "df_company.info()"
   ]
  },
  {
   "cell_type": "code",
   "execution_count": null,
   "metadata": {
    "id": "93v3fEX5FgtP"
   },
   "outputs": [
    {
     "data": {
      "text/html": [
       "<div>\n",
       "<style scoped>\n",
       "    .dataframe tbody tr th:only-of-type {\n",
       "        vertical-align: middle;\n",
       "    }\n",
       "\n",
       "    .dataframe tbody tr th {\n",
       "        vertical-align: top;\n",
       "    }\n",
       "\n",
       "    .dataframe thead th {\n",
       "        text-align: right;\n",
       "    }\n",
       "</style>\n",
       "<table border=\"1\" class=\"dataframe\">\n",
       "  <thead>\n",
       "    <tr style=\"text-align: right;\">\n",
       "      <th></th>\n",
       "      <th>id</th>\n",
       "      <th>name</th>\n",
       "      <th>category_code</th>\n",
       "      <th>status</th>\n",
       "      <th>founded_at</th>\n",
       "      <th>closed_at</th>\n",
       "      <th>domain</th>\n",
       "      <th>network_username</th>\n",
       "      <th>country_code</th>\n",
       "      <th>investment_rounds</th>\n",
       "      <th>funding_rounds</th>\n",
       "      <th>funding_total</th>\n",
       "      <th>milestones</th>\n",
       "    </tr>\n",
       "  </thead>\n",
       "  <tbody>\n",
       "    <tr>\n",
       "      <th>0</th>\n",
       "      <td>1.0</td>\n",
       "      <td>Wetpaint</td>\n",
       "      <td>web</td>\n",
       "      <td>operating</td>\n",
       "      <td>2005-10-17</td>\n",
       "      <td>NaN</td>\n",
       "      <td>wetpaint-inc.com</td>\n",
       "      <td>BachelrWetpaint</td>\n",
       "      <td>USA</td>\n",
       "      <td>0.0</td>\n",
       "      <td>3.0</td>\n",
       "      <td>39750000.0</td>\n",
       "      <td>5.0</td>\n",
       "    </tr>\n",
       "    <tr>\n",
       "      <th>3</th>\n",
       "      <td>10.0</td>\n",
       "      <td>Flektor</td>\n",
       "      <td>games_video</td>\n",
       "      <td>acquired</td>\n",
       "      <td>NaT</td>\n",
       "      <td>NaN</td>\n",
       "      <td>flektor.com</td>\n",
       "      <td>NaN</td>\n",
       "      <td>USA</td>\n",
       "      <td>0.0</td>\n",
       "      <td>0.0</td>\n",
       "      <td>0.0</td>\n",
       "      <td>0.0</td>\n",
       "    </tr>\n",
       "    <tr>\n",
       "      <th>4</th>\n",
       "      <td>100.0</td>\n",
       "      <td>There</td>\n",
       "      <td>games_video</td>\n",
       "      <td>acquired</td>\n",
       "      <td>NaT</td>\n",
       "      <td>NaN</td>\n",
       "      <td>there.com</td>\n",
       "      <td>NaN</td>\n",
       "      <td>USA</td>\n",
       "      <td>0.0</td>\n",
       "      <td>0.0</td>\n",
       "      <td>0.0</td>\n",
       "      <td>4.0</td>\n",
       "    </tr>\n",
       "    <tr>\n",
       "      <th>15</th>\n",
       "      <td>1001.0</td>\n",
       "      <td>FriendFeed</td>\n",
       "      <td>web</td>\n",
       "      <td>acquired</td>\n",
       "      <td>2007-10-01</td>\n",
       "      <td>NaN</td>\n",
       "      <td>friendfeed.com</td>\n",
       "      <td>friendfeed</td>\n",
       "      <td>USA</td>\n",
       "      <td>0.0</td>\n",
       "      <td>1.0</td>\n",
       "      <td>5000000.0</td>\n",
       "      <td>3.0</td>\n",
       "    </tr>\n",
       "    <tr>\n",
       "      <th>20</th>\n",
       "      <td>10014.0</td>\n",
       "      <td>Mobclix</td>\n",
       "      <td>mobile</td>\n",
       "      <td>acquired</td>\n",
       "      <td>2008-03-01</td>\n",
       "      <td>NaN</td>\n",
       "      <td>mobclix.com</td>\n",
       "      <td>mobclix</td>\n",
       "      <td>USA</td>\n",
       "      <td>0.0</td>\n",
       "      <td>1.0</td>\n",
       "      <td>0.0</td>\n",
       "      <td>4.0</td>\n",
       "    </tr>\n",
       "  </tbody>\n",
       "</table>\n",
       "</div>"
      ],
      "text/plain": [
       "         id        name category_code     status founded_at closed_at  \\\n",
       "0       1.0    Wetpaint           web  operating 2005-10-17       NaN   \n",
       "3      10.0     Flektor   games_video   acquired        NaT       NaN   \n",
       "4     100.0       There   games_video   acquired        NaT       NaN   \n",
       "15   1001.0  FriendFeed           web   acquired 2007-10-01       NaN   \n",
       "20  10014.0     Mobclix        mobile   acquired 2008-03-01       NaN   \n",
       "\n",
       "              domain network_username country_code  investment_rounds  \\\n",
       "0   wetpaint-inc.com  BachelrWetpaint          USA                0.0   \n",
       "3        flektor.com              NaN          USA                0.0   \n",
       "4          there.com              NaN          USA                0.0   \n",
       "15    friendfeed.com       friendfeed          USA                0.0   \n",
       "20       mobclix.com          mobclix          USA                0.0   \n",
       "\n",
       "    funding_rounds  funding_total  milestones  \n",
       "0              3.0     39750000.0         5.0  \n",
       "3              0.0            0.0         0.0  \n",
       "4              0.0            0.0         4.0  \n",
       "15             1.0      5000000.0         3.0  \n",
       "20             1.0            0.0         4.0  "
      ]
     },
     "metadata": {},
     "output_type": "display_data"
    }
   ],
   "source": [
    "display(df_company.head())"
   ]
  },
  {
   "cell_type": "markdown",
   "metadata": {},
   "source": [
    "Посмотрим на количество и долю пропущенных значений."
   ]
  },
  {
   "cell_type": "code",
   "execution_count": null,
   "metadata": {},
   "outputs": [
    {
     "data": {
      "text/plain": [
       "id                       0\n",
       "name                     0\n",
       "category_code         5432\n",
       "status                   0\n",
       "founded_at           12940\n",
       "closed_at            38619\n",
       "domain                4993\n",
       "network_username     19897\n",
       "country_code          6005\n",
       "investment_rounds        0\n",
       "funding_rounds           0\n",
       "funding_total            0\n",
       "milestones               0\n",
       "dtype: int64"
      ]
     },
     "execution_count": 76,
     "metadata": {},
     "output_type": "execute_result"
    }
   ],
   "source": [
    "# Посчитаем количество пропущенных значений в датасете df_company\n",
    "df_company.isna().sum()"
   ]
  },
  {
   "cell_type": "code",
   "execution_count": null,
   "metadata": {},
   "outputs": [
    {
     "data": {
      "text/plain": [
       "id                   0.000000\n",
       "name                 0.000000\n",
       "category_code        0.133310\n",
       "status               0.000000\n",
       "founded_at           0.317569\n",
       "closed_at            0.947775\n",
       "domain               0.122537\n",
       "network_username     0.488306\n",
       "country_code         0.147373\n",
       "investment_rounds    0.000000\n",
       "funding_rounds       0.000000\n",
       "funding_total        0.000000\n",
       "milestones           0.000000\n",
       "dtype: float64"
      ]
     },
     "execution_count": 77,
     "metadata": {},
     "output_type": "execute_result"
    }
   ],
   "source": [
    "# Посчитаем долю пропущенных значений в датасете\n",
    "df_company.isna().mean()"
   ]
  },
  {
   "cell_type": "markdown",
   "metadata": {},
   "source": [
    "В результирующей таблице получилось 40 747 компаний.\n",
    "Содержатся пропуски в столбцах: `category_code` - 13%, `founded_at` - 32%, `closed_at` - 95%, `domain` - 12%, `network_username` - 49%, `country_code` - 15%. Тип данных в столбце `closed_at` стоит преобразовать в тип данных `datetime` для коректной работы с датой и временем. В столбце `closed_at` пропуски вероятно не случайны, так как отсутствует информации означает, что компания еще действующая. В столбцах `category_code`, `founded_at`, `domain`, `country_code` на данном этапе заполнять не будем, оставим как есть."
   ]
  },
  {
   "cell_type": "code",
   "execution_count": null,
   "metadata": {},
   "outputs": [],
   "source": [
    "# Преобразуем тип данных в столбце closed_at\n",
    "df_company.loc[:, 'closed_at'] = pd.to_datetime(df_company['closed_at'], errors='coerce')"
   ]
  },
  {
   "cell_type": "code",
   "execution_count": null,
   "metadata": {},
   "outputs": [
    {
     "data": {
      "text/plain": [
       "dtype('<M8[ns]')"
      ]
     },
     "execution_count": 79,
     "metadata": {},
     "output_type": "execute_result"
    }
   ],
   "source": [
    "# Проверим преобразования\n",
    "df_company.loc[:, 'closed_at'].dtype"
   ]
  },
  {
   "cell_type": "code",
   "execution_count": null,
   "metadata": {},
   "outputs": [
    {
     "data": {
      "text/plain": [
       "'Количество уникальных значений в столбце name:'"
      ]
     },
     "metadata": {},
     "output_type": "display_data"
    },
    {
     "data": {
      "text/plain": [
       "40747"
      ]
     },
     "metadata": {},
     "output_type": "display_data"
    },
    {
     "data": {
      "text/plain": [
       "'Количество уникальных значений в столбце status:'"
      ]
     },
     "metadata": {},
     "output_type": "display_data"
    },
    {
     "data": {
      "text/plain": [
       "4"
      ]
     },
     "metadata": {},
     "output_type": "display_data"
    },
    {
     "data": {
      "text/plain": [
       "'Количество уникальных значений в столбце network_username:'"
      ]
     },
     "metadata": {},
     "output_type": "display_data"
    },
    {
     "data": {
      "text/plain": [
       "20661"
      ]
     },
     "metadata": {},
     "output_type": "display_data"
    }
   ],
   "source": [
    "# Проверяем количество значения в столбцах\n",
    "for x in ['name', 'status', 'network_username']:\n",
    "    display(f'Количество уникальных значений в столбце {x}:')\n",
    "    display(df_company[x].sort_values().nunique())\n",
    "    display()"
   ]
  },
  {
   "cell_type": "markdown",
   "metadata": {},
   "source": [
    "Значения в столбце `name` приведем к нижнему регистру."
   ]
  },
  {
   "cell_type": "code",
   "execution_count": null,
   "metadata": {},
   "outputs": [
    {
     "data": {
      "text/html": [
       "<div>\n",
       "<style scoped>\n",
       "    .dataframe tbody tr th:only-of-type {\n",
       "        vertical-align: middle;\n",
       "    }\n",
       "\n",
       "    .dataframe tbody tr th {\n",
       "        vertical-align: top;\n",
       "    }\n",
       "\n",
       "    .dataframe thead th {\n",
       "        text-align: right;\n",
       "    }\n",
       "</style>\n",
       "<table border=\"1\" class=\"dataframe\">\n",
       "  <thead>\n",
       "    <tr style=\"text-align: right;\">\n",
       "      <th></th>\n",
       "      <th>id</th>\n",
       "      <th>name</th>\n",
       "      <th>category_code</th>\n",
       "      <th>status</th>\n",
       "      <th>founded_at</th>\n",
       "      <th>closed_at</th>\n",
       "      <th>domain</th>\n",
       "      <th>network_username</th>\n",
       "      <th>country_code</th>\n",
       "      <th>investment_rounds</th>\n",
       "      <th>funding_rounds</th>\n",
       "      <th>funding_total</th>\n",
       "      <th>milestones</th>\n",
       "    </tr>\n",
       "  </thead>\n",
       "  <tbody>\n",
       "    <tr>\n",
       "      <th>157557</th>\n",
       "      <td>332.0</td>\n",
       "      <td>billmonk</td>\n",
       "      <td>web</td>\n",
       "      <td>acquired</td>\n",
       "      <td>2005-09-01</td>\n",
       "      <td>NaT</td>\n",
       "      <td>billmonk.com</td>\n",
       "      <td>BillmonkFriends</td>\n",
       "      <td>USA</td>\n",
       "      <td>0.0</td>\n",
       "      <td>0.0</td>\n",
       "      <td>0.0</td>\n",
       "      <td>2.0</td>\n",
       "    </tr>\n",
       "    <tr>\n",
       "      <th>197848</th>\n",
       "      <td>68178.0</td>\n",
       "      <td>milk mantra</td>\n",
       "      <td>health</td>\n",
       "      <td>operating</td>\n",
       "      <td>NaT</td>\n",
       "      <td>NaT</td>\n",
       "      <td>milkmantra.com</td>\n",
       "      <td>NaN</td>\n",
       "      <td>IND</td>\n",
       "      <td>0.0</td>\n",
       "      <td>1.0</td>\n",
       "      <td>0.0</td>\n",
       "      <td>0.0</td>\n",
       "    </tr>\n",
       "    <tr>\n",
       "      <th>179233</th>\n",
       "      <td>51540.0</td>\n",
       "      <td>logic instrument</td>\n",
       "      <td>hardware</td>\n",
       "      <td>operating</td>\n",
       "      <td>1987-01-01</td>\n",
       "      <td>NaT</td>\n",
       "      <td>logic-instrument.com</td>\n",
       "      <td>Rugged_Hardware</td>\n",
       "      <td>FRA</td>\n",
       "      <td>0.0</td>\n",
       "      <td>1.0</td>\n",
       "      <td>1480000.0</td>\n",
       "      <td>0.0</td>\n",
       "    </tr>\n",
       "    <tr>\n",
       "      <th>142797</th>\n",
       "      <td>276774.0</td>\n",
       "      <td>justinvesting</td>\n",
       "      <td>finance</td>\n",
       "      <td>operating</td>\n",
       "      <td>NaT</td>\n",
       "      <td>NaT</td>\n",
       "      <td>justinvesting.com</td>\n",
       "      <td>NaN</td>\n",
       "      <td>NaN</td>\n",
       "      <td>0.0</td>\n",
       "      <td>1.0</td>\n",
       "      <td>1136440.0</td>\n",
       "      <td>2.0</td>\n",
       "    </tr>\n",
       "  </tbody>\n",
       "</table>\n",
       "</div>"
      ],
      "text/plain": [
       "              id              name category_code     status founded_at  \\\n",
       "157557     332.0          billmonk           web   acquired 2005-09-01   \n",
       "197848   68178.0       milk mantra        health  operating        NaT   \n",
       "179233   51540.0  logic instrument      hardware  operating 1987-01-01   \n",
       "142797  276774.0     justinvesting       finance  operating        NaT   \n",
       "\n",
       "       closed_at                domain network_username country_code  \\\n",
       "157557       NaT          billmonk.com  BillmonkFriends          USA   \n",
       "197848       NaT        milkmantra.com              NaN          IND   \n",
       "179233       NaT  logic-instrument.com  Rugged_Hardware          FRA   \n",
       "142797       NaT     justinvesting.com              NaN          NaN   \n",
       "\n",
       "        investment_rounds  funding_rounds  funding_total  milestones  \n",
       "157557                0.0             0.0            0.0         2.0  \n",
       "197848                0.0             1.0            0.0         0.0  \n",
       "179233                0.0             1.0      1480000.0         0.0  \n",
       "142797                0.0             1.0      1136440.0         2.0  "
      ]
     },
     "execution_count": 81,
     "metadata": {},
     "output_type": "execute_result"
    }
   ],
   "source": [
    "# Приведем к нижнему регистру названия компаний в столбце name\n",
    "df_company.loc[:, 'name'] = df_company['name'].str.lower()\n",
    "\n",
    "# Проверим 4 случайные строки\n",
    "df_company.sample(4,random_state = 172)"
   ]
  },
  {
   "cell_type": "markdown",
   "metadata": {},
   "source": [
    "В результате предобработки данных были выполнены следующие действия:\n",
    "\n",
    "- Преобразован тип данных в столбце `closed_at` с `object` на `datetime`;\n",
    "- Изучены пропуски в данных. Пропуски составляют от 12% до 95% столбцов, часть пропущенных значани можно обяснить.  Все пропуски оставили как есть.\n",
    "- В столбце `name` наименования компаний приведены к нижнему регистру и содержатся только уникальные значения."
   ]
  },
  {
   "cell_type": "markdown",
   "metadata": {
    "id": "DFHINkV3rJg2"
   },
   "source": [
    "\n",
    "### 3.2. Анализ выбросов\n",
    "\n",
    "Заказчика интересует обычный для рассматриваемого периода размер средств, который предоставлялся компаниям.\n",
    "\n",
    "- По предобработанному столбцу `funding_total` графическим способом оцените, какой размер общего финансирования для одной компании будет типичным, а какой — выбивающимся.\n",
    "- В процессе расчёта значений обратите внимание, например, на показатели, возвращаемые методом `.describe()`, — объясните их. Применимы ли к таким данным обычные способы нахождения типичных значений?"
   ]
  },
  {
   "cell_type": "code",
   "execution_count": 82,
   "metadata": {},
   "outputs": [
    {
     "data": {
      "text/plain": [
       "'Количество значений равных 0.0: 12873'"
      ]
     },
     "metadata": {},
     "output_type": "display_data"
    }
   ],
   "source": [
    "filter = df_company['funding_total'] == 0.0\n",
    "null_values = filter.sum()\n",
    "\n",
    "display(f\"Количество значений равных 0.0: {null_values}\")"
   ]
  },
  {
   "cell_type": "markdown",
   "metadata": {},
   "source": [
    "Построим гистограмму для `funding_total`, чтобы визуально определить распределение данных и выявить выбросы."
   ]
  },
  {
   "cell_type": "code",
   "execution_count": 83,
   "metadata": {},
   "outputs": [
    {
     "data": {
      "image/png": "[encoded data removed]",
      "text/plain": [
       "<Figure size 720x360 with 1 Axes>"
      ]
     },
     "metadata": {
      "needs_background": "light"
     },
     "output_type": "display_data"
    }
   ],
   "source": [
    "# Устанавливаем размер графика\n",
    "plt.figure(figsize=(10, 5)) \n",
    "\n",
    "# Строим гистограмму\n",
    "plt.hist(df_company['funding_total'], bins=90, color='#5CB8D1', edgecolor='black')\n",
    "\n",
    "plt.title('Гистограмма распределения funding_total')\n",
    "plt.xlabel('Частота')\n",
    "plt.ylabel('Сумма финансирования')\n",
    "plt.grid(axis='y', alpha=0.75)\n",
    "\n",
    "plt.show()"
   ]
  },
  {
   "cell_type": "markdown",
   "metadata": {},
   "source": [
    "На основании полученной гистограммы можно сделать следующие вывод:\n",
    "- Гистограмма имеет один пик (унимодальное распределение), это может указывать на то, что большинство значений сосредоточено в определённом диапазоне.\n",
    "- Данные имеют специфическое распределение или диапазон значений, который не позволяет корректно распределить данные по нескольким интервалам.\n",
    "- Большинство значений очень близко друг к другу, гистограмма показывает только один значимый интервал или диапазон значений, который не позволяет корректно распределить данные по нескольким интервалам."
   ]
  },
  {
   "cell_type": "code",
   "execution_count": 84,
   "metadata": {},
   "outputs": [
    {
     "data": {
      "text/plain": [
       "'Распределение данных по значениям столбца funding_total 0 и выше:'"
      ]
     },
     "metadata": {},
     "output_type": "display_data"
    },
    {
     "data": {
      "text/plain": [
       "0.0           12873\n",
       "1000000.0       698\n",
       "500000.0        523\n",
       "100000.0        480\n",
       "2000000.0       455\n",
       "              ...  \n",
       "11653200.0        1\n",
       "1918090.0         1\n",
       "1250200.0         1\n",
       "2101770.0         1\n",
       "3993020.0         1\n",
       "Name: funding_total, Length: 9483, dtype: int64"
      ]
     },
     "execution_count": 84,
     "metadata": {},
     "output_type": "execute_result"
    }
   ],
   "source": [
    "# Проверяем распределение данных по значениям столбца funding_total 0 и выше \n",
    "display('Распределение данных по значениям столбца funding_total 0 и выше:')\n",
    "df_company.loc[df_company['funding_total'] >= 0]['funding_total'].value_counts() "
   ]
  },
  {
   "cell_type": "markdown",
   "metadata": {},
   "source": [
    "Действительно, данных с суммой финансирования 0.0 значительно больше, чем с суммой от 100.000 до 2.000.000, остальные высокие значения представлены в единственном значении, можно отнести к выбросам, например, 11.653.200."
   ]
  },
  {
   "cell_type": "code",
   "execution_count": 85,
   "metadata": {},
   "outputs": [
    {
     "data": {
      "image/png": "[encoded data removed]",
      "text/plain": [
       "<Figure size 1008x576 with 1 Axes>"
      ]
     },
     "metadata": {
      "needs_background": "light"
     },
     "output_type": "display_data"
    }
   ],
   "source": [
    "# Задаём размер графика\n",
    "plt.figure(figsize=(14, 8))\n",
    "\n",
    "# Строим диаграмму размаха значений в столбце funding_total\n",
    "df_company.boxplot(column='funding_total', vert=False)\n",
    "\n",
    "\n",
    "plt.xlim(0, 5000000000)\n",
    "\n",
    "\n",
    "# Добавляем заголовок и метки оси\n",
    "plt.title('Распределение значений суммы финансирования')\n",
    "plt.xlabel('Сумма финансирования')\n",
    "\n",
    "# Выводим график\n",
    "plt.show() "
   ]
  },
  {
   "cell_type": "markdown",
   "metadata": {},
   "source": [
    "На диаграмме видны только выбросы и почти не видно «ящик» и «усы». Основные вывод на основании диаграммы размаха:\n",
    "- Слишком большой разброс данных: данные имеют очень большой разброс или содержат много выбросов, это может привести к тому, что основной «ящик» становится незаметным из-за масштаба графика.\n",
    "- В столбце funding_total могут содержатся аномальные значения\n",
    "- Наблюдаются большое количество выбросов\n",
    "- Большинство значнеий сосредоточены в значении 0\n",
    "- К выбросам можно отнести значения свыше 1.400.000.\n",
    "\n",
    "Чтобы лучше понять причину проблемы проверим описательные статистики для столбца funding_total."
   ]
  },
  {
   "cell_type": "code",
   "execution_count": 86,
   "metadata": {
    "id": "8jm75fKXrJg2",
    "vscode": {
     "languageId": "plaintext"
    }
   },
   "outputs": [
    {
     "data": {
      "text/plain": [
       "count    4.074700e+04\n",
       "mean     1.013561e+07\n",
       "std      5.646436e+07\n",
       "min      0.000000e+00\n",
       "25%      0.000000e+00\n",
       "50%      6.000000e+05\n",
       "75%      5.650650e+06\n",
       "max      5.700000e+09\n",
       "Name: funding_total, dtype: float64"
      ]
     },
     "execution_count": 86,
     "metadata": {},
     "output_type": "execute_result"
    }
   ],
   "source": [
    "df_company['funding_total'].describe()"
   ]
  },
  {
   "cell_type": "markdown",
   "metadata": {
    "id": "S1jrfr7rFhcw"
   },
   "source": [
    "На основании предоставленной описательной статистики можно сделать следующие выводы:\n",
    "- Общее количество значений (count): в наборе данных 40.747 записей.\n",
    "- Среднее значение (mean): среднее значение суммы финансирования составляет примерно 10.135.610. Это может дать представление о типичной сумме финансирования в вашем наборе данных.\n",
    "- Стандартное отклонение (std): стандартное отклонение очень велико (564.643.600), что указывает на большой разброс значений относительно среднего.\n",
    "- Минимальное значение (min): минимальная сумма финансирования равна 0, а максимальное значение (max): максимальная сумма финансирования составляет 5.700.000.000.\n",
    "\n",
    "Квартили: \n",
    "- 25-й процентиль (Q1) равен 0, что означает, что 25% значений находятся ниже этого уровня.\n",
    "- Медиана равна 600,000, что указывает на то, что половина значений находится ниже этого уровня, а половина — выше.\n",
    "- 75-й процентиль равен 5.650.650, что означает, что 75% значений находятся ниже этого уровня.\n",
    "\n",
    "Данные показывают, что распределение сумм финансирования сильно скошено вправо, с большим количеством малых значений и несколькими очень большими значениями, которые значительно увеличивают среднее значение и стандартное отклонение."
   ]
  },
  {
   "cell_type": "markdown",
   "metadata": {
    "id": "JqkRAQrIrJg2"
   },
   "source": [
    "\n",
    "### 3.3. Продажи за ноль\n",
    "\n",
    "Рассчитаем аналитически верхнюю и нижнюю границу выбросов для столбца `funding_total` и каким процентилям границы соответствуют."
   ]
  },
  {
   "cell_type": "markdown",
   "metadata": {},
   "source": [
    "Для начала объединим датасеты `df_company` и `acq_df`, который содержит информацию о сумме сделки."
   ]
  },
  {
   "cell_type": "code",
   "execution_count": 87,
   "metadata": {},
   "outputs": [
    {
     "data": {
      "text/html": [
       "<div>\n",
       "<style scoped>\n",
       "    .dataframe tbody tr th:only-of-type {\n",
       "        vertical-align: middle;\n",
       "    }\n",
       "\n",
       "    .dataframe tbody tr th {\n",
       "        vertical-align: top;\n",
       "    }\n",
       "\n",
       "    .dataframe thead th {\n",
       "        text-align: right;\n",
       "    }\n",
       "</style>\n",
       "<table border=\"1\" class=\"dataframe\">\n",
       "  <thead>\n",
       "    <tr style=\"text-align: right;\">\n",
       "      <th></th>\n",
       "      <th>id_x</th>\n",
       "      <th>name</th>\n",
       "      <th>category_code</th>\n",
       "      <th>status</th>\n",
       "      <th>founded_at</th>\n",
       "      <th>closed_at</th>\n",
       "      <th>domain</th>\n",
       "      <th>network_username</th>\n",
       "      <th>country_code</th>\n",
       "      <th>investment_rounds</th>\n",
       "      <th>funding_rounds</th>\n",
       "      <th>funding_total</th>\n",
       "      <th>milestones</th>\n",
       "      <th>id_y</th>\n",
       "      <th>acquiring_company_id</th>\n",
       "      <th>acquired_company_id</th>\n",
       "      <th>term_code</th>\n",
       "      <th>price_amount</th>\n",
       "      <th>acquired_at</th>\n",
       "    </tr>\n",
       "  </thead>\n",
       "  <tbody>\n",
       "    <tr>\n",
       "      <th>0</th>\n",
       "      <td>1.0</td>\n",
       "      <td>wetpaint</td>\n",
       "      <td>web</td>\n",
       "      <td>operating</td>\n",
       "      <td>2005-10-17</td>\n",
       "      <td>NaT</td>\n",
       "      <td>wetpaint-inc.com</td>\n",
       "      <td>BachelrWetpaint</td>\n",
       "      <td>USA</td>\n",
       "      <td>0.0</td>\n",
       "      <td>3.0</td>\n",
       "      <td>39750000.0</td>\n",
       "      <td>5.0</td>\n",
       "      <td>NaN</td>\n",
       "      <td>NaN</td>\n",
       "      <td>NaN</td>\n",
       "      <td>NaN</td>\n",
       "      <td>NaN</td>\n",
       "      <td>NaT</td>\n",
       "    </tr>\n",
       "    <tr>\n",
       "      <th>1</th>\n",
       "      <td>10.0</td>\n",
       "      <td>flektor</td>\n",
       "      <td>games_video</td>\n",
       "      <td>acquired</td>\n",
       "      <td>NaT</td>\n",
       "      <td>NaT</td>\n",
       "      <td>flektor.com</td>\n",
       "      <td>NaN</td>\n",
       "      <td>USA</td>\n",
       "      <td>0.0</td>\n",
       "      <td>0.0</td>\n",
       "      <td>0.0</td>\n",
       "      <td>0.0</td>\n",
       "      <td>1</td>\n",
       "      <td>11</td>\n",
       "      <td>10</td>\n",
       "      <td>NaN</td>\n",
       "      <td>20000000.0</td>\n",
       "      <td>2007-05-30</td>\n",
       "    </tr>\n",
       "    <tr>\n",
       "      <th>2</th>\n",
       "      <td>100.0</td>\n",
       "      <td>there</td>\n",
       "      <td>games_video</td>\n",
       "      <td>acquired</td>\n",
       "      <td>NaT</td>\n",
       "      <td>NaT</td>\n",
       "      <td>there.com</td>\n",
       "      <td>NaN</td>\n",
       "      <td>USA</td>\n",
       "      <td>0.0</td>\n",
       "      <td>0.0</td>\n",
       "      <td>0.0</td>\n",
       "      <td>4.0</td>\n",
       "      <td>20</td>\n",
       "      <td>377</td>\n",
       "      <td>100</td>\n",
       "      <td>cash</td>\n",
       "      <td>0.0</td>\n",
       "      <td>2005-05-29</td>\n",
       "    </tr>\n",
       "    <tr>\n",
       "      <th>3</th>\n",
       "      <td>1001.0</td>\n",
       "      <td>friendfeed</td>\n",
       "      <td>web</td>\n",
       "      <td>acquired</td>\n",
       "      <td>2007-10-01</td>\n",
       "      <td>NaT</td>\n",
       "      <td>friendfeed.com</td>\n",
       "      <td>friendfeed</td>\n",
       "      <td>USA</td>\n",
       "      <td>0.0</td>\n",
       "      <td>1.0</td>\n",
       "      <td>5000000.0</td>\n",
       "      <td>3.0</td>\n",
       "      <td>1901</td>\n",
       "      <td>5</td>\n",
       "      <td>1001</td>\n",
       "      <td>cash_and_stock</td>\n",
       "      <td>47500000.0</td>\n",
       "      <td>2009-08-10</td>\n",
       "    </tr>\n",
       "    <tr>\n",
       "      <th>4</th>\n",
       "      <td>10014.0</td>\n",
       "      <td>mobclix</td>\n",
       "      <td>mobile</td>\n",
       "      <td>acquired</td>\n",
       "      <td>2008-03-01</td>\n",
       "      <td>NaT</td>\n",
       "      <td>mobclix.com</td>\n",
       "      <td>mobclix</td>\n",
       "      <td>USA</td>\n",
       "      <td>0.0</td>\n",
       "      <td>1.0</td>\n",
       "      <td>0.0</td>\n",
       "      <td>4.0</td>\n",
       "      <td>3878</td>\n",
       "      <td>23054</td>\n",
       "      <td>10014</td>\n",
       "      <td>NaN</td>\n",
       "      <td>0.0</td>\n",
       "      <td>2010-09-30</td>\n",
       "    </tr>\n",
       "  </tbody>\n",
       "</table>\n",
       "</div>"
      ],
      "text/plain": [
       "      id_x        name category_code     status founded_at closed_at  \\\n",
       "0      1.0    wetpaint           web  operating 2005-10-17       NaT   \n",
       "1     10.0     flektor   games_video   acquired        NaT       NaT   \n",
       "2    100.0       there   games_video   acquired        NaT       NaT   \n",
       "3   1001.0  friendfeed           web   acquired 2007-10-01       NaT   \n",
       "4  10014.0     mobclix        mobile   acquired 2008-03-01       NaT   \n",
       "\n",
       "             domain network_username country_code  investment_rounds  \\\n",
       "0  wetpaint-inc.com  BachelrWetpaint          USA                0.0   \n",
       "1       flektor.com              NaN          USA                0.0   \n",
       "2         there.com              NaN          USA                0.0   \n",
       "3    friendfeed.com       friendfeed          USA                0.0   \n",
       "4       mobclix.com          mobclix          USA                0.0   \n",
       "\n",
       "   funding_rounds  funding_total  milestones  id_y acquiring_company_id  \\\n",
       "0             3.0     39750000.0         5.0   NaN                  NaN   \n",
       "1             0.0            0.0         0.0     1                   11   \n",
       "2             0.0            0.0         4.0    20                  377   \n",
       "3             1.0      5000000.0         3.0  1901                    5   \n",
       "4             1.0            0.0         4.0  3878                23054   \n",
       "\n",
       "  acquired_company_id       term_code  price_amount acquired_at  \n",
       "0                 NaN             NaN           NaN         NaT  \n",
       "1                  10             NaN    20000000.0  2007-05-30  \n",
       "2                 100            cash           0.0  2005-05-29  \n",
       "3                1001  cash_and_stock    47500000.0  2009-08-10  \n",
       "4               10014             NaN           0.0  2010-09-30  "
      ]
     },
     "metadata": {},
     "output_type": "display_data"
    }
   ],
   "source": [
    "# Объединяем датасеты через left\n",
    "df_company_acq = pd.merge(df_company, acq_df, left_on='id', right_on='acquired_company_id', how='left')\n",
    "\n",
    "display(df_company_acq.head())"
   ]
  },
  {
   "cell_type": "code",
   "execution_count": 88,
   "metadata": {
    "id": "wJHXCBwwrJg2",
    "vscode": {
     "languageId": "plaintext"
    }
   },
   "outputs": [
    {
     "data": {
      "text/html": [
       "<div>\n",
       "<style scoped>\n",
       "    .dataframe tbody tr th:only-of-type {\n",
       "        vertical-align: middle;\n",
       "    }\n",
       "\n",
       "    .dataframe tbody tr th {\n",
       "        vertical-align: top;\n",
       "    }\n",
       "\n",
       "    .dataframe thead th {\n",
       "        text-align: right;\n",
       "    }\n",
       "</style>\n",
       "<table border=\"1\" class=\"dataframe\">\n",
       "  <thead>\n",
       "    <tr style=\"text-align: right;\">\n",
       "      <th></th>\n",
       "      <th>id_x</th>\n",
       "      <th>name</th>\n",
       "      <th>category_code</th>\n",
       "      <th>status</th>\n",
       "      <th>founded_at</th>\n",
       "      <th>closed_at</th>\n",
       "      <th>domain</th>\n",
       "      <th>network_username</th>\n",
       "      <th>country_code</th>\n",
       "      <th>investment_rounds</th>\n",
       "      <th>funding_rounds</th>\n",
       "      <th>funding_total</th>\n",
       "      <th>milestones</th>\n",
       "      <th>id_y</th>\n",
       "      <th>acquiring_company_id</th>\n",
       "      <th>acquired_company_id</th>\n",
       "      <th>term_code</th>\n",
       "      <th>price_amount</th>\n",
       "      <th>acquired_at</th>\n",
       "    </tr>\n",
       "  </thead>\n",
       "  <tbody>\n",
       "    <tr>\n",
       "      <th>25</th>\n",
       "      <td>10054.0</td>\n",
       "      <td>jumptap</td>\n",
       "      <td>mobile</td>\n",
       "      <td>acquired</td>\n",
       "      <td>2005-01-01</td>\n",
       "      <td>NaT</td>\n",
       "      <td>jumptap.com</td>\n",
       "      <td>jumptap</td>\n",
       "      <td>USA</td>\n",
       "      <td>0.0</td>\n",
       "      <td>7.0</td>\n",
       "      <td>121500000.0</td>\n",
       "      <td>3.0</td>\n",
       "      <td>9288</td>\n",
       "      <td>23283</td>\n",
       "      <td>10054</td>\n",
       "      <td>cash_and_stock</td>\n",
       "      <td>0.0</td>\n",
       "      <td>2013-08-13</td>\n",
       "    </tr>\n",
       "    <tr>\n",
       "      <th>63</th>\n",
       "      <td>101312.0</td>\n",
       "      <td>sidetour</td>\n",
       "      <td>web</td>\n",
       "      <td>acquired</td>\n",
       "      <td>2011-06-01</td>\n",
       "      <td>NaT</td>\n",
       "      <td>sidetour.com</td>\n",
       "      <td>sidetour</td>\n",
       "      <td>USA</td>\n",
       "      <td>0.0</td>\n",
       "      <td>3.0</td>\n",
       "      <td>4000000.0</td>\n",
       "      <td>2.0</td>\n",
       "      <td>9653</td>\n",
       "      <td>11391</td>\n",
       "      <td>101312</td>\n",
       "      <td>NaN</td>\n",
       "      <td>0.0</td>\n",
       "      <td>2013-09-18</td>\n",
       "    </tr>\n",
       "    <tr>\n",
       "      <th>66</th>\n",
       "      <td>101340.0</td>\n",
       "      <td>choicepass</td>\n",
       "      <td>enterprise</td>\n",
       "      <td>acquired</td>\n",
       "      <td>2011-07-01</td>\n",
       "      <td>NaT</td>\n",
       "      <td>choicepass.com</td>\n",
       "      <td>choicepass</td>\n",
       "      <td>USA</td>\n",
       "      <td>0.0</td>\n",
       "      <td>1.0</td>\n",
       "      <td>250000.0</td>\n",
       "      <td>1.0</td>\n",
       "      <td>7272</td>\n",
       "      <td>1972</td>\n",
       "      <td>101340</td>\n",
       "      <td>NaN</td>\n",
       "      <td>0.0</td>\n",
       "      <td>2012-06-18</td>\n",
       "    </tr>\n",
       "    <tr>\n",
       "      <th>67</th>\n",
       "      <td>10137.0</td>\n",
       "      <td>producteev</td>\n",
       "      <td>software</td>\n",
       "      <td>acquired</td>\n",
       "      <td>2008-07-08</td>\n",
       "      <td>NaT</td>\n",
       "      <td>producteev.com</td>\n",
       "      <td>producteev</td>\n",
       "      <td>USA</td>\n",
       "      <td>0.0</td>\n",
       "      <td>3.0</td>\n",
       "      <td>1310000.0</td>\n",
       "      <td>2.0</td>\n",
       "      <td>8254</td>\n",
       "      <td>757</td>\n",
       "      <td>10137</td>\n",
       "      <td>cash_and_stock</td>\n",
       "      <td>0.0</td>\n",
       "      <td>2012-11-05</td>\n",
       "    </tr>\n",
       "    <tr>\n",
       "      <th>68</th>\n",
       "      <td>10139.0</td>\n",
       "      <td>tradecard</td>\n",
       "      <td>enterprise</td>\n",
       "      <td>acquired</td>\n",
       "      <td>1999-01-01</td>\n",
       "      <td>NaT</td>\n",
       "      <td>tradecard.com</td>\n",
       "      <td>TradeCard</td>\n",
       "      <td>USA</td>\n",
       "      <td>0.0</td>\n",
       "      <td>2.0</td>\n",
       "      <td>44925000.0</td>\n",
       "      <td>1.0</td>\n",
       "      <td>9326</td>\n",
       "      <td>44008</td>\n",
       "      <td>10139</td>\n",
       "      <td>NaN</td>\n",
       "      <td>0.0</td>\n",
       "      <td>2013-04-01</td>\n",
       "    </tr>\n",
       "  </tbody>\n",
       "</table>\n",
       "</div>"
      ],
      "text/plain": [
       "        id_x        name category_code    status founded_at closed_at  \\\n",
       "25   10054.0     jumptap        mobile  acquired 2005-01-01       NaT   \n",
       "63  101312.0    sidetour           web  acquired 2011-06-01       NaT   \n",
       "66  101340.0  choicepass    enterprise  acquired 2011-07-01       NaT   \n",
       "67   10137.0  producteev      software  acquired 2008-07-08       NaT   \n",
       "68   10139.0   tradecard    enterprise  acquired 1999-01-01       NaT   \n",
       "\n",
       "            domain network_username country_code  investment_rounds  \\\n",
       "25     jumptap.com          jumptap          USA                0.0   \n",
       "63    sidetour.com         sidetour          USA                0.0   \n",
       "66  choicepass.com       choicepass          USA                0.0   \n",
       "67  producteev.com       producteev          USA                0.0   \n",
       "68   tradecard.com        TradeCard          USA                0.0   \n",
       "\n",
       "    funding_rounds  funding_total  milestones  id_y acquiring_company_id  \\\n",
       "25             7.0    121500000.0         3.0  9288                23283   \n",
       "63             3.0      4000000.0         2.0  9653                11391   \n",
       "66             1.0       250000.0         1.0  7272                 1972   \n",
       "67             3.0      1310000.0         2.0  8254                  757   \n",
       "68             2.0     44925000.0         1.0  9326                44008   \n",
       "\n",
       "   acquired_company_id       term_code  price_amount acquired_at  \n",
       "25               10054  cash_and_stock           0.0  2013-08-13  \n",
       "63              101312             NaN           0.0  2013-09-18  \n",
       "66              101340             NaN           0.0  2012-06-18  \n",
       "67               10137  cash_and_stock           0.0  2012-11-05  \n",
       "68               10139             NaN           0.0  2013-04-01  "
      ]
     },
     "metadata": {},
     "output_type": "display_data"
    }
   ],
   "source": [
    "# Фильтруем объединённый датасет df_company_acq и оставляем сумму сделки за 0 и 1 доллар\n",
    "# Добавляем условие, что funding_total должен быть больше нуля\n",
    "filtered_df = df_company_acq[(df_company_acq['price_amount'] >= 0) & (df_company_acq['price_amount'] <= 1) & (df_company_acq['funding_total'] > 0)]\n",
    "\n",
    "display(filtered_df.head())"
   ]
  },
  {
   "cell_type": "code",
   "execution_count": 89,
   "metadata": {},
   "outputs": [
    {
     "data": {
      "text/plain": [
       "name\n",
       "clearwire              5.700000e+09\n",
       "fanatics               7.900000e+08\n",
       "horizon wind energy    3.180000e+08\n",
       "liberty dialysis       3.149600e+08\n",
       "retailmenot, inc.      2.995000e+08\n",
       "                           ...     \n",
       "statsmix               1.200000e+04\n",
       "divvyshot              1.000000e+04\n",
       "open source food       1.000000e+04\n",
       "gasbuddy               4.000000e+03\n",
       "carefx                 3.750000e+03\n",
       "Name: funding_total, Length: 1593, dtype: float64"
      ]
     },
     "metadata": {},
     "output_type": "display_data"
    }
   ],
   "source": [
    "# Считаем сумму финансирования для каждой категории стартапа, купленные за 0 и 1 доллар с ненулевым общем объемом финансирования\n",
    "groupby_sum = filtered_df.groupby('name')['funding_total'].sum().sort_values(ascending=False)\n",
    "\n",
    "display(groupby_sum)"
   ]
  },
  {
   "cell_type": "markdown",
   "metadata": {},
   "source": [
    "Рассчитаем аналитически верхнюю и нижнюю границу выбросов для столбца `funding_total`."
   ]
  },
  {
   "cell_type": "code",
   "execution_count": 90,
   "metadata": {},
   "outputs": [
    {
     "data": {
      "text/plain": [
       "'Нижняя граница выбросов: -18250000.0'"
      ]
     },
     "metadata": {},
     "output_type": "display_data"
    },
    {
     "data": {
      "text/plain": [
       "'Верхняя граница выбросов: 35750000.0'"
      ]
     },
     "metadata": {},
     "output_type": "display_data"
    }
   ],
   "source": [
    "# Вычисляем первый (Q1) и третий (Q3) квартили\n",
    "Q1 = filtered_df['funding_total'].quantile(0.25)\n",
    "Q3 = filtered_df['funding_total'].quantile(0.75)\n",
    "\n",
    "# Рассчитываем IQR\n",
    "IQR = Q3 - Q1\n",
    "\n",
    "# Определяем границы выбросов\n",
    "lower = Q1 - 1.5 * IQR\n",
    "upper = Q3 + 1.5 * IQR\n",
    "\n",
    "display(f'Нижняя граница выбросов: {lower}')\n",
    "display(f'Верхняя граница выбросов: {upper}')"
   ]
  },
  {
   "cell_type": "markdown",
   "metadata": {},
   "source": [
    "На основании полученных данных о границах выбросов можно сделать следующие выводы:\n",
    "\n",
    "- Нижняя граница выбросов (-18,25 млн) показывает минимальное значение, которое можно считать выбросом в сторону меньших значений финансирования. Так как сумма финансирования не может быть отрицательной, это значение вероятно  указывает на особенности распределения данных или наличие аномалий в наборе данных, которые были обнаружены раннее.\n",
    "- Верхняя граница выбросов (35,75 млн) определяет максимальное значение финансирования, после которого значения считаются выбросами в сторону больших значений. Это может помочь идентифицировать компании с необычно высоким уровнем финансирования по сравнению с остальными.\n",
    "\n",
    "Дополнительно можно проанализировать есть ли у этих компаний какие-то общие характеристики или особенности, которые объясняют такие высокие или низкие значения финансирования."
   ]
  },
  {
   "cell_type": "markdown",
   "metadata": {
    "id": "mEiWpROjrJg2"
   },
   "source": [
    "\n",
    "### 3.4. Цены стартапов по категориям\n",
    "\n",
    "Категории стартапов с типично высокими ценами покупки стартапов и значительным разбросом цен могут быть привлекательными для крупных инвесторов, которые готовы к высоким рискам ради потенциально больших доходов. Среди категорий стартапов выделите категории стартапов, характеризующиеся:\n",
    "\n",
    "- типично высокими ценами;\n",
    "- и наибольшим разбросом цен за стартап."
   ]
  },
  {
   "cell_type": "markdown",
   "metadata": {},
   "source": [
    "Чтобы выделить категории стартапов с типично высокими ценами и наибольшим разбросом цен, можно проанализировать данные о ценах покупки стартапов в каждой категории `category code`: \n",
    "\n",
    "1. Анализ средних цен по категориям: рассчитаем среднюю цену покупки для каждой категории стартапов. Это поможет выявить категории с типично высокими ценами.\n",
    "2. Анализ разброса цен: рассчитайем стандартное отклонение для каждой категории, которое покажет, в каких категориях наблюдается наибольший разброс цен."
   ]
  },
  {
   "cell_type": "markdown",
   "metadata": {},
   "source": [
    "Нулевые значения не исключаем, так как они важны для исследования и интерпретации результатов."
   ]
  },
  {
   "cell_type": "code",
   "execution_count": 91,
   "metadata": {},
   "outputs": [
    {
     "data": {
      "text/html": [
       "<div>\n",
       "<style scoped>\n",
       "    .dataframe tbody tr th:only-of-type {\n",
       "        vertical-align: middle;\n",
       "    }\n",
       "\n",
       "    .dataframe tbody tr th {\n",
       "        vertical-align: top;\n",
       "    }\n",
       "\n",
       "    .dataframe thead th {\n",
       "        text-align: right;\n",
       "    }\n",
       "</style>\n",
       "<table border=\"1\" class=\"dataframe\">\n",
       "  <thead>\n",
       "    <tr style=\"text-align: right;\">\n",
       "      <th></th>\n",
       "      <th>category_code</th>\n",
       "      <th>median</th>\n",
       "      <th>std</th>\n",
       "    </tr>\n",
       "  </thead>\n",
       "  <tbody>\n",
       "    <tr>\n",
       "      <th>0</th>\n",
       "      <td>advertising</td>\n",
       "      <td>1000000.0</td>\n",
       "      <td>2.125720e+07</td>\n",
       "    </tr>\n",
       "    <tr>\n",
       "      <th>1</th>\n",
       "      <td>analytics</td>\n",
       "      <td>2000000.0</td>\n",
       "      <td>2.893465e+07</td>\n",
       "    </tr>\n",
       "    <tr>\n",
       "      <th>2</th>\n",
       "      <td>automotive</td>\n",
       "      <td>1300000.0</td>\n",
       "      <td>1.832047e+08</td>\n",
       "    </tr>\n",
       "    <tr>\n",
       "      <th>3</th>\n",
       "      <td>biotech</td>\n",
       "      <td>4000000.0</td>\n",
       "      <td>5.465791e+07</td>\n",
       "    </tr>\n",
       "    <tr>\n",
       "      <th>4</th>\n",
       "      <td>cleantech</td>\n",
       "      <td>6000000.0</td>\n",
       "      <td>9.215550e+07</td>\n",
       "    </tr>\n",
       "    <tr>\n",
       "      <th>5</th>\n",
       "      <td>consulting</td>\n",
       "      <td>50000.0</td>\n",
       "      <td>1.375791e+07</td>\n",
       "    </tr>\n",
       "    <tr>\n",
       "      <th>6</th>\n",
       "      <td>design</td>\n",
       "      <td>322745.0</td>\n",
       "      <td>8.862027e+06</td>\n",
       "    </tr>\n",
       "    <tr>\n",
       "      <th>7</th>\n",
       "      <td>ecommerce</td>\n",
       "      <td>486000.0</td>\n",
       "      <td>4.757703e+07</td>\n",
       "    </tr>\n",
       "    <tr>\n",
       "      <th>8</th>\n",
       "      <td>education</td>\n",
       "      <td>570000.0</td>\n",
       "      <td>3.660939e+07</td>\n",
       "    </tr>\n",
       "    <tr>\n",
       "      <th>9</th>\n",
       "      <td>enterprise</td>\n",
       "      <td>1617100.0</td>\n",
       "      <td>3.662222e+07</td>\n",
       "    </tr>\n",
       "    <tr>\n",
       "      <th>10</th>\n",
       "      <td>fashion</td>\n",
       "      <td>1200000.0</td>\n",
       "      <td>3.968917e+07</td>\n",
       "    </tr>\n",
       "    <tr>\n",
       "      <th>11</th>\n",
       "      <td>finance</td>\n",
       "      <td>1350000.0</td>\n",
       "      <td>3.594626e+07</td>\n",
       "    </tr>\n",
       "    <tr>\n",
       "      <th>12</th>\n",
       "      <td>games_video</td>\n",
       "      <td>503000.0</td>\n",
       "      <td>4.239264e+07</td>\n",
       "    </tr>\n",
       "    <tr>\n",
       "      <th>13</th>\n",
       "      <td>government</td>\n",
       "      <td>15000.0</td>\n",
       "      <td>4.865810e+07</td>\n",
       "    </tr>\n",
       "    <tr>\n",
       "      <th>14</th>\n",
       "      <td>hardware</td>\n",
       "      <td>1408400.0</td>\n",
       "      <td>5.078738e+07</td>\n",
       "    </tr>\n",
       "    <tr>\n",
       "      <th>15</th>\n",
       "      <td>health</td>\n",
       "      <td>1000000.0</td>\n",
       "      <td>1.050341e+08</td>\n",
       "    </tr>\n",
       "    <tr>\n",
       "      <th>16</th>\n",
       "      <td>hospitality</td>\n",
       "      <td>728007.0</td>\n",
       "      <td>3.659653e+07</td>\n",
       "    </tr>\n",
       "    <tr>\n",
       "      <th>17</th>\n",
       "      <td>legal</td>\n",
       "      <td>770000.0</td>\n",
       "      <td>1.176535e+07</td>\n",
       "    </tr>\n",
       "    <tr>\n",
       "      <th>18</th>\n",
       "      <td>local</td>\n",
       "      <td>268333.0</td>\n",
       "      <td>2.296641e+07</td>\n",
       "    </tr>\n",
       "    <tr>\n",
       "      <th>19</th>\n",
       "      <td>manufacturing</td>\n",
       "      <td>1895040.0</td>\n",
       "      <td>9.304530e+07</td>\n",
       "    </tr>\n",
       "    <tr>\n",
       "      <th>20</th>\n",
       "      <td>medical</td>\n",
       "      <td>5400000.0</td>\n",
       "      <td>3.354983e+07</td>\n",
       "    </tr>\n",
       "    <tr>\n",
       "      <th>21</th>\n",
       "      <td>messaging</td>\n",
       "      <td>727250.0</td>\n",
       "      <td>2.735327e+07</td>\n",
       "    </tr>\n",
       "    <tr>\n",
       "      <th>22</th>\n",
       "      <td>mobile</td>\n",
       "      <td>800000.0</td>\n",
       "      <td>1.459792e+08</td>\n",
       "    </tr>\n",
       "    <tr>\n",
       "      <th>23</th>\n",
       "      <td>music</td>\n",
       "      <td>650000.0</td>\n",
       "      <td>4.348189e+07</td>\n",
       "    </tr>\n",
       "    <tr>\n",
       "      <th>24</th>\n",
       "      <td>nanotech</td>\n",
       "      <td>5115960.0</td>\n",
       "      <td>9.596109e+07</td>\n",
       "    </tr>\n",
       "    <tr>\n",
       "      <th>25</th>\n",
       "      <td>network_hosting</td>\n",
       "      <td>2000000.0</td>\n",
       "      <td>6.288838e+07</td>\n",
       "    </tr>\n",
       "    <tr>\n",
       "      <th>26</th>\n",
       "      <td>news</td>\n",
       "      <td>908014.5</td>\n",
       "      <td>5.054718e+07</td>\n",
       "    </tr>\n",
       "    <tr>\n",
       "      <th>27</th>\n",
       "      <td>nonprofit</td>\n",
       "      <td>715847.0</td>\n",
       "      <td>1.137488e+07</td>\n",
       "    </tr>\n",
       "    <tr>\n",
       "      <th>28</th>\n",
       "      <td>other</td>\n",
       "      <td>1000.0</td>\n",
       "      <td>2.345000e+07</td>\n",
       "    </tr>\n",
       "    <tr>\n",
       "      <th>29</th>\n",
       "      <td>pets</td>\n",
       "      <td>400000.0</td>\n",
       "      <td>7.134800e+06</td>\n",
       "    </tr>\n",
       "    <tr>\n",
       "      <th>30</th>\n",
       "      <td>photo_video</td>\n",
       "      <td>470071.0</td>\n",
       "      <td>1.373838e+07</td>\n",
       "    </tr>\n",
       "    <tr>\n",
       "      <th>31</th>\n",
       "      <td>public_relations</td>\n",
       "      <td>450000.0</td>\n",
       "      <td>5.840271e+07</td>\n",
       "    </tr>\n",
       "    <tr>\n",
       "      <th>32</th>\n",
       "      <td>real_estate</td>\n",
       "      <td>605000.0</td>\n",
       "      <td>4.385250e+07</td>\n",
       "    </tr>\n",
       "    <tr>\n",
       "      <th>33</th>\n",
       "      <td>search</td>\n",
       "      <td>681350.0</td>\n",
       "      <td>3.255413e+07</td>\n",
       "    </tr>\n",
       "    <tr>\n",
       "      <th>34</th>\n",
       "      <td>security</td>\n",
       "      <td>2024640.0</td>\n",
       "      <td>4.497966e+07</td>\n",
       "    </tr>\n",
       "    <tr>\n",
       "      <th>35</th>\n",
       "      <td>semiconductor</td>\n",
       "      <td>8100000.0</td>\n",
       "      <td>3.992461e+07</td>\n",
       "    </tr>\n",
       "    <tr>\n",
       "      <th>36</th>\n",
       "      <td>social</td>\n",
       "      <td>355000.0</td>\n",
       "      <td>1.114758e+08</td>\n",
       "    </tr>\n",
       "    <tr>\n",
       "      <th>37</th>\n",
       "      <td>software</td>\n",
       "      <td>1000000.0</td>\n",
       "      <td>2.382372e+07</td>\n",
       "    </tr>\n",
       "    <tr>\n",
       "      <th>38</th>\n",
       "      <td>sports</td>\n",
       "      <td>330000.0</td>\n",
       "      <td>5.359102e+06</td>\n",
       "    </tr>\n",
       "    <tr>\n",
       "      <th>39</th>\n",
       "      <td>transportation</td>\n",
       "      <td>1100000.0</td>\n",
       "      <td>5.372778e+07</td>\n",
       "    </tr>\n",
       "    <tr>\n",
       "      <th>40</th>\n",
       "      <td>travel</td>\n",
       "      <td>605750.0</td>\n",
       "      <td>4.806784e+07</td>\n",
       "    </tr>\n",
       "    <tr>\n",
       "      <th>41</th>\n",
       "      <td>web</td>\n",
       "      <td>210000.0</td>\n",
       "      <td>3.343890e+07</td>\n",
       "    </tr>\n",
       "  </tbody>\n",
       "</table>\n",
       "</div>"
      ],
      "text/plain": [
       "       category_code     median           std\n",
       "0        advertising  1000000.0  2.125720e+07\n",
       "1          analytics  2000000.0  2.893465e+07\n",
       "2         automotive  1300000.0  1.832047e+08\n",
       "3            biotech  4000000.0  5.465791e+07\n",
       "4          cleantech  6000000.0  9.215550e+07\n",
       "5         consulting    50000.0  1.375791e+07\n",
       "6             design   322745.0  8.862027e+06\n",
       "7          ecommerce   486000.0  4.757703e+07\n",
       "8          education   570000.0  3.660939e+07\n",
       "9         enterprise  1617100.0  3.662222e+07\n",
       "10           fashion  1200000.0  3.968917e+07\n",
       "11           finance  1350000.0  3.594626e+07\n",
       "12       games_video   503000.0  4.239264e+07\n",
       "13        government    15000.0  4.865810e+07\n",
       "14          hardware  1408400.0  5.078738e+07\n",
       "15            health  1000000.0  1.050341e+08\n",
       "16       hospitality   728007.0  3.659653e+07\n",
       "17             legal   770000.0  1.176535e+07\n",
       "18             local   268333.0  2.296641e+07\n",
       "19     manufacturing  1895040.0  9.304530e+07\n",
       "20           medical  5400000.0  3.354983e+07\n",
       "21         messaging   727250.0  2.735327e+07\n",
       "22            mobile   800000.0  1.459792e+08\n",
       "23             music   650000.0  4.348189e+07\n",
       "24          nanotech  5115960.0  9.596109e+07\n",
       "25   network_hosting  2000000.0  6.288838e+07\n",
       "26              news   908014.5  5.054718e+07\n",
       "27         nonprofit   715847.0  1.137488e+07\n",
       "28             other     1000.0  2.345000e+07\n",
       "29              pets   400000.0  7.134800e+06\n",
       "30       photo_video   470071.0  1.373838e+07\n",
       "31  public_relations   450000.0  5.840271e+07\n",
       "32       real_estate   605000.0  4.385250e+07\n",
       "33            search   681350.0  3.255413e+07\n",
       "34          security  2024640.0  4.497966e+07\n",
       "35     semiconductor  8100000.0  3.992461e+07\n",
       "36            social   355000.0  1.114758e+08\n",
       "37          software  1000000.0  2.382372e+07\n",
       "38            sports   330000.0  5.359102e+06\n",
       "39    transportation  1100000.0  5.372778e+07\n",
       "40            travel   605750.0  4.806784e+07\n",
       "41               web   210000.0  3.343890e+07"
      ]
     },
     "metadata": {},
     "output_type": "display_data"
    }
   ],
   "source": [
    "# Проанализируем средние цены и стандартное отлокнение по категориям\n",
    "grouped = df_company.groupby('category_code')['funding_total'].agg(['median', 'std']).reset_index()\n",
    "\n",
    "display(grouped)"
   ]
  },
  {
   "cell_type": "markdown",
   "metadata": {},
   "source": [
    "На основе представленных данных можно сделать следующие выводы:\n",
    "1. Высокие медианы финансирования:\n",
    "- В категории `semiconductor` средняя сумма финансирования составляет 8,1 млн, что является одним из самых высоких показателей.\n",
    "- `cleantech` также демонстрирует высокий уровень финансирования — 6 млн.\n",
    "2. Высокий уровень стандартного отклонения:\n",
    "- В категории `automotive` (183,2 млн), что может указывать на значительные различия между стартапами в этом категории.\n",
    "- Также высокое значение наблюдается `nanotech` и `manufacturing`, что говорит о разнообразии стартапов и их финансирования.\n",
    "3. Низкие медианы и стандартные отклонения:\n",
    "- Наиболее низкие средние суммы финансирования наблюдаются в секторах `transportation` (1,1 млн) и `fashion` (1,2 млн). Возможно связано с наименьшим количеством стартапов в данной области или ограниченными возможностями для привлечения средств."
   ]
  },
  {
   "cell_type": "code",
   "execution_count": 92,
   "metadata": {},
   "outputs": [
    {
     "data": {
      "text/html": [
       "<div>\n",
       "<style scoped>\n",
       "    .dataframe tbody tr th:only-of-type {\n",
       "        vertical-align: middle;\n",
       "    }\n",
       "\n",
       "    .dataframe tbody tr th {\n",
       "        vertical-align: top;\n",
       "    }\n",
       "\n",
       "    .dataframe thead th {\n",
       "        text-align: right;\n",
       "    }\n",
       "</style>\n",
       "<table border=\"1\" class=\"dataframe\">\n",
       "  <thead>\n",
       "    <tr style=\"text-align: right;\">\n",
       "      <th></th>\n",
       "      <th>category_code</th>\n",
       "      <th>median</th>\n",
       "      <th>std</th>\n",
       "    </tr>\n",
       "  </thead>\n",
       "  <tbody>\n",
       "    <tr>\n",
       "      <th>35</th>\n",
       "      <td>semiconductor</td>\n",
       "      <td>8100000.0</td>\n",
       "      <td>3.992461e+07</td>\n",
       "    </tr>\n",
       "    <tr>\n",
       "      <th>4</th>\n",
       "      <td>cleantech</td>\n",
       "      <td>6000000.0</td>\n",
       "      <td>9.215550e+07</td>\n",
       "    </tr>\n",
       "    <tr>\n",
       "      <th>20</th>\n",
       "      <td>medical</td>\n",
       "      <td>5400000.0</td>\n",
       "      <td>3.354983e+07</td>\n",
       "    </tr>\n",
       "    <tr>\n",
       "      <th>24</th>\n",
       "      <td>nanotech</td>\n",
       "      <td>5115960.0</td>\n",
       "      <td>9.596109e+07</td>\n",
       "    </tr>\n",
       "    <tr>\n",
       "      <th>3</th>\n",
       "      <td>biotech</td>\n",
       "      <td>4000000.0</td>\n",
       "      <td>5.465791e+07</td>\n",
       "    </tr>\n",
       "    <tr>\n",
       "      <th>34</th>\n",
       "      <td>security</td>\n",
       "      <td>2024640.0</td>\n",
       "      <td>4.497966e+07</td>\n",
       "    </tr>\n",
       "    <tr>\n",
       "      <th>1</th>\n",
       "      <td>analytics</td>\n",
       "      <td>2000000.0</td>\n",
       "      <td>2.893465e+07</td>\n",
       "    </tr>\n",
       "    <tr>\n",
       "      <th>25</th>\n",
       "      <td>network_hosting</td>\n",
       "      <td>2000000.0</td>\n",
       "      <td>6.288838e+07</td>\n",
       "    </tr>\n",
       "    <tr>\n",
       "      <th>19</th>\n",
       "      <td>manufacturing</td>\n",
       "      <td>1895040.0</td>\n",
       "      <td>9.304530e+07</td>\n",
       "    </tr>\n",
       "    <tr>\n",
       "      <th>9</th>\n",
       "      <td>enterprise</td>\n",
       "      <td>1617100.0</td>\n",
       "      <td>3.662222e+07</td>\n",
       "    </tr>\n",
       "    <tr>\n",
       "      <th>14</th>\n",
       "      <td>hardware</td>\n",
       "      <td>1408400.0</td>\n",
       "      <td>5.078738e+07</td>\n",
       "    </tr>\n",
       "    <tr>\n",
       "      <th>11</th>\n",
       "      <td>finance</td>\n",
       "      <td>1350000.0</td>\n",
       "      <td>3.594626e+07</td>\n",
       "    </tr>\n",
       "    <tr>\n",
       "      <th>2</th>\n",
       "      <td>automotive</td>\n",
       "      <td>1300000.0</td>\n",
       "      <td>1.832047e+08</td>\n",
       "    </tr>\n",
       "    <tr>\n",
       "      <th>10</th>\n",
       "      <td>fashion</td>\n",
       "      <td>1200000.0</td>\n",
       "      <td>3.968917e+07</td>\n",
       "    </tr>\n",
       "    <tr>\n",
       "      <th>39</th>\n",
       "      <td>transportation</td>\n",
       "      <td>1100000.0</td>\n",
       "      <td>5.372778e+07</td>\n",
       "    </tr>\n",
       "  </tbody>\n",
       "</table>\n",
       "</div>"
      ],
      "text/plain": [
       "      category_code     median           std\n",
       "35    semiconductor  8100000.0  3.992461e+07\n",
       "4         cleantech  6000000.0  9.215550e+07\n",
       "20          medical  5400000.0  3.354983e+07\n",
       "24         nanotech  5115960.0  9.596109e+07\n",
       "3           biotech  4000000.0  5.465791e+07\n",
       "34         security  2024640.0  4.497966e+07\n",
       "1         analytics  2000000.0  2.893465e+07\n",
       "25  network_hosting  2000000.0  6.288838e+07\n",
       "19    manufacturing  1895040.0  9.304530e+07\n",
       "9        enterprise  1617100.0  3.662222e+07\n",
       "14         hardware  1408400.0  5.078738e+07\n",
       "11          finance  1350000.0  3.594626e+07\n",
       "2        automotive  1300000.0  1.832047e+08\n",
       "10          fashion  1200000.0  3.968917e+07\n",
       "39   transportation  1100000.0  5.372778e+07"
      ]
     },
     "metadata": {},
     "output_type": "display_data"
    }
   ],
   "source": [
    "# Выведем топ 15 категорий стартапов на основании высоких цен и с наибольшим разбросом цен\n",
    "top_15 = grouped.sort_values(by='median', ascending=False).head(15)\n",
    "\n",
    "display(top_15)"
   ]
  },
  {
   "cell_type": "markdown",
   "metadata": {},
   "source": [
    "Отсавим топ-15 именно из такого числа категорий на основании высоких цен, а также покажет, в каких областях стартапы обычно получают больше инвестиций, чтобы получить общее представление о наиболее привлекательных категориях стартапов для инвесторов."
   ]
  },
  {
   "cell_type": "markdown",
   "metadata": {},
   "source": [
    "Виузуализируем полученный топ-15 категорий стартапов по цене."
   ]
  },
  {
   "cell_type": "code",
   "execution_count": 93,
   "metadata": {},
   "outputs": [
    {
     "data": {
      "image/png": "[encoded data removed]",
      "text/plain": [
       "<Figure size 720x432 with 1 Axes>"
      ]
     },
     "metadata": {
      "needs_background": "light"
     },
     "output_type": "display_data"
    }
   ],
   "source": [
    "# Выведем в индекс названия категорий стартапов\n",
    "top_15 = top_15.set_index('category_code')\n",
    "\n",
    "# Задаём размер графика\n",
    "plt.figure(figsize=(10, 6))\n",
    "\n",
    "custom_palette = ['#003845', '#004F5B', '#005F73', '#1A7A90', '#3390AC', '#4DA6C7', '#66BCE3'\n",
    "                  ,'#87D0E6', '#9AD9ED', '#9AD9ED', '#B6E5F7', '#CDF0FF', '#D9F7FF', '#E0F7FF'\n",
    "                  ,'#EAFBFF', '#F3FEFF']\n",
    "\n",
    "sns.barplot(x=top_15.index, y=top_15['median'], palette=custom_palette)\n",
    "\n",
    "# Подписываем и отображаем график\n",
    "plt.title('Топ-15 категорий стартапов по высоким ценам')\n",
    "plt.xlabel('Категория стартапа')\n",
    "plt.ylabel('Типичная цена')\n",
    "\n",
    "plt.xticks(rotation=45)  # Поворачиваем метки по оси X для лучшего отображения\n",
    "\n",
    "\n",
    "plt.show()"
   ]
  },
  {
   "cell_type": "markdown",
   "metadata": {},
   "source": [
    "Таким образом, были выявлены топ-15 категорий стартапов по типично высоким ценам:\n",
    "\n",
    "- Самый высокий показатель у semiconductor (более 8 млн)\n",
    "- cleantech также демонстрирует высокий уровень финансирования (6 млн)\n",
    "- medical и nanotech типично высокая цена составляет более 5,1 млн.\n",
    "\n",
    "Но стоит обратить внимание, что среди данных категорий у `cleantech` и `nanotech` наиболее высокое значение стандратного отклонения, что такие категории наиболее высокорисковые для инвестиций, но в то же время обладают высокой вариативностью (какие-то стоят сильно дороже, какие-то сильно меньше)."
   ]
  },
  {
   "cell_type": "markdown",
   "metadata": {
    "id": "ADOfyVY_rJg3"
   },
   "source": [
    "\n",
    "### 3.5. Сколько раундов продержится стартап перед покупкой\n",
    "\n",
    "- Заказчика интересует типичное значение количества раундов для каждого возможного статуса стартапа. Проанализируем столбец `funding_rounds`. \n",
    "- Посмотрим сколько в среднем раундов финансирования проходило для стартапов из каждой группы."
   ]
  },
  {
   "cell_type": "code",
   "execution_count": null,
   "metadata": {},
   "outputs": [
    {
     "data": {
      "text/plain": [
       "1.0     20534\n",
       "0.0      9040\n",
       "2.0      6142\n",
       "3.0      2662\n",
       "4.0      1216\n",
       "5.0       600\n",
       "6.0       249\n",
       "7.0       147\n",
       "8.0        67\n",
       "9.0        46\n",
       "10.0       23\n",
       "11.0       10\n",
       "13.0        5\n",
       "12.0        3\n",
       "15.0        2\n",
       "14.0        1\n",
       "Name: funding_rounds, dtype: int64"
      ]
     },
     "execution_count": 94,
     "metadata": {},
     "output_type": "execute_result"
    }
   ],
   "source": [
    "# выведем количество уникальных значений\n",
    "df_company['funding_rounds'].value_counts()"
   ]
  },
  {
   "cell_type": "markdown",
   "metadata": {},
   "source": [
    "Наибольшее значение сосредоточено в пределах одного раунда. На втором месте распределено количество раундов 0, что может означать, что стартап не привлекал внешнее финансирование или данные о финансировании отсутствуют. Оставим данную информацию при анализе, так как предполагается представить общую картину, включая стартапы без раундов финансирования, что даст представление о среднем количестве раундов среди всех стартапов, включая те, которые не получили внешнего финансирования."
   ]
  },
  {
   "cell_type": "markdown",
   "metadata": {},
   "source": [
    "Для рассчета типичного значения количества раундов используем медианное значение."
   ]
  },
  {
   "cell_type": "code",
   "execution_count": 95,
   "metadata": {
    "id": "hgXMPC4WrJg3",
    "vscode": {
     "languageId": "plaintext"
    }
   },
   "outputs": [
    {
     "data": {
      "text/plain": [
       "status\n",
       "acquired     0.523526\n",
       "closed       1.381453\n",
       "ipo          1.934375\n",
       "operating    1.522658\n",
       "Name: funding_rounds, dtype: float64"
      ]
     },
     "execution_count": 95,
     "metadata": {},
     "output_type": "execute_result"
    }
   ],
   "source": [
    "df_company.groupby('status')['funding_rounds'].mean()"
   ]
  },
  {
   "cell_type": "markdown",
   "metadata": {},
   "source": [
    "На основании полученных данных о медиане по статусам стартапов можно сделать следующие выводы:\n",
    "- Стартапы со статусом `acquired` имеют наименьшее среднее количество раундов финансирования - 0.5. Можно предположить, что многие из этих стартапов были приобретены на ранних стадиях развития или с минимальным количеством привлечённого внешнего финансирования.\n",
    "- Стартапы в статусе `closed` имеют среднее количество раундов 1.4. Возможно, перед закрытием, привлекали некоторое количество финансирования, но всё равно завершили свою деятельность.\n",
    "- Для статуса `ipo` среднее количество раундов составляет 1.9, что составляет наибольшее среднее значение по сравнению с другими статусами и можно сделать вывод, что обычно на данном этапе стартапа привлекают больше раундов финансирования по сравнению с другими.\n",
    "- Стартапы со статусом `operating` имеют среднее количество раундов 1.5. Вероятно, что работающие стартапы привлекают несколько раундов финансирования для поддержания и развития своей деятельности."
   ]
  },
  {
   "cell_type": "markdown",
   "metadata": {
    "id": "pV3e7kw5Fj1Y"
   },
   "source": [
    "Дополнительно посмотрим на среднее значение, исключив нулевые значения, чтобы посмотреть на значения, среди тех стартапов, которые успешно привлекли финансирование. Это позволит сосредоточиться на анализе финансируемых стартапов.\n"
   ]
  },
  {
   "cell_type": "code",
   "execution_count": 96,
   "metadata": {},
   "outputs": [
    {
     "data": {
      "text/html": [
       "<div>\n",
       "<style scoped>\n",
       "    .dataframe tbody tr th:only-of-type {\n",
       "        vertical-align: middle;\n",
       "    }\n",
       "\n",
       "    .dataframe tbody tr th {\n",
       "        vertical-align: top;\n",
       "    }\n",
       "\n",
       "    .dataframe thead th {\n",
       "        text-align: right;\n",
       "    }\n",
       "</style>\n",
       "<table border=\"1\" class=\"dataframe\">\n",
       "  <thead>\n",
       "    <tr style=\"text-align: right;\">\n",
       "      <th></th>\n",
       "      <th>mean</th>\n",
       "      <th>median</th>\n",
       "    </tr>\n",
       "    <tr>\n",
       "      <th>status</th>\n",
       "      <th></th>\n",
       "      <th></th>\n",
       "    </tr>\n",
       "  </thead>\n",
       "  <tbody>\n",
       "    <tr>\n",
       "      <th>ipo</th>\n",
       "      <td>2.526531</td>\n",
       "      <td>2.0</td>\n",
       "    </tr>\n",
       "    <tr>\n",
       "      <th>acquired</th>\n",
       "      <td>1.896645</td>\n",
       "      <td>1.0</td>\n",
       "    </tr>\n",
       "    <tr>\n",
       "      <th>operating</th>\n",
       "      <td>1.642359</td>\n",
       "      <td>1.0</td>\n",
       "    </tr>\n",
       "    <tr>\n",
       "      <th>closed</th>\n",
       "      <td>1.383437</td>\n",
       "      <td>1.0</td>\n",
       "    </tr>\n",
       "  </tbody>\n",
       "</table>\n",
       "</div>"
      ],
      "text/plain": [
       "               mean  median\n",
       "status                     \n",
       "ipo        2.526531     2.0\n",
       "acquired   1.896645     1.0\n",
       "operating  1.642359     1.0\n",
       "closed     1.383437     1.0"
      ]
     },
     "metadata": {},
     "output_type": "display_data"
    }
   ],
   "source": [
    "# Исключим значение раундов равное 0\n",
    "filtered = df_company[df_company['funding_rounds'] != 0]\n",
    "\n",
    "# Построим сводную\n",
    "pivot_table = filtered.pivot_table(values='funding_rounds',\n",
    "                                  index='status',\n",
    "                                  aggfunc={'funding_rounds': ['median', 'mean']}).sort_values(by='mean', ascending=False)\n",
    "\n",
    "display(pivot_table)\n"
   ]
  },
  {
   "cell_type": "markdown",
   "metadata": {},
   "source": [
    "Среднее количество раундов финансирования для разных статусов стартапов:\n",
    "\n",
    "- Для статуса `ipo` среднее количество раундов составляет 2.5. Это самый высокий показатель среди всех статусов, что может свидетельствовать о том, что стартапы, достигшие статуса `ipo`, привлекают больше раундов финансирования.\n",
    "- Для `acquired` среднее количество раундов — 1.9. Это говорит о том, что приобретённые стартапы также часто привлекают несколько раундов финансирования перед сделкой.\n",
    "- Для статуса `operating` — 1.6 ранудов, они имеют чуть меньше раундов финансирования по сравнению с приобретёнными стартапами.\n",
    "- Наименьший показатель был выявлен для статуса `closed`— 1.4 раундов, что может указывать на то, что закрытые стартапы привлекают меньше раундов финансирования или не успевают привлечь дополнительное финансирование перед закрытием.\n",
    "\n",
    "Что касается медианы:\n",
    "\n",
    "- Для статусов `acquired`, `operating` и `closed` медиана равна 1, что означает, что половина стартапов в этих статусах имеет один или менее раундов финансирования, а половина — более одного раунда.\n",
    "- Для статуса `ipo` медиана составляет 2, что говорит о том, что половина стартапов, достигших данного статуса, имеет два или более раундов финансирования."
   ]
  },
  {
   "cell_type": "markdown",
   "metadata": {},
   "source": [
    "Постром график, который отображает, сколько в среднем раундов финансирования проходило для стартапов из каждой группы."
   ]
  },
  {
   "cell_type": "code",
   "execution_count": 97,
   "metadata": {},
   "outputs": [
    {
     "data": {
      "image/png": "[encoded data removed]",
      "text/plain": [
       "<Figure size 576x432 with 1 Axes>"
      ]
     },
     "metadata": {
      "needs_background": "light"
     },
     "output_type": "display_data"
    }
   ],
   "source": [
    "# Задаём размер графика\n",
    "plt.figure(figsize=(8, 6))\n",
    "\n",
    "custom_palette = ['#3390AC', '#4DA6C7', '#66BCE3','#87D0E6']\n",
    "\n",
    "sns.barplot(x=pivot_table.index, y=pivot_table['mean'], palette=custom_palette)\n",
    "\n",
    "# Подписываем и отображаем график\n",
    "plt.title('Cреднее количество раундов для каждого статуса стартапа')\n",
    "plt.xlabel('Статус стартапа')\n",
    "plt.ylabel('Среднее количество раундов')\n",
    "\n",
    "\n",
    "plt.show()"
   ]
  },
  {
   "cell_type": "markdown",
   "metadata": {},
   "source": [
    "**Вывод:** \n",
    "- Самый высокий показатель среднего количества раундов финансирования для стартапов со статусом `ipo` - 2.5, могут быть наиболее привлекательны для инвесторов.\n",
    "- Приобретенные стартапы в статуск `acquired` со средним количество раундов — 1.9, они привлекают несколько раундов финансирования.\n",
    "- Наименьший показатель был выявлен для закрытых стартапов со статусом `closed`— 1.4, они привлекают меньше раундов финансирования или не успевают привлечь дополнительное финансирование перед закрытием."
   ]
  },
  {
   "cell_type": "markdown",
   "metadata": {
    "id": "VAFEZ2HBrJg3"
   },
   "source": [
    "\n",
    "## 4. Итоговый вывод и рекомендации"
   ]
  },
  {
   "cell_type": "markdown",
   "metadata": {},
   "source": [
    "В ходе исследования проанализировали исторические данные компаний стартапов.\n",
    "\n",
    "### Общая информация\n",
    "\n",
    "Исследовательский анализ данных позволил сформировать общее представление о рынке стартапов и этапах финансировании:\n",
    "\n",
    "- Были проанализированы исторические данные на основании 5 основных датасетов с информацией о покупках одними компаниями других компаний, о компаниях и раундах финансировании, о сотрудниках и их образовании.\n",
    "- Данные были представлены значительной долей пропущенных, аномальных значений и выбросов. \n",
    "- По результатам предварительного анализа и предобработки был создан датасет из 40747 компаний.\n",
    "- В 2013 году количество раундов и размер средств финансирования увеличивалось, наблюдается динамика на рост интереса к инвестициям, после периода спада."
   ]
  },
  {
   "cell_type": "markdown",
   "metadata": {},
   "source": [
    "### Размера компаний и информация об образовании\n",
    "\n",
    "- Большинство компаний представлены с сотрудниками в количестве одного, что наиболее характерно для стартапов.\n",
    "- По результатам проведенного анализа не наблюдается зависимость информации об образовании в зависимости от размера компнаа Доля сотрудников без информации об образовании в разных группах компаний по размеру довольно близка и колеблется примерно в пределах от 34% до 37%.\n",
    "    \n",
    "### Информация о финансировании\n",
    "- Стандартное отклонение суммы финансирования очень велико, что указывает на большой разброс значений относительно среднего, что означает неравномерное распределений значений в наборе данных, наличие выбросов и аномальных значений и есть повод сомневаться в данных результатах.\n",
    "-  Выявлен топ-15 стартапов по категорий по типично высоким ценам, среди них: самый высокий показатель средней типичной высокой ценой у категории semiconductor, затем cleantech (6 млн), medical и nanotech (более 5,1 млн). Наимеьшей показатель данного значения у категории transportation и fashion. Возможно, связано с наименьшим количеством стартапов в данной области или ограниченными возможностями для привлечения средств."
   ]
  },
  {
   "cell_type": "markdown",
   "metadata": {},
   "source": [
    "\n",
    "### Рекомендации\n",
    "\n",
    "В качестве рекомендаций стоит обратить внимание на стартапы со статусом ipo, а также в категориях semiconductor, cleantech, medical и nanotech.\n",
    "Дополнительно можно провести анализ аномальных значений и определить компании с необычно высоким уровнем финансирования по сравнению с остальными."
   ]
  }
 ],
 "metadata": {
  "ExecuteTimeLog": [
   {
    "duration": 90,
    "start_time": "2025-06-02T20:20:23.448Z"
   },
   {
    "duration": 1549,
    "start_time": "2025-06-03T15:53:10.922Z"
   },
   {
    "duration": 10199,
    "start_time": "2025-06-03T15:53:35.196Z"
   },
   {
    "duration": 1456,
    "start_time": "2025-06-03T15:53:45.397Z"
   },
   {
    "duration": 114,
    "start_time": "2025-06-03T16:02:01.433Z"
   },
   {
    "duration": 2005,
    "start_time": "2025-06-03T16:02:39.653Z"
   },
   {
    "duration": 21,
    "start_time": "2025-06-03T16:05:12.502Z"
   },
   {
    "duration": 18,
    "start_time": "2025-06-03T16:05:18.783Z"
   },
   {
    "duration": 113,
    "start_time": "2025-06-03T16:09:19.765Z"
   },
   {
    "duration": 30,
    "start_time": "2025-06-03T16:10:42.498Z"
   },
   {
    "duration": 25,
    "start_time": "2025-06-03T16:10:44.518Z"
   },
   {
    "duration": 124,
    "start_time": "2025-06-03T16:10:45.914Z"
   },
   {
    "duration": 123,
    "start_time": "2025-06-03T16:10:50.898Z"
   },
   {
    "duration": 8976,
    "start_time": "2025-06-04T04:23:18.929Z"
   },
   {
    "duration": 1391,
    "start_time": "2025-06-04T04:23:27.907Z"
   },
   {
    "duration": 2294,
    "start_time": "2025-06-04T04:23:29.300Z"
   },
   {
    "duration": 32,
    "start_time": "2025-06-04T04:23:31.596Z"
   },
   {
    "duration": 119,
    "start_time": "2025-06-04T04:29:46.842Z"
   },
   {
    "duration": 8464,
    "start_time": "2025-06-04T18:34:23.071Z"
   },
   {
    "duration": 1500,
    "start_time": "2025-06-04T18:34:31.538Z"
   },
   {
    "duration": 1984,
    "start_time": "2025-06-04T18:34:33.040Z"
   },
   {
    "duration": 20,
    "start_time": "2025-06-04T18:34:35.026Z"
   },
   {
    "duration": 279,
    "start_time": "2025-06-04T18:34:35.048Z"
   },
   {
    "duration": 127,
    "start_time": "2025-06-04T18:34:35.328Z"
   },
   {
    "duration": 28,
    "start_time": "2025-06-04T18:34:35.456Z"
   },
   {
    "duration": 30,
    "start_time": "2025-06-04T18:34:35.486Z"
   },
   {
    "duration": 46,
    "start_time": "2025-06-04T18:35:07.542Z"
   },
   {
    "duration": 24,
    "start_time": "2025-06-04T18:35:11.708Z"
   },
   {
    "duration": 33,
    "start_time": "2025-06-04T19:09:15.785Z"
   },
   {
    "duration": 5,
    "start_time": "2025-06-04T19:36:34.668Z"
   },
   {
    "duration": 3,
    "start_time": "2025-06-04T19:37:29.726Z"
   },
   {
    "duration": 5,
    "start_time": "2025-06-04T19:37:42.901Z"
   },
   {
    "duration": 6,
    "start_time": "2025-06-04T19:38:00.616Z"
   },
   {
    "duration": 6,
    "start_time": "2025-06-04T19:38:03.208Z"
   },
   {
    "duration": 4983,
    "start_time": "2025-06-04T19:38:24.128Z"
   },
   {
    "duration": 1313,
    "start_time": "2025-06-04T19:38:29.113Z"
   },
   {
    "duration": 1861,
    "start_time": "2025-06-04T19:38:30.428Z"
   },
   {
    "duration": 21,
    "start_time": "2025-06-04T19:38:32.291Z"
   },
   {
    "duration": 128,
    "start_time": "2025-06-04T19:38:32.314Z"
   },
   {
    "duration": 58,
    "start_time": "2025-06-04T19:38:32.444Z"
   },
   {
    "duration": 26,
    "start_time": "2025-06-04T19:38:32.504Z"
   },
   {
    "duration": 46,
    "start_time": "2025-06-04T19:38:32.531Z"
   },
   {
    "duration": 116,
    "start_time": "2025-06-04T19:38:32.578Z"
   },
   {
    "duration": 0,
    "start_time": "2025-06-04T19:38:32.695Z"
   },
   {
    "duration": 0,
    "start_time": "2025-06-04T19:38:32.696Z"
   },
   {
    "duration": 4,
    "start_time": "2025-06-04T19:38:37.444Z"
   },
   {
    "duration": 6,
    "start_time": "2025-06-04T19:38:37.676Z"
   },
   {
    "duration": 5,
    "start_time": "2025-06-04T19:42:43.602Z"
   },
   {
    "duration": 6,
    "start_time": "2025-06-04T19:43:09.530Z"
   },
   {
    "duration": 1338,
    "start_time": "2025-06-04T19:44:21.685Z"
   },
   {
    "duration": 7,
    "start_time": "2025-06-04T19:44:52.986Z"
   },
   {
    "duration": 5,
    "start_time": "2025-06-04T19:45:51.569Z"
   },
   {
    "duration": 4,
    "start_time": "2025-06-04T19:47:39.176Z"
   },
   {
    "duration": 9,
    "start_time": "2025-06-04T19:47:46.700Z"
   },
   {
    "duration": 11,
    "start_time": "2025-06-04T19:48:00.485Z"
   },
   {
    "duration": 111,
    "start_time": "2025-06-04T19:49:00.117Z"
   },
   {
    "duration": 8,
    "start_time": "2025-06-04T19:49:04.835Z"
   },
   {
    "duration": 18,
    "start_time": "2025-06-04T19:50:16.900Z"
   },
   {
    "duration": 91,
    "start_time": "2025-06-04T19:53:07.668Z"
   },
   {
    "duration": 17,
    "start_time": "2025-06-04T19:53:15.335Z"
   },
   {
    "duration": 26,
    "start_time": "2025-06-04T19:53:53.385Z"
   },
   {
    "duration": 109,
    "start_time": "2025-06-04T19:54:12.666Z"
   },
   {
    "duration": 17,
    "start_time": "2025-06-04T19:57:37.084Z"
   },
   {
    "duration": 4,
    "start_time": "2025-06-04T19:57:57.699Z"
   },
   {
    "duration": 5,
    "start_time": "2025-06-04T19:59:37.325Z"
   },
   {
    "duration": 92,
    "start_time": "2025-06-04T20:01:36.150Z"
   },
   {
    "duration": 8,
    "start_time": "2025-06-04T20:01:51.197Z"
   },
   {
    "duration": 4,
    "start_time": "2025-06-04T20:02:35.767Z"
   },
   {
    "duration": 97,
    "start_time": "2025-06-04T20:03:08.282Z"
   },
   {
    "duration": 21,
    "start_time": "2025-06-04T20:03:12.400Z"
   },
   {
    "duration": 5197,
    "start_time": "2025-06-04T20:03:26.411Z"
   },
   {
    "duration": 1350,
    "start_time": "2025-06-04T20:03:31.610Z"
   },
   {
    "duration": 1923,
    "start_time": "2025-06-04T20:03:32.962Z"
   },
   {
    "duration": 24,
    "start_time": "2025-06-04T20:03:34.888Z"
   },
   {
    "duration": 312,
    "start_time": "2025-06-04T20:03:34.914Z"
   },
   {
    "duration": 62,
    "start_time": "2025-06-04T20:03:35.228Z"
   },
   {
    "duration": 25,
    "start_time": "2025-06-04T20:03:35.291Z"
   },
   {
    "duration": 245,
    "start_time": "2025-06-04T20:03:35.317Z"
   },
   {
    "duration": 26,
    "start_time": "2025-06-04T20:03:35.563Z"
   },
   {
    "duration": 431,
    "start_time": "2025-06-04T20:03:35.591Z"
   },
   {
    "duration": 0,
    "start_time": "2025-06-04T20:03:36.023Z"
   },
   {
    "duration": 0,
    "start_time": "2025-06-04T20:03:36.025Z"
   },
   {
    "duration": 0,
    "start_time": "2025-06-04T20:03:36.026Z"
   },
   {
    "duration": 21,
    "start_time": "2025-06-04T20:04:14.899Z"
   },
   {
    "duration": 11,
    "start_time": "2025-06-04T20:04:49.253Z"
   },
   {
    "duration": 9,
    "start_time": "2025-06-04T20:05:11.600Z"
   },
   {
    "duration": 6,
    "start_time": "2025-06-04T20:05:12.263Z"
   },
   {
    "duration": 5121,
    "start_time": "2025-06-04T20:06:38.024Z"
   },
   {
    "duration": 1308,
    "start_time": "2025-06-04T20:06:43.147Z"
   },
   {
    "duration": 2154,
    "start_time": "2025-06-04T20:06:44.457Z"
   },
   {
    "duration": 25,
    "start_time": "2025-06-04T20:06:46.614Z"
   },
   {
    "duration": 200,
    "start_time": "2025-06-04T20:06:46.641Z"
   },
   {
    "duration": 60,
    "start_time": "2025-06-04T20:06:46.844Z"
   },
   {
    "duration": 102,
    "start_time": "2025-06-04T20:06:46.906Z"
   },
   {
    "duration": 30,
    "start_time": "2025-06-04T20:06:47.010Z"
   },
   {
    "duration": 6,
    "start_time": "2025-06-04T20:06:47.042Z"
   },
   {
    "duration": 27,
    "start_time": "2025-06-04T20:06:47.050Z"
   },
   {
    "duration": 5,
    "start_time": "2025-06-04T20:06:51.281Z"
   },
   {
    "duration": 8,
    "start_time": "2025-06-04T20:18:19.876Z"
   },
   {
    "duration": 9,
    "start_time": "2025-06-04T20:18:23.468Z"
   },
   {
    "duration": 4,
    "start_time": "2025-06-04T20:18:31.784Z"
   },
   {
    "duration": 5,
    "start_time": "2025-06-04T20:18:34.401Z"
   },
   {
    "duration": 4983,
    "start_time": "2025-06-04T20:18:45.527Z"
   },
   {
    "duration": 1308,
    "start_time": "2025-06-04T20:18:50.513Z"
   },
   {
    "duration": 1808,
    "start_time": "2025-06-04T20:18:51.823Z"
   },
   {
    "duration": 22,
    "start_time": "2025-06-04T20:18:53.634Z"
   },
   {
    "duration": 139,
    "start_time": "2025-06-04T20:18:53.657Z"
   },
   {
    "duration": 45,
    "start_time": "2025-06-04T20:18:53.798Z"
   },
   {
    "duration": 39,
    "start_time": "2025-06-04T20:18:53.845Z"
   },
   {
    "duration": 29,
    "start_time": "2025-06-04T20:18:53.885Z"
   },
   {
    "duration": 58,
    "start_time": "2025-06-04T20:18:53.915Z"
   },
   {
    "duration": 21,
    "start_time": "2025-06-04T20:18:53.975Z"
   },
   {
    "duration": 6,
    "start_time": "2025-06-04T20:18:56.974Z"
   },
   {
    "duration": 7,
    "start_time": "2025-06-04T20:20:14.763Z"
   },
   {
    "duration": 6,
    "start_time": "2025-06-04T20:20:24.225Z"
   },
   {
    "duration": 71,
    "start_time": "2025-06-04T20:22:09.801Z"
   },
   {
    "duration": 70,
    "start_time": "2025-06-04T20:22:26.565Z"
   },
   {
    "duration": 699,
    "start_time": "2025-06-04T20:22:34.901Z"
   },
   {
    "duration": 4,
    "start_time": "2025-06-04T20:25:38.167Z"
   },
   {
    "duration": 5,
    "start_time": "2025-06-04T20:25:38.865Z"
   },
   {
    "duration": 75,
    "start_time": "2025-06-04T20:28:57.618Z"
   },
   {
    "duration": 77,
    "start_time": "2025-06-04T20:30:08.175Z"
   },
   {
    "duration": 90,
    "start_time": "2025-06-04T20:30:53.842Z"
   },
   {
    "duration": 1261,
    "start_time": "2025-06-04T20:34:21.212Z"
   },
   {
    "duration": 1233,
    "start_time": "2025-06-04T20:35:30.381Z"
   },
   {
    "duration": 13,
    "start_time": "2025-06-04T20:36:55.049Z"
   },
   {
    "duration": 9,
    "start_time": "2025-06-04T20:38:28.857Z"
   },
   {
    "duration": 5050,
    "start_time": "2025-06-04T20:38:42.679Z"
   },
   {
    "duration": 1296,
    "start_time": "2025-06-04T20:38:47.732Z"
   },
   {
    "duration": 2026,
    "start_time": "2025-06-04T20:38:49.029Z"
   },
   {
    "duration": 29,
    "start_time": "2025-06-04T20:38:51.058Z"
   },
   {
    "duration": 135,
    "start_time": "2025-06-04T20:38:51.089Z"
   },
   {
    "duration": 61,
    "start_time": "2025-06-04T20:38:51.226Z"
   },
   {
    "duration": 25,
    "start_time": "2025-06-04T20:38:51.289Z"
   },
   {
    "duration": 32,
    "start_time": "2025-06-04T20:38:51.316Z"
   },
   {
    "duration": 7,
    "start_time": "2025-06-04T20:38:51.376Z"
   },
   {
    "duration": 13,
    "start_time": "2025-06-04T20:38:51.385Z"
   },
   {
    "duration": 6,
    "start_time": "2025-06-04T20:38:51.400Z"
   },
   {
    "duration": 4,
    "start_time": "2025-06-04T20:38:51.407Z"
   },
   {
    "duration": 4,
    "start_time": "2025-06-04T20:38:51.413Z"
   },
   {
    "duration": 112,
    "start_time": "2025-06-04T20:38:51.419Z"
   },
   {
    "duration": 190,
    "start_time": "2025-06-04T20:38:51.533Z"
   },
   {
    "duration": 121,
    "start_time": "2025-06-04T20:41:18.329Z"
   },
   {
    "duration": 18,
    "start_time": "2025-06-04T20:41:45.662Z"
   },
   {
    "duration": 13,
    "start_time": "2025-06-04T20:42:30.595Z"
   },
   {
    "duration": 9,
    "start_time": "2025-06-04T20:42:46.028Z"
   },
   {
    "duration": 38,
    "start_time": "2025-06-04T20:43:37.204Z"
   },
   {
    "duration": 41,
    "start_time": "2025-06-04T20:44:00.361Z"
   },
   {
    "duration": 41,
    "start_time": "2025-06-04T20:44:08.961Z"
   },
   {
    "duration": 35,
    "start_time": "2025-06-04T20:44:38.613Z"
   },
   {
    "duration": 113,
    "start_time": "2025-06-04T20:44:49.263Z"
   },
   {
    "duration": 36,
    "start_time": "2025-06-04T20:45:50.274Z"
   },
   {
    "duration": 41,
    "start_time": "2025-06-04T20:46:08.177Z"
   },
   {
    "duration": 102,
    "start_time": "2025-06-04T20:47:14.192Z"
   },
   {
    "duration": 148,
    "start_time": "2025-06-04T20:47:20.495Z"
   },
   {
    "duration": 78,
    "start_time": "2025-06-04T20:47:27.896Z"
   },
   {
    "duration": 64,
    "start_time": "2025-06-04T20:47:39.372Z"
   },
   {
    "duration": 46,
    "start_time": "2025-06-04T20:48:12.337Z"
   },
   {
    "duration": 61,
    "start_time": "2025-06-04T20:48:40.722Z"
   },
   {
    "duration": 1735,
    "start_time": "2025-06-04T20:49:59.312Z"
   },
   {
    "duration": 1984,
    "start_time": "2025-06-04T20:51:31.710Z"
   },
   {
    "duration": 1914,
    "start_time": "2025-06-04T20:52:02.597Z"
   },
   {
    "duration": 1850,
    "start_time": "2025-06-04T20:52:43.803Z"
   },
   {
    "duration": 14,
    "start_time": "2025-06-04T20:53:06.440Z"
   },
   {
    "duration": 85,
    "start_time": "2025-06-04T20:58:07.778Z"
   },
   {
    "duration": 5268,
    "start_time": "2025-06-04T20:58:19.958Z"
   },
   {
    "duration": 1423,
    "start_time": "2025-06-04T20:58:25.229Z"
   },
   {
    "duration": 2349,
    "start_time": "2025-06-04T20:58:26.653Z"
   },
   {
    "duration": 23,
    "start_time": "2025-06-04T20:58:29.005Z"
   },
   {
    "duration": 141,
    "start_time": "2025-06-04T20:58:29.029Z"
   },
   {
    "duration": 50,
    "start_time": "2025-06-04T20:58:29.172Z"
   },
   {
    "duration": 30,
    "start_time": "2025-06-04T20:58:29.224Z"
   },
   {
    "duration": 32,
    "start_time": "2025-06-04T20:58:29.276Z"
   },
   {
    "duration": 42,
    "start_time": "2025-06-04T20:58:29.310Z"
   },
   {
    "duration": 25,
    "start_time": "2025-06-04T20:58:29.355Z"
   },
   {
    "duration": 6,
    "start_time": "2025-06-04T20:58:29.382Z"
   },
   {
    "duration": 5,
    "start_time": "2025-06-04T20:58:29.390Z"
   },
   {
    "duration": 6,
    "start_time": "2025-06-04T20:58:29.397Z"
   },
   {
    "duration": 90,
    "start_time": "2025-06-04T20:58:29.404Z"
   },
   {
    "duration": 986,
    "start_time": "2025-06-04T20:58:29.496Z"
   },
   {
    "duration": 10,
    "start_time": "2025-06-04T20:58:30.484Z"
   },
   {
    "duration": 164,
    "start_time": "2025-06-04T20:58:31.985Z"
   },
   {
    "duration": 80,
    "start_time": "2025-06-04T21:12:08.749Z"
   },
   {
    "duration": 904,
    "start_time": "2025-06-04T21:14:39.988Z"
   },
   {
    "duration": 897,
    "start_time": "2025-06-04T21:14:46.194Z"
   },
   {
    "duration": 30,
    "start_time": "2025-06-04T21:14:53.804Z"
   },
   {
    "duration": 186,
    "start_time": "2025-06-04T21:15:51.254Z"
   },
   {
    "duration": 6,
    "start_time": "2025-06-04T21:15:59.695Z"
   },
   {
    "duration": 19,
    "start_time": "2025-06-04T21:16:01.754Z"
   },
   {
    "duration": 86,
    "start_time": "2025-06-04T21:19:21.916Z"
   },
   {
    "duration": 4942,
    "start_time": "2025-06-04T21:19:39.687Z"
   },
   {
    "duration": 1306,
    "start_time": "2025-06-04T21:19:44.631Z"
   },
   {
    "duration": 1937,
    "start_time": "2025-06-04T21:19:45.939Z"
   },
   {
    "duration": 22,
    "start_time": "2025-06-04T21:19:47.879Z"
   },
   {
    "duration": 141,
    "start_time": "2025-06-04T21:19:47.902Z"
   },
   {
    "duration": 58,
    "start_time": "2025-06-04T21:19:48.045Z"
   },
   {
    "duration": 27,
    "start_time": "2025-06-04T21:19:48.105Z"
   },
   {
    "duration": 47,
    "start_time": "2025-06-04T21:19:48.134Z"
   },
   {
    "duration": 6,
    "start_time": "2025-06-04T21:19:48.183Z"
   },
   {
    "duration": 53,
    "start_time": "2025-06-04T21:19:48.191Z"
   },
   {
    "duration": 33,
    "start_time": "2025-06-04T21:19:48.246Z"
   },
   {
    "duration": 8,
    "start_time": "2025-06-04T21:19:48.281Z"
   },
   {
    "duration": 19,
    "start_time": "2025-06-04T21:19:48.290Z"
   },
   {
    "duration": 91,
    "start_time": "2025-06-04T21:19:48.310Z"
   },
   {
    "duration": 180,
    "start_time": "2025-06-04T21:19:48.403Z"
   },
   {
    "duration": 6,
    "start_time": "2025-06-04T21:19:48.584Z"
   },
   {
    "duration": 15,
    "start_time": "2025-06-04T21:19:48.592Z"
   },
   {
    "duration": 62,
    "start_time": "2025-06-04T21:20:05.053Z"
   },
   {
    "duration": 30,
    "start_time": "2025-06-04T21:20:23.755Z"
   },
   {
    "duration": 39,
    "start_time": "2025-06-04T21:21:09.356Z"
   },
   {
    "duration": 4922,
    "start_time": "2025-06-04T21:21:24.392Z"
   },
   {
    "duration": 1268,
    "start_time": "2025-06-04T21:21:29.317Z"
   },
   {
    "duration": 2274,
    "start_time": "2025-06-04T21:21:30.587Z"
   },
   {
    "duration": 25,
    "start_time": "2025-06-04T21:21:32.865Z"
   },
   {
    "duration": 131,
    "start_time": "2025-06-04T21:21:32.892Z"
   },
   {
    "duration": 60,
    "start_time": "2025-06-04T21:21:33.025Z"
   },
   {
    "duration": 25,
    "start_time": "2025-06-04T21:21:33.087Z"
   },
   {
    "duration": 30,
    "start_time": "2025-06-04T21:21:33.114Z"
   },
   {
    "duration": 37,
    "start_time": "2025-06-04T21:21:33.146Z"
   },
   {
    "duration": 11,
    "start_time": "2025-06-04T21:21:33.185Z"
   },
   {
    "duration": 6,
    "start_time": "2025-06-04T21:21:33.198Z"
   },
   {
    "duration": 4,
    "start_time": "2025-06-04T21:21:33.206Z"
   },
   {
    "duration": 14,
    "start_time": "2025-06-04T21:21:33.212Z"
   },
   {
    "duration": 104,
    "start_time": "2025-06-04T21:21:33.227Z"
   },
   {
    "duration": 166,
    "start_time": "2025-06-04T21:21:33.333Z"
   },
   {
    "duration": 6,
    "start_time": "2025-06-04T21:21:33.501Z"
   },
   {
    "duration": 24,
    "start_time": "2025-06-04T21:21:33.509Z"
   },
   {
    "duration": 32,
    "start_time": "2025-06-04T21:21:51.701Z"
   },
   {
    "duration": 8,
    "start_time": "2025-06-04T21:23:17.137Z"
   },
   {
    "duration": 8,
    "start_time": "2025-06-04T21:23:24.601Z"
   },
   {
    "duration": 5088,
    "start_time": "2025-06-04T21:23:41.135Z"
   },
   {
    "duration": 1350,
    "start_time": "2025-06-04T21:23:46.226Z"
   },
   {
    "duration": 1915,
    "start_time": "2025-06-04T21:23:47.577Z"
   },
   {
    "duration": 21,
    "start_time": "2025-06-04T21:23:49.495Z"
   },
   {
    "duration": 131,
    "start_time": "2025-06-04T21:23:49.517Z"
   },
   {
    "duration": 55,
    "start_time": "2025-06-04T21:23:49.650Z"
   },
   {
    "duration": 24,
    "start_time": "2025-06-04T21:23:49.706Z"
   },
   {
    "duration": 180,
    "start_time": "2025-06-04T21:23:49.732Z"
   },
   {
    "duration": 6,
    "start_time": "2025-06-04T21:23:49.913Z"
   },
   {
    "duration": 9,
    "start_time": "2025-06-04T21:23:49.922Z"
   },
   {
    "duration": 8,
    "start_time": "2025-06-04T21:23:49.932Z"
   },
   {
    "duration": 3,
    "start_time": "2025-06-04T21:23:49.941Z"
   },
   {
    "duration": 5,
    "start_time": "2025-06-04T21:23:50.039Z"
   },
   {
    "duration": 74,
    "start_time": "2025-06-04T21:23:51.495Z"
   },
   {
    "duration": 133,
    "start_time": "2025-06-04T21:23:52.803Z"
   },
   {
    "duration": 6,
    "start_time": "2025-06-04T21:23:53.402Z"
   },
   {
    "duration": 19,
    "start_time": "2025-06-04T21:23:56.000Z"
   },
   {
    "duration": 70,
    "start_time": "2025-06-04T21:30:05.493Z"
   },
   {
    "duration": 21,
    "start_time": "2025-06-04T21:34:02.201Z"
   },
   {
    "duration": 21,
    "start_time": "2025-06-04T21:35:21.403Z"
   },
   {
    "duration": 12,
    "start_time": "2025-06-04T21:47:08.369Z"
   },
   {
    "duration": 8,
    "start_time": "2025-06-04T21:49:46.894Z"
   },
   {
    "duration": 1796,
    "start_time": "2025-06-04T21:49:57.809Z"
   },
   {
    "duration": 32,
    "start_time": "2025-06-04T21:50:49.744Z"
   },
   {
    "duration": 56,
    "start_time": "2025-06-04T21:52:54.878Z"
   },
   {
    "duration": 48,
    "start_time": "2025-06-04T21:53:08.500Z"
   },
   {
    "duration": 4971,
    "start_time": "2025-06-04T21:53:18.726Z"
   },
   {
    "duration": 1320,
    "start_time": "2025-06-04T21:53:23.700Z"
   },
   {
    "duration": 2424,
    "start_time": "2025-06-04T21:53:25.022Z"
   },
   {
    "duration": 21,
    "start_time": "2025-06-04T21:53:27.448Z"
   },
   {
    "duration": 131,
    "start_time": "2025-06-04T21:53:27.470Z"
   },
   {
    "duration": 46,
    "start_time": "2025-06-04T21:53:27.603Z"
   },
   {
    "duration": 40,
    "start_time": "2025-06-04T21:53:27.651Z"
   },
   {
    "duration": 28,
    "start_time": "2025-06-04T21:53:27.693Z"
   },
   {
    "duration": 6,
    "start_time": "2025-06-04T21:53:27.723Z"
   },
   {
    "duration": 10,
    "start_time": "2025-06-04T21:53:27.731Z"
   },
   {
    "duration": 40,
    "start_time": "2025-06-04T21:53:27.742Z"
   },
   {
    "duration": 4,
    "start_time": "2025-06-04T21:53:27.784Z"
   },
   {
    "duration": 47,
    "start_time": "2025-06-04T21:53:27.789Z"
   },
   {
    "duration": 5,
    "start_time": "2025-06-04T21:53:27.837Z"
   },
   {
    "duration": 132,
    "start_time": "2025-06-04T21:53:27.844Z"
   },
   {
    "duration": 121,
    "start_time": "2025-06-04T21:53:27.978Z"
   },
   {
    "duration": 4,
    "start_time": "2025-06-04T21:53:28.101Z"
   },
   {
    "duration": 17,
    "start_time": "2025-06-04T21:53:28.107Z"
   },
   {
    "duration": 18,
    "start_time": "2025-06-04T21:53:28.567Z"
   },
   {
    "duration": 22,
    "start_time": "2025-06-04T21:53:30.493Z"
   },
   {
    "duration": 14,
    "start_time": "2025-06-04T22:03:24.226Z"
   },
   {
    "duration": 15,
    "start_time": "2025-06-04T22:03:36.792Z"
   },
   {
    "duration": 144,
    "start_time": "2025-06-04T22:06:23.883Z"
   },
   {
    "duration": 130,
    "start_time": "2025-06-04T22:07:57.350Z"
   },
   {
    "duration": 58,
    "start_time": "2025-06-04T22:08:09.349Z"
   },
   {
    "duration": 38,
    "start_time": "2025-06-04T22:09:58.990Z"
   },
   {
    "duration": 9227,
    "start_time": "2025-06-05T14:49:42.371Z"
   },
   {
    "duration": 1497,
    "start_time": "2025-06-05T14:49:51.601Z"
   },
   {
    "duration": 2342,
    "start_time": "2025-06-05T14:49:53.099Z"
   },
   {
    "duration": 24,
    "start_time": "2025-06-05T14:49:55.449Z"
   },
   {
    "duration": 132,
    "start_time": "2025-06-05T14:49:55.474Z"
   },
   {
    "duration": 61,
    "start_time": "2025-06-05T14:49:55.608Z"
   },
   {
    "duration": 61,
    "start_time": "2025-06-05T14:49:55.671Z"
   },
   {
    "duration": 36,
    "start_time": "2025-06-05T14:49:55.734Z"
   },
   {
    "duration": 30,
    "start_time": "2025-06-05T14:49:55.772Z"
   },
   {
    "duration": 16,
    "start_time": "2025-06-05T14:49:55.804Z"
   },
   {
    "duration": 30,
    "start_time": "2025-06-05T14:49:55.822Z"
   },
   {
    "duration": 84,
    "start_time": "2025-06-05T14:49:55.854Z"
   },
   {
    "duration": 61,
    "start_time": "2025-06-05T14:49:55.939Z"
   },
   {
    "duration": 4,
    "start_time": "2025-06-05T14:49:56.002Z"
   },
   {
    "duration": 77,
    "start_time": "2025-06-05T14:49:56.008Z"
   },
   {
    "duration": 131,
    "start_time": "2025-06-05T14:49:56.087Z"
   },
   {
    "duration": 4,
    "start_time": "2025-06-05T14:49:56.220Z"
   },
   {
    "duration": 17,
    "start_time": "2025-06-05T14:49:56.247Z"
   },
   {
    "duration": 22,
    "start_time": "2025-06-05T14:49:56.266Z"
   },
   {
    "duration": 22,
    "start_time": "2025-06-05T14:49:56.290Z"
   },
   {
    "duration": 24,
    "start_time": "2025-06-05T14:49:56.340Z"
   },
   {
    "duration": 153,
    "start_time": "2025-06-05T14:49:56.366Z"
   },
   {
    "duration": 87,
    "start_time": "2025-06-05T14:49:56.521Z"
   },
   {
    "duration": 56,
    "start_time": "2025-06-05T14:49:56.610Z"
   },
   {
    "duration": 111,
    "start_time": "2025-06-05T14:53:18.909Z"
   },
   {
    "duration": 14,
    "start_time": "2025-06-05T14:56:29.893Z"
   },
   {
    "duration": 206,
    "start_time": "2025-06-05T14:56:31.713Z"
   },
   {
    "duration": 18,
    "start_time": "2025-06-05T14:57:20.334Z"
   },
   {
    "duration": 17,
    "start_time": "2025-06-05T14:57:31.481Z"
   },
   {
    "duration": 20,
    "start_time": "2025-06-05T14:57:44.741Z"
   },
   {
    "duration": 18,
    "start_time": "2025-06-05T14:57:58.082Z"
   },
   {
    "duration": 15,
    "start_time": "2025-06-05T14:59:07.685Z"
   },
   {
    "duration": 209,
    "start_time": "2025-06-05T14:59:08.424Z"
   },
   {
    "duration": 214,
    "start_time": "2025-06-05T14:59:18.391Z"
   },
   {
    "duration": 109,
    "start_time": "2025-06-05T14:59:27.972Z"
   },
   {
    "duration": 39,
    "start_time": "2025-06-05T14:59:34.889Z"
   },
   {
    "duration": 9107,
    "start_time": "2025-06-05T20:20:52.532Z"
   },
   {
    "duration": 1434,
    "start_time": "2025-06-05T20:21:01.641Z"
   },
   {
    "duration": 1960,
    "start_time": "2025-06-05T20:21:03.077Z"
   },
   {
    "duration": 27,
    "start_time": "2025-06-05T20:21:05.039Z"
   },
   {
    "duration": 205,
    "start_time": "2025-06-05T20:21:05.067Z"
   },
   {
    "duration": 42,
    "start_time": "2025-06-05T20:21:05.273Z"
   },
   {
    "duration": 45,
    "start_time": "2025-06-05T20:21:05.316Z"
   },
   {
    "duration": 156,
    "start_time": "2025-06-05T20:21:05.363Z"
   },
   {
    "duration": 37,
    "start_time": "2025-06-05T20:21:05.521Z"
   },
   {
    "duration": 20,
    "start_time": "2025-06-05T20:21:05.560Z"
   },
   {
    "duration": 43,
    "start_time": "2025-06-05T20:21:05.582Z"
   },
   {
    "duration": 7,
    "start_time": "2025-06-05T20:21:05.626Z"
   },
   {
    "duration": 54,
    "start_time": "2025-06-05T20:21:05.635Z"
   },
   {
    "duration": 4,
    "start_time": "2025-06-05T20:21:05.691Z"
   },
   {
    "duration": 86,
    "start_time": "2025-06-05T20:21:05.697Z"
   },
   {
    "duration": 120,
    "start_time": "2025-06-05T20:21:05.785Z"
   },
   {
    "duration": 6,
    "start_time": "2025-06-05T20:21:05.907Z"
   },
   {
    "duration": 40,
    "start_time": "2025-06-05T20:21:05.915Z"
   },
   {
    "duration": 42,
    "start_time": "2025-06-05T20:21:05.958Z"
   },
   {
    "duration": 51,
    "start_time": "2025-06-05T20:21:06.001Z"
   },
   {
    "duration": 33,
    "start_time": "2025-06-05T20:21:06.053Z"
   },
   {
    "duration": 160,
    "start_time": "2025-06-05T20:21:06.087Z"
   },
   {
    "duration": 70,
    "start_time": "2025-06-05T20:21:06.249Z"
   },
   {
    "duration": 40,
    "start_time": "2025-06-05T20:21:06.321Z"
   },
   {
    "duration": 16,
    "start_time": "2025-06-05T20:21:08.199Z"
   },
   {
    "duration": 183,
    "start_time": "2025-06-05T20:21:08.679Z"
   },
   {
    "duration": 94,
    "start_time": "2025-06-05T20:21:09.569Z"
   },
   {
    "duration": 36,
    "start_time": "2025-06-05T20:21:10.385Z"
   },
   {
    "duration": 76,
    "start_time": "2025-06-05T20:28:36.980Z"
   },
   {
    "duration": 104,
    "start_time": "2025-06-05T20:28:42.432Z"
   },
   {
    "duration": 4,
    "start_time": "2025-06-05T20:29:20.931Z"
   },
   {
    "duration": 49,
    "start_time": "2025-06-05T20:51:12.452Z"
   },
   {
    "duration": 4,
    "start_time": "2025-06-05T20:51:26.190Z"
   },
   {
    "duration": 21,
    "start_time": "2025-06-05T20:51:26.592Z"
   },
   {
    "duration": 4,
    "start_time": "2025-06-05T20:51:26.791Z"
   },
   {
    "duration": 24,
    "start_time": "2025-06-05T20:51:27.482Z"
   },
   {
    "duration": 27,
    "start_time": "2025-06-05T20:51:32.051Z"
   },
   {
    "duration": 4,
    "start_time": "2025-06-05T20:51:32.692Z"
   },
   {
    "duration": 13,
    "start_time": "2025-06-05T20:51:33.389Z"
   },
   {
    "duration": 9,
    "start_time": "2025-06-05T20:51:35.484Z"
   },
   {
    "duration": 14,
    "start_time": "2025-06-05T20:51:38.899Z"
   },
   {
    "duration": 13,
    "start_time": "2025-06-05T20:51:40.608Z"
   },
   {
    "duration": 13,
    "start_time": "2025-06-05T20:51:53.231Z"
   },
   {
    "duration": 46,
    "start_time": "2025-06-05T20:51:53.544Z"
   },
   {
    "duration": 37,
    "start_time": "2025-06-05T20:51:53.840Z"
   },
   {
    "duration": 25,
    "start_time": "2025-06-05T20:51:54.312Z"
   },
   {
    "duration": 17,
    "start_time": "2025-06-05T20:51:54.743Z"
   },
   {
    "duration": 190,
    "start_time": "2025-06-05T20:51:55.606Z"
   },
   {
    "duration": 1272,
    "start_time": "2025-06-05T20:58:22.014Z"
   },
   {
    "duration": 4616,
    "start_time": "2025-06-05T20:59:08.091Z"
   },
   {
    "duration": 1158,
    "start_time": "2025-06-05T20:59:12.709Z"
   },
   {
    "duration": 1887,
    "start_time": "2025-06-05T20:59:13.869Z"
   },
   {
    "duration": 21,
    "start_time": "2025-06-05T20:59:15.758Z"
   },
   {
    "duration": 123,
    "start_time": "2025-06-05T20:59:15.780Z"
   },
   {
    "duration": 59,
    "start_time": "2025-06-05T20:59:15.905Z"
   },
   {
    "duration": 23,
    "start_time": "2025-06-05T20:59:15.965Z"
   },
   {
    "duration": 28,
    "start_time": "2025-06-05T20:59:15.989Z"
   },
   {
    "duration": 6,
    "start_time": "2025-06-05T20:59:16.019Z"
   },
   {
    "duration": 10,
    "start_time": "2025-06-05T20:59:16.060Z"
   },
   {
    "duration": 7,
    "start_time": "2025-06-05T20:59:16.071Z"
   },
   {
    "duration": 4,
    "start_time": "2025-06-05T20:59:16.079Z"
   },
   {
    "duration": 1330,
    "start_time": "2025-06-05T20:59:16.085Z"
   },
   {
    "duration": 0,
    "start_time": "2025-06-05T20:59:17.417Z"
   },
   {
    "duration": 0,
    "start_time": "2025-06-05T20:59:17.418Z"
   },
   {
    "duration": 0,
    "start_time": "2025-06-05T20:59:17.419Z"
   },
   {
    "duration": 0,
    "start_time": "2025-06-05T20:59:17.420Z"
   },
   {
    "duration": 0,
    "start_time": "2025-06-05T20:59:17.421Z"
   },
   {
    "duration": 20,
    "start_time": "2025-06-05T20:59:17.640Z"
   },
   {
    "duration": 19,
    "start_time": "2025-06-05T20:59:18.853Z"
   },
   {
    "duration": 14,
    "start_time": "2025-06-05T20:59:23.797Z"
   },
   {
    "duration": 1178,
    "start_time": "2025-06-05T20:59:24.864Z"
   },
   {
    "duration": 0,
    "start_time": "2025-06-05T20:59:26.044Z"
   },
   {
    "duration": 37,
    "start_time": "2025-06-05T20:59:29.714Z"
   },
   {
    "duration": 17,
    "start_time": "2025-06-05T20:59:30.992Z"
   },
   {
    "duration": 176,
    "start_time": "2025-06-05T20:59:33.995Z"
   },
   {
    "duration": 19,
    "start_time": "2025-06-05T20:59:37.478Z"
   },
   {
    "duration": 5,
    "start_time": "2025-06-05T21:00:29.631Z"
   },
   {
    "duration": 5,
    "start_time": "2025-06-05T21:00:41.428Z"
   },
   {
    "duration": 1159,
    "start_time": "2025-06-05T21:01:11.146Z"
   },
   {
    "duration": 4700,
    "start_time": "2025-06-05T21:02:31.962Z"
   },
   {
    "duration": 1264,
    "start_time": "2025-06-05T21:02:36.664Z"
   },
   {
    "duration": 1743,
    "start_time": "2025-06-05T21:02:37.929Z"
   },
   {
    "duration": 20,
    "start_time": "2025-06-05T21:02:39.675Z"
   },
   {
    "duration": 120,
    "start_time": "2025-06-05T21:02:39.697Z"
   },
   {
    "duration": 58,
    "start_time": "2025-06-05T21:02:39.819Z"
   },
   {
    "duration": 22,
    "start_time": "2025-06-05T21:02:39.879Z"
   },
   {
    "duration": 33,
    "start_time": "2025-06-05T21:02:39.903Z"
   },
   {
    "duration": 9,
    "start_time": "2025-06-05T21:02:39.962Z"
   },
   {
    "duration": 14,
    "start_time": "2025-06-05T21:02:39.974Z"
   },
   {
    "duration": 14,
    "start_time": "2025-06-05T21:02:39.990Z"
   },
   {
    "duration": 14,
    "start_time": "2025-06-05T21:02:40.006Z"
   },
   {
    "duration": 1414,
    "start_time": "2025-06-05T21:02:40.021Z"
   },
   {
    "duration": 0,
    "start_time": "2025-06-05T21:02:41.437Z"
   },
   {
    "duration": 0,
    "start_time": "2025-06-05T21:02:41.438Z"
   },
   {
    "duration": 0,
    "start_time": "2025-06-05T21:02:41.439Z"
   },
   {
    "duration": 0,
    "start_time": "2025-06-05T21:02:41.440Z"
   },
   {
    "duration": 0,
    "start_time": "2025-06-05T21:02:41.441Z"
   },
   {
    "duration": 0,
    "start_time": "2025-06-05T21:02:41.442Z"
   },
   {
    "duration": 0,
    "start_time": "2025-06-05T21:02:41.442Z"
   },
   {
    "duration": 0,
    "start_time": "2025-06-05T21:02:41.443Z"
   },
   {
    "duration": 0,
    "start_time": "2025-06-05T21:02:41.444Z"
   },
   {
    "duration": 88,
    "start_time": "2025-06-05T21:02:41.793Z"
   },
   {
    "duration": 44,
    "start_time": "2025-06-05T21:02:42.247Z"
   },
   {
    "duration": 13,
    "start_time": "2025-06-05T21:02:42.765Z"
   },
   {
    "duration": 191,
    "start_time": "2025-06-05T21:02:43.394Z"
   },
   {
    "duration": 6,
    "start_time": "2025-06-05T21:02:44.797Z"
   },
   {
    "duration": 9038,
    "start_time": "2025-06-06T04:22:57.362Z"
   },
   {
    "duration": 1502,
    "start_time": "2025-06-06T04:23:06.403Z"
   },
   {
    "duration": 2000,
    "start_time": "2025-06-06T04:23:07.906Z"
   },
   {
    "duration": 21,
    "start_time": "2025-06-06T04:23:09.909Z"
   },
   {
    "duration": 136,
    "start_time": "2025-06-06T04:23:09.932Z"
   },
   {
    "duration": 46,
    "start_time": "2025-06-06T04:23:10.070Z"
   },
   {
    "duration": 45,
    "start_time": "2025-06-06T04:23:10.117Z"
   },
   {
    "duration": 29,
    "start_time": "2025-06-06T04:23:10.164Z"
   },
   {
    "duration": 8,
    "start_time": "2025-06-06T04:23:10.195Z"
   },
   {
    "duration": 9,
    "start_time": "2025-06-06T04:23:10.206Z"
   },
   {
    "duration": 44,
    "start_time": "2025-06-06T04:23:10.217Z"
   },
   {
    "duration": 4,
    "start_time": "2025-06-06T04:23:10.263Z"
   },
   {
    "duration": 1390,
    "start_time": "2025-06-06T04:23:10.269Z"
   },
   {
    "duration": 0,
    "start_time": "2025-06-06T04:23:11.660Z"
   },
   {
    "duration": 0,
    "start_time": "2025-06-06T04:23:11.662Z"
   },
   {
    "duration": 0,
    "start_time": "2025-06-06T04:23:11.663Z"
   },
   {
    "duration": 0,
    "start_time": "2025-06-06T04:23:11.665Z"
   },
   {
    "duration": 0,
    "start_time": "2025-06-06T04:23:11.667Z"
   },
   {
    "duration": 0,
    "start_time": "2025-06-06T04:23:11.668Z"
   },
   {
    "duration": 0,
    "start_time": "2025-06-06T04:23:11.669Z"
   },
   {
    "duration": 0,
    "start_time": "2025-06-06T04:23:11.671Z"
   },
   {
    "duration": 0,
    "start_time": "2025-06-06T04:23:11.673Z"
   },
   {
    "duration": 0,
    "start_time": "2025-06-06T04:23:11.674Z"
   },
   {
    "duration": 0,
    "start_time": "2025-06-06T04:23:11.676Z"
   },
   {
    "duration": 0,
    "start_time": "2025-06-06T04:23:11.677Z"
   },
   {
    "duration": 0,
    "start_time": "2025-06-06T04:23:11.678Z"
   },
   {
    "duration": 0,
    "start_time": "2025-06-06T04:23:11.680Z"
   },
   {
    "duration": 0,
    "start_time": "2025-06-06T04:23:11.681Z"
   },
   {
    "duration": 55,
    "start_time": "2025-06-06T04:23:30.793Z"
   },
   {
    "duration": 52,
    "start_time": "2025-06-06T04:24:10.792Z"
   },
   {
    "duration": 5,
    "start_time": "2025-06-06T04:24:11.080Z"
   },
   {
    "duration": 79,
    "start_time": "2025-06-06T04:24:11.601Z"
   },
   {
    "duration": 99,
    "start_time": "2025-06-06T04:24:12.242Z"
   },
   {
    "duration": 5,
    "start_time": "2025-06-06T04:24:12.505Z"
   },
   {
    "duration": 16,
    "start_time": "2025-06-06T04:24:12.761Z"
   },
   {
    "duration": 24,
    "start_time": "2025-06-06T04:24:13.321Z"
   },
   {
    "duration": 21,
    "start_time": "2025-06-06T04:24:14.081Z"
   },
   {
    "duration": 16,
    "start_time": "2025-06-06T04:24:15.762Z"
   },
   {
    "duration": 159,
    "start_time": "2025-06-06T04:24:16.161Z"
   },
   {
    "duration": 70,
    "start_time": "2025-06-06T04:24:16.553Z"
   },
   {
    "duration": 48,
    "start_time": "2025-06-06T04:24:17.609Z"
   },
   {
    "duration": 19,
    "start_time": "2025-06-06T04:24:18.288Z"
   },
   {
    "duration": 202,
    "start_time": "2025-06-06T04:24:18.760Z"
   },
   {
    "duration": 101,
    "start_time": "2025-06-06T04:24:20.040Z"
   },
   {
    "duration": 61,
    "start_time": "2025-06-06T04:24:21.560Z"
   },
   {
    "duration": 8680,
    "start_time": "2025-06-07T16:45:34.315Z"
   },
   {
    "duration": 1393,
    "start_time": "2025-06-07T16:45:42.997Z"
   },
   {
    "duration": 2408,
    "start_time": "2025-06-07T16:45:44.391Z"
   },
   {
    "duration": 21,
    "start_time": "2025-06-07T16:45:46.801Z"
   },
   {
    "duration": 200,
    "start_time": "2025-06-07T16:45:46.824Z"
   },
   {
    "duration": 53,
    "start_time": "2025-06-07T16:45:47.025Z"
   },
   {
    "duration": 28,
    "start_time": "2025-06-07T16:45:47.080Z"
   },
   {
    "duration": 42,
    "start_time": "2025-06-07T16:45:47.110Z"
   },
   {
    "duration": 6,
    "start_time": "2025-06-07T16:45:47.154Z"
   },
   {
    "duration": 14,
    "start_time": "2025-06-07T16:45:47.162Z"
   },
   {
    "duration": 6,
    "start_time": "2025-06-07T16:45:47.178Z"
   },
   {
    "duration": 7,
    "start_time": "2025-06-07T16:45:47.185Z"
   },
   {
    "duration": 67,
    "start_time": "2025-06-07T16:45:47.194Z"
   },
   {
    "duration": 5,
    "start_time": "2025-06-07T16:45:47.262Z"
   },
   {
    "duration": 75,
    "start_time": "2025-06-07T16:45:47.268Z"
   },
   {
    "duration": 140,
    "start_time": "2025-06-07T16:45:47.344Z"
   },
   {
    "duration": 4,
    "start_time": "2025-06-07T16:45:47.486Z"
   },
   {
    "duration": 53,
    "start_time": "2025-06-07T16:45:47.492Z"
   },
   {
    "duration": 26,
    "start_time": "2025-06-07T16:45:47.547Z"
   },
   {
    "duration": 22,
    "start_time": "2025-06-07T16:45:47.575Z"
   },
   {
    "duration": 42,
    "start_time": "2025-06-07T16:45:47.598Z"
   },
   {
    "duration": 150,
    "start_time": "2025-06-07T16:45:47.643Z"
   },
   {
    "duration": 69,
    "start_time": "2025-06-07T16:45:48.097Z"
   },
   {
    "duration": 38,
    "start_time": "2025-06-07T16:45:48.578Z"
   },
   {
    "duration": 16,
    "start_time": "2025-06-07T16:45:49.024Z"
   },
   {
    "duration": 194,
    "start_time": "2025-06-07T16:45:49.475Z"
   },
   {
    "duration": 99,
    "start_time": "2025-06-07T16:45:50.017Z"
   },
   {
    "duration": 41,
    "start_time": "2025-06-07T16:45:50.542Z"
   },
   {
    "duration": 8868,
    "start_time": "2025-06-08T05:12:21.768Z"
   },
   {
    "duration": 1474,
    "start_time": "2025-06-08T05:12:30.639Z"
   },
   {
    "duration": 1902,
    "start_time": "2025-06-08T05:12:32.115Z"
   },
   {
    "duration": 20,
    "start_time": "2025-06-08T05:12:34.019Z"
   },
   {
    "duration": 127,
    "start_time": "2025-06-08T05:12:34.041Z"
   },
   {
    "duration": 44,
    "start_time": "2025-06-08T05:12:34.170Z"
   },
   {
    "duration": 43,
    "start_time": "2025-06-08T05:12:34.216Z"
   },
   {
    "duration": 29,
    "start_time": "2025-06-08T05:12:34.261Z"
   },
   {
    "duration": 130,
    "start_time": "2025-06-08T05:12:34.291Z"
   },
   {
    "duration": 10,
    "start_time": "2025-06-08T05:12:34.423Z"
   },
   {
    "duration": 20,
    "start_time": "2025-06-08T05:12:34.434Z"
   },
   {
    "duration": 9,
    "start_time": "2025-06-08T05:12:34.456Z"
   },
   {
    "duration": 51,
    "start_time": "2025-06-08T05:12:34.467Z"
   },
   {
    "duration": 5,
    "start_time": "2025-06-08T05:12:34.519Z"
   },
   {
    "duration": 86,
    "start_time": "2025-06-08T05:12:34.526Z"
   },
   {
    "duration": 141,
    "start_time": "2025-06-08T05:12:34.614Z"
   },
   {
    "duration": 4,
    "start_time": "2025-06-08T05:12:34.757Z"
   },
   {
    "duration": 20,
    "start_time": "2025-06-08T05:12:34.763Z"
   },
   {
    "duration": 19,
    "start_time": "2025-06-08T05:12:34.784Z"
   },
   {
    "duration": 25,
    "start_time": "2025-06-08T05:12:34.804Z"
   },
   {
    "duration": 39,
    "start_time": "2025-06-08T05:12:34.830Z"
   },
   {
    "duration": 153,
    "start_time": "2025-06-08T05:12:34.871Z"
   },
   {
    "duration": 74,
    "start_time": "2025-06-08T05:12:35.026Z"
   },
   {
    "duration": 139,
    "start_time": "2025-06-08T05:12:35.101Z"
   },
   {
    "duration": 16,
    "start_time": "2025-06-08T05:12:35.242Z"
   },
   {
    "duration": 202,
    "start_time": "2025-06-08T05:12:35.260Z"
   },
   {
    "duration": 106,
    "start_time": "2025-06-08T05:12:35.464Z"
   },
   {
    "duration": 38,
    "start_time": "2025-06-08T05:12:35.573Z"
   },
   {
    "duration": 10,
    "start_time": "2025-06-08T05:32:43.095Z"
   },
   {
    "duration": 12,
    "start_time": "2025-06-08T05:32:58.912Z"
   },
   {
    "duration": 121,
    "start_time": "2025-06-08T05:34:40.944Z"
   },
   {
    "duration": 431,
    "start_time": "2025-06-08T05:37:33.684Z"
   },
   {
    "duration": 85,
    "start_time": "2025-06-08T05:47:13.852Z"
   },
   {
    "duration": 127,
    "start_time": "2025-06-08T05:50:19.333Z"
   },
   {
    "duration": 913,
    "start_time": "2025-06-08T05:53:22.892Z"
   },
   {
    "duration": 1121,
    "start_time": "2025-06-08T05:54:30.531Z"
   },
   {
    "duration": 4831,
    "start_time": "2025-06-08T05:54:44.725Z"
   },
   {
    "duration": 1254,
    "start_time": "2025-06-08T05:54:49.558Z"
   },
   {
    "duration": 2050,
    "start_time": "2025-06-08T05:54:50.814Z"
   },
   {
    "duration": 21,
    "start_time": "2025-06-08T05:54:52.866Z"
   },
   {
    "duration": 131,
    "start_time": "2025-06-08T05:54:52.888Z"
   },
   {
    "duration": 52,
    "start_time": "2025-06-08T05:54:53.021Z"
   },
   {
    "duration": 22,
    "start_time": "2025-06-08T05:54:53.075Z"
   },
   {
    "duration": 73,
    "start_time": "2025-06-08T05:54:53.099Z"
   },
   {
    "duration": 8,
    "start_time": "2025-06-08T05:54:53.175Z"
   },
   {
    "duration": 9,
    "start_time": "2025-06-08T05:54:53.187Z"
   },
   {
    "duration": 135,
    "start_time": "2025-06-08T05:54:53.198Z"
   },
   {
    "duration": 14,
    "start_time": "2025-06-08T05:54:53.335Z"
   },
   {
    "duration": 50,
    "start_time": "2025-06-08T05:54:53.350Z"
   },
   {
    "duration": 5,
    "start_time": "2025-06-08T05:54:53.401Z"
   },
   {
    "duration": 93,
    "start_time": "2025-06-08T05:54:53.407Z"
   },
   {
    "duration": 123,
    "start_time": "2025-06-08T05:54:53.501Z"
   },
   {
    "duration": 3,
    "start_time": "2025-06-08T05:54:53.626Z"
   },
   {
    "duration": 31,
    "start_time": "2025-06-08T05:54:53.631Z"
   },
   {
    "duration": 28,
    "start_time": "2025-06-08T05:54:53.663Z"
   },
   {
    "duration": 28,
    "start_time": "2025-06-08T05:54:53.693Z"
   },
   {
    "duration": 38,
    "start_time": "2025-06-08T05:55:06.010Z"
   },
   {
    "duration": 37,
    "start_time": "2025-06-08T05:55:18.772Z"
   },
   {
    "duration": 100,
    "start_time": "2025-06-08T05:55:33.120Z"
   },
   {
    "duration": 4,
    "start_time": "2025-06-08T05:56:04.132Z"
   },
   {
    "duration": 11,
    "start_time": "2025-06-08T05:56:04.240Z"
   },
   {
    "duration": 9,
    "start_time": "2025-06-08T05:56:04.572Z"
   },
   {
    "duration": 14,
    "start_time": "2025-06-08T05:56:04.870Z"
   },
   {
    "duration": 265,
    "start_time": "2025-06-08T05:56:36.361Z"
   },
   {
    "duration": 16,
    "start_time": "2025-06-08T05:56:41.112Z"
   },
   {
    "duration": 163,
    "start_time": "2025-06-08T05:56:41.432Z"
   },
   {
    "duration": 70,
    "start_time": "2025-06-08T05:56:41.852Z"
   },
   {
    "duration": 35,
    "start_time": "2025-06-08T05:56:42.640Z"
   },
   {
    "duration": 16,
    "start_time": "2025-06-08T05:56:43.035Z"
   },
   {
    "duration": 191,
    "start_time": "2025-06-08T05:56:43.493Z"
   },
   {
    "duration": 101,
    "start_time": "2025-06-08T05:56:44.132Z"
   },
   {
    "duration": 41,
    "start_time": "2025-06-08T05:56:44.631Z"
   },
   {
    "duration": 49,
    "start_time": "2025-06-08T05:56:51.033Z"
   },
   {
    "duration": 102,
    "start_time": "2025-06-08T05:57:05.497Z"
   },
   {
    "duration": 4962,
    "start_time": "2025-06-08T06:35:18.906Z"
   },
   {
    "duration": 1220,
    "start_time": "2025-06-08T06:35:23.870Z"
   },
   {
    "duration": 2740,
    "start_time": "2025-06-08T06:35:25.092Z"
   },
   {
    "duration": 31,
    "start_time": "2025-06-08T06:35:27.834Z"
   },
   {
    "duration": 128,
    "start_time": "2025-06-08T06:35:27.867Z"
   },
   {
    "duration": 47,
    "start_time": "2025-06-08T06:35:27.997Z"
   },
   {
    "duration": 25,
    "start_time": "2025-06-08T06:35:28.059Z"
   },
   {
    "duration": 29,
    "start_time": "2025-06-08T06:35:28.086Z"
   },
   {
    "duration": 9,
    "start_time": "2025-06-08T06:35:28.117Z"
   },
   {
    "duration": 11,
    "start_time": "2025-06-08T06:35:28.157Z"
   },
   {
    "duration": 7,
    "start_time": "2025-06-08T06:35:28.170Z"
   },
   {
    "duration": 4,
    "start_time": "2025-06-08T06:35:28.179Z"
   },
   {
    "duration": 74,
    "start_time": "2025-06-08T06:35:28.185Z"
   },
   {
    "duration": 5,
    "start_time": "2025-06-08T06:35:28.261Z"
   },
   {
    "duration": 63,
    "start_time": "2025-06-08T06:35:28.268Z"
   },
   {
    "duration": 115,
    "start_time": "2025-06-08T06:35:28.357Z"
   },
   {
    "duration": 5,
    "start_time": "2025-06-08T06:35:28.474Z"
   },
   {
    "duration": 11,
    "start_time": "2025-06-08T06:35:28.480Z"
   },
   {
    "duration": 18,
    "start_time": "2025-06-08T06:35:28.492Z"
   },
   {
    "duration": 52,
    "start_time": "2025-06-08T06:35:28.512Z"
   },
   {
    "duration": 15,
    "start_time": "2025-06-08T06:35:28.565Z"
   },
   {
    "duration": 154,
    "start_time": "2025-06-08T06:35:28.582Z"
   },
   {
    "duration": 73,
    "start_time": "2025-06-08T06:35:28.738Z"
   },
   {
    "duration": 49,
    "start_time": "2025-06-08T06:35:28.814Z"
   },
   {
    "duration": 16,
    "start_time": "2025-06-08T06:35:28.865Z"
   },
   {
    "duration": 188,
    "start_time": "2025-06-08T06:35:29.230Z"
   },
   {
    "duration": 100,
    "start_time": "2025-06-08T06:35:29.630Z"
   },
   {
    "duration": 40,
    "start_time": "2025-06-08T06:35:30.017Z"
   },
   {
    "duration": 41,
    "start_time": "2025-06-08T06:35:32.438Z"
   },
   {
    "duration": 17,
    "start_time": "2025-06-08T06:39:29.302Z"
   },
   {
    "duration": 122,
    "start_time": "2025-06-08T06:43:48.210Z"
   },
   {
    "duration": 13,
    "start_time": "2025-06-08T06:45:05.438Z"
   },
   {
    "duration": 13,
    "start_time": "2025-06-08T06:45:20.117Z"
   },
   {
    "duration": 17,
    "start_time": "2025-06-08T06:45:49.070Z"
   },
   {
    "duration": 10,
    "start_time": "2025-06-08T06:46:11.456Z"
   },
   {
    "duration": 4908,
    "start_time": "2025-06-08T06:46:54.309Z"
   },
   {
    "duration": 1279,
    "start_time": "2025-06-08T06:46:59.219Z"
   },
   {
    "duration": 1917,
    "start_time": "2025-06-08T06:47:00.499Z"
   },
   {
    "duration": 21,
    "start_time": "2025-06-08T06:47:02.418Z"
   },
   {
    "duration": 143,
    "start_time": "2025-06-08T06:47:02.441Z"
   },
   {
    "duration": 45,
    "start_time": "2025-06-08T06:47:02.585Z"
   },
   {
    "duration": 39,
    "start_time": "2025-06-08T06:47:02.631Z"
   },
   {
    "duration": 29,
    "start_time": "2025-06-08T06:47:02.671Z"
   },
   {
    "duration": 168,
    "start_time": "2025-06-08T06:47:02.702Z"
   },
   {
    "duration": 21,
    "start_time": "2025-06-08T06:47:02.872Z"
   },
   {
    "duration": 6,
    "start_time": "2025-06-08T06:47:02.895Z"
   },
   {
    "duration": 9,
    "start_time": "2025-06-08T06:47:02.903Z"
   },
   {
    "duration": 78,
    "start_time": "2025-06-08T06:47:02.914Z"
   },
   {
    "duration": 5,
    "start_time": "2025-06-08T06:47:02.995Z"
   },
   {
    "duration": 75,
    "start_time": "2025-06-08T06:47:03.001Z"
   },
   {
    "duration": 125,
    "start_time": "2025-06-08T06:47:03.077Z"
   },
   {
    "duration": 3,
    "start_time": "2025-06-08T06:47:03.204Z"
   },
   {
    "duration": 112,
    "start_time": "2025-06-08T06:47:03.209Z"
   },
   {
    "duration": 25,
    "start_time": "2025-06-08T06:47:03.322Z"
   },
   {
    "duration": 167,
    "start_time": "2025-06-08T06:47:03.348Z"
   },
   {
    "duration": 14,
    "start_time": "2025-06-08T06:47:03.517Z"
   },
   {
    "duration": 157,
    "start_time": "2025-06-08T06:47:03.532Z"
   },
   {
    "duration": 82,
    "start_time": "2025-06-08T06:47:03.690Z"
   },
   {
    "duration": 34,
    "start_time": "2025-06-08T06:47:03.775Z"
   },
   {
    "duration": 50,
    "start_time": "2025-06-08T06:47:03.811Z"
   },
   {
    "duration": 222,
    "start_time": "2025-06-08T06:47:03.863Z"
   },
   {
    "duration": 104,
    "start_time": "2025-06-08T06:47:04.308Z"
   },
   {
    "duration": 39,
    "start_time": "2025-06-08T06:47:04.717Z"
   },
   {
    "duration": 41,
    "start_time": "2025-06-08T06:47:07.256Z"
   },
   {
    "duration": 18,
    "start_time": "2025-06-08T06:47:08.289Z"
   },
   {
    "duration": 53,
    "start_time": "2025-06-08T06:47:08.678Z"
   },
   {
    "duration": 8927,
    "start_time": "2025-06-08T11:08:42.321Z"
   },
   {
    "duration": 1545,
    "start_time": "2025-06-08T11:08:51.251Z"
   },
   {
    "duration": 1755,
    "start_time": "2025-06-08T11:08:52.798Z"
   },
   {
    "duration": 26,
    "start_time": "2025-06-08T11:08:54.556Z"
   },
   {
    "duration": 130,
    "start_time": "2025-06-08T11:08:54.584Z"
   },
   {
    "duration": 57,
    "start_time": "2025-06-08T11:08:54.715Z"
   },
   {
    "duration": 23,
    "start_time": "2025-06-08T11:08:54.774Z"
   },
   {
    "duration": 27,
    "start_time": "2025-06-08T11:08:54.799Z"
   },
   {
    "duration": 102,
    "start_time": "2025-06-08T11:08:54.827Z"
   },
   {
    "duration": 9,
    "start_time": "2025-06-08T11:08:54.932Z"
   },
   {
    "duration": 6,
    "start_time": "2025-06-08T11:08:54.943Z"
   },
   {
    "duration": 4,
    "start_time": "2025-06-08T11:08:54.951Z"
   },
   {
    "duration": 53,
    "start_time": "2025-06-08T11:08:54.956Z"
   },
   {
    "duration": 5,
    "start_time": "2025-06-08T11:08:55.011Z"
   },
   {
    "duration": 96,
    "start_time": "2025-06-08T11:08:55.017Z"
   },
   {
    "duration": 158,
    "start_time": "2025-06-08T11:08:55.114Z"
   },
   {
    "duration": 5,
    "start_time": "2025-06-08T11:08:55.273Z"
   },
   {
    "duration": 11,
    "start_time": "2025-06-08T11:08:55.279Z"
   },
   {
    "duration": 19,
    "start_time": "2025-06-08T11:08:55.291Z"
   },
   {
    "duration": 63,
    "start_time": "2025-06-08T11:08:55.312Z"
   },
   {
    "duration": 15,
    "start_time": "2025-06-08T11:08:55.376Z"
   },
   {
    "duration": 146,
    "start_time": "2025-06-08T11:08:55.393Z"
   },
   {
    "duration": 79,
    "start_time": "2025-06-08T11:08:55.541Z"
   },
   {
    "duration": 56,
    "start_time": "2025-06-08T11:08:55.622Z"
   },
   {
    "duration": 16,
    "start_time": "2025-06-08T11:08:55.679Z"
   },
   {
    "duration": 229,
    "start_time": "2025-06-08T11:08:55.696Z"
   },
   {
    "duration": 115,
    "start_time": "2025-06-08T11:08:56.370Z"
   },
   {
    "duration": 43,
    "start_time": "2025-06-08T11:08:58.024Z"
   },
   {
    "duration": 40,
    "start_time": "2025-06-08T11:09:23.953Z"
   },
   {
    "duration": 82,
    "start_time": "2025-06-08T11:09:25.442Z"
   },
   {
    "duration": 40,
    "start_time": "2025-06-08T11:10:51.980Z"
   },
   {
    "duration": 36,
    "start_time": "2025-06-08T11:13:36.363Z"
   },
   {
    "duration": 34,
    "start_time": "2025-06-08T11:18:15.067Z"
   },
   {
    "duration": 37,
    "start_time": "2025-06-08T11:18:21.588Z"
   },
   {
    "duration": 5,
    "start_time": "2025-06-08T11:28:01.553Z"
   },
   {
    "duration": 9,
    "start_time": "2025-06-08T11:28:17.560Z"
   },
   {
    "duration": 35,
    "start_time": "2025-06-08T11:29:13.366Z"
   },
   {
    "duration": 38,
    "start_time": "2025-06-08T11:29:18.624Z"
   },
   {
    "duration": 5121,
    "start_time": "2025-06-08T11:29:49.969Z"
   },
   {
    "duration": 1315,
    "start_time": "2025-06-08T11:29:55.092Z"
   },
   {
    "duration": 1697,
    "start_time": "2025-06-08T11:29:56.409Z"
   },
   {
    "duration": 21,
    "start_time": "2025-06-08T11:29:58.108Z"
   },
   {
    "duration": 171,
    "start_time": "2025-06-08T11:29:58.131Z"
   },
   {
    "duration": 66,
    "start_time": "2025-06-08T11:29:58.304Z"
   },
   {
    "duration": 27,
    "start_time": "2025-06-08T11:29:58.371Z"
   },
   {
    "duration": 30,
    "start_time": "2025-06-08T11:29:58.400Z"
   },
   {
    "duration": 27,
    "start_time": "2025-06-08T11:29:58.432Z"
   },
   {
    "duration": 11,
    "start_time": "2025-06-08T11:29:58.461Z"
   },
   {
    "duration": 7,
    "start_time": "2025-06-08T11:29:58.474Z"
   },
   {
    "duration": 4,
    "start_time": "2025-06-08T11:29:58.483Z"
   },
   {
    "duration": 75,
    "start_time": "2025-06-08T11:29:58.489Z"
   },
   {
    "duration": 5,
    "start_time": "2025-06-08T11:29:58.566Z"
   },
   {
    "duration": 87,
    "start_time": "2025-06-08T11:29:58.573Z"
   },
   {
    "duration": 132,
    "start_time": "2025-06-08T11:29:58.662Z"
   },
   {
    "duration": 4,
    "start_time": "2025-06-08T11:29:58.795Z"
   },
   {
    "duration": 12,
    "start_time": "2025-06-08T11:29:58.801Z"
   },
   {
    "duration": 45,
    "start_time": "2025-06-08T11:29:58.815Z"
   },
   {
    "duration": 21,
    "start_time": "2025-06-08T11:29:58.862Z"
   },
   {
    "duration": 17,
    "start_time": "2025-06-08T11:29:59.075Z"
   },
   {
    "duration": 147,
    "start_time": "2025-06-08T11:29:59.520Z"
   },
   {
    "duration": 74,
    "start_time": "2025-06-08T11:29:59.960Z"
   },
   {
    "duration": 41,
    "start_time": "2025-06-08T11:30:00.408Z"
   },
   {
    "duration": 17,
    "start_time": "2025-06-08T11:30:00.784Z"
   },
   {
    "duration": 209,
    "start_time": "2025-06-08T11:30:01.241Z"
   },
   {
    "duration": 119,
    "start_time": "2025-06-08T11:30:01.640Z"
   },
   {
    "duration": 58,
    "start_time": "2025-06-08T11:30:02.103Z"
   },
   {
    "duration": 40,
    "start_time": "2025-06-08T11:30:04.362Z"
   },
   {
    "duration": 126,
    "start_time": "2025-06-08T11:30:04.983Z"
   },
   {
    "duration": 39,
    "start_time": "2025-06-08T11:30:57.681Z"
   },
   {
    "duration": 49,
    "start_time": "2025-06-08T11:31:01.520Z"
   },
   {
    "duration": 5131,
    "start_time": "2025-06-08T11:32:11.962Z"
   },
   {
    "duration": 1313,
    "start_time": "2025-06-08T11:32:17.095Z"
   },
   {
    "duration": 1754,
    "start_time": "2025-06-08T11:32:18.409Z"
   },
   {
    "duration": 27,
    "start_time": "2025-06-08T11:32:20.166Z"
   },
   {
    "duration": 138,
    "start_time": "2025-06-08T11:32:20.195Z"
   },
   {
    "duration": 61,
    "start_time": "2025-06-08T11:32:20.335Z"
   },
   {
    "duration": 25,
    "start_time": "2025-06-08T11:32:20.398Z"
   },
   {
    "duration": 57,
    "start_time": "2025-06-08T11:32:20.425Z"
   },
   {
    "duration": 8,
    "start_time": "2025-06-08T11:32:20.484Z"
   },
   {
    "duration": 15,
    "start_time": "2025-06-08T11:32:20.496Z"
   },
   {
    "duration": 17,
    "start_time": "2025-06-08T11:32:20.513Z"
   },
   {
    "duration": 39,
    "start_time": "2025-06-08T11:32:20.532Z"
   },
   {
    "duration": 48,
    "start_time": "2025-06-08T11:32:20.573Z"
   },
   {
    "duration": 5,
    "start_time": "2025-06-08T11:32:20.623Z"
   },
   {
    "duration": 88,
    "start_time": "2025-06-08T11:32:20.630Z"
   },
   {
    "duration": 150,
    "start_time": "2025-06-08T11:32:20.720Z"
   },
   {
    "duration": 5,
    "start_time": "2025-06-08T11:32:20.871Z"
   },
   {
    "duration": 16,
    "start_time": "2025-06-08T11:32:20.877Z"
   },
   {
    "duration": 19,
    "start_time": "2025-06-08T11:32:20.895Z"
   },
   {
    "duration": 49,
    "start_time": "2025-06-08T11:32:20.915Z"
   },
   {
    "duration": 19,
    "start_time": "2025-06-08T11:32:20.966Z"
   },
   {
    "duration": 157,
    "start_time": "2025-06-08T11:32:20.987Z"
   },
   {
    "duration": 73,
    "start_time": "2025-06-08T11:32:21.145Z"
   },
   {
    "duration": 57,
    "start_time": "2025-06-08T11:32:21.220Z"
   },
   {
    "duration": 16,
    "start_time": "2025-06-08T11:32:21.279Z"
   },
   {
    "duration": 214,
    "start_time": "2025-06-08T11:32:21.623Z"
   },
   {
    "duration": 107,
    "start_time": "2025-06-08T11:32:22.007Z"
   },
   {
    "duration": 39,
    "start_time": "2025-06-08T11:32:22.400Z"
   },
   {
    "duration": 145,
    "start_time": "2025-06-08T11:32:24.220Z"
   },
   {
    "duration": 41,
    "start_time": "2025-06-08T11:32:24.799Z"
   },
   {
    "duration": 51,
    "start_time": "2025-06-08T11:34:47.320Z"
   },
   {
    "duration": 34,
    "start_time": "2025-06-08T11:34:51.077Z"
   },
   {
    "duration": 9,
    "start_time": "2025-06-08T11:34:54.664Z"
   },
   {
    "duration": 1314,
    "start_time": "2025-06-08T11:45:41.220Z"
   },
   {
    "duration": 1197,
    "start_time": "2025-06-08T11:47:17.540Z"
   },
   {
    "duration": 4861,
    "start_time": "2025-06-08T11:50:36.100Z"
   },
   {
    "duration": 1318,
    "start_time": "2025-06-08T11:50:40.963Z"
   },
   {
    "duration": 1671,
    "start_time": "2025-06-08T11:50:42.283Z"
   },
   {
    "duration": 21,
    "start_time": "2025-06-08T11:50:43.956Z"
   },
   {
    "duration": 175,
    "start_time": "2025-06-08T11:50:43.978Z"
   },
   {
    "duration": 45,
    "start_time": "2025-06-08T11:50:44.158Z"
   },
   {
    "duration": 61,
    "start_time": "2025-06-08T11:50:44.204Z"
   },
   {
    "duration": 29,
    "start_time": "2025-06-08T11:50:44.266Z"
   },
   {
    "duration": 6,
    "start_time": "2025-06-08T11:50:44.296Z"
   },
   {
    "duration": 9,
    "start_time": "2025-06-08T11:50:44.304Z"
   },
   {
    "duration": 85,
    "start_time": "2025-06-08T11:50:44.315Z"
   },
   {
    "duration": 4,
    "start_time": "2025-06-08T11:50:44.402Z"
   },
   {
    "duration": 47,
    "start_time": "2025-06-08T11:50:44.407Z"
   },
   {
    "duration": 5,
    "start_time": "2025-06-08T11:50:44.456Z"
   },
   {
    "duration": 62,
    "start_time": "2025-06-08T11:50:44.462Z"
   },
   {
    "duration": 133,
    "start_time": "2025-06-08T11:50:44.526Z"
   },
   {
    "duration": 4,
    "start_time": "2025-06-08T11:50:44.660Z"
   },
   {
    "duration": 10,
    "start_time": "2025-06-08T11:50:44.666Z"
   },
   {
    "duration": 21,
    "start_time": "2025-06-08T11:50:44.677Z"
   },
   {
    "duration": 18,
    "start_time": "2025-06-08T11:50:44.700Z"
   },
   {
    "duration": 15,
    "start_time": "2025-06-08T11:50:44.900Z"
   },
   {
    "duration": 142,
    "start_time": "2025-06-08T11:50:45.380Z"
   },
   {
    "duration": 69,
    "start_time": "2025-06-08T11:50:45.908Z"
   },
   {
    "duration": 36,
    "start_time": "2025-06-08T11:50:46.360Z"
   },
   {
    "duration": 16,
    "start_time": "2025-06-08T11:50:46.948Z"
   },
   {
    "duration": 201,
    "start_time": "2025-06-08T11:50:47.926Z"
   },
   {
    "duration": 100,
    "start_time": "2025-06-08T11:50:48.847Z"
   },
   {
    "duration": 39,
    "start_time": "2025-06-08T11:50:49.766Z"
   },
   {
    "duration": 40,
    "start_time": "2025-06-08T11:50:53.339Z"
   },
   {
    "duration": 34,
    "start_time": "2025-06-08T11:50:54.288Z"
   },
   {
    "duration": 10,
    "start_time": "2025-06-08T11:50:54.818Z"
   },
   {
    "duration": 2216,
    "start_time": "2025-06-08T11:50:56.486Z"
   },
   {
    "duration": 1125,
    "start_time": "2025-06-08T11:52:07.348Z"
   },
   {
    "duration": 39,
    "start_time": "2025-06-08T11:52:12.799Z"
   },
   {
    "duration": 36,
    "start_time": "2025-06-08T11:52:13.607Z"
   },
   {
    "duration": 12,
    "start_time": "2025-06-08T11:52:14.286Z"
   },
   {
    "duration": 1419,
    "start_time": "2025-06-08T11:52:16.360Z"
   },
   {
    "duration": 5017,
    "start_time": "2025-06-08T12:02:29.088Z"
   },
   {
    "duration": 1329,
    "start_time": "2025-06-08T12:02:34.108Z"
   },
   {
    "duration": 1800,
    "start_time": "2025-06-08T12:02:35.439Z"
   },
   {
    "duration": 27,
    "start_time": "2025-06-08T12:02:37.241Z"
   },
   {
    "duration": 125,
    "start_time": "2025-06-08T12:02:37.270Z"
   },
   {
    "duration": 61,
    "start_time": "2025-06-08T12:02:37.397Z"
   },
   {
    "duration": 24,
    "start_time": "2025-06-08T12:02:37.459Z"
   },
   {
    "duration": 28,
    "start_time": "2025-06-08T12:02:37.485Z"
   },
   {
    "duration": 6,
    "start_time": "2025-06-08T12:02:37.515Z"
   },
   {
    "duration": 39,
    "start_time": "2025-06-08T12:02:37.523Z"
   },
   {
    "duration": 8,
    "start_time": "2025-06-08T12:02:37.564Z"
   },
   {
    "duration": 48,
    "start_time": "2025-06-08T12:02:37.574Z"
   },
   {
    "duration": 89,
    "start_time": "2025-06-08T12:02:37.624Z"
   },
   {
    "duration": 5,
    "start_time": "2025-06-08T12:02:37.714Z"
   },
   {
    "duration": 66,
    "start_time": "2025-06-08T12:02:37.721Z"
   },
   {
    "duration": 120,
    "start_time": "2025-06-08T12:02:37.789Z"
   },
   {
    "duration": 5,
    "start_time": "2025-06-08T12:02:38.007Z"
   },
   {
    "duration": 10,
    "start_time": "2025-06-08T12:02:38.228Z"
   },
   {
    "duration": 18,
    "start_time": "2025-06-08T12:02:38.727Z"
   },
   {
    "duration": 20,
    "start_time": "2025-06-08T12:02:39.059Z"
   },
   {
    "duration": 16,
    "start_time": "2025-06-08T12:02:39.699Z"
   },
   {
    "duration": 141,
    "start_time": "2025-06-08T12:02:40.119Z"
   },
   {
    "duration": 70,
    "start_time": "2025-06-08T12:02:40.577Z"
   },
   {
    "duration": 37,
    "start_time": "2025-06-08T12:02:41.098Z"
   },
   {
    "duration": 17,
    "start_time": "2025-06-08T12:02:41.779Z"
   },
   {
    "duration": 214,
    "start_time": "2025-06-08T12:02:42.126Z"
   },
   {
    "duration": 105,
    "start_time": "2025-06-08T12:02:42.579Z"
   },
   {
    "duration": 55,
    "start_time": "2025-06-08T12:02:43.148Z"
   },
   {
    "duration": 45,
    "start_time": "2025-06-08T12:02:45.460Z"
   },
   {
    "duration": 35,
    "start_time": "2025-06-08T12:02:46.580Z"
   },
   {
    "duration": 9,
    "start_time": "2025-06-08T12:02:47.819Z"
   },
   {
    "duration": 39,
    "start_time": "2025-06-08T12:03:11.539Z"
   },
   {
    "duration": 79,
    "start_time": "2025-06-08T12:07:57.788Z"
   },
   {
    "duration": 1290,
    "start_time": "2025-06-08T12:07:58.165Z"
   },
   {
    "duration": 39,
    "start_time": "2025-06-08T12:08:32.727Z"
   },
   {
    "duration": 9,
    "start_time": "2025-06-08T12:08:39.639Z"
   },
   {
    "duration": 176,
    "start_time": "2025-06-08T12:09:31.970Z"
   },
   {
    "duration": 154,
    "start_time": "2025-06-08T12:10:07.007Z"
   },
   {
    "duration": 11,
    "start_time": "2025-06-08T12:12:22.278Z"
   },
   {
    "duration": 151,
    "start_time": "2025-06-08T12:12:30.346Z"
   },
   {
    "duration": 265,
    "start_time": "2025-06-08T12:15:14.659Z"
   },
   {
    "duration": 13,
    "start_time": "2025-06-08T12:16:42.459Z"
   },
   {
    "duration": 192,
    "start_time": "2025-06-08T12:16:49.496Z"
   },
   {
    "duration": 207,
    "start_time": "2025-06-08T12:17:11.379Z"
   },
   {
    "duration": 457,
    "start_time": "2025-06-08T12:19:38.125Z"
   },
   {
    "duration": 10,
    "start_time": "2025-06-08T12:20:01.219Z"
   },
   {
    "duration": 41,
    "start_time": "2025-06-08T12:20:10.773Z"
   },
   {
    "duration": 35,
    "start_time": "2025-06-08T12:20:11.178Z"
   },
   {
    "duration": 10,
    "start_time": "2025-06-08T12:20:12.709Z"
   },
   {
    "duration": 152,
    "start_time": "2025-06-08T12:20:18.303Z"
   },
   {
    "duration": 186,
    "start_time": "2025-06-08T12:20:22.216Z"
   },
   {
    "duration": 146,
    "start_time": "2025-06-08T12:20:23.107Z"
   },
   {
    "duration": 170,
    "start_time": "2025-06-08T12:22:54.066Z"
   },
   {
    "duration": 189,
    "start_time": "2025-06-08T12:23:01.858Z"
   },
   {
    "duration": 257,
    "start_time": "2025-06-08T12:23:14.106Z"
   },
   {
    "duration": 165,
    "start_time": "2025-06-08T12:25:24.706Z"
   },
   {
    "duration": 173,
    "start_time": "2025-06-08T12:25:51.759Z"
   },
   {
    "duration": 196,
    "start_time": "2025-06-08T12:27:46.678Z"
   },
   {
    "duration": 195,
    "start_time": "2025-06-08T12:28:51.838Z"
   },
   {
    "duration": 4,
    "start_time": "2025-06-08T12:35:15.458Z"
   },
   {
    "duration": 452,
    "start_time": "2025-06-08T12:35:27.455Z"
   },
   {
    "duration": 10,
    "start_time": "2025-06-08T12:36:07.943Z"
   },
   {
    "duration": 5009,
    "start_time": "2025-06-08T13:19:31.155Z"
   },
   {
    "duration": 1317,
    "start_time": "2025-06-08T13:19:36.167Z"
   },
   {
    "duration": 1748,
    "start_time": "2025-06-08T13:19:37.485Z"
   },
   {
    "duration": 29,
    "start_time": "2025-06-08T13:19:39.235Z"
   },
   {
    "duration": 122,
    "start_time": "2025-06-08T13:19:39.266Z"
   },
   {
    "duration": 45,
    "start_time": "2025-06-08T13:19:39.390Z"
   },
   {
    "duration": 64,
    "start_time": "2025-06-08T13:19:39.436Z"
   },
   {
    "duration": 28,
    "start_time": "2025-06-08T13:19:39.502Z"
   },
   {
    "duration": 19,
    "start_time": "2025-06-08T13:19:39.532Z"
   },
   {
    "duration": 9,
    "start_time": "2025-06-08T13:19:39.555Z"
   },
   {
    "duration": 7,
    "start_time": "2025-06-08T13:19:39.566Z"
   },
   {
    "duration": 4,
    "start_time": "2025-06-08T13:19:39.575Z"
   },
   {
    "duration": 49,
    "start_time": "2025-06-08T13:19:39.581Z"
   },
   {
    "duration": 27,
    "start_time": "2025-06-08T13:19:39.632Z"
   },
   {
    "duration": 112,
    "start_time": "2025-06-08T13:19:39.661Z"
   },
   {
    "duration": 126,
    "start_time": "2025-06-08T13:19:39.775Z"
   },
   {
    "duration": 5,
    "start_time": "2025-06-08T13:19:39.903Z"
   },
   {
    "duration": 13,
    "start_time": "2025-06-08T13:19:39.909Z"
   },
   {
    "duration": 41,
    "start_time": "2025-06-08T13:19:39.924Z"
   },
   {
    "duration": 19,
    "start_time": "2025-06-08T13:19:39.967Z"
   },
   {
    "duration": 31,
    "start_time": "2025-06-08T13:19:39.988Z"
   },
   {
    "duration": 145,
    "start_time": "2025-06-08T13:19:40.254Z"
   },
   {
    "duration": 68,
    "start_time": "2025-06-08T13:19:40.627Z"
   },
   {
    "duration": 36,
    "start_time": "2025-06-08T13:19:41.015Z"
   },
   {
    "duration": 15,
    "start_time": "2025-06-08T13:19:41.396Z"
   },
   {
    "duration": 191,
    "start_time": "2025-06-08T13:19:41.853Z"
   },
   {
    "duration": 99,
    "start_time": "2025-06-08T13:19:42.414Z"
   },
   {
    "duration": 40,
    "start_time": "2025-06-08T13:19:42.994Z"
   },
   {
    "duration": 250,
    "start_time": "2025-06-08T13:20:11.075Z"
   },
   {
    "duration": 188,
    "start_time": "2025-06-08T13:22:44.395Z"
   },
   {
    "duration": 5,
    "start_time": "2025-06-08T13:23:31.623Z"
   },
   {
    "duration": 74,
    "start_time": "2025-06-08T13:23:37.831Z"
   },
   {
    "duration": 39,
    "start_time": "2025-06-08T13:23:53.213Z"
   },
   {
    "duration": 34,
    "start_time": "2025-06-08T13:23:54.619Z"
   },
   {
    "duration": 145,
    "start_time": "2025-06-08T13:24:05.234Z"
   },
   {
    "duration": 9,
    "start_time": "2025-06-08T13:24:36.513Z"
   },
   {
    "duration": 190,
    "start_time": "2025-06-08T13:24:53.274Z"
   },
   {
    "duration": 295,
    "start_time": "2025-06-08T13:25:18.388Z"
   },
   {
    "duration": 7,
    "start_time": "2025-06-08T13:33:32.281Z"
   },
   {
    "duration": 109,
    "start_time": "2025-06-08T13:34:15.554Z"
   },
   {
    "duration": 13,
    "start_time": "2025-06-08T13:35:28.153Z"
   },
   {
    "duration": 1190,
    "start_time": "2025-06-08T13:39:54.713Z"
   },
   {
    "duration": 4819,
    "start_time": "2025-06-08T13:41:38.699Z"
   },
   {
    "duration": 1245,
    "start_time": "2025-06-08T13:41:43.520Z"
   },
   {
    "duration": 2456,
    "start_time": "2025-06-08T13:41:44.767Z"
   },
   {
    "duration": 21,
    "start_time": "2025-06-08T13:41:47.225Z"
   },
   {
    "duration": 132,
    "start_time": "2025-06-08T13:41:47.247Z"
   },
   {
    "duration": 44,
    "start_time": "2025-06-08T13:41:47.380Z"
   },
   {
    "duration": 43,
    "start_time": "2025-06-08T13:41:47.426Z"
   },
   {
    "duration": 27,
    "start_time": "2025-06-08T13:41:47.471Z"
   },
   {
    "duration": 77,
    "start_time": "2025-06-08T13:41:47.500Z"
   },
   {
    "duration": 10,
    "start_time": "2025-06-08T13:41:47.579Z"
   },
   {
    "duration": 7,
    "start_time": "2025-06-08T13:41:47.590Z"
   },
   {
    "duration": 4,
    "start_time": "2025-06-08T13:41:47.599Z"
   },
   {
    "duration": 54,
    "start_time": "2025-06-08T13:41:47.605Z"
   },
   {
    "duration": 5,
    "start_time": "2025-06-08T13:41:47.660Z"
   },
   {
    "duration": 63,
    "start_time": "2025-06-08T13:41:47.666Z"
   },
   {
    "duration": 142,
    "start_time": "2025-06-08T13:41:47.730Z"
   },
   {
    "duration": 4,
    "start_time": "2025-06-08T13:41:47.873Z"
   },
   {
    "duration": 38,
    "start_time": "2025-06-08T13:41:47.879Z"
   },
   {
    "duration": 19,
    "start_time": "2025-06-08T13:41:47.919Z"
   },
   {
    "duration": 23,
    "start_time": "2025-06-08T13:41:47.939Z"
   },
   {
    "duration": 15,
    "start_time": "2025-06-08T13:41:47.963Z"
   },
   {
    "duration": 155,
    "start_time": "2025-06-08T13:41:47.979Z"
   },
   {
    "duration": 76,
    "start_time": "2025-06-08T13:41:48.137Z"
   },
   {
    "duration": 35,
    "start_time": "2025-06-08T13:41:48.429Z"
   },
   {
    "duration": 15,
    "start_time": "2025-06-08T13:41:48.653Z"
   },
   {
    "duration": 194,
    "start_time": "2025-06-08T13:41:49.114Z"
   },
   {
    "duration": 101,
    "start_time": "2025-06-08T13:41:49.513Z"
   },
   {
    "duration": 38,
    "start_time": "2025-06-08T13:41:49.899Z"
   },
   {
    "duration": 39,
    "start_time": "2025-06-08T13:41:52.195Z"
   },
   {
    "duration": 34,
    "start_time": "2025-06-08T13:41:52.492Z"
   },
   {
    "duration": 9,
    "start_time": "2025-06-08T13:41:54.761Z"
   },
   {
    "duration": 191,
    "start_time": "2025-06-08T13:42:02.913Z"
   },
   {
    "duration": 187,
    "start_time": "2025-06-08T13:45:03.898Z"
   },
   {
    "duration": 188,
    "start_time": "2025-06-08T13:49:43.881Z"
   },
   {
    "duration": 255,
    "start_time": "2025-06-08T13:51:03.273Z"
   },
   {
    "duration": 189,
    "start_time": "2025-06-08T13:54:20.705Z"
   },
   {
    "duration": 189,
    "start_time": "2025-06-08T13:54:47.245Z"
   },
   {
    "duration": 41,
    "start_time": "2025-06-08T14:08:31.765Z"
   },
   {
    "duration": 38,
    "start_time": "2025-06-08T14:08:39.278Z"
   },
   {
    "duration": 8325,
    "start_time": "2025-06-09T05:51:07.948Z"
   },
   {
    "duration": 1432,
    "start_time": "2025-06-09T05:51:16.275Z"
   },
   {
    "duration": 2030,
    "start_time": "2025-06-09T05:51:17.708Z"
   },
   {
    "duration": 27,
    "start_time": "2025-06-09T05:51:19.740Z"
   },
   {
    "duration": 131,
    "start_time": "2025-06-09T05:51:19.769Z"
   },
   {
    "duration": 57,
    "start_time": "2025-06-09T05:51:19.902Z"
   },
   {
    "duration": 25,
    "start_time": "2025-06-09T05:51:19.960Z"
   },
   {
    "duration": 29,
    "start_time": "2025-06-09T05:51:19.987Z"
   },
   {
    "duration": 43,
    "start_time": "2025-06-09T05:51:20.018Z"
   },
   {
    "duration": 9,
    "start_time": "2025-06-09T05:51:20.064Z"
   },
   {
    "duration": 12,
    "start_time": "2025-06-09T05:51:20.075Z"
   },
   {
    "duration": 4,
    "start_time": "2025-06-09T05:51:20.089Z"
   },
   {
    "duration": 76,
    "start_time": "2025-06-09T05:51:20.094Z"
   },
   {
    "duration": 5,
    "start_time": "2025-06-09T05:51:20.171Z"
   },
   {
    "duration": 83,
    "start_time": "2025-06-09T05:51:20.177Z"
   },
   {
    "duration": 125,
    "start_time": "2025-06-09T05:51:20.261Z"
   },
   {
    "duration": 4,
    "start_time": "2025-06-09T05:51:20.387Z"
   },
   {
    "duration": 121,
    "start_time": "2025-06-09T05:51:20.392Z"
   },
   {
    "duration": 19,
    "start_time": "2025-06-09T05:51:20.514Z"
   },
   {
    "duration": 19,
    "start_time": "2025-06-09T05:51:20.535Z"
   },
   {
    "duration": 18,
    "start_time": "2025-06-09T05:51:20.556Z"
   },
   {
    "duration": 151,
    "start_time": "2025-06-09T05:51:20.576Z"
   },
   {
    "duration": 79,
    "start_time": "2025-06-09T05:51:20.728Z"
   },
   {
    "duration": 49,
    "start_time": "2025-06-09T05:51:20.809Z"
   },
   {
    "duration": 24,
    "start_time": "2025-06-09T05:51:20.861Z"
   },
   {
    "duration": 225,
    "start_time": "2025-06-09T05:51:20.887Z"
   },
   {
    "duration": 106,
    "start_time": "2025-06-09T05:51:21.114Z"
   },
   {
    "duration": 57,
    "start_time": "2025-06-09T05:51:21.223Z"
   },
   {
    "duration": 39,
    "start_time": "2025-06-09T05:51:24.727Z"
   },
   {
    "duration": 37,
    "start_time": "2025-06-09T05:51:25.747Z"
   },
   {
    "duration": 9,
    "start_time": "2025-06-09T05:51:28.027Z"
   },
   {
    "duration": 86,
    "start_time": "2025-06-09T05:55:29.128Z"
   },
   {
    "duration": 39,
    "start_time": "2025-06-09T05:55:44.108Z"
   },
   {
    "duration": 9,
    "start_time": "2025-06-09T05:55:47.515Z"
   },
   {
    "duration": 230,
    "start_time": "2025-06-09T05:59:45.867Z"
   },
   {
    "duration": 103,
    "start_time": "2025-06-09T06:01:49.576Z"
   },
   {
    "duration": 34,
    "start_time": "2025-06-09T06:01:50.815Z"
   },
   {
    "duration": 9,
    "start_time": "2025-06-09T06:01:54.100Z"
   },
   {
    "duration": 200,
    "start_time": "2025-06-09T06:01:57.593Z"
   },
   {
    "duration": 5087,
    "start_time": "2025-06-09T06:02:15.685Z"
   },
   {
    "duration": 1324,
    "start_time": "2025-06-09T06:02:20.775Z"
   },
   {
    "duration": 2160,
    "start_time": "2025-06-09T06:02:22.102Z"
   },
   {
    "duration": 33,
    "start_time": "2025-06-09T06:02:24.266Z"
   },
   {
    "duration": 147,
    "start_time": "2025-06-09T06:02:24.301Z"
   },
   {
    "duration": 47,
    "start_time": "2025-06-09T06:02:24.458Z"
   },
   {
    "duration": 44,
    "start_time": "2025-06-09T06:02:24.506Z"
   },
   {
    "duration": 37,
    "start_time": "2025-06-09T06:02:24.552Z"
   },
   {
    "duration": 12,
    "start_time": "2025-06-09T06:02:24.591Z"
   },
   {
    "duration": 16,
    "start_time": "2025-06-09T06:02:24.607Z"
   },
   {
    "duration": 39,
    "start_time": "2025-06-09T06:02:24.625Z"
   },
   {
    "duration": 4,
    "start_time": "2025-06-09T06:02:24.666Z"
   },
   {
    "duration": 48,
    "start_time": "2025-06-09T06:02:24.672Z"
   },
   {
    "duration": 37,
    "start_time": "2025-06-09T06:02:24.723Z"
   },
   {
    "duration": 68,
    "start_time": "2025-06-09T06:02:24.763Z"
   },
   {
    "duration": 119,
    "start_time": "2025-06-09T06:02:24.860Z"
   },
   {
    "duration": 5,
    "start_time": "2025-06-09T06:02:24.982Z"
   },
   {
    "duration": 108,
    "start_time": "2025-06-09T06:02:24.988Z"
   },
   {
    "duration": 106,
    "start_time": "2025-06-09T06:02:25.099Z"
   },
   {
    "duration": 34,
    "start_time": "2025-06-09T06:02:25.208Z"
   },
   {
    "duration": 28,
    "start_time": "2025-06-09T06:02:25.244Z"
   },
   {
    "duration": 175,
    "start_time": "2025-06-09T06:02:25.275Z"
   },
   {
    "duration": 71,
    "start_time": "2025-06-09T06:02:25.453Z"
   },
   {
    "duration": 79,
    "start_time": "2025-06-09T06:02:25.526Z"
   },
   {
    "duration": 25,
    "start_time": "2025-06-09T06:02:25.609Z"
   },
   {
    "duration": 344,
    "start_time": "2025-06-09T06:02:25.636Z"
   },
   {
    "duration": 153,
    "start_time": "2025-06-09T06:02:25.982Z"
   },
   {
    "duration": 73,
    "start_time": "2025-06-09T06:02:26.138Z"
   },
   {
    "duration": 57,
    "start_time": "2025-06-09T06:02:27.256Z"
   },
   {
    "duration": 36,
    "start_time": "2025-06-09T06:02:27.464Z"
   },
   {
    "duration": 9,
    "start_time": "2025-06-09T06:02:27.615Z"
   },
   {
    "duration": 226,
    "start_time": "2025-06-09T06:02:28.242Z"
   },
   {
    "duration": 1774,
    "start_time": "2025-06-09T06:02:33.256Z"
   },
   {
    "duration": 9517,
    "start_time": "2025-06-09T12:14:52.241Z"
   },
   {
    "duration": 1605,
    "start_time": "2025-06-09T12:15:01.760Z"
   },
   {
    "duration": 3422,
    "start_time": "2025-06-09T12:15:03.366Z"
   },
   {
    "duration": 21,
    "start_time": "2025-06-09T12:15:06.791Z"
   },
   {
    "duration": 169,
    "start_time": "2025-06-09T12:15:06.814Z"
   },
   {
    "duration": 49,
    "start_time": "2025-06-09T12:15:06.988Z"
   },
   {
    "duration": 52,
    "start_time": "2025-06-09T12:15:07.039Z"
   },
   {
    "duration": 124,
    "start_time": "2025-06-09T12:15:07.093Z"
   },
   {
    "duration": 8,
    "start_time": "2025-06-09T12:15:07.219Z"
   },
   {
    "duration": 38,
    "start_time": "2025-06-09T12:15:07.229Z"
   },
   {
    "duration": 26,
    "start_time": "2025-06-09T12:15:07.269Z"
   },
   {
    "duration": 6,
    "start_time": "2025-06-09T12:15:07.297Z"
   },
   {
    "duration": 50,
    "start_time": "2025-06-09T12:15:07.305Z"
   },
   {
    "duration": 5,
    "start_time": "2025-06-09T12:15:07.357Z"
   },
   {
    "duration": 161,
    "start_time": "2025-06-09T12:15:07.364Z"
   },
   {
    "duration": 136,
    "start_time": "2025-06-09T12:15:07.526Z"
   },
   {
    "duration": 45,
    "start_time": "2025-06-09T12:15:07.664Z"
   },
   {
    "duration": 41,
    "start_time": "2025-06-09T12:15:07.711Z"
   },
   {
    "duration": 49,
    "start_time": "2025-06-09T12:15:07.754Z"
   },
   {
    "duration": 20,
    "start_time": "2025-06-09T12:15:07.805Z"
   },
   {
    "duration": 53,
    "start_time": "2025-06-09T12:15:07.827Z"
   },
   {
    "duration": 148,
    "start_time": "2025-06-09T12:15:07.882Z"
   },
   {
    "duration": 81,
    "start_time": "2025-06-09T12:15:08.033Z"
   },
   {
    "duration": 109,
    "start_time": "2025-06-09T12:15:08.115Z"
   },
   {
    "duration": 17,
    "start_time": "2025-06-09T12:15:08.509Z"
   },
   {
    "duration": 215,
    "start_time": "2025-06-09T12:15:08.962Z"
   },
   {
    "duration": 110,
    "start_time": "2025-06-09T12:15:09.418Z"
   },
   {
    "duration": 40,
    "start_time": "2025-06-09T12:15:09.914Z"
   },
   {
    "duration": 41,
    "start_time": "2025-06-09T12:15:13.589Z"
   },
   {
    "duration": 37,
    "start_time": "2025-06-09T12:15:13.826Z"
   },
   {
    "duration": 9,
    "start_time": "2025-06-09T12:15:14.065Z"
   },
   {
    "duration": 240,
    "start_time": "2025-06-09T12:15:15.630Z"
   },
   {
    "duration": 5514,
    "start_time": "2025-06-09T12:19:23.026Z"
   },
   {
    "duration": 1340,
    "start_time": "2025-06-09T12:19:28.543Z"
   },
   {
    "duration": 20,
    "start_time": "2025-06-09T12:19:32.506Z"
   },
   {
    "duration": 140,
    "start_time": "2025-06-09T12:19:32.527Z"
   },
   {
    "duration": 59,
    "start_time": "2025-06-09T12:19:32.677Z"
   },
   {
    "duration": 53,
    "start_time": "2025-06-09T12:19:32.738Z"
   },
   {
    "duration": 28,
    "start_time": "2025-06-09T12:19:32.805Z"
   },
   {
    "duration": 6,
    "start_time": "2025-06-09T12:19:32.835Z"
   },
   {
    "duration": 26,
    "start_time": "2025-06-09T12:19:32.843Z"
   },
   {
    "duration": 10,
    "start_time": "2025-06-09T12:19:32.871Z"
   },
   {
    "duration": 16,
    "start_time": "2025-06-09T12:19:32.882Z"
   },
   {
    "duration": 51,
    "start_time": "2025-06-09T12:19:32.901Z"
   },
   {
    "duration": 5,
    "start_time": "2025-06-09T12:19:32.954Z"
   },
   {
    "duration": 96,
    "start_time": "2025-06-09T12:19:32.960Z"
   },
   {
    "duration": 151,
    "start_time": "2025-06-09T12:19:33.058Z"
   },
   {
    "duration": 3,
    "start_time": "2025-06-09T12:19:33.211Z"
   },
   {
    "duration": 14,
    "start_time": "2025-06-09T12:19:33.216Z"
   },
   {
    "duration": 38,
    "start_time": "2025-06-09T12:19:33.232Z"
   },
   {
    "duration": 44,
    "start_time": "2025-06-09T12:19:33.271Z"
   },
   {
    "duration": 15,
    "start_time": "2025-06-09T12:19:33.316Z"
   },
   {
    "duration": 202,
    "start_time": "2025-06-09T12:19:33.333Z"
   },
   {
    "duration": 90,
    "start_time": "2025-06-09T12:19:33.537Z"
   },
   {
    "duration": 37,
    "start_time": "2025-06-09T12:19:33.628Z"
   },
   {
    "duration": 111,
    "start_time": "2025-06-09T12:19:33.666Z"
   },
   {
    "duration": 252,
    "start_time": "2025-06-09T12:19:33.778Z"
   },
   {
    "duration": 119,
    "start_time": "2025-06-09T12:19:34.031Z"
   },
   {
    "duration": 72,
    "start_time": "2025-06-09T12:19:34.153Z"
   },
   {
    "duration": 60,
    "start_time": "2025-06-09T12:19:34.226Z"
   },
   {
    "duration": 41,
    "start_time": "2025-06-09T12:19:34.288Z"
   },
   {
    "duration": 9,
    "start_time": "2025-06-09T12:19:34.330Z"
   },
   {
    "duration": 270,
    "start_time": "2025-06-09T12:19:34.340Z"
   },
   {
    "duration": 5672,
    "start_time": "2025-06-09T12:19:34.611Z"
   },
   {
    "duration": 5,
    "start_time": "2025-06-09T12:19:40.289Z"
   },
   {
    "duration": 1912,
    "start_time": "2025-06-09T12:19:40.296Z"
   },
   {
    "duration": 19,
    "start_time": "2025-06-09T12:19:42.210Z"
   },
   {
    "duration": 159,
    "start_time": "2025-06-09T12:19:42.232Z"
   },
   {
    "duration": 52,
    "start_time": "2025-06-09T12:19:42.393Z"
   },
   {
    "duration": 55,
    "start_time": "2025-06-09T12:19:42.448Z"
   },
   {
    "duration": 30,
    "start_time": "2025-06-09T12:19:42.505Z"
   },
   {
    "duration": 7,
    "start_time": "2025-06-09T12:19:42.537Z"
   },
   {
    "duration": 33,
    "start_time": "2025-06-09T12:19:42.545Z"
   },
   {
    "duration": 24,
    "start_time": "2025-06-09T12:19:42.580Z"
   },
   {
    "duration": 5,
    "start_time": "2025-06-09T12:19:42.606Z"
   },
   {
    "duration": 26,
    "start_time": "2025-06-09T12:19:42.613Z"
   },
   {
    "duration": 6,
    "start_time": "2025-06-09T12:19:42.642Z"
   },
   {
    "duration": 81,
    "start_time": "2025-06-09T12:19:42.676Z"
   },
   {
    "duration": 132,
    "start_time": "2025-06-09T12:19:42.758Z"
   },
   {
    "duration": 10,
    "start_time": "2025-06-09T12:19:42.892Z"
   },
   {
    "duration": 16,
    "start_time": "2025-06-09T12:19:42.904Z"
   },
   {
    "duration": 20,
    "start_time": "2025-06-09T12:19:42.922Z"
   },
   {
    "duration": 51,
    "start_time": "2025-06-09T12:19:42.945Z"
   },
   {
    "duration": 23,
    "start_time": "2025-06-09T12:19:42.998Z"
   },
   {
    "duration": 142,
    "start_time": "2025-06-09T12:19:43.022Z"
   },
   {
    "duration": 91,
    "start_time": "2025-06-09T12:19:43.166Z"
   },
   {
    "duration": 60,
    "start_time": "2025-06-09T12:19:43.258Z"
   },
   {
    "duration": 17,
    "start_time": "2025-06-09T12:19:43.319Z"
   },
   {
    "duration": 276,
    "start_time": "2025-06-09T12:19:43.340Z"
   },
   {
    "duration": 123,
    "start_time": "2025-06-09T12:19:43.618Z"
   },
   {
    "duration": 69,
    "start_time": "2025-06-09T12:19:43.742Z"
   },
   {
    "duration": 52,
    "start_time": "2025-06-09T12:19:50.167Z"
   },
   {
    "duration": 49,
    "start_time": "2025-06-09T12:19:50.559Z"
   },
   {
    "duration": 10,
    "start_time": "2025-06-09T12:19:51.219Z"
   },
   {
    "duration": 234,
    "start_time": "2025-06-09T12:19:53.186Z"
   },
   {
    "duration": 125,
    "start_time": "2025-06-09T12:21:57.919Z"
   },
   {
    "duration": 153,
    "start_time": "2025-06-09T12:23:05.360Z"
   },
   {
    "duration": 5501,
    "start_time": "2025-06-09T12:23:13.027Z"
   },
   {
    "duration": 1305,
    "start_time": "2025-06-09T12:23:18.531Z"
   },
   {
    "duration": 150,
    "start_time": "2025-06-09T12:23:22.353Z"
   },
   {
    "duration": 47,
    "start_time": "2025-06-09T12:23:22.504Z"
   },
   {
    "duration": 57,
    "start_time": "2025-06-09T12:23:22.552Z"
   },
   {
    "duration": 32,
    "start_time": "2025-06-09T12:23:22.611Z"
   },
   {
    "duration": 6,
    "start_time": "2025-06-09T12:23:22.645Z"
   },
   {
    "duration": 18,
    "start_time": "2025-06-09T12:23:22.677Z"
   },
   {
    "duration": 27,
    "start_time": "2025-06-09T12:23:22.697Z"
   },
   {
    "duration": 21,
    "start_time": "2025-06-09T12:23:22.726Z"
   },
   {
    "duration": 73,
    "start_time": "2025-06-09T12:23:22.750Z"
   },
   {
    "duration": 5,
    "start_time": "2025-06-09T12:23:22.826Z"
   },
   {
    "duration": 89,
    "start_time": "2025-06-09T12:23:22.833Z"
   },
   {
    "duration": 197,
    "start_time": "2025-06-09T12:23:22.924Z"
   },
   {
    "duration": 5,
    "start_time": "2025-06-09T12:23:23.123Z"
   },
   {
    "duration": 53,
    "start_time": "2025-06-09T12:23:23.130Z"
   },
   {
    "duration": 31,
    "start_time": "2025-06-09T12:23:23.184Z"
   },
   {
    "duration": 30,
    "start_time": "2025-06-09T12:23:23.216Z"
   },
   {
    "duration": 53,
    "start_time": "2025-06-09T12:23:23.247Z"
   },
   {
    "duration": 149,
    "start_time": "2025-06-09T12:23:23.302Z"
   },
   {
    "duration": 85,
    "start_time": "2025-06-09T12:23:23.453Z"
   },
   {
    "duration": 60,
    "start_time": "2025-06-09T12:23:23.539Z"
   },
   {
    "duration": 16,
    "start_time": "2025-06-09T12:23:23.601Z"
   },
   {
    "duration": 270,
    "start_time": "2025-06-09T12:23:23.619Z"
   },
   {
    "duration": 138,
    "start_time": "2025-06-09T12:23:23.896Z"
   },
   {
    "duration": 68,
    "start_time": "2025-06-09T12:23:24.038Z"
   },
   {
    "duration": 25,
    "start_time": "2025-06-09T12:23:24.108Z"
   },
   {
    "duration": 107,
    "start_time": "2025-06-09T12:23:24.135Z"
   },
   {
    "duration": 10,
    "start_time": "2025-06-09T12:23:24.244Z"
   },
   {
    "duration": 256,
    "start_time": "2025-06-09T12:23:24.255Z"
   },
   {
    "duration": 5536,
    "start_time": "2025-06-09T12:23:24.513Z"
   },
   {
    "duration": 5,
    "start_time": "2025-06-09T12:23:30.051Z"
   },
   {
    "duration": 2348,
    "start_time": "2025-06-09T12:23:30.058Z"
   },
   {
    "duration": 21,
    "start_time": "2025-06-09T12:23:32.408Z"
   },
   {
    "duration": 172,
    "start_time": "2025-06-09T12:23:32.434Z"
   },
   {
    "duration": 83,
    "start_time": "2025-06-09T12:23:32.607Z"
   },
   {
    "duration": 27,
    "start_time": "2025-06-09T12:23:32.692Z"
   },
   {
    "duration": 32,
    "start_time": "2025-06-09T12:23:32.721Z"
   },
   {
    "duration": 37,
    "start_time": "2025-06-09T12:23:32.754Z"
   },
   {
    "duration": 11,
    "start_time": "2025-06-09T12:23:32.797Z"
   },
   {
    "duration": 30,
    "start_time": "2025-06-09T12:23:32.810Z"
   },
   {
    "duration": 5,
    "start_time": "2025-06-09T12:23:32.969Z"
   },
   {
    "duration": 26,
    "start_time": "2025-06-09T12:23:33.546Z"
   },
   {
    "duration": 6,
    "start_time": "2025-06-09T12:23:33.792Z"
   },
   {
    "duration": 78,
    "start_time": "2025-06-09T12:23:34.146Z"
   },
   {
    "duration": 157,
    "start_time": "2025-06-09T12:23:34.866Z"
   },
   {
    "duration": 7,
    "start_time": "2025-06-09T12:23:35.080Z"
   },
   {
    "duration": 15,
    "start_time": "2025-06-09T12:23:35.354Z"
   },
   {
    "duration": 33,
    "start_time": "2025-06-09T12:23:35.834Z"
   },
   {
    "duration": 21,
    "start_time": "2025-06-09T12:23:36.327Z"
   },
   {
    "duration": 17,
    "start_time": "2025-06-09T12:23:36.907Z"
   },
   {
    "duration": 143,
    "start_time": "2025-06-09T12:23:37.247Z"
   },
   {
    "duration": 78,
    "start_time": "2025-06-09T12:23:37.602Z"
   },
   {
    "duration": 46,
    "start_time": "2025-06-09T12:23:38.074Z"
   },
   {
    "duration": 25,
    "start_time": "2025-06-09T12:23:38.467Z"
   },
   {
    "duration": 243,
    "start_time": "2025-06-09T12:23:38.793Z"
   },
   {
    "duration": 129,
    "start_time": "2025-06-09T12:23:39.158Z"
   },
   {
    "duration": 57,
    "start_time": "2025-06-09T12:23:39.586Z"
   },
   {
    "duration": 33,
    "start_time": "2025-06-09T12:23:41.760Z"
   },
   {
    "duration": 48,
    "start_time": "2025-06-09T12:23:42.407Z"
   },
   {
    "duration": 11,
    "start_time": "2025-06-09T12:23:43.598Z"
   },
   {
    "duration": 273,
    "start_time": "2025-06-09T12:39:06.586Z"
   },
   {
    "duration": 253,
    "start_time": "2025-06-09T12:40:08.319Z"
   },
   {
    "duration": 1629,
    "start_time": "2025-06-09T12:41:08.882Z"
   },
   {
    "duration": 258,
    "start_time": "2025-06-09T12:42:48.047Z"
   },
   {
    "duration": 331,
    "start_time": "2025-06-09T12:43:23.059Z"
   },
   {
    "duration": 5582,
    "start_time": "2025-06-09T12:44:20.406Z"
   },
   {
    "duration": 1419,
    "start_time": "2025-06-09T12:44:25.990Z"
   },
   {
    "duration": 48,
    "start_time": "2025-06-09T12:44:30.105Z"
   },
   {
    "duration": 39,
    "start_time": "2025-06-09T12:44:30.155Z"
   },
   {
    "duration": 142,
    "start_time": "2025-06-09T12:44:30.196Z"
   },
   {
    "duration": 57,
    "start_time": "2025-06-09T12:44:30.340Z"
   },
   {
    "duration": 47,
    "start_time": "2025-06-09T12:44:30.399Z"
   },
   {
    "duration": 52,
    "start_time": "2025-06-09T12:44:30.448Z"
   },
   {
    "duration": 48,
    "start_time": "2025-06-09T12:44:30.502Z"
   },
   {
    "duration": 119,
    "start_time": "2025-06-09T12:44:30.552Z"
   },
   {
    "duration": 22,
    "start_time": "2025-06-09T12:44:30.674Z"
   },
   {
    "duration": 71,
    "start_time": "2025-06-09T12:44:30.700Z"
   },
   {
    "duration": 187,
    "start_time": "2025-06-09T12:44:30.773Z"
   },
   {
    "duration": 5,
    "start_time": "2025-06-09T12:44:30.962Z"
   },
   {
    "duration": 40,
    "start_time": "2025-06-09T12:44:30.968Z"
   },
   {
    "duration": 20,
    "start_time": "2025-06-09T12:44:31.010Z"
   },
   {
    "duration": 58,
    "start_time": "2025-06-09T12:44:31.032Z"
   },
   {
    "duration": 26,
    "start_time": "2025-06-09T12:44:31.091Z"
   },
   {
    "duration": 167,
    "start_time": "2025-06-09T12:44:31.119Z"
   },
   {
    "duration": 91,
    "start_time": "2025-06-09T12:44:31.289Z"
   },
   {
    "duration": 48,
    "start_time": "2025-06-09T12:44:31.389Z"
   },
   {
    "duration": 109,
    "start_time": "2025-06-09T12:44:31.439Z"
   },
   {
    "duration": 265,
    "start_time": "2025-06-09T12:44:31.550Z"
   },
   {
    "duration": 128,
    "start_time": "2025-06-09T12:44:31.817Z"
   },
   {
    "duration": 62,
    "start_time": "2025-06-09T12:44:31.947Z"
   },
   {
    "duration": 38,
    "start_time": "2025-06-09T12:44:32.012Z"
   },
   {
    "duration": 74,
    "start_time": "2025-06-09T12:44:32.052Z"
   },
   {
    "duration": 10,
    "start_time": "2025-06-09T12:44:32.128Z"
   },
   {
    "duration": 393,
    "start_time": "2025-06-09T12:44:32.140Z"
   },
   {
    "duration": 5552,
    "start_time": "2025-06-09T12:44:32.535Z"
   },
   {
    "duration": 10,
    "start_time": "2025-06-09T12:44:38.092Z"
   },
   {
    "duration": 2946,
    "start_time": "2025-06-09T12:44:38.104Z"
   },
   {
    "duration": 42,
    "start_time": "2025-06-09T12:44:41.052Z"
   },
   {
    "duration": 134,
    "start_time": "2025-06-09T12:44:41.100Z"
   },
   {
    "duration": 58,
    "start_time": "2025-06-09T12:44:41.239Z"
   },
   {
    "duration": 56,
    "start_time": "2025-06-09T12:44:41.303Z"
   },
   {
    "duration": 43,
    "start_time": "2025-06-09T12:44:41.361Z"
   },
   {
    "duration": 7,
    "start_time": "2025-06-09T12:44:41.406Z"
   },
   {
    "duration": 131,
    "start_time": "2025-06-09T12:44:41.415Z"
   },
   {
    "duration": 13,
    "start_time": "2025-06-09T12:44:41.548Z"
   },
   {
    "duration": 38,
    "start_time": "2025-06-09T12:44:41.563Z"
   },
   {
    "duration": 25,
    "start_time": "2025-06-09T12:44:41.603Z"
   },
   {
    "duration": 5,
    "start_time": "2025-06-09T12:44:41.630Z"
   },
   {
    "duration": 85,
    "start_time": "2025-06-09T12:44:41.637Z"
   },
   {
    "duration": 223,
    "start_time": "2025-06-09T12:44:41.724Z"
   },
   {
    "duration": 5,
    "start_time": "2025-06-09T12:44:41.949Z"
   },
   {
    "duration": 45,
    "start_time": "2025-06-09T12:44:41.956Z"
   },
   {
    "duration": 33,
    "start_time": "2025-06-09T12:44:42.005Z"
   },
   {
    "duration": 53,
    "start_time": "2025-06-09T12:44:42.041Z"
   },
   {
    "duration": 24,
    "start_time": "2025-06-09T12:44:42.096Z"
   },
   {
    "duration": 142,
    "start_time": "2025-06-09T12:44:42.122Z"
   },
   {
    "duration": 95,
    "start_time": "2025-06-09T12:44:42.266Z"
   },
   {
    "duration": 52,
    "start_time": "2025-06-09T12:44:42.363Z"
   },
   {
    "duration": 16,
    "start_time": "2025-06-09T12:44:42.416Z"
   },
   {
    "duration": 258,
    "start_time": "2025-06-09T12:44:42.433Z"
   },
   {
    "duration": 138,
    "start_time": "2025-06-09T12:44:42.693Z"
   },
   {
    "duration": 71,
    "start_time": "2025-06-09T12:44:42.833Z"
   },
   {
    "duration": 24,
    "start_time": "2025-06-09T12:44:42.905Z"
   },
   {
    "duration": 70,
    "start_time": "2025-06-09T12:44:42.931Z"
   },
   {
    "duration": 10,
    "start_time": "2025-06-09T12:44:43.007Z"
   },
   {
    "duration": 283,
    "start_time": "2025-06-09T12:44:43.018Z"
   },
   {
    "duration": 203,
    "start_time": "2025-06-09T12:45:17.018Z"
   },
   {
    "duration": 317,
    "start_time": "2025-06-09T12:45:25.901Z"
   },
   {
    "duration": 254,
    "start_time": "2025-06-09T12:50:12.159Z"
   },
   {
    "duration": 224,
    "start_time": "2025-06-09T12:51:17.338Z"
   },
   {
    "duration": 181,
    "start_time": "2025-06-09T12:51:44.085Z"
   },
   {
    "duration": 184,
    "start_time": "2025-06-09T12:53:37.725Z"
   },
   {
    "duration": 272,
    "start_time": "2025-06-09T12:54:52.659Z"
   },
   {
    "duration": 18,
    "start_time": "2025-06-09T12:57:17.580Z"
   },
   {
    "duration": 11,
    "start_time": "2025-06-09T12:57:33.205Z"
   },
   {
    "duration": 134,
    "start_time": "2025-06-09T12:59:59.126Z"
   },
   {
    "duration": 87,
    "start_time": "2025-06-09T13:02:14.858Z"
   },
   {
    "duration": 28,
    "start_time": "2025-06-09T13:02:47.817Z"
   },
   {
    "duration": 9,
    "start_time": "2025-06-09T13:03:03.313Z"
   },
   {
    "duration": 14,
    "start_time": "2025-06-09T13:03:05.199Z"
   },
   {
    "duration": 9,
    "start_time": "2025-06-09T13:08:14.939Z"
   },
   {
    "duration": 34,
    "start_time": "2025-06-09T13:09:43.820Z"
   },
   {
    "duration": 89,
    "start_time": "2025-06-09T13:10:15.918Z"
   },
   {
    "duration": 16,
    "start_time": "2025-06-09T13:17:38.980Z"
   },
   {
    "duration": 47,
    "start_time": "2025-06-09T13:17:57.181Z"
   },
   {
    "duration": 49,
    "start_time": "2025-06-09T13:18:08.233Z"
   },
   {
    "duration": 32,
    "start_time": "2025-06-09T13:20:36.019Z"
   },
   {
    "duration": 46,
    "start_time": "2025-06-09T13:20:58.877Z"
   },
   {
    "duration": 31,
    "start_time": "2025-06-09T13:21:33.435Z"
   },
   {
    "duration": 29,
    "start_time": "2025-06-09T13:25:05.438Z"
   },
   {
    "duration": 43,
    "start_time": "2025-06-09T13:25:52.760Z"
   },
   {
    "duration": 5516,
    "start_time": "2025-06-09T13:26:29.146Z"
   },
   {
    "duration": 1501,
    "start_time": "2025-06-09T13:26:34.665Z"
   },
   {
    "duration": 2566,
    "start_time": "2025-06-09T13:26:36.168Z"
   },
   {
    "duration": 24,
    "start_time": "2025-06-09T13:26:38.736Z"
   },
   {
    "duration": 165,
    "start_time": "2025-06-09T13:26:38.763Z"
   },
   {
    "duration": 72,
    "start_time": "2025-06-09T13:26:38.930Z"
   },
   {
    "duration": 25,
    "start_time": "2025-06-09T13:26:39.004Z"
   },
   {
    "duration": 31,
    "start_time": "2025-06-09T13:26:39.031Z"
   },
   {
    "duration": 28,
    "start_time": "2025-06-09T13:26:39.064Z"
   },
   {
    "duration": 14,
    "start_time": "2025-06-09T13:26:39.095Z"
   },
   {
    "duration": 7,
    "start_time": "2025-06-09T13:26:39.110Z"
   },
   {
    "duration": 4,
    "start_time": "2025-06-09T13:26:39.118Z"
   },
   {
    "duration": 78,
    "start_time": "2025-06-09T13:26:39.123Z"
   },
   {
    "duration": 7,
    "start_time": "2025-06-09T13:26:39.202Z"
   },
   {
    "duration": 98,
    "start_time": "2025-06-09T13:26:39.210Z"
   },
   {
    "duration": 161,
    "start_time": "2025-06-09T13:26:39.310Z"
   },
   {
    "duration": 9,
    "start_time": "2025-06-09T13:26:39.482Z"
   },
   {
    "duration": 20,
    "start_time": "2025-06-09T13:26:39.493Z"
   },
   {
    "duration": 85,
    "start_time": "2025-06-09T13:26:39.515Z"
   },
   {
    "duration": 52,
    "start_time": "2025-06-09T13:26:39.601Z"
   },
   {
    "duration": 17,
    "start_time": "2025-06-09T13:26:40.029Z"
   },
   {
    "duration": 173,
    "start_time": "2025-06-09T13:26:40.658Z"
   },
   {
    "duration": 85,
    "start_time": "2025-06-09T13:26:42.183Z"
   },
   {
    "duration": 40,
    "start_time": "2025-06-09T13:26:42.918Z"
   },
   {
    "duration": 31,
    "start_time": "2025-06-09T13:26:43.361Z"
   },
   {
    "duration": 235,
    "start_time": "2025-06-09T13:26:44.092Z"
   },
   {
    "duration": 122,
    "start_time": "2025-06-09T13:26:51.614Z"
   },
   {
    "duration": 58,
    "start_time": "2025-06-09T13:26:51.951Z"
   },
   {
    "duration": 26,
    "start_time": "2025-06-09T13:26:53.259Z"
   },
   {
    "duration": 48,
    "start_time": "2025-06-09T13:26:53.405Z"
   },
   {
    "duration": 10,
    "start_time": "2025-06-09T13:26:53.618Z"
   },
   {
    "duration": 258,
    "start_time": "2025-06-09T13:26:54.037Z"
   },
   {
    "duration": 191,
    "start_time": "2025-06-09T13:26:54.297Z"
   },
   {
    "duration": 9,
    "start_time": "2025-06-09T13:26:56.718Z"
   },
   {
    "duration": 8,
    "start_time": "2025-06-09T13:26:57.198Z"
   },
   {
    "duration": 9,
    "start_time": "2025-06-09T13:27:34.314Z"
   },
   {
    "duration": 28,
    "start_time": "2025-06-09T13:27:34.639Z"
   },
   {
    "duration": 96,
    "start_time": "2025-06-09T13:27:35.144Z"
   },
   {
    "duration": 92,
    "start_time": "2025-06-09T13:31:48.102Z"
   },
   {
    "duration": 133,
    "start_time": "2025-06-09T13:40:33.857Z"
   },
   {
    "duration": 11,
    "start_time": "2025-06-09T13:40:48.311Z"
   },
   {
    "duration": 1777,
    "start_time": "2025-06-09T13:40:56.981Z"
   },
   {
    "duration": 93,
    "start_time": "2025-06-09T13:41:21.238Z"
   },
   {
    "duration": 96,
    "start_time": "2025-06-09T13:41:22.541Z"
   },
   {
    "duration": 14,
    "start_time": "2025-06-09T13:41:24.239Z"
   },
   {
    "duration": 10,
    "start_time": "2025-06-09T13:42:15.551Z"
   },
   {
    "duration": 5,
    "start_time": "2025-06-09T13:43:45.583Z"
   },
   {
    "duration": 2278,
    "start_time": "2025-06-09T13:43:46.994Z"
   },
   {
    "duration": 32,
    "start_time": "2025-06-09T13:43:49.278Z"
   },
   {
    "duration": 142,
    "start_time": "2025-06-09T13:43:49.313Z"
   },
   {
    "duration": 72,
    "start_time": "2025-06-09T13:43:49.457Z"
   },
   {
    "duration": 26,
    "start_time": "2025-06-09T13:43:49.530Z"
   },
   {
    "duration": 44,
    "start_time": "2025-06-09T13:43:49.583Z"
   },
   {
    "duration": 7,
    "start_time": "2025-06-09T13:43:50.658Z"
   },
   {
    "duration": 16,
    "start_time": "2025-06-09T13:43:50.800Z"
   },
   {
    "duration": 9,
    "start_time": "2025-06-09T13:43:50.927Z"
   },
   {
    "duration": 6,
    "start_time": "2025-06-09T13:43:51.601Z"
   },
   {
    "duration": 25,
    "start_time": "2025-06-09T13:43:51.751Z"
   },
   {
    "duration": 5,
    "start_time": "2025-06-09T13:43:51.936Z"
   },
   {
    "duration": 80,
    "start_time": "2025-06-09T13:43:52.126Z"
   },
   {
    "duration": 156,
    "start_time": "2025-06-09T13:43:52.451Z"
   },
   {
    "duration": 4,
    "start_time": "2025-06-09T13:43:52.638Z"
   },
   {
    "duration": 16,
    "start_time": "2025-06-09T13:43:52.816Z"
   },
   {
    "duration": 30,
    "start_time": "2025-06-09T13:43:53.192Z"
   },
   {
    "duration": 21,
    "start_time": "2025-06-09T13:43:53.504Z"
   },
   {
    "duration": 22,
    "start_time": "2025-06-09T13:43:54.066Z"
   },
   {
    "duration": 143,
    "start_time": "2025-06-09T13:43:54.351Z"
   },
   {
    "duration": 85,
    "start_time": "2025-06-09T13:43:54.698Z"
   },
   {
    "duration": 39,
    "start_time": "2025-06-09T13:43:55.220Z"
   },
   {
    "duration": 16,
    "start_time": "2025-06-09T13:43:55.717Z"
   },
   {
    "duration": 256,
    "start_time": "2025-06-09T13:43:56.072Z"
   },
   {
    "duration": 130,
    "start_time": "2025-06-09T13:43:56.622Z"
   },
   {
    "duration": 65,
    "start_time": "2025-06-09T13:43:56.966Z"
   },
   {
    "duration": 27,
    "start_time": "2025-06-09T13:43:58.962Z"
   },
   {
    "duration": 49,
    "start_time": "2025-06-09T13:43:59.113Z"
   },
   {
    "duration": 10,
    "start_time": "2025-06-09T13:43:59.251Z"
   },
   {
    "duration": 270,
    "start_time": "2025-06-09T13:43:59.738Z"
   },
   {
    "duration": 207,
    "start_time": "2025-06-09T13:44:00.038Z"
   },
   {
    "duration": 10,
    "start_time": "2025-06-09T13:44:01.905Z"
   },
   {
    "duration": 12,
    "start_time": "2025-06-09T13:44:02.382Z"
   },
   {
    "duration": 107,
    "start_time": "2025-06-09T13:44:02.726Z"
   },
   {
    "duration": 89,
    "start_time": "2025-06-09T13:44:03.199Z"
   },
   {
    "duration": 11,
    "start_time": "2025-06-09T13:44:04.111Z"
   },
   {
    "duration": 18,
    "start_time": "2025-06-09T13:44:30.467Z"
   },
   {
    "duration": 12,
    "start_time": "2025-06-09T13:49:04.706Z"
   },
   {
    "duration": 13,
    "start_time": "2025-06-09T13:49:20.357Z"
   },
   {
    "duration": 14,
    "start_time": "2025-06-09T13:49:54.751Z"
   },
   {
    "duration": 21,
    "start_time": "2025-06-09T13:50:50.401Z"
   },
   {
    "duration": 12,
    "start_time": "2025-06-09T13:57:53.623Z"
   },
   {
    "duration": 238,
    "start_time": "2025-06-09T14:04:41.526Z"
   },
   {
    "duration": 5797,
    "start_time": "2025-06-09T14:06:45.724Z"
   },
   {
    "duration": 1438,
    "start_time": "2025-06-09T14:06:51.524Z"
   },
   {
    "duration": 2256,
    "start_time": "2025-06-09T14:06:52.964Z"
   },
   {
    "duration": 21,
    "start_time": "2025-06-09T14:06:55.222Z"
   },
   {
    "duration": 154,
    "start_time": "2025-06-09T14:06:55.244Z"
   },
   {
    "duration": 46,
    "start_time": "2025-06-09T14:06:55.404Z"
   },
   {
    "duration": 49,
    "start_time": "2025-06-09T14:06:55.452Z"
   },
   {
    "duration": 30,
    "start_time": "2025-06-09T14:06:55.505Z"
   },
   {
    "duration": 185,
    "start_time": "2025-06-09T14:06:55.537Z"
   },
   {
    "duration": 100,
    "start_time": "2025-06-09T14:06:55.725Z"
   },
   {
    "duration": 8,
    "start_time": "2025-06-09T14:06:55.828Z"
   },
   {
    "duration": 7,
    "start_time": "2025-06-09T14:06:55.838Z"
   },
   {
    "duration": 56,
    "start_time": "2025-06-09T14:06:55.847Z"
   },
   {
    "duration": 6,
    "start_time": "2025-06-09T14:06:55.911Z"
   },
   {
    "duration": 94,
    "start_time": "2025-06-09T14:06:55.919Z"
   },
   {
    "duration": 192,
    "start_time": "2025-06-09T14:06:56.014Z"
   },
   {
    "duration": 5,
    "start_time": "2025-06-09T14:06:56.207Z"
   },
   {
    "duration": 84,
    "start_time": "2025-06-09T14:06:56.214Z"
   },
   {
    "duration": 22,
    "start_time": "2025-06-09T14:06:56.300Z"
   },
   {
    "duration": 20,
    "start_time": "2025-06-09T14:06:56.323Z"
   },
   {
    "duration": 35,
    "start_time": "2025-06-09T14:06:56.344Z"
   },
   {
    "duration": 174,
    "start_time": "2025-06-09T14:06:56.385Z"
   },
   {
    "duration": 89,
    "start_time": "2025-06-09T14:06:56.560Z"
   },
   {
    "duration": 61,
    "start_time": "2025-06-09T14:06:56.652Z"
   },
   {
    "duration": 17,
    "start_time": "2025-06-09T14:06:56.715Z"
   },
   {
    "duration": 259,
    "start_time": "2025-06-09T14:06:56.734Z"
   },
   {
    "duration": 139,
    "start_time": "2025-06-09T14:06:56.995Z"
   },
   {
    "duration": 68,
    "start_time": "2025-06-09T14:06:57.137Z"
   },
   {
    "duration": 24,
    "start_time": "2025-06-09T14:06:57.207Z"
   },
   {
    "duration": 72,
    "start_time": "2025-06-09T14:06:57.233Z"
   },
   {
    "duration": 10,
    "start_time": "2025-06-09T14:06:57.307Z"
   },
   {
    "duration": 237,
    "start_time": "2025-06-09T14:06:57.530Z"
   },
   {
    "duration": 195,
    "start_time": "2025-06-09T14:06:57.769Z"
   },
   {
    "duration": 9,
    "start_time": "2025-06-09T14:06:59.460Z"
   },
   {
    "duration": 9,
    "start_time": "2025-06-09T14:06:59.913Z"
   },
   {
    "duration": 90,
    "start_time": "2025-06-09T14:07:01.644Z"
   },
   {
    "duration": 100,
    "start_time": "2025-06-09T14:07:02.607Z"
   },
   {
    "duration": 14,
    "start_time": "2025-06-09T14:07:07.033Z"
   },
   {
    "duration": 172,
    "start_time": "2025-06-09T14:07:09.254Z"
   },
   {
    "duration": 78,
    "start_time": "2025-06-09T14:11:28.722Z"
   },
   {
    "duration": 16,
    "start_time": "2025-06-09T14:11:37.606Z"
   },
   {
    "duration": 177,
    "start_time": "2025-06-09T14:12:39.201Z"
   },
   {
    "duration": 268,
    "start_time": "2025-06-09T14:13:17.243Z"
   },
   {
    "duration": 173,
    "start_time": "2025-06-09T14:13:27.923Z"
   },
   {
    "duration": 85,
    "start_time": "2025-06-09T14:14:01.062Z"
   },
   {
    "duration": 197,
    "start_time": "2025-06-09T14:36:01.516Z"
   },
   {
    "duration": 13,
    "start_time": "2025-06-09T14:36:31.824Z"
   },
   {
    "duration": 160,
    "start_time": "2025-06-09T14:36:32.465Z"
   },
   {
    "duration": 14,
    "start_time": "2025-06-09T14:36:55.805Z"
   },
   {
    "duration": 168,
    "start_time": "2025-06-09T14:36:56.606Z"
   },
   {
    "duration": 116,
    "start_time": "2025-06-09T14:44:53.825Z"
   },
   {
    "duration": 10,
    "start_time": "2025-06-09T14:46:31.860Z"
   },
   {
    "duration": 28,
    "start_time": "2025-06-09T14:46:47.373Z"
   },
   {
    "duration": 21,
    "start_time": "2025-06-09T14:50:54.683Z"
   },
   {
    "duration": 17,
    "start_time": "2025-06-09T14:52:27.410Z"
   },
   {
    "duration": 14,
    "start_time": "2025-06-09T14:52:34.019Z"
   },
   {
    "duration": 8,
    "start_time": "2025-06-09T14:52:54.923Z"
   },
   {
    "duration": 14,
    "start_time": "2025-06-09T14:55:22.597Z"
   },
   {
    "duration": 6,
    "start_time": "2025-06-09T14:58:44.532Z"
   },
   {
    "duration": 11,
    "start_time": "2025-06-09T14:58:58.196Z"
   },
   {
    "duration": 5605,
    "start_time": "2025-06-09T14:59:35.411Z"
   },
   {
    "duration": 1342,
    "start_time": "2025-06-09T14:59:41.019Z"
   },
   {
    "duration": 3010,
    "start_time": "2025-06-09T14:59:42.362Z"
   },
   {
    "duration": 34,
    "start_time": "2025-06-09T14:59:45.375Z"
   },
   {
    "duration": 134,
    "start_time": "2025-06-09T14:59:45.411Z"
   },
   {
    "duration": 63,
    "start_time": "2025-06-09T14:59:45.547Z"
   },
   {
    "duration": 24,
    "start_time": "2025-06-09T14:59:45.611Z"
   },
   {
    "duration": 63,
    "start_time": "2025-06-09T14:59:45.636Z"
   },
   {
    "duration": 7,
    "start_time": "2025-06-09T14:59:45.701Z"
   },
   {
    "duration": 187,
    "start_time": "2025-06-09T14:59:45.710Z"
   },
   {
    "duration": 56,
    "start_time": "2025-06-09T14:59:45.902Z"
   },
   {
    "duration": 9,
    "start_time": "2025-06-09T14:59:45.960Z"
   },
   {
    "duration": 62,
    "start_time": "2025-06-09T14:59:45.970Z"
   },
   {
    "duration": 4,
    "start_time": "2025-06-09T14:59:46.034Z"
   },
   {
    "duration": 83,
    "start_time": "2025-06-09T14:59:46.040Z"
   },
   {
    "duration": 178,
    "start_time": "2025-06-09T14:59:46.125Z"
   },
   {
    "duration": 4,
    "start_time": "2025-06-09T14:59:46.305Z"
   },
   {
    "duration": 21,
    "start_time": "2025-06-09T14:59:46.311Z"
   },
   {
    "duration": 19,
    "start_time": "2025-06-09T14:59:46.334Z"
   },
   {
    "duration": 53,
    "start_time": "2025-06-09T14:59:46.354Z"
   },
   {
    "duration": 16,
    "start_time": "2025-06-09T14:59:46.408Z"
   },
   {
    "duration": 186,
    "start_time": "2025-06-09T14:59:46.426Z"
   },
   {
    "duration": 89,
    "start_time": "2025-06-09T14:59:46.614Z"
   },
   {
    "duration": 36,
    "start_time": "2025-06-09T14:59:46.705Z"
   },
   {
    "duration": 107,
    "start_time": "2025-06-09T14:59:46.743Z"
   },
   {
    "duration": 254,
    "start_time": "2025-06-09T14:59:46.852Z"
   },
   {
    "duration": 122,
    "start_time": "2025-06-09T14:59:47.107Z"
   },
   {
    "duration": 74,
    "start_time": "2025-06-09T14:59:47.232Z"
   },
   {
    "duration": 23,
    "start_time": "2025-06-09T14:59:47.611Z"
   },
   {
    "duration": 50,
    "start_time": "2025-06-09T14:59:47.789Z"
   },
   {
    "duration": 17,
    "start_time": "2025-06-09T14:59:47.970Z"
   },
   {
    "duration": 255,
    "start_time": "2025-06-09T14:59:48.595Z"
   },
   {
    "duration": 196,
    "start_time": "2025-06-09T14:59:48.852Z"
   },
   {
    "duration": 9,
    "start_time": "2025-06-09T14:59:49.423Z"
   },
   {
    "duration": 14,
    "start_time": "2025-06-09T14:59:49.876Z"
   },
   {
    "duration": 88,
    "start_time": "2025-06-09T14:59:50.412Z"
   },
   {
    "duration": 95,
    "start_time": "2025-06-09T14:59:50.732Z"
   },
   {
    "duration": 23,
    "start_time": "2025-06-09T14:59:51.087Z"
   },
   {
    "duration": 166,
    "start_time": "2025-06-09T14:59:51.563Z"
   },
   {
    "duration": 1486,
    "start_time": "2025-06-09T14:59:52.763Z"
   },
   {
    "duration": 0,
    "start_time": "2025-06-09T14:59:54.251Z"
   },
   {
    "duration": 19,
    "start_time": "2025-06-09T15:00:21.143Z"
   },
   {
    "duration": 12,
    "start_time": "2025-06-09T15:00:26.999Z"
   },
   {
    "duration": 163,
    "start_time": "2025-06-09T15:00:27.804Z"
   },
   {
    "duration": 11,
    "start_time": "2025-06-09T15:03:40.871Z"
   },
   {
    "duration": 20,
    "start_time": "2025-06-09T15:07:01.391Z"
   },
   {
    "duration": 273,
    "start_time": "2025-06-09T15:07:04.888Z"
   },
   {
    "duration": 35,
    "start_time": "2025-06-09T15:07:11.777Z"
   },
   {
    "duration": 15,
    "start_time": "2025-06-09T15:07:12.471Z"
   },
   {
    "duration": 10,
    "start_time": "2025-06-09T15:07:13.301Z"
   },
   {
    "duration": 12,
    "start_time": "2025-06-09T15:07:29.442Z"
   },
   {
    "duration": 179,
    "start_time": "2025-06-09T15:07:30.025Z"
   },
   {
    "duration": 11,
    "start_time": "2025-06-09T15:11:35.654Z"
   },
   {
    "duration": 24,
    "start_time": "2025-06-09T15:11:46.588Z"
   },
   {
    "duration": 19,
    "start_time": "2025-06-09T15:12:08.591Z"
   },
   {
    "duration": 169,
    "start_time": "2025-06-09T15:12:09.356Z"
   },
   {
    "duration": 9,
    "start_time": "2025-06-09T15:17:07.524Z"
   },
   {
    "duration": 10,
    "start_time": "2025-06-09T15:17:12.763Z"
   },
   {
    "duration": 30,
    "start_time": "2025-06-09T15:17:21.266Z"
   },
   {
    "duration": 120,
    "start_time": "2025-06-09T15:17:46.444Z"
   },
   {
    "duration": 158,
    "start_time": "2025-06-09T15:17:55.137Z"
   },
   {
    "duration": 119,
    "start_time": "2025-06-09T15:17:59.423Z"
   },
   {
    "duration": 92,
    "start_time": "2025-06-09T15:18:08.203Z"
   },
   {
    "duration": 142,
    "start_time": "2025-06-09T15:18:11.688Z"
   },
   {
    "duration": 139,
    "start_time": "2025-06-09T15:18:26.852Z"
   },
   {
    "duration": 9,
    "start_time": "2025-06-09T15:18:27.951Z"
   },
   {
    "duration": 5405,
    "start_time": "2025-06-09T15:19:36.761Z"
   },
   {
    "duration": 1377,
    "start_time": "2025-06-09T15:19:42.168Z"
   },
   {
    "duration": 3879,
    "start_time": "2025-06-09T15:19:43.547Z"
   },
   {
    "duration": 22,
    "start_time": "2025-06-09T15:19:47.429Z"
   },
   {
    "duration": 163,
    "start_time": "2025-06-09T15:19:47.452Z"
   },
   {
    "duration": 47,
    "start_time": "2025-06-09T15:19:47.617Z"
   },
   {
    "duration": 35,
    "start_time": "2025-06-09T15:19:47.678Z"
   },
   {
    "duration": 30,
    "start_time": "2025-06-09T15:19:47.715Z"
   },
   {
    "duration": 36,
    "start_time": "2025-06-09T15:19:47.747Z"
   },
   {
    "duration": 16,
    "start_time": "2025-06-09T15:19:47.787Z"
   },
   {
    "duration": 7,
    "start_time": "2025-06-09T15:19:47.808Z"
   },
   {
    "duration": 6,
    "start_time": "2025-06-09T15:19:47.817Z"
   },
   {
    "duration": 73,
    "start_time": "2025-06-09T15:19:47.825Z"
   },
   {
    "duration": 6,
    "start_time": "2025-06-09T15:19:47.900Z"
   },
   {
    "duration": 158,
    "start_time": "2025-06-09T15:19:47.907Z"
   },
   {
    "duration": 181,
    "start_time": "2025-06-09T15:19:48.066Z"
   },
   {
    "duration": 5,
    "start_time": "2025-06-09T15:19:48.248Z"
   },
   {
    "duration": 36,
    "start_time": "2025-06-09T15:19:48.254Z"
   },
   {
    "duration": 26,
    "start_time": "2025-06-09T15:19:48.292Z"
   },
   {
    "duration": 20,
    "start_time": "2025-06-09T15:19:48.319Z"
   },
   {
    "duration": 47,
    "start_time": "2025-06-09T15:19:48.341Z"
   },
   {
    "duration": 161,
    "start_time": "2025-06-09T15:19:48.390Z"
   },
   {
    "duration": 83,
    "start_time": "2025-06-09T15:19:48.553Z"
   },
   {
    "duration": 54,
    "start_time": "2025-06-09T15:19:48.638Z"
   },
   {
    "duration": 21,
    "start_time": "2025-06-09T15:19:48.696Z"
   },
   {
    "duration": 271,
    "start_time": "2025-06-09T15:19:48.719Z"
   },
   {
    "duration": 119,
    "start_time": "2025-06-09T15:19:49.000Z"
   },
   {
    "duration": 51,
    "start_time": "2025-06-09T15:20:30.488Z"
   },
   {
    "duration": 24,
    "start_time": "2025-06-09T15:20:31.524Z"
   },
   {
    "duration": 79,
    "start_time": "2025-06-09T15:20:31.629Z"
   },
   {
    "duration": 14,
    "start_time": "2025-06-09T15:20:31.771Z"
   },
   {
    "duration": 253,
    "start_time": "2025-06-09T15:20:32.493Z"
   },
   {
    "duration": 200,
    "start_time": "2025-06-09T15:20:32.763Z"
   },
   {
    "duration": 8,
    "start_time": "2025-06-09T15:20:34.260Z"
   },
   {
    "duration": 8,
    "start_time": "2025-06-09T15:20:34.932Z"
   },
   {
    "duration": 108,
    "start_time": "2025-06-09T15:20:35.826Z"
   },
   {
    "duration": 17,
    "start_time": "2025-06-09T15:20:36.404Z"
   },
   {
    "duration": 14,
    "start_time": "2025-06-09T15:20:39.522Z"
   },
   {
    "duration": 160,
    "start_time": "2025-06-09T15:20:43.263Z"
   },
   {
    "duration": 111,
    "start_time": "2025-06-09T15:20:45.703Z"
   },
   {
    "duration": 1616,
    "start_time": "2025-06-09T15:20:47.691Z"
   },
   {
    "duration": 39,
    "start_time": "2025-06-09T15:20:57.164Z"
   },
   {
    "duration": 18,
    "start_time": "2025-06-09T15:20:59.363Z"
   },
   {
    "duration": 9,
    "start_time": "2025-06-09T15:21:07.548Z"
   },
   {
    "duration": 8,
    "start_time": "2025-06-09T15:21:11.963Z"
   },
   {
    "duration": 179,
    "start_time": "2025-06-09T15:21:16.063Z"
   },
   {
    "duration": 248,
    "start_time": "2025-06-09T15:22:01.212Z"
   },
   {
    "duration": 166,
    "start_time": "2025-06-09T15:22:15.857Z"
   },
   {
    "duration": 172,
    "start_time": "2025-06-09T15:22:59.380Z"
   },
   {
    "duration": 195,
    "start_time": "2025-06-09T15:23:46.606Z"
   },
   {
    "duration": 19,
    "start_time": "2025-06-09T15:25:00.086Z"
   },
   {
    "duration": 164,
    "start_time": "2025-06-09T15:25:03.091Z"
   },
   {
    "duration": 134,
    "start_time": "2025-06-09T15:25:08.093Z"
   },
   {
    "duration": 21,
    "start_time": "2025-06-09T15:25:09.604Z"
   },
   {
    "duration": 10,
    "start_time": "2025-06-09T15:25:10.303Z"
   },
   {
    "duration": 15,
    "start_time": "2025-06-09T15:25:10.487Z"
   },
   {
    "duration": 184,
    "start_time": "2025-06-09T15:25:10.699Z"
   },
   {
    "duration": 14,
    "start_time": "2025-06-09T15:25:29.111Z"
   },
   {
    "duration": 172,
    "start_time": "2025-06-09T15:25:29.744Z"
   },
   {
    "duration": 148,
    "start_time": "2025-06-09T15:25:32.021Z"
   },
   {
    "duration": 22,
    "start_time": "2025-06-09T15:25:32.752Z"
   },
   {
    "duration": 10,
    "start_time": "2025-06-09T15:25:33.223Z"
   },
   {
    "duration": 8,
    "start_time": "2025-06-09T15:25:33.463Z"
   },
   {
    "duration": 180,
    "start_time": "2025-06-09T15:25:34.147Z"
   },
   {
    "duration": 20,
    "start_time": "2025-06-09T15:26:15.383Z"
   },
   {
    "duration": 172,
    "start_time": "2025-06-09T15:26:19.842Z"
   },
   {
    "duration": 119,
    "start_time": "2025-06-09T15:26:21.536Z"
   },
   {
    "duration": 19,
    "start_time": "2025-06-09T15:26:22.206Z"
   },
   {
    "duration": 9,
    "start_time": "2025-06-09T15:26:22.634Z"
   },
   {
    "duration": 8,
    "start_time": "2025-06-09T15:26:23.232Z"
   },
   {
    "duration": 167,
    "start_time": "2025-06-09T15:26:24.004Z"
   },
   {
    "duration": 181,
    "start_time": "2025-06-09T15:27:09.559Z"
   },
   {
    "duration": 186,
    "start_time": "2025-06-09T15:30:06.052Z"
   },
   {
    "duration": 292,
    "start_time": "2025-06-09T15:30:32.076Z"
   },
   {
    "duration": 186,
    "start_time": "2025-06-09T15:31:53.723Z"
   },
   {
    "duration": 179,
    "start_time": "2025-06-09T15:32:08.726Z"
   },
   {
    "duration": 177,
    "start_time": "2025-06-09T15:32:20.823Z"
   },
   {
    "duration": 193,
    "start_time": "2025-06-09T15:32:47.856Z"
   },
   {
    "duration": 154,
    "start_time": "2025-06-09T15:33:11.391Z"
   },
   {
    "duration": 183,
    "start_time": "2025-06-09T15:33:26.103Z"
   },
   {
    "duration": 258,
    "start_time": "2025-06-09T15:33:48.543Z"
   },
   {
    "duration": 251,
    "start_time": "2025-06-09T15:33:50.664Z"
   },
   {
    "duration": 12,
    "start_time": "2025-06-09T15:34:22.303Z"
   },
   {
    "duration": 166,
    "start_time": "2025-06-09T15:34:24.343Z"
   },
   {
    "duration": 134,
    "start_time": "2025-06-09T15:34:27.903Z"
   },
   {
    "duration": 19,
    "start_time": "2025-06-09T15:34:28.612Z"
   },
   {
    "duration": 14,
    "start_time": "2025-06-09T15:34:29.090Z"
   },
   {
    "duration": 8,
    "start_time": "2025-06-09T15:34:29.522Z"
   },
   {
    "duration": 182,
    "start_time": "2025-06-09T15:34:30.136Z"
   },
   {
    "duration": 326,
    "start_time": "2025-06-09T15:36:47.223Z"
   },
   {
    "duration": 19,
    "start_time": "2025-06-09T15:37:43.382Z"
   },
   {
    "duration": 14,
    "start_time": "2025-06-09T15:37:46.721Z"
   },
   {
    "duration": 188,
    "start_time": "2025-06-09T15:37:47.006Z"
   },
   {
    "duration": 294,
    "start_time": "2025-06-09T15:37:49.531Z"
   },
   {
    "duration": 129,
    "start_time": "2025-06-09T15:37:50.523Z"
   },
   {
    "duration": 34,
    "start_time": "2025-06-09T15:37:53.364Z"
   },
   {
    "duration": 10,
    "start_time": "2025-06-09T15:37:53.536Z"
   },
   {
    "duration": 16,
    "start_time": "2025-06-09T15:37:53.787Z"
   },
   {
    "duration": 203,
    "start_time": "2025-06-09T15:37:54.005Z"
   },
   {
    "duration": 10,
    "start_time": "2025-06-09T15:41:22.534Z"
   },
   {
    "duration": 8,
    "start_time": "2025-06-09T15:43:39.218Z"
   },
   {
    "duration": 1343,
    "start_time": "2025-06-09T15:43:59.806Z"
   },
   {
    "duration": 11,
    "start_time": "2025-06-09T15:44:26.083Z"
   },
   {
    "duration": 1549,
    "start_time": "2025-06-09T15:44:35.562Z"
   },
   {
    "duration": 6,
    "start_time": "2025-06-09T15:45:26.866Z"
   },
   {
    "duration": 13,
    "start_time": "2025-06-09T15:45:34.700Z"
   },
   {
    "duration": 6,
    "start_time": "2025-06-09T15:45:54.731Z"
   },
   {
    "duration": 6,
    "start_time": "2025-06-09T15:46:49.428Z"
   },
   {
    "duration": 10273,
    "start_time": "2025-06-09T15:57:13.091Z"
   },
   {
    "duration": 738,
    "start_time": "2025-06-09T15:57:23.366Z"
   },
   {
    "duration": 2889,
    "start_time": "2025-06-09T15:57:24.106Z"
   },
   {
    "duration": 26,
    "start_time": "2025-06-09T15:57:26.998Z"
   },
   {
    "duration": 162,
    "start_time": "2025-06-09T15:57:27.026Z"
   },
   {
    "duration": 51,
    "start_time": "2025-06-09T15:57:27.193Z"
   },
   {
    "duration": 41,
    "start_time": "2025-06-09T15:57:27.246Z"
   },
   {
    "duration": 37,
    "start_time": "2025-06-09T15:57:27.288Z"
   },
   {
    "duration": 6,
    "start_time": "2025-06-09T15:57:27.327Z"
   },
   {
    "duration": 17,
    "start_time": "2025-06-09T15:57:27.335Z"
   },
   {
    "duration": 39,
    "start_time": "2025-06-09T15:57:27.353Z"
   },
   {
    "duration": 6,
    "start_time": "2025-06-09T15:57:27.394Z"
   },
   {
    "duration": 49,
    "start_time": "2025-06-09T15:57:27.402Z"
   },
   {
    "duration": 4,
    "start_time": "2025-06-09T15:57:27.453Z"
   },
   {
    "duration": 86,
    "start_time": "2025-06-09T15:57:27.459Z"
   },
   {
    "duration": 216,
    "start_time": "2025-06-09T15:57:27.547Z"
   },
   {
    "duration": 4,
    "start_time": "2025-06-09T15:57:27.765Z"
   },
   {
    "duration": 28,
    "start_time": "2025-06-09T15:57:27.776Z"
   },
   {
    "duration": 21,
    "start_time": "2025-06-09T15:57:27.805Z"
   },
   {
    "duration": 22,
    "start_time": "2025-06-09T15:57:27.828Z"
   },
   {
    "duration": 23,
    "start_time": "2025-06-09T15:57:27.878Z"
   },
   {
    "duration": 168,
    "start_time": "2025-06-09T15:57:27.903Z"
   },
   {
    "duration": 83,
    "start_time": "2025-06-09T15:57:28.076Z"
   },
   {
    "duration": 61,
    "start_time": "2025-06-09T15:57:28.160Z"
   },
   {
    "duration": 18,
    "start_time": "2025-06-09T15:57:28.222Z"
   },
   {
    "duration": 265,
    "start_time": "2025-06-09T15:57:28.242Z"
   },
   {
    "duration": 125,
    "start_time": "2025-06-09T15:57:28.509Z"
   },
   {
    "duration": 70,
    "start_time": "2025-06-09T15:57:28.637Z"
   },
   {
    "duration": 24,
    "start_time": "2025-06-09T15:57:28.709Z"
   },
   {
    "duration": 76,
    "start_time": "2025-06-09T15:57:28.735Z"
   },
   {
    "duration": 9,
    "start_time": "2025-06-09T15:57:28.812Z"
   },
   {
    "duration": 269,
    "start_time": "2025-06-09T15:57:28.823Z"
   },
   {
    "duration": 205,
    "start_time": "2025-06-09T15:57:29.098Z"
   },
   {
    "duration": 9,
    "start_time": "2025-06-09T15:57:29.305Z"
   },
   {
    "duration": 9,
    "start_time": "2025-06-09T15:57:29.315Z"
   },
   {
    "duration": 92,
    "start_time": "2025-06-09T15:57:29.325Z"
   },
   {
    "duration": 18,
    "start_time": "2025-06-09T15:57:29.419Z"
   },
   {
    "duration": 13,
    "start_time": "2025-06-09T15:57:29.439Z"
   },
   {
    "duration": 168,
    "start_time": "2025-06-09T15:57:30.386Z"
   },
   {
    "duration": 125,
    "start_time": "2025-06-09T15:57:31.762Z"
   },
   {
    "duration": 31,
    "start_time": "2025-06-09T15:57:32.112Z"
   },
   {
    "duration": 10,
    "start_time": "2025-06-09T15:57:32.322Z"
   },
   {
    "duration": 20,
    "start_time": "2025-06-09T15:57:33.178Z"
   },
   {
    "duration": 169,
    "start_time": "2025-06-09T15:57:33.698Z"
   },
   {
    "duration": 8,
    "start_time": "2025-06-09T15:57:34.651Z"
   },
   {
    "duration": 257,
    "start_time": "2025-06-09T15:57:42.109Z"
   },
   {
    "duration": 8,
    "start_time": "2025-06-09T15:57:43.162Z"
   },
   {
    "duration": 176,
    "start_time": "2025-06-09T15:57:45.163Z"
   },
   {
    "duration": 178,
    "start_time": "2025-06-09T15:57:47.722Z"
   },
   {
    "duration": 168,
    "start_time": "2025-06-09T15:57:51.005Z"
   },
   {
    "duration": 8,
    "start_time": "2025-06-09T15:57:54.023Z"
   },
   {
    "duration": 14,
    "start_time": "2025-06-09T15:57:54.985Z"
   },
   {
    "duration": 388,
    "start_time": "2025-06-09T16:15:38.011Z"
   },
   {
    "duration": 69,
    "start_time": "2025-06-09T16:17:19.955Z"
   },
   {
    "duration": 63,
    "start_time": "2025-06-09T16:19:06.586Z"
   },
   {
    "duration": 66,
    "start_time": "2025-06-09T16:22:23.176Z"
   },
   {
    "duration": 68,
    "start_time": "2025-06-09T16:26:52.426Z"
   },
   {
    "duration": 77,
    "start_time": "2025-06-09T16:27:09.170Z"
   },
   {
    "duration": 236,
    "start_time": "2025-06-09T16:34:14.511Z"
   },
   {
    "duration": 27,
    "start_time": "2025-06-09T16:34:41.913Z"
   },
   {
    "duration": 44,
    "start_time": "2025-06-09T16:37:10.259Z"
   },
   {
    "duration": 28,
    "start_time": "2025-06-09T16:38:51.640Z"
   },
   {
    "duration": 15,
    "start_time": "2025-06-09T16:40:04.602Z"
   },
   {
    "duration": 376,
    "start_time": "2025-06-09T16:40:37.098Z"
   },
   {
    "duration": 30,
    "start_time": "2025-06-09T16:41:29.862Z"
   },
   {
    "duration": 31,
    "start_time": "2025-06-09T16:43:37.848Z"
   },
   {
    "duration": 10,
    "start_time": "2025-06-09T16:43:38.810Z"
   },
   {
    "duration": 32,
    "start_time": "2025-06-09T16:44:35.669Z"
   },
   {
    "duration": 12,
    "start_time": "2025-06-09T16:44:36.101Z"
   },
   {
    "duration": 91,
    "start_time": "2025-06-09T16:56:52.001Z"
   },
   {
    "duration": 61,
    "start_time": "2025-06-09T16:57:09.063Z"
   },
   {
    "duration": 65,
    "start_time": "2025-06-09T16:57:38.701Z"
   },
   {
    "duration": 66,
    "start_time": "2025-06-09T16:58:23.668Z"
   },
   {
    "duration": 73,
    "start_time": "2025-06-09T16:59:06.614Z"
   },
   {
    "duration": 71,
    "start_time": "2025-06-09T16:59:43.336Z"
   },
   {
    "duration": 68,
    "start_time": "2025-06-09T16:59:58.275Z"
   },
   {
    "duration": 72,
    "start_time": "2025-06-09T17:02:55.762Z"
   },
   {
    "duration": 52,
    "start_time": "2025-06-09T17:04:34.914Z"
   },
   {
    "duration": 58,
    "start_time": "2025-06-09T17:04:38.747Z"
   },
   {
    "duration": 8,
    "start_time": "2025-06-09T17:06:12.825Z"
   },
   {
    "duration": 56,
    "start_time": "2025-06-09T17:20:22.125Z"
   },
   {
    "duration": 208,
    "start_time": "2025-06-09T17:20:57.593Z"
   },
   {
    "duration": 233,
    "start_time": "2025-06-09T17:21:01.609Z"
   },
   {
    "duration": 84,
    "start_time": "2025-06-09T17:28:31.129Z"
   },
   {
    "duration": 86,
    "start_time": "2025-06-09T17:28:41.545Z"
   },
   {
    "duration": 278,
    "start_time": "2025-06-09T17:29:41.945Z"
   },
   {
    "duration": 232,
    "start_time": "2025-06-09T17:30:18.520Z"
   },
   {
    "duration": 304,
    "start_time": "2025-06-09T17:30:54.512Z"
   },
   {
    "duration": 11,
    "start_time": "2025-06-09T17:58:54.647Z"
   },
   {
    "duration": 9004,
    "start_time": "2025-06-09T17:59:45.818Z"
   },
   {
    "duration": 619,
    "start_time": "2025-06-09T17:59:54.824Z"
   },
   {
    "duration": 2264,
    "start_time": "2025-06-09T17:59:55.445Z"
   },
   {
    "duration": 22,
    "start_time": "2025-06-09T17:59:57.711Z"
   },
   {
    "duration": 155,
    "start_time": "2025-06-09T17:59:57.735Z"
   },
   {
    "duration": 49,
    "start_time": "2025-06-09T17:59:57.892Z"
   },
   {
    "duration": 48,
    "start_time": "2025-06-09T17:59:57.943Z"
   },
   {
    "duration": 32,
    "start_time": "2025-06-09T17:59:57.993Z"
   },
   {
    "duration": 8,
    "start_time": "2025-06-09T17:59:58.027Z"
   },
   {
    "duration": 41,
    "start_time": "2025-06-09T17:59:58.039Z"
   },
   {
    "duration": 14,
    "start_time": "2025-06-09T17:59:58.081Z"
   },
   {
    "duration": 33,
    "start_time": "2025-06-09T17:59:58.097Z"
   },
   {
    "duration": 54,
    "start_time": "2025-06-09T17:59:58.132Z"
   },
   {
    "duration": 6,
    "start_time": "2025-06-09T17:59:58.193Z"
   },
   {
    "duration": 83,
    "start_time": "2025-06-09T17:59:58.201Z"
   },
   {
    "duration": 161,
    "start_time": "2025-06-09T17:59:58.286Z"
   },
   {
    "duration": 5,
    "start_time": "2025-06-09T17:59:58.449Z"
   },
   {
    "duration": 70,
    "start_time": "2025-06-09T17:59:58.456Z"
   },
   {
    "duration": 19,
    "start_time": "2025-06-09T17:59:58.528Z"
   },
   {
    "duration": 20,
    "start_time": "2025-06-09T17:59:58.548Z"
   },
   {
    "duration": 22,
    "start_time": "2025-06-09T17:59:58.570Z"
   },
   {
    "duration": 160,
    "start_time": "2025-06-09T17:59:58.594Z"
   },
   {
    "duration": 86,
    "start_time": "2025-06-09T17:59:58.756Z"
   },
   {
    "duration": 59,
    "start_time": "2025-06-09T17:59:58.843Z"
   },
   {
    "duration": 19,
    "start_time": "2025-06-09T17:59:58.904Z"
   },
   {
    "duration": 248,
    "start_time": "2025-06-09T17:59:58.925Z"
   },
   {
    "duration": 122,
    "start_time": "2025-06-09T17:59:59.181Z"
   },
   {
    "duration": 39,
    "start_time": "2025-06-09T17:59:59.306Z"
   },
   {
    "duration": 50,
    "start_time": "2025-06-09T17:59:59.346Z"
   },
   {
    "duration": 53,
    "start_time": "2025-06-09T17:59:59.398Z"
   },
   {
    "duration": 11,
    "start_time": "2025-06-09T17:59:59.452Z"
   },
   {
    "duration": 417,
    "start_time": "2025-06-09T17:59:59.477Z"
   },
   {
    "duration": 190,
    "start_time": "2025-06-09T17:59:59.896Z"
   },
   {
    "duration": 12,
    "start_time": "2025-06-09T18:00:00.088Z"
   },
   {
    "duration": 91,
    "start_time": "2025-06-09T18:00:00.102Z"
   },
   {
    "duration": 156,
    "start_time": "2025-06-09T18:00:00.195Z"
   },
   {
    "duration": 248,
    "start_time": "2025-06-09T18:00:00.354Z"
   },
   {
    "duration": 277,
    "start_time": "2025-06-09T18:00:00.604Z"
   },
   {
    "duration": 181,
    "start_time": "2025-06-09T18:00:00.890Z"
   },
   {
    "duration": 114,
    "start_time": "2025-06-09T18:00:02.324Z"
   },
   {
    "duration": 24,
    "start_time": "2025-06-09T18:00:02.962Z"
   },
   {
    "duration": 14,
    "start_time": "2025-06-09T18:00:03.580Z"
   },
   {
    "duration": 15,
    "start_time": "2025-06-09T18:00:03.676Z"
   },
   {
    "duration": 181,
    "start_time": "2025-06-09T18:00:03.924Z"
   },
   {
    "duration": 9,
    "start_time": "2025-06-09T18:00:05.006Z"
   },
   {
    "duration": 6,
    "start_time": "2025-06-09T18:00:05.237Z"
   },
   {
    "duration": 52,
    "start_time": "2025-06-09T18:00:08.206Z"
   },
   {
    "duration": 39,
    "start_time": "2025-06-09T18:00:09.124Z"
   },
   {
    "duration": 57,
    "start_time": "2025-06-09T18:00:10.098Z"
   },
   {
    "duration": 30,
    "start_time": "2025-06-09T18:00:10.819Z"
   },
   {
    "duration": 28,
    "start_time": "2025-06-09T18:00:11.237Z"
   },
   {
    "duration": 20,
    "start_time": "2025-06-09T18:00:12.271Z"
   },
   {
    "duration": 70,
    "start_time": "2025-06-09T18:00:13.066Z"
   },
   {
    "duration": 62,
    "start_time": "2025-06-09T18:00:13.552Z"
   },
   {
    "duration": 8,
    "start_time": "2025-06-09T18:00:14.031Z"
   },
   {
    "duration": 341,
    "start_time": "2025-06-09T18:00:14.564Z"
   },
   {
    "duration": 291,
    "start_time": "2025-06-09T18:00:58.564Z"
   },
   {
    "duration": 282,
    "start_time": "2025-06-09T18:01:23.080Z"
   },
   {
    "duration": 110,
    "start_time": "2025-06-09T18:07:50.098Z"
   },
   {
    "duration": 116,
    "start_time": "2025-06-09T18:08:19.626Z"
   },
   {
    "duration": 4,
    "start_time": "2025-06-09T18:08:26.518Z"
   },
   {
    "duration": 191,
    "start_time": "2025-06-09T18:10:04.856Z"
   },
   {
    "duration": 38,
    "start_time": "2025-06-09T18:18:15.851Z"
   },
   {
    "duration": 37,
    "start_time": "2025-06-09T18:23:21.426Z"
   },
   {
    "duration": 87,
    "start_time": "2025-06-09T18:23:37.917Z"
   },
   {
    "duration": 1488,
    "start_time": "2025-06-09T18:29:24.377Z"
   },
   {
    "duration": 9195,
    "start_time": "2025-06-09T18:42:46.764Z"
   },
   {
    "duration": 651,
    "start_time": "2025-06-09T18:42:55.962Z"
   },
   {
    "duration": 2696,
    "start_time": "2025-06-09T18:42:56.614Z"
   },
   {
    "duration": 23,
    "start_time": "2025-06-09T18:42:59.312Z"
   },
   {
    "duration": 158,
    "start_time": "2025-06-09T18:42:59.337Z"
   },
   {
    "duration": 49,
    "start_time": "2025-06-09T18:42:59.497Z"
   },
   {
    "duration": 42,
    "start_time": "2025-06-09T18:42:59.548Z"
   },
   {
    "duration": 34,
    "start_time": "2025-06-09T18:42:59.593Z"
   },
   {
    "duration": 74,
    "start_time": "2025-06-09T18:42:59.630Z"
   },
   {
    "duration": 16,
    "start_time": "2025-06-09T18:42:59.707Z"
   },
   {
    "duration": 18,
    "start_time": "2025-06-09T18:42:59.725Z"
   },
   {
    "duration": 4,
    "start_time": "2025-06-09T18:43:22.164Z"
   },
   {
    "duration": 53,
    "start_time": "2025-06-09T18:43:23.186Z"
   },
   {
    "duration": 9,
    "start_time": "2025-06-09T18:43:23.689Z"
   },
   {
    "duration": 80,
    "start_time": "2025-06-09T18:43:24.657Z"
   },
   {
    "duration": 167,
    "start_time": "2025-06-09T18:43:26.406Z"
   },
   {
    "duration": 5,
    "start_time": "2025-06-09T18:43:27.000Z"
   },
   {
    "duration": 16,
    "start_time": "2025-06-09T18:43:27.637Z"
   },
   {
    "duration": 22,
    "start_time": "2025-06-09T18:43:28.901Z"
   },
   {
    "duration": 25,
    "start_time": "2025-06-09T18:43:30.600Z"
   },
   {
    "duration": 17,
    "start_time": "2025-06-09T18:43:31.956Z"
   },
   {
    "duration": 187,
    "start_time": "2025-06-09T18:43:32.881Z"
   },
   {
    "duration": 115,
    "start_time": "2025-06-09T18:43:41.455Z"
   },
   {
    "duration": 87,
    "start_time": "2025-06-09T18:43:46.837Z"
   },
   {
    "duration": 40,
    "start_time": "2025-06-09T18:43:48.115Z"
   },
   {
    "duration": 40,
    "start_time": "2025-06-09T18:43:48.958Z"
   },
   {
    "duration": 239,
    "start_time": "2025-06-09T18:43:49.899Z"
   },
   {
    "duration": 119,
    "start_time": "2025-06-09T18:43:51.237Z"
   },
   {
    "duration": 41,
    "start_time": "2025-06-09T18:43:52.603Z"
   },
   {
    "duration": 27,
    "start_time": "2025-06-09T18:43:55.916Z"
   },
   {
    "duration": 63,
    "start_time": "2025-06-09T18:43:56.355Z"
   },
   {
    "duration": 14,
    "start_time": "2025-06-09T18:43:57.096Z"
   },
   {
    "duration": 316,
    "start_time": "2025-06-09T18:43:58.276Z"
   },
   {
    "duration": 10,
    "start_time": "2025-06-09T18:44:01.058Z"
   },
   {
    "duration": 9,
    "start_time": "2025-06-09T18:44:01.639Z"
   },
   {
    "duration": 84,
    "start_time": "2025-06-09T18:44:02.617Z"
   },
   {
    "duration": 29,
    "start_time": "2025-06-09T18:44:02.965Z"
   },
   {
    "duration": 13,
    "start_time": "2025-06-09T18:44:03.498Z"
   },
   {
    "duration": 159,
    "start_time": "2025-06-09T18:44:04.096Z"
   },
   {
    "duration": 121,
    "start_time": "2025-06-09T18:44:05.516Z"
   },
   {
    "duration": 28,
    "start_time": "2025-06-09T18:44:06.187Z"
   },
   {
    "duration": 15,
    "start_time": "2025-06-09T18:44:06.564Z"
   },
   {
    "duration": 8,
    "start_time": "2025-06-09T18:44:07.037Z"
   },
   {
    "duration": 179,
    "start_time": "2025-06-09T18:44:07.425Z"
   },
   {
    "duration": 9,
    "start_time": "2025-06-09T18:44:09.044Z"
   },
   {
    "duration": 5,
    "start_time": "2025-06-09T18:44:09.532Z"
   },
   {
    "duration": 52,
    "start_time": "2025-06-09T18:44:13.116Z"
   },
   {
    "duration": 53,
    "start_time": "2025-06-09T18:44:14.464Z"
   },
   {
    "duration": 102,
    "start_time": "2025-06-09T18:44:15.365Z"
   },
   {
    "duration": 30,
    "start_time": "2025-06-09T18:44:16.037Z"
   },
   {
    "duration": 29,
    "start_time": "2025-06-09T18:44:16.600Z"
   },
   {
    "duration": 10,
    "start_time": "2025-06-09T18:44:17.304Z"
   },
   {
    "duration": 76,
    "start_time": "2025-06-09T18:44:18.377Z"
   },
   {
    "duration": 49,
    "start_time": "2025-06-09T18:44:19.214Z"
   },
   {
    "duration": 7,
    "start_time": "2025-06-09T18:44:19.945Z"
   },
   {
    "duration": 254,
    "start_time": "2025-06-09T18:44:20.696Z"
   },
   {
    "duration": 134,
    "start_time": "2025-06-09T18:44:23.054Z"
   },
   {
    "duration": 25,
    "start_time": "2025-06-09T18:44:23.516Z"
   },
   {
    "duration": 4,
    "start_time": "2025-06-09T18:44:24.617Z"
   },
   {
    "duration": 119,
    "start_time": "2025-06-09T18:44:26.437Z"
   },
   {
    "duration": 98,
    "start_time": "2025-06-09T18:45:01.209Z"
   },
   {
    "duration": 3,
    "start_time": "2025-06-09T18:48:52.363Z"
   },
   {
    "duration": 5,
    "start_time": "2025-06-09T18:49:14.199Z"
   },
   {
    "duration": 26,
    "start_time": "2025-06-09T18:49:22.174Z"
   },
   {
    "duration": 16,
    "start_time": "2025-06-09T18:49:45.777Z"
   },
   {
    "duration": 105,
    "start_time": "2025-06-09T18:50:06.897Z"
   },
   {
    "duration": 127,
    "start_time": "2025-06-09T18:50:28.098Z"
   },
   {
    "duration": 86,
    "start_time": "2025-06-09T18:55:07.436Z"
   },
   {
    "duration": 17974,
    "start_time": "2025-06-10T08:33:32.130Z"
   },
   {
    "duration": 1563,
    "start_time": "2025-06-10T08:33:50.107Z"
   },
   {
    "duration": 2137,
    "start_time": "2025-06-10T08:33:51.671Z"
   },
   {
    "duration": 19,
    "start_time": "2025-06-10T08:33:53.810Z"
   },
   {
    "duration": 145,
    "start_time": "2025-06-10T08:33:53.831Z"
   },
   {
    "duration": 40,
    "start_time": "2025-06-10T08:33:53.978Z"
   },
   {
    "duration": 32,
    "start_time": "2025-06-10T08:33:54.019Z"
   },
   {
    "duration": 32,
    "start_time": "2025-06-10T08:33:54.053Z"
   },
   {
    "duration": 6,
    "start_time": "2025-06-10T08:33:54.086Z"
   },
   {
    "duration": 26,
    "start_time": "2025-06-10T08:33:54.094Z"
   },
   {
    "duration": 7,
    "start_time": "2025-06-10T08:33:54.121Z"
   },
   {
    "duration": 3,
    "start_time": "2025-06-10T08:33:54.130Z"
   },
   {
    "duration": 66,
    "start_time": "2025-06-10T08:33:54.135Z"
   },
   {
    "duration": 5,
    "start_time": "2025-06-10T08:33:54.202Z"
   },
   {
    "duration": 96,
    "start_time": "2025-06-10T08:33:54.209Z"
   },
   {
    "duration": 138,
    "start_time": "2025-06-10T08:33:54.307Z"
   },
   {
    "duration": 4,
    "start_time": "2025-06-10T08:33:54.447Z"
   },
   {
    "duration": 14,
    "start_time": "2025-06-10T08:33:54.462Z"
   },
   {
    "duration": 18,
    "start_time": "2025-06-10T08:33:54.478Z"
   },
   {
    "duration": 18,
    "start_time": "2025-06-10T08:33:54.497Z"
   },
   {
    "duration": 22,
    "start_time": "2025-06-10T08:33:54.517Z"
   },
   {
    "duration": 146,
    "start_time": "2025-06-10T08:33:54.563Z"
   },
   {
    "duration": 73,
    "start_time": "2025-06-10T08:33:54.711Z"
   },
   {
    "duration": 34,
    "start_time": "2025-06-10T08:33:54.785Z"
   },
   {
    "duration": 31,
    "start_time": "2025-06-10T08:33:54.821Z"
   },
   {
    "duration": 187,
    "start_time": "2025-06-10T08:33:54.853Z"
   },
   {
    "duration": 98,
    "start_time": "2025-06-10T08:33:55.041Z"
   },
   {
    "duration": 52,
    "start_time": "2025-06-10T08:33:55.142Z"
   },
   {
    "duration": 20,
    "start_time": "2025-06-10T08:33:55.196Z"
   },
   {
    "duration": 78,
    "start_time": "2025-06-10T08:33:55.217Z"
   },
   {
    "duration": 17,
    "start_time": "2025-06-10T08:33:55.297Z"
   },
   {
    "duration": 249,
    "start_time": "2025-06-10T08:33:55.315Z"
   },
   {
    "duration": 8,
    "start_time": "2025-06-10T08:33:55.566Z"
   },
   {
    "duration": 68,
    "start_time": "2025-06-10T08:33:55.575Z"
   },
   {
    "duration": 65,
    "start_time": "2025-06-10T08:33:55.645Z"
   },
   {
    "duration": 17,
    "start_time": "2025-06-10T08:33:55.711Z"
   },
   {
    "duration": 11,
    "start_time": "2025-06-10T08:33:55.729Z"
   },
   {
    "duration": 153,
    "start_time": "2025-06-10T08:33:55.741Z"
   },
   {
    "duration": 101,
    "start_time": "2025-06-10T08:33:55.895Z"
   },
   {
    "duration": 17,
    "start_time": "2025-06-10T08:33:55.998Z"
   },
   {
    "duration": 11,
    "start_time": "2025-06-10T08:33:56.016Z"
   },
   {
    "duration": 7,
    "start_time": "2025-06-10T08:33:56.028Z"
   },
   {
    "duration": 151,
    "start_time": "2025-06-10T08:33:56.061Z"
   },
   {
    "duration": 7,
    "start_time": "2025-06-10T08:33:56.213Z"
   },
   {
    "duration": 7,
    "start_time": "2025-06-10T08:33:56.221Z"
   },
   {
    "duration": 66,
    "start_time": "2025-06-10T08:33:56.230Z"
   },
   {
    "duration": 34,
    "start_time": "2025-06-10T08:33:56.297Z"
   },
   {
    "duration": 165,
    "start_time": "2025-06-10T08:33:56.332Z"
   },
   {
    "duration": 44,
    "start_time": "2025-06-10T08:33:56.500Z"
   },
   {
    "duration": 30,
    "start_time": "2025-06-10T08:33:56.546Z"
   },
   {
    "duration": 9,
    "start_time": "2025-06-10T08:33:56.577Z"
   },
   {
    "duration": 75,
    "start_time": "2025-06-10T08:33:56.588Z"
   },
   {
    "duration": 46,
    "start_time": "2025-06-10T08:33:56.665Z"
   },
   {
    "duration": 7,
    "start_time": "2025-06-10T08:33:56.712Z"
   },
   {
    "duration": 225,
    "start_time": "2025-06-10T08:33:56.720Z"
   },
   {
    "duration": 95,
    "start_time": "2025-06-10T08:33:56.947Z"
   },
   {
    "duration": 33,
    "start_time": "2025-06-10T08:33:57.044Z"
   },
   {
    "duration": 9,
    "start_time": "2025-06-10T08:33:57.079Z"
   },
   {
    "duration": 83,
    "start_time": "2025-06-10T08:33:57.089Z"
   },
   {
    "duration": 116,
    "start_time": "2025-06-10T08:33:57.173Z"
   },
   {
    "duration": 84,
    "start_time": "2025-06-10T08:33:57.290Z"
   },
   {
    "duration": 48,
    "start_time": "2025-06-10T12:34:22.791Z"
   },
   {
    "duration": 6,
    "start_time": "2025-06-10T12:34:59.814Z"
   },
   {
    "duration": 16781,
    "start_time": "2025-06-10T12:36:03.662Z"
   },
   {
    "duration": 575,
    "start_time": "2025-06-10T12:36:20.445Z"
   },
   {
    "duration": 1906,
    "start_time": "2025-06-10T12:36:21.021Z"
   },
   {
    "duration": 21,
    "start_time": "2025-06-10T12:41:32.115Z"
   },
   {
    "duration": 112,
    "start_time": "2025-06-10T12:42:43.273Z"
   },
   {
    "duration": 45,
    "start_time": "2025-06-10T12:43:58.301Z"
   },
   {
    "duration": 32,
    "start_time": "2025-06-10T12:44:44.525Z"
   },
   {
    "duration": 43,
    "start_time": "2025-06-10T12:44:51.534Z"
   },
   {
    "duration": 7,
    "start_time": "2025-06-10T12:45:13.795Z"
   },
   {
    "duration": 12,
    "start_time": "2025-06-10T12:45:14.094Z"
   },
   {
    "duration": 6,
    "start_time": "2025-06-10T12:45:34.253Z"
   },
   {
    "duration": 4,
    "start_time": "2025-06-10T12:45:35.813Z"
   },
   {
    "duration": 46,
    "start_time": "2025-06-10T12:46:07.532Z"
   },
   {
    "duration": 5,
    "start_time": "2025-06-10T12:46:08.383Z"
   },
   {
    "duration": 60,
    "start_time": "2025-06-10T12:49:13.561Z"
   },
   {
    "duration": 139,
    "start_time": "2025-06-10T12:49:13.626Z"
   },
   {
    "duration": 4,
    "start_time": "2025-06-10T12:49:13.766Z"
   },
   {
    "duration": 15,
    "start_time": "2025-06-10T12:49:13.771Z"
   },
   {
    "duration": 19,
    "start_time": "2025-06-10T12:49:14.205Z"
   },
   {
    "duration": 18,
    "start_time": "2025-06-10T12:49:15.267Z"
   },
   {
    "duration": 15,
    "start_time": "2025-06-10T12:49:17.458Z"
   },
   {
    "duration": 145,
    "start_time": "2025-06-10T12:49:18.196Z"
   },
   {
    "duration": 68,
    "start_time": "2025-06-10T12:49:18.899Z"
   },
   {
    "duration": 35,
    "start_time": "2025-06-10T12:49:19.579Z"
   },
   {
    "duration": 15,
    "start_time": "2025-06-10T12:49:20.172Z"
   },
   {
    "duration": 185,
    "start_time": "2025-06-10T12:49:20.819Z"
   },
   {
    "duration": 94,
    "start_time": "2025-06-10T12:49:21.426Z"
   },
   {
    "duration": 37,
    "start_time": "2025-06-10T12:49:22.017Z"
   },
   {
    "duration": 22,
    "start_time": "2025-06-10T12:49:42.033Z"
   },
   {
    "duration": 51,
    "start_time": "2025-06-10T12:49:42.232Z"
   },
   {
    "duration": 12,
    "start_time": "2025-06-10T12:49:42.588Z"
   },
   {
    "duration": 258,
    "start_time": "2025-06-10T12:49:43.161Z"
   },
   {
    "duration": 9,
    "start_time": "2025-06-10T12:49:45.776Z"
   },
   {
    "duration": 9,
    "start_time": "2025-06-10T12:49:45.994Z"
   },
   {
    "duration": 75,
    "start_time": "2025-06-10T12:49:46.530Z"
   },
   {
    "duration": 18,
    "start_time": "2025-06-10T12:49:46.728Z"
   },
   {
    "duration": 14,
    "start_time": "2025-06-10T12:49:47.121Z"
   },
   {
    "duration": 145,
    "start_time": "2025-06-10T12:49:47.629Z"
   },
   {
    "duration": 101,
    "start_time": "2025-06-10T12:49:49.184Z"
   },
   {
    "duration": 17,
    "start_time": "2025-06-10T12:49:49.287Z"
   },
   {
    "duration": 7,
    "start_time": "2025-06-10T12:49:49.306Z"
   },
   {
    "duration": 20,
    "start_time": "2025-06-10T12:49:49.315Z"
   },
   {
    "duration": 145,
    "start_time": "2025-06-10T12:49:49.550Z"
   },
   {
    "duration": 8,
    "start_time": "2025-06-10T12:49:50.151Z"
   },
   {
    "duration": 5,
    "start_time": "2025-06-10T12:49:50.308Z"
   },
   {
    "duration": 47,
    "start_time": "2025-06-10T12:49:51.698Z"
   },
   {
    "duration": 35,
    "start_time": "2025-06-10T12:49:52.238Z"
   },
   {
    "duration": 71,
    "start_time": "2025-06-10T12:49:52.791Z"
   },
   {
    "duration": 25,
    "start_time": "2025-06-10T12:49:53.158Z"
   },
   {
    "duration": 24,
    "start_time": "2025-06-10T12:49:53.538Z"
   },
   {
    "duration": 9,
    "start_time": "2025-06-10T12:49:53.878Z"
   },
   {
    "duration": 54,
    "start_time": "2025-06-10T12:49:54.410Z"
   },
   {
    "duration": 46,
    "start_time": "2025-06-10T12:49:54.731Z"
   },
   {
    "duration": 6,
    "start_time": "2025-06-10T12:49:55.079Z"
   },
   {
    "duration": 218,
    "start_time": "2025-06-10T12:49:55.459Z"
   },
   {
    "duration": 95,
    "start_time": "2025-06-10T12:49:56.158Z"
   },
   {
    "duration": 24,
    "start_time": "2025-06-10T12:49:56.759Z"
   },
   {
    "duration": 4,
    "start_time": "2025-06-10T12:49:56.879Z"
   },
   {
    "duration": 68,
    "start_time": "2025-06-10T12:49:57.270Z"
   },
   {
    "duration": 108,
    "start_time": "2025-06-10T12:49:57.579Z"
   },
   {
    "duration": 70,
    "start_time": "2025-06-10T12:49:57.741Z"
   },
   {
    "duration": 75,
    "start_time": "2025-06-10T12:55:39.695Z"
   },
   {
    "duration": 136,
    "start_time": "2025-06-10T12:56:00.344Z"
   },
   {
    "duration": 112,
    "start_time": "2025-06-10T12:56:13.074Z"
   },
   {
    "duration": 12,
    "start_time": "2025-06-10T12:57:53.584Z"
   },
   {
    "duration": 218,
    "start_time": "2025-06-10T12:57:56.936Z"
   },
   {
    "duration": 79,
    "start_time": "2025-06-10T12:59:57.568Z"
   },
   {
    "duration": 408,
    "start_time": "2025-06-10T13:03:51.731Z"
   },
   {
    "duration": 424,
    "start_time": "2025-06-10T13:05:33.067Z"
   },
   {
    "duration": 412,
    "start_time": "2025-06-10T13:05:47.830Z"
   },
   {
    "duration": 200,
    "start_time": "2025-06-10T13:06:07.272Z"
   },
   {
    "duration": 447,
    "start_time": "2025-06-10T13:06:52.799Z"
   },
   {
    "duration": 524,
    "start_time": "2025-06-10T13:08:34.446Z"
   },
   {
    "duration": 444,
    "start_time": "2025-06-10T13:08:41.543Z"
   },
   {
    "duration": 436,
    "start_time": "2025-06-10T13:09:04.892Z"
   },
   {
    "duration": 4,
    "start_time": "2025-06-10T13:12:19.316Z"
   },
   {
    "duration": 10,
    "start_time": "2025-06-10T13:12:50.557Z"
   },
   {
    "duration": 1028,
    "start_time": "2025-06-10T13:13:20.056Z"
   },
   {
    "duration": 13,
    "start_time": "2025-06-10T13:14:25.098Z"
   },
   {
    "duration": 12,
    "start_time": "2025-06-10T13:15:08.001Z"
   },
   {
    "duration": 19418,
    "start_time": "2025-06-10T14:38:34.869Z"
   },
   {
    "duration": 614,
    "start_time": "2025-06-10T14:38:54.290Z"
   },
   {
    "duration": 2472,
    "start_time": "2025-06-10T14:38:54.906Z"
   },
   {
    "duration": 24,
    "start_time": "2025-06-10T14:38:57.380Z"
   },
   {
    "duration": 139,
    "start_time": "2025-06-10T14:38:57.406Z"
   },
   {
    "duration": 58,
    "start_time": "2025-06-10T14:38:57.547Z"
   },
   {
    "duration": 25,
    "start_time": "2025-06-10T14:38:57.608Z"
   },
   {
    "duration": 49,
    "start_time": "2025-06-10T14:38:57.635Z"
   },
   {
    "duration": 6,
    "start_time": "2025-06-10T14:38:57.686Z"
   },
   {
    "duration": 18,
    "start_time": "2025-06-10T14:38:57.695Z"
   },
   {
    "duration": 25,
    "start_time": "2025-06-10T14:38:57.715Z"
   },
   {
    "duration": 21,
    "start_time": "2025-06-10T14:38:57.742Z"
   },
   {
    "duration": 69,
    "start_time": "2025-06-10T14:38:57.764Z"
   },
   {
    "duration": 5,
    "start_time": "2025-06-10T14:38:57.835Z"
   },
   {
    "duration": 85,
    "start_time": "2025-06-10T14:38:57.842Z"
   },
   {
    "duration": 172,
    "start_time": "2025-06-10T14:38:57.928Z"
   },
   {
    "duration": 4,
    "start_time": "2025-06-10T14:38:58.102Z"
   },
   {
    "duration": 20,
    "start_time": "2025-06-10T14:38:58.108Z"
   },
   {
    "duration": 42,
    "start_time": "2025-06-10T14:38:58.130Z"
   },
   {
    "duration": 21,
    "start_time": "2025-06-10T14:38:58.174Z"
   },
   {
    "duration": 16,
    "start_time": "2025-06-10T14:38:58.197Z"
   },
   {
    "duration": 182,
    "start_time": "2025-06-10T14:38:58.215Z"
   },
   {
    "duration": 85,
    "start_time": "2025-06-10T14:38:58.399Z"
   },
   {
    "duration": 40,
    "start_time": "2025-06-10T14:38:58.486Z"
   },
   {
    "duration": 18,
    "start_time": "2025-06-10T14:38:58.528Z"
   },
   {
    "duration": 249,
    "start_time": "2025-06-10T14:38:58.547Z"
   },
   {
    "duration": 124,
    "start_time": "2025-06-10T14:38:58.799Z"
   },
   {
    "duration": 64,
    "start_time": "2025-06-10T14:38:58.927Z"
   },
   {
    "duration": 27,
    "start_time": "2025-06-10T14:38:58.993Z"
   },
   {
    "duration": 75,
    "start_time": "2025-06-10T14:38:59.022Z"
   },
   {
    "duration": 12,
    "start_time": "2025-06-10T14:38:59.099Z"
   },
   {
    "duration": 362,
    "start_time": "2025-06-10T14:38:59.113Z"
   },
   {
    "duration": 10,
    "start_time": "2025-06-10T14:38:59.477Z"
   },
   {
    "duration": 17,
    "start_time": "2025-06-10T14:38:59.489Z"
   },
   {
    "duration": 98,
    "start_time": "2025-06-10T14:38:59.508Z"
   },
   {
    "duration": 20,
    "start_time": "2025-06-10T14:38:59.608Z"
   },
   {
    "duration": 14,
    "start_time": "2025-06-10T14:38:59.630Z"
   },
   {
    "duration": 188,
    "start_time": "2025-06-10T14:38:59.646Z"
   },
   {
    "duration": 123,
    "start_time": "2025-06-10T14:38:59.836Z"
   },
   {
    "duration": 29,
    "start_time": "2025-06-10T14:38:59.961Z"
   },
   {
    "duration": 11,
    "start_time": "2025-06-10T14:38:59.992Z"
   },
   {
    "duration": 46,
    "start_time": "2025-06-10T14:39:00.005Z"
   },
   {
    "duration": 250,
    "start_time": "2025-06-10T14:39:00.053Z"
   },
   {
    "duration": 10,
    "start_time": "2025-06-10T14:39:00.305Z"
   },
   {
    "duration": 80,
    "start_time": "2025-06-10T14:39:00.317Z"
   },
   {
    "duration": 601,
    "start_time": "2025-06-10T14:39:01.387Z"
   },
   {
    "duration": 16,
    "start_time": "2025-06-10T14:39:09.094Z"
   },
   {
    "duration": 9,
    "start_time": "2025-06-10T14:39:28.263Z"
   },
   {
    "duration": 15,
    "start_time": "2025-06-10T14:40:38.785Z"
   },
   {
    "duration": 15,
    "start_time": "2025-06-10T14:40:44.011Z"
   },
   {
    "duration": 168,
    "start_time": "2025-06-10T14:40:50.710Z"
   },
   {
    "duration": 120,
    "start_time": "2025-06-10T14:42:08.957Z"
   },
   {
    "duration": 16,
    "start_time": "2025-06-10T14:44:58.215Z"
   },
   {
    "duration": 127,
    "start_time": "2025-06-10T14:46:09.414Z"
   },
   {
    "duration": 14,
    "start_time": "2025-06-10T14:46:30.518Z"
   },
   {
    "duration": 173,
    "start_time": "2025-06-10T14:46:31.229Z"
   },
   {
    "duration": 150,
    "start_time": "2025-06-10T14:46:32.935Z"
   },
   {
    "duration": 127,
    "start_time": "2025-06-10T14:47:18.190Z"
   },
   {
    "duration": 60,
    "start_time": "2025-06-10T14:49:27.469Z"
   },
   {
    "duration": 40,
    "start_time": "2025-06-10T14:49:27.910Z"
   },
   {
    "duration": 92,
    "start_time": "2025-06-10T14:49:28.409Z"
   },
   {
    "duration": 37,
    "start_time": "2025-06-10T14:49:28.732Z"
   },
   {
    "duration": 30,
    "start_time": "2025-06-10T14:49:29.067Z"
   },
   {
    "duration": 11,
    "start_time": "2025-06-10T14:49:29.392Z"
   },
   {
    "duration": 67,
    "start_time": "2025-06-10T14:49:29.909Z"
   },
   {
    "duration": 55,
    "start_time": "2025-06-10T14:49:30.184Z"
   },
   {
    "duration": 9,
    "start_time": "2025-06-10T14:49:30.549Z"
   },
   {
    "duration": 260,
    "start_time": "2025-06-10T14:49:30.870Z"
   },
   {
    "duration": 111,
    "start_time": "2025-06-10T14:49:32.729Z"
   },
   {
    "duration": 25,
    "start_time": "2025-06-10T14:49:32.854Z"
   },
   {
    "duration": 4,
    "start_time": "2025-06-10T14:49:33.049Z"
   },
   {
    "duration": 82,
    "start_time": "2025-06-10T14:49:33.390Z"
   },
   {
    "duration": 122,
    "start_time": "2025-06-10T14:49:33.672Z"
   },
   {
    "duration": 75,
    "start_time": "2025-06-10T14:49:33.838Z"
   },
   {
    "duration": 115,
    "start_time": "2025-06-10T14:51:30.614Z"
   },
   {
    "duration": 75,
    "start_time": "2025-06-10T14:51:37.583Z"
   },
   {
    "duration": 14,
    "start_time": "2025-06-10T14:55:49.743Z"
   },
   {
    "duration": 45,
    "start_time": "2025-06-10T14:56:02.109Z"
   },
   {
    "duration": 9387,
    "start_time": "2025-06-10T15:34:03.624Z"
   },
   {
    "duration": 628,
    "start_time": "2025-06-10T15:34:13.013Z"
   },
   {
    "duration": 3883,
    "start_time": "2025-06-10T15:34:13.643Z"
   },
   {
    "duration": 22,
    "start_time": "2025-06-10T15:34:17.528Z"
   },
   {
    "duration": 143,
    "start_time": "2025-06-10T15:34:17.552Z"
   },
   {
    "duration": 48,
    "start_time": "2025-06-10T15:34:17.697Z"
   },
   {
    "duration": 43,
    "start_time": "2025-06-10T15:34:17.747Z"
   },
   {
    "duration": 31,
    "start_time": "2025-06-10T15:34:17.792Z"
   },
   {
    "duration": 7,
    "start_time": "2025-06-10T15:34:17.824Z"
   },
   {
    "duration": 38,
    "start_time": "2025-06-10T15:34:17.834Z"
   },
   {
    "duration": 10,
    "start_time": "2025-06-10T15:34:17.874Z"
   },
   {
    "duration": 5,
    "start_time": "2025-06-10T15:34:17.885Z"
   },
   {
    "duration": 65,
    "start_time": "2025-06-10T15:34:17.891Z"
   },
   {
    "duration": 14,
    "start_time": "2025-06-10T15:34:17.958Z"
   },
   {
    "duration": 99,
    "start_time": "2025-06-10T15:34:17.974Z"
   },
   {
    "duration": 168,
    "start_time": "2025-06-10T15:34:18.076Z"
   },
   {
    "duration": 5,
    "start_time": "2025-06-10T15:34:18.247Z"
   },
   {
    "duration": 34,
    "start_time": "2025-06-10T15:34:18.254Z"
   },
   {
    "duration": 29,
    "start_time": "2025-06-10T15:34:18.289Z"
   },
   {
    "duration": 22,
    "start_time": "2025-06-10T15:34:18.320Z"
   },
   {
    "duration": 36,
    "start_time": "2025-06-10T15:34:18.344Z"
   },
   {
    "duration": 165,
    "start_time": "2025-06-10T15:34:18.382Z"
   },
   {
    "duration": 87,
    "start_time": "2025-06-10T15:34:18.548Z"
   },
   {
    "duration": 55,
    "start_time": "2025-06-10T15:34:18.637Z"
   },
   {
    "duration": 17,
    "start_time": "2025-06-10T15:34:18.694Z"
   },
   {
    "duration": 234,
    "start_time": "2025-06-10T15:34:18.713Z"
   },
   {
    "duration": 126,
    "start_time": "2025-06-10T15:34:18.949Z"
   },
   {
    "duration": 43,
    "start_time": "2025-06-10T15:34:19.079Z"
   },
   {
    "duration": 51,
    "start_time": "2025-06-10T15:34:19.124Z"
   },
   {
    "duration": 87,
    "start_time": "2025-06-10T15:34:19.176Z"
   },
   {
    "duration": 13,
    "start_time": "2025-06-10T15:34:19.264Z"
   },
   {
    "duration": 322,
    "start_time": "2025-06-10T15:34:19.279Z"
   },
   {
    "duration": 10,
    "start_time": "2025-06-10T15:34:19.603Z"
   },
   {
    "duration": 13,
    "start_time": "2025-06-10T15:34:19.615Z"
   },
   {
    "duration": 82,
    "start_time": "2025-06-10T15:34:19.696Z"
   },
   {
    "duration": 21,
    "start_time": "2025-06-10T15:34:19.906Z"
   },
   {
    "duration": 15,
    "start_time": "2025-06-10T15:34:20.644Z"
   },
   {
    "duration": 160,
    "start_time": "2025-06-10T15:34:21.024Z"
   },
   {
    "duration": 122,
    "start_time": "2025-06-10T15:34:21.589Z"
   },
   {
    "duration": 21,
    "start_time": "2025-06-10T15:34:22.786Z"
   },
   {
    "duration": 11,
    "start_time": "2025-06-10T15:34:23.008Z"
   },
   {
    "duration": 9,
    "start_time": "2025-06-10T15:34:23.202Z"
   },
   {
    "duration": 170,
    "start_time": "2025-06-10T15:34:23.422Z"
   },
   {
    "duration": 8,
    "start_time": "2025-06-10T15:34:24.233Z"
   },
   {
    "duration": 6,
    "start_time": "2025-06-10T15:34:24.564Z"
   },
   {
    "duration": 598,
    "start_time": "2025-06-10T15:34:25.432Z"
   },
   {
    "duration": 15,
    "start_time": "2025-06-10T15:34:26.032Z"
   },
   {
    "duration": 175,
    "start_time": "2025-06-10T15:34:26.121Z"
   },
   {
    "duration": 59,
    "start_time": "2025-06-10T15:34:32.892Z"
   },
   {
    "duration": 41,
    "start_time": "2025-06-10T15:34:33.665Z"
   },
   {
    "duration": 86,
    "start_time": "2025-06-10T15:34:34.449Z"
   },
   {
    "duration": 31,
    "start_time": "2025-06-10T15:34:34.797Z"
   },
   {
    "duration": 28,
    "start_time": "2025-06-10T15:34:35.266Z"
   },
   {
    "duration": 10,
    "start_time": "2025-06-10T15:34:35.582Z"
   },
   {
    "duration": 64,
    "start_time": "2025-06-10T15:34:36.209Z"
   },
   {
    "duration": 54,
    "start_time": "2025-06-10T15:34:36.585Z"
   },
   {
    "duration": 8,
    "start_time": "2025-06-10T15:34:36.987Z"
   },
   {
    "duration": 246,
    "start_time": "2025-06-10T15:34:37.417Z"
   },
   {
    "duration": 108,
    "start_time": "2025-06-10T15:34:38.084Z"
   },
   {
    "duration": 26,
    "start_time": "2025-06-10T15:34:38.267Z"
   },
   {
    "duration": 5,
    "start_time": "2025-06-10T15:34:38.464Z"
   },
   {
    "duration": 79,
    "start_time": "2025-06-10T15:34:38.865Z"
   },
   {
    "duration": 119,
    "start_time": "2025-06-10T15:34:39.424Z"
   },
   {
    "duration": 9,
    "start_time": "2025-06-10T15:34:39.904Z"
   },
   {
    "duration": 13,
    "start_time": "2025-06-10T15:34:56.049Z"
   },
   {
    "duration": 19,
    "start_time": "2025-06-10T15:35:03.507Z"
   },
   {
    "duration": 16,
    "start_time": "2025-06-10T15:35:12.529Z"
   },
   {
    "duration": 441,
    "start_time": "2025-06-10T15:35:48.041Z"
   },
   {
    "duration": 100,
    "start_time": "2025-06-10T15:36:02.396Z"
   },
   {
    "duration": 14,
    "start_time": "2025-06-10T15:38:10.523Z"
   },
   {
    "duration": 16,
    "start_time": "2025-06-10T15:42:49.657Z"
   },
   {
    "duration": 8809,
    "start_time": "2025-06-10T15:43:30.651Z"
   },
   {
    "duration": 613,
    "start_time": "2025-06-10T15:43:39.463Z"
   },
   {
    "duration": 2720,
    "start_time": "2025-06-10T15:43:40.078Z"
   },
   {
    "duration": 25,
    "start_time": "2025-06-10T15:43:42.801Z"
   },
   {
    "duration": 140,
    "start_time": "2025-06-10T15:43:42.829Z"
   },
   {
    "duration": 49,
    "start_time": "2025-06-10T15:43:42.971Z"
   },
   {
    "duration": 49,
    "start_time": "2025-06-10T15:43:43.022Z"
   },
   {
    "duration": 31,
    "start_time": "2025-06-10T15:43:43.073Z"
   },
   {
    "duration": 6,
    "start_time": "2025-06-10T15:43:43.106Z"
   },
   {
    "duration": 10,
    "start_time": "2025-06-10T15:43:43.115Z"
   },
   {
    "duration": 7,
    "start_time": "2025-06-10T15:43:43.126Z"
   },
   {
    "duration": 40,
    "start_time": "2025-06-10T15:43:43.134Z"
   },
   {
    "duration": 124,
    "start_time": "2025-06-10T15:43:43.176Z"
   },
   {
    "duration": 6,
    "start_time": "2025-06-10T15:43:43.301Z"
   },
   {
    "duration": 136,
    "start_time": "2025-06-10T15:43:43.308Z"
   },
   {
    "duration": 159,
    "start_time": "2025-06-10T15:43:43.524Z"
   },
   {
    "duration": 4,
    "start_time": "2025-06-10T15:43:43.763Z"
   },
   {
    "duration": 17,
    "start_time": "2025-06-10T15:43:44.003Z"
   },
   {
    "duration": 21,
    "start_time": "2025-06-10T15:43:44.503Z"
   },
   {
    "duration": 23,
    "start_time": "2025-06-10T15:43:44.903Z"
   },
   {
    "duration": 19,
    "start_time": "2025-06-10T15:43:45.649Z"
   },
   {
    "duration": 166,
    "start_time": "2025-06-10T15:43:46.128Z"
   },
   {
    "duration": 82,
    "start_time": "2025-06-10T15:43:46.624Z"
   },
   {
    "duration": 43,
    "start_time": "2025-06-10T15:43:47.010Z"
   },
   {
    "duration": 21,
    "start_time": "2025-06-10T15:43:47.583Z"
   },
   {
    "duration": 209,
    "start_time": "2025-06-10T15:43:49.376Z"
   },
   {
    "duration": 115,
    "start_time": "2025-06-10T15:43:49.862Z"
   },
   {
    "duration": 44,
    "start_time": "2025-06-10T15:43:50.383Z"
   },
   {
    "duration": 26,
    "start_time": "2025-06-10T15:43:52.164Z"
   },
   {
    "duration": 58,
    "start_time": "2025-06-10T15:43:52.384Z"
   },
   {
    "duration": 13,
    "start_time": "2025-06-10T15:43:52.643Z"
   },
   {
    "duration": 315,
    "start_time": "2025-06-10T15:43:53.087Z"
   },
   {
    "duration": 10,
    "start_time": "2025-06-10T15:43:54.264Z"
   },
   {
    "duration": 10,
    "start_time": "2025-06-10T15:43:54.456Z"
   },
   {
    "duration": 82,
    "start_time": "2025-06-10T15:43:55.143Z"
   },
   {
    "duration": 21,
    "start_time": "2025-06-10T15:43:55.423Z"
   },
   {
    "duration": 14,
    "start_time": "2025-06-10T15:43:55.933Z"
   },
   {
    "duration": 159,
    "start_time": "2025-06-10T15:43:56.488Z"
   },
   {
    "duration": 123,
    "start_time": "2025-06-10T15:43:57.249Z"
   },
   {
    "duration": 22,
    "start_time": "2025-06-10T15:43:58.760Z"
   },
   {
    "duration": 11,
    "start_time": "2025-06-10T15:43:59.190Z"
   },
   {
    "duration": 10,
    "start_time": "2025-06-10T15:43:59.488Z"
   },
   {
    "duration": 177,
    "start_time": "2025-06-10T15:43:59.771Z"
   },
   {
    "duration": 9,
    "start_time": "2025-06-10T15:44:00.703Z"
   },
   {
    "duration": 5,
    "start_time": "2025-06-10T15:44:01.009Z"
   },
   {
    "duration": 612,
    "start_time": "2025-06-10T15:44:02.281Z"
   },
   {
    "duration": 14,
    "start_time": "2025-06-10T15:44:02.895Z"
   },
   {
    "duration": 200,
    "start_time": "2025-06-10T15:44:02.911Z"
   },
   {
    "duration": 59,
    "start_time": "2025-06-10T15:44:05.582Z"
   },
   {
    "duration": 42,
    "start_time": "2025-06-10T15:44:06.940Z"
   },
   {
    "duration": 86,
    "start_time": "2025-06-10T15:44:07.523Z"
   },
   {
    "duration": 30,
    "start_time": "2025-06-10T15:44:08.071Z"
   },
   {
    "duration": 28,
    "start_time": "2025-06-10T15:44:08.403Z"
   },
   {
    "duration": 10,
    "start_time": "2025-06-10T15:44:09.728Z"
   },
   {
    "duration": 64,
    "start_time": "2025-06-10T15:44:10.303Z"
   },
   {
    "duration": 57,
    "start_time": "2025-06-10T15:44:10.816Z"
   },
   {
    "duration": 8,
    "start_time": "2025-06-10T15:44:11.351Z"
   },
   {
    "duration": 252,
    "start_time": "2025-06-10T15:44:11.823Z"
   },
   {
    "duration": 109,
    "start_time": "2025-06-10T15:44:19.088Z"
   },
   {
    "duration": 26,
    "start_time": "2025-06-10T15:44:19.248Z"
   },
   {
    "duration": 4,
    "start_time": "2025-06-10T15:44:19.488Z"
   },
   {
    "duration": 83,
    "start_time": "2025-06-10T15:44:19.822Z"
   },
   {
    "duration": 427,
    "start_time": "2025-06-10T15:44:20.163Z"
   },
   {
    "duration": 108,
    "start_time": "2025-06-10T15:44:20.592Z"
   },
   {
    "duration": 123,
    "start_time": "2025-06-10T15:44:20.982Z"
   },
   {
    "duration": 69,
    "start_time": "2025-06-10T15:45:01.896Z"
   },
   {
    "duration": 81,
    "start_time": "2025-06-10T15:50:07.523Z"
   },
   {
    "duration": 92,
    "start_time": "2025-06-10T15:50:39.248Z"
   },
   {
    "duration": 114,
    "start_time": "2025-06-10T15:50:50.856Z"
   },
   {
    "duration": 81,
    "start_time": "2025-06-10T15:52:05.443Z"
   },
   {
    "duration": 16,
    "start_time": "2025-06-10T15:57:07.902Z"
   },
   {
    "duration": 26,
    "start_time": "2025-06-10T15:58:00.165Z"
   },
   {
    "duration": 16,
    "start_time": "2025-06-10T15:58:26.833Z"
   },
   {
    "duration": 51,
    "start_time": "2025-06-10T16:02:37.263Z"
   },
   {
    "duration": 10,
    "start_time": "2025-06-10T16:03:59.302Z"
   },
   {
    "duration": 14,
    "start_time": "2025-06-10T16:04:06.493Z"
   },
   {
    "duration": 19,
    "start_time": "2025-06-10T16:04:10.762Z"
   },
   {
    "duration": 89,
    "start_time": "2025-06-10T16:07:01.385Z"
   },
   {
    "duration": 100,
    "start_time": "2025-06-10T16:08:14.703Z"
   },
   {
    "duration": 95,
    "start_time": "2025-06-10T16:08:33.302Z"
   },
   {
    "duration": 61,
    "start_time": "2025-06-10T16:08:39.562Z"
   },
   {
    "duration": 49,
    "start_time": "2025-06-10T17:25:45.079Z"
   },
   {
    "duration": 19,
    "start_time": "2025-06-10T17:25:45.134Z"
   },
   {
    "duration": 15,
    "start_time": "2025-06-10T17:25:45.155Z"
   },
   {
    "duration": 170,
    "start_time": "2025-06-10T17:25:45.172Z"
   },
   {
    "duration": 9,
    "start_time": "2025-06-10T17:25:45.343Z"
   },
   {
    "duration": 36,
    "start_time": "2025-06-10T17:25:45.353Z"
   },
   {
    "duration": 709,
    "start_time": "2025-06-10T17:25:45.390Z"
   },
   {
    "duration": 14,
    "start_time": "2025-06-10T17:25:46.101Z"
   },
   {
    "duration": 178,
    "start_time": "2025-06-10T17:25:46.116Z"
   },
   {
    "duration": 55,
    "start_time": "2025-06-10T17:25:46.296Z"
   },
   {
    "duration": 58,
    "start_time": "2025-06-10T17:25:46.352Z"
   },
   {
    "duration": 136,
    "start_time": "2025-06-10T17:25:46.412Z"
   },
   {
    "duration": 39,
    "start_time": "2025-06-10T17:25:46.550Z"
   },
   {
    "duration": 46,
    "start_time": "2025-06-10T17:25:46.591Z"
   },
   {
    "duration": 11,
    "start_time": "2025-06-10T17:25:46.639Z"
   },
   {
    "duration": 138,
    "start_time": "2025-06-10T17:25:46.651Z"
   },
   {
    "duration": 94,
    "start_time": "2025-06-10T17:25:46.791Z"
   },
   {
    "duration": 12,
    "start_time": "2025-06-10T17:25:46.887Z"
   },
   {
    "duration": 323,
    "start_time": "2025-06-10T17:25:46.901Z"
   },
   {
    "duration": 116,
    "start_time": "2025-06-10T17:25:47.226Z"
   },
   {
    "duration": 46,
    "start_time": "2025-06-10T17:25:47.344Z"
   },
   {
    "duration": 100,
    "start_time": "2025-06-10T17:25:47.392Z"
   },
   {
    "duration": 82,
    "start_time": "2025-06-10T17:25:47.494Z"
   },
   {
    "duration": 399,
    "start_time": "2025-06-10T17:25:47.578Z"
   },
   {
    "duration": 106,
    "start_time": "2025-06-10T17:25:47.979Z"
   },
   {
    "duration": 96,
    "start_time": "2025-06-10T17:25:48.087Z"
   },
   {
    "duration": 8,
    "start_time": "2025-06-10T17:25:48.184Z"
   },
   {
    "duration": 52,
    "start_time": "2025-06-10T17:25:48.194Z"
   },
   {
    "duration": 32,
    "start_time": "2025-06-10T17:25:48.248Z"
   },
   {
    "duration": 162,
    "start_time": "2025-06-10T17:25:48.282Z"
   },
   {
    "duration": 0,
    "start_time": "2025-06-10T17:25:48.446Z"
   },
   {
    "duration": 0,
    "start_time": "2025-06-10T17:25:48.448Z"
   },
   {
    "duration": 0,
    "start_time": "2025-06-10T17:25:48.449Z"
   },
   {
    "duration": 0,
    "start_time": "2025-06-10T17:25:48.451Z"
   },
   {
    "duration": 0,
    "start_time": "2025-06-10T17:25:48.453Z"
   },
   {
    "duration": 0,
    "start_time": "2025-06-10T17:25:48.455Z"
   },
   {
    "duration": 0,
    "start_time": "2025-06-10T17:25:48.457Z"
   },
   {
    "duration": 0,
    "start_time": "2025-06-10T17:25:48.458Z"
   },
   {
    "duration": 0,
    "start_time": "2025-06-10T17:25:48.459Z"
   },
   {
    "duration": 0,
    "start_time": "2025-06-10T17:25:48.461Z"
   },
   {
    "duration": 0,
    "start_time": "2025-06-10T17:25:48.462Z"
   },
   {
    "duration": 0,
    "start_time": "2025-06-10T17:25:48.464Z"
   },
   {
    "duration": 0,
    "start_time": "2025-06-10T17:25:48.465Z"
   },
   {
    "duration": 0,
    "start_time": "2025-06-10T17:25:48.466Z"
   },
   {
    "duration": 0,
    "start_time": "2025-06-10T17:25:48.467Z"
   },
   {
    "duration": 0,
    "start_time": "2025-06-10T17:25:48.469Z"
   },
   {
    "duration": 0,
    "start_time": "2025-06-10T17:25:48.471Z"
   },
   {
    "duration": 0,
    "start_time": "2025-06-10T17:25:48.472Z"
   },
   {
    "duration": 1,
    "start_time": "2025-06-10T17:25:48.473Z"
   },
   {
    "duration": 0,
    "start_time": "2025-06-10T17:25:48.475Z"
   },
   {
    "duration": 0,
    "start_time": "2025-06-10T17:25:48.476Z"
   },
   {
    "duration": 0,
    "start_time": "2025-06-10T17:25:48.477Z"
   },
   {
    "duration": 0,
    "start_time": "2025-06-10T17:25:48.479Z"
   },
   {
    "duration": 0,
    "start_time": "2025-06-10T17:25:48.480Z"
   },
   {
    "duration": 0,
    "start_time": "2025-06-10T17:25:48.482Z"
   },
   {
    "duration": 0,
    "start_time": "2025-06-10T17:25:48.483Z"
   },
   {
    "duration": 0,
    "start_time": "2025-06-10T17:25:48.485Z"
   },
   {
    "duration": 0,
    "start_time": "2025-06-10T17:25:48.486Z"
   },
   {
    "duration": 0,
    "start_time": "2025-06-10T17:25:48.488Z"
   },
   {
    "duration": 0,
    "start_time": "2025-06-10T17:25:48.489Z"
   },
   {
    "duration": 0,
    "start_time": "2025-06-10T17:25:48.490Z"
   },
   {
    "duration": 0,
    "start_time": "2025-06-10T17:25:48.492Z"
   },
   {
    "duration": 0,
    "start_time": "2025-06-10T17:25:48.494Z"
   },
   {
    "duration": 0,
    "start_time": "2025-06-10T17:25:48.495Z"
   },
   {
    "duration": 0,
    "start_time": "2025-06-10T17:25:48.497Z"
   },
   {
    "duration": 0,
    "start_time": "2025-06-10T17:25:48.498Z"
   },
   {
    "duration": 0,
    "start_time": "2025-06-10T17:25:48.500Z"
   },
   {
    "duration": 0,
    "start_time": "2025-06-10T17:25:48.501Z"
   },
   {
    "duration": 0,
    "start_time": "2025-06-10T17:25:48.503Z"
   },
   {
    "duration": 0,
    "start_time": "2025-06-10T17:25:48.505Z"
   },
   {
    "duration": 0,
    "start_time": "2025-06-10T17:25:48.506Z"
   },
   {
    "duration": 0,
    "start_time": "2025-06-10T17:25:48.507Z"
   },
   {
    "duration": 0,
    "start_time": "2025-06-10T17:25:48.509Z"
   },
   {
    "duration": 0,
    "start_time": "2025-06-10T17:25:48.511Z"
   },
   {
    "duration": 0,
    "start_time": "2025-06-10T17:25:48.512Z"
   },
   {
    "duration": 0,
    "start_time": "2025-06-10T17:25:48.513Z"
   },
   {
    "duration": 0,
    "start_time": "2025-06-10T17:25:48.515Z"
   },
   {
    "duration": 0,
    "start_time": "2025-06-10T17:25:48.577Z"
   },
   {
    "duration": 250,
    "start_time": "2025-06-10T17:25:48.585Z"
   },
   {
    "duration": 52,
    "start_time": "2025-06-10T17:25:49.587Z"
   },
   {
    "duration": 39,
    "start_time": "2025-06-10T17:25:50.176Z"
   },
   {
    "duration": 62,
    "start_time": "2025-06-10T17:25:50.948Z"
   },
   {
    "duration": 27,
    "start_time": "2025-06-10T17:25:51.296Z"
   },
   {
    "duration": 26,
    "start_time": "2025-06-10T17:25:51.630Z"
   },
   {
    "duration": 10,
    "start_time": "2025-06-10T17:25:52.059Z"
   },
   {
    "duration": 61,
    "start_time": "2025-06-10T17:25:52.594Z"
   },
   {
    "duration": 51,
    "start_time": "2025-06-10T17:25:52.994Z"
   },
   {
    "duration": 10,
    "start_time": "2025-06-10T17:25:53.420Z"
   },
   {
    "duration": 238,
    "start_time": "2025-06-10T17:25:53.876Z"
   },
   {
    "duration": 104,
    "start_time": "2025-06-10T17:25:54.707Z"
   },
   {
    "duration": 25,
    "start_time": "2025-06-10T17:25:54.955Z"
   },
   {
    "duration": 4,
    "start_time": "2025-06-10T17:25:55.159Z"
   },
   {
    "duration": 81,
    "start_time": "2025-06-10T17:25:55.624Z"
   },
   {
    "duration": 345,
    "start_time": "2025-06-10T17:25:56.062Z"
   },
   {
    "duration": 107,
    "start_time": "2025-06-10T17:25:56.410Z"
   },
   {
    "duration": 77,
    "start_time": "2025-06-10T17:25:57.707Z"
   },
   {
    "duration": 9,
    "start_time": "2025-06-10T17:25:58.472Z"
   },
   {
    "duration": 52,
    "start_time": "2025-06-10T17:25:59.617Z"
   },
   {
    "duration": 26,
    "start_time": "2025-06-10T17:26:00.757Z"
   },
   {
    "duration": 239,
    "start_time": "2025-06-10T17:26:01.427Z"
   },
   {
    "duration": 81,
    "start_time": "2025-06-10T17:26:01.987Z"
   },
   {
    "duration": 179,
    "start_time": "2025-06-10T17:34:46.956Z"
   },
   {
    "duration": 342,
    "start_time": "2025-06-10T17:35:08.498Z"
   },
   {
    "duration": 45,
    "start_time": "2025-06-10T17:36:05.710Z"
   },
   {
    "duration": 21,
    "start_time": "2025-06-10T17:36:57.323Z"
   },
   {
    "duration": 71,
    "start_time": "2025-06-10T17:37:41.456Z"
   },
   {
    "duration": 58,
    "start_time": "2025-06-10T17:38:04.497Z"
   },
   {
    "duration": 18,
    "start_time": "2025-06-10T17:38:18.548Z"
   },
   {
    "duration": 22,
    "start_time": "2025-06-10T17:38:35.534Z"
   },
   {
    "duration": 32,
    "start_time": "2025-06-10T17:42:31.535Z"
   },
   {
    "duration": 76,
    "start_time": "2025-06-10T17:43:23.989Z"
   },
   {
    "duration": 31,
    "start_time": "2025-06-10T17:43:28.309Z"
   },
   {
    "duration": 32,
    "start_time": "2025-06-10T17:43:56.764Z"
   },
   {
    "duration": 30,
    "start_time": "2025-06-10T17:44:00.551Z"
   },
   {
    "duration": 29,
    "start_time": "2025-06-10T17:44:08.964Z"
   },
   {
    "duration": 172,
    "start_time": "2025-06-10T17:46:22.276Z"
   },
   {
    "duration": 8562,
    "start_time": "2025-06-10T17:54:34.110Z"
   },
   {
    "duration": 632,
    "start_time": "2025-06-10T17:54:42.676Z"
   },
   {
    "duration": 7954,
    "start_time": "2025-06-10T17:58:31.643Z"
   },
   {
    "duration": 4,
    "start_time": "2025-06-10T17:58:39.600Z"
   },
   {
    "duration": 2053,
    "start_time": "2025-06-10T17:58:39.605Z"
   },
   {
    "duration": 24,
    "start_time": "2025-06-10T17:58:41.660Z"
   },
   {
    "duration": 224,
    "start_time": "2025-06-10T17:58:41.685Z"
   },
   {
    "duration": 48,
    "start_time": "2025-06-10T17:58:42.595Z"
   },
   {
    "duration": 28,
    "start_time": "2025-06-10T17:58:45.838Z"
   },
   {
    "duration": 32,
    "start_time": "2025-06-10T17:58:46.324Z"
   },
   {
    "duration": 8,
    "start_time": "2025-06-10T17:58:47.324Z"
   },
   {
    "duration": 12,
    "start_time": "2025-06-10T17:58:47.413Z"
   },
   {
    "duration": 9,
    "start_time": "2025-06-10T17:58:47.584Z"
   },
   {
    "duration": 5,
    "start_time": "2025-06-10T17:58:48.056Z"
   },
   {
    "duration": 53,
    "start_time": "2025-06-10T17:58:48.324Z"
   },
   {
    "duration": 5,
    "start_time": "2025-06-10T17:58:48.483Z"
   },
   {
    "duration": 73,
    "start_time": "2025-06-10T17:58:48.796Z"
   },
   {
    "duration": 161,
    "start_time": "2025-06-10T17:58:49.123Z"
   },
   {
    "duration": 7,
    "start_time": "2025-06-10T17:58:49.286Z"
   },
   {
    "duration": 17,
    "start_time": "2025-06-10T17:58:49.476Z"
   },
   {
    "duration": 24,
    "start_time": "2025-06-10T17:58:49.774Z"
   },
   {
    "duration": 22,
    "start_time": "2025-06-10T17:58:50.236Z"
   },
   {
    "duration": 18,
    "start_time": "2025-06-10T17:58:50.856Z"
   },
   {
    "duration": 151,
    "start_time": "2025-06-10T17:58:51.360Z"
   },
   {
    "duration": 75,
    "start_time": "2025-06-10T17:58:51.716Z"
   },
   {
    "duration": 59,
    "start_time": "2025-06-10T17:58:52.116Z"
   },
   {
    "duration": 26,
    "start_time": "2025-06-10T17:58:52.450Z"
   },
   {
    "duration": 226,
    "start_time": "2025-06-10T17:58:52.796Z"
   },
   {
    "duration": 121,
    "start_time": "2025-06-10T17:58:53.296Z"
   },
   {
    "duration": 57,
    "start_time": "2025-06-10T17:58:53.636Z"
   },
   {
    "duration": 26,
    "start_time": "2025-06-10T17:58:55.029Z"
   },
   {
    "duration": 50,
    "start_time": "2025-06-10T17:58:55.192Z"
   },
   {
    "duration": 12,
    "start_time": "2025-06-10T17:58:55.360Z"
   },
   {
    "duration": 370,
    "start_time": "2025-06-10T17:58:55.785Z"
   },
   {
    "duration": 9,
    "start_time": "2025-06-10T17:58:56.637Z"
   },
   {
    "duration": 9,
    "start_time": "2025-06-10T17:58:56.844Z"
   },
   {
    "duration": 74,
    "start_time": "2025-06-10T17:58:57.296Z"
   },
   {
    "duration": 19,
    "start_time": "2025-06-10T17:58:57.460Z"
   },
   {
    "duration": 14,
    "start_time": "2025-06-10T17:58:57.856Z"
   },
   {
    "duration": 160,
    "start_time": "2025-06-10T17:58:58.416Z"
   },
   {
    "duration": 118,
    "start_time": "2025-06-10T17:58:59.004Z"
   },
   {
    "duration": 22,
    "start_time": "2025-06-10T17:58:59.784Z"
   },
   {
    "duration": 14,
    "start_time": "2025-06-10T17:58:59.934Z"
   },
   {
    "duration": 10,
    "start_time": "2025-06-10T17:59:00.144Z"
   },
   {
    "duration": 221,
    "start_time": "2025-06-10T17:59:00.274Z"
   },
   {
    "duration": 10,
    "start_time": "2025-06-10T17:59:00.856Z"
   },
   {
    "duration": 7,
    "start_time": "2025-06-10T17:59:01.009Z"
   },
   {
    "duration": 640,
    "start_time": "2025-06-10T17:59:01.724Z"
   },
   {
    "duration": 14,
    "start_time": "2025-06-10T17:59:02.376Z"
   },
   {
    "duration": 175,
    "start_time": "2025-06-10T17:59:02.391Z"
   },
   {
    "duration": 58,
    "start_time": "2025-06-10T17:59:03.224Z"
   },
   {
    "duration": 39,
    "start_time": "2025-06-10T17:59:03.709Z"
   },
   {
    "duration": 57,
    "start_time": "2025-06-10T17:59:04.304Z"
   },
   {
    "duration": 28,
    "start_time": "2025-06-10T17:59:04.579Z"
   },
   {
    "duration": 34,
    "start_time": "2025-06-10T17:59:05.095Z"
   },
   {
    "duration": 11,
    "start_time": "2025-06-10T17:59:05.517Z"
   },
   {
    "duration": 62,
    "start_time": "2025-06-10T17:59:06.096Z"
   },
   {
    "duration": 53,
    "start_time": "2025-06-10T17:59:06.756Z"
   },
   {
    "duration": 8,
    "start_time": "2025-06-10T17:59:07.116Z"
   },
   {
    "duration": 245,
    "start_time": "2025-06-10T17:59:07.464Z"
   },
   {
    "duration": 114,
    "start_time": "2025-06-10T17:59:08.174Z"
   },
   {
    "duration": 25,
    "start_time": "2025-06-10T17:59:08.373Z"
   },
   {
    "duration": 5,
    "start_time": "2025-06-10T17:59:08.583Z"
   },
   {
    "duration": 86,
    "start_time": "2025-06-10T17:59:08.944Z"
   },
   {
    "duration": 431,
    "start_time": "2025-06-10T17:59:09.316Z"
   },
   {
    "duration": 114,
    "start_time": "2025-06-10T17:59:09.749Z"
   },
   {
    "duration": 363,
    "start_time": "2025-06-10T17:59:09.916Z"
   },
   {
    "duration": 44,
    "start_time": "2025-06-10T17:59:10.317Z"
   },
   {
    "duration": 58,
    "start_time": "2025-06-10T17:59:11.157Z"
   },
   {
    "duration": 18,
    "start_time": "2025-06-10T17:59:11.339Z"
   },
   {
    "duration": 8,
    "start_time": "2025-06-10T17:59:11.576Z"
   },
   {
    "duration": 67,
    "start_time": "2025-06-10T17:59:12.016Z"
   },
   {
    "duration": 28,
    "start_time": "2025-06-10T17:59:12.200Z"
   },
   {
    "duration": 200,
    "start_time": "2025-06-10T17:59:12.389Z"
   },
   {
    "duration": 19,
    "start_time": "2025-06-10T18:04:12.467Z"
   },
   {
    "duration": 1361,
    "start_time": "2025-06-10T18:04:25.845Z"
   },
   {
    "duration": 893,
    "start_time": "2025-06-10T18:09:41.248Z"
   },
   {
    "duration": 946,
    "start_time": "2025-06-10T18:10:20.533Z"
   },
   {
    "duration": 12,
    "start_time": "2025-06-10T18:10:35.196Z"
   },
   {
    "duration": 1169,
    "start_time": "2025-06-10T18:13:04.904Z"
   },
   {
    "duration": 10,
    "start_time": "2025-06-10T18:14:24.536Z"
   },
   {
    "duration": 11,
    "start_time": "2025-06-10T18:14:48.346Z"
   },
   {
    "duration": 8311,
    "start_time": "2025-06-10T18:15:33.985Z"
   },
   {
    "duration": 573,
    "start_time": "2025-06-10T18:15:42.298Z"
   },
   {
    "duration": 166,
    "start_time": "2025-06-10T18:15:45.121Z"
   },
   {
    "duration": 50,
    "start_time": "2025-06-10T18:15:45.288Z"
   },
   {
    "duration": 47,
    "start_time": "2025-06-10T18:15:45.340Z"
   },
   {
    "duration": 31,
    "start_time": "2025-06-10T18:15:45.389Z"
   },
   {
    "duration": 54,
    "start_time": "2025-06-10T18:15:45.422Z"
   },
   {
    "duration": 21,
    "start_time": "2025-06-10T18:15:45.478Z"
   },
   {
    "duration": 23,
    "start_time": "2025-06-10T18:15:45.500Z"
   },
   {
    "duration": 9,
    "start_time": "2025-06-10T18:15:45.525Z"
   },
   {
    "duration": 61,
    "start_time": "2025-06-10T18:15:45.536Z"
   },
   {
    "duration": 5,
    "start_time": "2025-06-10T18:15:45.600Z"
   },
   {
    "duration": 76,
    "start_time": "2025-06-10T18:15:45.606Z"
   },
   {
    "duration": 229,
    "start_time": "2025-06-10T18:15:45.684Z"
   },
   {
    "duration": 7,
    "start_time": "2025-06-10T18:15:45.915Z"
   },
   {
    "duration": 34,
    "start_time": "2025-06-10T18:15:45.924Z"
   },
   {
    "duration": 26,
    "start_time": "2025-06-10T18:15:45.959Z"
   },
   {
    "duration": 33,
    "start_time": "2025-06-10T18:15:45.986Z"
   },
   {
    "duration": 18,
    "start_time": "2025-06-10T18:15:46.021Z"
   },
   {
    "duration": 176,
    "start_time": "2025-06-10T18:15:46.041Z"
   },
   {
    "duration": 89,
    "start_time": "2025-06-10T18:15:46.220Z"
   },
   {
    "duration": 72,
    "start_time": "2025-06-10T18:15:46.311Z"
   },
   {
    "duration": 17,
    "start_time": "2025-06-10T18:15:46.385Z"
   },
   {
    "duration": 237,
    "start_time": "2025-06-10T18:15:46.404Z"
   },
   {
    "duration": 119,
    "start_time": "2025-06-10T18:15:46.643Z"
   },
   {
    "duration": 52,
    "start_time": "2025-06-10T18:15:46.763Z"
   },
   {
    "duration": 24,
    "start_time": "2025-06-10T18:15:46.817Z"
   },
   {
    "duration": 97,
    "start_time": "2025-06-10T18:15:46.843Z"
   },
   {
    "duration": 12,
    "start_time": "2025-06-10T18:15:46.943Z"
   },
   {
    "duration": 314,
    "start_time": "2025-06-10T18:15:46.956Z"
   },
   {
    "duration": 10,
    "start_time": "2025-06-10T18:15:47.271Z"
   },
   {
    "duration": 20,
    "start_time": "2025-06-10T18:15:47.282Z"
   },
   {
    "duration": 89,
    "start_time": "2025-06-10T18:15:47.304Z"
   },
   {
    "duration": 19,
    "start_time": "2025-06-10T18:15:47.395Z"
   },
   {
    "duration": 102,
    "start_time": "2025-06-10T18:15:47.416Z"
   },
   {
    "duration": 159,
    "start_time": "2025-06-10T18:15:47.519Z"
   },
   {
    "duration": 127,
    "start_time": "2025-06-10T18:15:47.680Z"
   },
   {
    "duration": 21,
    "start_time": "2025-06-10T18:15:47.809Z"
   },
   {
    "duration": 43,
    "start_time": "2025-06-10T18:15:47.834Z"
   },
   {
    "duration": 9,
    "start_time": "2025-06-10T18:15:47.878Z"
   },
   {
    "duration": 182,
    "start_time": "2025-06-10T18:15:47.888Z"
   },
   {
    "duration": 9,
    "start_time": "2025-06-10T18:15:48.076Z"
   },
   {
    "duration": 13,
    "start_time": "2025-06-10T18:15:48.086Z"
   },
   {
    "duration": 609,
    "start_time": "2025-06-10T18:15:48.101Z"
   },
   {
    "duration": 14,
    "start_time": "2025-06-10T18:15:48.712Z"
   },
   {
    "duration": 187,
    "start_time": "2025-06-10T18:15:48.728Z"
   },
   {
    "duration": 72,
    "start_time": "2025-06-10T18:15:48.917Z"
   },
   {
    "duration": 38,
    "start_time": "2025-06-10T18:15:48.991Z"
   },
   {
    "duration": 303,
    "start_time": "2025-06-10T18:15:49.031Z"
   },
   {
    "duration": 32,
    "start_time": "2025-06-10T18:15:49.336Z"
   },
   {
    "duration": 27,
    "start_time": "2025-06-10T18:15:49.370Z"
   },
   {
    "duration": 9,
    "start_time": "2025-06-10T18:15:49.399Z"
   },
   {
    "duration": 129,
    "start_time": "2025-06-10T18:15:49.410Z"
   },
   {
    "duration": 58,
    "start_time": "2025-06-10T18:15:49.540Z"
   },
   {
    "duration": 16,
    "start_time": "2025-06-10T18:15:49.599Z"
   },
   {
    "duration": 244,
    "start_time": "2025-06-10T18:15:49.616Z"
   },
   {
    "duration": 125,
    "start_time": "2025-06-10T18:15:49.862Z"
   },
   {
    "duration": 25,
    "start_time": "2025-06-10T18:15:49.989Z"
   },
   {
    "duration": 19,
    "start_time": "2025-06-10T18:15:50.016Z"
   },
   {
    "duration": 91,
    "start_time": "2025-06-10T18:15:50.037Z"
   },
   {
    "duration": 409,
    "start_time": "2025-06-10T18:15:50.129Z"
   },
   {
    "duration": 107,
    "start_time": "2025-06-10T18:15:50.539Z"
   },
   {
    "duration": 373,
    "start_time": "2025-06-10T18:15:50.647Z"
   },
   {
    "duration": 55,
    "start_time": "2025-06-10T18:15:51.022Z"
   },
   {
    "duration": 5,
    "start_time": "2025-06-10T18:15:51.078Z"
   },
   {
    "duration": 86,
    "start_time": "2025-06-10T18:15:51.085Z"
   },
   {
    "duration": 18,
    "start_time": "2025-06-10T18:15:51.173Z"
   },
   {
    "duration": 26,
    "start_time": "2025-06-10T18:15:51.192Z"
   },
   {
    "duration": 71,
    "start_time": "2025-06-10T18:15:51.220Z"
   },
   {
    "duration": 51,
    "start_time": "2025-06-10T18:15:51.293Z"
   },
   {
    "duration": 32,
    "start_time": "2025-06-10T18:15:51.346Z"
   },
   {
    "duration": 134,
    "start_time": "2025-06-10T18:15:51.380Z"
   },
   {
    "duration": 7683,
    "start_time": "2025-06-10T18:15:51.516Z"
   },
   {
    "duration": 4,
    "start_time": "2025-06-10T18:15:59.201Z"
   },
   {
    "duration": 3024,
    "start_time": "2025-06-10T18:15:59.207Z"
   },
   {
    "duration": 19,
    "start_time": "2025-06-10T18:16:02.233Z"
   },
   {
    "duration": 262,
    "start_time": "2025-06-10T18:16:02.253Z"
   },
   {
    "duration": 46,
    "start_time": "2025-06-10T18:16:02.516Z"
   },
   {
    "duration": 35,
    "start_time": "2025-06-10T18:16:02.564Z"
   },
   {
    "duration": 43,
    "start_time": "2025-06-10T18:16:02.601Z"
   },
   {
    "duration": 38,
    "start_time": "2025-06-10T18:16:02.650Z"
   },
   {
    "duration": 33,
    "start_time": "2025-06-10T18:16:02.689Z"
   },
   {
    "duration": 60,
    "start_time": "2025-06-10T18:16:02.723Z"
   },
   {
    "duration": 104,
    "start_time": "2025-06-10T18:16:02.784Z"
   },
   {
    "duration": 45,
    "start_time": "2025-06-10T18:16:02.889Z"
   },
   {
    "duration": 29,
    "start_time": "2025-06-10T18:16:02.936Z"
   },
   {
    "duration": 66,
    "start_time": "2025-06-10T18:16:02.967Z"
   },
   {
    "duration": 132,
    "start_time": "2025-06-10T18:16:03.034Z"
   },
   {
    "duration": 9,
    "start_time": "2025-06-10T18:16:03.168Z"
   },
   {
    "duration": 40,
    "start_time": "2025-06-10T18:16:03.179Z"
   },
   {
    "duration": 19,
    "start_time": "2025-06-10T18:16:03.220Z"
   },
   {
    "duration": 62,
    "start_time": "2025-06-10T18:16:03.240Z"
   },
   {
    "duration": 43,
    "start_time": "2025-06-10T18:16:03.304Z"
   },
   {
    "duration": 158,
    "start_time": "2025-06-10T18:16:03.349Z"
   },
   {
    "duration": 86,
    "start_time": "2025-06-10T18:16:03.508Z"
   },
   {
    "duration": 35,
    "start_time": "2025-06-10T18:16:03.595Z"
   },
   {
    "duration": 15,
    "start_time": "2025-06-10T18:16:03.632Z"
   },
   {
    "duration": 218,
    "start_time": "2025-06-10T18:16:03.648Z"
   },
   {
    "duration": 119,
    "start_time": "2025-06-10T18:16:03.877Z"
   },
   {
    "duration": 43,
    "start_time": "2025-06-10T18:16:03.999Z"
   },
   {
    "duration": 50,
    "start_time": "2025-06-10T18:16:04.044Z"
   },
   {
    "duration": 55,
    "start_time": "2025-06-10T18:16:04.096Z"
   },
   {
    "duration": 25,
    "start_time": "2025-06-10T18:16:04.153Z"
   },
   {
    "duration": 282,
    "start_time": "2025-06-10T18:16:04.180Z"
   },
   {
    "duration": 18,
    "start_time": "2025-06-10T18:16:04.464Z"
   },
   {
    "duration": 39,
    "start_time": "2025-06-10T18:16:04.484Z"
   },
   {
    "duration": 75,
    "start_time": "2025-06-10T18:16:06.935Z"
   },
   {
    "duration": 19,
    "start_time": "2025-06-10T18:16:07.089Z"
   },
   {
    "duration": 14,
    "start_time": "2025-06-10T18:16:07.436Z"
   },
   {
    "duration": 153,
    "start_time": "2025-06-10T18:16:07.754Z"
   },
   {
    "duration": 133,
    "start_time": "2025-06-10T18:16:08.744Z"
   },
   {
    "duration": 23,
    "start_time": "2025-06-10T18:16:09.827Z"
   },
   {
    "duration": 10,
    "start_time": "2025-06-10T18:16:10.139Z"
   },
   {
    "duration": 9,
    "start_time": "2025-06-10T18:16:10.339Z"
   },
   {
    "duration": 162,
    "start_time": "2025-06-10T18:16:10.516Z"
   },
   {
    "duration": 8,
    "start_time": "2025-06-10T18:16:11.299Z"
   },
   {
    "duration": 6,
    "start_time": "2025-06-10T18:16:11.516Z"
   },
   {
    "duration": 478,
    "start_time": "2025-06-10T18:16:12.309Z"
   },
   {
    "duration": 13,
    "start_time": "2025-06-10T18:16:13.336Z"
   },
   {
    "duration": 161,
    "start_time": "2025-06-10T18:16:13.604Z"
   },
   {
    "duration": 60,
    "start_time": "2025-06-10T18:16:14.737Z"
   },
   {
    "duration": 39,
    "start_time": "2025-06-10T18:16:15.324Z"
   },
   {
    "duration": 76,
    "start_time": "2025-06-10T18:16:15.825Z"
   },
   {
    "duration": 28,
    "start_time": "2025-06-10T18:16:16.265Z"
   },
   {
    "duration": 28,
    "start_time": "2025-06-10T18:16:16.639Z"
   },
   {
    "duration": 10,
    "start_time": "2025-06-10T18:16:17.336Z"
   },
   {
    "duration": 62,
    "start_time": "2025-06-10T18:16:18.025Z"
   },
   {
    "duration": 50,
    "start_time": "2025-06-10T18:16:18.399Z"
   },
   {
    "duration": 7,
    "start_time": "2025-06-10T18:16:18.876Z"
   },
   {
    "duration": 235,
    "start_time": "2025-06-10T18:16:19.504Z"
   },
   {
    "duration": 104,
    "start_time": "2025-06-10T18:16:20.296Z"
   },
   {
    "duration": 24,
    "start_time": "2025-06-10T18:16:20.509Z"
   },
   {
    "duration": 4,
    "start_time": "2025-06-10T18:16:21.176Z"
   },
   {
    "duration": 73,
    "start_time": "2025-06-10T18:16:21.816Z"
   },
   {
    "duration": 390,
    "start_time": "2025-06-10T18:16:24.459Z"
   },
   {
    "duration": 97,
    "start_time": "2025-06-10T18:16:24.896Z"
   },
   {
    "duration": 353,
    "start_time": "2025-06-10T18:16:25.374Z"
   },
   {
    "duration": 46,
    "start_time": "2025-06-10T18:16:26.096Z"
   },
   {
    "duration": 4,
    "start_time": "2025-06-10T18:16:26.756Z"
   },
   {
    "duration": 63,
    "start_time": "2025-06-10T18:16:31.178Z"
   },
   {
    "duration": 19,
    "start_time": "2025-06-10T18:16:34.136Z"
   },
   {
    "duration": 9,
    "start_time": "2025-06-10T18:16:34.259Z"
   },
   {
    "duration": 44,
    "start_time": "2025-06-10T18:16:34.876Z"
   },
   {
    "duration": 19,
    "start_time": "2025-06-10T18:16:35.377Z"
   },
   {
    "duration": 5,
    "start_time": "2025-06-10T18:16:37.675Z"
   },
   {
    "duration": 157,
    "start_time": "2025-06-10T18:16:38.416Z"
   },
   {
    "duration": 64,
    "start_time": "2025-06-10T18:16:57.197Z"
   },
   {
    "duration": 24,
    "start_time": "2025-06-10T18:18:35.328Z"
   },
   {
    "duration": 341,
    "start_time": "2025-06-10T18:20:45.436Z"
   },
   {
    "duration": 94,
    "start_time": "2025-06-10T18:20:46.059Z"
   },
   {
    "duration": 330,
    "start_time": "2025-06-10T18:21:01.445Z"
   },
   {
    "duration": 96,
    "start_time": "2025-06-10T18:21:02.084Z"
   },
   {
    "duration": 8297,
    "start_time": "2025-06-10T18:22:01.765Z"
   },
   {
    "duration": 561,
    "start_time": "2025-06-10T18:22:10.065Z"
   },
   {
    "duration": 46,
    "start_time": "2025-06-10T18:22:12.698Z"
   },
   {
    "duration": 44,
    "start_time": "2025-06-10T18:22:12.745Z"
   },
   {
    "duration": 28,
    "start_time": "2025-06-10T18:22:12.791Z"
   },
   {
    "duration": 6,
    "start_time": "2025-06-10T18:22:12.821Z"
   },
   {
    "duration": 76,
    "start_time": "2025-06-10T18:22:12.829Z"
   },
   {
    "duration": 19,
    "start_time": "2025-06-10T18:22:12.907Z"
   },
   {
    "duration": 11,
    "start_time": "2025-06-10T18:22:12.928Z"
   },
   {
    "duration": 62,
    "start_time": "2025-06-10T18:22:12.941Z"
   },
   {
    "duration": 5,
    "start_time": "2025-06-10T18:22:13.007Z"
   },
   {
    "duration": 87,
    "start_time": "2025-06-10T18:22:13.014Z"
   },
   {
    "duration": 160,
    "start_time": "2025-06-10T18:22:13.102Z"
   },
   {
    "duration": 14,
    "start_time": "2025-06-10T18:22:13.263Z"
   },
   {
    "duration": 15,
    "start_time": "2025-06-10T18:22:13.279Z"
   },
   {
    "duration": 19,
    "start_time": "2025-06-10T18:22:13.296Z"
   },
   {
    "duration": 20,
    "start_time": "2025-06-10T18:22:13.316Z"
   },
   {
    "duration": 48,
    "start_time": "2025-06-10T18:22:13.337Z"
   },
   {
    "duration": 162,
    "start_time": "2025-06-10T18:22:13.386Z"
   },
   {
    "duration": 78,
    "start_time": "2025-06-10T18:22:13.550Z"
   },
   {
    "duration": 51,
    "start_time": "2025-06-10T18:22:13.630Z"
   },
   {
    "duration": 16,
    "start_time": "2025-06-10T18:22:13.683Z"
   },
   {
    "duration": 303,
    "start_time": "2025-06-10T18:22:13.700Z"
   },
   {
    "duration": 109,
    "start_time": "2025-06-10T18:22:14.005Z"
   },
   {
    "duration": 41,
    "start_time": "2025-06-10T18:22:14.116Z"
   },
   {
    "duration": 24,
    "start_time": "2025-06-10T18:22:14.177Z"
   },
   {
    "duration": 49,
    "start_time": "2025-06-10T18:22:14.202Z"
   },
   {
    "duration": 33,
    "start_time": "2025-06-10T18:22:14.252Z"
   },
   {
    "duration": 354,
    "start_time": "2025-06-10T18:22:14.287Z"
   },
   {
    "duration": 10,
    "start_time": "2025-06-10T18:22:14.642Z"
   },
   {
    "duration": 29,
    "start_time": "2025-06-10T18:22:14.654Z"
   },
   {
    "duration": 81,
    "start_time": "2025-06-10T18:22:14.684Z"
   },
   {
    "duration": 23,
    "start_time": "2025-06-10T18:22:14.767Z"
   },
   {
    "duration": 12,
    "start_time": "2025-06-10T18:22:14.792Z"
   },
   {
    "duration": 170,
    "start_time": "2025-06-10T18:22:14.806Z"
   },
   {
    "duration": 123,
    "start_time": "2025-06-10T18:22:14.978Z"
   },
   {
    "duration": 20,
    "start_time": "2025-06-10T18:22:15.102Z"
   },
   {
    "duration": 26,
    "start_time": "2025-06-10T18:22:15.126Z"
   },
   {
    "duration": 39,
    "start_time": "2025-06-10T18:22:15.154Z"
   },
   {
    "duration": 305,
    "start_time": "2025-06-10T18:22:15.195Z"
   },
   {
    "duration": 9,
    "start_time": "2025-06-10T18:22:15.501Z"
   },
   {
    "duration": 6,
    "start_time": "2025-06-10T18:22:15.512Z"
   },
   {
    "duration": 610,
    "start_time": "2025-06-10T18:22:15.520Z"
   },
   {
    "duration": 15,
    "start_time": "2025-06-10T18:22:16.132Z"
   },
   {
    "duration": 172,
    "start_time": "2025-06-10T18:22:16.148Z"
   },
   {
    "duration": 67,
    "start_time": "2025-06-10T18:22:16.322Z"
   },
   {
    "duration": 50,
    "start_time": "2025-06-10T18:22:16.391Z"
   },
   {
    "duration": 61,
    "start_time": "2025-06-10T18:22:16.443Z"
   },
   {
    "duration": 43,
    "start_time": "2025-06-10T18:22:16.506Z"
   },
   {
    "duration": 42,
    "start_time": "2025-06-10T18:22:16.551Z"
   },
   {
    "duration": 10,
    "start_time": "2025-06-10T18:22:16.595Z"
   },
   {
    "duration": 91,
    "start_time": "2025-06-10T18:22:16.607Z"
   },
   {
    "duration": 52,
    "start_time": "2025-06-10T18:22:16.700Z"
   },
   {
    "duration": 28,
    "start_time": "2025-06-10T18:22:16.754Z"
   },
   {
    "duration": 253,
    "start_time": "2025-06-10T18:22:16.784Z"
   },
   {
    "duration": 121,
    "start_time": "2025-06-10T18:22:17.038Z"
   },
   {
    "duration": 30,
    "start_time": "2025-06-10T18:22:17.160Z"
   },
   {
    "duration": 48,
    "start_time": "2025-06-10T18:22:17.192Z"
   },
   {
    "duration": 114,
    "start_time": "2025-06-10T18:22:17.242Z"
   },
   {
    "duration": 381,
    "start_time": "2025-06-10T18:22:17.358Z"
   },
   {
    "duration": 102,
    "start_time": "2025-06-10T18:22:17.741Z"
   },
   {
    "duration": 382,
    "start_time": "2025-06-10T18:22:17.845Z"
   },
   {
    "duration": 50,
    "start_time": "2025-06-10T18:22:18.229Z"
   },
   {
    "duration": 142,
    "start_time": "2025-06-10T18:22:18.281Z"
   },
   {
    "duration": 19,
    "start_time": "2025-06-10T18:22:18.425Z"
   },
   {
    "duration": 9,
    "start_time": "2025-06-10T18:22:18.446Z"
   },
   {
    "duration": 65,
    "start_time": "2025-06-10T18:22:18.457Z"
   },
   {
    "duration": 20,
    "start_time": "2025-06-10T18:22:18.524Z"
   },
   {
    "duration": 5,
    "start_time": "2025-06-10T18:22:18.546Z"
   },
   {
    "duration": 88,
    "start_time": "2025-06-10T18:22:18.553Z"
   },
   {
    "duration": 39,
    "start_time": "2025-06-10T18:22:18.643Z"
   },
   {
    "duration": 7731,
    "start_time": "2025-06-10T18:22:18.684Z"
   },
   {
    "duration": 4,
    "start_time": "2025-06-10T18:22:26.417Z"
   },
   {
    "duration": 1755,
    "start_time": "2025-06-10T18:22:26.423Z"
   },
   {
    "duration": 21,
    "start_time": "2025-06-10T18:22:28.180Z"
   },
   {
    "duration": 144,
    "start_time": "2025-06-10T18:22:28.203Z"
   },
   {
    "duration": 62,
    "start_time": "2025-06-10T18:22:28.349Z"
   },
   {
    "duration": 26,
    "start_time": "2025-06-10T18:22:28.413Z"
   },
   {
    "duration": 53,
    "start_time": "2025-06-10T18:22:28.441Z"
   },
   {
    "duration": 8,
    "start_time": "2025-06-10T18:22:28.500Z"
   },
   {
    "duration": 10,
    "start_time": "2025-06-10T18:22:28.509Z"
   },
   {
    "duration": 10,
    "start_time": "2025-06-10T18:22:28.520Z"
   },
   {
    "duration": 8,
    "start_time": "2025-06-10T18:22:28.532Z"
   },
   {
    "duration": 24,
    "start_time": "2025-06-10T18:22:28.577Z"
   },
   {
    "duration": 5,
    "start_time": "2025-06-10T18:22:28.603Z"
   },
   {
    "duration": 93,
    "start_time": "2025-06-10T18:22:28.609Z"
   },
   {
    "duration": 154,
    "start_time": "2025-06-10T18:22:28.704Z"
   },
   {
    "duration": 5,
    "start_time": "2025-06-10T18:22:28.860Z"
   },
   {
    "duration": 55,
    "start_time": "2025-06-10T18:22:28.875Z"
   },
   {
    "duration": 22,
    "start_time": "2025-06-10T18:22:28.932Z"
   },
   {
    "duration": 22,
    "start_time": "2025-06-10T18:22:28.956Z"
   },
   {
    "duration": 18,
    "start_time": "2025-06-10T18:22:28.979Z"
   },
   {
    "duration": 170,
    "start_time": "2025-06-10T18:22:28.999Z"
   },
   {
    "duration": 82,
    "start_time": "2025-06-10T18:22:29.170Z"
   },
   {
    "duration": 52,
    "start_time": "2025-06-10T18:22:29.254Z"
   },
   {
    "duration": 19,
    "start_time": "2025-06-10T18:22:29.308Z"
   },
   {
    "duration": 249,
    "start_time": "2025-06-10T18:22:29.329Z"
   },
   {
    "duration": 126,
    "start_time": "2025-06-10T18:22:29.580Z"
   },
   {
    "duration": 43,
    "start_time": "2025-06-10T18:22:29.708Z"
   },
   {
    "duration": 55,
    "start_time": "2025-06-10T18:22:29.752Z"
   },
   {
    "duration": 47,
    "start_time": "2025-06-10T18:22:29.809Z"
   },
   {
    "duration": 60,
    "start_time": "2025-06-10T18:22:29.857Z"
   },
   {
    "duration": 287,
    "start_time": "2025-06-10T18:22:29.918Z"
   },
   {
    "duration": 9,
    "start_time": "2025-06-10T18:22:30.207Z"
   },
   {
    "duration": 29,
    "start_time": "2025-06-10T18:22:30.218Z"
   },
   {
    "duration": 160,
    "start_time": "2025-06-10T18:22:30.249Z"
   },
   {
    "duration": 38,
    "start_time": "2025-06-10T18:22:30.415Z"
   },
   {
    "duration": 36,
    "start_time": "2025-06-10T18:22:30.456Z"
   },
   {
    "duration": 163,
    "start_time": "2025-06-10T18:22:30.494Z"
   },
   {
    "duration": 134,
    "start_time": "2025-06-10T18:22:30.658Z"
   },
   {
    "duration": 22,
    "start_time": "2025-06-10T18:22:30.795Z"
   },
   {
    "duration": 59,
    "start_time": "2025-06-10T18:22:30.854Z"
   },
   {
    "duration": 8,
    "start_time": "2025-06-10T18:22:31.096Z"
   },
   {
    "duration": 176,
    "start_time": "2025-06-10T18:22:31.275Z"
   },
   {
    "duration": 9,
    "start_time": "2025-06-10T18:22:31.936Z"
   },
   {
    "duration": 6,
    "start_time": "2025-06-10T18:22:32.050Z"
   },
   {
    "duration": 500,
    "start_time": "2025-06-10T18:22:32.936Z"
   },
   {
    "duration": 15,
    "start_time": "2025-06-10T18:22:33.438Z"
   },
   {
    "duration": 171,
    "start_time": "2025-06-10T18:22:33.482Z"
   },
   {
    "duration": 58,
    "start_time": "2025-06-10T18:22:34.550Z"
   },
   {
    "duration": 39,
    "start_time": "2025-06-10T18:22:35.176Z"
   },
   {
    "duration": 59,
    "start_time": "2025-06-10T18:22:35.757Z"
   },
   {
    "duration": 28,
    "start_time": "2025-06-10T18:22:36.147Z"
   },
   {
    "duration": 28,
    "start_time": "2025-06-10T18:22:36.516Z"
   },
   {
    "duration": 9,
    "start_time": "2025-06-10T18:22:36.885Z"
   },
   {
    "duration": 67,
    "start_time": "2025-06-10T18:22:37.376Z"
   },
   {
    "duration": 51,
    "start_time": "2025-06-10T18:22:38.059Z"
   },
   {
    "duration": 8,
    "start_time": "2025-06-10T18:22:38.354Z"
   },
   {
    "duration": 243,
    "start_time": "2025-06-10T18:22:38.775Z"
   },
   {
    "duration": 112,
    "start_time": "2025-06-10T18:22:39.656Z"
   },
   {
    "duration": 25,
    "start_time": "2025-06-10T18:22:39.790Z"
   },
   {
    "duration": 4,
    "start_time": "2025-06-10T18:22:40.177Z"
   },
   {
    "duration": 79,
    "start_time": "2025-06-10T18:22:45.017Z"
   },
   {
    "duration": 376,
    "start_time": "2025-06-10T18:22:46.137Z"
   },
   {
    "duration": 97,
    "start_time": "2025-06-10T18:23:28.805Z"
   },
   {
    "duration": 351,
    "start_time": "2025-06-10T18:23:29.136Z"
   },
   {
    "duration": 43,
    "start_time": "2025-06-10T18:23:29.536Z"
   },
   {
    "duration": 60,
    "start_time": "2025-06-10T18:23:30.357Z"
   },
   {
    "duration": 19,
    "start_time": "2025-06-10T18:23:30.605Z"
   },
   {
    "duration": 8,
    "start_time": "2025-06-10T18:23:30.876Z"
   },
   {
    "duration": 48,
    "start_time": "2025-06-10T18:23:32.110Z"
   },
   {
    "duration": 26,
    "start_time": "2025-06-10T18:23:32.160Z"
   },
   {
    "duration": 5,
    "start_time": "2025-06-10T18:23:33.749Z"
   },
   {
    "duration": 70,
    "start_time": "2025-06-10T18:23:35.436Z"
   },
   {
    "duration": 24,
    "start_time": "2025-06-10T18:23:37.294Z"
   },
   {
    "duration": 4,
    "start_time": "2025-06-10T18:24:28.057Z"
   },
   {
    "duration": 312,
    "start_time": "2025-06-10T18:27:41.714Z"
   },
   {
    "duration": 5,
    "start_time": "2025-06-10T18:27:44.284Z"
   },
   {
    "duration": 101,
    "start_time": "2025-06-10T18:27:48.399Z"
   },
   {
    "duration": 24,
    "start_time": "2025-06-10T18:32:25.954Z"
   },
   {
    "duration": 154,
    "start_time": "2025-06-10T18:32:48.696Z"
   },
   {
    "duration": 25,
    "start_time": "2025-06-10T18:33:07.714Z"
   },
   {
    "duration": 80,
    "start_time": "2025-06-10T18:36:46.075Z"
   },
   {
    "duration": 12,
    "start_time": "2025-06-10T18:37:32.311Z"
   },
   {
    "duration": 4,
    "start_time": "2025-06-10T18:37:51.297Z"
   },
   {
    "duration": 106,
    "start_time": "2025-06-10T18:39:21.013Z"
   },
   {
    "duration": 122,
    "start_time": "2025-06-10T18:40:09.780Z"
   },
   {
    "duration": 25,
    "start_time": "2025-06-10T18:40:52.509Z"
   },
   {
    "duration": 55,
    "start_time": "2025-06-10T18:40:52.536Z"
   },
   {
    "duration": 7,
    "start_time": "2025-06-10T18:40:52.593Z"
   },
   {
    "duration": 33,
    "start_time": "2025-06-10T18:40:52.602Z"
   },
   {
    "duration": 7,
    "start_time": "2025-06-10T18:40:52.637Z"
   },
   {
    "duration": 6,
    "start_time": "2025-06-10T18:40:52.646Z"
   },
   {
    "duration": 66,
    "start_time": "2025-06-10T18:40:52.654Z"
   },
   {
    "duration": 5,
    "start_time": "2025-06-10T18:40:52.724Z"
   },
   {
    "duration": 84,
    "start_time": "2025-06-10T18:40:52.732Z"
   },
   {
    "duration": 165,
    "start_time": "2025-06-10T18:40:52.818Z"
   },
   {
    "duration": 5,
    "start_time": "2025-06-10T18:40:52.985Z"
   },
   {
    "duration": 16,
    "start_time": "2025-06-10T18:40:52.992Z"
   },
   {
    "duration": 21,
    "start_time": "2025-06-10T18:40:53.010Z"
   },
   {
    "duration": 53,
    "start_time": "2025-06-10T18:40:53.033Z"
   },
   {
    "duration": 16,
    "start_time": "2025-06-10T18:40:53.088Z"
   },
   {
    "duration": 172,
    "start_time": "2025-06-10T18:40:53.106Z"
   },
   {
    "duration": 74,
    "start_time": "2025-06-10T18:40:53.280Z"
   },
   {
    "duration": 52,
    "start_time": "2025-06-10T18:40:53.356Z"
   },
   {
    "duration": 16,
    "start_time": "2025-06-10T18:40:53.411Z"
   },
   {
    "duration": 235,
    "start_time": "2025-06-10T18:40:53.429Z"
   },
   {
    "duration": 121,
    "start_time": "2025-06-10T18:40:53.666Z"
   },
   {
    "duration": 44,
    "start_time": "2025-06-10T18:40:53.789Z"
   },
   {
    "duration": 52,
    "start_time": "2025-06-10T18:40:53.835Z"
   },
   {
    "duration": 133,
    "start_time": "2025-06-10T18:40:53.889Z"
   },
   {
    "duration": 12,
    "start_time": "2025-06-10T18:40:54.023Z"
   },
   {
    "duration": 292,
    "start_time": "2025-06-10T18:40:54.037Z"
   },
   {
    "duration": 10,
    "start_time": "2025-06-10T18:40:54.330Z"
   },
   {
    "duration": 102,
    "start_time": "2025-06-10T18:40:54.341Z"
   },
   {
    "duration": 80,
    "start_time": "2025-06-10T18:40:54.445Z"
   },
   {
    "duration": 19,
    "start_time": "2025-06-10T18:40:54.526Z"
   },
   {
    "duration": 13,
    "start_time": "2025-06-10T18:40:54.547Z"
   },
   {
    "duration": 163,
    "start_time": "2025-06-10T18:40:54.576Z"
   },
   {
    "duration": 113,
    "start_time": "2025-06-10T18:40:54.740Z"
   },
   {
    "duration": 34,
    "start_time": "2025-06-10T18:40:54.855Z"
   },
   {
    "duration": 77,
    "start_time": "2025-06-10T18:40:54.894Z"
   },
   {
    "duration": 9,
    "start_time": "2025-06-10T18:40:54.973Z"
   },
   {
    "duration": 174,
    "start_time": "2025-06-10T18:40:54.984Z"
   },
   {
    "duration": 9,
    "start_time": "2025-06-10T18:40:55.159Z"
   },
   {
    "duration": 5,
    "start_time": "2025-06-10T18:40:55.177Z"
   },
   {
    "duration": 579,
    "start_time": "2025-06-10T18:40:55.185Z"
   },
   {
    "duration": 19,
    "start_time": "2025-06-10T18:40:55.766Z"
   },
   {
    "duration": 248,
    "start_time": "2025-06-10T18:40:55.787Z"
   },
   {
    "duration": 65,
    "start_time": "2025-06-10T18:40:56.037Z"
   },
   {
    "duration": 40,
    "start_time": "2025-06-10T18:40:56.104Z"
   },
   {
    "duration": 88,
    "start_time": "2025-06-10T18:40:56.146Z"
   },
   {
    "duration": 29,
    "start_time": "2025-06-10T18:40:56.236Z"
   },
   {
    "duration": 27,
    "start_time": "2025-06-10T18:40:56.266Z"
   },
   {
    "duration": 12,
    "start_time": "2025-06-10T18:40:56.294Z"
   },
   {
    "duration": 88,
    "start_time": "2025-06-10T18:40:56.308Z"
   },
   {
    "duration": 77,
    "start_time": "2025-06-10T18:40:56.398Z"
   },
   {
    "duration": 9,
    "start_time": "2025-06-10T18:40:56.477Z"
   },
   {
    "duration": 268,
    "start_time": "2025-06-10T18:40:56.487Z"
   },
   {
    "duration": 118,
    "start_time": "2025-06-10T18:40:56.758Z"
   },
   {
    "duration": 25,
    "start_time": "2025-06-10T18:40:56.878Z"
   },
   {
    "duration": 50,
    "start_time": "2025-06-10T18:40:56.905Z"
   },
   {
    "duration": 77,
    "start_time": "2025-06-10T18:40:56.957Z"
   },
   {
    "duration": 390,
    "start_time": "2025-06-10T18:40:57.035Z"
   },
   {
    "duration": 5,
    "start_time": "2025-06-10T18:40:57.427Z"
   },
   {
    "duration": 109,
    "start_time": "2025-06-10T18:40:57.433Z"
   },
   {
    "duration": 377,
    "start_time": "2025-06-10T18:40:57.544Z"
   },
   {
    "duration": 56,
    "start_time": "2025-06-10T18:40:57.923Z"
   },
   {
    "duration": 67,
    "start_time": "2025-06-10T18:40:57.981Z"
   },
   {
    "duration": 31,
    "start_time": "2025-06-10T18:40:58.050Z"
   },
   {
    "duration": 7,
    "start_time": "2025-06-10T18:40:58.083Z"
   },
   {
    "duration": 46,
    "start_time": "2025-06-10T18:40:58.092Z"
   },
   {
    "duration": 42,
    "start_time": "2025-06-10T18:40:58.140Z"
   },
   {
    "duration": 4,
    "start_time": "2025-06-10T18:40:58.184Z"
   },
   {
    "duration": 87,
    "start_time": "2025-06-10T18:40:58.190Z"
   },
   {
    "duration": 25,
    "start_time": "2025-06-10T18:40:58.279Z"
   },
   {
    "duration": 22,
    "start_time": "2025-06-10T18:40:58.306Z"
   },
   {
    "duration": 4,
    "start_time": "2025-06-10T18:40:58.330Z"
   },
   {
    "duration": 147,
    "start_time": "2025-06-10T18:40:58.336Z"
   },
   {
    "duration": 7870,
    "start_time": "2025-06-10T18:40:58.485Z"
   },
   {
    "duration": 4,
    "start_time": "2025-06-10T18:41:06.357Z"
   },
   {
    "duration": 2721,
    "start_time": "2025-06-10T18:41:06.363Z"
   },
   {
    "duration": 20,
    "start_time": "2025-06-10T18:41:09.086Z"
   },
   {
    "duration": 143,
    "start_time": "2025-06-10T18:41:09.108Z"
   },
   {
    "duration": 60,
    "start_time": "2025-06-10T18:41:09.253Z"
   },
   {
    "duration": 26,
    "start_time": "2025-06-10T18:41:09.315Z"
   },
   {
    "duration": 53,
    "start_time": "2025-06-10T18:41:09.343Z"
   },
   {
    "duration": 7,
    "start_time": "2025-06-10T18:41:09.402Z"
   },
   {
    "duration": 10,
    "start_time": "2025-06-10T18:41:09.410Z"
   },
   {
    "duration": 7,
    "start_time": "2025-06-10T18:41:09.421Z"
   },
   {
    "duration": 3,
    "start_time": "2025-06-10T18:41:09.430Z"
   },
   {
    "duration": 60,
    "start_time": "2025-06-10T18:41:09.436Z"
   },
   {
    "duration": 48,
    "start_time": "2025-06-10T18:41:09.498Z"
   },
   {
    "duration": 73,
    "start_time": "2025-06-10T18:41:09.547Z"
   },
   {
    "duration": 161,
    "start_time": "2025-06-10T18:41:09.622Z"
   },
   {
    "duration": 5,
    "start_time": "2025-06-10T18:41:09.785Z"
   },
   {
    "duration": 88,
    "start_time": "2025-06-10T18:41:09.792Z"
   },
   {
    "duration": 103,
    "start_time": "2025-06-10T18:41:09.882Z"
   },
   {
    "duration": 23,
    "start_time": "2025-06-10T18:41:09.986Z"
   },
   {
    "duration": 21,
    "start_time": "2025-06-10T18:41:10.011Z"
   },
   {
    "duration": 175,
    "start_time": "2025-06-10T18:41:10.035Z"
   },
   {
    "duration": 87,
    "start_time": "2025-06-10T18:41:10.212Z"
   },
   {
    "duration": 40,
    "start_time": "2025-06-10T18:41:10.301Z"
   },
   {
    "duration": 69,
    "start_time": "2025-06-10T18:41:10.342Z"
   },
   {
    "duration": 219,
    "start_time": "2025-06-10T18:41:10.413Z"
   },
   {
    "duration": 151,
    "start_time": "2025-06-10T18:41:10.633Z"
   },
   {
    "duration": 46,
    "start_time": "2025-06-10T18:41:10.785Z"
   },
   {
    "duration": 51,
    "start_time": "2025-06-10T18:41:10.833Z"
   },
   {
    "duration": 51,
    "start_time": "2025-06-10T18:41:10.886Z"
   },
   {
    "duration": 15,
    "start_time": "2025-06-10T18:41:10.939Z"
   },
   {
    "duration": 305,
    "start_time": "2025-06-10T18:41:10.977Z"
   },
   {
    "duration": 10,
    "start_time": "2025-06-10T18:41:11.284Z"
   },
   {
    "duration": 50,
    "start_time": "2025-06-10T18:41:11.296Z"
   },
   {
    "duration": 116,
    "start_time": "2025-06-10T18:41:11.350Z"
   },
   {
    "duration": 27,
    "start_time": "2025-06-10T18:41:11.468Z"
   },
   {
    "duration": 70,
    "start_time": "2025-06-10T18:41:11.497Z"
   },
   {
    "duration": 152,
    "start_time": "2025-06-10T18:41:11.569Z"
   },
   {
    "duration": 132,
    "start_time": "2025-06-10T18:41:11.754Z"
   },
   {
    "duration": 21,
    "start_time": "2025-06-10T18:41:13.224Z"
   },
   {
    "duration": 10,
    "start_time": "2025-06-10T18:41:13.496Z"
   },
   {
    "duration": 8,
    "start_time": "2025-06-10T18:41:13.816Z"
   },
   {
    "duration": 172,
    "start_time": "2025-06-10T18:41:14.076Z"
   },
   {
    "duration": 9,
    "start_time": "2025-06-10T18:41:14.864Z"
   },
   {
    "duration": 8,
    "start_time": "2025-06-10T18:41:15.196Z"
   },
   {
    "duration": 513,
    "start_time": "2025-06-10T18:41:16.267Z"
   },
   {
    "duration": 15,
    "start_time": "2025-06-10T18:41:16.782Z"
   },
   {
    "duration": 162,
    "start_time": "2025-06-10T18:41:17.117Z"
   },
   {
    "duration": 57,
    "start_time": "2025-06-10T18:41:18.604Z"
   },
   {
    "duration": 38,
    "start_time": "2025-06-10T18:41:19.876Z"
   },
   {
    "duration": 59,
    "start_time": "2025-06-10T18:41:20.936Z"
   },
   {
    "duration": 27,
    "start_time": "2025-06-10T18:41:21.524Z"
   },
   {
    "duration": 27,
    "start_time": "2025-06-10T18:41:22.595Z"
   },
   {
    "duration": 12,
    "start_time": "2025-06-10T18:41:23.493Z"
   },
   {
    "duration": 62,
    "start_time": "2025-06-10T18:41:24.656Z"
   },
   {
    "duration": 53,
    "start_time": "2025-06-10T18:41:25.376Z"
   },
   {
    "duration": 9,
    "start_time": "2025-06-10T18:41:25.704Z"
   },
   {
    "duration": 254,
    "start_time": "2025-06-10T18:41:26.096Z"
   },
   {
    "duration": 111,
    "start_time": "2025-06-10T18:41:26.876Z"
   },
   {
    "duration": 26,
    "start_time": "2025-06-10T18:41:27.039Z"
   },
   {
    "duration": 4,
    "start_time": "2025-06-10T18:41:27.336Z"
   },
   {
    "duration": 74,
    "start_time": "2025-06-10T18:41:27.844Z"
   },
   {
    "duration": 352,
    "start_time": "2025-06-10T18:41:28.224Z"
   },
   {
    "duration": 4,
    "start_time": "2025-06-10T18:41:28.578Z"
   },
   {
    "duration": 101,
    "start_time": "2025-06-10T18:41:28.764Z"
   },
   {
    "duration": 346,
    "start_time": "2025-06-10T18:41:29.176Z"
   },
   {
    "duration": 44,
    "start_time": "2025-06-10T18:41:29.579Z"
   },
   {
    "duration": 64,
    "start_time": "2025-06-10T18:41:30.560Z"
   },
   {
    "duration": 25,
    "start_time": "2025-06-10T18:41:32.041Z"
   },
   {
    "duration": 8,
    "start_time": "2025-06-10T18:41:32.114Z"
   },
   {
    "duration": 48,
    "start_time": "2025-06-10T18:41:32.784Z"
   },
   {
    "duration": 20,
    "start_time": "2025-06-10T18:41:33.159Z"
   },
   {
    "duration": 4,
    "start_time": "2025-06-10T18:41:34.475Z"
   },
   {
    "duration": 77,
    "start_time": "2025-06-10T18:41:35.396Z"
   },
   {
    "duration": 147,
    "start_time": "2025-06-10T18:41:39.736Z"
   },
   {
    "duration": 18,
    "start_time": "2025-06-10T18:41:40.445Z"
   },
   {
    "duration": 5,
    "start_time": "2025-06-10T18:41:40.673Z"
   },
   {
    "duration": 45,
    "start_time": "2025-06-10T18:41:41.876Z"
   },
   {
    "duration": 43,
    "start_time": "2025-06-10T18:45:00.716Z"
   },
   {
    "duration": 51,
    "start_time": "2025-06-10T18:45:03.538Z"
   },
   {
    "duration": 6,
    "start_time": "2025-06-10T18:45:32.357Z"
   },
   {
    "duration": 6,
    "start_time": "2025-06-10T18:45:45.284Z"
   },
   {
    "duration": 8,
    "start_time": "2025-06-10T18:46:06.036Z"
   },
   {
    "duration": 7,
    "start_time": "2025-06-10T18:46:39.254Z"
   },
   {
    "duration": 135,
    "start_time": "2025-06-10T18:49:14.559Z"
   },
   {
    "duration": 118,
    "start_time": "2025-06-10T18:49:24.579Z"
   },
   {
    "duration": 39,
    "start_time": "2025-06-10T18:50:33.495Z"
   },
   {
    "duration": 28,
    "start_time": "2025-06-10T18:53:55.118Z"
   },
   {
    "duration": 30,
    "start_time": "2025-06-10T18:53:56.357Z"
   },
   {
    "duration": 12,
    "start_time": "2025-06-10T19:05:58.802Z"
   },
   {
    "duration": 147,
    "start_time": "2025-06-10T19:11:19.233Z"
   },
   {
    "duration": 107,
    "start_time": "2025-06-10T19:11:22.853Z"
   },
   {
    "duration": 25604,
    "start_time": "2025-06-10T19:13:43.753Z"
   },
   {
    "duration": 29344,
    "start_time": "2025-06-10T19:14:28.413Z"
   },
   {
    "duration": 119,
    "start_time": "2025-06-10T19:14:57.759Z"
   },
   {
    "duration": 73,
    "start_time": "2025-06-10T19:14:57.879Z"
   },
   {
    "duration": 0,
    "start_time": "2025-06-10T19:14:57.953Z"
   },
   {
    "duration": 10,
    "start_time": "2025-06-10T19:15:21.138Z"
   },
   {
    "duration": 54,
    "start_time": "2025-06-11T05:02:05.322Z"
   },
   {
    "duration": 18,
    "start_time": "2025-06-11T05:02:05.378Z"
   },
   {
    "duration": 222,
    "start_time": "2025-06-11T05:02:05.398Z"
   },
   {
    "duration": 114,
    "start_time": "2025-06-11T05:02:05.622Z"
   },
   {
    "duration": 55,
    "start_time": "2025-06-11T05:02:05.741Z"
   },
   {
    "duration": 24,
    "start_time": "2025-06-11T05:02:05.798Z"
   },
   {
    "duration": 88,
    "start_time": "2025-06-11T05:02:05.823Z"
   },
   {
    "duration": 11,
    "start_time": "2025-06-11T05:02:05.913Z"
   },
   {
    "duration": 419,
    "start_time": "2025-06-11T05:02:05.925Z"
   },
   {
    "duration": 16,
    "start_time": "2025-06-11T05:02:06.346Z"
   },
   {
    "duration": 12,
    "start_time": "2025-06-11T05:02:06.364Z"
   },
   {
    "duration": 103,
    "start_time": "2025-06-11T05:02:06.378Z"
   },
   {
    "duration": 78,
    "start_time": "2025-06-11T05:02:06.483Z"
   },
   {
    "duration": 26,
    "start_time": "2025-06-11T05:02:06.563Z"
   },
   {
    "duration": 155,
    "start_time": "2025-06-11T05:02:06.591Z"
   },
   {
    "duration": 124,
    "start_time": "2025-06-11T05:02:06.748Z"
   },
   {
    "duration": 20,
    "start_time": "2025-06-11T05:02:06.874Z"
   },
   {
    "duration": 85,
    "start_time": "2025-06-11T05:02:06.895Z"
   },
   {
    "duration": 7,
    "start_time": "2025-06-11T05:02:06.982Z"
   },
   {
    "duration": 167,
    "start_time": "2025-06-11T05:02:06.991Z"
   },
   {
    "duration": 8,
    "start_time": "2025-06-11T05:02:07.159Z"
   },
   {
    "duration": 11,
    "start_time": "2025-06-11T05:02:07.169Z"
   },
   {
    "duration": 564,
    "start_time": "2025-06-11T05:02:07.182Z"
   },
   {
    "duration": 17,
    "start_time": "2025-06-11T05:02:07.748Z"
   },
   {
    "duration": 166,
    "start_time": "2025-06-11T05:02:07.767Z"
   },
   {
    "duration": 61,
    "start_time": "2025-06-11T05:02:07.935Z"
   },
   {
    "duration": 37,
    "start_time": "2025-06-11T05:02:07.998Z"
   },
   {
    "duration": 131,
    "start_time": "2025-06-11T05:02:08.037Z"
   },
   {
    "duration": 27,
    "start_time": "2025-06-11T05:02:08.170Z"
   },
   {
    "duration": 24,
    "start_time": "2025-06-11T05:02:08.199Z"
   },
   {
    "duration": 39,
    "start_time": "2025-06-11T05:02:08.224Z"
   },
   {
    "duration": 112,
    "start_time": "2025-06-11T05:02:08.265Z"
   },
   {
    "duration": 49,
    "start_time": "2025-06-11T05:02:08.379Z"
   },
   {
    "duration": 59,
    "start_time": "2025-06-11T05:02:08.430Z"
   },
   {
    "duration": 221,
    "start_time": "2025-06-11T05:02:08.491Z"
   },
   {
    "duration": 109,
    "start_time": "2025-06-11T05:02:08.713Z"
   },
   {
    "duration": 38,
    "start_time": "2025-06-11T05:02:08.824Z"
   },
   {
    "duration": 5,
    "start_time": "2025-06-11T05:02:08.863Z"
   },
   {
    "duration": 112,
    "start_time": "2025-06-11T05:02:08.870Z"
   },
   {
    "duration": 344,
    "start_time": "2025-06-11T05:02:08.984Z"
   },
   {
    "duration": 4,
    "start_time": "2025-06-11T05:02:09.330Z"
   },
   {
    "duration": 107,
    "start_time": "2025-06-11T05:02:09.336Z"
   },
   {
    "duration": 350,
    "start_time": "2025-06-11T05:02:09.444Z"
   },
   {
    "duration": 40,
    "start_time": "2025-06-11T05:02:09.795Z"
   },
   {
    "duration": 72,
    "start_time": "2025-06-11T05:02:09.836Z"
   },
   {
    "duration": 16,
    "start_time": "2025-06-11T05:02:09.910Z"
   },
   {
    "duration": 66,
    "start_time": "2025-06-11T05:02:09.928Z"
   },
   {
    "duration": 43,
    "start_time": "2025-06-11T05:02:09.995Z"
   },
   {
    "duration": 18,
    "start_time": "2025-06-11T05:02:10.040Z"
   },
   {
    "duration": 98,
    "start_time": "2025-06-11T05:02:10.060Z"
   },
   {
    "duration": 72,
    "start_time": "2025-06-11T05:02:10.160Z"
   },
   {
    "duration": 38,
    "start_time": "2025-06-11T05:02:10.234Z"
   },
   {
    "duration": 84,
    "start_time": "2025-06-11T05:02:10.274Z"
   },
   {
    "duration": 30,
    "start_time": "2025-06-11T05:02:10.359Z"
   },
   {
    "duration": 17,
    "start_time": "2025-06-11T05:02:10.391Z"
   },
   {
    "duration": 82,
    "start_time": "2025-06-11T05:02:10.410Z"
   },
   {
    "duration": 123,
    "start_time": "2025-06-11T05:02:10.494Z"
   },
   {
    "duration": 58,
    "start_time": "2025-06-11T05:02:10.619Z"
   },
   {
    "duration": 23817,
    "start_time": "2025-06-11T05:02:10.684Z"
   },
   {
    "duration": 112,
    "start_time": "2025-06-11T05:02:34.503Z"
   },
   {
    "duration": 9,
    "start_time": "2025-06-11T05:02:34.617Z"
   },
   {
    "duration": 7411,
    "start_time": "2025-06-11T05:02:34.628Z"
   },
   {
    "duration": 4,
    "start_time": "2025-06-11T05:02:42.041Z"
   },
   {
    "duration": 1993,
    "start_time": "2025-06-11T05:02:42.046Z"
   },
   {
    "duration": 30,
    "start_time": "2025-06-11T05:02:44.041Z"
   },
   {
    "duration": 138,
    "start_time": "2025-06-11T05:02:44.073Z"
   },
   {
    "duration": 54,
    "start_time": "2025-06-11T05:02:44.213Z"
   },
   {
    "duration": 70,
    "start_time": "2025-06-11T05:02:44.269Z"
   },
   {
    "duration": 27,
    "start_time": "2025-06-11T05:02:44.341Z"
   },
   {
    "duration": 8,
    "start_time": "2025-06-11T05:02:44.370Z"
   },
   {
    "duration": 10,
    "start_time": "2025-06-11T05:02:44.380Z"
   },
   {
    "duration": 107,
    "start_time": "2025-06-11T05:02:44.391Z"
   },
   {
    "duration": 4,
    "start_time": "2025-06-11T05:02:44.500Z"
   },
   {
    "duration": 21,
    "start_time": "2025-06-11T05:02:44.506Z"
   },
   {
    "duration": 5,
    "start_time": "2025-06-11T05:02:44.528Z"
   },
   {
    "duration": 65,
    "start_time": "2025-06-11T05:02:44.535Z"
   },
   {
    "duration": 158,
    "start_time": "2025-06-11T05:02:44.601Z"
   },
   {
    "duration": 4,
    "start_time": "2025-06-11T05:02:44.760Z"
   },
   {
    "duration": 16,
    "start_time": "2025-06-11T05:02:44.766Z"
   },
   {
    "duration": 19,
    "start_time": "2025-06-11T05:02:44.784Z"
   },
   {
    "duration": 54,
    "start_time": "2025-06-11T05:02:44.805Z"
   },
   {
    "duration": 15,
    "start_time": "2025-06-11T05:02:44.861Z"
   },
   {
    "duration": 156,
    "start_time": "2025-06-11T05:02:44.878Z"
   },
   {
    "duration": 78,
    "start_time": "2025-06-11T05:02:45.036Z"
   },
   {
    "duration": 52,
    "start_time": "2025-06-11T05:02:45.117Z"
   },
   {
    "duration": 24,
    "start_time": "2025-06-11T05:02:45.171Z"
   },
   {
    "duration": 237,
    "start_time": "2025-06-11T05:02:45.197Z"
   },
   {
    "duration": 141,
    "start_time": "2025-06-11T05:02:45.436Z"
   },
   {
    "duration": 39,
    "start_time": "2025-06-11T05:02:45.578Z"
   },
   {
    "duration": 47,
    "start_time": "2025-06-11T05:02:45.619Z"
   },
   {
    "duration": 47,
    "start_time": "2025-06-11T05:02:45.668Z"
   },
   {
    "duration": 11,
    "start_time": "2025-06-11T05:02:45.717Z"
   },
   {
    "duration": 2093,
    "start_time": "2025-06-11T05:02:45.730Z"
   },
   {
    "duration": 8,
    "start_time": "2025-06-11T05:02:47.828Z"
   },
   {
    "duration": 21,
    "start_time": "2025-06-11T05:02:47.838Z"
   },
   {
    "duration": 65,
    "start_time": "2025-06-11T05:02:47.861Z"
   },
   {
    "duration": 33,
    "start_time": "2025-06-11T05:02:47.927Z"
   },
   {
    "duration": 34,
    "start_time": "2025-06-11T05:02:47.962Z"
   },
   {
    "duration": 143,
    "start_time": "2025-06-11T05:02:47.997Z"
   },
   {
    "duration": 128,
    "start_time": "2025-06-11T05:02:48.142Z"
   },
   {
    "duration": 18,
    "start_time": "2025-06-11T05:02:48.272Z"
   },
   {
    "duration": 26,
    "start_time": "2025-06-11T05:02:48.292Z"
   },
   {
    "duration": 7,
    "start_time": "2025-06-11T05:02:48.320Z"
   },
   {
    "duration": 163,
    "start_time": "2025-06-11T05:02:48.329Z"
   },
   {
    "duration": 9,
    "start_time": "2025-06-11T05:02:48.493Z"
   },
   {
    "duration": 14,
    "start_time": "2025-06-11T05:02:48.503Z"
   },
   {
    "duration": 479,
    "start_time": "2025-06-11T05:02:48.519Z"
   },
   {
    "duration": 13,
    "start_time": "2025-06-11T05:02:48.999Z"
   },
   {
    "duration": 170,
    "start_time": "2025-06-11T05:02:49.013Z"
   },
   {
    "duration": 53,
    "start_time": "2025-06-11T05:02:49.185Z"
   },
   {
    "duration": 82,
    "start_time": "2025-06-11T05:02:49.240Z"
   },
   {
    "duration": 85,
    "start_time": "2025-06-11T05:02:49.324Z"
   },
   {
    "duration": 25,
    "start_time": "2025-06-11T05:02:49.411Z"
   },
   {
    "duration": 24,
    "start_time": "2025-06-11T05:02:49.437Z"
   },
   {
    "duration": 8,
    "start_time": "2025-06-11T05:02:49.463Z"
   },
   {
    "duration": 65,
    "start_time": "2025-06-11T05:02:49.473Z"
   },
   {
    "duration": 57,
    "start_time": "2025-06-11T05:02:49.540Z"
   },
   {
    "duration": 7,
    "start_time": "2025-06-11T05:02:49.598Z"
   },
   {
    "duration": 255,
    "start_time": "2025-06-11T05:02:49.607Z"
   },
   {
    "duration": 113,
    "start_time": "2025-06-11T05:02:49.863Z"
   },
   {
    "duration": 23,
    "start_time": "2025-06-11T05:02:49.978Z"
   },
   {
    "duration": 13,
    "start_time": "2025-06-11T05:02:50.002Z"
   },
   {
    "duration": 83,
    "start_time": "2025-06-11T05:02:50.017Z"
   },
   {
    "duration": 314,
    "start_time": "2025-06-11T05:02:50.498Z"
   },
   {
    "duration": 4,
    "start_time": "2025-06-11T05:02:50.813Z"
   },
   {
    "duration": 85,
    "start_time": "2025-06-11T05:02:50.818Z"
   },
   {
    "duration": 243,
    "start_time": "2025-06-11T05:03:55.379Z"
   },
   {
    "duration": 52,
    "start_time": "2025-06-11T05:03:55.858Z"
   },
   {
    "duration": 59,
    "start_time": "2025-06-11T05:03:57.651Z"
   },
   {
    "duration": 18,
    "start_time": "2025-06-11T05:03:57.890Z"
   },
   {
    "duration": 9,
    "start_time": "2025-06-11T05:03:58.410Z"
   },
   {
    "duration": 51,
    "start_time": "2025-06-11T05:04:01.084Z"
   },
   {
    "duration": 21,
    "start_time": "2025-06-11T05:04:01.331Z"
   },
   {
    "duration": 5,
    "start_time": "2025-06-11T05:04:03.349Z"
   },
   {
    "duration": 56,
    "start_time": "2025-06-11T05:04:04.371Z"
   },
   {
    "duration": 16,
    "start_time": "2025-06-11T05:04:04.669Z"
   },
   {
    "duration": 25,
    "start_time": "2025-06-11T05:04:05.930Z"
   },
   {
    "duration": 26,
    "start_time": "2025-06-11T05:04:06.950Z"
   },
   {
    "duration": 17,
    "start_time": "2025-06-11T05:04:08.890Z"
   },
   {
    "duration": 5,
    "start_time": "2025-06-11T05:04:09.691Z"
   },
   {
    "duration": 134,
    "start_time": "2025-06-11T05:04:11.243Z"
   },
   {
    "duration": 36,
    "start_time": "2025-06-11T05:04:12.992Z"
   },
   {
    "duration": 23,
    "start_time": "2025-06-11T05:06:20.781Z"
   },
   {
    "duration": 133,
    "start_time": "2025-06-11T05:08:02.160Z"
   },
   {
    "duration": 147909,
    "start_time": "2025-06-11T05:14:50.886Z"
   },
   {
    "duration": 28026,
    "start_time": "2025-06-11T05:17:18.796Z"
   },
   {
    "duration": 8287,
    "start_time": "2025-06-11T05:49:25.920Z"
   },
   {
    "duration": 583,
    "start_time": "2025-06-11T05:49:34.210Z"
   },
   {
    "duration": 2049,
    "start_time": "2025-06-11T05:49:34.795Z"
   },
   {
    "duration": 32,
    "start_time": "2025-06-11T05:49:36.846Z"
   },
   {
    "duration": 135,
    "start_time": "2025-06-11T05:49:36.880Z"
   },
   {
    "duration": 55,
    "start_time": "2025-06-11T05:49:37.017Z"
   },
   {
    "duration": 24,
    "start_time": "2025-06-11T05:49:37.074Z"
   },
   {
    "duration": 28,
    "start_time": "2025-06-11T05:49:37.099Z"
   },
   {
    "duration": 31,
    "start_time": "2025-06-11T05:49:37.128Z"
   },
   {
    "duration": 10,
    "start_time": "2025-06-11T05:49:37.506Z"
   },
   {
    "duration": 6,
    "start_time": "2025-06-11T05:49:38.281Z"
   },
   {
    "duration": 5,
    "start_time": "2025-06-11T05:49:39.280Z"
   },
   {
    "duration": 52,
    "start_time": "2025-06-11T05:49:40.121Z"
   },
   {
    "duration": 7,
    "start_time": "2025-06-11T05:49:40.370Z"
   },
   {
    "duration": 71,
    "start_time": "2025-06-11T05:49:40.820Z"
   },
   {
    "duration": 152,
    "start_time": "2025-06-11T05:49:41.668Z"
   },
   {
    "duration": 4,
    "start_time": "2025-06-11T05:49:42.074Z"
   },
   {
    "duration": 15,
    "start_time": "2025-06-11T05:49:42.894Z"
   },
   {
    "duration": 28,
    "start_time": "2025-06-11T05:49:43.540Z"
   },
   {
    "duration": 22,
    "start_time": "2025-06-11T05:49:43.940Z"
   },
   {
    "duration": 17,
    "start_time": "2025-06-11T05:49:44.741Z"
   },
   {
    "duration": 161,
    "start_time": "2025-06-11T05:49:45.267Z"
   },
   {
    "duration": 76,
    "start_time": "2025-06-11T05:49:45.924Z"
   },
   {
    "duration": 37,
    "start_time": "2025-06-11T05:49:46.401Z"
   },
   {
    "duration": 16,
    "start_time": "2025-06-11T05:49:47.380Z"
   },
   {
    "duration": 207,
    "start_time": "2025-06-11T05:49:47.880Z"
   },
   {
    "duration": 106,
    "start_time": "2025-06-11T05:49:48.429Z"
   },
   {
    "duration": 49,
    "start_time": "2025-06-11T05:49:48.958Z"
   },
   {
    "duration": 23,
    "start_time": "2025-06-11T05:49:50.926Z"
   },
   {
    "duration": 51,
    "start_time": "2025-06-11T05:49:51.161Z"
   },
   {
    "duration": 13,
    "start_time": "2025-06-11T05:49:51.427Z"
   },
   {
    "duration": 298,
    "start_time": "2025-06-11T05:49:51.949Z"
   },
   {
    "duration": 9,
    "start_time": "2025-06-11T05:49:53.186Z"
   },
   {
    "duration": 8,
    "start_time": "2025-06-11T05:49:53.620Z"
   },
   {
    "duration": 80,
    "start_time": "2025-06-11T05:49:54.394Z"
   },
   {
    "duration": 17,
    "start_time": "2025-06-11T05:49:54.593Z"
   },
   {
    "duration": 12,
    "start_time": "2025-06-11T05:49:55.120Z"
   },
   {
    "duration": 156,
    "start_time": "2025-06-11T05:49:55.840Z"
   },
   {
    "duration": 117,
    "start_time": "2025-06-11T05:49:56.481Z"
   },
   {
    "duration": 21,
    "start_time": "2025-06-11T05:49:57.267Z"
   },
   {
    "duration": 9,
    "start_time": "2025-06-11T05:49:57.507Z"
   },
   {
    "duration": 8,
    "start_time": "2025-06-11T05:49:57.720Z"
   },
   {
    "duration": 165,
    "start_time": "2025-06-11T05:49:58.001Z"
   },
   {
    "duration": 9,
    "start_time": "2025-06-11T05:49:59.220Z"
   },
   {
    "duration": 6,
    "start_time": "2025-06-11T05:49:59.840Z"
   },
   {
    "duration": 624,
    "start_time": "2025-06-11T05:50:01.299Z"
   },
   {
    "duration": 13,
    "start_time": "2025-06-11T05:50:01.925Z"
   },
   {
    "duration": 182,
    "start_time": "2025-06-11T05:50:01.940Z"
   },
   {
    "duration": 61,
    "start_time": "2025-06-11T05:50:03.154Z"
   },
   {
    "duration": 66,
    "start_time": "2025-06-11T05:50:05.155Z"
   },
   {
    "duration": 64,
    "start_time": "2025-06-11T05:50:05.836Z"
   },
   {
    "duration": 26,
    "start_time": "2025-06-11T05:50:06.181Z"
   },
   {
    "duration": 25,
    "start_time": "2025-06-11T05:50:06.580Z"
   },
   {
    "duration": 9,
    "start_time": "2025-06-11T05:50:06.947Z"
   },
   {
    "duration": 70,
    "start_time": "2025-06-11T05:50:07.540Z"
   },
   {
    "duration": 62,
    "start_time": "2025-06-11T05:50:07.827Z"
   },
   {
    "duration": 7,
    "start_time": "2025-06-11T05:50:08.409Z"
   },
   {
    "duration": 245,
    "start_time": "2025-06-11T05:50:08.801Z"
   },
   {
    "duration": 112,
    "start_time": "2025-06-11T05:50:09.680Z"
   },
   {
    "duration": 29,
    "start_time": "2025-06-11T05:50:09.960Z"
   },
   {
    "duration": 6,
    "start_time": "2025-06-11T05:50:10.160Z"
   },
   {
    "duration": 85,
    "start_time": "2025-06-11T05:50:10.740Z"
   },
   {
    "duration": 398,
    "start_time": "2025-06-11T05:50:11.347Z"
   },
   {
    "duration": 4,
    "start_time": "2025-06-11T05:50:11.747Z"
   },
   {
    "duration": 90,
    "start_time": "2025-06-11T05:50:11.757Z"
   },
   {
    "duration": 273,
    "start_time": "2025-06-11T05:50:12.003Z"
   },
   {
    "duration": 39,
    "start_time": "2025-06-11T05:50:12.492Z"
   },
   {
    "duration": 60,
    "start_time": "2025-06-11T05:50:13.140Z"
   },
   {
    "duration": 18,
    "start_time": "2025-06-11T05:50:13.314Z"
   },
   {
    "duration": 9,
    "start_time": "2025-06-11T05:50:13.540Z"
   },
   {
    "duration": 44,
    "start_time": "2025-06-11T05:50:13.969Z"
   },
   {
    "duration": 20,
    "start_time": "2025-06-11T05:50:14.226Z"
   },
   {
    "duration": 5,
    "start_time": "2025-06-11T05:50:15.388Z"
   },
   {
    "duration": 68,
    "start_time": "2025-06-11T05:50:15.608Z"
   },
   {
    "duration": 15,
    "start_time": "2025-06-11T05:50:15.788Z"
   },
   {
    "duration": 24,
    "start_time": "2025-06-11T05:50:16.400Z"
   },
   {
    "duration": 25,
    "start_time": "2025-06-11T05:50:16.555Z"
   },
   {
    "duration": 18,
    "start_time": "2025-06-11T05:50:16.980Z"
   },
   {
    "duration": 4,
    "start_time": "2025-06-11T05:50:17.128Z"
   },
   {
    "duration": 139,
    "start_time": "2025-06-11T05:50:17.346Z"
   },
   {
    "duration": 36,
    "start_time": "2025-06-11T05:50:17.720Z"
   },
   {
    "duration": 25587,
    "start_time": "2025-06-11T05:50:18.680Z"
   },
   {
    "duration": 150004,
    "start_time": "2025-06-11T05:50:44.270Z"
   },
   {
    "duration": 126,
    "start_time": "2025-06-11T05:53:14.276Z"
   },
   {
    "duration": 10,
    "start_time": "2025-06-11T05:53:14.404Z"
   },
   {
    "duration": 1376,
    "start_time": "2025-06-11T05:57:06.640Z"
   },
   {
    "duration": 177,
    "start_time": "2025-06-11T05:58:07.140Z"
   },
   {
    "duration": 154,
    "start_time": "2025-06-11T05:58:38.106Z"
   },
   {
    "duration": 163,
    "start_time": "2025-06-11T05:59:17.401Z"
   },
   {
    "duration": 4,
    "start_time": "2025-06-11T06:00:54.800Z"
   },
   {
    "duration": 5,
    "start_time": "2025-06-11T06:01:24.829Z"
   },
   {
    "duration": 6,
    "start_time": "2025-06-11T06:02:26.399Z"
   },
   {
    "duration": 6,
    "start_time": "2025-06-11T06:04:30.412Z"
   },
   {
    "duration": 6,
    "start_time": "2025-06-11T06:04:49.779Z"
   },
   {
    "duration": 113,
    "start_time": "2025-06-11T06:05:01.426Z"
   },
   {
    "duration": 7,
    "start_time": "2025-06-11T06:05:12.260Z"
   },
   {
    "duration": 6,
    "start_time": "2025-06-11T06:05:16.912Z"
   },
   {
    "duration": 7,
    "start_time": "2025-06-11T06:05:25.928Z"
   },
   {
    "duration": 8092,
    "start_time": "2025-06-11T06:05:40.988Z"
   },
   {
    "duration": 544,
    "start_time": "2025-06-11T06:05:49.083Z"
   },
   {
    "duration": 8267,
    "start_time": "2025-06-11T06:06:07.559Z"
   },
   {
    "duration": 550,
    "start_time": "2025-06-11T06:06:15.829Z"
   },
   {
    "duration": 2326,
    "start_time": "2025-06-11T06:06:16.380Z"
   },
   {
    "duration": 20,
    "start_time": "2025-06-11T06:06:18.708Z"
   },
   {
    "duration": 140,
    "start_time": "2025-06-11T06:06:18.730Z"
   },
   {
    "duration": 46,
    "start_time": "2025-06-11T06:06:18.872Z"
   },
   {
    "duration": 44,
    "start_time": "2025-06-11T06:06:18.919Z"
   },
   {
    "duration": 30,
    "start_time": "2025-06-11T06:06:18.965Z"
   },
   {
    "duration": 6,
    "start_time": "2025-06-11T06:06:18.996Z"
   },
   {
    "duration": 23,
    "start_time": "2025-06-11T06:06:19.005Z"
   },
   {
    "duration": 29,
    "start_time": "2025-06-11T06:06:19.029Z"
   },
   {
    "duration": 4,
    "start_time": "2025-06-11T06:06:19.060Z"
   },
   {
    "duration": 47,
    "start_time": "2025-06-11T06:06:19.066Z"
   },
   {
    "duration": 5,
    "start_time": "2025-06-11T06:06:19.115Z"
   },
   {
    "duration": 109,
    "start_time": "2025-06-11T06:06:19.122Z"
   },
   {
    "duration": 159,
    "start_time": "2025-06-11T06:06:19.232Z"
   },
   {
    "duration": 4,
    "start_time": "2025-06-11T06:06:19.393Z"
   },
   {
    "duration": 15,
    "start_time": "2025-06-11T06:06:19.398Z"
   },
   {
    "duration": 46,
    "start_time": "2025-06-11T06:06:19.414Z"
   },
   {
    "duration": 21,
    "start_time": "2025-06-11T06:06:19.462Z"
   },
   {
    "duration": 15,
    "start_time": "2025-06-11T06:06:19.485Z"
   },
   {
    "duration": 173,
    "start_time": "2025-06-11T06:06:19.502Z"
   },
   {
    "duration": 83,
    "start_time": "2025-06-11T06:06:19.677Z"
   },
   {
    "duration": 38,
    "start_time": "2025-06-11T06:06:19.761Z"
   },
   {
    "duration": 20,
    "start_time": "2025-06-11T06:06:19.801Z"
   },
   {
    "duration": 224,
    "start_time": "2025-06-11T06:06:19.822Z"
   },
   {
    "duration": 116,
    "start_time": "2025-06-11T06:06:20.048Z"
   },
   {
    "duration": 39,
    "start_time": "2025-06-11T06:06:20.167Z"
   },
   {
    "duration": 41,
    "start_time": "2025-06-11T06:06:20.207Z"
   },
   {
    "duration": 57,
    "start_time": "2025-06-11T06:06:20.249Z"
   },
   {
    "duration": 12,
    "start_time": "2025-06-11T06:06:20.307Z"
   },
   {
    "duration": 281,
    "start_time": "2025-06-11T06:06:20.446Z"
   },
   {
    "duration": 10,
    "start_time": "2025-06-11T06:06:21.359Z"
   },
   {
    "duration": 9,
    "start_time": "2025-06-11T06:06:21.483Z"
   },
   {
    "duration": 71,
    "start_time": "2025-06-11T06:06:21.868Z"
   },
   {
    "duration": 19,
    "start_time": "2025-06-11T06:06:22.011Z"
   },
   {
    "duration": 13,
    "start_time": "2025-06-11T06:06:22.400Z"
   },
   {
    "duration": 149,
    "start_time": "2025-06-11T06:06:22.794Z"
   },
   {
    "duration": 105,
    "start_time": "2025-06-11T06:06:23.283Z"
   },
   {
    "duration": 19,
    "start_time": "2025-06-11T06:06:24.019Z"
   },
   {
    "duration": 9,
    "start_time": "2025-06-11T06:06:24.181Z"
   },
   {
    "duration": 8,
    "start_time": "2025-06-11T06:06:24.407Z"
   },
   {
    "duration": 158,
    "start_time": "2025-06-11T06:06:24.546Z"
   },
   {
    "duration": 8,
    "start_time": "2025-06-11T06:06:25.067Z"
   },
   {
    "duration": 6,
    "start_time": "2025-06-11T06:06:25.227Z"
   },
   {
    "duration": 581,
    "start_time": "2025-06-11T06:06:25.915Z"
   },
   {
    "duration": 15,
    "start_time": "2025-06-11T06:06:26.498Z"
   },
   {
    "duration": 177,
    "start_time": "2025-06-11T06:06:26.515Z"
   },
   {
    "duration": 51,
    "start_time": "2025-06-11T06:06:27.506Z"
   },
   {
    "duration": 38,
    "start_time": "2025-06-11T06:06:28.019Z"
   },
   {
    "duration": 84,
    "start_time": "2025-06-11T06:06:28.660Z"
   },
   {
    "duration": 28,
    "start_time": "2025-06-11T06:06:28.979Z"
   },
   {
    "duration": 24,
    "start_time": "2025-06-11T06:06:29.360Z"
   },
   {
    "duration": 9,
    "start_time": "2025-06-11T06:06:29.719Z"
   },
   {
    "duration": 60,
    "start_time": "2025-06-11T06:06:30.234Z"
   },
   {
    "duration": 50,
    "start_time": "2025-06-11T06:06:30.553Z"
   },
   {
    "duration": 7,
    "start_time": "2025-06-11T06:06:30.946Z"
   },
   {
    "duration": 227,
    "start_time": "2025-06-11T06:06:31.231Z"
   },
   {
    "duration": 102,
    "start_time": "2025-06-11T06:06:31.940Z"
   },
   {
    "duration": 23,
    "start_time": "2025-06-11T06:06:32.066Z"
   },
   {
    "duration": 4,
    "start_time": "2025-06-11T06:06:32.233Z"
   },
   {
    "duration": 72,
    "start_time": "2025-06-11T06:06:32.579Z"
   },
   {
    "duration": 371,
    "start_time": "2025-06-11T06:06:32.923Z"
   },
   {
    "duration": 4,
    "start_time": "2025-06-11T06:06:33.296Z"
   },
   {
    "duration": 98,
    "start_time": "2025-06-11T06:06:33.302Z"
   },
   {
    "duration": 258,
    "start_time": "2025-06-11T06:06:33.558Z"
   },
   {
    "duration": 42,
    "start_time": "2025-06-11T06:06:34.018Z"
   },
   {
    "duration": 58,
    "start_time": "2025-06-11T06:06:34.946Z"
   },
   {
    "duration": 19,
    "start_time": "2025-06-11T06:06:35.295Z"
   },
   {
    "duration": 9,
    "start_time": "2025-06-11T06:06:35.437Z"
   },
   {
    "duration": 47,
    "start_time": "2025-06-11T06:06:36.680Z"
   },
   {
    "duration": 22,
    "start_time": "2025-06-11T06:06:36.808Z"
   },
   {
    "duration": 5,
    "start_time": "2025-06-11T06:06:37.865Z"
   },
   {
    "duration": 59,
    "start_time": "2025-06-11T06:06:38.040Z"
   },
   {
    "duration": 15,
    "start_time": "2025-06-11T06:06:38.153Z"
   },
   {
    "duration": 25,
    "start_time": "2025-06-11T06:06:38.487Z"
   },
   {
    "duration": 25,
    "start_time": "2025-06-11T06:06:38.637Z"
   },
   {
    "duration": 16,
    "start_time": "2025-06-11T06:06:39.195Z"
   },
   {
    "duration": 4,
    "start_time": "2025-06-11T06:06:39.322Z"
   },
   {
    "duration": 125,
    "start_time": "2025-06-11T06:06:39.720Z"
   },
   {
    "duration": 34,
    "start_time": "2025-06-11T06:06:40.066Z"
   },
   {
    "duration": 6,
    "start_time": "2025-06-11T06:06:40.588Z"
   },
   {
    "duration": 5,
    "start_time": "2025-06-11T06:06:40.785Z"
   },
   {
    "duration": 155,
    "start_time": "2025-06-11T06:06:41.194Z"
   },
   {
    "duration": 110,
    "start_time": "2025-06-11T06:06:41.787Z"
   },
   {
    "duration": 5,
    "start_time": "2025-06-11T06:07:10.080Z"
   },
   {
    "duration": 12,
    "start_time": "2025-06-11T06:08:41.040Z"
   },
   {
    "duration": 8,
    "start_time": "2025-06-11T06:09:28.480Z"
   },
   {
    "duration": 7,
    "start_time": "2025-06-11T06:09:52.839Z"
   },
   {
    "duration": 161,
    "start_time": "2025-06-11T06:13:41.283Z"
   },
   {
    "duration": 166,
    "start_time": "2025-06-11T06:14:32.785Z"
   },
   {
    "duration": 193,
    "start_time": "2025-06-11T06:14:41.470Z"
   },
   {
    "duration": 176,
    "start_time": "2025-06-11T06:15:11.642Z"
   },
   {
    "duration": 42,
    "start_time": "2025-06-11T06:16:42.553Z"
   },
   {
    "duration": 5,
    "start_time": "2025-06-11T06:17:16.234Z"
   },
   {
    "duration": 187,
    "start_time": "2025-06-11T06:22:23.082Z"
   },
   {
    "duration": 195,
    "start_time": "2025-06-11T06:22:30.299Z"
   },
   {
    "duration": 332,
    "start_time": "2025-06-11T06:22:35.862Z"
   },
   {
    "duration": 240,
    "start_time": "2025-06-11T06:22:51.999Z"
   },
   {
    "duration": 276,
    "start_time": "2025-06-11T06:23:00.002Z"
   },
   {
    "duration": 265,
    "start_time": "2025-06-11T06:23:13.979Z"
   },
   {
    "duration": 159,
    "start_time": "2025-06-11T06:24:38.639Z"
   },
   {
    "duration": 180,
    "start_time": "2025-06-11T06:24:48.339Z"
   },
   {
    "duration": 160,
    "start_time": "2025-06-11T06:24:57.879Z"
   },
   {
    "duration": 15,
    "start_time": "2025-06-11T06:27:19.779Z"
   },
   {
    "duration": 19,
    "start_time": "2025-06-11T06:27:32.067Z"
   },
   {
    "duration": 8568,
    "start_time": "2025-06-11T06:49:16.201Z"
   },
   {
    "duration": 601,
    "start_time": "2025-06-11T06:49:24.772Z"
   },
   {
    "duration": 2426,
    "start_time": "2025-06-11T06:49:25.375Z"
   },
   {
    "duration": 21,
    "start_time": "2025-06-11T06:49:27.803Z"
   },
   {
    "duration": 161,
    "start_time": "2025-06-11T06:49:27.826Z"
   },
   {
    "duration": 46,
    "start_time": "2025-06-11T06:49:27.989Z"
   },
   {
    "duration": 37,
    "start_time": "2025-06-11T06:49:28.037Z"
   },
   {
    "duration": 36,
    "start_time": "2025-06-11T06:49:28.076Z"
   },
   {
    "duration": 7,
    "start_time": "2025-06-11T06:49:28.113Z"
   },
   {
    "duration": 44,
    "start_time": "2025-06-11T06:49:28.123Z"
   },
   {
    "duration": 10,
    "start_time": "2025-06-11T06:49:28.170Z"
   },
   {
    "duration": 5,
    "start_time": "2025-06-11T06:49:28.183Z"
   },
   {
    "duration": 74,
    "start_time": "2025-06-11T06:49:28.190Z"
   },
   {
    "duration": 6,
    "start_time": "2025-06-11T06:49:28.267Z"
   },
   {
    "duration": 87,
    "start_time": "2025-06-11T06:49:28.275Z"
   },
   {
    "duration": 166,
    "start_time": "2025-06-11T06:49:28.364Z"
   },
   {
    "duration": 4,
    "start_time": "2025-06-11T06:49:28.532Z"
   },
   {
    "duration": 86,
    "start_time": "2025-06-11T06:49:28.537Z"
   },
   {
    "duration": 19,
    "start_time": "2025-06-11T06:49:28.625Z"
   },
   {
    "duration": 22,
    "start_time": "2025-06-11T06:49:28.645Z"
   },
   {
    "duration": 17,
    "start_time": "2025-06-11T06:49:28.669Z"
   },
   {
    "duration": 168,
    "start_time": "2025-06-11T06:49:28.688Z"
   },
   {
    "duration": 72,
    "start_time": "2025-06-11T06:49:28.858Z"
   },
   {
    "duration": 55,
    "start_time": "2025-06-11T06:49:28.932Z"
   },
   {
    "duration": 72,
    "start_time": "2025-06-11T06:49:28.989Z"
   },
   {
    "duration": 254,
    "start_time": "2025-06-11T06:49:29.063Z"
   },
   {
    "duration": 121,
    "start_time": "2025-06-11T06:49:33.982Z"
   },
   {
    "duration": 41,
    "start_time": "2025-06-11T06:49:34.521Z"
   },
   {
    "duration": 33,
    "start_time": "2025-06-11T06:49:35.863Z"
   },
   {
    "duration": 47,
    "start_time": "2025-06-11T06:49:36.004Z"
   },
   {
    "duration": 13,
    "start_time": "2025-06-11T06:49:36.185Z"
   },
   {
    "duration": 313,
    "start_time": "2025-06-11T06:49:36.501Z"
   },
   {
    "duration": 14,
    "start_time": "2025-06-11T06:49:37.367Z"
   },
   {
    "duration": 9,
    "start_time": "2025-06-11T06:49:37.524Z"
   },
   {
    "duration": 85,
    "start_time": "2025-06-11T06:49:37.901Z"
   },
   {
    "duration": 24,
    "start_time": "2025-06-11T06:49:38.050Z"
   },
   {
    "duration": 14,
    "start_time": "2025-06-11T06:49:38.441Z"
   },
   {
    "duration": 182,
    "start_time": "2025-06-11T06:49:38.762Z"
   },
   {
    "duration": 117,
    "start_time": "2025-06-11T06:49:39.261Z"
   },
   {
    "duration": 33,
    "start_time": "2025-06-11T06:49:39.961Z"
   },
   {
    "duration": 10,
    "start_time": "2025-06-11T06:49:40.099Z"
   },
   {
    "duration": 10,
    "start_time": "2025-06-11T06:49:40.270Z"
   },
   {
    "duration": 165,
    "start_time": "2025-06-11T06:49:40.450Z"
   },
   {
    "duration": 8,
    "start_time": "2025-06-11T06:49:41.001Z"
   },
   {
    "duration": 6,
    "start_time": "2025-06-11T06:49:41.189Z"
   },
   {
    "duration": 569,
    "start_time": "2025-06-11T06:49:42.020Z"
   },
   {
    "duration": 14,
    "start_time": "2025-06-11T06:49:42.600Z"
   },
   {
    "duration": 179,
    "start_time": "2025-06-11T06:49:42.769Z"
   },
   {
    "duration": 54,
    "start_time": "2025-06-11T06:49:43.801Z"
   },
   {
    "duration": 37,
    "start_time": "2025-06-11T06:49:44.404Z"
   },
   {
    "duration": 73,
    "start_time": "2025-06-11T06:49:44.967Z"
   },
   {
    "duration": 28,
    "start_time": "2025-06-11T06:49:45.322Z"
   },
   {
    "duration": 29,
    "start_time": "2025-06-11T06:49:45.853Z"
   },
   {
    "duration": 11,
    "start_time": "2025-06-11T06:49:46.310Z"
   },
   {
    "duration": 73,
    "start_time": "2025-06-11T06:49:46.834Z"
   },
   {
    "duration": 55,
    "start_time": "2025-06-11T06:49:47.221Z"
   },
   {
    "duration": 8,
    "start_time": "2025-06-11T06:49:47.604Z"
   },
   {
    "duration": 254,
    "start_time": "2025-06-11T06:49:47.984Z"
   },
   {
    "duration": 117,
    "start_time": "2025-06-11T06:49:48.699Z"
   },
   {
    "duration": 24,
    "start_time": "2025-06-11T06:49:48.904Z"
   },
   {
    "duration": 4,
    "start_time": "2025-06-11T06:49:49.141Z"
   },
   {
    "duration": 88,
    "start_time": "2025-06-11T06:49:49.509Z"
   },
   {
    "duration": 409,
    "start_time": "2025-06-11T06:49:49.900Z"
   },
   {
    "duration": 3,
    "start_time": "2025-06-11T06:49:50.311Z"
   },
   {
    "duration": 224,
    "start_time": "2025-06-11T06:49:50.316Z"
   },
   {
    "duration": 284,
    "start_time": "2025-06-11T06:49:50.621Z"
   },
   {
    "duration": 42,
    "start_time": "2025-06-11T06:49:51.003Z"
   },
   {
    "duration": 60,
    "start_time": "2025-06-11T06:49:51.801Z"
   },
   {
    "duration": 29,
    "start_time": "2025-06-11T06:49:51.954Z"
   },
   {
    "duration": 10,
    "start_time": "2025-06-11T06:49:52.142Z"
   },
   {
    "duration": 52,
    "start_time": "2025-06-11T06:49:52.521Z"
   },
   {
    "duration": 21,
    "start_time": "2025-06-11T06:49:52.685Z"
   },
   {
    "duration": 4,
    "start_time": "2025-06-11T06:49:53.844Z"
   },
   {
    "duration": 57,
    "start_time": "2025-06-11T06:49:54.101Z"
   },
   {
    "duration": 20,
    "start_time": "2025-06-11T06:49:54.295Z"
   },
   {
    "duration": 26,
    "start_time": "2025-06-11T06:49:54.690Z"
   },
   {
    "duration": 25,
    "start_time": "2025-06-11T06:49:54.834Z"
   },
   {
    "duration": 22,
    "start_time": "2025-06-11T06:49:55.221Z"
   },
   {
    "duration": 4,
    "start_time": "2025-06-11T06:49:55.421Z"
   },
   {
    "duration": 162,
    "start_time": "2025-06-11T06:49:55.621Z"
   },
   {
    "duration": 38,
    "start_time": "2025-06-11T06:49:56.020Z"
   },
   {
    "duration": 7,
    "start_time": "2025-06-11T06:49:56.662Z"
   },
   {
    "duration": 259,
    "start_time": "2025-06-11T06:49:57.044Z"
   },
   {
    "duration": 189,
    "start_time": "2025-06-11T06:49:57.619Z"
   },
   {
    "duration": 16,
    "start_time": "2025-06-11T06:49:58.301Z"
   },
   {
    "duration": 11,
    "start_time": "2025-06-11T06:50:00.049Z"
   },
   {
    "duration": 173,
    "start_time": "2025-06-11T06:57:21.132Z"
   },
   {
    "duration": 167,
    "start_time": "2025-06-11T06:57:33.301Z"
   },
   {
    "duration": 213,
    "start_time": "2025-06-11T07:01:12.261Z"
   },
   {
    "duration": 17,
    "start_time": "2025-06-11T07:03:29.161Z"
   },
   {
    "duration": 307,
    "start_time": "2025-06-11T07:03:30.069Z"
   },
   {
    "duration": 212,
    "start_time": "2025-06-11T07:06:32.749Z"
   },
   {
    "duration": 207,
    "start_time": "2025-06-11T07:06:37.541Z"
   },
   {
    "duration": 305,
    "start_time": "2025-06-11T07:06:49.561Z"
   },
   {
    "duration": 202,
    "start_time": "2025-06-11T07:07:05.889Z"
   },
   {
    "duration": 204,
    "start_time": "2025-06-11T07:07:11.620Z"
   },
   {
    "duration": 203,
    "start_time": "2025-06-11T07:07:17.309Z"
   },
   {
    "duration": 208,
    "start_time": "2025-06-11T07:14:25.258Z"
   },
   {
    "duration": 167,
    "start_time": "2025-06-11T07:14:37.348Z"
   },
   {
    "duration": 149,
    "start_time": "2025-06-11T07:14:46.232Z"
   },
   {
    "duration": 155,
    "start_time": "2025-06-11T07:14:50.863Z"
   },
   {
    "duration": 163,
    "start_time": "2025-06-11T07:14:56.374Z"
   },
   {
    "duration": 163,
    "start_time": "2025-06-11T07:15:04.709Z"
   },
   {
    "duration": 179,
    "start_time": "2025-06-11T07:15:09.241Z"
   },
   {
    "duration": 165,
    "start_time": "2025-06-11T07:15:49.020Z"
   },
   {
    "duration": 184,
    "start_time": "2025-06-11T07:16:00.100Z"
   },
   {
    "duration": 169,
    "start_time": "2025-06-11T07:16:11.621Z"
   },
   {
    "duration": 18877,
    "start_time": "2025-06-11T09:32:46.115Z"
   },
   {
    "duration": 591,
    "start_time": "2025-06-11T09:33:04.995Z"
   },
   {
    "duration": 2170,
    "start_time": "2025-06-11T09:33:05.587Z"
   },
   {
    "duration": 22,
    "start_time": "2025-06-11T09:33:07.760Z"
   },
   {
    "duration": 128,
    "start_time": "2025-06-11T09:33:07.784Z"
   },
   {
    "duration": 54,
    "start_time": "2025-06-11T09:33:07.914Z"
   },
   {
    "duration": 25,
    "start_time": "2025-06-11T09:33:07.970Z"
   },
   {
    "duration": 49,
    "start_time": "2025-06-11T09:33:07.996Z"
   },
   {
    "duration": 6,
    "start_time": "2025-06-11T09:33:08.047Z"
   },
   {
    "duration": 32,
    "start_time": "2025-06-11T09:33:08.056Z"
   },
   {
    "duration": 22,
    "start_time": "2025-06-11T09:33:08.089Z"
   },
   {
    "duration": 16,
    "start_time": "2025-06-11T09:33:08.113Z"
   },
   {
    "duration": 69,
    "start_time": "2025-06-11T09:33:08.131Z"
   },
   {
    "duration": 4,
    "start_time": "2025-06-11T09:33:08.202Z"
   },
   {
    "duration": 74,
    "start_time": "2025-06-11T09:33:08.208Z"
   },
   {
    "duration": 169,
    "start_time": "2025-06-11T09:33:08.284Z"
   },
   {
    "duration": 5,
    "start_time": "2025-06-11T09:33:08.455Z"
   },
   {
    "duration": 19,
    "start_time": "2025-06-11T09:33:08.461Z"
   },
   {
    "duration": 30,
    "start_time": "2025-06-11T09:33:08.482Z"
   },
   {
    "duration": 41,
    "start_time": "2025-06-11T09:33:08.514Z"
   },
   {
    "duration": 17,
    "start_time": "2025-06-11T09:33:08.557Z"
   },
   {
    "duration": 194,
    "start_time": "2025-06-11T09:33:08.576Z"
   },
   {
    "duration": 91,
    "start_time": "2025-06-11T09:33:08.772Z"
   },
   {
    "duration": 41,
    "start_time": "2025-06-11T09:33:08.865Z"
   },
   {
    "duration": 61,
    "start_time": "2025-06-11T09:33:08.908Z"
   },
   {
    "duration": 199,
    "start_time": "2025-06-11T09:33:08.971Z"
   },
   {
    "duration": 112,
    "start_time": "2025-06-11T09:33:09.172Z"
   },
   {
    "duration": 53,
    "start_time": "2025-06-11T09:33:09.287Z"
   },
   {
    "duration": 23,
    "start_time": "2025-06-11T09:33:09.342Z"
   },
   {
    "duration": 78,
    "start_time": "2025-06-11T09:33:09.367Z"
   },
   {
    "duration": 11,
    "start_time": "2025-06-11T09:33:09.446Z"
   },
   {
    "duration": 283,
    "start_time": "2025-06-11T09:33:09.459Z"
   },
   {
    "duration": 9,
    "start_time": "2025-06-11T09:33:09.744Z"
   },
   {
    "duration": 13,
    "start_time": "2025-06-11T09:33:09.754Z"
   },
   {
    "duration": 100,
    "start_time": "2025-06-11T09:33:09.768Z"
   },
   {
    "duration": 18,
    "start_time": "2025-06-11T09:33:09.870Z"
   },
   {
    "duration": 12,
    "start_time": "2025-06-11T09:33:09.890Z"
   },
   {
    "duration": 172,
    "start_time": "2025-06-11T09:33:09.904Z"
   },
   {
    "duration": 129,
    "start_time": "2025-06-11T09:33:10.078Z"
   },
   {
    "duration": 20,
    "start_time": "2025-06-11T09:33:10.209Z"
   },
   {
    "duration": 10,
    "start_time": "2025-06-11T09:33:10.239Z"
   },
   {
    "duration": 22,
    "start_time": "2025-06-11T09:33:10.251Z"
   },
   {
    "duration": 172,
    "start_time": "2025-06-11T09:33:10.275Z"
   },
   {
    "duration": 9,
    "start_time": "2025-06-11T09:33:10.449Z"
   },
   {
    "duration": 11,
    "start_time": "2025-06-11T09:33:10.459Z"
   },
   {
    "duration": 605,
    "start_time": "2025-06-11T09:33:10.472Z"
   },
   {
    "duration": 13,
    "start_time": "2025-06-11T09:33:11.079Z"
   },
   {
    "duration": 207,
    "start_time": "2025-06-11T09:33:11.093Z"
   },
   {
    "duration": 57,
    "start_time": "2025-06-11T09:33:11.303Z"
   },
   {
    "duration": 38,
    "start_time": "2025-06-11T09:33:11.362Z"
   },
   {
    "duration": 149,
    "start_time": "2025-06-11T09:33:11.401Z"
   },
   {
    "duration": 27,
    "start_time": "2025-06-11T09:33:11.553Z"
   },
   {
    "duration": 25,
    "start_time": "2025-06-11T09:33:11.998Z"
   },
   {
    "duration": 12,
    "start_time": "2025-06-11T09:33:12.488Z"
   },
   {
    "duration": 61,
    "start_time": "2025-06-11T09:33:13.231Z"
   },
   {
    "duration": 51,
    "start_time": "2025-06-11T09:33:13.711Z"
   },
   {
    "duration": 7,
    "start_time": "2025-06-11T09:33:14.215Z"
   },
   {
    "duration": 239,
    "start_time": "2025-06-11T09:33:14.514Z"
   },
   {
    "duration": 114,
    "start_time": "2025-06-11T09:33:15.200Z"
   },
   {
    "duration": 25,
    "start_time": "2025-06-11T09:33:15.406Z"
   },
   {
    "duration": 4,
    "start_time": "2025-06-11T09:33:15.573Z"
   },
   {
    "duration": 80,
    "start_time": "2025-06-11T09:33:16.039Z"
   },
   {
    "duration": 413,
    "start_time": "2025-06-11T09:33:16.403Z"
   },
   {
    "duration": 4,
    "start_time": "2025-06-11T09:33:16.819Z"
   },
   {
    "duration": 87,
    "start_time": "2025-06-11T09:33:16.825Z"
   },
   {
    "duration": 312,
    "start_time": "2025-06-11T09:33:17.304Z"
   },
   {
    "duration": 47,
    "start_time": "2025-06-11T09:33:17.760Z"
   },
   {
    "duration": 59,
    "start_time": "2025-06-11T09:33:18.739Z"
   },
   {
    "duration": 20,
    "start_time": "2025-06-11T09:33:18.961Z"
   },
   {
    "duration": 9,
    "start_time": "2025-06-11T09:33:19.200Z"
   },
   {
    "duration": 50,
    "start_time": "2025-06-11T09:33:19.760Z"
   },
   {
    "duration": 22,
    "start_time": "2025-06-11T09:33:20.019Z"
   },
   {
    "duration": 4,
    "start_time": "2025-06-11T09:33:21.249Z"
   },
   {
    "duration": 62,
    "start_time": "2025-06-11T09:33:21.945Z"
   },
   {
    "duration": 15,
    "start_time": "2025-06-11T09:33:22.155Z"
   },
   {
    "duration": 26,
    "start_time": "2025-06-11T09:33:22.448Z"
   },
   {
    "duration": 26,
    "start_time": "2025-06-11T09:33:22.613Z"
   },
   {
    "duration": 17,
    "start_time": "2025-06-11T09:33:22.952Z"
   },
   {
    "duration": 4,
    "start_time": "2025-06-11T09:33:23.119Z"
   },
   {
    "duration": 149,
    "start_time": "2025-06-11T09:33:23.352Z"
   },
   {
    "duration": 39,
    "start_time": "2025-06-11T09:33:23.710Z"
   },
   {
    "duration": 6,
    "start_time": "2025-06-11T09:33:24.243Z"
   },
   {
    "duration": 278,
    "start_time": "2025-06-11T09:33:24.982Z"
   },
   {
    "duration": 18,
    "start_time": "2025-06-11T09:33:25.402Z"
   },
   {
    "duration": 169,
    "start_time": "2025-06-11T09:33:25.855Z"
   },
   {
    "duration": 13,
    "start_time": "2025-06-11T09:33:26.292Z"
   },
   {
    "duration": 11,
    "start_time": "2025-06-11T09:37:26.281Z"
   },
   {
    "duration": 111,
    "start_time": "2025-06-11T09:38:54.798Z"
   },
   {
    "duration": 12,
    "start_time": "2025-06-11T09:40:28.040Z"
   },
   {
    "duration": 79,
    "start_time": "2025-06-11T09:41:15.285Z"
   },
   {
    "duration": 12,
    "start_time": "2025-06-11T09:41:19.672Z"
   },
   {
    "duration": 12,
    "start_time": "2025-06-11T09:41:27.806Z"
   },
   {
    "duration": 12,
    "start_time": "2025-06-11T09:42:04.168Z"
   },
   {
    "duration": 26,
    "start_time": "2025-06-11T09:47:08.231Z"
   },
   {
    "duration": 17,
    "start_time": "2025-06-11T09:47:33.644Z"
   },
   {
    "duration": 13,
    "start_time": "2025-06-11T09:51:35.351Z"
   },
   {
    "duration": 12,
    "start_time": "2025-06-11T09:52:15.956Z"
   },
   {
    "duration": 11,
    "start_time": "2025-06-11T09:52:23.676Z"
   },
   {
    "duration": 11,
    "start_time": "2025-06-11T09:57:40.918Z"
   },
   {
    "duration": 17,
    "start_time": "2025-06-11T09:57:46.510Z"
   },
   {
    "duration": 84,
    "start_time": "2025-06-11T10:02:11.502Z"
   },
   {
    "duration": 16,
    "start_time": "2025-06-11T10:09:20.579Z"
   },
   {
    "duration": 52,
    "start_time": "2025-06-11T10:09:37.543Z"
   },
   {
    "duration": 57,
    "start_time": "2025-06-11T10:09:57.260Z"
   },
   {
    "duration": 33,
    "start_time": "2025-06-11T10:10:49.020Z"
   },
   {
    "duration": 13,
    "start_time": "2025-06-11T10:15:53.511Z"
   },
   {
    "duration": 17,
    "start_time": "2025-06-11T10:21:16.440Z"
   },
   {
    "duration": 9,
    "start_time": "2025-06-11T10:22:40.955Z"
   },
   {
    "duration": 65,
    "start_time": "2025-06-11T10:28:03.820Z"
   },
   {
    "duration": 33,
    "start_time": "2025-06-11T10:28:05.598Z"
   },
   {
    "duration": 10,
    "start_time": "2025-06-11T10:28:18.761Z"
   },
   {
    "duration": 13,
    "start_time": "2025-06-11T10:28:19.771Z"
   },
   {
    "duration": 11,
    "start_time": "2025-06-11T10:32:42.906Z"
   },
   {
    "duration": 12,
    "start_time": "2025-06-11T10:32:50.980Z"
   },
   {
    "duration": 10,
    "start_time": "2025-06-11T10:33:27.601Z"
   },
   {
    "duration": 10,
    "start_time": "2025-06-11T10:33:31.720Z"
   },
   {
    "duration": 11,
    "start_time": "2025-06-11T10:37:59.438Z"
   },
   {
    "duration": 8,
    "start_time": "2025-06-11T10:38:02.099Z"
   },
   {
    "duration": 9,
    "start_time": "2025-06-11T10:38:37.651Z"
   },
   {
    "duration": 8,
    "start_time": "2025-06-11T10:40:59.816Z"
   },
   {
    "duration": 96,
    "start_time": "2025-06-11T10:43:10.458Z"
   },
   {
    "duration": 7,
    "start_time": "2025-06-11T10:43:22.958Z"
   },
   {
    "duration": 8,
    "start_time": "2025-06-11T10:52:04.614Z"
   },
   {
    "duration": 20,
    "start_time": "2025-06-11T11:01:50.784Z"
   },
   {
    "duration": 14,
    "start_time": "2025-06-11T11:02:30.956Z"
   },
   {
    "duration": 15,
    "start_time": "2025-06-11T11:07:27.876Z"
   },
   {
    "duration": 23,
    "start_time": "2025-06-11T11:10:00.289Z"
   },
   {
    "duration": 246,
    "start_time": "2025-06-11T11:11:51.915Z"
   },
   {
    "duration": 240,
    "start_time": "2025-06-11T11:13:36.836Z"
   },
   {
    "duration": 13,
    "start_time": "2025-06-11T11:29:42.075Z"
   },
   {
    "duration": 8415,
    "start_time": "2025-06-11T12:09:16.303Z"
   },
   {
    "duration": 565,
    "start_time": "2025-06-11T12:09:24.721Z"
   },
   {
    "duration": 2096,
    "start_time": "2025-06-11T12:09:25.287Z"
   },
   {
    "duration": 22,
    "start_time": "2025-06-11T12:09:27.386Z"
   },
   {
    "duration": 141,
    "start_time": "2025-06-11T12:09:27.410Z"
   },
   {
    "duration": 69,
    "start_time": "2025-06-11T12:09:27.553Z"
   },
   {
    "duration": 24,
    "start_time": "2025-06-11T12:09:27.640Z"
   },
   {
    "duration": 32,
    "start_time": "2025-06-11T12:09:27.666Z"
   },
   {
    "duration": 23,
    "start_time": "2025-06-11T12:09:27.699Z"
   },
   {
    "duration": 22,
    "start_time": "2025-06-11T12:09:27.725Z"
   },
   {
    "duration": 20,
    "start_time": "2025-06-11T12:09:27.749Z"
   },
   {
    "duration": 17,
    "start_time": "2025-06-11T12:09:27.771Z"
   },
   {
    "duration": 97,
    "start_time": "2025-06-11T12:09:27.789Z"
   },
   {
    "duration": 5,
    "start_time": "2025-06-11T12:09:27.888Z"
   },
   {
    "duration": 157,
    "start_time": "2025-06-11T12:09:27.895Z"
   },
   {
    "duration": 155,
    "start_time": "2025-06-11T12:09:28.054Z"
   },
   {
    "duration": 4,
    "start_time": "2025-06-11T12:09:28.211Z"
   },
   {
    "duration": 35,
    "start_time": "2025-06-11T12:09:28.216Z"
   },
   {
    "duration": 30,
    "start_time": "2025-06-11T12:09:28.252Z"
   },
   {
    "duration": 32,
    "start_time": "2025-06-11T12:09:28.283Z"
   },
   {
    "duration": 19,
    "start_time": "2025-06-11T12:09:28.317Z"
   },
   {
    "duration": 163,
    "start_time": "2025-06-11T12:09:28.339Z"
   },
   {
    "duration": 87,
    "start_time": "2025-06-11T12:09:28.503Z"
   },
   {
    "duration": 50,
    "start_time": "2025-06-11T12:09:28.591Z"
   },
   {
    "duration": 21,
    "start_time": "2025-06-11T12:09:28.644Z"
   },
   {
    "duration": 229,
    "start_time": "2025-06-11T12:09:28.667Z"
   },
   {
    "duration": 110,
    "start_time": "2025-06-11T12:09:28.898Z"
   },
   {
    "duration": 62,
    "start_time": "2025-06-11T12:09:29.012Z"
   },
   {
    "duration": 24,
    "start_time": "2025-06-11T12:09:29.075Z"
   },
   {
    "duration": 75,
    "start_time": "2025-06-11T12:09:29.100Z"
   },
   {
    "duration": 12,
    "start_time": "2025-06-11T12:09:29.177Z"
   },
   {
    "duration": 300,
    "start_time": "2025-06-11T12:09:29.190Z"
   },
   {
    "duration": 8,
    "start_time": "2025-06-11T12:09:29.492Z"
   },
   {
    "duration": 8,
    "start_time": "2025-06-11T12:09:29.503Z"
   },
   {
    "duration": 76,
    "start_time": "2025-06-11T12:09:29.599Z"
   },
   {
    "duration": 18,
    "start_time": "2025-06-11T12:09:29.792Z"
   },
   {
    "duration": 13,
    "start_time": "2025-06-11T12:09:30.143Z"
   },
   {
    "duration": 146,
    "start_time": "2025-06-11T12:09:30.598Z"
   },
   {
    "duration": 113,
    "start_time": "2025-06-11T12:09:31.069Z"
   },
   {
    "duration": 19,
    "start_time": "2025-06-11T12:09:31.831Z"
   },
   {
    "duration": 25,
    "start_time": "2025-06-11T12:09:31.968Z"
   },
   {
    "duration": 8,
    "start_time": "2025-06-11T12:09:32.118Z"
   },
   {
    "duration": 160,
    "start_time": "2025-06-11T12:09:32.283Z"
   },
   {
    "duration": 7,
    "start_time": "2025-06-11T12:09:32.809Z"
   },
   {
    "duration": 5,
    "start_time": "2025-06-11T12:09:32.968Z"
   },
   {
    "duration": 554,
    "start_time": "2025-06-11T12:09:33.568Z"
   },
   {
    "duration": 22,
    "start_time": "2025-06-11T12:09:34.124Z"
   },
   {
    "duration": 169,
    "start_time": "2025-06-11T12:09:34.148Z"
   },
   {
    "duration": 53,
    "start_time": "2025-06-11T12:09:34.752Z"
   },
   {
    "duration": 38,
    "start_time": "2025-06-11T12:09:35.199Z"
   },
   {
    "duration": 54,
    "start_time": "2025-06-11T12:09:35.756Z"
   },
   {
    "duration": 28,
    "start_time": "2025-06-11T12:09:36.201Z"
   },
   {
    "duration": 26,
    "start_time": "2025-06-11T12:09:36.501Z"
   },
   {
    "duration": 11,
    "start_time": "2025-06-11T12:09:36.814Z"
   },
   {
    "duration": 62,
    "start_time": "2025-06-11T12:09:37.410Z"
   },
   {
    "duration": 52,
    "start_time": "2025-06-11T12:09:37.718Z"
   },
   {
    "duration": 8,
    "start_time": "2025-06-11T12:09:38.158Z"
   },
   {
    "duration": 237,
    "start_time": "2025-06-11T12:09:38.471Z"
   },
   {
    "duration": 118,
    "start_time": "2025-06-11T12:09:39.138Z"
   },
   {
    "duration": 26,
    "start_time": "2025-06-11T12:09:39.288Z"
   },
   {
    "duration": 5,
    "start_time": "2025-06-11T12:09:39.479Z"
   },
   {
    "duration": 80,
    "start_time": "2025-06-11T12:09:39.797Z"
   },
   {
    "duration": 366,
    "start_time": "2025-06-11T12:09:40.151Z"
   },
   {
    "duration": 4,
    "start_time": "2025-06-11T12:09:40.519Z"
   },
   {
    "duration": 83,
    "start_time": "2025-06-11T12:09:40.524Z"
   },
   {
    "duration": 300,
    "start_time": "2025-06-11T12:09:40.818Z"
   },
   {
    "duration": 53,
    "start_time": "2025-06-11T12:09:41.121Z"
   },
   {
    "duration": 59,
    "start_time": "2025-06-11T12:09:41.717Z"
   },
   {
    "duration": 20,
    "start_time": "2025-06-11T12:09:41.873Z"
   },
   {
    "duration": 9,
    "start_time": "2025-06-11T12:09:42.151Z"
   },
   {
    "duration": 47,
    "start_time": "2025-06-11T12:09:42.485Z"
   },
   {
    "duration": 22,
    "start_time": "2025-06-11T12:09:42.623Z"
   },
   {
    "duration": 4,
    "start_time": "2025-06-11T12:09:43.423Z"
   },
   {
    "duration": 61,
    "start_time": "2025-06-11T12:09:43.547Z"
   },
   {
    "duration": 16,
    "start_time": "2025-06-11T12:09:43.687Z"
   },
   {
    "duration": 25,
    "start_time": "2025-06-11T12:09:43.997Z"
   },
   {
    "duration": 26,
    "start_time": "2025-06-11T12:09:44.338Z"
   },
   {
    "duration": 16,
    "start_time": "2025-06-11T12:09:44.653Z"
   },
   {
    "duration": 5,
    "start_time": "2025-06-11T12:09:44.808Z"
   },
   {
    "duration": 141,
    "start_time": "2025-06-11T12:09:44.991Z"
   },
   {
    "duration": 38,
    "start_time": "2025-06-11T12:09:45.303Z"
   },
   {
    "duration": 5,
    "start_time": "2025-06-11T12:09:45.783Z"
   },
   {
    "duration": 258,
    "start_time": "2025-06-11T12:09:46.103Z"
   },
   {
    "duration": 17,
    "start_time": "2025-06-11T12:09:46.588Z"
   },
   {
    "duration": 169,
    "start_time": "2025-06-11T12:09:46.926Z"
   },
   {
    "duration": 10,
    "start_time": "2025-06-11T12:09:47.263Z"
   },
   {
    "duration": 56,
    "start_time": "2025-06-11T12:09:47.911Z"
   },
   {
    "duration": 131,
    "start_time": "2025-06-11T12:09:48.068Z"
   },
   {
    "duration": 11,
    "start_time": "2025-06-11T12:09:48.245Z"
   },
   {
    "duration": 9,
    "start_time": "2025-06-11T12:09:48.568Z"
   },
   {
    "duration": 22,
    "start_time": "2025-06-11T12:09:49.402Z"
   },
   {
    "duration": 11,
    "start_time": "2025-06-11T12:09:49.778Z"
   },
   {
    "duration": 247,
    "start_time": "2025-06-11T12:09:50.273Z"
   },
   {
    "duration": 25,
    "start_time": "2025-06-11T12:11:04.407Z"
   },
   {
    "duration": 7,
    "start_time": "2025-06-11T12:21:29.597Z"
   },
   {
    "duration": 81,
    "start_time": "2025-06-11T12:27:04.723Z"
   },
   {
    "duration": 12,
    "start_time": "2025-06-11T12:27:25.591Z"
   },
   {
    "duration": 9,
    "start_time": "2025-06-11T12:27:37.798Z"
   },
   {
    "duration": 71,
    "start_time": "2025-06-11T12:46:39.280Z"
   },
   {
    "duration": 25,
    "start_time": "2025-06-11T12:49:12.497Z"
   },
   {
    "duration": 11,
    "start_time": "2025-06-11T12:51:48.176Z"
   },
   {
    "duration": 163,
    "start_time": "2025-06-11T13:05:25.042Z"
   },
   {
    "duration": 154,
    "start_time": "2025-06-11T13:05:47.026Z"
   },
   {
    "duration": 170,
    "start_time": "2025-06-11T13:09:51.943Z"
   },
   {
    "duration": 149,
    "start_time": "2025-06-11T13:10:02.472Z"
   },
   {
    "duration": 285,
    "start_time": "2025-06-11T13:10:10.212Z"
   },
   {
    "duration": 251,
    "start_time": "2025-06-11T13:10:18.709Z"
   },
   {
    "duration": 152,
    "start_time": "2025-06-11T13:10:26.721Z"
   },
   {
    "duration": 153,
    "start_time": "2025-06-11T13:10:35.495Z"
   },
   {
    "duration": 132,
    "start_time": "2025-06-11T13:11:49.121Z"
   },
   {
    "duration": 159,
    "start_time": "2025-06-11T13:12:56.140Z"
   },
   {
    "duration": 148,
    "start_time": "2025-06-11T13:13:04.557Z"
   },
   {
    "duration": 136,
    "start_time": "2025-06-11T13:13:23.292Z"
   },
   {
    "duration": 8057,
    "start_time": "2025-06-11T14:06:52.122Z"
   },
   {
    "duration": 549,
    "start_time": "2025-06-11T14:07:00.182Z"
   },
   {
    "duration": 1996,
    "start_time": "2025-06-11T14:07:00.732Z"
   },
   {
    "duration": 28,
    "start_time": "2025-06-11T14:07:02.731Z"
   },
   {
    "duration": 143,
    "start_time": "2025-06-11T14:07:02.760Z"
   },
   {
    "duration": 57,
    "start_time": "2025-06-11T14:07:02.906Z"
   },
   {
    "duration": 38,
    "start_time": "2025-06-11T14:07:02.965Z"
   },
   {
    "duration": 49,
    "start_time": "2025-06-11T14:07:03.005Z"
   },
   {
    "duration": 9,
    "start_time": "2025-06-11T14:07:03.057Z"
   },
   {
    "duration": 21,
    "start_time": "2025-06-11T14:07:03.070Z"
   },
   {
    "duration": 14,
    "start_time": "2025-06-11T14:07:03.092Z"
   },
   {
    "duration": 34,
    "start_time": "2025-06-11T14:07:03.107Z"
   },
   {
    "duration": 139,
    "start_time": "2025-06-11T14:07:03.143Z"
   },
   {
    "duration": 7,
    "start_time": "2025-06-11T14:07:03.284Z"
   },
   {
    "duration": 87,
    "start_time": "2025-06-11T14:07:03.293Z"
   },
   {
    "duration": 163,
    "start_time": "2025-06-11T14:07:03.382Z"
   },
   {
    "duration": 4,
    "start_time": "2025-06-11T14:07:03.547Z"
   },
   {
    "duration": 40,
    "start_time": "2025-06-11T14:07:03.553Z"
   },
   {
    "duration": 109,
    "start_time": "2025-06-11T14:07:03.594Z"
   },
   {
    "duration": 60,
    "start_time": "2025-06-11T14:07:03.705Z"
   },
   {
    "duration": 37,
    "start_time": "2025-06-11T14:07:03.767Z"
   },
   {
    "duration": 154,
    "start_time": "2025-06-11T14:07:03.806Z"
   },
   {
    "duration": 89,
    "start_time": "2025-06-11T14:07:03.961Z"
   },
   {
    "duration": 41,
    "start_time": "2025-06-11T14:07:04.051Z"
   },
   {
    "duration": 18,
    "start_time": "2025-06-11T14:07:04.094Z"
   },
   {
    "duration": 209,
    "start_time": "2025-06-11T14:07:04.140Z"
   },
   {
    "duration": 127,
    "start_time": "2025-06-11T14:07:04.351Z"
   },
   {
    "duration": 66,
    "start_time": "2025-06-11T14:07:04.481Z"
   },
   {
    "duration": 229,
    "start_time": "2025-06-11T14:07:04.549Z"
   },
   {
    "duration": 63,
    "start_time": "2025-06-11T14:07:04.779Z"
   },
   {
    "duration": 17,
    "start_time": "2025-06-11T14:07:04.844Z"
   },
   {
    "duration": 316,
    "start_time": "2025-06-11T14:07:04.863Z"
   },
   {
    "duration": 11,
    "start_time": "2025-06-11T14:07:05.181Z"
   },
   {
    "duration": 84,
    "start_time": "2025-06-11T14:07:05.194Z"
   },
   {
    "duration": 173,
    "start_time": "2025-06-11T14:07:05.280Z"
   },
   {
    "duration": 18,
    "start_time": "2025-06-11T14:07:05.455Z"
   },
   {
    "duration": 50,
    "start_time": "2025-06-11T14:07:05.474Z"
   },
   {
    "duration": 197,
    "start_time": "2025-06-11T14:07:05.527Z"
   },
   {
    "duration": 121,
    "start_time": "2025-06-11T14:07:05.726Z"
   },
   {
    "duration": 20,
    "start_time": "2025-06-11T14:07:05.940Z"
   },
   {
    "duration": 9,
    "start_time": "2025-06-11T14:07:06.085Z"
   },
   {
    "duration": 8,
    "start_time": "2025-06-11T14:07:06.235Z"
   },
   {
    "duration": 155,
    "start_time": "2025-06-11T14:07:06.409Z"
   },
   {
    "duration": 8,
    "start_time": "2025-06-11T14:07:06.866Z"
   },
   {
    "duration": 6,
    "start_time": "2025-06-11T14:07:07.035Z"
   },
   {
    "duration": 559,
    "start_time": "2025-06-11T14:07:07.724Z"
   },
   {
    "duration": 13,
    "start_time": "2025-06-11T14:07:08.285Z"
   },
   {
    "duration": 180,
    "start_time": "2025-06-11T14:07:08.300Z"
   },
   {
    "duration": 56,
    "start_time": "2025-06-11T14:07:09.065Z"
   },
   {
    "duration": 40,
    "start_time": "2025-06-11T14:07:09.551Z"
   },
   {
    "duration": 217,
    "start_time": "2025-06-11T14:07:10.002Z"
   },
   {
    "duration": 27,
    "start_time": "2025-06-11T14:07:10.437Z"
   },
   {
    "duration": 26,
    "start_time": "2025-06-11T14:07:10.766Z"
   },
   {
    "duration": 9,
    "start_time": "2025-06-11T14:07:11.057Z"
   },
   {
    "duration": 65,
    "start_time": "2025-06-11T14:07:11.551Z"
   },
   {
    "duration": 51,
    "start_time": "2025-06-11T14:07:11.852Z"
   },
   {
    "duration": 8,
    "start_time": "2025-06-11T14:07:12.201Z"
   },
   {
    "duration": 239,
    "start_time": "2025-06-11T14:07:12.525Z"
   },
   {
    "duration": 101,
    "start_time": "2025-06-11T14:07:13.151Z"
   },
   {
    "duration": 37,
    "start_time": "2025-06-11T14:07:13.467Z"
   },
   {
    "duration": 4,
    "start_time": "2025-06-11T14:07:13.636Z"
   },
   {
    "duration": 80,
    "start_time": "2025-06-11T14:07:13.980Z"
   },
   {
    "duration": 372,
    "start_time": "2025-06-11T14:07:14.315Z"
   },
   {
    "duration": 4,
    "start_time": "2025-06-11T14:07:14.689Z"
   },
   {
    "duration": 71,
    "start_time": "2025-06-11T14:07:14.744Z"
   },
   {
    "duration": 283,
    "start_time": "2025-06-11T14:07:15.152Z"
   },
   {
    "duration": 46,
    "start_time": "2025-06-11T14:07:15.551Z"
   },
   {
    "duration": 58,
    "start_time": "2025-06-11T14:07:16.316Z"
   },
   {
    "duration": 18,
    "start_time": "2025-06-11T14:07:16.505Z"
   },
   {
    "duration": 8,
    "start_time": "2025-06-11T14:07:16.655Z"
   },
   {
    "duration": 51,
    "start_time": "2025-06-11T14:07:16.950Z"
   },
   {
    "duration": 23,
    "start_time": "2025-06-11T14:07:17.105Z"
   },
   {
    "duration": 5,
    "start_time": "2025-06-11T14:07:17.966Z"
   },
   {
    "duration": 64,
    "start_time": "2025-06-11T14:07:18.160Z"
   },
   {
    "duration": 18,
    "start_time": "2025-06-11T14:07:18.321Z"
   },
   {
    "duration": 26,
    "start_time": "2025-06-11T14:07:18.665Z"
   },
   {
    "duration": 26,
    "start_time": "2025-06-11T14:07:18.851Z"
   },
   {
    "duration": 16,
    "start_time": "2025-06-11T14:07:19.201Z"
   },
   {
    "duration": 5,
    "start_time": "2025-06-11T14:07:19.409Z"
   },
   {
    "duration": 137,
    "start_time": "2025-06-11T14:07:19.586Z"
   },
   {
    "duration": 39,
    "start_time": "2025-06-11T14:07:19.966Z"
   },
   {
    "duration": 5,
    "start_time": "2025-06-11T14:07:20.535Z"
   },
   {
    "duration": 271,
    "start_time": "2025-06-11T14:07:20.915Z"
   },
   {
    "duration": 18,
    "start_time": "2025-06-11T14:07:21.300Z"
   },
   {
    "duration": 169,
    "start_time": "2025-06-11T14:07:21.655Z"
   },
   {
    "duration": 11,
    "start_time": "2025-06-11T14:07:22.016Z"
   },
   {
    "duration": 55,
    "start_time": "2025-06-11T14:07:22.805Z"
   },
   {
    "duration": 47,
    "start_time": "2025-06-11T14:07:22.956Z"
   },
   {
    "duration": 10,
    "start_time": "2025-06-11T14:07:23.125Z"
   },
   {
    "duration": 9,
    "start_time": "2025-06-11T14:07:23.503Z"
   },
   {
    "duration": 21,
    "start_time": "2025-06-11T14:07:24.501Z"
   },
   {
    "duration": 11,
    "start_time": "2025-06-11T14:07:24.910Z"
   },
   {
    "duration": 259,
    "start_time": "2025-06-11T14:07:25.451Z"
   },
   {
    "duration": 7,
    "start_time": "2025-06-11T14:07:26.235Z"
   },
   {
    "duration": 9,
    "start_time": "2025-06-11T14:07:26.915Z"
   },
   {
    "duration": 26,
    "start_time": "2025-06-11T14:07:27.471Z"
   },
   {
    "duration": 132,
    "start_time": "2025-06-11T14:07:28.029Z"
   }
  ],
  "colab": {
   "provenance": []
  },
  "kernelspec": {
   "display_name": "Python 3 (ipykernel)",
   "language": "python",
   "name": "python3"
  },
  "language_info": {
   "codemirror_mode": {
    "name": "ipython",
    "version": 3
   },
   "file_extension": ".py",
   "mimetype": "text/x-python",
   "name": "python",
   "nbconvert_exporter": "python",
   "pygments_lexer": "ipython3",
   "version": "3.9.5"
  },
  "toc": {
   "base_numbering": 1,
   "nav_menu": {},
   "number_sections": true,
   "sideBar": true,
   "skip_h1_title": true,
   "title_cell": "Table of Contents",
   "title_sidebar": "Contents",
   "toc_cell": false,
   "toc_position": {},
   "toc_section_display": true,
   "toc_window_display": true
  }
 },
 "nbformat": 4,
 "nbformat_minor": 1
}
